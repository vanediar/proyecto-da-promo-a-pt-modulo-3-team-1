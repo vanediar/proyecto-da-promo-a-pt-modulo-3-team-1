{
 "cells": [
  {
   "cell_type": "code",
   "execution_count": 3,
   "metadata": {},
   "outputs": [],
   "source": [
    "import numpy as np\n",
    "import pandas as pd"
   ]
  },
  {
   "cell_type": "code",
   "execution_count": 4,
   "metadata": {},
   "outputs": [
    {
     "data": {
      "text/html": [
       "<div>\n",
       "<style scoped>\n",
       "    .dataframe tbody tr th:only-of-type {\n",
       "        vertical-align: middle;\n",
       "    }\n",
       "\n",
       "    .dataframe tbody tr th {\n",
       "        vertical-align: top;\n",
       "    }\n",
       "\n",
       "    .dataframe thead th {\n",
       "        text-align: right;\n",
       "    }\n",
       "</style>\n",
       "<table border=\"1\" class=\"dataframe\">\n",
       "  <thead>\n",
       "    <tr style=\"text-align: right;\">\n",
       "      <th></th>\n",
       "      <th>Unnamed: 0</th>\n",
       "      <th>Age</th>\n",
       "      <th>Attrition</th>\n",
       "      <th>BusinessTravel</th>\n",
       "      <th>DailyRate</th>\n",
       "      <th>Department</th>\n",
       "      <th>DistanceFromHome</th>\n",
       "      <th>Education</th>\n",
       "      <th>EducationField</th>\n",
       "      <th>employeecount</th>\n",
       "      <th>...</th>\n",
       "      <th>YearsAtCompany</th>\n",
       "      <th>YearsInCurrentRole</th>\n",
       "      <th>YearsSinceLastPromotion</th>\n",
       "      <th>YEARSWITHCURRMANAGER</th>\n",
       "      <th>SameAsMonthlyIncome</th>\n",
       "      <th>DateBirth</th>\n",
       "      <th>Salary</th>\n",
       "      <th>RoleDepartament</th>\n",
       "      <th>NUMBERCHILDREN</th>\n",
       "      <th>RemoteWork</th>\n",
       "    </tr>\n",
       "  </thead>\n",
       "  <tbody>\n",
       "    <tr>\n",
       "      <th>0</th>\n",
       "      <td>0</td>\n",
       "      <td>51</td>\n",
       "      <td>No</td>\n",
       "      <td>NaN</td>\n",
       "      <td>684,0$</td>\n",
       "      <td>NaN</td>\n",
       "      <td>6</td>\n",
       "      <td>3</td>\n",
       "      <td>NaN</td>\n",
       "      <td>1</td>\n",
       "      <td>...</td>\n",
       "      <td>20</td>\n",
       "      <td>NaN</td>\n",
       "      <td>15</td>\n",
       "      <td>15</td>\n",
       "      <td>19537,0</td>\n",
       "      <td>1972</td>\n",
       "      <td>1000000000$</td>\n",
       "      <td>NaN</td>\n",
       "      <td>NaN</td>\n",
       "      <td>Yes</td>\n",
       "    </tr>\n",
       "    <tr>\n",
       "      <th>1</th>\n",
       "      <td>1</td>\n",
       "      <td>52</td>\n",
       "      <td>No</td>\n",
       "      <td>NaN</td>\n",
       "      <td>699,0$</td>\n",
       "      <td>NaN</td>\n",
       "      <td>1</td>\n",
       "      <td>4</td>\n",
       "      <td>Life Sciences</td>\n",
       "      <td>1</td>\n",
       "      <td>...</td>\n",
       "      <td>33</td>\n",
       "      <td>NaN</td>\n",
       "      <td>11</td>\n",
       "      <td>9</td>\n",
       "      <td>19999,0</td>\n",
       "      <td>1971</td>\n",
       "      <td>1000000000$</td>\n",
       "      <td>NaN</td>\n",
       "      <td>NaN</td>\n",
       "      <td>1</td>\n",
       "    </tr>\n",
       "    <tr>\n",
       "      <th>2</th>\n",
       "      <td>2</td>\n",
       "      <td>42</td>\n",
       "      <td>No</td>\n",
       "      <td>travel_rarely</td>\n",
       "      <td>532,0$</td>\n",
       "      <td>Research &amp; Development</td>\n",
       "      <td>4</td>\n",
       "      <td>2</td>\n",
       "      <td>Technical Degree</td>\n",
       "      <td>1</td>\n",
       "      <td>...</td>\n",
       "      <td>22</td>\n",
       "      <td>NaN</td>\n",
       "      <td>11</td>\n",
       "      <td>15</td>\n",
       "      <td>19232,0</td>\n",
       "      <td>1981</td>\n",
       "      <td>1000000000$</td>\n",
       "      <td>ManaGER  -  Research &amp; Development</td>\n",
       "      <td>NaN</td>\n",
       "      <td>1</td>\n",
       "    </tr>\n",
       "    <tr>\n",
       "      <th>3</th>\n",
       "      <td>3</td>\n",
       "      <td>47</td>\n",
       "      <td>No</td>\n",
       "      <td>travel_rarely</td>\n",
       "      <td>359,0$</td>\n",
       "      <td>NaN</td>\n",
       "      <td>2</td>\n",
       "      <td>4</td>\n",
       "      <td>Medical</td>\n",
       "      <td>1</td>\n",
       "      <td>...</td>\n",
       "      <td>20</td>\n",
       "      <td>NaN</td>\n",
       "      <td>5</td>\n",
       "      <td>6</td>\n",
       "      <td>17169,0</td>\n",
       "      <td>1976</td>\n",
       "      <td>1000000000$</td>\n",
       "      <td>NaN</td>\n",
       "      <td>NaN</td>\n",
       "      <td>False</td>\n",
       "    </tr>\n",
       "    <tr>\n",
       "      <th>4</th>\n",
       "      <td>4</td>\n",
       "      <td>46</td>\n",
       "      <td>No</td>\n",
       "      <td>NaN</td>\n",
       "      <td>1319,0$</td>\n",
       "      <td>NaN</td>\n",
       "      <td>3</td>\n",
       "      <td>3</td>\n",
       "      <td>Technical Degree</td>\n",
       "      <td>1</td>\n",
       "      <td>...</td>\n",
       "      <td>19</td>\n",
       "      <td>NaN</td>\n",
       "      <td>2</td>\n",
       "      <td>8</td>\n",
       "      <td>NaN</td>\n",
       "      <td>1977</td>\n",
       "      <td>1000000000$</td>\n",
       "      <td>NaN</td>\n",
       "      <td>NaN</td>\n",
       "      <td>0</td>\n",
       "    </tr>\n",
       "  </tbody>\n",
       "</table>\n",
       "<p>5 rows × 42 columns</p>\n",
       "</div>"
      ],
      "text/plain": [
       "   Unnamed: 0 Age Attrition BusinessTravel DailyRate  \\\n",
       "0           0  51        No            NaN    684,0$   \n",
       "1           1  52        No            NaN    699,0$   \n",
       "2           2  42        No  travel_rarely    532,0$   \n",
       "3           3  47        No  travel_rarely    359,0$   \n",
       "4           4  46        No            NaN   1319,0$   \n",
       "\n",
       "                 Department  DistanceFromHome  Education    EducationField  \\\n",
       "0                       NaN                 6          3               NaN   \n",
       "1                       NaN                 1          4     Life Sciences   \n",
       "2   Research & Development                  4          2  Technical Degree   \n",
       "3                       NaN                 2          4           Medical   \n",
       "4                       NaN                 3          3  Technical Degree   \n",
       "\n",
       "   employeecount  ... YearsAtCompany  YearsInCurrentRole  \\\n",
       "0              1  ...             20                 NaN   \n",
       "1              1  ...             33                 NaN   \n",
       "2              1  ...             22                 NaN   \n",
       "3              1  ...             20                 NaN   \n",
       "4              1  ...             19                 NaN   \n",
       "\n",
       "   YearsSinceLastPromotion YEARSWITHCURRMANAGER  SameAsMonthlyIncome  \\\n",
       "0                       15                   15              19537,0   \n",
       "1                       11                    9              19999,0   \n",
       "2                       11                   15              19232,0   \n",
       "3                        5                    6              17169,0   \n",
       "4                        2                    8                  NaN   \n",
       "\n",
       "   DateBirth       Salary                       RoleDepartament  \\\n",
       "0       1972  1000000000$                                   NaN   \n",
       "1       1971  1000000000$                                   NaN   \n",
       "2       1981  1000000000$   ManaGER  -  Research & Development    \n",
       "3       1976  1000000000$                                   NaN   \n",
       "4       1977  1000000000$                                   NaN   \n",
       "\n",
       "  NUMBERCHILDREN RemoteWork  \n",
       "0            NaN        Yes  \n",
       "1            NaN          1  \n",
       "2            NaN          1  \n",
       "3            NaN      False  \n",
       "4            NaN          0  \n",
       "\n",
       "[5 rows x 42 columns]"
      ]
     },
     "execution_count": 4,
     "metadata": {},
     "output_type": "execute_result"
    }
   ],
   "source": [
    "df = pd.read_csv('HR RAW DATA.csv')\n",
    "df.head()"
   ]
  },
  {
   "cell_type": "markdown",
   "metadata": {},
   "source": [
    "`Nombre de las columnas`"
   ]
  },
  {
   "cell_type": "code",
   "execution_count": 5,
   "metadata": {},
   "outputs": [
    {
     "data": {
      "text/plain": [
       "Index(['Unnamed: 0', 'Age', 'Attrition', 'BusinessTravel', 'DailyRate',\n",
       "       'Department', 'DistanceFromHome', 'Education', 'EducationField',\n",
       "       'employeecount', 'employeenumber', 'EnvironmentSatisfaction', 'Gender',\n",
       "       'HourlyRate', 'JobInvolvement', 'JobLevel', 'JobRole',\n",
       "       'JobSatisfaction', 'MaritalStatus', 'MonthlyIncome', 'MonthlyRate',\n",
       "       'NUMCOMPANIESWORKED', 'Over18', 'OverTime', 'PercentSalaryHike',\n",
       "       'PerformanceRating', 'RelationshipSatisfaction', 'StandardHours',\n",
       "       'StockOptionLevel', 'TOTALWORKINGYEARS', 'TrainingTimesLastYear',\n",
       "       'WORKLIFEBALANCE', 'YearsAtCompany', 'YearsInCurrentRole',\n",
       "       'YearsSinceLastPromotion', 'YEARSWITHCURRMANAGER',\n",
       "       'SameAsMonthlyIncome', 'DateBirth', 'Salary', 'RoleDepartament',\n",
       "       'NUMBERCHILDREN', 'RemoteWork'],\n",
       "      dtype='object')"
      ]
     },
     "execution_count": 5,
     "metadata": {},
     "output_type": "execute_result"
    }
   ],
   "source": [
    "df.columns"
   ]
  },
  {
   "cell_type": "code",
   "execution_count": 6,
   "metadata": {},
   "outputs": [
    {
     "data": {
      "text/html": [
       "<div>\n",
       "<style scoped>\n",
       "    .dataframe tbody tr th:only-of-type {\n",
       "        vertical-align: middle;\n",
       "    }\n",
       "\n",
       "    .dataframe tbody tr th {\n",
       "        vertical-align: top;\n",
       "    }\n",
       "\n",
       "    .dataframe thead th {\n",
       "        text-align: right;\n",
       "    }\n",
       "</style>\n",
       "<table border=\"1\" class=\"dataframe\">\n",
       "  <thead>\n",
       "    <tr style=\"text-align: right;\">\n",
       "      <th></th>\n",
       "      <th>count</th>\n",
       "      <th>unique</th>\n",
       "      <th>top</th>\n",
       "      <th>freq</th>\n",
       "      <th>mean</th>\n",
       "      <th>std</th>\n",
       "      <th>min</th>\n",
       "      <th>25%</th>\n",
       "      <th>50%</th>\n",
       "      <th>75%</th>\n",
       "      <th>max</th>\n",
       "    </tr>\n",
       "  </thead>\n",
       "  <tbody>\n",
       "    <tr>\n",
       "      <th>Unnamed: 0</th>\n",
       "      <td>1614.0</td>\n",
       "      <td>NaN</td>\n",
       "      <td>NaN</td>\n",
       "      <td>NaN</td>\n",
       "      <td>806.5</td>\n",
       "      <td>466.065982</td>\n",
       "      <td>0.0</td>\n",
       "      <td>403.25</td>\n",
       "      <td>806.5</td>\n",
       "      <td>1209.75</td>\n",
       "      <td>1613.0</td>\n",
       "    </tr>\n",
       "    <tr>\n",
       "      <th>Age</th>\n",
       "      <td>1614</td>\n",
       "      <td>54</td>\n",
       "      <td>35</td>\n",
       "      <td>84</td>\n",
       "      <td>NaN</td>\n",
       "      <td>NaN</td>\n",
       "      <td>NaN</td>\n",
       "      <td>NaN</td>\n",
       "      <td>NaN</td>\n",
       "      <td>NaN</td>\n",
       "      <td>NaN</td>\n",
       "    </tr>\n",
       "    <tr>\n",
       "      <th>Attrition</th>\n",
       "      <td>1614</td>\n",
       "      <td>2</td>\n",
       "      <td>No</td>\n",
       "      <td>1355</td>\n",
       "      <td>NaN</td>\n",
       "      <td>NaN</td>\n",
       "      <td>NaN</td>\n",
       "      <td>NaN</td>\n",
       "      <td>NaN</td>\n",
       "      <td>NaN</td>\n",
       "      <td>NaN</td>\n",
       "    </tr>\n",
       "    <tr>\n",
       "      <th>BusinessTravel</th>\n",
       "      <td>842</td>\n",
       "      <td>3</td>\n",
       "      <td>travel_rarely</td>\n",
       "      <td>586</td>\n",
       "      <td>NaN</td>\n",
       "      <td>NaN</td>\n",
       "      <td>NaN</td>\n",
       "      <td>NaN</td>\n",
       "      <td>NaN</td>\n",
       "      <td>NaN</td>\n",
       "      <td>NaN</td>\n",
       "    </tr>\n",
       "    <tr>\n",
       "      <th>DailyRate</th>\n",
       "      <td>1614</td>\n",
       "      <td>849</td>\n",
       "      <td>nan$</td>\n",
       "      <td>124</td>\n",
       "      <td>NaN</td>\n",
       "      <td>NaN</td>\n",
       "      <td>NaN</td>\n",
       "      <td>NaN</td>\n",
       "      <td>NaN</td>\n",
       "      <td>NaN</td>\n",
       "      <td>NaN</td>\n",
       "    </tr>\n",
       "    <tr>\n",
       "      <th>Department</th>\n",
       "      <td>302</td>\n",
       "      <td>3</td>\n",
       "      <td>Research &amp; Development</td>\n",
       "      <td>196</td>\n",
       "      <td>NaN</td>\n",
       "      <td>NaN</td>\n",
       "      <td>NaN</td>\n",
       "      <td>NaN</td>\n",
       "      <td>NaN</td>\n",
       "      <td>NaN</td>\n",
       "      <td>NaN</td>\n",
       "    </tr>\n",
       "    <tr>\n",
       "      <th>DistanceFromHome</th>\n",
       "      <td>1614.0</td>\n",
       "      <td>NaN</td>\n",
       "      <td>NaN</td>\n",
       "      <td>NaN</td>\n",
       "      <td>4.527261</td>\n",
       "      <td>14.591913</td>\n",
       "      <td>-49.0</td>\n",
       "      <td>2.0</td>\n",
       "      <td>5.0</td>\n",
       "      <td>11.0</td>\n",
       "      <td>29.0</td>\n",
       "    </tr>\n",
       "    <tr>\n",
       "      <th>Education</th>\n",
       "      <td>1614.0</td>\n",
       "      <td>NaN</td>\n",
       "      <td>NaN</td>\n",
       "      <td>NaN</td>\n",
       "      <td>2.925031</td>\n",
       "      <td>1.022357</td>\n",
       "      <td>1.0</td>\n",
       "      <td>2.0</td>\n",
       "      <td>3.0</td>\n",
       "      <td>4.0</td>\n",
       "      <td>5.0</td>\n",
       "    </tr>\n",
       "    <tr>\n",
       "      <th>EducationField</th>\n",
       "      <td>869</td>\n",
       "      <td>6</td>\n",
       "      <td>Life Sciences</td>\n",
       "      <td>349</td>\n",
       "      <td>NaN</td>\n",
       "      <td>NaN</td>\n",
       "      <td>NaN</td>\n",
       "      <td>NaN</td>\n",
       "      <td>NaN</td>\n",
       "      <td>NaN</td>\n",
       "      <td>NaN</td>\n",
       "    </tr>\n",
       "    <tr>\n",
       "      <th>employeecount</th>\n",
       "      <td>1614.0</td>\n",
       "      <td>NaN</td>\n",
       "      <td>NaN</td>\n",
       "      <td>NaN</td>\n",
       "      <td>1.0</td>\n",
       "      <td>0.0</td>\n",
       "      <td>1.0</td>\n",
       "      <td>1.0</td>\n",
       "      <td>1.0</td>\n",
       "      <td>1.0</td>\n",
       "      <td>1.0</td>\n",
       "    </tr>\n",
       "    <tr>\n",
       "      <th>employeenumber</th>\n",
       "      <td>1183</td>\n",
       "      <td>1079</td>\n",
       "      <td>482,0</td>\n",
       "      <td>2</td>\n",
       "      <td>NaN</td>\n",
       "      <td>NaN</td>\n",
       "      <td>NaN</td>\n",
       "      <td>NaN</td>\n",
       "      <td>NaN</td>\n",
       "      <td>NaN</td>\n",
       "      <td>NaN</td>\n",
       "    </tr>\n",
       "    <tr>\n",
       "      <th>EnvironmentSatisfaction</th>\n",
       "      <td>1614.0</td>\n",
       "      <td>NaN</td>\n",
       "      <td>NaN</td>\n",
       "      <td>NaN</td>\n",
       "      <td>4.294919</td>\n",
       "      <td>6.993559</td>\n",
       "      <td>1.0</td>\n",
       "      <td>2.0</td>\n",
       "      <td>3.0</td>\n",
       "      <td>4.0</td>\n",
       "      <td>49.0</td>\n",
       "    </tr>\n",
       "    <tr>\n",
       "      <th>Gender</th>\n",
       "      <td>1614.0</td>\n",
       "      <td>NaN</td>\n",
       "      <td>NaN</td>\n",
       "      <td>NaN</td>\n",
       "      <td>0.398389</td>\n",
       "      <td>0.489718</td>\n",
       "      <td>0.0</td>\n",
       "      <td>0.0</td>\n",
       "      <td>0.0</td>\n",
       "      <td>1.0</td>\n",
       "      <td>1.0</td>\n",
       "    </tr>\n",
       "    <tr>\n",
       "      <th>HourlyRate</th>\n",
       "      <td>1614</td>\n",
       "      <td>72</td>\n",
       "      <td>Not Available</td>\n",
       "      <td>84</td>\n",
       "      <td>NaN</td>\n",
       "      <td>NaN</td>\n",
       "      <td>NaN</td>\n",
       "      <td>NaN</td>\n",
       "      <td>NaN</td>\n",
       "      <td>NaN</td>\n",
       "      <td>NaN</td>\n",
       "    </tr>\n",
       "    <tr>\n",
       "      <th>JobInvolvement</th>\n",
       "      <td>1614.0</td>\n",
       "      <td>NaN</td>\n",
       "      <td>NaN</td>\n",
       "      <td>NaN</td>\n",
       "      <td>2.739777</td>\n",
       "      <td>0.711567</td>\n",
       "      <td>1.0</td>\n",
       "      <td>2.0</td>\n",
       "      <td>3.0</td>\n",
       "      <td>3.0</td>\n",
       "      <td>4.0</td>\n",
       "    </tr>\n",
       "    <tr>\n",
       "      <th>JobLevel</th>\n",
       "      <td>1614.0</td>\n",
       "      <td>NaN</td>\n",
       "      <td>NaN</td>\n",
       "      <td>NaN</td>\n",
       "      <td>2.068154</td>\n",
       "      <td>1.101344</td>\n",
       "      <td>1.0</td>\n",
       "      <td>1.0</td>\n",
       "      <td>2.0</td>\n",
       "      <td>3.0</td>\n",
       "      <td>5.0</td>\n",
       "    </tr>\n",
       "    <tr>\n",
       "      <th>JobRole</th>\n",
       "      <td>1614</td>\n",
       "      <td>1579</td>\n",
       "      <td>mANager</td>\n",
       "      <td>4</td>\n",
       "      <td>NaN</td>\n",
       "      <td>NaN</td>\n",
       "      <td>NaN</td>\n",
       "      <td>NaN</td>\n",
       "      <td>NaN</td>\n",
       "      <td>NaN</td>\n",
       "      <td>NaN</td>\n",
       "    </tr>\n",
       "    <tr>\n",
       "      <th>JobSatisfaction</th>\n",
       "      <td>1614.0</td>\n",
       "      <td>NaN</td>\n",
       "      <td>NaN</td>\n",
       "      <td>NaN</td>\n",
       "      <td>2.738538</td>\n",
       "      <td>1.106163</td>\n",
       "      <td>1.0</td>\n",
       "      <td>2.0</td>\n",
       "      <td>3.0</td>\n",
       "      <td>4.0</td>\n",
       "      <td>4.0</td>\n",
       "    </tr>\n",
       "    <tr>\n",
       "      <th>MaritalStatus</th>\n",
       "      <td>963</td>\n",
       "      <td>5</td>\n",
       "      <td>Married</td>\n",
       "      <td>404</td>\n",
       "      <td>NaN</td>\n",
       "      <td>NaN</td>\n",
       "      <td>NaN</td>\n",
       "      <td>NaN</td>\n",
       "      <td>NaN</td>\n",
       "      <td>NaN</td>\n",
       "      <td>NaN</td>\n",
       "    </tr>\n",
       "    <tr>\n",
       "      <th>MonthlyIncome</th>\n",
       "      <td>771</td>\n",
       "      <td>668</td>\n",
       "      <td>6347,0</td>\n",
       "      <td>4</td>\n",
       "      <td>NaN</td>\n",
       "      <td>NaN</td>\n",
       "      <td>NaN</td>\n",
       "      <td>NaN</td>\n",
       "      <td>NaN</td>\n",
       "      <td>NaN</td>\n",
       "      <td>NaN</td>\n",
       "    </tr>\n",
       "    <tr>\n",
       "      <th>MonthlyRate</th>\n",
       "      <td>1614.0</td>\n",
       "      <td>NaN</td>\n",
       "      <td>NaN</td>\n",
       "      <td>NaN</td>\n",
       "      <td>14284.495663</td>\n",
       "      <td>7110.414585</td>\n",
       "      <td>2094.0</td>\n",
       "      <td>8001.0</td>\n",
       "      <td>14248.5</td>\n",
       "      <td>20364.0</td>\n",
       "      <td>26999.0</td>\n",
       "    </tr>\n",
       "    <tr>\n",
       "      <th>NUMCOMPANIESWORKED</th>\n",
       "      <td>1614.0</td>\n",
       "      <td>NaN</td>\n",
       "      <td>NaN</td>\n",
       "      <td>NaN</td>\n",
       "      <td>2.673482</td>\n",
       "      <td>2.506152</td>\n",
       "      <td>0.0</td>\n",
       "      <td>1.0</td>\n",
       "      <td>2.0</td>\n",
       "      <td>4.0</td>\n",
       "      <td>9.0</td>\n",
       "    </tr>\n",
       "    <tr>\n",
       "      <th>Over18</th>\n",
       "      <td>713</td>\n",
       "      <td>1</td>\n",
       "      <td>Y</td>\n",
       "      <td>713</td>\n",
       "      <td>NaN</td>\n",
       "      <td>NaN</td>\n",
       "      <td>NaN</td>\n",
       "      <td>NaN</td>\n",
       "      <td>NaN</td>\n",
       "      <td>NaN</td>\n",
       "      <td>NaN</td>\n",
       "    </tr>\n",
       "    <tr>\n",
       "      <th>OverTime</th>\n",
       "      <td>938</td>\n",
       "      <td>2</td>\n",
       "      <td>No</td>\n",
       "      <td>682</td>\n",
       "      <td>NaN</td>\n",
       "      <td>NaN</td>\n",
       "      <td>NaN</td>\n",
       "      <td>NaN</td>\n",
       "      <td>NaN</td>\n",
       "      <td>NaN</td>\n",
       "      <td>NaN</td>\n",
       "    </tr>\n",
       "    <tr>\n",
       "      <th>PercentSalaryHike</th>\n",
       "      <td>1614.0</td>\n",
       "      <td>NaN</td>\n",
       "      <td>NaN</td>\n",
       "      <td>NaN</td>\n",
       "      <td>15.165428</td>\n",
       "      <td>3.64861</td>\n",
       "      <td>11.0</td>\n",
       "      <td>12.0</td>\n",
       "      <td>14.0</td>\n",
       "      <td>18.0</td>\n",
       "      <td>25.0</td>\n",
       "    </tr>\n",
       "    <tr>\n",
       "      <th>PerformanceRating</th>\n",
       "      <td>1419</td>\n",
       "      <td>2</td>\n",
       "      <td>3,0</td>\n",
       "      <td>1205</td>\n",
       "      <td>NaN</td>\n",
       "      <td>NaN</td>\n",
       "      <td>NaN</td>\n",
       "      <td>NaN</td>\n",
       "      <td>NaN</td>\n",
       "      <td>NaN</td>\n",
       "      <td>NaN</td>\n",
       "    </tr>\n",
       "    <tr>\n",
       "      <th>RelationshipSatisfaction</th>\n",
       "      <td>1614.0</td>\n",
       "      <td>NaN</td>\n",
       "      <td>NaN</td>\n",
       "      <td>NaN</td>\n",
       "      <td>2.704461</td>\n",
       "      <td>1.079031</td>\n",
       "      <td>1.0</td>\n",
       "      <td>2.0</td>\n",
       "      <td>3.0</td>\n",
       "      <td>4.0</td>\n",
       "      <td>4.0</td>\n",
       "    </tr>\n",
       "    <tr>\n",
       "      <th>StandardHours</th>\n",
       "      <td>419</td>\n",
       "      <td>1</td>\n",
       "      <td>80,0</td>\n",
       "      <td>419</td>\n",
       "      <td>NaN</td>\n",
       "      <td>NaN</td>\n",
       "      <td>NaN</td>\n",
       "      <td>NaN</td>\n",
       "      <td>NaN</td>\n",
       "      <td>NaN</td>\n",
       "      <td>NaN</td>\n",
       "    </tr>\n",
       "    <tr>\n",
       "      <th>StockOptionLevel</th>\n",
       "      <td>1614.0</td>\n",
       "      <td>NaN</td>\n",
       "      <td>NaN</td>\n",
       "      <td>NaN</td>\n",
       "      <td>0.791202</td>\n",
       "      <td>0.842396</td>\n",
       "      <td>0.0</td>\n",
       "      <td>0.0</td>\n",
       "      <td>1.0</td>\n",
       "      <td>1.0</td>\n",
       "      <td>3.0</td>\n",
       "    </tr>\n",
       "    <tr>\n",
       "      <th>TOTALWORKINGYEARS</th>\n",
       "      <td>1088</td>\n",
       "      <td>40</td>\n",
       "      <td>10,0</td>\n",
       "      <td>144</td>\n",
       "      <td>NaN</td>\n",
       "      <td>NaN</td>\n",
       "      <td>NaN</td>\n",
       "      <td>NaN</td>\n",
       "      <td>NaN</td>\n",
       "      <td>NaN</td>\n",
       "      <td>NaN</td>\n",
       "    </tr>\n",
       "    <tr>\n",
       "      <th>TrainingTimesLastYear</th>\n",
       "      <td>1614.0</td>\n",
       "      <td>NaN</td>\n",
       "      <td>NaN</td>\n",
       "      <td>NaN</td>\n",
       "      <td>2.809789</td>\n",
       "      <td>1.297765</td>\n",
       "      <td>0.0</td>\n",
       "      <td>2.0</td>\n",
       "      <td>3.0</td>\n",
       "      <td>3.0</td>\n",
       "      <td>6.0</td>\n",
       "    </tr>\n",
       "    <tr>\n",
       "      <th>WORKLIFEBALANCE</th>\n",
       "      <td>1506</td>\n",
       "      <td>4</td>\n",
       "      <td>3,0</td>\n",
       "      <td>913</td>\n",
       "      <td>NaN</td>\n",
       "      <td>NaN</td>\n",
       "      <td>NaN</td>\n",
       "      <td>NaN</td>\n",
       "      <td>NaN</td>\n",
       "      <td>NaN</td>\n",
       "      <td>NaN</td>\n",
       "    </tr>\n",
       "    <tr>\n",
       "      <th>YearsAtCompany</th>\n",
       "      <td>1614.0</td>\n",
       "      <td>NaN</td>\n",
       "      <td>NaN</td>\n",
       "      <td>NaN</td>\n",
       "      <td>7.13259</td>\n",
       "      <td>6.124237</td>\n",
       "      <td>0.0</td>\n",
       "      <td>3.0</td>\n",
       "      <td>5.0</td>\n",
       "      <td>9.0</td>\n",
       "      <td>40.0</td>\n",
       "    </tr>\n",
       "    <tr>\n",
       "      <th>YearsInCurrentRole</th>\n",
       "      <td>34</td>\n",
       "      <td>10</td>\n",
       "      <td>2,0</td>\n",
       "      <td>11</td>\n",
       "      <td>NaN</td>\n",
       "      <td>NaN</td>\n",
       "      <td>NaN</td>\n",
       "      <td>NaN</td>\n",
       "      <td>NaN</td>\n",
       "      <td>NaN</td>\n",
       "      <td>NaN</td>\n",
       "    </tr>\n",
       "    <tr>\n",
       "      <th>YearsSinceLastPromotion</th>\n",
       "      <td>1614.0</td>\n",
       "      <td>NaN</td>\n",
       "      <td>NaN</td>\n",
       "      <td>NaN</td>\n",
       "      <td>2.245973</td>\n",
       "      <td>3.235665</td>\n",
       "      <td>0.0</td>\n",
       "      <td>0.0</td>\n",
       "      <td>1.0</td>\n",
       "      <td>3.0</td>\n",
       "      <td>15.0</td>\n",
       "    </tr>\n",
       "    <tr>\n",
       "      <th>YEARSWITHCURRMANAGER</th>\n",
       "      <td>1614.0</td>\n",
       "      <td>NaN</td>\n",
       "      <td>NaN</td>\n",
       "      <td>NaN</td>\n",
       "      <td>4.22057</td>\n",
       "      <td>3.562695</td>\n",
       "      <td>0.0</td>\n",
       "      <td>2.0</td>\n",
       "      <td>3.0</td>\n",
       "      <td>7.0</td>\n",
       "      <td>17.0</td>\n",
       "    </tr>\n",
       "    <tr>\n",
       "      <th>SameAsMonthlyIncome</th>\n",
       "      <td>771</td>\n",
       "      <td>668</td>\n",
       "      <td>6347,0</td>\n",
       "      <td>4</td>\n",
       "      <td>NaN</td>\n",
       "      <td>NaN</td>\n",
       "      <td>NaN</td>\n",
       "      <td>NaN</td>\n",
       "      <td>NaN</td>\n",
       "      <td>NaN</td>\n",
       "      <td>NaN</td>\n",
       "    </tr>\n",
       "    <tr>\n",
       "      <th>DateBirth</th>\n",
       "      <td>1614.0</td>\n",
       "      <td>NaN</td>\n",
       "      <td>NaN</td>\n",
       "      <td>NaN</td>\n",
       "      <td>1986.076208</td>\n",
       "      <td>9.101332</td>\n",
       "      <td>1963.0</td>\n",
       "      <td>1980.0</td>\n",
       "      <td>1987.0</td>\n",
       "      <td>1993.0</td>\n",
       "      <td>2005.0</td>\n",
       "    </tr>\n",
       "    <tr>\n",
       "      <th>Salary</th>\n",
       "      <td>1614</td>\n",
       "      <td>1</td>\n",
       "      <td>1000000000$</td>\n",
       "      <td>1614</td>\n",
       "      <td>NaN</td>\n",
       "      <td>NaN</td>\n",
       "      <td>NaN</td>\n",
       "      <td>NaN</td>\n",
       "      <td>NaN</td>\n",
       "      <td>NaN</td>\n",
       "      <td>NaN</td>\n",
       "    </tr>\n",
       "    <tr>\n",
       "      <th>RoleDepartament</th>\n",
       "      <td>302</td>\n",
       "      <td>301</td>\n",
       "      <td>MaNAgeR  -  Sales</td>\n",
       "      <td>2</td>\n",
       "      <td>NaN</td>\n",
       "      <td>NaN</td>\n",
       "      <td>NaN</td>\n",
       "      <td>NaN</td>\n",
       "      <td>NaN</td>\n",
       "      <td>NaN</td>\n",
       "      <td>NaN</td>\n",
       "    </tr>\n",
       "    <tr>\n",
       "      <th>NUMBERCHILDREN</th>\n",
       "      <td>0.0</td>\n",
       "      <td>NaN</td>\n",
       "      <td>NaN</td>\n",
       "      <td>NaN</td>\n",
       "      <td>NaN</td>\n",
       "      <td>NaN</td>\n",
       "      <td>NaN</td>\n",
       "      <td>NaN</td>\n",
       "      <td>NaN</td>\n",
       "      <td>NaN</td>\n",
       "      <td>NaN</td>\n",
       "    </tr>\n",
       "    <tr>\n",
       "      <th>RemoteWork</th>\n",
       "      <td>1614</td>\n",
       "      <td>5</td>\n",
       "      <td>1</td>\n",
       "      <td>360</td>\n",
       "      <td>NaN</td>\n",
       "      <td>NaN</td>\n",
       "      <td>NaN</td>\n",
       "      <td>NaN</td>\n",
       "      <td>NaN</td>\n",
       "      <td>NaN</td>\n",
       "      <td>NaN</td>\n",
       "    </tr>\n",
       "  </tbody>\n",
       "</table>\n",
       "</div>"
      ],
      "text/plain": [
       "                           count unique                       top  freq  \\\n",
       "Unnamed: 0                1614.0    NaN                       NaN   NaN   \n",
       "Age                         1614     54                        35    84   \n",
       "Attrition                   1614      2                        No  1355   \n",
       "BusinessTravel               842      3             travel_rarely   586   \n",
       "DailyRate                   1614    849                      nan$   124   \n",
       "Department                   302      3   Research & Development    196   \n",
       "DistanceFromHome          1614.0    NaN                       NaN   NaN   \n",
       "Education                 1614.0    NaN                       NaN   NaN   \n",
       "EducationField               869      6             Life Sciences   349   \n",
       "employeecount             1614.0    NaN                       NaN   NaN   \n",
       "employeenumber              1183   1079                     482,0     2   \n",
       "EnvironmentSatisfaction   1614.0    NaN                       NaN   NaN   \n",
       "Gender                    1614.0    NaN                       NaN   NaN   \n",
       "HourlyRate                  1614     72             Not Available    84   \n",
       "JobInvolvement            1614.0    NaN                       NaN   NaN   \n",
       "JobLevel                  1614.0    NaN                       NaN   NaN   \n",
       "JobRole                     1614   1579                  mANager      4   \n",
       "JobSatisfaction           1614.0    NaN                       NaN   NaN   \n",
       "MaritalStatus                963      5                   Married   404   \n",
       "MonthlyIncome                771    668                    6347,0     4   \n",
       "MonthlyRate               1614.0    NaN                       NaN   NaN   \n",
       "NUMCOMPANIESWORKED        1614.0    NaN                       NaN   NaN   \n",
       "Over18                       713      1                         Y   713   \n",
       "OverTime                     938      2                        No   682   \n",
       "PercentSalaryHike         1614.0    NaN                       NaN   NaN   \n",
       "PerformanceRating           1419      2                       3,0  1205   \n",
       "RelationshipSatisfaction  1614.0    NaN                       NaN   NaN   \n",
       "StandardHours                419      1                      80,0   419   \n",
       "StockOptionLevel          1614.0    NaN                       NaN   NaN   \n",
       "TOTALWORKINGYEARS           1088     40                      10,0   144   \n",
       "TrainingTimesLastYear     1614.0    NaN                       NaN   NaN   \n",
       "WORKLIFEBALANCE             1506      4                       3,0   913   \n",
       "YearsAtCompany            1614.0    NaN                       NaN   NaN   \n",
       "YearsInCurrentRole            34     10                       2,0    11   \n",
       "YearsSinceLastPromotion   1614.0    NaN                       NaN   NaN   \n",
       "YEARSWITHCURRMANAGER      1614.0    NaN                       NaN   NaN   \n",
       "SameAsMonthlyIncome          771    668                    6347,0     4   \n",
       "DateBirth                 1614.0    NaN                       NaN   NaN   \n",
       "Salary                      1614      1               1000000000$  1614   \n",
       "RoleDepartament              302    301        MaNAgeR  -  Sales      2   \n",
       "NUMBERCHILDREN               0.0    NaN                       NaN   NaN   \n",
       "RemoteWork                  1614      5                         1   360   \n",
       "\n",
       "                                  mean          std     min     25%      50%  \\\n",
       "Unnamed: 0                       806.5   466.065982     0.0  403.25    806.5   \n",
       "Age                                NaN          NaN     NaN     NaN      NaN   \n",
       "Attrition                          NaN          NaN     NaN     NaN      NaN   \n",
       "BusinessTravel                     NaN          NaN     NaN     NaN      NaN   \n",
       "DailyRate                          NaN          NaN     NaN     NaN      NaN   \n",
       "Department                         NaN          NaN     NaN     NaN      NaN   \n",
       "DistanceFromHome              4.527261    14.591913   -49.0     2.0      5.0   \n",
       "Education                     2.925031     1.022357     1.0     2.0      3.0   \n",
       "EducationField                     NaN          NaN     NaN     NaN      NaN   \n",
       "employeecount                      1.0          0.0     1.0     1.0      1.0   \n",
       "employeenumber                     NaN          NaN     NaN     NaN      NaN   \n",
       "EnvironmentSatisfaction       4.294919     6.993559     1.0     2.0      3.0   \n",
       "Gender                        0.398389     0.489718     0.0     0.0      0.0   \n",
       "HourlyRate                         NaN          NaN     NaN     NaN      NaN   \n",
       "JobInvolvement                2.739777     0.711567     1.0     2.0      3.0   \n",
       "JobLevel                      2.068154     1.101344     1.0     1.0      2.0   \n",
       "JobRole                            NaN          NaN     NaN     NaN      NaN   \n",
       "JobSatisfaction               2.738538     1.106163     1.0     2.0      3.0   \n",
       "MaritalStatus                      NaN          NaN     NaN     NaN      NaN   \n",
       "MonthlyIncome                      NaN          NaN     NaN     NaN      NaN   \n",
       "MonthlyRate               14284.495663  7110.414585  2094.0  8001.0  14248.5   \n",
       "NUMCOMPANIESWORKED            2.673482     2.506152     0.0     1.0      2.0   \n",
       "Over18                             NaN          NaN     NaN     NaN      NaN   \n",
       "OverTime                           NaN          NaN     NaN     NaN      NaN   \n",
       "PercentSalaryHike            15.165428      3.64861    11.0    12.0     14.0   \n",
       "PerformanceRating                  NaN          NaN     NaN     NaN      NaN   \n",
       "RelationshipSatisfaction      2.704461     1.079031     1.0     2.0      3.0   \n",
       "StandardHours                      NaN          NaN     NaN     NaN      NaN   \n",
       "StockOptionLevel              0.791202     0.842396     0.0     0.0      1.0   \n",
       "TOTALWORKINGYEARS                  NaN          NaN     NaN     NaN      NaN   \n",
       "TrainingTimesLastYear         2.809789     1.297765     0.0     2.0      3.0   \n",
       "WORKLIFEBALANCE                    NaN          NaN     NaN     NaN      NaN   \n",
       "YearsAtCompany                 7.13259     6.124237     0.0     3.0      5.0   \n",
       "YearsInCurrentRole                 NaN          NaN     NaN     NaN      NaN   \n",
       "YearsSinceLastPromotion       2.245973     3.235665     0.0     0.0      1.0   \n",
       "YEARSWITHCURRMANAGER           4.22057     3.562695     0.0     2.0      3.0   \n",
       "SameAsMonthlyIncome                NaN          NaN     NaN     NaN      NaN   \n",
       "DateBirth                  1986.076208     9.101332  1963.0  1980.0   1987.0   \n",
       "Salary                             NaN          NaN     NaN     NaN      NaN   \n",
       "RoleDepartament                    NaN          NaN     NaN     NaN      NaN   \n",
       "NUMBERCHILDREN                     NaN          NaN     NaN     NaN      NaN   \n",
       "RemoteWork                         NaN          NaN     NaN     NaN      NaN   \n",
       "\n",
       "                              75%      max  \n",
       "Unnamed: 0                1209.75   1613.0  \n",
       "Age                           NaN      NaN  \n",
       "Attrition                     NaN      NaN  \n",
       "BusinessTravel                NaN      NaN  \n",
       "DailyRate                     NaN      NaN  \n",
       "Department                    NaN      NaN  \n",
       "DistanceFromHome             11.0     29.0  \n",
       "Education                     4.0      5.0  \n",
       "EducationField                NaN      NaN  \n",
       "employeecount                 1.0      1.0  \n",
       "employeenumber                NaN      NaN  \n",
       "EnvironmentSatisfaction       4.0     49.0  \n",
       "Gender                        1.0      1.0  \n",
       "HourlyRate                    NaN      NaN  \n",
       "JobInvolvement                3.0      4.0  \n",
       "JobLevel                      3.0      5.0  \n",
       "JobRole                       NaN      NaN  \n",
       "JobSatisfaction               4.0      4.0  \n",
       "MaritalStatus                 NaN      NaN  \n",
       "MonthlyIncome                 NaN      NaN  \n",
       "MonthlyRate               20364.0  26999.0  \n",
       "NUMCOMPANIESWORKED            4.0      9.0  \n",
       "Over18                        NaN      NaN  \n",
       "OverTime                      NaN      NaN  \n",
       "PercentSalaryHike            18.0     25.0  \n",
       "PerformanceRating             NaN      NaN  \n",
       "RelationshipSatisfaction      4.0      4.0  \n",
       "StandardHours                 NaN      NaN  \n",
       "StockOptionLevel              1.0      3.0  \n",
       "TOTALWORKINGYEARS             NaN      NaN  \n",
       "TrainingTimesLastYear         3.0      6.0  \n",
       "WORKLIFEBALANCE               NaN      NaN  \n",
       "YearsAtCompany                9.0     40.0  \n",
       "YearsInCurrentRole            NaN      NaN  \n",
       "YearsSinceLastPromotion       3.0     15.0  \n",
       "YEARSWITHCURRMANAGER          7.0     17.0  \n",
       "SameAsMonthlyIncome           NaN      NaN  \n",
       "DateBirth                  1993.0   2005.0  \n",
       "Salary                        NaN      NaN  \n",
       "RoleDepartament               NaN      NaN  \n",
       "NUMBERCHILDREN                NaN      NaN  \n",
       "RemoteWork                    NaN      NaN  "
      ]
     },
     "execution_count": 6,
     "metadata": {},
     "output_type": "execute_result"
    }
   ],
   "source": [
    "# Variables categoricas con las númericas\n",
    "df.describe(include= 'all').T"
   ]
  },
  {
   "cell_type": "code",
   "execution_count": 7,
   "metadata": {},
   "outputs": [
    {
     "data": {
      "text/plain": [
       "'RemoteWork'"
      ]
     },
     "execution_count": 7,
     "metadata": {},
     "output_type": "execute_result"
    }
   ],
   "source": [
    " \n",
    "'Age' # Revisar los años que estan en letras, porque son de números \n",
    "'Attrition' # OK\n",
    "'BusinessTravel' # revisar los NAN\n",
    "'DailyRate' # OK\n",
    "'Department' # revisar los NAN\n",
    "'DistanceFromHome' # Revisar porque son (-)negativos y otros (+)positivos \n",
    "'Education' # OK\n",
    "'EducationField' # Revisar los NAN\n",
    "'employeecount' # Ok \n",
    "\n",
    "'EnvironmentSatisfaction' # Ok \n",
    "'Gender' # Cambiar los valores, estan en 0 y 1 y hay que ponerlos M - F\n",
    "'HourlyRate' # OK\n",
    "'JobInvolvement' # OK\n",
    "'JobLevel' # OK\n",
    "'JobRole' # Cambiar palabras con minusculas y mayusculas \n",
    "'JobSatisfaction' # OK\n",
    "'MaritalStatus' # revisar los NAN\n",
    "'MonthlyIncome' # revisar los NAN\n",
    "'MonthlyRate' # OK\n",
    "\n",
    "'NUMCOMPANIESWORKED' # OK\n",
    "'Over18' # revisar los NAN\n",
    "'OverTime' # revisar los NAN\n",
    "'PercentSalaryHike' # OK\n",
    "'PerformanceRating' # revisar los NAN\n",
    "'RelationshipSatisfaction' # OK\n",
    "'StandardHours' # revisar los NAN\n",
    "'StockOptionLevel' # OK\n",
    "'TOTALWORKINGYEARS' # revisar los NAN\n",
    "'TrainingTimesLastYear' # OK\n",
    "\n",
    "'WORKLIFEBALANCE' # revisar los NAN\n",
    "'YearsAtCompany' # OK\n",
    "'YearsInCurrentRole' # revisar los NAN\n",
    "'YearsSinceLastPromotion' # OK\n",
    "'YEARSWITHCURRMANAGER' # OK\n",
    "'SameAsMonthlyIncome' # revisar los NAN\n",
    "'DateBirth' # OK\n",
    "'Salary' # OK\n",
    "'RoleDepartament' # revisar los NAN, y las mayus y minusculas tambien porque losnombre se repiten \n",
    "'NUMBERCHILDREN' # revisar los NAN\n",
    "'RemoteWork' #  Revisa los False y los Trues porque solo hay SI"
   ]
  },
  {
   "cell_type": "code",
   "execution_count": 8,
   "metadata": {},
   "outputs": [
    {
     "name": "stdout",
     "output_type": "stream",
     "text": [
      "['51', '52', '42', '47', '46', '48', '59', '41', '56', '38', '55', '40', '58', '35', '45', '33', '36', '34', 'forty-seven', '53', '43', '60', '32', '37', '49', '39', '50', '44', '30', 'fifty-eight', '29', '31', '54', '57', '27', 'thirty-six', '28', '26', 'fifty-five', '25', 'fifty-two', 'thirty-one', '24', 'thirty', '23', '22', '21', '20', 'twenty-six', '19', 'thirty-seven', '18', 'thirty-two', 'twenty-four']\n",
      "object\n"
     ]
    }
   ],
   "source": [
    "age_dict = list(df['Age'].unique())  # algunos no son números sino letras, hay que cambiarlos\n",
    "print(age_dict)\n",
    "print(df['Age'].dtype)"
   ]
  },
  {
   "cell_type": "code",
   "execution_count": 67,
   "metadata": {},
   "outputs": [
    {
     "name": "stdout",
     "output_type": "stream",
     "text": [
      "['19537,0', '19999,0', '19232,0', '17169,0', nan, '17174,0', '16595,0', '19973,0', '13402,0', '13206,0', '19545,0', '18041,0', '19246,0', '10748,0', '16752,0', '6201,0', '19845,0', '4001,0', '10447,0', '16064,0', '3210,0', '10266,0', '10475,0', '6162,0', '4721,0', '4615,0', '16959,0', '10306,0', '5406,0', '5902,0', '10855,0', '5914,0', '6646,0', '13973,0', '13320,0', '6687,0', '4735,0', '13872,0', '19045,0', '16015,0', '9613,0', '11510,0', '4306,0', '17046,0', '5067,0', '3692,0', '19847,0', '2308,0', '5747,0', '10422,0', '6347,0', '2348,0', '3072,0', '12490,0', '8020,0', '17068,0', '8943,0', '19272,0', '5577,0', '2691,0', '7403,0', '8823,0', '3579,0', '17779,0', '18213,0', '13577,0', '19190,0', '17123,0', '19187,0', '10008,0', '7988,0', '7083,0', '4723,0', '3407,0', '2929,0', '12031,0', '15427,0', '5126,0', '9619,0', '5010,0', '19033,0', '10400,0', '2793,0', '5674,0', '19197,0', '8412,0', '3348,0', '5309,0', '7654,0', '12808,0', '6586,0', '2519,0', '17099,0', '13120,0', '3131,0', '4444,0', '6674,0', '9852,0', '17861,0', '7446,0', '13757,0', '16598,0', '4285,0', '10124,0', '9714,0', '9924,0', '11245,0', '3069,0', '9241,0', '6472,0', '3055,0', '8321,0', '3143,0', '8578,0', '4197,0', '9888,0', '13341,0', '5677,0', '2909,0', '9526,0', '6825,0', '4424,0', '5441,0', '6074,0', '6146,0', '6172,0', '4668,0', '5605,0', '4319,0', '3564,0', '6261,0', '6804,0', '19436,0', '5828,0', '2455,0', '5055,0', '4682,0', '5257,0', '2119,0', '5974,0', '3034,0', '13212,0', '8392,0', '4051,0', '4805,0', '2741,0', '5337,0', '9434,0', '5396,0', '11159,0', '4960,0', '8793,0', '19189,0', '2216,0', '11713,0', '5304,0', '11103,0', '6632,0', '7587,0', '4335,0', '5980,0', '4244,0', '5228,0', '2700,0', '2366,0', '2329,0', '4294,0', '6725,0', '10325,0', '4447,0', '10845,0', '5472,0', '6385,0', '7525,0', '3660,0', '8740,0', '13499,0', '3491,0', '5220,0', '10252,0', '19740,0', '6209,0', '7094,0', '4534,0', '8500,0', '4639,0', '5363,0', '4081,0', '3578,0', '17328,0', '10793,0', '10851,0', '10466,0', '2362,0', '6439,0', '5769,0', '4385,0', '4066,0', '5206,0', '2655,0', '2570,0', '4502,0', '4968,0', '5147,0', '2718,0', '3539,0', '5468,0', '5813,0', '9667,0', '5154,0', '5675,0', '7314,0', '5098,0', '13570,0', '6712,0', '9991,0', '10248,0', '10938,0', '2593,0', '11878,0', '8095,0', '16856,0', '4537,0', '17924,0', '4014,0', '12742,0', '3376,0', '10482,0', '4249,0', '6549,0', '14411,0', '19586,0', '8237,0', '3211,0', '16704,0', '4774,0', '4568,0', '5993,0', '6499,0', '3452,0', '6397,0', '2725,0', '3622,0', '6180,0', '6274,0', '4381,0', '2559,0', '5488,0', '2514,0', '3196,0', '3420,0', '4087,0', '5368,0', '12936,0', '4221,0', '4963,0', '4200,0', '5006,0', '7639,0', '6502,0', '13525,0', '6349,0', '6380,0', '3102,0', '4556,0', '4230,0', '4859,0', '6322,0', '10761,0', '2973,0', '5204,0', '17399,0', '16885,0', '4323,0', '5155,0', '2936,0', '18789,0', '4883,0', '2029,0', '2996,0', '9278,0', '4162,0', '8853,0', '4876,0', '2141,0', '7756,0', '3936,0', '6842,0', '3989,0', '4930,0', '3702,0', '2705,0', '4448,0', '2379,0', '5487,0', '2810,0', '8938,0', '9936,0', '5454,0', '18740,0', '5473,0', '13503,0', '13549,0', '18172,0', '2774,0', '9439,0', '5265,0', '3815,0', '2389,0', '4000,0', '17584,0', '5661,0', '4869,0', '4649,0', '10496,0', '2768,0', '3408,0', '3755,0', '2187,0', '4258,0', '5326,0', '5485,0', '2782,0', '17639,0', '6062,0', '6288,0', '3424,0', '4194,0', '2532,0', '5666,0', '13726,0', '4107,0', '3597,0', '4115,0', '6272,0', '2517,0', '3904,0', '9204,0', '4373,0', '2064,0', '2430,0', '4877,0', '3760,0', '2013,0', '2974,0', '2766,0', '3377,0', '4213,0', '6513,0', '4284,0', '2226,0', '5561,0', '2144,0', '5373,0', '2897,0', '5321,0', '5410,0', '4850,0', '2001,0', '4404,0', '3944,0', '2960,0', '18947,0', '6465,0', '2683,0', '2014,0', '3441,0', '13664,0', '5021,0', '18844,0', '4739,0', '10650,0', '4317,0', '2024,0', '3058,0', '3929,0', '4425,0', '2328,0', '2657,0', '5940,0', '2622,0', '3212,0', '2911,0', '6931,0', '2176,0', '3230,0', '18665,0', '2789,0', '6410,0', '4941,0', '3983,0', '2904,0', '2696,0', '2174,0', '6755,0', '10965,0', '2543,0', '19406,0', '6538,0', '2258,0', '2218,0', '2654,0', '11935,0', '2546,0', '3894,0', '4262,0', '10527,0', '2400,0', '3681,0', '3447,0', '19513,0', '2659,0', '8847,0', '2045,0', '4851,0', '8120,0', '4577,0', '5405,0', '3708,0', '13770,0', '2297,0', '2450,0', '4342,0', '2572,0', '6500,0', '3149,0', '5324,0', '4382,0', '2553,0', '5933,0', '4403,0', '10934,0', '2022,0', '4256,0', '3580,0', '2899,0', '5562,0', '2377,0', '2404,0', '2799,0', '2811,0', '4377,0', '4240,0', '4227,0', '3917,0', '4969,0', '2042,0', '2821,0', '9957,0', '2207,0', '2070,0', '2791,0', '8224,0', '2610,0', '5731,0', '2539,0', '2376,0', '19081,0', '2743,0', '4538,0', '3867,0', '2080,0', '2096,0', '4627,0', '2302,0', '5071,0', '10596,0', '5467,0', '2394,0', '3629,0', '9362,0', '3229,0', '16422,0', '5647,0', '4400,0', '2066,0', '5486,0', '3162,0', '6651,0', '4898,0', '3180,0', '11244,0', '4069,0', '6392,0', '4855,0', '3312,0', '3117,0', '15202,0', '2580,0', '2166,0', '4374,0', '5505,0', '2587,0', '15972,0', '2305,0', '3433,0', '3477,0', '3907,0', '3445,0', '2760,0', '6294,0', '13116,0', '3591,0', '2105,0', '3902,0', '2662,0', '2062,0', '5507,0', '8103,0', '3978,0', '5399,0', '10448,0', '4440,0', '2660,0', '3375,0', '2269,0', '4787,0', '2809,0', '10854,0', '2571,0', '6142,0', '2496,0', '3419,0', '2501,0', '2566,0', '3920,0', '13964,0', '6540,0', '2244,0', '16184,0', '4233,0', '14814,0', '17159,0', '2318,0', '3617,0', '2684,0', '19237,0', '4422,0', '2552,0', '2678,0', '5171,0', '11916,0', '9380,0', '5878,0', '2468,0', '4127,0', '2148,0', '3886,0', '6667,0', '2090,0', '2086,0', '1951,0', '3022,0', '9724,0', '3388,0', '3038,0', '2322,0', '2926,0', '4505,0', '2835,0', '6553,0', '6673,0', '13591,0', '2177,0', '19517,0', '19202,0', '10048,0', '2723,0', '6644,0', '3161,0', '1420,0', '1200,0', '5238,0', '9985,0', '15992,0', '2370,0', '6781,0', '6653,0', '2851,0', '5258,0', '2476,0', '2285,0', '3448,0', '4558,0', '1702,0', '2564,0', '5070,0', '3780,0', '9824,0', '1878,0', '2340,0', '2127,0', '2033,0', '9602,0', '16627,0', '2083,0', '1009,0', '7861,0', '2642,0', '5121,0', '2694,0', '5094,0', '2274,0', '2314,0', '2380,0', '2008,0', '10552,0', '2259,0', '2413,0', '2121,0', '2479,0', '13194,0', '4163,0', '2600,0', '18303,0', '4777,0', '1052,0', '2461,0', '2596,0', '4728,0', '7351,0', '4766,0', '2827,0', '2853,0', '2290,0', '2107,0', '2210,0', '13191,0', '18265,0', '1118,0', '2372,0', '2838,0', '18061,0', '1611,0', '4768,0', '1274,0', '2561,0', '1563,0', '6388,0', '8376,0', '4841,0', '2074,0', '2972,0', '6815,0', '2690,0', '17567,0', '1569,0', '4187,0', '3306,0', '1393,0', '10883,0', '2862,0', '6735,0', '9756,0', '5294,0', '2437,0', '4071,0', '2956,0', '4648,0', '2804,0', '2439,0', '2856,0', '2933,0', '1091,0', '5151,0', '2863,0', '2858,0', '1129,0', '19431,0']\n",
      "object\n"
     ]
    }
   ],
   "source": [
    "income1_dict = list(df['MonthlyIncome'].unique())  # algunos no son números sino letras, hay que cambiarlos\n",
    "print(income1_dict)\n",
    "print(df['Age'].dtype)"
   ]
  },
  {
   "cell_type": "code",
   "execution_count": 68,
   "metadata": {},
   "outputs": [],
   "source": [
    "income1_null=df.isnull().sum()"
   ]
  },
  {
   "cell_type": "code",
   "execution_count": 69,
   "metadata": {},
   "outputs": [
    {
     "data": {
      "text/plain": [
       "Unnamed: 0                     0\n",
       "Age                            0\n",
       "Attrition                      0\n",
       "BusinessTravel               772\n",
       "DailyRate                      0\n",
       "Department                  1312\n",
       "DistanceFromHome               0\n",
       "Education                      0\n",
       "EducationField               745\n",
       "employeecount                  0\n",
       "employeenumber               431\n",
       "EnvironmentSatisfaction        0\n",
       "Gender                         0\n",
       "HourlyRate                     0\n",
       "JobInvolvement                 0\n",
       "JobLevel                       0\n",
       "JobRole                        0\n",
       "JobSatisfaction                0\n",
       "MaritalStatus                651\n",
       "MonthlyIncome                843\n",
       "MonthlyRate                    0\n",
       "NUMCOMPANIESWORKED             0\n",
       "Over18                       901\n",
       "OverTime                     676\n",
       "PercentSalaryHike              0\n",
       "PerformanceRating            195\n",
       "RelationshipSatisfaction       0\n",
       "StandardHours               1195\n",
       "StockOptionLevel               0\n",
       "TOTALWORKINGYEARS            526\n",
       "TrainingTimesLastYear          0\n",
       "WORKLIFEBALANCE              108\n",
       "YearsAtCompany                 0\n",
       "YearsInCurrentRole          1580\n",
       "YearsSinceLastPromotion        0\n",
       "YEARSWITHCURRMANAGER           0\n",
       "SameAsMonthlyIncome          843\n",
       "DateBirth                      0\n",
       "Salary                         0\n",
       "RoleDepartament             1312\n",
       "NUMBERCHILDREN              1614\n",
       "RemoteWork                     0\n",
       "dtype: int64"
      ]
     },
     "execution_count": 69,
     "metadata": {},
     "output_type": "execute_result"
    }
   ],
   "source": [
    "income1_null"
   ]
  },
  {
   "cell_type": "markdown",
   "metadata": {},
   "source": [
    "# Posible code para cambiar los str a int, esta solo los identifica"
   ]
  },
  {
   "cell_type": "code",
   "execution_count": 9,
   "metadata": {},
   "outputs": [
    {
     "name": "stdout",
     "output_type": "stream",
     "text": [
      "Converted Ages:\n",
      "[51, 52, 42, 47, 46, 48, 59, 41, 56, 38, 55, 40, 58, 35, 45, 33, 36, 34, 53, 43, 60, 32, 37, 49, 39, 50, 44, 30, 29, 31, 54, 57, 27, 28, 26, 25, 24, 23, 22, 21, 20, 19, 18]\n",
      "\n",
      "Errors:\n",
      "[\"Error converting 'forty-seven'\", \"Error converting 'fifty-eight'\", \"Error converting 'thirty-six'\", \"Error converting 'fifty-five'\", \"Error converting 'fifty-two'\", \"Error converting 'thirty-one'\", \"Error converting 'thirty'\", \"Error converting 'twenty-six'\", \"Error converting 'thirty-seven'\", \"Error converting 'thirty-two'\", \"Error converting 'twenty-four'\"]\n"
     ]
    }
   ],
   "source": [
    "# Obtener los valores únicos de la columna 'Age'\n",
    "age_dict = list(df['Age'].unique())\n",
    "\n",
    "# Función para convertir cadenas a números\n",
    "def convert_to_number(age):\n",
    "    try:\n",
    "        return int(age)\n",
    "    except ValueError:\n",
    "        return f\"Error converting '{age}'\"\n",
    "\n",
    "# Aplicar la función de conversión a la lista de edades únicas\n",
    "converted_ages = [convert_to_number(age) for age in age_dict]\n",
    "\n",
    "# Separar las edades convertidas y los errores\n",
    "converted_ages_only1 = [age for age in converted_ages if isinstance(age, int)]\n",
    "errors = [age for age in converted_ages if isinstance(age, str)]\n",
    "\n",
    "# Mostrar los resultados\n",
    "print(\"Converted Ages:\")\n",
    "print(converted_ages_only1)\n",
    "\n",
    "print(\"\\nErrors:\")\n",
    "print(errors)\n"
   ]
  },
  {
   "cell_type": "code",
   "execution_count": 10,
   "metadata": {},
   "outputs": [
    {
     "data": {
      "text/plain": [
       "43"
      ]
     },
     "execution_count": 10,
     "metadata": {},
     "output_type": "execute_result"
    }
   ],
   "source": [
    "len(converted_ages_only1)"
   ]
  },
  {
   "cell_type": "markdown",
   "metadata": {},
   "source": [
    "# Esta opción nos lo devuelve convertido en int todos los datos qe antes erán str"
   ]
  },
  {
   "cell_type": "code",
   "execution_count": 11,
   "metadata": {},
   "outputs": [
    {
     "name": "stdout",
     "output_type": "stream",
     "text": [
      "Converted Ages:\n",
      "[51, 52, 42, 47, 46, 48, 59, 41, 56, 38, 55, 40, 58, 35, 45, 33, 36, 34, 47, 53, 43, 60, 32, 37, 49, 39, 50, 44, 30, 58, 29, 31, 54, 57, 27, 36, 28, 26, 55, 25, 52, 31, 24, 30, 23, 22, 21, 20, 26, 19, 37, 18, 32, 24]\n",
      "\n",
      "Errors:\n",
      "[]\n"
     ]
    }
   ],
   "source": [
    "import pandas as pd\n",
    "\n",
    "# Supongamos que tienes un DataFrame con una columna 'Age'\n",
    "data = {'Age': ['51', '52', '42', '47', '46', '48', '59', '41', '56', '38', '55', '40', '58', '35', '45', '33', '36', '34', 'forty-seven', '53', '43', '60', '32', '37', '49', '39', '50', '44', '30', 'fifty-eight', '29', '31', '54', '57', '27', 'thirty-six', '28', '26', 'fifty-five', '25', 'fifty-two', 'thirty-one', '24', 'thirty', '23', '22', '21', '20', 'twenty-six', '19', 'thirty-seven', '18', 'thirty-two', 'twenty-four']}\n",
    "df_2 = pd.DataFrame(data)\n",
    "\n",
    "# Obtener los valores únicos de la columna 'Age'\n",
    "age_dict = list(df['Age'].unique())\n",
    "\n",
    "# Diccionario para convertir palabras a números\n",
    "word_to_number = {\n",
    "    'zero': 0, 'one': 1, 'two': 2, 'three': 3, 'four': 4, 'five': 5,\n",
    "    'six': 6, 'seven': 7, 'eight': 8, 'nine': 9, 'ten': 10, 'eleven': 11,\n",
    "    'twelve': 12, 'thirteen': 13, 'fourteen': 14, 'fifteen': 15,\n",
    "    'sixteen': 16, 'seventeen': 17, 'eighteen': 18, 'nineteen': 19,\n",
    "    'twenty': 20, 'thirty': 30, 'forty': 40, 'fifty': 50, 'sixty': 60,\n",
    "    'seventy': 70, 'eighty': 80, 'ninety': 90\n",
    "}\n",
    "\n",
    "# Función para convertir cadenas a números\n",
    "def convert_to_number(age):\n",
    "    try:\n",
    "        # Primero intentamos convertir directamente a entero\n",
    "        return int(age)\n",
    "    except ValueError:\n",
    "        # Si falla, intentamos convertir usando el diccionario\n",
    "        words = age.split('-')\n",
    "        number = 0\n",
    "        for word in words:\n",
    "            if word in word_to_number:\n",
    "                number += word_to_number[word]\n",
    "            else:\n",
    "                return f\"Error converting '{age}'\"\n",
    "        return number\n",
    "\n",
    "# Aplicar la función de conversión a la lista de edades únicas\n",
    "converted_ages = [convert_to_number(age) for age in age_dict]\n",
    "\n",
    "# Separar las edades convertidas y los errores\n",
    "converted_ages_only = [age for age in converted_ages if isinstance(age, int)]\n",
    "errors = [age for age in converted_ages if isinstance(age, str)]\n",
    "\n",
    "# Mostrar los resultados\n",
    "print(\"Converted Ages:\")\n",
    "print(converted_ages_only)\n",
    "print(\"\\nErrors:\")\n",
    "print(errors)\n"
   ]
  },
  {
   "cell_type": "code",
   "execution_count": 12,
   "metadata": {},
   "outputs": [
    {
     "data": {
      "text/plain": [
       "54"
      ]
     },
     "execution_count": 12,
     "metadata": {},
     "output_type": "execute_result"
    }
   ],
   "source": [
    "len(converted_ages_only)"
   ]
  },
  {
   "cell_type": "code",
   "execution_count": 13,
   "metadata": {},
   "outputs": [
    {
     "name": "stdout",
     "output_type": "stream",
     "text": [
      "['No', 'Yes']\n"
     ]
    }
   ],
   "source": [
    "attri_dict= list(df['Attrition'].unique())\n",
    "print(attri_dict)"
   ]
  },
  {
   "cell_type": "code",
   "execution_count": 14,
   "metadata": {},
   "outputs": [
    {
     "name": "stdout",
     "output_type": "stream",
     "text": [
      "[nan, 'travel_rarely', 'travel_frequently', 'non-travel']\n"
     ]
    }
   ],
   "source": [
    "busi_dict= list(df['BusinessTravel'].unique()) # revisar los NAN\n",
    "print(busi_dict)"
   ]
  },
  {
   "cell_type": "code",
   "execution_count": 15,
   "metadata": {},
   "outputs": [
    {
     "name": "stdout",
     "output_type": "stream",
     "text": [
      "['684,0$', '699,0$', '532,0$', '359,0$', '1319,0$', '117,0$', '1435,0$', '635,0$', '1276,0$', '840,0$', '247,0$', '1369,0$', '201,0$', '1360,0$', '692,0$', '1398,0$', '286,0$', '1402,0$', '819,0$', '884,0$', '1238,0$', '515,0$', '1223,0$', '202,0$', '928,0$', '607,0$', '266,0$', '429,0$', '589,0$', 'nan$', '1180,0$', '1282,0$', '776,0$', '665,0$', '526,0$', '1034,0$', '1403,0$', '1499,0$', '580,0$', '859,0$', '263,0$', '1376,0$', '885,0$', '1003,0$', '1321,0$', '394,0$', '1372,0$', '1333,0$', '228,0$', '737,0$', '823,0$', '667,0$', '301,0$', '573,0$', '1329,0$', '630,0$', '1063,0$', '1017,0$', '1296,0$', '939,0$', '1355,0$', '1448,0$', '200,0$', '1202,0$', '404,0$', '208,0$', '813,0$', '465,0$', '1189,0$', '1001,0$', '1394,0$', '161,0$', '288,0$', '682,0$', '1354,0$', '147,0$', '119,0$', '1413,0$', '452,0$', '334,0$', '1132,0$', '982,0$', '480,0$', '1099,0$', '672,0$', '1379,0$', '583,0$', '1492,0$', '1050,0$', '469,0$', '237,0$', '1440,0$', '1291,0$', '1157,0$', '1336,0$', '1224,0$', '735,0$', '1389,0$', '638,0$', '1240,0$', '194,0$', '1339,0$', '111,0$', '1469,0$', '470,0$', '1232,0$', '1249,0$', '798,0$', '549,0$', '570,0$', '541,0$', '164,0$', '1117,0$', '619,0$', '319,0$', '956,0$', '1245,0$', '1397,0$', '527,0$', '213,0$', '882,0$', '330,0$', '406,0$', '217,0$', '481,0$', '669,0$', '1465,0$', '685,0$', '1062,0$', '177,0$', '1199,0$', '648,0$', '412,0$', '282,0$', '770,0$', '601,0$', '855,0$', '332,0$', '1326,0$', '748,0$', '405,0$', '790,0$', '971,0$', '1370,0$', '750,0$', '880,0$', '678,0$', '1179,0$', '350,0$', '1266,0$', '574,0$', '189,0$', '310,0$', '722,0$', '1219,0$', '994,0$', '721,0$', '853,0$', '427,0$', '852,0$', '1334,0$', '1093,0$', '967,0$', '989,0$', '1195,0$', '1045,0$', '829,0$', '663,0$', '1300,0$', '1105,0$', '906,0$', '849,0$', '1275,0$', '1218,0$', '422,0$', '1274,0$', '1076,0$', '1207,0$', '430,0$', '933,0$', '1184,0$', '586,0$', '890,0$', '379,0$', '1425,0$', '1188,0$', '938,0$', '1053,0$', '248,0$', '796,0$', '174,0$', '408,0$', '977,0$', '536,0$', '135,0$', '1476,0$', '587,0$', '495,0$', '523,0$', '507,0$', '1055,0$', '1445,0$', '218,0$', '447,0$', '1029,0$', '674,0$', '538,0$', '740,0$', '1234,0$', '170,0$', '1130,0$', '584,0$', '918,0$', '792,0$', '611,0$', '1383,0$', '867,0$', '706,0$', '728,0$', '311,0$', '556,0$', '937,0$', '1125,0$', '444,0$', '911,0$', '585,0$', '1392,0$', '1005,0$', '1299,0$', '655,0$', '746,0$', '632,0$', '658,0$', '1467,0$', '1312,0$', '249,0$', '802,0$', '689,0$', '1395,0$', '1436,0$', '1496,0$', '1480,0$', '313,0$', '894,0$', '290,0$', '1084,0$', '1002,0$', '1242,0$', '1052,0$', '944,0$', '771,0$', '1416,0$', '1327,0$', '488,0$', '1385,0$', '666,0$', '1315,0$', '442,0$', '950,0$', '691,0$', '1018,0$', '559,0$', '318,0$', '144,0$', '1171,0$', '143,0$', '1178,0$', '1107,0$', '645,0$', '1485,0$', '1116,0$', '163,0$', '561,0$', '426,0$', '509,0$', '258,0$', '525,0$', '238,0$', '482,0$', '397,0$', '243,0$', '806,0$', '1442,0$', '929,0$', '827,0$', '703,0$', '294,0$', '314,0$', '654,0$', '501,0$', '954,0$', '1434,0$', '657,0$', '240,0$', '791,0$', '676,0$', '436,0$', '760,0$', '661,0$', '1085,0$', '154,0$', '1283,0$', '616,0$', '498,0$', '530,0$', '805,0$', '903,0$', '1229,0$', '566,0$', '1441,0$', '153,0$', '1066,0$', '145,0$', '1109,0$', '124,0$', '300,0$', '1366,0$', '857,0$', '1204,0$', '1082,0$', '203,0$', '1308,0$', '718,0$', '593,0$', '1384,0$', '1361,0$', '1146,0$', '1316,0$', '363,0$', '1103,0$', '920,0$', '694,0$', '1429,0$', '531,0$', '621,0$', '604,0$', '325,0$', '1030,0$', '524,0$', '943,0$', '1009,0$', '817,0$', '930,0$', '1147,0$', '652,0$', '337,0$', '1136,0$', '326,0$', '377,0$', '1038,0$', '1490,0$', '1246,0$', '224,0$', '441,0$', '898,0$', '1313,0$', '1015,0$', '1387,0$', '1302,0$', '602,0$', '772,0$', '809,0$', '786,0$', '921,0$', '717,0$', '979,0$', '953,0$', '244,0$', '196,0$', '303,0$', '1092,0$', '261,0$', '1422,0$', '1137,0$', '511,0$', '1396,0$', '1096,0$', '1169,0$', '1239,0$', '157,0$', '754,0$', '1303,0$', '697,0$', '116,0$', '557,0$', '582,0$', '704,0$', '613,0$', '419,0$', '477,0$', '1211,0$', '505,0$', '269,0$', '553,0$', '1277,0$', '302,0$', '975,0$', '1318,0$', '881,0$', '466,0$', '945,0$', '433,0$', '991,0$', '1083,0$', '136,0$', '333,0$', '1462,0$', '1131,0$', '1023,0$', '1065,0$', '1115,0$', '1479,0$', '304,0$', '1368,0$', '828,0$', '799,0$', '142,0$', '446,0$', '254,0$', '1410,0$', '883,0$', '121,0$', '1343,0$', '490,0$', '1400,0$', '1332,0$', '1200,0$', '1102,0$', '1328,0$', '548,0$', '1214,0$', '120,0$', '841,0$', '1033,0$', '1452,0$', '1268,0$', '307,0$', '797,0$', '555,0$', '1377,0$', '210,0$', '483,0$', '575,0$', '1311,0$', '759,0$', '891,0$', '317,0$', '688,0$', '195,0$', '622,0$', '646,0$', '719,0$', '1012,0$', '1278,0$', '1222,0$', '1231,0$', '462,0$', '231,0$', '1089,0$', '1262,0$', '439,0$', '528,0$', '647,0$', '1097,0$', '942,0$', '966,0$', '168,0$', '299,0$', '999,0$', '1498,0$', '1439,0$', '1111,0$', '1174,0$', '172,0$', '401,0$', '866,0$', '571,0$', '1342,0$', '995,0$', '118,0$', '990,0$', '241,0$', '1470,0$', '492,0$', '1040,0$', '1320,0$', '146,0$', '1153,0$', '185,0$', '1297,0$', '1064,0$', '1351,0$', '468,0$', '1273,0$', '1141,0$', '1488,0$', '653,0$', '1225,0$', '1217,0$', '1127,0$', '1427,0$', '702,0$', '926,0$', '878,0$', '896,0$', '1401,0$', '675,0$', '1070,0$', '496,0$', '390,0$', '1220,0$', '1124,0$', '1046,0$', '267,0$', '443,0$', '1287,0$', '1420,0$', '562,0$', '650,0$', '141,0$', '715,0$', '376,0$', '932,0$', '471,0$', '180,0$', '1265,0$', '1075,0$', '1086,0$', '152,0$', '974,0$', '788,0$', '192,0$', '150,0$', '1167,0$', '206,0$', '736,0$', '322,0$', '683,0$', '1475,0$', '560,0$', '115,0$', '888,0$', '671,0$', '567,0$', '148,0$', '581,0$', '371,0$', '1181,0$', '1253,0$', '370,0$', '1194,0$', '572,0$', '355,0$', '783,0$', '155,0$', '508,0$', '642,0$', '1382,0$', '1037,0$', '1120,0$', '374,0$', '287,0$', '591,0$', '670,0$', '1346,0$', '103,0$', '673,0$', '705,0$', '1459,0$', '1443,0$', '1142,0$', '664,0$', '432,0$', '1353,0$', '489,0$', '807,0$', '1280,0$', '957,0$', '542,0$', '216,0$', '1150,0$', '364,0$', '1256,0$', '440,0$', '713,0$', '140,0$', '629,0$', '328,0$', '472,0$', '905,0$', '1151,0$', '644,0$', '992,0$', '1323,0$', '818,0$', '1431,0$', '976,0$', '832,0$', '916,0$', '1247,0$', '128,0$', '1158,0$', '996,0$', '1449,0$', '636,0$', '889,0$', '106,0$', '723,0$', '1482,0$', '738,0$', '1192,0$', '1309,0$', '544,0$', '641,0$', '756,0$', '895,0$', '1261,0$', '329,0$', '1362,0$', '1371,0$', '821,0$', '1381,0$', '1473,0$', '296,0$', '1349,0$', '986,0$', '413,0$', '988,0$', '1474,0$', '232,0$', '1236,0$', '1112,0$', '204,0$', '913,0$', '810,0$', '693,0$', '316,0$', '381,0$', '775,0$', '804,0$', '1090,0$', '346,0$', '725,0$', '182,0$', '384,0$', '1325,0$', '1258,0$', '1041,0$', '625,0$', '1418,0$', '1269,0$', '395,0$', '341,0$', '500,0$', '1454,0$', '617,0$', '1122,0$', '1198,0$', '188,0$', '335,0$', '461,0$', '1134,0$', '138,0$', '1206,0$', '109,0$', '277,0$', '265,0$', '342,0$', '1186,0$', '769,0$', '1176,0$', '1091,0$', '618,0$', '970,0$', '984,0$', '793,0$', '1182,0$', '603,0$', '874,0$', '367,0$', '199,0$', '1457,0$', '1421,0$', '1450,0$', '1212,0$', '1010,0$', '131,0$', '193,0$', '640,0$', '848,0$', '1138,0$', '256,0$', '935,0$', '458,0$', '662,0$', '499,0$', '949,0$', '383,0$', '1255,0$', '1221,0$', '981,0$', '1495,0$', '1193,0$', '467,0$', '271,0$', '410,0$', '1288,0$', '1108,0$', '437,0$', '457,0$', '634,0$', '546,0$', '711,0$', '448,0$', '365,0$', '763,0$', '486,0$', '392,0$', '727,0$', '741,0$', '552,0$', '506,0$', '1456,0$', '160,0$', '897,0$', '600,0$', '1054,0$', '428,0$', '343,0$', '1216,0$', '207,0$', '280,0$', '414,0$', '836,0$', '592,0$', '219,0$', '1079,0$', '1251,0$', '1168,0$', '1444,0$', '1154,0$', '234,0$', '529,0$', '1322,0$', '924,0$', '134,0$', '755,0$', '253,0$', '922,0$', '1365,0$', '306,0$', '1271,0$', '1404,0$', '1391,0$', '1464,0$', '1330,0$', '773,0$', '902,0$', '107,0$', '504,0$', '1358,0$', '824,0$', '594,0$', '734,0$', '766,0$', '431,0$', '1213,0$', '1373,0$', '1324,0$', '1123,0$', '391,0$', '125,0$', '1357,0$', '626,0$', '132,0$', '871,0$', '1031,0$', '1145,0$', '854,0$', '1411,0$', '252,0$', '833,0$', '1210,0$', '1463,0$', '812,0$', '1162,0$', '845,0$', '1144,0$', '156,0$', '464,0$', '1305,0$', '983,0$', '534,0$', '1306,0$', '1094,0$', '558,0$', '959,0$', '782,0$', '362,0$', '268,0$', '167,0$', '1243,0$', '720,0$', '868,0$', '1252,0$', '781,0$', '1272,0$', '129,0$', '1069,0$', '289,0$', '955,0$', '660,0$', '415,0$', '309,0$', '130,0$', '862,0$', '1098,0$', '969,0$', '373,0$', '599,0$', '968,0$', '830,0$', '1423,0$', '516,0$', '598,0$', '104,0$', '479,0$', '474,0$', '264,0$', '1059,0$', '563,0$', '1259,0$', '369,0$', '543,0$', '964,0$', '176,0$', '181,0$', '211,0$', '590,0$', '305,0$', '478,0$', '1294,0$', '1128,0$', '726,0$', '352,0$', '1172,0$', '605,0$', '1337,0$', '105,0$']\n"
     ]
    }
   ],
   "source": [
    "daily_dict= list(df['DailyRate'].unique()) \n",
    "print(daily_dict)"
   ]
  },
  {
   "cell_type": "code",
   "execution_count": 16,
   "metadata": {},
   "outputs": [
    {
     "name": "stdout",
     "output_type": "stream",
     "text": [
      "[nan, ' Research & Development ', ' Sales ', ' Human Resources ']\n"
     ]
    }
   ],
   "source": [
    "depart_dict= list(df['Department'].unique()) # revisar los NAN\n",
    "print(depart_dict)"
   ]
  },
  {
   "cell_type": "code",
   "execution_count": 17,
   "metadata": {},
   "outputs": [
    {
     "name": "stdout",
     "output_type": "stream",
     "text": [
      "[6, 1, 4, 2, 3, 22, 25, 9, 7, 23, 10, 12, 14, -13, 15, 8, -42, 28, -37, 5, 16, -35, 26, -26, 24, 29, -25, 17, 21, -18, -10, -30, -27, 20, -31, -29, -39, 18, -21, -15, 11, 13, -14, 19, -33, -34, -46, -36, -19, 27, -12, -23, -45, -28, -47, -32, -24, -16, -22, -41, -49, -11, -48, -38, -20, -17, -43, -40, -44]\n"
     ]
    }
   ],
   "source": [
    "distance_dict= list(df['DistanceFromHome'].unique()) # Revisar porque son (-)negativos y otros (+)positivos \n",
    "print(distance_dict)"
   ]
  },
  {
   "cell_type": "code",
   "execution_count": 18,
   "metadata": {},
   "outputs": [
    {
     "name": "stdout",
     "output_type": "stream",
     "text": [
      "[3, 4, 2, 1, 5]\n"
     ]
    }
   ],
   "source": [
    "edu_dict= list(df['Education'].unique())\n",
    "print(edu_dict)"
   ]
  },
  {
   "cell_type": "code",
   "execution_count": 19,
   "metadata": {},
   "outputs": [
    {
     "name": "stdout",
     "output_type": "stream",
     "text": [
      "[nan, 'Life Sciences', 'Technical Degree', 'Medical', 'Other', 'Marketing', 'Human Resources']\n"
     ]
    }
   ],
   "source": [
    "edu_f_dict= list(df['EducationField'].unique()) # Revisar los NAN\n",
    "print(edu_f_dict)"
   ]
  },
  {
   "cell_type": "code",
   "execution_count": 20,
   "metadata": {},
   "outputs": [
    {
     "name": "stdout",
     "output_type": "stream",
     "text": [
      "[1]\n"
     ]
    }
   ],
   "source": [
    "employ_dict= list(df['employeecount'].unique())\n",
    "print(employ_dict)"
   ]
  },
  {
   "cell_type": "code",
   "execution_count": 21,
   "metadata": {},
   "outputs": [
    {
     "name": "stdout",
     "output_type": "stream",
     "text": [
      "['162,0', '259,0', '319,0', nan, '1900,0', '81,0', '387,0', '999,0', '1035,0', '58,0', '558,0', '825,0', '1712,0', '73,0', '820,0', '1294,0', '1774,0', '1815,0', '1993,0', '32,0', '100,0', '244,0', '327,0', '373,0', '729,0', '830,0', '981,0', '1042,0', '1080,0', '1995,0', '145,0', '158,0', '391,0', '436,0', '1527,0', '1866,0', '2026,0', '107,0', '170,0', '215,0', '304,0', '529,0', '691,0', '692,0', '1005,0', '1024,0', '1039,0', '1225,0', '1375,0', '1661,0', '1668,0', '1698,0', '1937,0', '2017,0', '117,0', '131,0', '153,0', '307,0', '374,0', '524,0', '569,0', '899,0', '1014,0', '1117,0', '1238,0', '1277,0', '1541,0', '1666,0', '1696,0', '1805,0', '1932,0', '2016,0', '20,0', '184,0', '206,0', '228,0', '239,0', '256,0', '339,0', '406,0', '429,0', '444,0', '452,0', '456,0', '481,0', '513,0', '597,0', '600,0', '630,0', '638,0', '683,0', '780,0', '817,0', '901,0', '944,0', '984,0', '1088,0', '1124,0', '1167,0', '1184,0', '1252,0', '1267,0', '1278,0', '1288,0', '1307,0', '1336,0', '1352,0', '1360,0', '1419,0', '1478,0', '1480,0', '1489,0', '1520,0', '1535,0', '1586,0', '1596,0', '1667,0', '1701,0', '1706,0', '1971,0', '1976,0', '1985,0', '2032,0', '2056,0', '57,0', '78,0', '104,0', '118,0', '121,0', '125,0', '207,0', '227,0', '253,0', '264,0', '291,0', '292,0', '306,0', '335,0', '420,0', '421,0', '441,0', '531,0', '549,0', '567,0', '581,0', '702,0', '716,0', '772,0', '836,0', '840,0', '844,0', '867,0', '889,0', '924,0', '976,0', '992,0', '1002,0', '1073,0', '1138,0', '1192,0', '1196,0', '1315,0', '1324,0', '1334,0', '1346,0', '1356,0', '1423,0', '1459,0', '1472,0', '1485,0', '1543,0', '1547,0', '1553,0', '1562,0', '1582,0', '1606,0', '1658,0', '1665,0', '1737,0', '1790,0', '1823,0', '1857,0', '1864,0', '1881,0', '1888,0', '1950,0', '1962,0', '1975,0', '1986,0', '2000,0', '2,0', '5,0', '35,0', '76,0', '98,0', '120,0', '147,0', '154,0', '159,0', '160,0', '163,0', '176,0', '177,0', '195,0', '202,0', '205,0', '252,0', '258,0', '260,0', '267,0', '275,0', '293,0', '302,0', '314,0', '329,0', '361,0', '363,0', '376,0', '381,0', '388,0', '389,0', '401,0', '416,0', '430,0', '438,0', '446,0', '448,0', '454,0', '458,0', '476,0', '483,0', '488,0', '500,0', '534,0', '586,0', '595,0', '608,0', '616,0', '621,0', '653,0', '663,0', '682,0', '710,0', '717,0', '721,0', '722,0', '724,0', '725,0', '728,0', '733,0', '734,0', '742,0', '747,0', '762,0', '783,0', '789,0', '793,0', '803,0', '809,0', '823,0', '842,0', '913,0', '927,0', '941,0', '956,0', '966,0', '967,0', '972,0', '990,0', '1013,0', '1015,0', '1018,0', '1034,0', '1046,0', '1050,0', '1074,0', '1082,0', '1097,0', '1100,0', '1101,0', '1106,0', '1119,0', '1126,0', '1128,0', '1177,0', '1182,0', '1201,0', '1218,0', '1220,0', '1224,0', '1235,0', '1237,0', '1255,0', '1264,0', '1283,0', '1293,0', '1295,0', '1322,0', '1344,0', '1355,0', '1362,0', '1369,0', '1377,0', '1402,0', '1408,0', '1417,0', '1421,0', '1422,0', '1424,0', '1457,0', '1460,0', '1484,0', '1497,0', '1522,0', '1544,0', '1572,0', '1608,0', '1611,0', '1612,0', '1615,0', '1619,0', '1635,0', '1642,0', '1653,0', '1691,0', '1693,0', '1703,0', '1727,0', '1728,0', '1745,0', '1754,0', '1756,0', '1764,0', '1778,0', '1797,0', '1804,0', '1816,0', '1821,0', '1849,0', '1869,0', '1898,0', '1911,0', '1927,0', '1934,0', '1951,0', '1952,0', '1965,0', '1967,0', '1979,0', '2008,0', '2009,0', '2014,0', '2034,0', '2035,0', '2062,0', '28,0', '62,0', '199,0', '343,0', '351,0', '428,0', '464,0', '731,0', '764,0', '851,0', '903,0', '905,0', '942,0', '1026,0', '1085,0', '1109,0', '1118,0', '1152,0', '1350,0', '1514,0', '1523,0', '1539,0', '1588,0', '1617,0', '1719,0', '1870,0', '2031,0', '2065,0', '15,0', '60,0', '85,0', '346,0', '384,0', '498,0', '551,0', '604,0', '626,0', '644,0', '649,0', '714,0', '781,0', '804,0', '856,0', '998,0', '1120,0', '1143,0', '1251,0', '1438,0', '1574,0', '1671,0', '94,0', '112,0', '129,0', '142,0', '161,0', '164,0', '190,0', '194,0', '226,0', '231,0', '240,0', '262,0', '283,0', '308,0', '325,0', '355,0', '378,0', '449,0', '466,0', '486,0', '492,0', '505,0', '510,0', '527,0', '547,0', '548,0', '577,0', '679,0', '785,0', '861,0', '864,0', '878,0', '895,0', '900,0', '936,0', '997,0', '1048,0', '1071,0', '1116,0', '1132,0', '1171,0', '1200,0', '1202,0', '1245,0', '1280,0', '1309,0', '1374,0', '1390,0', '1395,0', '1397,0', '1409,0', '1425,0', '1435,0', '1445,0', '1469,0', '1503,0', '1534,0', '1546,0', '1548,0', '1598,0', '1599,0', '1609,0', '1638,0', '1640,0', '1664,0', '1684,0', '1704,0', '1736,0', '1782,0', '1826,0', '1850,0', '1909,0', '1924,0', '1941,0', '1949,0', '27,0', '46,0', '52,0', '68,0', '79,0', '80,0', '91,0', '119,0', '126,0', '148,0', '150,0', '198,0', '216,0', '230,0', '270,0', '277,0', '299,0', '315,0', '330,0', '369,0', '386,0', '390,0', '412,0', '422,0', '434,0', '450,0', '469,0', '491,0', '554,0', '579,0', '592,0', '599,0', '641,0', '655,0', '667,0', '758,0', '760,0', '791,0', '796,0', '799,0', '815,0', '827,0', '865,0', '894,0', '983,0', '996,0', '1011,0', '1019,0', '1032,0', '1045,0', '1049,0', '1068,0', '1136,0', '1179,0', '1188,0', '1211,0', '1228,0', '1231,0', '1259,0', '1338,0', '1349,0', '1387,0', '1401,0', '1407,0', '1420,0', '1431,0', '1446,0', '1477,0', '1487,0', '1499,0', '1533,0', '1545,0', '1554,0', '1563,0', '1622,0', '1631,0', '1646,0', '1659,0', '1689,0', '1700,0', '1739,0', '1768,0', '1772,0', '1792,0', '1800,0', '1822,0', '1854,0', '1882,0', '1885,0', '1931,0', '1945,0', '1947,0', '1954,0', '1969,0', '1981,0', '1997,0', '1998,0', '1999,0', '2018,0', '2044,0', '2046,0', '2052,0', '2053,0', '2068,0', '7,0', '16,0', '18,0', '19,0', '21,0', '24,0', '26,0', '31,0', '33,0', '38,0', '40,0', '47,0', '49,0', '65,0', '72,0', '88,0', '102,0', '103,0', '110,0', '116,0', '128,0', '132,0', '133,0', '143,0', '171,0', '175,0', '178,0', '179,0', '193,0', '197,0', '218,0', '221,0', '233,0', '241,0', '245,0', '246,0', '247,0', '249,0', '250,0', '269,0', '287,0', '288,0', '297,0', '303,0', '305,0', '316,0', '332,0', '337,0', '338,0', '341,0', '347,0', '349,0', '350,0', '362,0', '379,0', '380,0', '393,0', '394,0', '396,0', '403,0', '423,0', '424,0', '433,0', '440,0', '447,0', '455,0', '460,0', '465,0', '470,0', '475,0', '478,0', '482,0', '495,0', '501,0', '502,0', '507,0', '517,0', '522,0', '523,0', '525,0', '526,0', '530,0', '544,0', '555,0', '564,0', '580,0', '585,0', '591,0', '593,0', '611,0', '624,0', '631,0', '632,0', '652,0', '659,0', '664,0', '665,0', '666,0', '671,0', '675,0', '686,0', '699,0', '705,0', '707,0', '712,0', '732,0', '738,0', '744,0', '746,0', '752,0', '754,0', '769,0', '792,0', '797,0', '800,0', '806,0', '813,0', '819,0', '838,0', '847,0', '852,0', '859,0', '872,0', '874,0', '881,0', '885,0', '888,0', '893,0', '896,0', '902,0', '916,0', '922,0', '925,0', '930,0', '939,0', '975,0', '991,0', '995,0', '1001,0', '1010,0', '1017,0', '1022,0', '1027,0', '1028,0', '1037,0', '1044,0', '1053,0', '1069,0', '1077,0', '1084,0', '1094,0', '1096,0', '1099,0', '1102,0', '1103,0', '1108,0', '1114,0', '1131,0', '1135,0', '1140,0', '1157,0', '1160,0', '1161,0', '1162,0', '1185,0', '1195,0', '1217,0', '1234,0', '1286,0', '1291,0', '1301,0', '1303,0', '1308,0', '1311,0', '1317,0', '1329,0', '1331,0', '1333,0', '1358,0', '1361,0', '1371,0', '1380,0', '1389,0', '1392,0', '1396,0', '1403,0', '1405,0', '1411,0', '1412,0', '1415,0', '1428,0', '1436,0', '1439,0', '1441,0', '1448,0', '1464,0', '1466,0', '1467,0', '1471,0', '1473,0', '1475,0', '1486,0', '1507,0', '1509,0', '1513,0', '1516,0', '1537,0', '1552,0', '1560,0', '1568,0', '1573,0', '1576,0', '1580,0', '1583,0', '1587,0', '1592,0', '1594,0', '1597,0', '1607,0', '1623,0', '1641,0', '1644,0', '1645,0', '1647,0', '1648,0', '1651,0', '1655,0', '1657,0', '1662,0', '1670,0', '1674,0', '1682,0', '1683,0', '1694,0', '1702,0', '1721,0', '1722,0', '1733,0', '1735,0', '1746,0', '1751,0', '1753,0', '1787,0', '1801,0', '1813,0', '1814,0', '1833,0', '1834,0', '1835,0', '1837,0', '1844,0', '1856,0', '1858,0', '1873,0', '1883,0', '1886,0', '1905,0', '1907,0', '1908,0', '1922,0', '1929,0', '1948,0', '1972,0', '1980,0', '1982,0', '1992,0', '1996,0', '2003,0', '2007,0', '2010,0', '2027,0', '2038,0', '2048,0', '2055,0', '2060,0', '2061,0', '2064,0', '39,0', '51,0', '95,0', '169,0', '224,0', '242,0', '286,0', '340,0', '431,0', '496,0', '511,0', '612,0', '650,0', '684,0', '730,0', '757,0', '869,0', '875,0', '964,0', '970,0', '1006,0', '1055,0', '1061,0', '1107,0', '1180,0', '1193,0', '1226,0', '1254,0', '1321,0', '1465,0', '1479,0', '1551,0', '1555,0', '1604,0', '1757,0', '1760,0', '1789,0', '1807,0', '1812,0', '1818,0', '1830,0', '1890,0', '1939,0', '1994,0', '4,0', '10,0', '30,0', '41,0', '42,0', '53,0', '54,0', '55,0', '64,0', '70,0', '84,0', '97,0', '106,0', '113,0', '137,0', '139,0', '144,0', '155,0', '167,0', '200,0', '201,0', '211,0', '214,0', '243,0', '271,0', '282,0', '309,0', '323,0', '334,0', '342,0', '364,0', '367,0', '392,0', '397,0', '407,0', '445,0', '468,0', '471,0', '473,0', '477,0', '479,0', '485,0', '487,0', '494,0', '508,0', '514,0', '518,0', '556,0', '566,0', '568,0', '614,0', '615,0', '622,0', '643,0', '648,0', '656,0', '657,0', '661,0', '662,0', '690,0', '701,0', '704,0', '715,0', '743,0', '749,0', '773,0', '775,0', '811,0', '812,0', '816,0', '832,0', '833,0', '834,0', '897,0', '904,0', '911,0', '918,0', '923,0', '934,0', '940,0', '945,0', '951,0', '952,0', '954,0', '959,0', '986,0', '994,0', '1003,0', '1012,0', '1029,0', '1033,0', '1052,0', '1056,0', '1076,0', '1079,0', '1081,0', '1105,0', '1111,0', '1113,0', '1115,0', '1125,0', '1156,0', '1158,0', '1172,0', '1190,0', '1206,0', '1210,0', '1242,0', '1256,0', '1258,0', '1260,0', '1263,0', '1269,0', '1270,0', '1273,0', '1306,0', '1364,0', '1368,0', '1379,0', '1427,0', '1433,0', '1434,0', '1458,0', '1481,0', '1482,0', '1494,0', '1504,0', '1515,0', '1525,0', '1542,0', '1558,0', '1564,0', '1577,0', '1581,0', '1591,0', '1601,0', '1602,0', '1624,0', '1669,0', '1673,0', '1678,0', '1697,0', '1714,0', '1724,0', '1731,0', '1744,0', '1755,0', '1758,0', '1761,0', '1763,0', '1766,0', '1783,0', '1839,0', '1842,0', '1847,0', '1853,0', '1860,0', '1865,0', '1875,0', '1876,0', '1893,0', '1903,0', '1928,0', '1933,0', '1935,0', '1936,0', '1938,0', '1943,0', '1944,0', '1961,0', '1966,0', '1974,0', '2012,0', '2023,0', '2040,0']\n"
     ]
    }
   ],
   "source": [
    "employ_num_dict= list(df['employeenumber'].unique())\n",
    "print(employ_num_dict)"
   ]
  },
  {
   "cell_type": "code",
   "execution_count": 22,
   "metadata": {},
   "outputs": [
    {
     "name": "stdout",
     "output_type": "stream",
     "text": [
      "['Y', nan]\n"
     ]
    }
   ],
   "source": [
    "Over18_dict= list(df['Over18'].unique())\n",
    "print(Over18_dict)"
   ]
  },
  {
   "cell_type": "code",
   "execution_count": 23,
   "metadata": {},
   "outputs": [
    {
     "name": "stdout",
     "output_type": "stream",
     "text": [
      "['No', nan, 'Yes']\n"
     ]
    }
   ],
   "source": [
    "overtime_dict=list (df[\"OverTime\"].unique())\n",
    "print(overtime_dict)"
   ]
  },
  {
   "cell_type": "code",
   "execution_count": 24,
   "metadata": {},
   "outputs": [
    {
     "name": "stdout",
     "output_type": "stream",
     "text": [
      "['Y', nan]\n"
     ]
    }
   ],
   "source": [
    "over18_dict=list (df[\"Over18\"].unique())\n",
    "print(over18_dict)"
   ]
  },
  {
   "cell_type": "code",
   "execution_count": 25,
   "metadata": {},
   "outputs": [
    {
     "name": "stdout",
     "output_type": "stream",
     "text": [
      "['3,0', '4,0', nan]\n"
     ]
    }
   ],
   "source": [
    "PerformanceRating_dic=list (df[\"PerformanceRating\"].unique())\n",
    "print(PerformanceRating_dic)"
   ]
  },
  {
   "cell_type": "code",
   "execution_count": 26,
   "metadata": {},
   "outputs": [
    {
     "data": {
      "text/plain": [
       "array([3, 1, 4, 2], dtype=int64)"
      ]
     },
     "execution_count": 26,
     "metadata": {},
     "output_type": "execute_result"
    }
   ],
   "source": [
    "RelationshipSatisfaction_dic=list (df[\"RelationshipSatisfaction\"].unique())\n",
    "RelationshipSatisfaction_dic\n",
    "df[\"RelationshipSatisfaction\"].unique()"
   ]
  },
  {
   "cell_type": "code",
   "execution_count": 27,
   "metadata": {},
   "outputs": [
    {
     "data": {
      "text/plain": [
       "array([0, 1, 2, 3], dtype=int64)"
      ]
     },
     "execution_count": 27,
     "metadata": {},
     "output_type": "execute_result"
    }
   ],
   "source": [
    "StockOptionLevel_dic=list (df[\"StockOptionLevel\"].unique())\n",
    "StockOptionLevel_dic\n",
    "df[\"StockOptionLevel\"].unique()"
   ]
  },
  {
   "cell_type": "code",
   "execution_count": 28,
   "metadata": {},
   "outputs": [
    {
     "data": {
      "text/plain": [
       "array([nan, '34,0', '22,0', '28,0', '20,0', '21,0', '33,0', '40,0',\n",
       "       '18,0', '25,0', '15,0', '17,0', '26,0', '16,0', '24,0', '14,0',\n",
       "       '23,0', '27,0', '19,0', '11,0', '38,0', '37,0', '13,0', '12,0',\n",
       "       '29,0', '10,0', '36,0', '35,0', '9,0', '31,0', '32,0', '8,0',\n",
       "       '7,0', '30,0', '6,0', '5,0', '4,0', '3,0', '2,0', '1,0', '0,0'],\n",
       "      dtype=object)"
      ]
     },
     "execution_count": 28,
     "metadata": {},
     "output_type": "execute_result"
    }
   ],
   "source": [
    "TOTALWORKINGYEARS_dic=list (df[\"TOTALWORKINGYEARS\"].unique())\n",
    "df[\"TOTALWORKINGYEARS\"].unique()"
   ]
  },
  {
   "cell_type": "code",
   "execution_count": 29,
   "metadata": {},
   "outputs": [
    {
     "name": "stdout",
     "output_type": "stream",
     "text": [
      "[5, 3, 2, 0, 1, 4, 6]\n"
     ]
    },
    {
     "data": {
      "text/plain": [
       "array([5, 3, 2, 0, 1, 4, 6], dtype=int64)"
      ]
     },
     "execution_count": 29,
     "metadata": {},
     "output_type": "execute_result"
    }
   ],
   "source": [
    "TrainingTimesLastYear_dic=list (df[\"TrainingTimesLastYear\"].unique())\n",
    "print(TrainingTimesLastYear_dic)\n",
    "df[\"TrainingTimesLastYear\"].unique()"
   ]
  },
  {
   "cell_type": "code",
   "execution_count": 30,
   "metadata": {},
   "outputs": [
    {
     "name": "stdout",
     "output_type": "stream",
     "text": [
      "['3,0', nan, '2,0', '4,0', '1,0']\n"
     ]
    }
   ],
   "source": [
    "WORKLIFEBALANCE_dic=list (df[\"WORKLIFEBALANCE\"].unique())\n",
    "df[\"WORKLIFEBALANCE\"].unique()\n",
    "print(WORKLIFEBALANCE_dic)"
   ]
  },
  {
   "cell_type": "code",
   "execution_count": 31,
   "metadata": {},
   "outputs": [
    {
     "data": {
      "text/plain": [
       "array([20, 33, 22, 19, 21, 18, 24, 31, 26, 16, 23, 15, 17, 32, 14, 13, 25,\n",
       "       12, 11, 37, 40, 36, 27, 29, 10,  9, 30,  8,  7, 34,  6,  5,  4,  2,\n",
       "        3,  1,  0], dtype=int64)"
      ]
     },
     "execution_count": 31,
     "metadata": {},
     "output_type": "execute_result"
    }
   ],
   "source": [
    "YearsAtCompany_dic=list (df[\"YearsAtCompany\"].unique())\n",
    "df[\"YearsAtCompany\"].unique()"
   ]
  },
  {
   "cell_type": "code",
   "execution_count": 32,
   "metadata": {},
   "outputs": [
    {
     "data": {
      "text/plain": [
       "array([15, 11,  5,  2,  4,  7,  0,  1, 13, 14,  8, 12,  3,  6, 10,  9],\n",
       "      dtype=int64)"
      ]
     },
     "execution_count": 32,
     "metadata": {},
     "output_type": "execute_result"
    }
   ],
   "source": [
    "YearsSinceLastPromotion_dic=list (df[\"YearsSinceLastPromotion\"].unique())\n",
    "df[\"YearsSinceLastPromotion\"].unique()"
   ]
  },
  {
   "cell_type": "code",
   "execution_count": 33,
   "metadata": {},
   "outputs": [
    {
     "name": "stdout",
     "output_type": "stream",
     "text": [
      "[15, 9, 6, 8, 7, 11, 10, 12, 4, 0, 5, 17, 2, 14, 1, 13, 3, 16]\n"
     ]
    },
    {
     "data": {
      "text/plain": [
       "array([15,  9,  6,  8,  7, 11, 10, 12,  4,  0,  5, 17,  2, 14,  1, 13,  3,\n",
       "       16], dtype=int64)"
      ]
     },
     "execution_count": 33,
     "metadata": {},
     "output_type": "execute_result"
    }
   ],
   "source": [
    "YEARSWITHCURRMANAGER_dic=list (df[\"YEARSWITHCURRMANAGER\"].unique())\n",
    "print(YEARSWITHCURRMANAGER_dic)\n",
    "df[\"YEARSWITHCURRMANAGER\"].unique()"
   ]
  },
  {
   "cell_type": "code",
   "execution_count": 34,
   "metadata": {},
   "outputs": [
    {
     "name": "stdout",
     "output_type": "stream",
     "text": [
      "['19537,0', '19999,0', '19232,0', '17169,0', nan, '17174,0', '16595,0', '19973,0', '13402,0', '13206,0', '19545,0', '18041,0', '19246,0', '10748,0', '16752,0', '6201,0', '19845,0', '4001,0', '10447,0', '16064,0', '3210,0', '10266,0', '10475,0', '6162,0', '4721,0', '4615,0', '16959,0', '10306,0', '5406,0', '5902,0', '10855,0', '5914,0', '6646,0', '13973,0', '13320,0', '6687,0', '4735,0', '13872,0', '19045,0', '16015,0', '9613,0', '11510,0', '4306,0', '17046,0', '5067,0', '3692,0', '19847,0', '2308,0', '5747,0', '10422,0', '6347,0', '2348,0', '3072,0', '12490,0', '8020,0', '17068,0', '8943,0', '19272,0', '5577,0', '2691,0', '7403,0', '8823,0', '3579,0', '17779,0', '18213,0', '13577,0', '19190,0', '17123,0', '19187,0', '10008,0', '7988,0', '7083,0', '4723,0', '3407,0', '2929,0', '12031,0', '15427,0', '5126,0', '9619,0', '5010,0', '19033,0', '10400,0', '2793,0', '5674,0', '19197,0', '8412,0', '3348,0', '5309,0', '7654,0', '12808,0', '6586,0', '2519,0', '17099,0', '13120,0', '3131,0', '4444,0', '6674,0', '9852,0', '17861,0', '7446,0', '13757,0', '16598,0', '4285,0', '10124,0', '9714,0', '9924,0', '11245,0', '3069,0', '9241,0', '6472,0', '3055,0', '8321,0', '3143,0', '8578,0', '4197,0', '9888,0', '13341,0', '5677,0', '2909,0', '9526,0', '6825,0', '4424,0', '5441,0', '6074,0', '6146,0', '6172,0', '4668,0', '5605,0', '4319,0', '3564,0', '6261,0', '6804,0', '19436,0', '5828,0', '2455,0', '5055,0', '4682,0', '5257,0', '2119,0', '5974,0', '3034,0', '13212,0', '8392,0', '4051,0', '4805,0', '2741,0', '5337,0', '9434,0', '5396,0', '11159,0', '4960,0', '8793,0', '19189,0', '2216,0', '11713,0', '5304,0', '11103,0', '6632,0', '7587,0', '4335,0', '5980,0', '4244,0', '5228,0', '2700,0', '2366,0', '2329,0', '4294,0', '6725,0', '10325,0', '4447,0', '10845,0', '5472,0', '6385,0', '7525,0', '3660,0', '8740,0', '13499,0', '3491,0', '5220,0', '10252,0', '19740,0', '6209,0', '7094,0', '4534,0', '8500,0', '4639,0', '5363,0', '4081,0', '3578,0', '17328,0', '10793,0', '10851,0', '10466,0', '2362,0', '6439,0', '5769,0', '4385,0', '4066,0', '5206,0', '2655,0', '2570,0', '4502,0', '4968,0', '5147,0', '2718,0', '3539,0', '5468,0', '5813,0', '9667,0', '5154,0', '5675,0', '7314,0', '5098,0', '13570,0', '6712,0', '9991,0', '10248,0', '10938,0', '2593,0', '11878,0', '8095,0', '16856,0', '4537,0', '17924,0', '4014,0', '12742,0', '3376,0', '10482,0', '4249,0', '6549,0', '14411,0', '19586,0', '8237,0', '3211,0', '16704,0', '4774,0', '4568,0', '5993,0', '6499,0', '3452,0', '6397,0', '2725,0', '3622,0', '6180,0', '6274,0', '4381,0', '2559,0', '5488,0', '2514,0', '3196,0', '3420,0', '4087,0', '5368,0', '12936,0', '4221,0', '4963,0', '4200,0', '5006,0', '7639,0', '6502,0', '13525,0', '6349,0', '6380,0', '3102,0', '4556,0', '4230,0', '4859,0', '6322,0', '10761,0', '2973,0', '5204,0', '17399,0', '16885,0', '4323,0', '5155,0', '2936,0', '18789,0', '4883,0', '2029,0', '2996,0', '9278,0', '4162,0', '8853,0', '4876,0', '2141,0', '7756,0', '3936,0', '6842,0', '3989,0', '4930,0', '3702,0', '2705,0', '4448,0', '2379,0', '5487,0', '2810,0', '8938,0', '9936,0', '5454,0', '18740,0', '5473,0', '13503,0', '13549,0', '18172,0', '2774,0', '9439,0', '5265,0', '3815,0', '2389,0', '4000,0', '17584,0', '5661,0', '4869,0', '4649,0', '10496,0', '2768,0', '3408,0', '3755,0', '2187,0', '4258,0', '5326,0', '5485,0', '2782,0', '17639,0', '6062,0', '6288,0', '3424,0', '4194,0', '2532,0', '5666,0', '13726,0', '4107,0', '3597,0', '4115,0', '6272,0', '2517,0', '3904,0', '9204,0', '4373,0', '2064,0', '2430,0', '4877,0', '3760,0', '2013,0', '2974,0', '2766,0', '3377,0', '4213,0', '6513,0', '4284,0', '2226,0', '5561,0', '2144,0', '5373,0', '2897,0', '5321,0', '5410,0', '4850,0', '2001,0', '4404,0', '3944,0', '2960,0', '18947,0', '6465,0', '2683,0', '2014,0', '3441,0', '13664,0', '5021,0', '18844,0', '4739,0', '10650,0', '4317,0', '2024,0', '3058,0', '3929,0', '4425,0', '2328,0', '2657,0', '5940,0', '2622,0', '3212,0', '2911,0', '6931,0', '2176,0', '3230,0', '18665,0', '2789,0', '6410,0', '4941,0', '3983,0', '2904,0', '2696,0', '2174,0', '6755,0', '10965,0', '2543,0', '19406,0', '6538,0', '2258,0', '2218,0', '2654,0', '11935,0', '2546,0', '3894,0', '4262,0', '10527,0', '2400,0', '3681,0', '3447,0', '19513,0', '2659,0', '8847,0', '2045,0', '4851,0', '8120,0', '4577,0', '5405,0', '3708,0', '13770,0', '2297,0', '2450,0', '4342,0', '2572,0', '6500,0', '3149,0', '5324,0', '4382,0', '2553,0', '5933,0', '4403,0', '10934,0', '2022,0', '4256,0', '3580,0', '2899,0', '5562,0', '2377,0', '2404,0', '2799,0', '2811,0', '4377,0', '4240,0', '4227,0', '3917,0', '4969,0', '2042,0', '2821,0', '9957,0', '2207,0', '2070,0', '2791,0', '8224,0', '2610,0', '5731,0', '2539,0', '2376,0', '19081,0', '2743,0', '4538,0', '3867,0', '2080,0', '2096,0', '4627,0', '2302,0', '5071,0', '10596,0', '5467,0', '2394,0', '3629,0', '9362,0', '3229,0', '16422,0', '5647,0', '4400,0', '2066,0', '5486,0', '3162,0', '6651,0', '4898,0', '3180,0', '11244,0', '4069,0', '6392,0', '4855,0', '3312,0', '3117,0', '15202,0', '2580,0', '2166,0', '4374,0', '5505,0', '2587,0', '15972,0', '2305,0', '3433,0', '3477,0', '3907,0', '3445,0', '2760,0', '6294,0', '13116,0', '3591,0', '2105,0', '3902,0', '2662,0', '2062,0', '5507,0', '8103,0', '3978,0', '5399,0', '10448,0', '4440,0', '2660,0', '3375,0', '2269,0', '4787,0', '2809,0', '10854,0', '2571,0', '6142,0', '2496,0', '3419,0', '2501,0', '2566,0', '3920,0', '13964,0', '6540,0', '2244,0', '16184,0', '4233,0', '14814,0', '17159,0', '2318,0', '3617,0', '2684,0', '19237,0', '4422,0', '2552,0', '2678,0', '5171,0', '11916,0', '9380,0', '5878,0', '2468,0', '4127,0', '2148,0', '3886,0', '6667,0', '2090,0', '2086,0', '1951,0', '3022,0', '9724,0', '3388,0', '3038,0', '2322,0', '2926,0', '4505,0', '2835,0', '6553,0', '6673,0', '13591,0', '2177,0', '19517,0', '19202,0', '10048,0', '2723,0', '6644,0', '3161,0', '1420,0', '1200,0', '5238,0', '9985,0', '15992,0', '2370,0', '6781,0', '6653,0', '2851,0', '5258,0', '2476,0', '2285,0', '3448,0', '4558,0', '1702,0', '2564,0', '5070,0', '3780,0', '9824,0', '1878,0', '2340,0', '2127,0', '2033,0', '9602,0', '16627,0', '2083,0', '1009,0', '7861,0', '2642,0', '5121,0', '2694,0', '5094,0', '2274,0', '2314,0', '2380,0', '2008,0', '10552,0', '2259,0', '2413,0', '2121,0', '2479,0', '13194,0', '4163,0', '2600,0', '18303,0', '4777,0', '1052,0', '2461,0', '2596,0', '4728,0', '7351,0', '4766,0', '2827,0', '2853,0', '2290,0', '2107,0', '2210,0', '13191,0', '18265,0', '1118,0', '2372,0', '2838,0', '18061,0', '1611,0', '4768,0', '1274,0', '2561,0', '1563,0', '6388,0', '8376,0', '4841,0', '2074,0', '2972,0', '6815,0', '2690,0', '17567,0', '1569,0', '4187,0', '3306,0', '1393,0', '10883,0', '2862,0', '6735,0', '9756,0', '5294,0', '2437,0', '4071,0', '2956,0', '4648,0', '2804,0', '2439,0', '2856,0', '2933,0', '1091,0', '5151,0', '2863,0', '2858,0', '1129,0', '19431,0']\n"
     ]
    },
    {
     "data": {
      "text/plain": [
       "array(['19537,0', '19999,0', '19232,0', '17169,0', nan, '17174,0',\n",
       "       '16595,0', '19973,0', '13402,0', '13206,0', '19545,0', '18041,0',\n",
       "       '19246,0', '10748,0', '16752,0', '6201,0', '19845,0', '4001,0',\n",
       "       '10447,0', '16064,0', '3210,0', '10266,0', '10475,0', '6162,0',\n",
       "       '4721,0', '4615,0', '16959,0', '10306,0', '5406,0', '5902,0',\n",
       "       '10855,0', '5914,0', '6646,0', '13973,0', '13320,0', '6687,0',\n",
       "       '4735,0', '13872,0', '19045,0', '16015,0', '9613,0', '11510,0',\n",
       "       '4306,0', '17046,0', '5067,0', '3692,0', '19847,0', '2308,0',\n",
       "       '5747,0', '10422,0', '6347,0', '2348,0', '3072,0', '12490,0',\n",
       "       '8020,0', '17068,0', '8943,0', '19272,0', '5577,0', '2691,0',\n",
       "       '7403,0', '8823,0', '3579,0', '17779,0', '18213,0', '13577,0',\n",
       "       '19190,0', '17123,0', '19187,0', '10008,0', '7988,0', '7083,0',\n",
       "       '4723,0', '3407,0', '2929,0', '12031,0', '15427,0', '5126,0',\n",
       "       '9619,0', '5010,0', '19033,0', '10400,0', '2793,0', '5674,0',\n",
       "       '19197,0', '8412,0', '3348,0', '5309,0', '7654,0', '12808,0',\n",
       "       '6586,0', '2519,0', '17099,0', '13120,0', '3131,0', '4444,0',\n",
       "       '6674,0', '9852,0', '17861,0', '7446,0', '13757,0', '16598,0',\n",
       "       '4285,0', '10124,0', '9714,0', '9924,0', '11245,0', '3069,0',\n",
       "       '9241,0', '6472,0', '3055,0', '8321,0', '3143,0', '8578,0',\n",
       "       '4197,0', '9888,0', '13341,0', '5677,0', '2909,0', '9526,0',\n",
       "       '6825,0', '4424,0', '5441,0', '6074,0', '6146,0', '6172,0',\n",
       "       '4668,0', '5605,0', '4319,0', '3564,0', '6261,0', '6804,0',\n",
       "       '19436,0', '5828,0', '2455,0', '5055,0', '4682,0', '5257,0',\n",
       "       '2119,0', '5974,0', '3034,0', '13212,0', '8392,0', '4051,0',\n",
       "       '4805,0', '2741,0', '5337,0', '9434,0', '5396,0', '11159,0',\n",
       "       '4960,0', '8793,0', '19189,0', '2216,0', '11713,0', '5304,0',\n",
       "       '11103,0', '6632,0', '7587,0', '4335,0', '5980,0', '4244,0',\n",
       "       '5228,0', '2700,0', '2366,0', '2329,0', '4294,0', '6725,0',\n",
       "       '10325,0', '4447,0', '10845,0', '5472,0', '6385,0', '7525,0',\n",
       "       '3660,0', '8740,0', '13499,0', '3491,0', '5220,0', '10252,0',\n",
       "       '19740,0', '6209,0', '7094,0', '4534,0', '8500,0', '4639,0',\n",
       "       '5363,0', '4081,0', '3578,0', '17328,0', '10793,0', '10851,0',\n",
       "       '10466,0', '2362,0', '6439,0', '5769,0', '4385,0', '4066,0',\n",
       "       '5206,0', '2655,0', '2570,0', '4502,0', '4968,0', '5147,0',\n",
       "       '2718,0', '3539,0', '5468,0', '5813,0', '9667,0', '5154,0',\n",
       "       '5675,0', '7314,0', '5098,0', '13570,0', '6712,0', '9991,0',\n",
       "       '10248,0', '10938,0', '2593,0', '11878,0', '8095,0', '16856,0',\n",
       "       '4537,0', '17924,0', '4014,0', '12742,0', '3376,0', '10482,0',\n",
       "       '4249,0', '6549,0', '14411,0', '19586,0', '8237,0', '3211,0',\n",
       "       '16704,0', '4774,0', '4568,0', '5993,0', '6499,0', '3452,0',\n",
       "       '6397,0', '2725,0', '3622,0', '6180,0', '6274,0', '4381,0',\n",
       "       '2559,0', '5488,0', '2514,0', '3196,0', '3420,0', '4087,0',\n",
       "       '5368,0', '12936,0', '4221,0', '4963,0', '4200,0', '5006,0',\n",
       "       '7639,0', '6502,0', '13525,0', '6349,0', '6380,0', '3102,0',\n",
       "       '4556,0', '4230,0', '4859,0', '6322,0', '10761,0', '2973,0',\n",
       "       '5204,0', '17399,0', '16885,0', '4323,0', '5155,0', '2936,0',\n",
       "       '18789,0', '4883,0', '2029,0', '2996,0', '9278,0', '4162,0',\n",
       "       '8853,0', '4876,0', '2141,0', '7756,0', '3936,0', '6842,0',\n",
       "       '3989,0', '4930,0', '3702,0', '2705,0', '4448,0', '2379,0',\n",
       "       '5487,0', '2810,0', '8938,0', '9936,0', '5454,0', '18740,0',\n",
       "       '5473,0', '13503,0', '13549,0', '18172,0', '2774,0', '9439,0',\n",
       "       '5265,0', '3815,0', '2389,0', '4000,0', '17584,0', '5661,0',\n",
       "       '4869,0', '4649,0', '10496,0', '2768,0', '3408,0', '3755,0',\n",
       "       '2187,0', '4258,0', '5326,0', '5485,0', '2782,0', '17639,0',\n",
       "       '6062,0', '6288,0', '3424,0', '4194,0', '2532,0', '5666,0',\n",
       "       '13726,0', '4107,0', '3597,0', '4115,0', '6272,0', '2517,0',\n",
       "       '3904,0', '9204,0', '4373,0', '2064,0', '2430,0', '4877,0',\n",
       "       '3760,0', '2013,0', '2974,0', '2766,0', '3377,0', '4213,0',\n",
       "       '6513,0', '4284,0', '2226,0', '5561,0', '2144,0', '5373,0',\n",
       "       '2897,0', '5321,0', '5410,0', '4850,0', '2001,0', '4404,0',\n",
       "       '3944,0', '2960,0', '18947,0', '6465,0', '2683,0', '2014,0',\n",
       "       '3441,0', '13664,0', '5021,0', '18844,0', '4739,0', '10650,0',\n",
       "       '4317,0', '2024,0', '3058,0', '3929,0', '4425,0', '2328,0',\n",
       "       '2657,0', '5940,0', '2622,0', '3212,0', '2911,0', '6931,0',\n",
       "       '2176,0', '3230,0', '18665,0', '2789,0', '6410,0', '4941,0',\n",
       "       '3983,0', '2904,0', '2696,0', '2174,0', '6755,0', '10965,0',\n",
       "       '2543,0', '19406,0', '6538,0', '2258,0', '2218,0', '2654,0',\n",
       "       '11935,0', '2546,0', '3894,0', '4262,0', '10527,0', '2400,0',\n",
       "       '3681,0', '3447,0', '19513,0', '2659,0', '8847,0', '2045,0',\n",
       "       '4851,0', '8120,0', '4577,0', '5405,0', '3708,0', '13770,0',\n",
       "       '2297,0', '2450,0', '4342,0', '2572,0', '6500,0', '3149,0',\n",
       "       '5324,0', '4382,0', '2553,0', '5933,0', '4403,0', '10934,0',\n",
       "       '2022,0', '4256,0', '3580,0', '2899,0', '5562,0', '2377,0',\n",
       "       '2404,0', '2799,0', '2811,0', '4377,0', '4240,0', '4227,0',\n",
       "       '3917,0', '4969,0', '2042,0', '2821,0', '9957,0', '2207,0',\n",
       "       '2070,0', '2791,0', '8224,0', '2610,0', '5731,0', '2539,0',\n",
       "       '2376,0', '19081,0', '2743,0', '4538,0', '3867,0', '2080,0',\n",
       "       '2096,0', '4627,0', '2302,0', '5071,0', '10596,0', '5467,0',\n",
       "       '2394,0', '3629,0', '9362,0', '3229,0', '16422,0', '5647,0',\n",
       "       '4400,0', '2066,0', '5486,0', '3162,0', '6651,0', '4898,0',\n",
       "       '3180,0', '11244,0', '4069,0', '6392,0', '4855,0', '3312,0',\n",
       "       '3117,0', '15202,0', '2580,0', '2166,0', '4374,0', '5505,0',\n",
       "       '2587,0', '15972,0', '2305,0', '3433,0', '3477,0', '3907,0',\n",
       "       '3445,0', '2760,0', '6294,0', '13116,0', '3591,0', '2105,0',\n",
       "       '3902,0', '2662,0', '2062,0', '5507,0', '8103,0', '3978,0',\n",
       "       '5399,0', '10448,0', '4440,0', '2660,0', '3375,0', '2269,0',\n",
       "       '4787,0', '2809,0', '10854,0', '2571,0', '6142,0', '2496,0',\n",
       "       '3419,0', '2501,0', '2566,0', '3920,0', '13964,0', '6540,0',\n",
       "       '2244,0', '16184,0', '4233,0', '14814,0', '17159,0', '2318,0',\n",
       "       '3617,0', '2684,0', '19237,0', '4422,0', '2552,0', '2678,0',\n",
       "       '5171,0', '11916,0', '9380,0', '5878,0', '2468,0', '4127,0',\n",
       "       '2148,0', '3886,0', '6667,0', '2090,0', '2086,0', '1951,0',\n",
       "       '3022,0', '9724,0', '3388,0', '3038,0', '2322,0', '2926,0',\n",
       "       '4505,0', '2835,0', '6553,0', '6673,0', '13591,0', '2177,0',\n",
       "       '19517,0', '19202,0', '10048,0', '2723,0', '6644,0', '3161,0',\n",
       "       '1420,0', '1200,0', '5238,0', '9985,0', '15992,0', '2370,0',\n",
       "       '6781,0', '6653,0', '2851,0', '5258,0', '2476,0', '2285,0',\n",
       "       '3448,0', '4558,0', '1702,0', '2564,0', '5070,0', '3780,0',\n",
       "       '9824,0', '1878,0', '2340,0', '2127,0', '2033,0', '9602,0',\n",
       "       '16627,0', '2083,0', '1009,0', '7861,0', '2642,0', '5121,0',\n",
       "       '2694,0', '5094,0', '2274,0', '2314,0', '2380,0', '2008,0',\n",
       "       '10552,0', '2259,0', '2413,0', '2121,0', '2479,0', '13194,0',\n",
       "       '4163,0', '2600,0', '18303,0', '4777,0', '1052,0', '2461,0',\n",
       "       '2596,0', '4728,0', '7351,0', '4766,0', '2827,0', '2853,0',\n",
       "       '2290,0', '2107,0', '2210,0', '13191,0', '18265,0', '1118,0',\n",
       "       '2372,0', '2838,0', '18061,0', '1611,0', '4768,0', '1274,0',\n",
       "       '2561,0', '1563,0', '6388,0', '8376,0', '4841,0', '2074,0',\n",
       "       '2972,0', '6815,0', '2690,0', '17567,0', '1569,0', '4187,0',\n",
       "       '3306,0', '1393,0', '10883,0', '2862,0', '6735,0', '9756,0',\n",
       "       '5294,0', '2437,0', '4071,0', '2956,0', '4648,0', '2804,0',\n",
       "       '2439,0', '2856,0', '2933,0', '1091,0', '5151,0', '2863,0',\n",
       "       '2858,0', '1129,0', '19431,0'], dtype=object)"
      ]
     },
     "execution_count": 34,
     "metadata": {},
     "output_type": "execute_result"
    }
   ],
   "source": [
    "SameAsMonthlyIncome_dic=list (df[\"SameAsMonthlyIncome\"].unique())\n",
    "print(SameAsMonthlyIncome_dic)\n",
    "df[\"SameAsMonthlyIncome\"].unique()"
   ]
  },
  {
   "cell_type": "code",
   "execution_count": 35,
   "metadata": {},
   "outputs": [
    {
     "name": "stdout",
     "output_type": "stream",
     "text": [
      "[1972, 1971, 1981, 1976, 1977, 1975, 1964, 1982, 1967, 1985, 1968, 1983, 1965, 1988, 1978, 1990, 1987, 1989, 1970, 1980, 1963, 1991, 1986, 1974, 1984, 1973, 1979, 1993, 1994, 1992, 1969, 1966, 1996, 1995, 1997, 1998, 1999, 2000, 2001, 2002, 2003, 2004, 2005]\n"
     ]
    },
    {
     "data": {
      "text/plain": [
       "array([1972, 1971, 1981, 1976, 1977, 1975, 1964, 1982, 1967, 1985, 1968,\n",
       "       1983, 1965, 1988, 1978, 1990, 1987, 1989, 1970, 1980, 1963, 1991,\n",
       "       1986, 1974, 1984, 1973, 1979, 1993, 1994, 1992, 1969, 1966, 1996,\n",
       "       1995, 1997, 1998, 1999, 2000, 2001, 2002, 2003, 2004, 2005],\n",
       "      dtype=int64)"
      ]
     },
     "execution_count": 35,
     "metadata": {},
     "output_type": "execute_result"
    }
   ],
   "source": [
    "DateBirth_dic=list (df[\"DateBirth\"].unique())\n",
    "print(DateBirth_dic)\n",
    "\n",
    "df[\"DateBirth\"].unique()"
   ]
  },
  {
   "cell_type": "code",
   "execution_count": 36,
   "metadata": {},
   "outputs": [
    {
     "name": "stdout",
     "output_type": "stream",
     "text": [
      "['1000000000$']\n"
     ]
    },
    {
     "data": {
      "text/plain": [
       "array(['1000000000$'], dtype=object)"
      ]
     },
     "execution_count": 36,
     "metadata": {},
     "output_type": "execute_result"
    }
   ],
   "source": [
    "Salary_dic=list (df[\"Salary\"].unique())\n",
    "print(Salary_dic)\n",
    "\n",
    "df[\"Salary\"].unique()"
   ]
  },
  {
   "cell_type": "code",
   "execution_count": 37,
   "metadata": {},
   "outputs": [
    {
     "name": "stdout",
     "output_type": "stream",
     "text": [
      "[7, 0, 1, 3, 2, 4, 8, 9, 5, 6]\n"
     ]
    },
    {
     "data": {
      "text/plain": [
       "array([7, 0, 1, 3, 2, 4, 8, 9, 5, 6], dtype=int64)"
      ]
     },
     "execution_count": 37,
     "metadata": {},
     "output_type": "execute_result"
    }
   ],
   "source": [
    "NUMCOMPANIESWORKED_dic=list (df[\"NUMCOMPANIESWORKED\"].unique())\n",
    "print(NUMCOMPANIESWORKED_dic)\n",
    "\n",
    "df[\"NUMCOMPANIESWORKED\"].unique()"
   ]
  },
  {
   "cell_type": "code",
   "execution_count": 38,
   "metadata": {},
   "outputs": [
    {
     "name": "stdout",
     "output_type": "stream",
     "text": [
      "[nan]\n"
     ]
    },
    {
     "data": {
      "text/plain": [
       "array([nan])"
      ]
     },
     "execution_count": 38,
     "metadata": {},
     "output_type": "execute_result"
    }
   ],
   "source": [
    "NUMBERCHILDREN_dic=list (df[\"NUMBERCHILDREN\"].unique())\n",
    "print(NUMBERCHILDREN_dic)\n",
    "\n",
    "\n",
    "df[\"NUMBERCHILDREN\"].unique()"
   ]
  },
  {
   "cell_type": "code",
   "execution_count": 39,
   "metadata": {},
   "outputs": [
    {
     "name": "stdout",
     "output_type": "stream",
     "text": [
      "object\n"
     ]
    },
    {
     "data": {
      "text/plain": [
       "array(['3,0', nan, '2,0', '4,0', '1,0'], dtype=object)"
      ]
     },
     "execution_count": 39,
     "metadata": {},
     "output_type": "execute_result"
    }
   ],
   "source": [
    "print(df['WORKLIFEBALANCE'].dtype) # es object\n",
    "df['WORKLIFEBALANCE'].unique() #tiene valores nulos"
   ]
  },
  {
   "cell_type": "code",
   "execution_count": 40,
   "metadata": {},
   "outputs": [
    {
     "name": "stdout",
     "output_type": "stream",
     "text": [
      "int64\n"
     ]
    },
    {
     "data": {
      "text/plain": [
       "array([20, 33, 22, 19, 21, 18, 24, 31, 26, 16, 23, 15, 17, 32, 14, 13, 25,\n",
       "       12, 11, 37, 40, 36, 27, 29, 10,  9, 30,  8,  7, 34,  6,  5,  4,  2,\n",
       "        3,  1,  0], dtype=int64)"
      ]
     },
     "execution_count": 40,
     "metadata": {},
     "output_type": "execute_result"
    }
   ],
   "source": [
    "print(df['YearsAtCompany'].dtype) #es intiger\n",
    "df['YearsAtCompany'].unique() "
   ]
  },
  {
   "cell_type": "code",
   "execution_count": 41,
   "metadata": {},
   "outputs": [
    {
     "name": "stdout",
     "output_type": "stream",
     "text": [
      "object\n"
     ]
    },
    {
     "data": {
      "text/plain": [
       "array([nan, '13,0', '12,0', '11,0', '7,0', '6,0', '4,0', '3,0', '2,0',\n",
       "       '1,0', '0,0'], dtype=object)"
      ]
     },
     "execution_count": 41,
     "metadata": {},
     "output_type": "execute_result"
    }
   ],
   "source": [
    "print(df['YearsInCurrentRole'].dtype) #es object\n",
    "df['YearsInCurrentRole'].unique() #tiene valores nan"
   ]
  },
  {
   "cell_type": "code",
   "execution_count": 73,
   "metadata": {},
   "outputs": [
    {
     "name": "stdout",
     "output_type": "stream",
     "text": [
      "object\n"
     ]
    },
    {
     "data": {
      "text/plain": [
       "array([nan, '80,0'], dtype=object)"
      ]
     },
     "execution_count": 73,
     "metadata": {},
     "output_type": "execute_result"
    }
   ],
   "source": [
    "print(df['StandardHours'].dtype) #es object\n",
    "df['StandardHours'].unique() #tiene valores nan"
   ]
  },
  {
   "cell_type": "code",
   "execution_count": 42,
   "metadata": {},
   "outputs": [
    {
     "name": "stdout",
     "output_type": "stream",
     "text": [
      "int64\n"
     ]
    },
    {
     "data": {
      "text/plain": [
       "array([15, 11,  5,  2,  4,  7,  0,  1, 13, 14,  8, 12,  3,  6, 10,  9],\n",
       "      dtype=int64)"
      ]
     },
     "execution_count": 42,
     "metadata": {},
     "output_type": "execute_result"
    }
   ],
   "source": [
    "print(df['YearsSinceLastPromotion'].dtype) # es intiger\n",
    "df['YearsSinceLastPromotion'].unique() "
   ]
  },
  {
   "cell_type": "code",
   "execution_count": 43,
   "metadata": {},
   "outputs": [
    {
     "name": "stdout",
     "output_type": "stream",
     "text": [
      "int64\n"
     ]
    },
    {
     "data": {
      "text/plain": [
       "array([15,  9,  6,  8,  7, 11, 10, 12,  4,  0,  5, 17,  2, 14,  1, 13,  3,\n",
       "       16], dtype=int64)"
      ]
     },
     "execution_count": 43,
     "metadata": {},
     "output_type": "execute_result"
    }
   ],
   "source": [
    "print(df['YEARSWITHCURRMANAGER'].dtype) #es intiger\n",
    "df['YEARSWITHCURRMANAGER'].unique() "
   ]
  },
  {
   "cell_type": "code",
   "execution_count": 44,
   "metadata": {},
   "outputs": [
    {
     "name": "stdout",
     "output_type": "stream",
     "text": [
      "object\n"
     ]
    },
    {
     "data": {
      "text/plain": [
       "array(['19537,0', '19999,0', '19232,0', '17169,0', nan, '17174,0',\n",
       "       '16595,0', '19973,0', '13402,0', '13206,0', '19545,0', '18041,0',\n",
       "       '19246,0', '10748,0', '16752,0', '6201,0', '19845,0', '4001,0',\n",
       "       '10447,0', '16064,0', '3210,0', '10266,0', '10475,0', '6162,0',\n",
       "       '4721,0', '4615,0', '16959,0', '10306,0', '5406,0', '5902,0',\n",
       "       '10855,0', '5914,0', '6646,0', '13973,0', '13320,0', '6687,0',\n",
       "       '4735,0', '13872,0', '19045,0', '16015,0', '9613,0', '11510,0',\n",
       "       '4306,0', '17046,0', '5067,0', '3692,0', '19847,0', '2308,0',\n",
       "       '5747,0', '10422,0', '6347,0', '2348,0', '3072,0', '12490,0',\n",
       "       '8020,0', '17068,0', '8943,0', '19272,0', '5577,0', '2691,0',\n",
       "       '7403,0', '8823,0', '3579,0', '17779,0', '18213,0', '13577,0',\n",
       "       '19190,0', '17123,0', '19187,0', '10008,0', '7988,0', '7083,0',\n",
       "       '4723,0', '3407,0', '2929,0', '12031,0', '15427,0', '5126,0',\n",
       "       '9619,0', '5010,0', '19033,0', '10400,0', '2793,0', '5674,0',\n",
       "       '19197,0', '8412,0', '3348,0', '5309,0', '7654,0', '12808,0',\n",
       "       '6586,0', '2519,0', '17099,0', '13120,0', '3131,0', '4444,0',\n",
       "       '6674,0', '9852,0', '17861,0', '7446,0', '13757,0', '16598,0',\n",
       "       '4285,0', '10124,0', '9714,0', '9924,0', '11245,0', '3069,0',\n",
       "       '9241,0', '6472,0', '3055,0', '8321,0', '3143,0', '8578,0',\n",
       "       '4197,0', '9888,0', '13341,0', '5677,0', '2909,0', '9526,0',\n",
       "       '6825,0', '4424,0', '5441,0', '6074,0', '6146,0', '6172,0',\n",
       "       '4668,0', '5605,0', '4319,0', '3564,0', '6261,0', '6804,0',\n",
       "       '19436,0', '5828,0', '2455,0', '5055,0', '4682,0', '5257,0',\n",
       "       '2119,0', '5974,0', '3034,0', '13212,0', '8392,0', '4051,0',\n",
       "       '4805,0', '2741,0', '5337,0', '9434,0', '5396,0', '11159,0',\n",
       "       '4960,0', '8793,0', '19189,0', '2216,0', '11713,0', '5304,0',\n",
       "       '11103,0', '6632,0', '7587,0', '4335,0', '5980,0', '4244,0',\n",
       "       '5228,0', '2700,0', '2366,0', '2329,0', '4294,0', '6725,0',\n",
       "       '10325,0', '4447,0', '10845,0', '5472,0', '6385,0', '7525,0',\n",
       "       '3660,0', '8740,0', '13499,0', '3491,0', '5220,0', '10252,0',\n",
       "       '19740,0', '6209,0', '7094,0', '4534,0', '8500,0', '4639,0',\n",
       "       '5363,0', '4081,0', '3578,0', '17328,0', '10793,0', '10851,0',\n",
       "       '10466,0', '2362,0', '6439,0', '5769,0', '4385,0', '4066,0',\n",
       "       '5206,0', '2655,0', '2570,0', '4502,0', '4968,0', '5147,0',\n",
       "       '2718,0', '3539,0', '5468,0', '5813,0', '9667,0', '5154,0',\n",
       "       '5675,0', '7314,0', '5098,0', '13570,0', '6712,0', '9991,0',\n",
       "       '10248,0', '10938,0', '2593,0', '11878,0', '8095,0', '16856,0',\n",
       "       '4537,0', '17924,0', '4014,0', '12742,0', '3376,0', '10482,0',\n",
       "       '4249,0', '6549,0', '14411,0', '19586,0', '8237,0', '3211,0',\n",
       "       '16704,0', '4774,0', '4568,0', '5993,0', '6499,0', '3452,0',\n",
       "       '6397,0', '2725,0', '3622,0', '6180,0', '6274,0', '4381,0',\n",
       "       '2559,0', '5488,0', '2514,0', '3196,0', '3420,0', '4087,0',\n",
       "       '5368,0', '12936,0', '4221,0', '4963,0', '4200,0', '5006,0',\n",
       "       '7639,0', '6502,0', '13525,0', '6349,0', '6380,0', '3102,0',\n",
       "       '4556,0', '4230,0', '4859,0', '6322,0', '10761,0', '2973,0',\n",
       "       '5204,0', '17399,0', '16885,0', '4323,0', '5155,0', '2936,0',\n",
       "       '18789,0', '4883,0', '2029,0', '2996,0', '9278,0', '4162,0',\n",
       "       '8853,0', '4876,0', '2141,0', '7756,0', '3936,0', '6842,0',\n",
       "       '3989,0', '4930,0', '3702,0', '2705,0', '4448,0', '2379,0',\n",
       "       '5487,0', '2810,0', '8938,0', '9936,0', '5454,0', '18740,0',\n",
       "       '5473,0', '13503,0', '13549,0', '18172,0', '2774,0', '9439,0',\n",
       "       '5265,0', '3815,0', '2389,0', '4000,0', '17584,0', '5661,0',\n",
       "       '4869,0', '4649,0', '10496,0', '2768,0', '3408,0', '3755,0',\n",
       "       '2187,0', '4258,0', '5326,0', '5485,0', '2782,0', '17639,0',\n",
       "       '6062,0', '6288,0', '3424,0', '4194,0', '2532,0', '5666,0',\n",
       "       '13726,0', '4107,0', '3597,0', '4115,0', '6272,0', '2517,0',\n",
       "       '3904,0', '9204,0', '4373,0', '2064,0', '2430,0', '4877,0',\n",
       "       '3760,0', '2013,0', '2974,0', '2766,0', '3377,0', '4213,0',\n",
       "       '6513,0', '4284,0', '2226,0', '5561,0', '2144,0', '5373,0',\n",
       "       '2897,0', '5321,0', '5410,0', '4850,0', '2001,0', '4404,0',\n",
       "       '3944,0', '2960,0', '18947,0', '6465,0', '2683,0', '2014,0',\n",
       "       '3441,0', '13664,0', '5021,0', '18844,0', '4739,0', '10650,0',\n",
       "       '4317,0', '2024,0', '3058,0', '3929,0', '4425,0', '2328,0',\n",
       "       '2657,0', '5940,0', '2622,0', '3212,0', '2911,0', '6931,0',\n",
       "       '2176,0', '3230,0', '18665,0', '2789,0', '6410,0', '4941,0',\n",
       "       '3983,0', '2904,0', '2696,0', '2174,0', '6755,0', '10965,0',\n",
       "       '2543,0', '19406,0', '6538,0', '2258,0', '2218,0', '2654,0',\n",
       "       '11935,0', '2546,0', '3894,0', '4262,0', '10527,0', '2400,0',\n",
       "       '3681,0', '3447,0', '19513,0', '2659,0', '8847,0', '2045,0',\n",
       "       '4851,0', '8120,0', '4577,0', '5405,0', '3708,0', '13770,0',\n",
       "       '2297,0', '2450,0', '4342,0', '2572,0', '6500,0', '3149,0',\n",
       "       '5324,0', '4382,0', '2553,0', '5933,0', '4403,0', '10934,0',\n",
       "       '2022,0', '4256,0', '3580,0', '2899,0', '5562,0', '2377,0',\n",
       "       '2404,0', '2799,0', '2811,0', '4377,0', '4240,0', '4227,0',\n",
       "       '3917,0', '4969,0', '2042,0', '2821,0', '9957,0', '2207,0',\n",
       "       '2070,0', '2791,0', '8224,0', '2610,0', '5731,0', '2539,0',\n",
       "       '2376,0', '19081,0', '2743,0', '4538,0', '3867,0', '2080,0',\n",
       "       '2096,0', '4627,0', '2302,0', '5071,0', '10596,0', '5467,0',\n",
       "       '2394,0', '3629,0', '9362,0', '3229,0', '16422,0', '5647,0',\n",
       "       '4400,0', '2066,0', '5486,0', '3162,0', '6651,0', '4898,0',\n",
       "       '3180,0', '11244,0', '4069,0', '6392,0', '4855,0', '3312,0',\n",
       "       '3117,0', '15202,0', '2580,0', '2166,0', '4374,0', '5505,0',\n",
       "       '2587,0', '15972,0', '2305,0', '3433,0', '3477,0', '3907,0',\n",
       "       '3445,0', '2760,0', '6294,0', '13116,0', '3591,0', '2105,0',\n",
       "       '3902,0', '2662,0', '2062,0', '5507,0', '8103,0', '3978,0',\n",
       "       '5399,0', '10448,0', '4440,0', '2660,0', '3375,0', '2269,0',\n",
       "       '4787,0', '2809,0', '10854,0', '2571,0', '6142,0', '2496,0',\n",
       "       '3419,0', '2501,0', '2566,0', '3920,0', '13964,0', '6540,0',\n",
       "       '2244,0', '16184,0', '4233,0', '14814,0', '17159,0', '2318,0',\n",
       "       '3617,0', '2684,0', '19237,0', '4422,0', '2552,0', '2678,0',\n",
       "       '5171,0', '11916,0', '9380,0', '5878,0', '2468,0', '4127,0',\n",
       "       '2148,0', '3886,0', '6667,0', '2090,0', '2086,0', '1951,0',\n",
       "       '3022,0', '9724,0', '3388,0', '3038,0', '2322,0', '2926,0',\n",
       "       '4505,0', '2835,0', '6553,0', '6673,0', '13591,0', '2177,0',\n",
       "       '19517,0', '19202,0', '10048,0', '2723,0', '6644,0', '3161,0',\n",
       "       '1420,0', '1200,0', '5238,0', '9985,0', '15992,0', '2370,0',\n",
       "       '6781,0', '6653,0', '2851,0', '5258,0', '2476,0', '2285,0',\n",
       "       '3448,0', '4558,0', '1702,0', '2564,0', '5070,0', '3780,0',\n",
       "       '9824,0', '1878,0', '2340,0', '2127,0', '2033,0', '9602,0',\n",
       "       '16627,0', '2083,0', '1009,0', '7861,0', '2642,0', '5121,0',\n",
       "       '2694,0', '5094,0', '2274,0', '2314,0', '2380,0', '2008,0',\n",
       "       '10552,0', '2259,0', '2413,0', '2121,0', '2479,0', '13194,0',\n",
       "       '4163,0', '2600,0', '18303,0', '4777,0', '1052,0', '2461,0',\n",
       "       '2596,0', '4728,0', '7351,0', '4766,0', '2827,0', '2853,0',\n",
       "       '2290,0', '2107,0', '2210,0', '13191,0', '18265,0', '1118,0',\n",
       "       '2372,0', '2838,0', '18061,0', '1611,0', '4768,0', '1274,0',\n",
       "       '2561,0', '1563,0', '6388,0', '8376,0', '4841,0', '2074,0',\n",
       "       '2972,0', '6815,0', '2690,0', '17567,0', '1569,0', '4187,0',\n",
       "       '3306,0', '1393,0', '10883,0', '2862,0', '6735,0', '9756,0',\n",
       "       '5294,0', '2437,0', '4071,0', '2956,0', '4648,0', '2804,0',\n",
       "       '2439,0', '2856,0', '2933,0', '1091,0', '5151,0', '2863,0',\n",
       "       '2858,0', '1129,0', '19431,0'], dtype=object)"
      ]
     },
     "execution_count": 44,
     "metadata": {},
     "output_type": "execute_result"
    }
   ],
   "source": [
    "print(df['SameAsMonthlyIncome'].dtype) # es de tipo object\n",
    "df['SameAsMonthlyIncome'].unique() # contiene nan"
   ]
  },
  {
   "cell_type": "code",
   "execution_count": 45,
   "metadata": {},
   "outputs": [
    {
     "name": "stdout",
     "output_type": "stream",
     "text": [
      "int64\n"
     ]
    },
    {
     "data": {
      "text/plain": [
       "array([1972, 1971, 1981, 1976, 1977, 1975, 1964, 1982, 1967, 1985, 1968,\n",
       "       1983, 1965, 1988, 1978, 1990, 1987, 1989, 1970, 1980, 1963, 1991,\n",
       "       1986, 1974, 1984, 1973, 1979, 1993, 1994, 1992, 1969, 1966, 1996,\n",
       "       1995, 1997, 1998, 1999, 2000, 2001, 2002, 2003, 2004, 2005],\n",
       "      dtype=int64)"
      ]
     },
     "execution_count": 45,
     "metadata": {},
     "output_type": "execute_result"
    }
   ],
   "source": [
    "print(df['DateBirth'].dtype) # es de tipo intiger\n",
    "df['DateBirth'].unique() "
   ]
  },
  {
   "cell_type": "code",
   "execution_count": 46,
   "metadata": {},
   "outputs": [
    {
     "name": "stdout",
     "output_type": "stream",
     "text": [
      "object\n"
     ]
    },
    {
     "data": {
      "text/plain": [
       "array(['1000000000$'], dtype=object)"
      ]
     },
     "execution_count": 46,
     "metadata": {},
     "output_type": "execute_result"
    }
   ],
   "source": [
    "print(df['Salary'].dtype)\n",
    "df['Salary'].unique() #todos los valores son iguales, elimlinamos columna?"
   ]
  },
  {
   "cell_type": "code",
   "execution_count": 47,
   "metadata": {},
   "outputs": [
    {
     "name": "stdout",
     "output_type": "stream",
     "text": [
      "object\n"
     ]
    },
    {
     "data": {
      "text/plain": [
       "array([nan, ' ManaGER  -  Research & Development ',\n",
       "       ' MANAger  -  Research & Development ',\n",
       "       ' heaLtHcArE repResENtATiVe  -  Research & Development ',\n",
       "       ' saLEs exEcutIVe  -  Sales ', ' Sales ExECuTIVe  -  Sales ',\n",
       "       ' heALthCArE RePResEntaTIVe  -  Research & Development ',\n",
       "       ' lABORAtOry tECHnIcIan  -  Research & Development ',\n",
       "       ' ManufactUrINg DiReCTOr  -  Research & Development ',\n",
       "       ' SaleS eXEcUtIVE  -  Sales ',\n",
       "       ' HEaLthcaRe rEprEsEnTAtiVe  -  Research & Development ',\n",
       "       ' rESeArCH sCientIST  -  Research & Development ',\n",
       "       ' healTHCAre rePREseNtATiVE  -  Research & Development ',\n",
       "       ' mANaGer  -  Research & Development ',\n",
       "       ' HEAltHCaRe REPreseNTatIve  -  Research & Development ',\n",
       "       ' SaLeS eXECUTivE  -  Sales ',\n",
       "       ' reSeARCH SCIEnTiST  -  Research & Development ',\n",
       "       ' ReSearch DiRecTOR  -  Research & Development ',\n",
       "       ' resEaRCh SciEnTist  -  Research & Development ',\n",
       "       ' hUmaN REsoUrCes  -  Human Resources ',\n",
       "       ' manAgER  -  Research & Development ',\n",
       "       ' SaLES eXeCUtIVE  -  Sales ',\n",
       "       ' reSEarCH scIentISt  -  Research & Development ',\n",
       "       ' ReSeARCh DiRECtor  -  Research & Development ',\n",
       "       ' MaNAgeR  -  Sales ',\n",
       "       ' RESEArCH sCIenTIst  -  Research & Development ',\n",
       "       ' hUMAn reSoUrCES  -  Human Resources ',\n",
       "       ' HUmAN rESOuRceS  -  Human Resources ',\n",
       "       ' SaleS EXeCuTivE  -  Sales ',\n",
       "       ' ReSeARch scIENTISt  -  Research & Development ',\n",
       "       ' LaBoRaTorY TeChNicIAn  -  Research & Development ',\n",
       "       ' ManUfaCTUriNg dIReCtor  -  Research & Development ',\n",
       "       ' saLES ExECuTIVe  -  Sales ',\n",
       "       ' RESEaRch SCIEntISt  -  Research & Development ',\n",
       "       ' mAnUFaCtUrinG diReCtor  -  Research & Development ',\n",
       "       ' maNUFAcTURING direCTOr  -  Research & Development ',\n",
       "       ' labOraTORy techNicIan  -  Research & Development ',\n",
       "       ' SAlEs ExeCUtive  -  Sales ',\n",
       "       ' MANUFACturING DIRecToR  -  Research & Development ',\n",
       "       ' Sales eXECuTIvE  -  Sales ',\n",
       "       ' mANUfaCTuRiNG DiRECtOr  -  Research & Development ',\n",
       "       ' ManUFACtURiNg DiRECTOr  -  Research & Development ',\n",
       "       ' ResEARcH DiReCToR  -  Research & Development ',\n",
       "       ' MANAgER  -  Research & Development ',\n",
       "       ' labORATORY TechnIcIaN  -  Research & Development ',\n",
       "       ' MaNUfacTurINg DiReCTor  -  Research & Development ',\n",
       "       ' ReSEaRcH sciENTIST  -  Research & Development ',\n",
       "       ' rESEARCh dIrEcTOr  -  Research & Development ',\n",
       "       ' MANUfACTuRinG diRecTOR  -  Research & Development ',\n",
       "       ' HeaLThCArE REpRESENTAtIVe  -  Research & Development ',\n",
       "       ' LABOraTory TecHnIciaN  -  Research & Development ',\n",
       "       ' sales rEprESEntAtIvE  -  Sales ',\n",
       "       ' mANuFacTurinG DirECtoR  -  Research & Development ',\n",
       "       ' lABorATOrY TeChnICIan  -  Research & Development ',\n",
       "       ' RESEarCh SCIEnTiST  -  Research & Development ',\n",
       "       ' SALes exEcuTIVe  -  Sales ',\n",
       "       ' REseARCH DirectOr  -  Research & Development ',\n",
       "       ' sAlES EXEcUtIVe  -  Sales ',\n",
       "       ' lABoraToRY teCHnIcIaN  -  Research & Development ',\n",
       "       ' LaBorATORy tEChnICiaN  -  Research & Development ',\n",
       "       ' sales ExecutIvE  -  Sales ', ' sAles exECUtiVe  -  Sales ',\n",
       "       ' SALEs eXecuTiVE  -  Sales ', ' SaleS executIVE  -  Sales ',\n",
       "       ' rEsEArCH sCIeNTIST  -  Research & Development ',\n",
       "       ' reSEArch SCIEntIsT  -  Research & Development ',\n",
       "       ' rESeArCh DIrEctor  -  Research & Development ',\n",
       "       ' saLES ExECUtiVe  -  Sales ',\n",
       "       ' LaboRATory tEchNICIAn  -  Research & Development ',\n",
       "       ' SAlEs exECUtIVe  -  Sales ', ' salEs eXECuTivE  -  Sales ',\n",
       "       ' ReseaRch scIenTisT  -  Research & Development ',\n",
       "       ' LaBoraTORY teCHNiCIaN  -  Research & Development ',\n",
       "       ' sALEs ExeCuTive  -  Sales ',\n",
       "       ' heALtHCARE rePResENtAtivE  -  Research & Development ',\n",
       "       ' ManAgEr  -  Research & Development ',\n",
       "       ' laboRAtORy TecHnICiAN  -  Research & Development ',\n",
       "       ' ReSeARCH diRECtoR  -  Research & Development ',\n",
       "       ' LAborAtOry TEchniCIAn  -  Research & Development ',\n",
       "       ' SaLeS eXECutiVE  -  Sales ', ' SalEs eXECuTive  -  Sales ',\n",
       "       ' rESeaRCH DIReCToR  -  Research & Development ',\n",
       "       ' mANAGeR  -  Human Resources ', ' saLeS exECUtive  -  Sales ',\n",
       "       ' maNuFAcTURInG DIReCtoR  -  Research & Development ',\n",
       "       ' LABORaTorY TEChNIcIAN  -  Research & Development ',\n",
       "       ' hEalTHcARe RePrEseNTATive  -  Research & Development ',\n",
       "       ' mANuFActuring DireCtOR  -  Research & Development ',\n",
       "       ' MaNagEr  -  Research & Development ',\n",
       "       ' SaLeS exeCuTIVe  -  Sales ',\n",
       "       ' lAboRaTory tECHNIciAN  -  Research & Development ',\n",
       "       ' saLes eXECUTIVe  -  Sales ', ' saLes EXEcuTiVe  -  Sales ',\n",
       "       ' mAnaGeR  -  Research & Development ',\n",
       "       ' HEALThCaRe rePResEnTaTivE  -  Research & Development ',\n",
       "       ' mAnAgEr  -  Research & Development ',\n",
       "       ' MaNageR  -  Research & Development ',\n",
       "       ' HeAlThCarE rEpreSentatiVe  -  Research & Development ',\n",
       "       ' HUMAN ResoURCeS  -  Human Resources ',\n",
       "       ' huMAn ResOurces  -  Human Resources ',\n",
       "       ' mANUfacTURiNG dIRectOR  -  Research & Development ',\n",
       "       ' saLES eXEcUTiVE  -  Sales ',\n",
       "       ' labORaTORY teChNIcIaN  -  Research & Development ',\n",
       "       ' saLes eXeCUTivE  -  Sales ', ' Sales exECutIVE  -  Sales ',\n",
       "       ' saleS eXEcuTIvE  -  Sales ', ' SALes ExeCUtive  -  Sales ',\n",
       "       ' reSearCH SCieNtIst  -  Research & Development ',\n",
       "       ' HEALThcaRe RePresENtaTiVE  -  Research & Development ',\n",
       "       ' rEsEARch sCientIST  -  Research & Development ',\n",
       "       ' HealthcARE RePreSENtAtiVe  -  Research & Development ',\n",
       "       ' ResEArch ScieNTiST  -  Research & Development ',\n",
       "       ' labORaTORy TecHniciAN  -  Research & Development ',\n",
       "       ' SalEs exECUTIvE  -  Sales ',\n",
       "       ' LabOrATory TEChNICiaN  -  Research & Development ',\n",
       "       ' reSeArcH scieNtist  -  Research & Development ',\n",
       "       ' maNuFAcTUring DIrecToR  -  Research & Development ',\n",
       "       ' ResEARCh DIRECtoR  -  Research & Development ',\n",
       "       ' SaLes exECutIVe  -  Sales ', ' SAleS eXecuTIVe  -  Sales ',\n",
       "       ' manAGER  -  Sales ',\n",
       "       ' LaBOrATORy teCHnIciaN  -  Research & Development ',\n",
       "       ' SAlES ExecuTIVe  -  Sales ', ' salES exEcUtiVE  -  Sales ',\n",
       "       ' SAlEs ExECUTIVe  -  Sales ',\n",
       "       ' HEaLTHcaRE rePReseNtaTIvE  -  Research & Development ',\n",
       "       ' sAles eXEcUtIve  -  Sales ',\n",
       "       ' laBoraTorY tEChnICiaN  -  Research & Development ',\n",
       "       ' MANufacTURIng diREcTOr  -  Research & Development ',\n",
       "       ' REsearch scIENtist  -  Research & Development ',\n",
       "       ' heaLtHcARe RePReSENtaTIve  -  Research & Development ',\n",
       "       ' lAbOrAtorY techNiCiaN  -  Research & Development ',\n",
       "       ' laboRaTOrY TEchniCIaN  -  Research & Development ',\n",
       "       ' SAles ExECutIvE  -  Sales ',\n",
       "       ' HeALtHCarE represEntAtIVe  -  Research & Development ',\n",
       "       ' HEalThCaRe rEpReSENtatIVe  -  Research & Development ',\n",
       "       ' HEalTHCare REPrEsEntATiVE  -  Research & Development ',\n",
       "       ' LaBoRaToRY TEcHnIcian  -  Research & Development ',\n",
       "       ' SAlES ExecutIve  -  Sales ',\n",
       "       ' LaBOrAtory TECHNIciAN  -  Research & Development ',\n",
       "       ' ReSeArch scIenTIsT  -  Research & Development ',\n",
       "       ' SaLEs EXECutIVe  -  Sales ',\n",
       "       ' rESEARch DiRector  -  Research & Development ',\n",
       "       ' HEaltHcare rEPrEsEnTatIVe  -  Research & Development ',\n",
       "       ' lABORatORY TeChNiCiAN  -  Research & Development ',\n",
       "       ' LaBOratory TeChnICiAn  -  Research & Development ',\n",
       "       ' maNAGer  -  Sales ', ' hUMAn rEsOuRCES  -  Human Resources ',\n",
       "       ' sales ExeCUTiVE  -  Sales ', ' saLEs exeCUtiVe  -  Sales ',\n",
       "       ' laBorAtORy TECHnicIaN  -  Research & Development ',\n",
       "       ' ReSeaRch SCIEnTiSt  -  Research & Development ',\n",
       "       ' rEsEArcH scIenTIst  -  Research & Development ',\n",
       "       ' RESeArch dIREcToR  -  Research & Development ',\n",
       "       ' saLes ExECutIVE  -  Sales ',\n",
       "       ' REseARCh SCIenTIst  -  Research & Development ',\n",
       "       ' sALEs exECuTiVe  -  Sales ',\n",
       "       ' rEseArCh SCieNtiST  -  Research & Development ',\n",
       "       ' lABoRAtoRY TecHnIcian  -  Research & Development ',\n",
       "       ' researcH SciEntIST  -  Research & Development ',\n",
       "       ' REseARCH ScIeNTIST  -  Research & Development ',\n",
       "       ' sAles ExecUtive  -  Sales ',\n",
       "       ' mAnUfaCTuRing DiRecTor  -  Research & Development ',\n",
       "       ' SaLes exEcUtIvE  -  Sales ',\n",
       "       ' ReseArCH scIenTIst  -  Research & Development ',\n",
       "       ' ReseArch sCienTiST  -  Research & Development ',\n",
       "       ' ReSEarcH SCiEnTISt  -  Research & Development ',\n",
       "       ' laBORATORY tECHNiciAN  -  Research & Development ',\n",
       "       ' rESeArCH sCIeNtISt  -  Research & Development ',\n",
       "       ' humAN resoURCEs  -  Human Resources ',\n",
       "       ' REseARCh scieNTIsT  -  Research & Development ',\n",
       "       ' SaLeS REPRESENtATIvE  -  Sales ',\n",
       "       ' ResEArch SciEntiST  -  Research & Development ',\n",
       "       ' ReSEaRCh SCIEnTist  -  Research & Development ',\n",
       "       ' hUmAn REsOurCES  -  Human Resources ',\n",
       "       ' sALeS EXecuTIVe  -  Sales ',\n",
       "       ' ReseArCh SciENTIsT  -  Research & Development ',\n",
       "       ' sALes rEprESentAtIvE  -  Sales ',\n",
       "       ' humaN reSOUrcEs  -  Human Resources ',\n",
       "       ' lAboRatOrY TechNiCiAn  -  Research & Development ',\n",
       "       ' HeAlthcaRE rEPrEseNTaTIVE  -  Research & Development ',\n",
       "       ' sALeS eXecuTIvE  -  Sales ', ' SALeS RepREsEnTatiVe  -  Sales ',\n",
       "       ' SaLes rePrESENTaTivE  -  Sales ',\n",
       "       ' rESEaRch sCientISt  -  Research & Development ',\n",
       "       ' laBORatoRy TEcHnician  -  Research & Development ',\n",
       "       ' ReSeaRch SCIentiST  -  Research & Development ',\n",
       "       ' RESEarch ScieNtIst  -  Research & Development ',\n",
       "       ' sALeS RePresenTAtivE  -  Sales ',\n",
       "       ' LABORAToRy tEchNICiAn  -  Research & Development ',\n",
       "       ' ResEArch sCIEnTiST  -  Research & Development ',\n",
       "       ' ReSEArcH sCIeNtist  -  Research & Development ',\n",
       "       ' LaBoRaTory techNICIAN  -  Research & Development ',\n",
       "       ' hEaLThcARE rEpresEntATiVE  -  Research & Development ',\n",
       "       ' mANufActuRIng DirECTOR  -  Research & Development ',\n",
       "       ' laBOraTOrY TecHNIcIan  -  Research & Development ',\n",
       "       ' sALES ReprEsentatiVE  -  Sales ',\n",
       "       ' laBoRatoRy TEChNICiAN  -  Research & Development ',\n",
       "       ' ReSEarch scIeNTIsT  -  Research & Development ',\n",
       "       ' researCh SCientIsT  -  Research & Development ',\n",
       "       ' ReseaRch scIENTisT  -  Research & Development ',\n",
       "       ' lAboRaToRY teChNICIan  -  Research & Development ',\n",
       "       ' rEsEaRCh diReCtOR  -  Research & Development ',\n",
       "       ' labORAtoRy tEcHNICIAN  -  Research & Development ',\n",
       "       ' SAlES exeCutive  -  Sales ',\n",
       "       ' hEalthCaRe reprEseNTaTiVe  -  Research & Development ',\n",
       "       ' ManufacTURInG DIRECtOR  -  Research & Development ',\n",
       "       ' sAles exEcUtIve  -  Sales ',\n",
       "       ' reseARCh SCieNTisT  -  Research & Development ',\n",
       "       ' reSEarcH scIENtISt  -  Research & Development ',\n",
       "       ' reseArCH scIentISt  -  Research & Development ',\n",
       "       ' MANuFaCturiNG dIRECTOR  -  Research & Development ',\n",
       "       ' HuMan resoUrCes  -  Human Resources ',\n",
       "       ' huMAn Resources  -  Human Resources ',\n",
       "       ' Sales EXEcUTiVe  -  Sales ',\n",
       "       ' reSEaRCH scIenTisT  -  Research & Development ',\n",
       "       ' sales rEpRESEnTatIve  -  Sales ',\n",
       "       ' reseaRch DIrecTOr  -  Research & Development ',\n",
       "       ' sALeS eXECutivE  -  Sales ',\n",
       "       ' Human REsouRCeS  -  Human Resources ',\n",
       "       ' rESeArcH sCientIST  -  Research & Development ',\n",
       "       ' SAlES RepreSENtATiVe  -  Sales ', ' SAles execUTIve  -  Sales ',\n",
       "       ' RESEArch SCIEnTISt  -  Research & Development ',\n",
       "       ' labOrATOry TEchnIcIaN  -  Research & Development ',\n",
       "       ' sALes ExEcUTIVe  -  Sales ',\n",
       "       ' REsEARch sCIenTIsT  -  Research & Development ',\n",
       "       ' RESeARch ScIeNtisT  -  Research & Development ',\n",
       "       ' rEseARCH ScIeNtIST  -  Research & Development ',\n",
       "       ' ManAGEr  -  Research & Development ',\n",
       "       ' LaBoratory TECHnICIAn  -  Research & Development ',\n",
       "       ' saLES exEcutivE  -  Sales ',\n",
       "       ' LABorATory TecHnIcIaN  -  Research & Development ',\n",
       "       ' HumAN REsourceS  -  Human Resources ',\n",
       "       ' reseaRCh SCIentIst  -  Research & Development ',\n",
       "       ' LaBOrAToRy teChNiciAn  -  Research & Development ',\n",
       "       ' LaborAtorY Technician  -  Research & Development ',\n",
       "       ' rEseaRCH sCIeNtiSt  -  Research & Development ',\n",
       "       ' LABOrATOrY TEchnIcIAn  -  Research & Development ',\n",
       "       ' ReSeARCh DireCtOr  -  Research & Development ',\n",
       "       ' LaBORatORy tEchNiCian  -  Research & Development ',\n",
       "       ' laBorATOrY TeChNIcIAn  -  Research & Development ',\n",
       "       ' sALEs RePREsentaTive  -  Sales ', ' mAnageR  -  Sales ',\n",
       "       ' rESEArcH SCiEntIst  -  Research & Development ',\n",
       "       ' heAlThcaRe REprESeNTATive  -  Research & Development ',\n",
       "       ' LABoratOry TeCHnIcIan  -  Research & Development ',\n",
       "       ' hEAlthCarE rEpresenTATiVe  -  Research & Development ',\n",
       "       ' HealTHcaRE rEPreSEntATive  -  Research & Development ',\n",
       "       ' MaNUfActuRInG diREctOr  -  Research & Development ',\n",
       "       ' saLes REPrEsentAtiVE  -  Sales ',\n",
       "       ' LABorAtORy TEchnIciAn  -  Research & Development ',\n",
       "       ' rEsEARcH ScieNTisT  -  Research & Development ',\n",
       "       ' SalEs eXecuTive  -  Sales ', ' SaLeS EXEcUTiVe  -  Sales ',\n",
       "       ' MaNufacTuRINg DirEcTor  -  Research & Development ',\n",
       "       ' resEaRcH scIENTiSt  -  Research & Development ',\n",
       "       ' SALes eXECuTIvE  -  Sales ',\n",
       "       ' LabORatORy tEChnIcIAn  -  Research & Development ',\n",
       "       ' LaBorAtOrY teCHNICIAn  -  Research & Development ',\n",
       "       ' saLEs RePREsentAtiVE  -  Sales ',\n",
       "       ' laBOrATORY TechNiCiAn  -  Research & Development ',\n",
       "       ' sALes exECutIVe  -  Sales ',\n",
       "       ' LabOraToRy technICiAN  -  Research & Development ',\n",
       "       ' lAborAtORY TeCHNIciAN  -  Research & Development ',\n",
       "       ' SAlES rePrESentaTIVe  -  Sales ',\n",
       "       ' mANager  -  Research & Development ',\n",
       "       ' HEAlThcARe rEPREseNtATIVe  -  Research & Development ',\n",
       "       ' REsEArCH dIrECTOr  -  Research & Development ',\n",
       "       ' rESeaRch SCIeNTIST  -  Research & Development ',\n",
       "       ' SALEs REpRESentatIve  -  Sales ', ' SalES eXecUTiVE  -  Sales ',\n",
       "       ' SaLes REPREseNtATive  -  Sales ',\n",
       "       ' ReSeArch sCIEnTiSt  -  Research & Development ',\n",
       "       ' sales REPReSeNtAtIVe  -  Sales ', ' sAles execUtIve  -  Sales ',\n",
       "       ' LABOrATORy tEChNiCIaN  -  Research & Development ',\n",
       "       ' hEalthCarE REPResEnTaTive  -  Research & Development ',\n",
       "       ' mANagER  -  Research & Development ',\n",
       "       ' sales repResENTaTiVE  -  Sales ',\n",
       "       ' laboRAToRY tEChniCIAN  -  Research & Development ',\n",
       "       ' resEaRcH sCIeNTisT  -  Research & Development ',\n",
       "       ' maNuFAcTurING diREctOr  -  Research & Development ',\n",
       "       ' mAnAger  -  Research & Development ',\n",
       "       ' SALes eXEcUtiVe  -  Sales ',\n",
       "       ' reSearCh SCiEnTist  -  Research & Development ',\n",
       "       ' rESEARch SciENtiSt  -  Research & Development ',\n",
       "       ' hUman ResourCeS  -  Human Resources ',\n",
       "       ' SALES exeCUtIve  -  Sales ',\n",
       "       ' ReseaRcH sCientiSt  -  Research & Development ',\n",
       "       ' LAbORaTory tEcHnIciAN  -  Research & Development ',\n",
       "       ' lABOraTOrY tecHniciaN  -  Research & Development ',\n",
       "       ' sALeS exEcUtiVe  -  Sales ', ' salEs eXEcuTIvE  -  Sales ',\n",
       "       ' SAleS ExEcuTiVE  -  Sales ', ' SaLeS exEcUTiVE  -  Sales ',\n",
       "       ' ReSEArch scieNTiST  -  Research & Development ',\n",
       "       ' reSEArCh sCieNtiST  -  Research & Development ',\n",
       "       ' ReseaRCh dIRecTor  -  Research & Development ',\n",
       "       ' SaLEs ExECUtiVE  -  Sales ',\n",
       "       ' LAbORAToRy tEcHNICian  -  Research & Development ',\n",
       "       ' sAleS EXECUtIvE  -  Sales '], dtype=object)"
      ]
     },
     "execution_count": 47,
     "metadata": {},
     "output_type": "execute_result"
    }
   ],
   "source": [
    "print(df['RoleDepartament'].dtype) # tipo object\n",
    "df['RoleDepartament'].unique() # contiene nan, también habría que corregir los nombres"
   ]
  },
  {
   "cell_type": "code",
   "execution_count": 48,
   "metadata": {},
   "outputs": [
    {
     "name": "stdout",
     "output_type": "stream",
     "text": [
      "float64\n"
     ]
    },
    {
     "data": {
      "text/plain": [
       "array([nan])"
      ]
     },
     "execution_count": 48,
     "metadata": {},
     "output_type": "execute_result"
    }
   ],
   "source": [
    "print(df['NUMBERCHILDREN'].dtype) # tipo decimales\n",
    "df['NUMBERCHILDREN'].unique() # todos los valores son nan, eliminamos la columna?"
   ]
  },
  {
   "cell_type": "code",
   "execution_count": 49,
   "metadata": {},
   "outputs": [
    {
     "name": "stdout",
     "output_type": "stream",
     "text": [
      "object\n"
     ]
    },
    {
     "data": {
      "text/plain": [
       "array(['Yes', '1', 'False', '0', 'True'], dtype=object)"
      ]
     },
     "execution_count": 49,
     "metadata": {},
     "output_type": "execute_result"
    }
   ],
   "source": [
    "print(df['RemoteWork'].dtype) # tipo object\n",
    "df['RemoteWork'].unique() # unificar criterios"
   ]
  },
  {
   "cell_type": "markdown",
   "metadata": {},
   "source": [
    "# Columnas del indice 11 al 20"
   ]
  },
  {
   "cell_type": "code",
   "execution_count": 50,
   "metadata": {},
   "outputs": [
    {
     "data": {
      "text/html": [
       "<div>\n",
       "<style scoped>\n",
       "    .dataframe tbody tr th:only-of-type {\n",
       "        vertical-align: middle;\n",
       "    }\n",
       "\n",
       "    .dataframe tbody tr th {\n",
       "        vertical-align: top;\n",
       "    }\n",
       "\n",
       "    .dataframe thead th {\n",
       "        text-align: right;\n",
       "    }\n",
       "</style>\n",
       "<table border=\"1\" class=\"dataframe\">\n",
       "  <thead>\n",
       "    <tr style=\"text-align: right;\">\n",
       "      <th></th>\n",
       "      <th>EnvironmentSatisfaction</th>\n",
       "      <th>Gender</th>\n",
       "      <th>HourlyRate</th>\n",
       "      <th>JobInvolvement</th>\n",
       "      <th>JobLevel</th>\n",
       "      <th>JobRole</th>\n",
       "      <th>JobSatisfaction</th>\n",
       "      <th>MaritalStatus</th>\n",
       "      <th>MonthlyIncome</th>\n",
       "      <th>MonthlyRate</th>\n",
       "    </tr>\n",
       "  </thead>\n",
       "  <tbody>\n",
       "    <tr>\n",
       "      <th>0</th>\n",
       "      <td>1</td>\n",
       "      <td>0</td>\n",
       "      <td>51</td>\n",
       "      <td>3</td>\n",
       "      <td>5</td>\n",
       "      <td>resEArch DIREcToR</td>\n",
       "      <td>3</td>\n",
       "      <td>NaN</td>\n",
       "      <td>19537,0</td>\n",
       "      <td>6462</td>\n",
       "    </tr>\n",
       "    <tr>\n",
       "      <th>1</th>\n",
       "      <td>3</td>\n",
       "      <td>0</td>\n",
       "      <td>65</td>\n",
       "      <td>2</td>\n",
       "      <td>5</td>\n",
       "      <td>ManAGeR</td>\n",
       "      <td>3</td>\n",
       "      <td>NaN</td>\n",
       "      <td>19999,0</td>\n",
       "      <td>5678</td>\n",
       "    </tr>\n",
       "    <tr>\n",
       "      <th>2</th>\n",
       "      <td>3</td>\n",
       "      <td>0</td>\n",
       "      <td>58</td>\n",
       "      <td>3</td>\n",
       "      <td>5</td>\n",
       "      <td>ManaGER</td>\n",
       "      <td>4</td>\n",
       "      <td>Married</td>\n",
       "      <td>19232,0</td>\n",
       "      <td>4933</td>\n",
       "    </tr>\n",
       "    <tr>\n",
       "      <th>3</th>\n",
       "      <td>1</td>\n",
       "      <td>1</td>\n",
       "      <td>82</td>\n",
       "      <td>3</td>\n",
       "      <td>4</td>\n",
       "      <td>ReseArCH DIrECtOr</td>\n",
       "      <td>3</td>\n",
       "      <td>Married</td>\n",
       "      <td>17169,0</td>\n",
       "      <td>26703</td>\n",
       "    </tr>\n",
       "    <tr>\n",
       "      <th>4</th>\n",
       "      <td>1</td>\n",
       "      <td>1</td>\n",
       "      <td>45</td>\n",
       "      <td>4</td>\n",
       "      <td>4</td>\n",
       "      <td>sAleS EXECUtIve</td>\n",
       "      <td>1</td>\n",
       "      <td>Divorced</td>\n",
       "      <td>NaN</td>\n",
       "      <td>7739</td>\n",
       "    </tr>\n",
       "    <tr>\n",
       "      <th>...</th>\n",
       "      <td>...</td>\n",
       "      <td>...</td>\n",
       "      <td>...</td>\n",
       "      <td>...</td>\n",
       "      <td>...</td>\n",
       "      <td>...</td>\n",
       "      <td>...</td>\n",
       "      <td>...</td>\n",
       "      <td>...</td>\n",
       "      <td>...</td>\n",
       "    </tr>\n",
       "    <tr>\n",
       "      <th>1609</th>\n",
       "      <td>3</td>\n",
       "      <td>0</td>\n",
       "      <td>51</td>\n",
       "      <td>2</td>\n",
       "      <td>3</td>\n",
       "      <td>saLEs ExeCUTiVe</td>\n",
       "      <td>4</td>\n",
       "      <td>Married</td>\n",
       "      <td>10325,0</td>\n",
       "      <td>5518</td>\n",
       "    </tr>\n",
       "    <tr>\n",
       "      <th>1610</th>\n",
       "      <td>3</td>\n",
       "      <td>0</td>\n",
       "      <td>57</td>\n",
       "      <td>3</td>\n",
       "      <td>2</td>\n",
       "      <td>LAboRaTOry tECHNiCIAn</td>\n",
       "      <td>2</td>\n",
       "      <td>NaN</td>\n",
       "      <td>4447,0</td>\n",
       "      <td>23163</td>\n",
       "    </tr>\n",
       "    <tr>\n",
       "      <th>1611</th>\n",
       "      <td>13</td>\n",
       "      <td>0</td>\n",
       "      <td>41</td>\n",
       "      <td>4</td>\n",
       "      <td>3</td>\n",
       "      <td>sAlES ExECUTivE</td>\n",
       "      <td>3</td>\n",
       "      <td>Single</td>\n",
       "      <td>NaN</td>\n",
       "      <td>2560</td>\n",
       "    </tr>\n",
       "    <tr>\n",
       "      <th>1612</th>\n",
       "      <td>1</td>\n",
       "      <td>0</td>\n",
       "      <td>84</td>\n",
       "      <td>3</td>\n",
       "      <td>2</td>\n",
       "      <td>SaLes ExecUtIVe</td>\n",
       "      <td>4</td>\n",
       "      <td>Divorced</td>\n",
       "      <td>NaN</td>\n",
       "      <td>25952</td>\n",
       "    </tr>\n",
       "    <tr>\n",
       "      <th>1613</th>\n",
       "      <td>4</td>\n",
       "      <td>0</td>\n",
       "      <td>75</td>\n",
       "      <td>3</td>\n",
       "      <td>3</td>\n",
       "      <td>mAnUfactURInG DiRECTOr</td>\n",
       "      <td>3</td>\n",
       "      <td>NaN</td>\n",
       "      <td>10845,0</td>\n",
       "      <td>24208</td>\n",
       "    </tr>\n",
       "  </tbody>\n",
       "</table>\n",
       "<p>1614 rows × 10 columns</p>\n",
       "</div>"
      ],
      "text/plain": [
       "      EnvironmentSatisfaction  Gender HourlyRate  JobInvolvement  JobLevel  \\\n",
       "0                           1       0         51               3         5   \n",
       "1                           3       0         65               2         5   \n",
       "2                           3       0         58               3         5   \n",
       "3                           1       1         82               3         4   \n",
       "4                           1       1         45               4         4   \n",
       "...                       ...     ...        ...             ...       ...   \n",
       "1609                        3       0         51               2         3   \n",
       "1610                        3       0         57               3         2   \n",
       "1611                       13       0         41               4         3   \n",
       "1612                        1       0         84               3         2   \n",
       "1613                        4       0         75               3         3   \n",
       "\n",
       "                       JobRole  JobSatisfaction MaritalStatus MonthlyIncome  \\\n",
       "0           resEArch DIREcToR                 3           NaN       19537,0   \n",
       "1                     ManAGeR                 3           NaN       19999,0   \n",
       "2                     ManaGER                 4       Married       19232,0   \n",
       "3           ReseArCH DIrECtOr                 3       Married       17169,0   \n",
       "4             sAleS EXECUtIve                 1      Divorced           NaN   \n",
       "...                        ...              ...           ...           ...   \n",
       "1609          saLEs ExeCUTiVe                 4       Married       10325,0   \n",
       "1610    LAboRaTOry tECHNiCIAn                 2           NaN        4447,0   \n",
       "1611          sAlES ExECUTivE                 3        Single           NaN   \n",
       "1612          SaLes ExecUtIVe                 4      Divorced           NaN   \n",
       "1613   mAnUfactURInG DiRECTOr                 3           NaN       10845,0   \n",
       "\n",
       "      MonthlyRate  \n",
       "0            6462  \n",
       "1            5678  \n",
       "2            4933  \n",
       "3           26703  \n",
       "4            7739  \n",
       "...           ...  \n",
       "1609         5518  \n",
       "1610        23163  \n",
       "1611         2560  \n",
       "1612        25952  \n",
       "1613        24208  \n",
       "\n",
       "[1614 rows x 10 columns]"
      ]
     },
     "execution_count": 50,
     "metadata": {},
     "output_type": "execute_result"
    }
   ],
   "source": [
    "#Creo un sub data frame con las columnas que quiero mirar\n",
    "subset_df = df.iloc[:, 11:21] \n",
    "subset_df"
   ]
  },
  {
   "cell_type": "code",
   "execution_count": 51,
   "metadata": {},
   "outputs": [],
   "source": [
    "# Calcular el número de valores nulos en la columna 'mi_columna'\n",
    "def nulos(data, columna):\n",
    "    nulos_en_columna = data[columna].isnull().sum()\n",
    "    return nulos_en_columna"
   ]
  },
  {
   "cell_type": "code",
   "execution_count": 52,
   "metadata": {},
   "outputs": [],
   "source": [
    "# Encontrar valores nulos\n",
    "def indices_nulos (df):\n",
    "    null_values = df.isnull()\n",
    "    # Usar iloc para encontrar las posiciones de los valores nulos\n",
    "    for i in range(len(df)):\n",
    "        for j in range(len(df.columns)):\n",
    "            if null_values.iloc[i, j]:\n",
    "                print(f'Valor nulo encontrado en fila {i}, columna {df.columns[j]}')"
   ]
  },
  {
   "cell_type": "markdown",
   "metadata": {},
   "source": [
    "Miramos cuantos valores nulos hay por columna"
   ]
  },
  {
   "cell_type": "code",
   "execution_count": 53,
   "metadata": {},
   "outputs": [
    {
     "data": {
      "text/plain": [
       "EnvironmentSatisfaction    0\n",
       "dtype: int64"
      ]
     },
     "execution_count": 53,
     "metadata": {},
     "output_type": "execute_result"
    }
   ],
   "source": [
    "nulos_Enviro = nulos (subset_df, ['EnvironmentSatisfaction'])\n",
    "nulos_Enviro"
   ]
  },
  {
   "cell_type": "code",
   "execution_count": 54,
   "metadata": {},
   "outputs": [
    {
     "data": {
      "text/plain": [
       "Gender    0\n",
       "dtype: int64"
      ]
     },
     "execution_count": 54,
     "metadata": {},
     "output_type": "execute_result"
    }
   ],
   "source": [
    "nulos_gender = nulos(subset_df, ['Gender'])\n",
    "nulos_gender"
   ]
  },
  {
   "cell_type": "code",
   "execution_count": 55,
   "metadata": {},
   "outputs": [
    {
     "data": {
      "text/plain": [
       "HourlyRate    0\n",
       "dtype: int64"
      ]
     },
     "execution_count": 55,
     "metadata": {},
     "output_type": "execute_result"
    }
   ],
   "source": [
    "nulos_HourlyRate = nulos(subset_df, ['HourlyRate'])\n",
    "nulos_HourlyRate"
   ]
  },
  {
   "cell_type": "code",
   "execution_count": 56,
   "metadata": {},
   "outputs": [
    {
     "data": {
      "text/plain": [
       "JobInvolvement    0\n",
       "dtype: int64"
      ]
     },
     "execution_count": 56,
     "metadata": {},
     "output_type": "execute_result"
    }
   ],
   "source": [
    "nulos_JobInvolvement = nulos(subset_df, ['JobInvolvement'])\n",
    "nulos_JobInvolvement"
   ]
  },
  {
   "cell_type": "code",
   "execution_count": 57,
   "metadata": {},
   "outputs": [
    {
     "data": {
      "text/plain": [
       "JobLevel    0\n",
       "dtype: int64"
      ]
     },
     "execution_count": 57,
     "metadata": {},
     "output_type": "execute_result"
    }
   ],
   "source": [
    "nulos_JobLevel = nulos(subset_df, ['JobLevel'])\n",
    "nulos_JobLevel"
   ]
  },
  {
   "cell_type": "code",
   "execution_count": 58,
   "metadata": {},
   "outputs": [
    {
     "data": {
      "text/plain": [
       "JobRole    0\n",
       "dtype: int64"
      ]
     },
     "execution_count": 58,
     "metadata": {},
     "output_type": "execute_result"
    }
   ],
   "source": [
    "nulos_JobRole = nulos(subset_df, ['JobRole'])\n",
    "nulos_JobRole"
   ]
  },
  {
   "cell_type": "code",
   "execution_count": 59,
   "metadata": {},
   "outputs": [
    {
     "data": {
      "text/plain": [
       "JobSatisfaction    0\n",
       "dtype: int64"
      ]
     },
     "execution_count": 59,
     "metadata": {},
     "output_type": "execute_result"
    }
   ],
   "source": [
    "nulos_JobSatisfaction= nulos(subset_df, ['JobSatisfaction'])\n",
    "nulos_JobSatisfaction"
   ]
  },
  {
   "cell_type": "code",
   "execution_count": 60,
   "metadata": {},
   "outputs": [
    {
     "data": {
      "text/plain": [
       "MaritalStatus    651\n",
       "dtype: int64"
      ]
     },
     "execution_count": 60,
     "metadata": {},
     "output_type": "execute_result"
    }
   ],
   "source": [
    "nulos_marital = nulos (subset_df, ['MaritalStatus'])\n",
    "nulos_marital"
   ]
  },
  {
   "cell_type": "code",
   "execution_count": 61,
   "metadata": {},
   "outputs": [
    {
     "data": {
      "text/plain": [
       "MonthlyIncome    843\n",
       "dtype: int64"
      ]
     },
     "execution_count": 61,
     "metadata": {},
     "output_type": "execute_result"
    }
   ],
   "source": [
    "nulos_income = nulos(subset_df, ['MonthlyIncome'])\n",
    "nulos_income"
   ]
  },
  {
   "cell_type": "code",
   "execution_count": 62,
   "metadata": {},
   "outputs": [
    {
     "data": {
      "text/plain": [
       "MonthlyRate    0\n",
       "dtype: int64"
      ]
     },
     "execution_count": 62,
     "metadata": {},
     "output_type": "execute_result"
    }
   ],
   "source": [
    "nulos_rate = nulos(subset_df, ['MonthlyRate'])\n",
    "nulos_rate"
   ]
  },
  {
   "cell_type": "markdown",
   "metadata": {},
   "source": [
    "Miramos algunas de las columnas y sus valores"
   ]
  },
  {
   "cell_type": "code",
   "execution_count": 63,
   "metadata": {},
   "outputs": [
    {
     "data": {
      "text/plain": [
       "array([nan, 'Married', 'Divorced', 'Single', 'divorced', 'Marreid'],\n",
       "      dtype=object)"
      ]
     },
     "execution_count": 63,
     "metadata": {},
     "output_type": "execute_result"
    }
   ],
   "source": [
    "subset_df[\"MaritalStatus\"].unique()"
   ]
  },
  {
   "cell_type": "code",
   "execution_count": 64,
   "metadata": {},
   "outputs": [
    {
     "data": {
      "text/plain": [
       "array([' resEArch DIREcToR ', ' ManAGeR ', ' ManaGER ', ...,\n",
       "       ' sAlES ExECUTivE ', ' SaLes ExecUtIVe ',\n",
       "       ' mAnUfactURInG DiRECTOr '], dtype=object)"
      ]
     },
     "execution_count": 64,
     "metadata": {},
     "output_type": "execute_result"
    }
   ],
   "source": [
    "subset_df[\"JobRole\"].unique()\n",
    "#JobRole hay distintas formas de nombrar los roles, con errores, ademas de minusculas y mayusculas"
   ]
  },
  {
   "cell_type": "code",
   "execution_count": 65,
   "metadata": {},
   "outputs": [
    {
     "data": {
      "text/plain": [
       "array([5, 4, 3, 2, 1], dtype=int64)"
      ]
     },
     "execution_count": 65,
     "metadata": {},
     "output_type": "execute_result"
    }
   ],
   "source": [
    "subset_df[\"JobLevel\"].unique()"
   ]
  },
  {
   "cell_type": "code",
   "execution_count": 66,
   "metadata": {},
   "outputs": [
    {
     "data": {
      "text/plain": [
       "array([ 6462,  5678,  4933, ..., 15302, 26956, 16642], dtype=int64)"
      ]
     },
     "execution_count": 66,
     "metadata": {},
     "output_type": "execute_result"
    }
   ],
   "source": [
    "subset_df[\"MonthlyRate\"].unique()"
   ]
  },
  {
   "cell_type": "markdown",
   "metadata": {},
   "source": [
    "# 2. Eliminacion de columnas que no vamos a usar"
   ]
  },
  {
   "cell_type": "code",
   "execution_count": null,
   "metadata": {},
   "outputs": [],
   "source": [
    "#Estas son las columnas que vamos a eliminar\n",
    "\n",
    " \n",
    "'employeecount' # Porque siempre es el mismo valor y es un contador de los empleados\n",
    "'Over18' # Porque ya tenemos la edad y tiene muchos valores perdidos\n",
    "'StandardHours' # Porque todos tienen el mismo valor que es 80 y ademas tienen muchos valores perdidos\n",
    "'Salary' # Porque es igual a 10000000$ en todos los valores del dataframe\n",
    "'NUMBERCHILDREN' # Porque no tiene ningun valor y es todo con valores missing.\n"
   ]
  },
  {
   "cell_type": "code",
   "execution_count": 80,
   "metadata": {},
   "outputs": [
    {
     "ename": "KeyError",
     "evalue": "\"['employeecount', 'Over18', 'StandardHours', 'Salary', 'NUMBERCHILDREN'] not found in axis\"",
     "output_type": "error",
     "traceback": [
      "\u001b[1;31m---------------------------------------------------------------------------\u001b[0m",
      "\u001b[1;31mKeyError\u001b[0m                                  Traceback (most recent call last)",
      "Cell \u001b[1;32mIn[80], line 1\u001b[0m\n\u001b[1;32m----> 1\u001b[0m df_nuevo\u001b[38;5;241m=\u001b[39m\u001b[43mdf\u001b[49m\u001b[38;5;241;43m.\u001b[39;49m\u001b[43mdrop\u001b[49m\u001b[43m(\u001b[49m\u001b[43mcolumns\u001b[49m\u001b[38;5;241;43m=\u001b[39;49m\u001b[43m[\u001b[49m\u001b[38;5;124;43m\"\u001b[39;49m\u001b[38;5;124;43memployeecount\u001b[39;49m\u001b[38;5;124;43m\"\u001b[39;49m\u001b[43m,\u001b[49m\u001b[43m \u001b[49m\u001b[38;5;124;43m\"\u001b[39;49m\u001b[38;5;124;43mOver18\u001b[39;49m\u001b[38;5;124;43m\"\u001b[39;49m\u001b[43m,\u001b[49m\u001b[43m \u001b[49m\u001b[38;5;124;43m\"\u001b[39;49m\u001b[38;5;124;43mStandardHours\u001b[39;49m\u001b[38;5;124;43m\"\u001b[39;49m\u001b[43m,\u001b[49m\u001b[38;5;124;43m\"\u001b[39;49m\u001b[38;5;124;43mSalary\u001b[39;49m\u001b[38;5;124;43m\"\u001b[39;49m\u001b[43m,\u001b[49m\u001b[43m \u001b[49m\u001b[38;5;124;43m\"\u001b[39;49m\u001b[38;5;124;43mNUMBERCHILDREN\u001b[39;49m\u001b[38;5;124;43m\"\u001b[39;49m\u001b[43m]\u001b[49m\u001b[43m,\u001b[49m\u001b[43minplace\u001b[49m\u001b[38;5;241;43m=\u001b[39;49m\u001b[38;5;28;43;01mTrue\u001b[39;49;00m\u001b[43m \u001b[49m\u001b[43m)\u001b[49m\n\u001b[0;32m      2\u001b[0m df_nuevo\u001b[38;5;241m.\u001b[39mcolumns\n",
      "File \u001b[1;32mc:\\Users\\maria\\AppData\\Local\\Programs\\Python\\Python312\\Lib\\site-packages\\pandas\\core\\frame.py:5581\u001b[0m, in \u001b[0;36mDataFrame.drop\u001b[1;34m(self, labels, axis, index, columns, level, inplace, errors)\u001b[0m\n\u001b[0;32m   5433\u001b[0m \u001b[38;5;28;01mdef\u001b[39;00m \u001b[38;5;21mdrop\u001b[39m(\n\u001b[0;32m   5434\u001b[0m     \u001b[38;5;28mself\u001b[39m,\n\u001b[0;32m   5435\u001b[0m     labels: IndexLabel \u001b[38;5;241m|\u001b[39m \u001b[38;5;28;01mNone\u001b[39;00m \u001b[38;5;241m=\u001b[39m \u001b[38;5;28;01mNone\u001b[39;00m,\n\u001b[1;32m   (...)\u001b[0m\n\u001b[0;32m   5442\u001b[0m     errors: IgnoreRaise \u001b[38;5;241m=\u001b[39m \u001b[38;5;124m\"\u001b[39m\u001b[38;5;124mraise\u001b[39m\u001b[38;5;124m\"\u001b[39m,\n\u001b[0;32m   5443\u001b[0m ) \u001b[38;5;241m-\u001b[39m\u001b[38;5;241m>\u001b[39m DataFrame \u001b[38;5;241m|\u001b[39m \u001b[38;5;28;01mNone\u001b[39;00m:\n\u001b[0;32m   5444\u001b[0m \u001b[38;5;250m    \u001b[39m\u001b[38;5;124;03m\"\"\"\u001b[39;00m\n\u001b[0;32m   5445\u001b[0m \u001b[38;5;124;03m    Drop specified labels from rows or columns.\u001b[39;00m\n\u001b[0;32m   5446\u001b[0m \n\u001b[1;32m   (...)\u001b[0m\n\u001b[0;32m   5579\u001b[0m \u001b[38;5;124;03m            weight  1.0     0.8\u001b[39;00m\n\u001b[0;32m   5580\u001b[0m \u001b[38;5;124;03m    \"\"\"\u001b[39;00m\n\u001b[1;32m-> 5581\u001b[0m     \u001b[38;5;28;01mreturn\u001b[39;00m \u001b[38;5;28;43msuper\u001b[39;49m\u001b[43m(\u001b[49m\u001b[43m)\u001b[49m\u001b[38;5;241;43m.\u001b[39;49m\u001b[43mdrop\u001b[49m\u001b[43m(\u001b[49m\n\u001b[0;32m   5582\u001b[0m \u001b[43m        \u001b[49m\u001b[43mlabels\u001b[49m\u001b[38;5;241;43m=\u001b[39;49m\u001b[43mlabels\u001b[49m\u001b[43m,\u001b[49m\n\u001b[0;32m   5583\u001b[0m \u001b[43m        \u001b[49m\u001b[43maxis\u001b[49m\u001b[38;5;241;43m=\u001b[39;49m\u001b[43maxis\u001b[49m\u001b[43m,\u001b[49m\n\u001b[0;32m   5584\u001b[0m \u001b[43m        \u001b[49m\u001b[43mindex\u001b[49m\u001b[38;5;241;43m=\u001b[39;49m\u001b[43mindex\u001b[49m\u001b[43m,\u001b[49m\n\u001b[0;32m   5585\u001b[0m \u001b[43m        \u001b[49m\u001b[43mcolumns\u001b[49m\u001b[38;5;241;43m=\u001b[39;49m\u001b[43mcolumns\u001b[49m\u001b[43m,\u001b[49m\n\u001b[0;32m   5586\u001b[0m \u001b[43m        \u001b[49m\u001b[43mlevel\u001b[49m\u001b[38;5;241;43m=\u001b[39;49m\u001b[43mlevel\u001b[49m\u001b[43m,\u001b[49m\n\u001b[0;32m   5587\u001b[0m \u001b[43m        \u001b[49m\u001b[43minplace\u001b[49m\u001b[38;5;241;43m=\u001b[39;49m\u001b[43minplace\u001b[49m\u001b[43m,\u001b[49m\n\u001b[0;32m   5588\u001b[0m \u001b[43m        \u001b[49m\u001b[43merrors\u001b[49m\u001b[38;5;241;43m=\u001b[39;49m\u001b[43merrors\u001b[49m\u001b[43m,\u001b[49m\n\u001b[0;32m   5589\u001b[0m \u001b[43m    \u001b[49m\u001b[43m)\u001b[49m\n",
      "File \u001b[1;32mc:\\Users\\maria\\AppData\\Local\\Programs\\Python\\Python312\\Lib\\site-packages\\pandas\\core\\generic.py:4788\u001b[0m, in \u001b[0;36mNDFrame.drop\u001b[1;34m(self, labels, axis, index, columns, level, inplace, errors)\u001b[0m\n\u001b[0;32m   4786\u001b[0m \u001b[38;5;28;01mfor\u001b[39;00m axis, labels \u001b[38;5;129;01min\u001b[39;00m axes\u001b[38;5;241m.\u001b[39mitems():\n\u001b[0;32m   4787\u001b[0m     \u001b[38;5;28;01mif\u001b[39;00m labels \u001b[38;5;129;01mis\u001b[39;00m \u001b[38;5;129;01mnot\u001b[39;00m \u001b[38;5;28;01mNone\u001b[39;00m:\n\u001b[1;32m-> 4788\u001b[0m         obj \u001b[38;5;241m=\u001b[39m \u001b[43mobj\u001b[49m\u001b[38;5;241;43m.\u001b[39;49m\u001b[43m_drop_axis\u001b[49m\u001b[43m(\u001b[49m\u001b[43mlabels\u001b[49m\u001b[43m,\u001b[49m\u001b[43m \u001b[49m\u001b[43maxis\u001b[49m\u001b[43m,\u001b[49m\u001b[43m \u001b[49m\u001b[43mlevel\u001b[49m\u001b[38;5;241;43m=\u001b[39;49m\u001b[43mlevel\u001b[49m\u001b[43m,\u001b[49m\u001b[43m \u001b[49m\u001b[43merrors\u001b[49m\u001b[38;5;241;43m=\u001b[39;49m\u001b[43merrors\u001b[49m\u001b[43m)\u001b[49m\n\u001b[0;32m   4790\u001b[0m \u001b[38;5;28;01mif\u001b[39;00m inplace:\n\u001b[0;32m   4791\u001b[0m     \u001b[38;5;28mself\u001b[39m\u001b[38;5;241m.\u001b[39m_update_inplace(obj)\n",
      "File \u001b[1;32mc:\\Users\\maria\\AppData\\Local\\Programs\\Python\\Python312\\Lib\\site-packages\\pandas\\core\\generic.py:4830\u001b[0m, in \u001b[0;36mNDFrame._drop_axis\u001b[1;34m(self, labels, axis, level, errors, only_slice)\u001b[0m\n\u001b[0;32m   4828\u001b[0m         new_axis \u001b[38;5;241m=\u001b[39m axis\u001b[38;5;241m.\u001b[39mdrop(labels, level\u001b[38;5;241m=\u001b[39mlevel, errors\u001b[38;5;241m=\u001b[39merrors)\n\u001b[0;32m   4829\u001b[0m     \u001b[38;5;28;01melse\u001b[39;00m:\n\u001b[1;32m-> 4830\u001b[0m         new_axis \u001b[38;5;241m=\u001b[39m \u001b[43maxis\u001b[49m\u001b[38;5;241;43m.\u001b[39;49m\u001b[43mdrop\u001b[49m\u001b[43m(\u001b[49m\u001b[43mlabels\u001b[49m\u001b[43m,\u001b[49m\u001b[43m \u001b[49m\u001b[43merrors\u001b[49m\u001b[38;5;241;43m=\u001b[39;49m\u001b[43merrors\u001b[49m\u001b[43m)\u001b[49m\n\u001b[0;32m   4831\u001b[0m     indexer \u001b[38;5;241m=\u001b[39m axis\u001b[38;5;241m.\u001b[39mget_indexer(new_axis)\n\u001b[0;32m   4833\u001b[0m \u001b[38;5;66;03m# Case for non-unique axis\u001b[39;00m\n\u001b[0;32m   4834\u001b[0m \u001b[38;5;28;01melse\u001b[39;00m:\n",
      "File \u001b[1;32mc:\\Users\\maria\\AppData\\Local\\Programs\\Python\\Python312\\Lib\\site-packages\\pandas\\core\\indexes\\base.py:7070\u001b[0m, in \u001b[0;36mIndex.drop\u001b[1;34m(self, labels, errors)\u001b[0m\n\u001b[0;32m   7068\u001b[0m \u001b[38;5;28;01mif\u001b[39;00m mask\u001b[38;5;241m.\u001b[39many():\n\u001b[0;32m   7069\u001b[0m     \u001b[38;5;28;01mif\u001b[39;00m errors \u001b[38;5;241m!=\u001b[39m \u001b[38;5;124m\"\u001b[39m\u001b[38;5;124mignore\u001b[39m\u001b[38;5;124m\"\u001b[39m:\n\u001b[1;32m-> 7070\u001b[0m         \u001b[38;5;28;01mraise\u001b[39;00m \u001b[38;5;167;01mKeyError\u001b[39;00m(\u001b[38;5;124mf\u001b[39m\u001b[38;5;124m\"\u001b[39m\u001b[38;5;132;01m{\u001b[39;00mlabels[mask]\u001b[38;5;241m.\u001b[39mtolist()\u001b[38;5;132;01m}\u001b[39;00m\u001b[38;5;124m not found in axis\u001b[39m\u001b[38;5;124m\"\u001b[39m)\n\u001b[0;32m   7071\u001b[0m     indexer \u001b[38;5;241m=\u001b[39m indexer[\u001b[38;5;241m~\u001b[39mmask]\n\u001b[0;32m   7072\u001b[0m \u001b[38;5;28;01mreturn\u001b[39;00m \u001b[38;5;28mself\u001b[39m\u001b[38;5;241m.\u001b[39mdelete(indexer)\n",
      "\u001b[1;31mKeyError\u001b[0m: \"['employeecount', 'Over18', 'StandardHours', 'Salary', 'NUMBERCHILDREN'] not found in axis\""
     ]
    }
   ],
   "source": [
    "df_nuevo=df.drop(columns=[\"employeecount\", \"Over18\", \"StandardHours\",\"Salary\", \"NUMBERCHILDREN\"],inplace=True )\n",
    "df_nuevo.columns"
   ]
  },
  {
   "cell_type": "code",
   "execution_count": null,
   "metadata": {},
   "outputs": [],
   "source": []
  },
  {
   "cell_type": "code",
   "execution_count": 72,
   "metadata": {},
   "outputs": [
    {
     "data": {
      "text/plain": [
       "Index(['Unnamed: 0', 'Age', 'Attrition', 'BusinessTravel', 'DailyRate',\n",
       "       'Department', 'DistanceFromHome', 'Education', 'EducationField',\n",
       "       'employeecount', 'employeenumber', 'EnvironmentSatisfaction', 'Gender',\n",
       "       'HourlyRate', 'JobInvolvement', 'JobLevel', 'JobRole',\n",
       "       'JobSatisfaction', 'MaritalStatus', 'MonthlyIncome', 'MonthlyRate',\n",
       "       'NUMCOMPANIESWORKED', 'Over18', 'OverTime', 'PercentSalaryHike',\n",
       "       'PerformanceRating', 'RelationshipSatisfaction', 'StandardHours',\n",
       "       'StockOptionLevel', 'TOTALWORKINGYEARS', 'TrainingTimesLastYear',\n",
       "       'WORKLIFEBALANCE', 'YearsAtCompany', 'YearsInCurrentRole',\n",
       "       'YearsSinceLastPromotion', 'YEARSWITHCURRMANAGER',\n",
       "       'SameAsMonthlyIncome', 'DateBirth', 'Salary', 'RoleDepartament',\n",
       "       'NUMBERCHILDREN', 'RemoteWork'],\n",
       "      dtype='object')"
      ]
     },
     "execution_count": 72,
     "metadata": {},
     "output_type": "execute_result"
    }
   ],
   "source": [
    "df.columns\n"
   ]
  }
 ],
 "metadata": {
  "kernelspec": {
   "display_name": "Python 3",
   "language": "python",
   "name": "python3"
  },
  "language_info": {
   "codemirror_mode": {
    "name": "ipython",
    "version": 3
   },
   "file_extension": ".py",
   "mimetype": "text/x-python",
   "name": "python",
   "nbconvert_exporter": "python",
   "pygments_lexer": "ipython3",
   "version": "3.12.3"
  }
 },
 "nbformat": 4,
 "nbformat_minor": 2
}
