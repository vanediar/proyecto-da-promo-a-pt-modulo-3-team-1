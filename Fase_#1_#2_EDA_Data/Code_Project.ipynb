{
 "cells": [
  {
   "cell_type": "code",
   "execution_count": 70,
   "metadata": {},
   "outputs": [],
   "source": [
    "#!pip install scikit-learn\n",
    "#!pip install seaborn\n",
    "#!pip install matplotlib"
   ]
  },
  {
   "cell_type": "code",
   "execution_count": 71,
   "metadata": {},
   "outputs": [],
   "source": [
    "# importamos las librerías que necesitamos\n",
    "\n",
    "# Tratamiento de datos\n",
    "# -----------------------------------------------------------------------\n",
    "import pandas as pd\n",
    "import numpy as np\n",
    "import re\n",
    "\n",
    "# Imputación de nulos usando métodos avanzados estadísticos\n",
    "# -----------------------------------------------------------------------\n",
    "from sklearn.impute import SimpleImputer\n",
    "from sklearn.experimental import enable_iterative_imputer\n",
    "from sklearn.impute import IterativeImputer\n",
    "from sklearn.impute import KNNImputer\n",
    "\n",
    "# Librerías de visualización\n",
    "# -----------------------------------------------------------------------\n",
    "import seaborn as sns\n",
    "import matplotlib.pyplot as plt\n",
    "# Configuración\n",
    "# -----------------------------------------------------------------------\n",
    "pd.set_option('display.max_columns', None) # para poder visualizar todas las columnas de los DataFrames"
   ]
  },
  {
   "cell_type": "markdown",
   "metadata": {},
   "source": [
    "# Punto --> Exploración de los datos! ✅"
   ]
  },
  {
   "cell_type": "code",
   "execution_count": 72,
   "metadata": {},
   "outputs": [
    {
     "data": {
      "text/html": [
       "<div>\n",
       "<style scoped>\n",
       "    .dataframe tbody tr th:only-of-type {\n",
       "        vertical-align: middle;\n",
       "    }\n",
       "\n",
       "    .dataframe tbody tr th {\n",
       "        vertical-align: top;\n",
       "    }\n",
       "\n",
       "    .dataframe thead th {\n",
       "        text-align: right;\n",
       "    }\n",
       "</style>\n",
       "<table border=\"1\" class=\"dataframe\">\n",
       "  <thead>\n",
       "    <tr style=\"text-align: right;\">\n",
       "      <th></th>\n",
       "      <th>Age</th>\n",
       "      <th>Attrition</th>\n",
       "      <th>BusinessTravel</th>\n",
       "      <th>DailyRate</th>\n",
       "      <th>Department</th>\n",
       "      <th>DistanceFromHome</th>\n",
       "      <th>Education</th>\n",
       "      <th>EducationField</th>\n",
       "      <th>employeecount</th>\n",
       "      <th>employeenumber</th>\n",
       "      <th>EnvironmentSatisfaction</th>\n",
       "      <th>Gender</th>\n",
       "      <th>HourlyRate</th>\n",
       "      <th>JobInvolvement</th>\n",
       "      <th>JobLevel</th>\n",
       "      <th>JobRole</th>\n",
       "      <th>JobSatisfaction</th>\n",
       "      <th>MaritalStatus</th>\n",
       "      <th>MonthlyIncome</th>\n",
       "      <th>MonthlyRate</th>\n",
       "      <th>NUMCOMPANIESWORKED</th>\n",
       "      <th>Over18</th>\n",
       "      <th>OverTime</th>\n",
       "      <th>PercentSalaryHike</th>\n",
       "      <th>PerformanceRating</th>\n",
       "      <th>RelationshipSatisfaction</th>\n",
       "      <th>StandardHours</th>\n",
       "      <th>StockOptionLevel</th>\n",
       "      <th>TOTALWORKINGYEARS</th>\n",
       "      <th>TrainingTimesLastYear</th>\n",
       "      <th>WORKLIFEBALANCE</th>\n",
       "      <th>YearsAtCompany</th>\n",
       "      <th>YearsInCurrentRole</th>\n",
       "      <th>YearsSinceLastPromotion</th>\n",
       "      <th>YEARSWITHCURRMANAGER</th>\n",
       "      <th>SameAsMonthlyIncome</th>\n",
       "      <th>DateBirth</th>\n",
       "      <th>Salary</th>\n",
       "      <th>RoleDepartament</th>\n",
       "      <th>NUMBERCHILDREN</th>\n",
       "      <th>RemoteWork</th>\n",
       "    </tr>\n",
       "  </thead>\n",
       "  <tbody>\n",
       "    <tr>\n",
       "      <th>0</th>\n",
       "      <td>51</td>\n",
       "      <td>No</td>\n",
       "      <td>NaN</td>\n",
       "      <td>684,0$</td>\n",
       "      <td>NaN</td>\n",
       "      <td>6</td>\n",
       "      <td>3</td>\n",
       "      <td>NaN</td>\n",
       "      <td>1</td>\n",
       "      <td>162,0</td>\n",
       "      <td>1</td>\n",
       "      <td>0</td>\n",
       "      <td>51</td>\n",
       "      <td>3</td>\n",
       "      <td>5</td>\n",
       "      <td>resEArch DIREcToR</td>\n",
       "      <td>3</td>\n",
       "      <td>NaN</td>\n",
       "      <td>19537,0</td>\n",
       "      <td>6462</td>\n",
       "      <td>7</td>\n",
       "      <td>Y</td>\n",
       "      <td>No</td>\n",
       "      <td>13</td>\n",
       "      <td>3,0</td>\n",
       "      <td>3</td>\n",
       "      <td>NaN</td>\n",
       "      <td>0</td>\n",
       "      <td>NaN</td>\n",
       "      <td>5</td>\n",
       "      <td>3,0</td>\n",
       "      <td>20</td>\n",
       "      <td>NaN</td>\n",
       "      <td>15</td>\n",
       "      <td>15</td>\n",
       "      <td>19537,0</td>\n",
       "      <td>1972</td>\n",
       "      <td>1000000000$</td>\n",
       "      <td>NaN</td>\n",
       "      <td>NaN</td>\n",
       "      <td>Yes</td>\n",
       "    </tr>\n",
       "    <tr>\n",
       "      <th>1</th>\n",
       "      <td>52</td>\n",
       "      <td>No</td>\n",
       "      <td>NaN</td>\n",
       "      <td>699,0$</td>\n",
       "      <td>NaN</td>\n",
       "      <td>1</td>\n",
       "      <td>4</td>\n",
       "      <td>Life Sciences</td>\n",
       "      <td>1</td>\n",
       "      <td>259,0</td>\n",
       "      <td>3</td>\n",
       "      <td>0</td>\n",
       "      <td>65</td>\n",
       "      <td>2</td>\n",
       "      <td>5</td>\n",
       "      <td>ManAGeR</td>\n",
       "      <td>3</td>\n",
       "      <td>NaN</td>\n",
       "      <td>19999,0</td>\n",
       "      <td>5678</td>\n",
       "      <td>0</td>\n",
       "      <td>NaN</td>\n",
       "      <td>NaN</td>\n",
       "      <td>14</td>\n",
       "      <td>3,0</td>\n",
       "      <td>1</td>\n",
       "      <td>NaN</td>\n",
       "      <td>1</td>\n",
       "      <td>34,0</td>\n",
       "      <td>5</td>\n",
       "      <td>3,0</td>\n",
       "      <td>33</td>\n",
       "      <td>NaN</td>\n",
       "      <td>11</td>\n",
       "      <td>9</td>\n",
       "      <td>19999,0</td>\n",
       "      <td>1971</td>\n",
       "      <td>1000000000$</td>\n",
       "      <td>NaN</td>\n",
       "      <td>NaN</td>\n",
       "      <td>1</td>\n",
       "    </tr>\n",
       "    <tr>\n",
       "      <th>2</th>\n",
       "      <td>42</td>\n",
       "      <td>No</td>\n",
       "      <td>travel_rarely</td>\n",
       "      <td>532,0$</td>\n",
       "      <td>Research &amp; Development</td>\n",
       "      <td>4</td>\n",
       "      <td>2</td>\n",
       "      <td>Technical Degree</td>\n",
       "      <td>1</td>\n",
       "      <td>319,0</td>\n",
       "      <td>3</td>\n",
       "      <td>0</td>\n",
       "      <td>58</td>\n",
       "      <td>3</td>\n",
       "      <td>5</td>\n",
       "      <td>ManaGER</td>\n",
       "      <td>4</td>\n",
       "      <td>Married</td>\n",
       "      <td>19232,0</td>\n",
       "      <td>4933</td>\n",
       "      <td>1</td>\n",
       "      <td>NaN</td>\n",
       "      <td>No</td>\n",
       "      <td>11</td>\n",
       "      <td>3,0</td>\n",
       "      <td>4</td>\n",
       "      <td>NaN</td>\n",
       "      <td>0</td>\n",
       "      <td>22,0</td>\n",
       "      <td>3</td>\n",
       "      <td>NaN</td>\n",
       "      <td>22</td>\n",
       "      <td>NaN</td>\n",
       "      <td>11</td>\n",
       "      <td>15</td>\n",
       "      <td>19232,0</td>\n",
       "      <td>1981</td>\n",
       "      <td>1000000000$</td>\n",
       "      <td>ManaGER  -  Research &amp; Development</td>\n",
       "      <td>NaN</td>\n",
       "      <td>1</td>\n",
       "    </tr>\n",
       "    <tr>\n",
       "      <th>3</th>\n",
       "      <td>47</td>\n",
       "      <td>No</td>\n",
       "      <td>travel_rarely</td>\n",
       "      <td>359,0$</td>\n",
       "      <td>NaN</td>\n",
       "      <td>2</td>\n",
       "      <td>4</td>\n",
       "      <td>Medical</td>\n",
       "      <td>1</td>\n",
       "      <td>NaN</td>\n",
       "      <td>1</td>\n",
       "      <td>1</td>\n",
       "      <td>82</td>\n",
       "      <td>3</td>\n",
       "      <td>4</td>\n",
       "      <td>ReseArCH DIrECtOr</td>\n",
       "      <td>3</td>\n",
       "      <td>Married</td>\n",
       "      <td>17169,0</td>\n",
       "      <td>26703</td>\n",
       "      <td>3</td>\n",
       "      <td>Y</td>\n",
       "      <td>NaN</td>\n",
       "      <td>19</td>\n",
       "      <td>3,0</td>\n",
       "      <td>2</td>\n",
       "      <td>NaN</td>\n",
       "      <td>2</td>\n",
       "      <td>NaN</td>\n",
       "      <td>2</td>\n",
       "      <td>NaN</td>\n",
       "      <td>20</td>\n",
       "      <td>NaN</td>\n",
       "      <td>5</td>\n",
       "      <td>6</td>\n",
       "      <td>17169,0</td>\n",
       "      <td>1976</td>\n",
       "      <td>1000000000$</td>\n",
       "      <td>NaN</td>\n",
       "      <td>NaN</td>\n",
       "      <td>False</td>\n",
       "    </tr>\n",
       "    <tr>\n",
       "      <th>4</th>\n",
       "      <td>46</td>\n",
       "      <td>No</td>\n",
       "      <td>NaN</td>\n",
       "      <td>1319,0$</td>\n",
       "      <td>NaN</td>\n",
       "      <td>3</td>\n",
       "      <td>3</td>\n",
       "      <td>Technical Degree</td>\n",
       "      <td>1</td>\n",
       "      <td>NaN</td>\n",
       "      <td>1</td>\n",
       "      <td>1</td>\n",
       "      <td>45</td>\n",
       "      <td>4</td>\n",
       "      <td>4</td>\n",
       "      <td>sAleS EXECUtIve</td>\n",
       "      <td>1</td>\n",
       "      <td>Divorced</td>\n",
       "      <td>NaN</td>\n",
       "      <td>7739</td>\n",
       "      <td>2</td>\n",
       "      <td>Y</td>\n",
       "      <td>No</td>\n",
       "      <td>12</td>\n",
       "      <td>3,0</td>\n",
       "      <td>4</td>\n",
       "      <td>NaN</td>\n",
       "      <td>1</td>\n",
       "      <td>NaN</td>\n",
       "      <td>5</td>\n",
       "      <td>3,0</td>\n",
       "      <td>19</td>\n",
       "      <td>NaN</td>\n",
       "      <td>2</td>\n",
       "      <td>8</td>\n",
       "      <td>NaN</td>\n",
       "      <td>1977</td>\n",
       "      <td>1000000000$</td>\n",
       "      <td>NaN</td>\n",
       "      <td>NaN</td>\n",
       "      <td>0</td>\n",
       "    </tr>\n",
       "  </tbody>\n",
       "</table>\n",
       "</div>"
      ],
      "text/plain": [
       "  Age Attrition BusinessTravel DailyRate                Department  \\\n",
       "0  51        No            NaN    684,0$                       NaN   \n",
       "1  52        No            NaN    699,0$                       NaN   \n",
       "2  42        No  travel_rarely    532,0$   Research & Development    \n",
       "3  47        No  travel_rarely    359,0$                       NaN   \n",
       "4  46        No            NaN   1319,0$                       NaN   \n",
       "\n",
       "   DistanceFromHome  Education    EducationField  employeecount  \\\n",
       "0                 6          3               NaN              1   \n",
       "1                 1          4     Life Sciences              1   \n",
       "2                 4          2  Technical Degree              1   \n",
       "3                 2          4           Medical              1   \n",
       "4                 3          3  Technical Degree              1   \n",
       "\n",
       "  employeenumber  EnvironmentSatisfaction  Gender HourlyRate  JobInvolvement  \\\n",
       "0          162,0                        1       0         51               3   \n",
       "1          259,0                        3       0         65               2   \n",
       "2          319,0                        3       0         58               3   \n",
       "3            NaN                        1       1         82               3   \n",
       "4            NaN                        1       1         45               4   \n",
       "\n",
       "   JobLevel              JobRole  JobSatisfaction MaritalStatus MonthlyIncome  \\\n",
       "0         5   resEArch DIREcToR                 3           NaN       19537,0   \n",
       "1         5             ManAGeR                 3           NaN       19999,0   \n",
       "2         5             ManaGER                 4       Married       19232,0   \n",
       "3         4   ReseArCH DIrECtOr                 3       Married       17169,0   \n",
       "4         4     sAleS EXECUtIve                 1      Divorced           NaN   \n",
       "\n",
       "   MonthlyRate  NUMCOMPANIESWORKED Over18 OverTime  PercentSalaryHike  \\\n",
       "0         6462                   7      Y       No                 13   \n",
       "1         5678                   0    NaN      NaN                 14   \n",
       "2         4933                   1    NaN       No                 11   \n",
       "3        26703                   3      Y      NaN                 19   \n",
       "4         7739                   2      Y       No                 12   \n",
       "\n",
       "  PerformanceRating  RelationshipSatisfaction StandardHours  StockOptionLevel  \\\n",
       "0               3,0                         3           NaN                 0   \n",
       "1               3,0                         1           NaN                 1   \n",
       "2               3,0                         4           NaN                 0   \n",
       "3               3,0                         2           NaN                 2   \n",
       "4               3,0                         4           NaN                 1   \n",
       "\n",
       "  TOTALWORKINGYEARS  TrainingTimesLastYear WORKLIFEBALANCE  YearsAtCompany  \\\n",
       "0               NaN                      5             3,0              20   \n",
       "1              34,0                      5             3,0              33   \n",
       "2              22,0                      3             NaN              22   \n",
       "3               NaN                      2             NaN              20   \n",
       "4               NaN                      5             3,0              19   \n",
       "\n",
       "  YearsInCurrentRole  YearsSinceLastPromotion  YEARSWITHCURRMANAGER  \\\n",
       "0                NaN                       15                    15   \n",
       "1                NaN                       11                     9   \n",
       "2                NaN                       11                    15   \n",
       "3                NaN                        5                     6   \n",
       "4                NaN                        2                     8   \n",
       "\n",
       "  SameAsMonthlyIncome  DateBirth       Salary  \\\n",
       "0             19537,0       1972  1000000000$   \n",
       "1             19999,0       1971  1000000000$   \n",
       "2             19232,0       1981  1000000000$   \n",
       "3             17169,0       1976  1000000000$   \n",
       "4                 NaN       1977  1000000000$   \n",
       "\n",
       "                        RoleDepartament  NUMBERCHILDREN RemoteWork  \n",
       "0                                   NaN             NaN        Yes  \n",
       "1                                   NaN             NaN          1  \n",
       "2   ManaGER  -  Research & Development              NaN          1  \n",
       "3                                   NaN             NaN      False  \n",
       "4                                   NaN             NaN          0  "
      ]
     },
     "execution_count": 72,
     "metadata": {},
     "output_type": "execute_result"
    }
   ],
   "source": [
    "df = pd.read_csv('../HR RAW DATA.csv', index_col= 0)\n",
    "df.head()"
   ]
  },
  {
   "cell_type": "code",
   "execution_count": 73,
   "metadata": {},
   "outputs": [
    {
     "name": "stdout",
     "output_type": "stream",
     "text": [
      "<class 'pandas.core.frame.DataFrame'>\n",
      "Index: 1614 entries, 0 to 1613\n",
      "Data columns (total 41 columns):\n",
      " #   Column                    Non-Null Count  Dtype  \n",
      "---  ------                    --------------  -----  \n",
      " 0   Age                       1614 non-null   object \n",
      " 1   Attrition                 1614 non-null   object \n",
      " 2   BusinessTravel            842 non-null    object \n",
      " 3   DailyRate                 1614 non-null   object \n",
      " 4   Department                302 non-null    object \n",
      " 5   DistanceFromHome          1614 non-null   int64  \n",
      " 6   Education                 1614 non-null   int64  \n",
      " 7   EducationField            869 non-null    object \n",
      " 8   employeecount             1614 non-null   int64  \n",
      " 9   employeenumber            1183 non-null   object \n",
      " 10  EnvironmentSatisfaction   1614 non-null   int64  \n",
      " 11  Gender                    1614 non-null   int64  \n",
      " 12  HourlyRate                1614 non-null   object \n",
      " 13  JobInvolvement            1614 non-null   int64  \n",
      " 14  JobLevel                  1614 non-null   int64  \n",
      " 15  JobRole                   1614 non-null   object \n",
      " 16  JobSatisfaction           1614 non-null   int64  \n",
      " 17  MaritalStatus             963 non-null    object \n",
      " 18  MonthlyIncome             771 non-null    object \n",
      " 19  MonthlyRate               1614 non-null   int64  \n",
      " 20  NUMCOMPANIESWORKED        1614 non-null   int64  \n",
      " 21  Over18                    713 non-null    object \n",
      " 22  OverTime                  938 non-null    object \n",
      " 23  PercentSalaryHike         1614 non-null   int64  \n",
      " 24  PerformanceRating         1419 non-null   object \n",
      " 25  RelationshipSatisfaction  1614 non-null   int64  \n",
      " 26  StandardHours             419 non-null    object \n",
      " 27  StockOptionLevel          1614 non-null   int64  \n",
      " 28  TOTALWORKINGYEARS         1088 non-null   object \n",
      " 29  TrainingTimesLastYear     1614 non-null   int64  \n",
      " 30  WORKLIFEBALANCE           1506 non-null   object \n",
      " 31  YearsAtCompany            1614 non-null   int64  \n",
      " 32  YearsInCurrentRole        34 non-null     object \n",
      " 33  YearsSinceLastPromotion   1614 non-null   int64  \n",
      " 34  YEARSWITHCURRMANAGER      1614 non-null   int64  \n",
      " 35  SameAsMonthlyIncome       771 non-null    object \n",
      " 36  DateBirth                 1614 non-null   int64  \n",
      " 37  Salary                    1614 non-null   object \n",
      " 38  RoleDepartament           302 non-null    object \n",
      " 39  NUMBERCHILDREN            0 non-null      float64\n",
      " 40  RemoteWork                1614 non-null   object \n",
      "dtypes: float64(1), int64(18), object(22)\n",
      "memory usage: 529.6+ KB\n"
     ]
    }
   ],
   "source": [
    "df.info()"
   ]
  },
  {
   "cell_type": "code",
   "execution_count": 74,
   "metadata": {},
   "outputs": [
    {
     "data": {
      "text/plain": [
       "Index(['Age', 'Attrition', 'BusinessTravel', 'DailyRate', 'Department',\n",
       "       'DistanceFromHome', 'Education', 'EducationField', 'employeecount',\n",
       "       'employeenumber', 'EnvironmentSatisfaction', 'Gender', 'HourlyRate',\n",
       "       'JobInvolvement', 'JobLevel', 'JobRole', 'JobSatisfaction',\n",
       "       'MaritalStatus', 'MonthlyIncome', 'MonthlyRate', 'NUMCOMPANIESWORKED',\n",
       "       'Over18', 'OverTime', 'PercentSalaryHike', 'PerformanceRating',\n",
       "       'RelationshipSatisfaction', 'StandardHours', 'StockOptionLevel',\n",
       "       'TOTALWORKINGYEARS', 'TrainingTimesLastYear', 'WORKLIFEBALANCE',\n",
       "       'YearsAtCompany', 'YearsInCurrentRole', 'YearsSinceLastPromotion',\n",
       "       'YEARSWITHCURRMANAGER', 'SameAsMonthlyIncome', 'DateBirth', 'Salary',\n",
       "       'RoleDepartament', 'NUMBERCHILDREN', 'RemoteWork'],\n",
       "      dtype='object')"
      ]
     },
     "execution_count": 74,
     "metadata": {},
     "output_type": "execute_result"
    }
   ],
   "source": [
    "df.columns"
   ]
  },
  {
   "cell_type": "code",
   "execution_count": 75,
   "metadata": {},
   "outputs": [
    {
     "data": {
      "text/plain": [
       "Age                          object\n",
       "Attrition                    object\n",
       "BusinessTravel               object\n",
       "DailyRate                    object\n",
       "Department                   object\n",
       "DistanceFromHome              int64\n",
       "Education                     int64\n",
       "EducationField               object\n",
       "employeecount                 int64\n",
       "employeenumber               object\n",
       "EnvironmentSatisfaction       int64\n",
       "Gender                        int64\n",
       "HourlyRate                   object\n",
       "JobInvolvement                int64\n",
       "JobLevel                      int64\n",
       "JobRole                      object\n",
       "JobSatisfaction               int64\n",
       "MaritalStatus                object\n",
       "MonthlyIncome                object\n",
       "MonthlyRate                   int64\n",
       "NUMCOMPANIESWORKED            int64\n",
       "Over18                       object\n",
       "OverTime                     object\n",
       "PercentSalaryHike             int64\n",
       "PerformanceRating            object\n",
       "RelationshipSatisfaction      int64\n",
       "StandardHours                object\n",
       "StockOptionLevel              int64\n",
       "TOTALWORKINGYEARS            object\n",
       "TrainingTimesLastYear         int64\n",
       "WORKLIFEBALANCE              object\n",
       "YearsAtCompany                int64\n",
       "YearsInCurrentRole           object\n",
       "YearsSinceLastPromotion       int64\n",
       "YEARSWITHCURRMANAGER          int64\n",
       "SameAsMonthlyIncome          object\n",
       "DateBirth                     int64\n",
       "Salary                       object\n",
       "RoleDepartament              object\n",
       "NUMBERCHILDREN              float64\n",
       "RemoteWork                   object\n",
       "dtype: object"
      ]
     },
     "execution_count": 75,
     "metadata": {},
     "output_type": "execute_result"
    }
   ],
   "source": [
    "df.dtypes"
   ]
  },
  {
   "cell_type": "code",
   "execution_count": 76,
   "metadata": {},
   "outputs": [
    {
     "data": {
      "text/plain": [
       "Age                            0\n",
       "Attrition                      0\n",
       "BusinessTravel               772\n",
       "DailyRate                      0\n",
       "Department                  1312\n",
       "DistanceFromHome               0\n",
       "Education                      0\n",
       "EducationField               745\n",
       "employeecount                  0\n",
       "employeenumber               431\n",
       "EnvironmentSatisfaction        0\n",
       "Gender                         0\n",
       "HourlyRate                     0\n",
       "JobInvolvement                 0\n",
       "JobLevel                       0\n",
       "JobRole                        0\n",
       "JobSatisfaction                0\n",
       "MaritalStatus                651\n",
       "MonthlyIncome                843\n",
       "MonthlyRate                    0\n",
       "NUMCOMPANIESWORKED             0\n",
       "Over18                       901\n",
       "OverTime                     676\n",
       "PercentSalaryHike              0\n",
       "PerformanceRating            195\n",
       "RelationshipSatisfaction       0\n",
       "StandardHours               1195\n",
       "StockOptionLevel               0\n",
       "TOTALWORKINGYEARS            526\n",
       "TrainingTimesLastYear          0\n",
       "WORKLIFEBALANCE              108\n",
       "YearsAtCompany                 0\n",
       "YearsInCurrentRole          1580\n",
       "YearsSinceLastPromotion        0\n",
       "YEARSWITHCURRMANAGER           0\n",
       "SameAsMonthlyIncome          843\n",
       "DateBirth                      0\n",
       "Salary                         0\n",
       "RoleDepartament             1312\n",
       "NUMBERCHILDREN              1614\n",
       "RemoteWork                     0\n",
       "dtype: int64"
      ]
     },
     "execution_count": 76,
     "metadata": {},
     "output_type": "execute_result"
    }
   ],
   "source": [
    "# Valores nulos del total dataframe por columnas\n",
    "df.isnull().sum()"
   ]
  },
  {
   "cell_type": "code",
   "execution_count": 77,
   "metadata": {},
   "outputs": [
    {
     "data": {
      "text/plain": [
       "Age                           0.000000\n",
       "Attrition                     0.000000\n",
       "BusinessTravel               47.831475\n",
       "DailyRate                     0.000000\n",
       "Department                   81.288724\n",
       "DistanceFromHome              0.000000\n",
       "Education                     0.000000\n",
       "EducationField               46.158612\n",
       "employeecount                 0.000000\n",
       "employeenumber               26.703841\n",
       "EnvironmentSatisfaction       0.000000\n",
       "Gender                        0.000000\n",
       "HourlyRate                    0.000000\n",
       "JobInvolvement                0.000000\n",
       "JobLevel                      0.000000\n",
       "JobRole                       0.000000\n",
       "JobSatisfaction               0.000000\n",
       "MaritalStatus                40.334572\n",
       "MonthlyIncome                52.230483\n",
       "MonthlyRate                   0.000000\n",
       "NUMCOMPANIESWORKED            0.000000\n",
       "Over18                       55.824040\n",
       "OverTime                     41.883519\n",
       "PercentSalaryHike             0.000000\n",
       "PerformanceRating            12.081784\n",
       "RelationshipSatisfaction      0.000000\n",
       "StandardHours                74.039653\n",
       "StockOptionLevel              0.000000\n",
       "TOTALWORKINGYEARS            32.589839\n",
       "TrainingTimesLastYear         0.000000\n",
       "WORKLIFEBALANCE               6.691450\n",
       "YearsAtCompany                0.000000\n",
       "YearsInCurrentRole           97.893432\n",
       "YearsSinceLastPromotion       0.000000\n",
       "YEARSWITHCURRMANAGER          0.000000\n",
       "SameAsMonthlyIncome          52.230483\n",
       "DateBirth                     0.000000\n",
       "Salary                        0.000000\n",
       "RoleDepartament              81.288724\n",
       "NUMBERCHILDREN              100.000000\n",
       "RemoteWork                    0.000000\n",
       "dtype: float64"
      ]
     },
     "execution_count": 77,
     "metadata": {},
     "output_type": "execute_result"
    }
   ],
   "source": [
    "porcentaje_nulos = df.isnull().mean() * 100\n",
    "\n",
    "# df.isnull().sum()/registro[0] - Otra forma de hacerlo\n",
    "\n",
    "# Muestra los resultados<z\n",
    "porcentaje_nulos"
   ]
  },
  {
   "cell_type": "code",
   "execution_count": 78,
   "metadata": {},
   "outputs": [
    {
     "data": {
      "text/plain": [
       "(1614, 41)"
      ]
     },
     "execution_count": 78,
     "metadata": {},
     "output_type": "execute_result"
    }
   ],
   "source": [
    "registro = df.shape\n",
    "registro"
   ]
  },
  {
   "cell_type": "markdown",
   "metadata": {},
   "source": [
    "# Punto --> Revisión de cada columna 👌🏼"
   ]
  },
  {
   "cell_type": "code",
   "execution_count": 79,
   "metadata": {},
   "outputs": [
    {
     "data": {
      "text/plain": [
       "'RemoteWork'"
      ]
     },
     "execution_count": 79,
     "metadata": {},
     "output_type": "execute_result"
    }
   ],
   "source": [
    " \n",
    "'Age' # OK\n",
    "'Attrition' # OK\n",
    "'BusinessTravel' # revisar los NAN\n",
    "'DailyRate' # OK\n",
    "'Department' # ELIMINDADO\n",
    "'DistanceFromHome' # OK\n",
    "'Education' # OK\n",
    "'EducationField' # Revisar los NAN\n",
    "'employeecount' # Ok - ELIMINDADO\n",
    "'employeenumber' # duplicados\n",
    "\n",
    "'EnvironmentSatisfaction' # Ok \n",
    "'Gender' # # OK\n",
    "'HourlyRate' # OK\n",
    "'JobInvolvement' # OK\n",
    "'JobLevel' # OK\n",
    "'JobRole' # OK\n",
    "'JobSatisfaction' # OK\n",
    "'MaritalStatus' # revisar los NAN\n",
    "'MonthlyIncome' # revisar los NAN\n",
    "'MonthlyRate' # OK\n",
    "\n",
    "'NUMCOMPANIESWORKED' # OK\n",
    "'Over18' # ELIMINADO\n",
    "'OverTime' # revisar los NAN\n",
    "'PercentSalaryHike' # OK\n",
    "'PerformanceRating' # revisar los NAN\n",
    "'RelationshipSatisfaction' # OK\n",
    "'StandardHours' # ELIMINADO\n",
    "'StockOptionLevel' # OK\n",
    "'TOTALWORKINGYEARS' # revisar los NAN\n",
    "'TrainingTimesLastYear' # OK\n",
    "\n",
    "'WORKLIFEBALANCE' # revisar los NAN\n",
    "'YearsAtCompany' # OK\n",
    "'YearsInCurrentRole' # ELIMINADO\n",
    "'YearsSinceLastPromotion' # OK\n",
    "'YEARSWITHCURRMANAGER' # OK\n",
    "'SameAsMonthlyIncome' # ELIMINADO\n",
    "'DateBirth' # OK\n",
    "'Salary' # ELIMINADO\n",
    "'RoleDepartament' # ELIMINADO\n",
    "'NUMBERCHILDREN' # ELIMINADO\n",
    "'RemoteWork' # OK"
   ]
  },
  {
   "cell_type": "markdown",
   "metadata": {},
   "source": [
    "# Eliminar columnas ✅\n",
    "\n",
    "- `employeecount` # Porque siempre es el mismo valor y es un contador de los empleados\n",
    "- `Department` # con un 81% de datos nulos y ya una columna en paralelo dice lo mismos datos\n",
    "- `Over18` # Porque ya tenemos la edad y tiene muchos valores perdidos\n",
    "- `StandardHours` # Porque todos tienen el mismo valor que es 80 y ademas tienen muchos valores perdidos\n",
    "- `Salary` # Porque es igual a 10000000$ en todos los valores del dataframe\n",
    "- `NUMBERCHILDREN` # Porque no tiene ningun valor y es todo con valores missing.\n",
    "- `RoleDepartament` # con un 81% de datos nulos y ya una columna en paralelo dice lo mismos datos\n",
    "- `YearsInCurrentRole` # 97% de nulos \n",
    "- `SameAsMonthlyIncome` # Contiene la misma informacion que MonthlyIncome, por lo tanto la eliminamos\n"
   ]
  },
  {
   "cell_type": "code",
   "execution_count": 80,
   "metadata": {},
   "outputs": [],
   "source": [
    "df.drop([\"employeecount\", \"Department\", \"Over18\", \"StandardHours\",\"Salary\", \"NUMBERCHILDREN\", \"RoleDepartament\", \"YearsInCurrentRole\",\"SameAsMonthlyIncome\"], axis=1, inplace=True )"
   ]
  },
  {
   "cell_type": "code",
   "execution_count": 81,
   "metadata": {},
   "outputs": [
    {
     "data": {
      "text/html": [
       "<div>\n",
       "<style scoped>\n",
       "    .dataframe tbody tr th:only-of-type {\n",
       "        vertical-align: middle;\n",
       "    }\n",
       "\n",
       "    .dataframe tbody tr th {\n",
       "        vertical-align: top;\n",
       "    }\n",
       "\n",
       "    .dataframe thead th {\n",
       "        text-align: right;\n",
       "    }\n",
       "</style>\n",
       "<table border=\"1\" class=\"dataframe\">\n",
       "  <thead>\n",
       "    <tr style=\"text-align: right;\">\n",
       "      <th></th>\n",
       "      <th>Age</th>\n",
       "      <th>Attrition</th>\n",
       "      <th>BusinessTravel</th>\n",
       "      <th>DailyRate</th>\n",
       "      <th>DistanceFromHome</th>\n",
       "      <th>Education</th>\n",
       "      <th>EducationField</th>\n",
       "      <th>employeenumber</th>\n",
       "      <th>EnvironmentSatisfaction</th>\n",
       "      <th>Gender</th>\n",
       "      <th>HourlyRate</th>\n",
       "      <th>JobInvolvement</th>\n",
       "      <th>JobLevel</th>\n",
       "      <th>JobRole</th>\n",
       "      <th>JobSatisfaction</th>\n",
       "      <th>MaritalStatus</th>\n",
       "      <th>MonthlyIncome</th>\n",
       "      <th>MonthlyRate</th>\n",
       "      <th>NUMCOMPANIESWORKED</th>\n",
       "      <th>OverTime</th>\n",
       "      <th>PercentSalaryHike</th>\n",
       "      <th>PerformanceRating</th>\n",
       "      <th>RelationshipSatisfaction</th>\n",
       "      <th>StockOptionLevel</th>\n",
       "      <th>TOTALWORKINGYEARS</th>\n",
       "      <th>TrainingTimesLastYear</th>\n",
       "      <th>WORKLIFEBALANCE</th>\n",
       "      <th>YearsAtCompany</th>\n",
       "      <th>YearsSinceLastPromotion</th>\n",
       "      <th>YEARSWITHCURRMANAGER</th>\n",
       "      <th>DateBirth</th>\n",
       "      <th>RemoteWork</th>\n",
       "    </tr>\n",
       "  </thead>\n",
       "  <tbody>\n",
       "    <tr>\n",
       "      <th>0</th>\n",
       "      <td>51</td>\n",
       "      <td>No</td>\n",
       "      <td>NaN</td>\n",
       "      <td>684,0$</td>\n",
       "      <td>6</td>\n",
       "      <td>3</td>\n",
       "      <td>NaN</td>\n",
       "      <td>162,0</td>\n",
       "      <td>1</td>\n",
       "      <td>0</td>\n",
       "      <td>51</td>\n",
       "      <td>3</td>\n",
       "      <td>5</td>\n",
       "      <td>resEArch DIREcToR</td>\n",
       "      <td>3</td>\n",
       "      <td>NaN</td>\n",
       "      <td>19537,0</td>\n",
       "      <td>6462</td>\n",
       "      <td>7</td>\n",
       "      <td>No</td>\n",
       "      <td>13</td>\n",
       "      <td>3,0</td>\n",
       "      <td>3</td>\n",
       "      <td>0</td>\n",
       "      <td>NaN</td>\n",
       "      <td>5</td>\n",
       "      <td>3,0</td>\n",
       "      <td>20</td>\n",
       "      <td>15</td>\n",
       "      <td>15</td>\n",
       "      <td>1972</td>\n",
       "      <td>Yes</td>\n",
       "    </tr>\n",
       "  </tbody>\n",
       "</table>\n",
       "</div>"
      ],
      "text/plain": [
       "  Age Attrition BusinessTravel DailyRate  DistanceFromHome  Education  \\\n",
       "0  51        No            NaN    684,0$                 6          3   \n",
       "\n",
       "  EducationField employeenumber  EnvironmentSatisfaction  Gender HourlyRate  \\\n",
       "0            NaN          162,0                        1       0         51   \n",
       "\n",
       "   JobInvolvement  JobLevel              JobRole  JobSatisfaction  \\\n",
       "0               3         5   resEArch DIREcToR                 3   \n",
       "\n",
       "  MaritalStatus MonthlyIncome  MonthlyRate  NUMCOMPANIESWORKED OverTime  \\\n",
       "0           NaN       19537,0         6462                   7       No   \n",
       "\n",
       "   PercentSalaryHike PerformanceRating  RelationshipSatisfaction  \\\n",
       "0                 13               3,0                         3   \n",
       "\n",
       "   StockOptionLevel TOTALWORKINGYEARS  TrainingTimesLastYear WORKLIFEBALANCE  \\\n",
       "0                 0               NaN                      5             3,0   \n",
       "\n",
       "   YearsAtCompany  YearsSinceLastPromotion  YEARSWITHCURRMANAGER  DateBirth  \\\n",
       "0              20                       15                    15       1972   \n",
       "\n",
       "  RemoteWork  \n",
       "0        Yes  "
      ]
     },
     "execution_count": 81,
     "metadata": {},
     "output_type": "execute_result"
    }
   ],
   "source": [
    "df.head(1)"
   ]
  },
  {
   "cell_type": "code",
   "execution_count": 82,
   "metadata": {},
   "outputs": [
    {
     "data": {
      "text/plain": [
       "(1614, 32)"
      ]
     },
     "execution_count": 82,
     "metadata": {},
     "output_type": "execute_result"
    }
   ],
   "source": [
    "df.shape"
   ]
  },
  {
   "cell_type": "markdown",
   "metadata": {},
   "source": [
    "----------"
   ]
  },
  {
   "cell_type": "markdown",
   "metadata": {},
   "source": [
    "- `Homogeneizamos el nombre de las columnas a minúsculas` ✅"
   ]
  },
  {
   "cell_type": "code",
   "execution_count": 83,
   "metadata": {},
   "outputs": [
    {
     "data": {
      "text/plain": [
       "{'Age': 'age',\n",
       " 'Attrition': 'attrition',\n",
       " 'BusinessTravel': 'businesstravel',\n",
       " 'DailyRate': 'dailyrate',\n",
       " 'DistanceFromHome': 'distancefromhome',\n",
       " 'Education': 'education',\n",
       " 'EducationField': 'educationfield',\n",
       " 'employeenumber': 'employeenumber',\n",
       " 'EnvironmentSatisfaction': 'environmentsatisfaction',\n",
       " 'Gender': 'gender',\n",
       " 'HourlyRate': 'hourlyrate',\n",
       " 'JobInvolvement': 'jobinvolvement',\n",
       " 'JobLevel': 'joblevel',\n",
       " 'JobRole': 'jobrole',\n",
       " 'JobSatisfaction': 'jobsatisfaction',\n",
       " 'MaritalStatus': 'maritalstatus',\n",
       " 'MonthlyIncome': 'monthlyincome',\n",
       " 'MonthlyRate': 'monthlyrate',\n",
       " 'NUMCOMPANIESWORKED': 'numcompaniesworked',\n",
       " 'OverTime': 'overtime',\n",
       " 'PercentSalaryHike': 'percentsalaryhike',\n",
       " 'PerformanceRating': 'performancerating',\n",
       " 'RelationshipSatisfaction': 'relationshipsatisfaction',\n",
       " 'StockOptionLevel': 'stockoptionlevel',\n",
       " 'TOTALWORKINGYEARS': 'totalworkingyears',\n",
       " 'TrainingTimesLastYear': 'trainingtimeslastyear',\n",
       " 'WORKLIFEBALANCE': 'worklifebalance',\n",
       " 'YearsAtCompany': 'yearsatcompany',\n",
       " 'YearsSinceLastPromotion': 'yearssincelastpromotion',\n",
       " 'YEARSWITHCURRMANAGER': 'yearswithcurrmanager',\n",
       " 'DateBirth': 'datebirth',\n",
       " 'RemoteWork': 'remotework'}"
      ]
     },
     "execution_count": 83,
     "metadata": {},
     "output_type": "execute_result"
    }
   ],
   "source": [
    "# vamos a iterar por todas las columnas del DataFrame y a cada una de ellas la pondremos en minúsula y le aplicaremos un replace para quitar los puntos. \n",
    "nuevas_columnas = {columna: columna.lower() for columna in df.columns}\n",
    "\n",
    "# comprobamos que hemos creado el diccionario correctamente\n",
    "nuevas_columnas"
   ]
  },
  {
   "cell_type": "code",
   "execution_count": 84,
   "metadata": {},
   "outputs": [
    {
     "data": {
      "text/html": [
       "<div>\n",
       "<style scoped>\n",
       "    .dataframe tbody tr th:only-of-type {\n",
       "        vertical-align: middle;\n",
       "    }\n",
       "\n",
       "    .dataframe tbody tr th {\n",
       "        vertical-align: top;\n",
       "    }\n",
       "\n",
       "    .dataframe thead th {\n",
       "        text-align: right;\n",
       "    }\n",
       "</style>\n",
       "<table border=\"1\" class=\"dataframe\">\n",
       "  <thead>\n",
       "    <tr style=\"text-align: right;\">\n",
       "      <th></th>\n",
       "      <th>age</th>\n",
       "      <th>attrition</th>\n",
       "      <th>businesstravel</th>\n",
       "      <th>dailyrate</th>\n",
       "      <th>distancefromhome</th>\n",
       "      <th>education</th>\n",
       "      <th>educationfield</th>\n",
       "      <th>employeenumber</th>\n",
       "      <th>environmentsatisfaction</th>\n",
       "      <th>gender</th>\n",
       "      <th>hourlyrate</th>\n",
       "      <th>jobinvolvement</th>\n",
       "      <th>joblevel</th>\n",
       "      <th>jobrole</th>\n",
       "      <th>jobsatisfaction</th>\n",
       "      <th>maritalstatus</th>\n",
       "      <th>monthlyincome</th>\n",
       "      <th>monthlyrate</th>\n",
       "      <th>numcompaniesworked</th>\n",
       "      <th>overtime</th>\n",
       "      <th>percentsalaryhike</th>\n",
       "      <th>performancerating</th>\n",
       "      <th>relationshipsatisfaction</th>\n",
       "      <th>stockoptionlevel</th>\n",
       "      <th>totalworkingyears</th>\n",
       "      <th>trainingtimeslastyear</th>\n",
       "      <th>worklifebalance</th>\n",
       "      <th>yearsatcompany</th>\n",
       "      <th>yearssincelastpromotion</th>\n",
       "      <th>yearswithcurrmanager</th>\n",
       "      <th>datebirth</th>\n",
       "      <th>remotework</th>\n",
       "    </tr>\n",
       "  </thead>\n",
       "  <tbody>\n",
       "    <tr>\n",
       "      <th>0</th>\n",
       "      <td>51</td>\n",
       "      <td>No</td>\n",
       "      <td>NaN</td>\n",
       "      <td>684,0$</td>\n",
       "      <td>6</td>\n",
       "      <td>3</td>\n",
       "      <td>NaN</td>\n",
       "      <td>162,0</td>\n",
       "      <td>1</td>\n",
       "      <td>0</td>\n",
       "      <td>51</td>\n",
       "      <td>3</td>\n",
       "      <td>5</td>\n",
       "      <td>resEArch DIREcToR</td>\n",
       "      <td>3</td>\n",
       "      <td>NaN</td>\n",
       "      <td>19537,0</td>\n",
       "      <td>6462</td>\n",
       "      <td>7</td>\n",
       "      <td>No</td>\n",
       "      <td>13</td>\n",
       "      <td>3,0</td>\n",
       "      <td>3</td>\n",
       "      <td>0</td>\n",
       "      <td>NaN</td>\n",
       "      <td>5</td>\n",
       "      <td>3,0</td>\n",
       "      <td>20</td>\n",
       "      <td>15</td>\n",
       "      <td>15</td>\n",
       "      <td>1972</td>\n",
       "      <td>Yes</td>\n",
       "    </tr>\n",
       "    <tr>\n",
       "      <th>1</th>\n",
       "      <td>52</td>\n",
       "      <td>No</td>\n",
       "      <td>NaN</td>\n",
       "      <td>699,0$</td>\n",
       "      <td>1</td>\n",
       "      <td>4</td>\n",
       "      <td>Life Sciences</td>\n",
       "      <td>259,0</td>\n",
       "      <td>3</td>\n",
       "      <td>0</td>\n",
       "      <td>65</td>\n",
       "      <td>2</td>\n",
       "      <td>5</td>\n",
       "      <td>ManAGeR</td>\n",
       "      <td>3</td>\n",
       "      <td>NaN</td>\n",
       "      <td>19999,0</td>\n",
       "      <td>5678</td>\n",
       "      <td>0</td>\n",
       "      <td>NaN</td>\n",
       "      <td>14</td>\n",
       "      <td>3,0</td>\n",
       "      <td>1</td>\n",
       "      <td>1</td>\n",
       "      <td>34,0</td>\n",
       "      <td>5</td>\n",
       "      <td>3,0</td>\n",
       "      <td>33</td>\n",
       "      <td>11</td>\n",
       "      <td>9</td>\n",
       "      <td>1971</td>\n",
       "      <td>1</td>\n",
       "    </tr>\n",
       "    <tr>\n",
       "      <th>2</th>\n",
       "      <td>42</td>\n",
       "      <td>No</td>\n",
       "      <td>travel_rarely</td>\n",
       "      <td>532,0$</td>\n",
       "      <td>4</td>\n",
       "      <td>2</td>\n",
       "      <td>Technical Degree</td>\n",
       "      <td>319,0</td>\n",
       "      <td>3</td>\n",
       "      <td>0</td>\n",
       "      <td>58</td>\n",
       "      <td>3</td>\n",
       "      <td>5</td>\n",
       "      <td>ManaGER</td>\n",
       "      <td>4</td>\n",
       "      <td>Married</td>\n",
       "      <td>19232,0</td>\n",
       "      <td>4933</td>\n",
       "      <td>1</td>\n",
       "      <td>No</td>\n",
       "      <td>11</td>\n",
       "      <td>3,0</td>\n",
       "      <td>4</td>\n",
       "      <td>0</td>\n",
       "      <td>22,0</td>\n",
       "      <td>3</td>\n",
       "      <td>NaN</td>\n",
       "      <td>22</td>\n",
       "      <td>11</td>\n",
       "      <td>15</td>\n",
       "      <td>1981</td>\n",
       "      <td>1</td>\n",
       "    </tr>\n",
       "    <tr>\n",
       "      <th>3</th>\n",
       "      <td>47</td>\n",
       "      <td>No</td>\n",
       "      <td>travel_rarely</td>\n",
       "      <td>359,0$</td>\n",
       "      <td>2</td>\n",
       "      <td>4</td>\n",
       "      <td>Medical</td>\n",
       "      <td>NaN</td>\n",
       "      <td>1</td>\n",
       "      <td>1</td>\n",
       "      <td>82</td>\n",
       "      <td>3</td>\n",
       "      <td>4</td>\n",
       "      <td>ReseArCH DIrECtOr</td>\n",
       "      <td>3</td>\n",
       "      <td>Married</td>\n",
       "      <td>17169,0</td>\n",
       "      <td>26703</td>\n",
       "      <td>3</td>\n",
       "      <td>NaN</td>\n",
       "      <td>19</td>\n",
       "      <td>3,0</td>\n",
       "      <td>2</td>\n",
       "      <td>2</td>\n",
       "      <td>NaN</td>\n",
       "      <td>2</td>\n",
       "      <td>NaN</td>\n",
       "      <td>20</td>\n",
       "      <td>5</td>\n",
       "      <td>6</td>\n",
       "      <td>1976</td>\n",
       "      <td>False</td>\n",
       "    </tr>\n",
       "    <tr>\n",
       "      <th>4</th>\n",
       "      <td>46</td>\n",
       "      <td>No</td>\n",
       "      <td>NaN</td>\n",
       "      <td>1319,0$</td>\n",
       "      <td>3</td>\n",
       "      <td>3</td>\n",
       "      <td>Technical Degree</td>\n",
       "      <td>NaN</td>\n",
       "      <td>1</td>\n",
       "      <td>1</td>\n",
       "      <td>45</td>\n",
       "      <td>4</td>\n",
       "      <td>4</td>\n",
       "      <td>sAleS EXECUtIve</td>\n",
       "      <td>1</td>\n",
       "      <td>Divorced</td>\n",
       "      <td>NaN</td>\n",
       "      <td>7739</td>\n",
       "      <td>2</td>\n",
       "      <td>No</td>\n",
       "      <td>12</td>\n",
       "      <td>3,0</td>\n",
       "      <td>4</td>\n",
       "      <td>1</td>\n",
       "      <td>NaN</td>\n",
       "      <td>5</td>\n",
       "      <td>3,0</td>\n",
       "      <td>19</td>\n",
       "      <td>2</td>\n",
       "      <td>8</td>\n",
       "      <td>1977</td>\n",
       "      <td>0</td>\n",
       "    </tr>\n",
       "  </tbody>\n",
       "</table>\n",
       "</div>"
      ],
      "text/plain": [
       "  age attrition businesstravel dailyrate  distancefromhome  education  \\\n",
       "0  51        No            NaN    684,0$                 6          3   \n",
       "1  52        No            NaN    699,0$                 1          4   \n",
       "2  42        No  travel_rarely    532,0$                 4          2   \n",
       "3  47        No  travel_rarely    359,0$                 2          4   \n",
       "4  46        No            NaN   1319,0$                 3          3   \n",
       "\n",
       "     educationfield employeenumber  environmentsatisfaction  gender  \\\n",
       "0               NaN          162,0                        1       0   \n",
       "1     Life Sciences          259,0                        3       0   \n",
       "2  Technical Degree          319,0                        3       0   \n",
       "3           Medical            NaN                        1       1   \n",
       "4  Technical Degree            NaN                        1       1   \n",
       "\n",
       "  hourlyrate  jobinvolvement  joblevel              jobrole  jobsatisfaction  \\\n",
       "0         51               3         5   resEArch DIREcToR                 3   \n",
       "1         65               2         5             ManAGeR                 3   \n",
       "2         58               3         5             ManaGER                 4   \n",
       "3         82               3         4   ReseArCH DIrECtOr                 3   \n",
       "4         45               4         4     sAleS EXECUtIve                 1   \n",
       "\n",
       "  maritalstatus monthlyincome  monthlyrate  numcompaniesworked overtime  \\\n",
       "0           NaN       19537,0         6462                   7       No   \n",
       "1           NaN       19999,0         5678                   0      NaN   \n",
       "2       Married       19232,0         4933                   1       No   \n",
       "3       Married       17169,0        26703                   3      NaN   \n",
       "4      Divorced           NaN         7739                   2       No   \n",
       "\n",
       "   percentsalaryhike performancerating  relationshipsatisfaction  \\\n",
       "0                 13               3,0                         3   \n",
       "1                 14               3,0                         1   \n",
       "2                 11               3,0                         4   \n",
       "3                 19               3,0                         2   \n",
       "4                 12               3,0                         4   \n",
       "\n",
       "   stockoptionlevel totalworkingyears  trainingtimeslastyear worklifebalance  \\\n",
       "0                 0               NaN                      5             3,0   \n",
       "1                 1              34,0                      5             3,0   \n",
       "2                 0              22,0                      3             NaN   \n",
       "3                 2               NaN                      2             NaN   \n",
       "4                 1               NaN                      5             3,0   \n",
       "\n",
       "   yearsatcompany  yearssincelastpromotion  yearswithcurrmanager  datebirth  \\\n",
       "0              20                       15                    15       1972   \n",
       "1              33                       11                     9       1971   \n",
       "2              22                       11                    15       1981   \n",
       "3              20                        5                     6       1976   \n",
       "4              19                        2                     8       1977   \n",
       "\n",
       "  remotework  \n",
       "0        Yes  \n",
       "1          1  \n",
       "2          1  \n",
       "3      False  \n",
       "4          0  "
      ]
     },
     "execution_count": 84,
     "metadata": {},
     "output_type": "execute_result"
    }
   ],
   "source": [
    "# una vez que tenemos el diccionario vamos a aplicar el método rename\n",
    "df.rename(columns = nuevas_columnas, inplace = True)\n",
    "\n",
    "# comprobamos que se han cambiado los nombres de las columnas\n",
    "df.head()"
   ]
  },
  {
   "cell_type": "markdown",
   "metadata": {},
   "source": [
    "--------"
   ]
  },
  {
   "cell_type": "markdown",
   "metadata": {},
   "source": [
    "- `Cambiamos las letras de números en la columna (age)` ✅\n",
    "- `colocamos los datos de object a int` ✅\n",
    "- `Falta guerdarlo directamente en el dataframe` ✅"
   ]
  },
  {
   "cell_type": "code",
   "execution_count": 85,
   "metadata": {},
   "outputs": [
    {
     "name": "stdout",
     "output_type": "stream",
     "text": [
      "Converted Ages in DataFrame:\n",
      "0    51\n",
      "1    52\n",
      "2    42\n",
      "3    47\n",
      "4    46\n",
      "Name: age, dtype: int64\n",
      "\n",
      "No conversion errors.\n"
     ]
    }
   ],
   "source": [
    "# Diccionario para convertir palabras a números\n",
    "word_to_number = {\n",
    "    'zero': 0, 'one': 1, 'two': 2, 'three': 3, 'four': 4, 'five': 5,\n",
    "    'six': 6, 'seven': 7, 'eight': 8, 'nine': 9, 'ten': 10, 'eleven': 11,\n",
    "    'twelve': 12, 'thirteen': 13, 'fourteen': 14, 'fifteen': 15,\n",
    "    'sixteen': 16, 'seventeen': 17, 'eighteen': 18, 'nineteen': 19,\n",
    "    'twenty': 20, 'thirty': 30, 'forty': 40, 'fifty': 50, 'sixty': 60,\n",
    "    'seventy': 70, 'eighty': 80, 'ninety': 90\n",
    "}\n",
    "\n",
    "# Función para convertir cadenas a números\n",
    "def convert_to_number(age):\n",
    "    try:\n",
    "        # Primero intentamos convertir directamente a entero\n",
    "        return int(age)\n",
    "    except ValueError:\n",
    "        # Si falla, intentamos convertir usando el diccionario\n",
    "        words = age.split('-')\n",
    "        number = 0\n",
    "        for word in words:\n",
    "            if word in word_to_number:\n",
    "                number += word_to_number[word]\n",
    "            else:\n",
    "                return f\"Error converting '{age}'\"\n",
    "        return number\n",
    "\n",
    "# Aplicar la función de conversión a la columna 'Age' del DataFrame\n",
    "df['age'] = df['age'].apply(convert_to_number)\n",
    "\n",
    "# Verificar si hay errores en la conversión\n",
    "errors = df['age'][df['age'].apply(lambda x: isinstance(x, str))]\n",
    "\n",
    "# Mostrar los resultados\n",
    "print(\"Converted Ages in DataFrame:\")\n",
    "print(df['age'].head())\n",
    "\n",
    "if not errors.empty:\n",
    "    print(\"\\nErrors:\")\n",
    "    print(errors)\n",
    "else:\n",
    "    print(\"\\nNo conversion errors.\")\n"
   ]
  },
  {
   "cell_type": "code",
   "execution_count": 86,
   "metadata": {},
   "outputs": [
    {
     "data": {
      "text/plain": [
       "array([51, 52, 42, 47, 46, 48, 59, 41, 56, 38, 55, 40, 58, 35, 45, 33, 36,\n",
       "       34, 53, 43, 60, 32, 37, 49, 39, 50, 44, 30, 29, 31, 54, 57, 27, 28,\n",
       "       26, 25, 24, 23, 22, 21, 20, 19, 18])"
      ]
     },
     "execution_count": 86,
     "metadata": {},
     "output_type": "execute_result"
    }
   ],
   "source": [
    "df['age'].unique()"
   ]
  },
  {
   "cell_type": "code",
   "execution_count": 87,
   "metadata": {},
   "outputs": [
    {
     "data": {
      "text/plain": [
       "(1614,)"
      ]
     },
     "execution_count": 87,
     "metadata": {},
     "output_type": "execute_result"
    }
   ],
   "source": [
    "df['age'].shape"
   ]
  },
  {
   "cell_type": "markdown",
   "metadata": {},
   "source": [
    "---------------"
   ]
  },
  {
   "cell_type": "markdown",
   "metadata": {},
   "source": [
    "No requiere cambios ✅"
   ]
  },
  {
   "cell_type": "code",
   "execution_count": 88,
   "metadata": {},
   "outputs": [
    {
     "data": {
      "text/plain": [
       "array(['No', 'Yes'], dtype=object)"
      ]
     },
     "execution_count": 88,
     "metadata": {},
     "output_type": "execute_result"
    }
   ],
   "source": [
    "df['attrition'].unique()"
   ]
  },
  {
   "cell_type": "markdown",
   "metadata": {},
   "source": [
    "---------"
   ]
  },
  {
   "cell_type": "markdown",
   "metadata": {},
   "source": [
    "- `Separamos los string con espacio vacio('') y quitamos el (_)`✅\n",
    "- `Eliminar los NAN`❓"
   ]
  },
  {
   "cell_type": "code",
   "execution_count": 89,
   "metadata": {},
   "outputs": [
    {
     "data": {
      "text/plain": [
       "array([nan, 'travel_rarely', 'travel_frequently', 'non-travel'],\n",
       "      dtype=object)"
      ]
     },
     "execution_count": 89,
     "metadata": {},
     "output_type": "execute_result"
    }
   ],
   "source": [
    "df['businesstravel'].unique() "
   ]
  },
  {
   "cell_type": "code",
   "execution_count": 90,
   "metadata": {},
   "outputs": [
    {
     "data": {
      "text/html": [
       "<div>\n",
       "<style scoped>\n",
       "    .dataframe tbody tr th:only-of-type {\n",
       "        vertical-align: middle;\n",
       "    }\n",
       "\n",
       "    .dataframe tbody tr th {\n",
       "        vertical-align: top;\n",
       "    }\n",
       "\n",
       "    .dataframe thead th {\n",
       "        text-align: right;\n",
       "    }\n",
       "</style>\n",
       "<table border=\"1\" class=\"dataframe\">\n",
       "  <thead>\n",
       "    <tr style=\"text-align: right;\">\n",
       "      <th></th>\n",
       "      <th>age</th>\n",
       "      <th>attrition</th>\n",
       "      <th>businesstravel</th>\n",
       "      <th>dailyrate</th>\n",
       "      <th>distancefromhome</th>\n",
       "      <th>education</th>\n",
       "      <th>educationfield</th>\n",
       "      <th>employeenumber</th>\n",
       "      <th>environmentsatisfaction</th>\n",
       "      <th>gender</th>\n",
       "      <th>hourlyrate</th>\n",
       "      <th>jobinvolvement</th>\n",
       "      <th>joblevel</th>\n",
       "      <th>jobrole</th>\n",
       "      <th>jobsatisfaction</th>\n",
       "      <th>maritalstatus</th>\n",
       "      <th>monthlyincome</th>\n",
       "      <th>monthlyrate</th>\n",
       "      <th>numcompaniesworked</th>\n",
       "      <th>overtime</th>\n",
       "      <th>percentsalaryhike</th>\n",
       "      <th>performancerating</th>\n",
       "      <th>relationshipsatisfaction</th>\n",
       "      <th>stockoptionlevel</th>\n",
       "      <th>totalworkingyears</th>\n",
       "      <th>trainingtimeslastyear</th>\n",
       "      <th>worklifebalance</th>\n",
       "      <th>yearsatcompany</th>\n",
       "      <th>yearssincelastpromotion</th>\n",
       "      <th>yearswithcurrmanager</th>\n",
       "      <th>datebirth</th>\n",
       "      <th>remotework</th>\n",
       "    </tr>\n",
       "  </thead>\n",
       "  <tbody>\n",
       "    <tr>\n",
       "      <th>962</th>\n",
       "      <td>24</td>\n",
       "      <td>No</td>\n",
       "      <td>non travel</td>\n",
       "      <td>1269,0$</td>\n",
       "      <td>-19</td>\n",
       "      <td>1</td>\n",
       "      <td>Life Sciences</td>\n",
       "      <td>888,0</td>\n",
       "      <td>1</td>\n",
       "      <td>0</td>\n",
       "      <td>Not Available</td>\n",
       "      <td>2</td>\n",
       "      <td>1</td>\n",
       "      <td>labORatOry TEcHniCIAn</td>\n",
       "      <td>4</td>\n",
       "      <td>NaN</td>\n",
       "      <td>NaN</td>\n",
       "      <td>10778</td>\n",
       "      <td>0</td>\n",
       "      <td>NaN</td>\n",
       "      <td>17</td>\n",
       "      <td>3,0</td>\n",
       "      <td>4</td>\n",
       "      <td>0</td>\n",
       "      <td>NaN</td>\n",
       "      <td>2</td>\n",
       "      <td>2,0</td>\n",
       "      <td>5</td>\n",
       "      <td>3</td>\n",
       "      <td>4</td>\n",
       "      <td>1999</td>\n",
       "      <td>False</td>\n",
       "    </tr>\n",
       "    <tr>\n",
       "      <th>578</th>\n",
       "      <td>37</td>\n",
       "      <td>No</td>\n",
       "      <td>NaN</td>\n",
       "      <td>228,0$</td>\n",
       "      <td>6</td>\n",
       "      <td>4</td>\n",
       "      <td>NaN</td>\n",
       "      <td>378,0</td>\n",
       "      <td>3</td>\n",
       "      <td>0</td>\n",
       "      <td>Not Available</td>\n",
       "      <td>3</td>\n",
       "      <td>2</td>\n",
       "      <td>sALes EXECUTiVE</td>\n",
       "      <td>4</td>\n",
       "      <td>NaN</td>\n",
       "      <td>6502,0</td>\n",
       "      <td>22825</td>\n",
       "      <td>4</td>\n",
       "      <td>No</td>\n",
       "      <td>14</td>\n",
       "      <td>3,0</td>\n",
       "      <td>2</td>\n",
       "      <td>1</td>\n",
       "      <td>NaN</td>\n",
       "      <td>5</td>\n",
       "      <td>4,0</td>\n",
       "      <td>5</td>\n",
       "      <td>0</td>\n",
       "      <td>1</td>\n",
       "      <td>1986</td>\n",
       "      <td>1</td>\n",
       "    </tr>\n",
       "    <tr>\n",
       "      <th>843</th>\n",
       "      <td>40</td>\n",
       "      <td>No</td>\n",
       "      <td>NaN</td>\n",
       "      <td>905,0$</td>\n",
       "      <td>-38</td>\n",
       "      <td>2</td>\n",
       "      <td>NaN</td>\n",
       "      <td>NaN</td>\n",
       "      <td>3</td>\n",
       "      <td>0</td>\n",
       "      <td>99</td>\n",
       "      <td>3</td>\n",
       "      <td>2</td>\n",
       "      <td>lAborAToRY tEChnIciAN</td>\n",
       "      <td>4</td>\n",
       "      <td>Married</td>\n",
       "      <td>NaN</td>\n",
       "      <td>16523</td>\n",
       "      <td>8</td>\n",
       "      <td>NaN</td>\n",
       "      <td>15</td>\n",
       "      <td>3,0</td>\n",
       "      <td>3</td>\n",
       "      <td>1</td>\n",
       "      <td>NaN</td>\n",
       "      <td>2</td>\n",
       "      <td>4,0</td>\n",
       "      <td>7</td>\n",
       "      <td>3</td>\n",
       "      <td>7</td>\n",
       "      <td>1983</td>\n",
       "      <td>True</td>\n",
       "    </tr>\n",
       "    <tr>\n",
       "      <th>1043</th>\n",
       "      <td>27</td>\n",
       "      <td>No</td>\n",
       "      <td>NaN</td>\n",
       "      <td>nan$</td>\n",
       "      <td>10</td>\n",
       "      <td>3</td>\n",
       "      <td>Marketing</td>\n",
       "      <td>1403,0</td>\n",
       "      <td>4</td>\n",
       "      <td>1</td>\n",
       "      <td>98</td>\n",
       "      <td>2</td>\n",
       "      <td>2</td>\n",
       "      <td>SaleS ExECUTIvE</td>\n",
       "      <td>4</td>\n",
       "      <td>Married</td>\n",
       "      <td>5769,0</td>\n",
       "      <td>7100</td>\n",
       "      <td>1</td>\n",
       "      <td>Yes</td>\n",
       "      <td>11</td>\n",
       "      <td>3,0</td>\n",
       "      <td>4</td>\n",
       "      <td>0</td>\n",
       "      <td>NaN</td>\n",
       "      <td>3</td>\n",
       "      <td>3,0</td>\n",
       "      <td>6</td>\n",
       "      <td>4</td>\n",
       "      <td>4</td>\n",
       "      <td>1996</td>\n",
       "      <td>1</td>\n",
       "    </tr>\n",
       "    <tr>\n",
       "      <th>1418</th>\n",
       "      <td>29</td>\n",
       "      <td>No</td>\n",
       "      <td>NaN</td>\n",
       "      <td>991,0$</td>\n",
       "      <td>5</td>\n",
       "      <td>3</td>\n",
       "      <td>NaN</td>\n",
       "      <td>1669,0</td>\n",
       "      <td>1</td>\n",
       "      <td>0</td>\n",
       "      <td>43</td>\n",
       "      <td>2</td>\n",
       "      <td>2</td>\n",
       "      <td>sAles exeCUTIvE</td>\n",
       "      <td>2</td>\n",
       "      <td>Divorced</td>\n",
       "      <td>4187,0</td>\n",
       "      <td>3356</td>\n",
       "      <td>1</td>\n",
       "      <td>Yes</td>\n",
       "      <td>13</td>\n",
       "      <td>NaN</td>\n",
       "      <td>2</td>\n",
       "      <td>1</td>\n",
       "      <td>10,0</td>\n",
       "      <td>3</td>\n",
       "      <td>2,0</td>\n",
       "      <td>10</td>\n",
       "      <td>0</td>\n",
       "      <td>9</td>\n",
       "      <td>1994</td>\n",
       "      <td>True</td>\n",
       "    </tr>\n",
       "  </tbody>\n",
       "</table>\n",
       "</div>"
      ],
      "text/plain": [
       "      age attrition businesstravel dailyrate  distancefromhome  education  \\\n",
       "962    24        No     non travel   1269,0$               -19          1   \n",
       "578    37        No            NaN    228,0$                 6          4   \n",
       "843    40        No            NaN    905,0$               -38          2   \n",
       "1043   27        No            NaN      nan$                10          3   \n",
       "1418   29        No            NaN    991,0$                 5          3   \n",
       "\n",
       "     educationfield employeenumber  environmentsatisfaction  gender  \\\n",
       "962   Life Sciences          888,0                        1       0   \n",
       "578             NaN          378,0                        3       0   \n",
       "843             NaN            NaN                        3       0   \n",
       "1043      Marketing         1403,0                        4       1   \n",
       "1418            NaN         1669,0                        1       0   \n",
       "\n",
       "         hourlyrate  jobinvolvement  joblevel                  jobrole  \\\n",
       "962   Not Available               2         1   labORatOry TEcHniCIAn    \n",
       "578   Not Available               3         2         sALes EXECUTiVE    \n",
       "843              99               3         2   lAborAToRY tEChnIciAN    \n",
       "1043             98               2         2         SaleS ExECUTIvE    \n",
       "1418             43               2         2         sAles exeCUTIvE    \n",
       "\n",
       "      jobsatisfaction maritalstatus monthlyincome  monthlyrate  \\\n",
       "962                 4           NaN           NaN        10778   \n",
       "578                 4           NaN        6502,0        22825   \n",
       "843                 4       Married           NaN        16523   \n",
       "1043                4       Married        5769,0         7100   \n",
       "1418                2      Divorced        4187,0         3356   \n",
       "\n",
       "      numcompaniesworked overtime  percentsalaryhike performancerating  \\\n",
       "962                    0      NaN                 17               3,0   \n",
       "578                    4       No                 14               3,0   \n",
       "843                    8      NaN                 15               3,0   \n",
       "1043                   1      Yes                 11               3,0   \n",
       "1418                   1      Yes                 13               NaN   \n",
       "\n",
       "      relationshipsatisfaction  stockoptionlevel totalworkingyears  \\\n",
       "962                          4                 0               NaN   \n",
       "578                          2                 1               NaN   \n",
       "843                          3                 1               NaN   \n",
       "1043                         4                 0               NaN   \n",
       "1418                         2                 1              10,0   \n",
       "\n",
       "      trainingtimeslastyear worklifebalance  yearsatcompany  \\\n",
       "962                       2             2,0               5   \n",
       "578                       5             4,0               5   \n",
       "843                       2             4,0               7   \n",
       "1043                      3             3,0               6   \n",
       "1418                      3             2,0              10   \n",
       "\n",
       "      yearssincelastpromotion  yearswithcurrmanager  datebirth remotework  \n",
       "962                         3                     4       1999      False  \n",
       "578                         0                     1       1986          1  \n",
       "843                         3                     7       1983       True  \n",
       "1043                        4                     4       1996          1  \n",
       "1418                        0                     9       1994       True  "
      ]
     },
     "execution_count": 90,
     "metadata": {},
     "output_type": "execute_result"
    }
   ],
   "source": [
    "df[\"businesstravel\"] = df[\"businesstravel\"].str.replace(\"_\", \" \").str.replace(\"-\",\" \")\n",
    "df.sample(5)"
   ]
  },
  {
   "cell_type": "markdown",
   "metadata": {},
   "source": [
    "--------"
   ]
  },
  {
   "cell_type": "markdown",
   "metadata": {},
   "source": [
    "- `Cambiar a float` ✅\n",
    "- `Cambiar las comas(,) por puntos(.)` ✅"
   ]
  },
  {
   "cell_type": "code",
   "execution_count": 91,
   "metadata": {},
   "outputs": [
    {
     "data": {
      "text/plain": [
       "array(['684.0', '699.0', '532.0', '359.0', '1319.0', '117.0', '1435.0',\n",
       "       '635.0', '1276.0', '840.0', '247.0', '1369.0', '201.0', '1360.0',\n",
       "       '692.0', '1398.0', '286.0', '1402.0', '819.0', '884.0', '1238.0',\n",
       "       '515.0', '1223.0', '202.0', '928.0', '607.0', '266.0', '429.0',\n",
       "       '589.0', 'nan', '1180.0', '1282.0', '776.0', '665.0', '526.0',\n",
       "       '1034.0', '1403.0', '1499.0', '580.0', '859.0', '263.0', '1376.0',\n",
       "       '885.0', '1003.0', '1321.0', '394.0', '1372.0', '1333.0', '228.0',\n",
       "       '737.0', '823.0', '667.0', '301.0', '573.0', '1329.0', '630.0',\n",
       "       '1063.0', '1017.0', '1296.0', '939.0', '1355.0', '1448.0', '200.0',\n",
       "       '1202.0', '404.0', '208.0', '813.0', '465.0', '1189.0', '1001.0',\n",
       "       '1394.0', '161.0', '288.0', '682.0', '1354.0', '147.0', '119.0',\n",
       "       '1413.0', '452.0', '334.0', '1132.0', '982.0', '480.0', '1099.0',\n",
       "       '672.0', '1379.0', '583.0', '1492.0', '1050.0', '469.0', '237.0',\n",
       "       '1440.0', '1291.0', '1157.0', '1336.0', '1224.0', '735.0',\n",
       "       '1389.0', '638.0', '1240.0', '194.0', '1339.0', '111.0', '1469.0',\n",
       "       '470.0', '1232.0', '1249.0', '798.0', '549.0', '570.0', '541.0',\n",
       "       '164.0', '1117.0', '619.0', '319.0', '956.0', '1245.0', '1397.0',\n",
       "       '527.0', '213.0', '882.0', '330.0', '406.0', '217.0', '481.0',\n",
       "       '669.0', '1465.0', '685.0', '1062.0', '177.0', '1199.0', '648.0',\n",
       "       '412.0', '282.0', '770.0', '601.0', '855.0', '332.0', '1326.0',\n",
       "       '748.0', '405.0', '790.0', '971.0', '1370.0', '750.0', '880.0',\n",
       "       '678.0', '1179.0', '350.0', '1266.0', '574.0', '189.0', '310.0',\n",
       "       '722.0', '1219.0', '994.0', '721.0', '853.0', '427.0', '852.0',\n",
       "       '1334.0', '1093.0', '967.0', '989.0', '1195.0', '1045.0', '829.0',\n",
       "       '663.0', '1300.0', '1105.0', '906.0', '849.0', '1275.0', '1218.0',\n",
       "       '422.0', '1274.0', '1076.0', '1207.0', '430.0', '933.0', '1184.0',\n",
       "       '586.0', '890.0', '379.0', '1425.0', '1188.0', '938.0', '1053.0',\n",
       "       '248.0', '796.0', '174.0', '408.0', '977.0', '536.0', '135.0',\n",
       "       '1476.0', '587.0', '495.0', '523.0', '507.0', '1055.0', '1445.0',\n",
       "       '218.0', '447.0', '1029.0', '674.0', '538.0', '740.0', '1234.0',\n",
       "       '170.0', '1130.0', '584.0', '918.0', '792.0', '611.0', '1383.0',\n",
       "       '867.0', '706.0', '728.0', '311.0', '556.0', '937.0', '1125.0',\n",
       "       '444.0', '911.0', '585.0', '1392.0', '1005.0', '1299.0', '655.0',\n",
       "       '746.0', '632.0', '658.0', '1467.0', '1312.0', '249.0', '802.0',\n",
       "       '689.0', '1395.0', '1436.0', '1496.0', '1480.0', '313.0', '894.0',\n",
       "       '290.0', '1084.0', '1002.0', '1242.0', '1052.0', '944.0', '771.0',\n",
       "       '1416.0', '1327.0', '488.0', '1385.0', '666.0', '1315.0', '442.0',\n",
       "       '950.0', '691.0', '1018.0', '559.0', '318.0', '144.0', '1171.0',\n",
       "       '143.0', '1178.0', '1107.0', '645.0', '1485.0', '1116.0', '163.0',\n",
       "       '561.0', '426.0', '509.0', '258.0', '525.0', '238.0', '482.0',\n",
       "       '397.0', '243.0', '806.0', '1442.0', '929.0', '827.0', '703.0',\n",
       "       '294.0', '314.0', '654.0', '501.0', '954.0', '1434.0', '657.0',\n",
       "       '240.0', '791.0', '676.0', '436.0', '760.0', '661.0', '1085.0',\n",
       "       '154.0', '1283.0', '616.0', '498.0', '530.0', '805.0', '903.0',\n",
       "       '1229.0', '566.0', '1441.0', '153.0', '1066.0', '145.0', '1109.0',\n",
       "       '124.0', '300.0', '1366.0', '857.0', '1204.0', '1082.0', '203.0',\n",
       "       '1308.0', '718.0', '593.0', '1384.0', '1361.0', '1146.0', '1316.0',\n",
       "       '363.0', '1103.0', '920.0', '694.0', '1429.0', '531.0', '621.0',\n",
       "       '604.0', '325.0', '1030.0', '524.0', '943.0', '1009.0', '817.0',\n",
       "       '930.0', '1147.0', '652.0', '337.0', '1136.0', '326.0', '377.0',\n",
       "       '1038.0', '1490.0', '1246.0', '224.0', '441.0', '898.0', '1313.0',\n",
       "       '1015.0', '1387.0', '1302.0', '602.0', '772.0', '809.0', '786.0',\n",
       "       '921.0', '717.0', '979.0', '953.0', '244.0', '196.0', '303.0',\n",
       "       '1092.0', '261.0', '1422.0', '1137.0', '511.0', '1396.0', '1096.0',\n",
       "       '1169.0', '1239.0', '157.0', '754.0', '1303.0', '697.0', '116.0',\n",
       "       '557.0', '582.0', '704.0', '613.0', '419.0', '477.0', '1211.0',\n",
       "       '505.0', '269.0', '553.0', '1277.0', '302.0', '975.0', '1318.0',\n",
       "       '881.0', '466.0', '945.0', '433.0', '991.0', '1083.0', '136.0',\n",
       "       '333.0', '1462.0', '1131.0', '1023.0', '1065.0', '1115.0',\n",
       "       '1479.0', '304.0', '1368.0', '828.0', '799.0', '142.0', '446.0',\n",
       "       '254.0', '1410.0', '883.0', '121.0', '1343.0', '490.0', '1400.0',\n",
       "       '1332.0', '1200.0', '1102.0', '1328.0', '548.0', '1214.0', '120.0',\n",
       "       '841.0', '1033.0', '1452.0', '1268.0', '307.0', '797.0', '555.0',\n",
       "       '1377.0', '210.0', '483.0', '575.0', '1311.0', '759.0', '891.0',\n",
       "       '317.0', '688.0', '195.0', '622.0', '646.0', '719.0', '1012.0',\n",
       "       '1278.0', '1222.0', '1231.0', '462.0', '231.0', '1089.0', '1262.0',\n",
       "       '439.0', '528.0', '647.0', '1097.0', '942.0', '966.0', '168.0',\n",
       "       '299.0', '999.0', '1498.0', '1439.0', '1111.0', '1174.0', '172.0',\n",
       "       '401.0', '866.0', '571.0', '1342.0', '995.0', '118.0', '990.0',\n",
       "       '241.0', '1470.0', '492.0', '1040.0', '1320.0', '146.0', '1153.0',\n",
       "       '185.0', '1297.0', '1064.0', '1351.0', '468.0', '1273.0', '1141.0',\n",
       "       '1488.0', '653.0', '1225.0', '1217.0', '1127.0', '1427.0', '702.0',\n",
       "       '926.0', '878.0', '896.0', '1401.0', '675.0', '1070.0', '496.0',\n",
       "       '390.0', '1220.0', '1124.0', '1046.0', '267.0', '443.0', '1287.0',\n",
       "       '1420.0', '562.0', '650.0', '141.0', '715.0', '376.0', '932.0',\n",
       "       '471.0', '180.0', '1265.0', '1075.0', '1086.0', '152.0', '974.0',\n",
       "       '788.0', '192.0', '150.0', '1167.0', '206.0', '736.0', '322.0',\n",
       "       '683.0', '1475.0', '560.0', '115.0', '888.0', '671.0', '567.0',\n",
       "       '148.0', '581.0', '371.0', '1181.0', '1253.0', '370.0', '1194.0',\n",
       "       '572.0', '355.0', '783.0', '155.0', '508.0', '642.0', '1382.0',\n",
       "       '1037.0', '1120.0', '374.0', '287.0', '591.0', '670.0', '1346.0',\n",
       "       '103.0', '673.0', '705.0', '1459.0', '1443.0', '1142.0', '664.0',\n",
       "       '432.0', '1353.0', '489.0', '807.0', '1280.0', '957.0', '542.0',\n",
       "       '216.0', '1150.0', '364.0', '1256.0', '440.0', '713.0', '140.0',\n",
       "       '629.0', '328.0', '472.0', '905.0', '1151.0', '644.0', '992.0',\n",
       "       '1323.0', '818.0', '1431.0', '976.0', '832.0', '916.0', '1247.0',\n",
       "       '128.0', '1158.0', '996.0', '1449.0', '636.0', '889.0', '106.0',\n",
       "       '723.0', '1482.0', '738.0', '1192.0', '1309.0', '544.0', '641.0',\n",
       "       '756.0', '895.0', '1261.0', '329.0', '1362.0', '1371.0', '821.0',\n",
       "       '1381.0', '1473.0', '296.0', '1349.0', '986.0', '413.0', '988.0',\n",
       "       '1474.0', '232.0', '1236.0', '1112.0', '204.0', '913.0', '810.0',\n",
       "       '693.0', '316.0', '381.0', '775.0', '804.0', '1090.0', '346.0',\n",
       "       '725.0', '182.0', '384.0', '1325.0', '1258.0', '1041.0', '625.0',\n",
       "       '1418.0', '1269.0', '395.0', '341.0', '500.0', '1454.0', '617.0',\n",
       "       '1122.0', '1198.0', '188.0', '335.0', '461.0', '1134.0', '138.0',\n",
       "       '1206.0', '109.0', '277.0', '265.0', '342.0', '1186.0', '769.0',\n",
       "       '1176.0', '1091.0', '618.0', '970.0', '984.0', '793.0', '1182.0',\n",
       "       '603.0', '874.0', '367.0', '199.0', '1457.0', '1421.0', '1450.0',\n",
       "       '1212.0', '1010.0', '131.0', '193.0', '640.0', '848.0', '1138.0',\n",
       "       '256.0', '935.0', '458.0', '662.0', '499.0', '949.0', '383.0',\n",
       "       '1255.0', '1221.0', '981.0', '1495.0', '1193.0', '467.0', '271.0',\n",
       "       '410.0', '1288.0', '1108.0', '437.0', '457.0', '634.0', '546.0',\n",
       "       '711.0', '448.0', '365.0', '763.0', '486.0', '392.0', '727.0',\n",
       "       '741.0', '552.0', '506.0', '1456.0', '160.0', '897.0', '600.0',\n",
       "       '1054.0', '428.0', '343.0', '1216.0', '207.0', '280.0', '414.0',\n",
       "       '836.0', '592.0', '219.0', '1079.0', '1251.0', '1168.0', '1444.0',\n",
       "       '1154.0', '234.0', '529.0', '1322.0', '924.0', '134.0', '755.0',\n",
       "       '253.0', '922.0', '1365.0', '306.0', '1271.0', '1404.0', '1391.0',\n",
       "       '1464.0', '1330.0', '773.0', '902.0', '107.0', '504.0', '1358.0',\n",
       "       '824.0', '594.0', '734.0', '766.0', '431.0', '1213.0', '1373.0',\n",
       "       '1324.0', '1123.0', '391.0', '125.0', '1357.0', '626.0', '132.0',\n",
       "       '871.0', '1031.0', '1145.0', '854.0', '1411.0', '252.0', '833.0',\n",
       "       '1210.0', '1463.0', '812.0', '1162.0', '845.0', '1144.0', '156.0',\n",
       "       '464.0', '1305.0', '983.0', '534.0', '1306.0', '1094.0', '558.0',\n",
       "       '959.0', '782.0', '362.0', '268.0', '167.0', '1243.0', '720.0',\n",
       "       '868.0', '1252.0', '781.0', '1272.0', '129.0', '1069.0', '289.0',\n",
       "       '955.0', '660.0', '415.0', '309.0', '130.0', '862.0', '1098.0',\n",
       "       '969.0', '373.0', '599.0', '968.0', '830.0', '1423.0', '516.0',\n",
       "       '598.0', '104.0', '479.0', '474.0', '264.0', '1059.0', '563.0',\n",
       "       '1259.0', '369.0', '543.0', '964.0', '176.0', '181.0', '211.0',\n",
       "       '590.0', '305.0', '478.0', '1294.0', '1128.0', '726.0', '352.0',\n",
       "       '1172.0', '605.0', '1337.0', '105.0'], dtype=object)"
      ]
     },
     "execution_count": 91,
     "metadata": {},
     "output_type": "execute_result"
    }
   ],
   "source": [
    "df['dailyrate'] = df['dailyrate'].str.replace(\",\", \".\").str.replace(\"$\", \"\")\n",
    "df['dailyrate'].unique()"
   ]
  },
  {
   "cell_type": "code",
   "execution_count": 92,
   "metadata": {},
   "outputs": [],
   "source": [
    "df['dailyrate'] = df['dailyrate'].astype(float)"
   ]
  },
  {
   "cell_type": "code",
   "execution_count": 93,
   "metadata": {},
   "outputs": [
    {
     "data": {
      "text/plain": [
       "array([ 684.,  699.,  532.,  359., 1319.,  117., 1435.,  635., 1276.,\n",
       "        840.,  247., 1369.,  201., 1360.,  692., 1398.,  286., 1402.,\n",
       "        819.,  884., 1238.,  515., 1223.,  202.,  928.,  607.,  266.,\n",
       "        429.,  589.,   nan, 1180., 1282.,  776.,  665.,  526., 1034.,\n",
       "       1403., 1499.,  580.,  859.,  263., 1376.,  885., 1003., 1321.,\n",
       "        394., 1372., 1333.,  228.,  737.,  823.,  667.,  301.,  573.,\n",
       "       1329.,  630., 1063., 1017., 1296.,  939., 1355., 1448.,  200.,\n",
       "       1202.,  404.,  208.,  813.,  465., 1189., 1001., 1394.,  161.,\n",
       "        288.,  682., 1354.,  147.,  119., 1413.,  452.,  334., 1132.,\n",
       "        982.,  480., 1099.,  672., 1379.,  583., 1492., 1050.,  469.,\n",
       "        237., 1440., 1291., 1157., 1336., 1224.,  735., 1389.,  638.,\n",
       "       1240.,  194., 1339.,  111., 1469.,  470., 1232., 1249.,  798.,\n",
       "        549.,  570.,  541.,  164., 1117.,  619.,  319.,  956., 1245.,\n",
       "       1397.,  527.,  213.,  882.,  330.,  406.,  217.,  481.,  669.,\n",
       "       1465.,  685., 1062.,  177., 1199.,  648.,  412.,  282.,  770.,\n",
       "        601.,  855.,  332., 1326.,  748.,  405.,  790.,  971., 1370.,\n",
       "        750.,  880.,  678., 1179.,  350., 1266.,  574.,  189.,  310.,\n",
       "        722., 1219.,  994.,  721.,  853.,  427.,  852., 1334., 1093.,\n",
       "        967.,  989., 1195., 1045.,  829.,  663., 1300., 1105.,  906.,\n",
       "        849., 1275., 1218.,  422., 1274., 1076., 1207.,  430.,  933.,\n",
       "       1184.,  586.,  890.,  379., 1425., 1188.,  938., 1053.,  248.,\n",
       "        796.,  174.,  408.,  977.,  536.,  135., 1476.,  587.,  495.,\n",
       "        523.,  507., 1055., 1445.,  218.,  447., 1029.,  674.,  538.,\n",
       "        740., 1234.,  170., 1130.,  584.,  918.,  792.,  611., 1383.,\n",
       "        867.,  706.,  728.,  311.,  556.,  937., 1125.,  444.,  911.,\n",
       "        585., 1392., 1005., 1299.,  655.,  746.,  632.,  658., 1467.,\n",
       "       1312.,  249.,  802.,  689., 1395., 1436., 1496., 1480.,  313.,\n",
       "        894.,  290., 1084., 1002., 1242., 1052.,  944.,  771., 1416.,\n",
       "       1327.,  488., 1385.,  666., 1315.,  442.,  950.,  691., 1018.,\n",
       "        559.,  318.,  144., 1171.,  143., 1178., 1107.,  645., 1485.,\n",
       "       1116.,  163.,  561.,  426.,  509.,  258.,  525.,  238.,  482.,\n",
       "        397.,  243.,  806., 1442.,  929.,  827.,  703.,  294.,  314.,\n",
       "        654.,  501.,  954., 1434.,  657.,  240.,  791.,  676.,  436.,\n",
       "        760.,  661., 1085.,  154., 1283.,  616.,  498.,  530.,  805.,\n",
       "        903., 1229.,  566., 1441.,  153., 1066.,  145., 1109.,  124.,\n",
       "        300., 1366.,  857., 1204., 1082.,  203., 1308.,  718.,  593.,\n",
       "       1384., 1361., 1146., 1316.,  363., 1103.,  920.,  694., 1429.,\n",
       "        531.,  621.,  604.,  325., 1030.,  524.,  943., 1009.,  817.,\n",
       "        930., 1147.,  652.,  337., 1136.,  326.,  377., 1038., 1490.,\n",
       "       1246.,  224.,  441.,  898., 1313., 1015., 1387., 1302.,  602.,\n",
       "        772.,  809.,  786.,  921.,  717.,  979.,  953.,  244.,  196.,\n",
       "        303., 1092.,  261., 1422., 1137.,  511., 1396., 1096., 1169.,\n",
       "       1239.,  157.,  754., 1303.,  697.,  116.,  557.,  582.,  704.,\n",
       "        613.,  419.,  477., 1211.,  505.,  269.,  553., 1277.,  302.,\n",
       "        975., 1318.,  881.,  466.,  945.,  433.,  991., 1083.,  136.,\n",
       "        333., 1462., 1131., 1023., 1065., 1115., 1479.,  304., 1368.,\n",
       "        828.,  799.,  142.,  446.,  254., 1410.,  883.,  121., 1343.,\n",
       "        490., 1400., 1332., 1200., 1102., 1328.,  548., 1214.,  120.,\n",
       "        841., 1033., 1452., 1268.,  307.,  797.,  555., 1377.,  210.,\n",
       "        483.,  575., 1311.,  759.,  891.,  317.,  688.,  195.,  622.,\n",
       "        646.,  719., 1012., 1278., 1222., 1231.,  462.,  231., 1089.,\n",
       "       1262.,  439.,  528.,  647., 1097.,  942.,  966.,  168.,  299.,\n",
       "        999., 1498., 1439., 1111., 1174.,  172.,  401.,  866.,  571.,\n",
       "       1342.,  995.,  118.,  990.,  241., 1470.,  492., 1040., 1320.,\n",
       "        146., 1153.,  185., 1297., 1064., 1351.,  468., 1273., 1141.,\n",
       "       1488.,  653., 1225., 1217., 1127., 1427.,  702.,  926.,  878.,\n",
       "        896., 1401.,  675., 1070.,  496.,  390., 1220., 1124., 1046.,\n",
       "        267.,  443., 1287., 1420.,  562.,  650.,  141.,  715.,  376.,\n",
       "        932.,  471.,  180., 1265., 1075., 1086.,  152.,  974.,  788.,\n",
       "        192.,  150., 1167.,  206.,  736.,  322.,  683., 1475.,  560.,\n",
       "        115.,  888.,  671.,  567.,  148.,  581.,  371., 1181., 1253.,\n",
       "        370., 1194.,  572.,  355.,  783.,  155.,  508.,  642., 1382.,\n",
       "       1037., 1120.,  374.,  287.,  591.,  670., 1346.,  103.,  673.,\n",
       "        705., 1459., 1443., 1142.,  664.,  432., 1353.,  489.,  807.,\n",
       "       1280.,  957.,  542.,  216., 1150.,  364., 1256.,  440.,  713.,\n",
       "        140.,  629.,  328.,  472.,  905., 1151.,  644.,  992., 1323.,\n",
       "        818., 1431.,  976.,  832.,  916., 1247.,  128., 1158.,  996.,\n",
       "       1449.,  636.,  889.,  106.,  723., 1482.,  738., 1192., 1309.,\n",
       "        544.,  641.,  756.,  895., 1261.,  329., 1362., 1371.,  821.,\n",
       "       1381., 1473.,  296., 1349.,  986.,  413.,  988., 1474.,  232.,\n",
       "       1236., 1112.,  204.,  913.,  810.,  693.,  316.,  381.,  775.,\n",
       "        804., 1090.,  346.,  725.,  182.,  384., 1325., 1258., 1041.,\n",
       "        625., 1418., 1269.,  395.,  341.,  500., 1454.,  617., 1122.,\n",
       "       1198.,  188.,  335.,  461., 1134.,  138., 1206.,  109.,  277.,\n",
       "        265.,  342., 1186.,  769., 1176., 1091.,  618.,  970.,  984.,\n",
       "        793., 1182.,  603.,  874.,  367.,  199., 1457., 1421., 1450.,\n",
       "       1212., 1010.,  131.,  193.,  640.,  848., 1138.,  256.,  935.,\n",
       "        458.,  662.,  499.,  949.,  383., 1255., 1221.,  981., 1495.,\n",
       "       1193.,  467.,  271.,  410., 1288., 1108.,  437.,  457.,  634.,\n",
       "        546.,  711.,  448.,  365.,  763.,  486.,  392.,  727.,  741.,\n",
       "        552.,  506., 1456.,  160.,  897.,  600., 1054.,  428.,  343.,\n",
       "       1216.,  207.,  280.,  414.,  836.,  592.,  219., 1079., 1251.,\n",
       "       1168., 1444., 1154.,  234.,  529., 1322.,  924.,  134.,  755.,\n",
       "        253.,  922., 1365.,  306., 1271., 1404., 1391., 1464., 1330.,\n",
       "        773.,  902.,  107.,  504., 1358.,  824.,  594.,  734.,  766.,\n",
       "        431., 1213., 1373., 1324., 1123.,  391.,  125., 1357.,  626.,\n",
       "        132.,  871., 1031., 1145.,  854., 1411.,  252.,  833., 1210.,\n",
       "       1463.,  812., 1162.,  845., 1144.,  156.,  464., 1305.,  983.,\n",
       "        534., 1306., 1094.,  558.,  959.,  782.,  362.,  268.,  167.,\n",
       "       1243.,  720.,  868., 1252.,  781., 1272.,  129., 1069.,  289.,\n",
       "        955.,  660.,  415.,  309.,  130.,  862., 1098.,  969.,  373.,\n",
       "        599.,  968.,  830., 1423.,  516.,  598.,  104.,  479.,  474.,\n",
       "        264., 1059.,  563., 1259.,  369.,  543.,  964.,  176.,  181.,\n",
       "        211.,  590.,  305.,  478., 1294., 1128.,  726.,  352., 1172.,\n",
       "        605., 1337.,  105.])"
      ]
     },
     "execution_count": 93,
     "metadata": {},
     "output_type": "execute_result"
    }
   ],
   "source": [
    "df['dailyrate'].unique()"
   ]
  },
  {
   "cell_type": "code",
   "execution_count": 94,
   "metadata": {},
   "outputs": [
    {
     "data": {
      "text/html": [
       "<div>\n",
       "<style scoped>\n",
       "    .dataframe tbody tr th:only-of-type {\n",
       "        vertical-align: middle;\n",
       "    }\n",
       "\n",
       "    .dataframe tbody tr th {\n",
       "        vertical-align: top;\n",
       "    }\n",
       "\n",
       "    .dataframe thead th {\n",
       "        text-align: right;\n",
       "    }\n",
       "</style>\n",
       "<table border=\"1\" class=\"dataframe\">\n",
       "  <thead>\n",
       "    <tr style=\"text-align: right;\">\n",
       "      <th></th>\n",
       "      <th>age</th>\n",
       "      <th>attrition</th>\n",
       "      <th>businesstravel</th>\n",
       "      <th>dailyrate</th>\n",
       "      <th>distancefromhome</th>\n",
       "      <th>education</th>\n",
       "      <th>educationfield</th>\n",
       "      <th>employeenumber</th>\n",
       "      <th>environmentsatisfaction</th>\n",
       "      <th>gender</th>\n",
       "      <th>hourlyrate</th>\n",
       "      <th>jobinvolvement</th>\n",
       "      <th>joblevel</th>\n",
       "      <th>jobrole</th>\n",
       "      <th>jobsatisfaction</th>\n",
       "      <th>maritalstatus</th>\n",
       "      <th>monthlyincome</th>\n",
       "      <th>monthlyrate</th>\n",
       "      <th>numcompaniesworked</th>\n",
       "      <th>overtime</th>\n",
       "      <th>percentsalaryhike</th>\n",
       "      <th>performancerating</th>\n",
       "      <th>relationshipsatisfaction</th>\n",
       "      <th>stockoptionlevel</th>\n",
       "      <th>totalworkingyears</th>\n",
       "      <th>trainingtimeslastyear</th>\n",
       "      <th>worklifebalance</th>\n",
       "      <th>yearsatcompany</th>\n",
       "      <th>yearssincelastpromotion</th>\n",
       "      <th>yearswithcurrmanager</th>\n",
       "      <th>datebirth</th>\n",
       "      <th>remotework</th>\n",
       "    </tr>\n",
       "  </thead>\n",
       "  <tbody>\n",
       "    <tr>\n",
       "      <th>17</th>\n",
       "      <td>46</td>\n",
       "      <td>No</td>\n",
       "      <td>travel rarely</td>\n",
       "      <td>1402.0</td>\n",
       "      <td>2</td>\n",
       "      <td>3</td>\n",
       "      <td>NaN</td>\n",
       "      <td>NaN</td>\n",
       "      <td>3</td>\n",
       "      <td>1</td>\n",
       "      <td>69</td>\n",
       "      <td>3</td>\n",
       "      <td>4</td>\n",
       "      <td>MAnaGER</td>\n",
       "      <td>1</td>\n",
       "      <td>NaN</td>\n",
       "      <td>NaN</td>\n",
       "      <td>24097</td>\n",
       "      <td>8</td>\n",
       "      <td>NaN</td>\n",
       "      <td>23</td>\n",
       "      <td>4,0</td>\n",
       "      <td>1</td>\n",
       "      <td>0</td>\n",
       "      <td>28,0</td>\n",
       "      <td>2</td>\n",
       "      <td>3,0</td>\n",
       "      <td>26</td>\n",
       "      <td>15</td>\n",
       "      <td>9</td>\n",
       "      <td>1977</td>\n",
       "      <td>False</td>\n",
       "    </tr>\n",
       "  </tbody>\n",
       "</table>\n",
       "</div>"
      ],
      "text/plain": [
       "    age attrition businesstravel  dailyrate  distancefromhome  education  \\\n",
       "17   46        No  travel rarely     1402.0                 2          3   \n",
       "\n",
       "   educationfield employeenumber  environmentsatisfaction  gender hourlyrate  \\\n",
       "17            NaN            NaN                        3       1         69   \n",
       "\n",
       "    jobinvolvement  joblevel    jobrole  jobsatisfaction maritalstatus  \\\n",
       "17               3         4   MAnaGER                 1           NaN   \n",
       "\n",
       "   monthlyincome  monthlyrate  numcompaniesworked overtime  percentsalaryhike  \\\n",
       "17           NaN        24097                   8      NaN                 23   \n",
       "\n",
       "   performancerating  relationshipsatisfaction  stockoptionlevel  \\\n",
       "17               4,0                         1                 0   \n",
       "\n",
       "   totalworkingyears  trainingtimeslastyear worklifebalance  yearsatcompany  \\\n",
       "17              28,0                      2             3,0              26   \n",
       "\n",
       "    yearssincelastpromotion  yearswithcurrmanager  datebirth remotework  \n",
       "17                       15                     9       1977      False  "
      ]
     },
     "execution_count": 94,
     "metadata": {},
     "output_type": "execute_result"
    }
   ],
   "source": [
    "df.sample()"
   ]
  },
  {
   "cell_type": "markdown",
   "metadata": {},
   "source": [
    "--------"
   ]
  },
  {
   "cell_type": "markdown",
   "metadata": {},
   "source": [
    "Eliminado ❌"
   ]
  },
  {
   "cell_type": "code",
   "execution_count": 95,
   "metadata": {},
   "outputs": [
    {
     "ename": "KeyError",
     "evalue": "'department'",
     "output_type": "error",
     "traceback": [
      "\u001b[0;31m---------------------------------------------------------------------------\u001b[0m",
      "\u001b[0;31mKeyError\u001b[0m                                  Traceback (most recent call last)",
      "\u001b[0;32m~/anaconda3/lib/python3.9/site-packages/pandas/core/indexes/base.py\u001b[0m in \u001b[0;36mget_loc\u001b[0;34m(self, key)\u001b[0m\n\u001b[1;32m   3804\u001b[0m         \u001b[0;32mtry\u001b[0m\u001b[0;34m:\u001b[0m\u001b[0;34m\u001b[0m\u001b[0;34m\u001b[0m\u001b[0m\n\u001b[0;32m-> 3805\u001b[0;31m             \u001b[0;32mreturn\u001b[0m \u001b[0mself\u001b[0m\u001b[0;34m.\u001b[0m\u001b[0m_engine\u001b[0m\u001b[0;34m.\u001b[0m\u001b[0mget_loc\u001b[0m\u001b[0;34m(\u001b[0m\u001b[0mcasted_key\u001b[0m\u001b[0;34m)\u001b[0m\u001b[0;34m\u001b[0m\u001b[0;34m\u001b[0m\u001b[0m\n\u001b[0m\u001b[1;32m   3806\u001b[0m         \u001b[0;32mexcept\u001b[0m \u001b[0mKeyError\u001b[0m \u001b[0;32mas\u001b[0m \u001b[0merr\u001b[0m\u001b[0;34m:\u001b[0m\u001b[0;34m\u001b[0m\u001b[0;34m\u001b[0m\u001b[0m\n",
      "\u001b[0;32mindex.pyx\u001b[0m in \u001b[0;36mpandas._libs.index.IndexEngine.get_loc\u001b[0;34m()\u001b[0m\n",
      "\u001b[0;32mindex.pyx\u001b[0m in \u001b[0;36mpandas._libs.index.IndexEngine.get_loc\u001b[0;34m()\u001b[0m\n",
      "\u001b[0;32mpandas/_libs/hashtable_class_helper.pxi\u001b[0m in \u001b[0;36mpandas._libs.hashtable.PyObjectHashTable.get_item\u001b[0;34m()\u001b[0m\n",
      "\u001b[0;32mpandas/_libs/hashtable_class_helper.pxi\u001b[0m in \u001b[0;36mpandas._libs.hashtable.PyObjectHashTable.get_item\u001b[0;34m()\u001b[0m\n",
      "\u001b[0;31mKeyError\u001b[0m: 'department'",
      "\nThe above exception was the direct cause of the following exception:\n",
      "\u001b[0;31mKeyError\u001b[0m                                  Traceback (most recent call last)",
      "\u001b[0;32m/tmp/ipykernel_903/4202130130.py\u001b[0m in \u001b[0;36m<module>\u001b[0;34m\u001b[0m\n\u001b[0;32m----> 1\u001b[0;31m \u001b[0mdf\u001b[0m\u001b[0;34m[\u001b[0m\u001b[0;34m'department'\u001b[0m\u001b[0;34m]\u001b[0m\u001b[0;34m.\u001b[0m\u001b[0munique\u001b[0m\u001b[0;34m(\u001b[0m\u001b[0;34m)\u001b[0m\u001b[0;34m\u001b[0m\u001b[0;34m\u001b[0m\u001b[0m\n\u001b[0m",
      "\u001b[0;32m~/anaconda3/lib/python3.9/site-packages/pandas/core/frame.py\u001b[0m in \u001b[0;36m__getitem__\u001b[0;34m(self, key)\u001b[0m\n\u001b[1;32m   4088\u001b[0m             \u001b[0;32mif\u001b[0m \u001b[0mself\u001b[0m\u001b[0;34m.\u001b[0m\u001b[0mcolumns\u001b[0m\u001b[0;34m.\u001b[0m\u001b[0mnlevels\u001b[0m \u001b[0;34m>\u001b[0m \u001b[0;36m1\u001b[0m\u001b[0;34m:\u001b[0m\u001b[0;34m\u001b[0m\u001b[0;34m\u001b[0m\u001b[0m\n\u001b[1;32m   4089\u001b[0m                 \u001b[0;32mreturn\u001b[0m \u001b[0mself\u001b[0m\u001b[0;34m.\u001b[0m\u001b[0m_getitem_multilevel\u001b[0m\u001b[0;34m(\u001b[0m\u001b[0mkey\u001b[0m\u001b[0;34m)\u001b[0m\u001b[0;34m\u001b[0m\u001b[0;34m\u001b[0m\u001b[0m\n\u001b[0;32m-> 4090\u001b[0;31m             \u001b[0mindexer\u001b[0m \u001b[0;34m=\u001b[0m \u001b[0mself\u001b[0m\u001b[0;34m.\u001b[0m\u001b[0mcolumns\u001b[0m\u001b[0;34m.\u001b[0m\u001b[0mget_loc\u001b[0m\u001b[0;34m(\u001b[0m\u001b[0mkey\u001b[0m\u001b[0;34m)\u001b[0m\u001b[0;34m\u001b[0m\u001b[0;34m\u001b[0m\u001b[0m\n\u001b[0m\u001b[1;32m   4091\u001b[0m             \u001b[0;32mif\u001b[0m \u001b[0mis_integer\u001b[0m\u001b[0;34m(\u001b[0m\u001b[0mindexer\u001b[0m\u001b[0;34m)\u001b[0m\u001b[0;34m:\u001b[0m\u001b[0;34m\u001b[0m\u001b[0;34m\u001b[0m\u001b[0m\n\u001b[1;32m   4092\u001b[0m                 \u001b[0mindexer\u001b[0m \u001b[0;34m=\u001b[0m \u001b[0;34m[\u001b[0m\u001b[0mindexer\u001b[0m\u001b[0;34m]\u001b[0m\u001b[0;34m\u001b[0m\u001b[0;34m\u001b[0m\u001b[0m\n",
      "\u001b[0;32m~/anaconda3/lib/python3.9/site-packages/pandas/core/indexes/base.py\u001b[0m in \u001b[0;36mget_loc\u001b[0;34m(self, key)\u001b[0m\n\u001b[1;32m   3810\u001b[0m             ):\n\u001b[1;32m   3811\u001b[0m                 \u001b[0;32mraise\u001b[0m \u001b[0mInvalidIndexError\u001b[0m\u001b[0;34m(\u001b[0m\u001b[0mkey\u001b[0m\u001b[0;34m)\u001b[0m\u001b[0;34m\u001b[0m\u001b[0;34m\u001b[0m\u001b[0m\n\u001b[0;32m-> 3812\u001b[0;31m             \u001b[0;32mraise\u001b[0m \u001b[0mKeyError\u001b[0m\u001b[0;34m(\u001b[0m\u001b[0mkey\u001b[0m\u001b[0;34m)\u001b[0m \u001b[0;32mfrom\u001b[0m \u001b[0merr\u001b[0m\u001b[0;34m\u001b[0m\u001b[0;34m\u001b[0m\u001b[0m\n\u001b[0m\u001b[1;32m   3813\u001b[0m         \u001b[0;32mexcept\u001b[0m \u001b[0mTypeError\u001b[0m\u001b[0;34m:\u001b[0m\u001b[0;34m\u001b[0m\u001b[0;34m\u001b[0m\u001b[0m\n\u001b[1;32m   3814\u001b[0m             \u001b[0;31m# If we have a listlike key, _check_indexing_error will raise\u001b[0m\u001b[0;34m\u001b[0m\u001b[0;34m\u001b[0m\u001b[0m\n",
      "\u001b[0;31mKeyError\u001b[0m: 'department'"
     ]
    }
   ],
   "source": [
    "df['department'].unique()"
   ]
  },
  {
   "cell_type": "code",
   "execution_count": null,
   "metadata": {},
   "outputs": [],
   "source": [
    "df['department'].isnull().sum() # Tiene un 81% de nulos"
   ]
  },
  {
   "cell_type": "markdown",
   "metadata": {},
   "source": [
    "-----------"
   ]
  },
  {
   "cell_type": "markdown",
   "metadata": {},
   "source": [
    "`Cambiar los números a positivos los que están negativos`✅"
   ]
  },
  {
   "cell_type": "code",
   "execution_count": 96,
   "metadata": {},
   "outputs": [],
   "source": [
    "df['distancefromhome'] = df['distancefromhome'].abs()"
   ]
  },
  {
   "cell_type": "code",
   "execution_count": 97,
   "metadata": {},
   "outputs": [
    {
     "data": {
      "text/plain": [
       "array([ 6,  1,  4,  2,  3, 22, 25,  9,  7, 23, 10, 12, 14, 13, 15,  8, 42,\n",
       "       28, 37,  5, 16, 35, 26, 24, 29, 17, 21, 18, 30, 27, 20, 31, 39, 11,\n",
       "       19, 33, 34, 46, 36, 45, 47, 32, 41, 49, 48, 38, 43, 40, 44])"
      ]
     },
     "execution_count": 97,
     "metadata": {},
     "output_type": "execute_result"
    }
   ],
   "source": [
    "df['distancefromhome'].unique()\n"
   ]
  },
  {
   "cell_type": "markdown",
   "metadata": {},
   "source": [
    "---------"
   ]
  },
  {
   "cell_type": "markdown",
   "metadata": {},
   "source": [
    "No requiere cambios ✅"
   ]
  },
  {
   "cell_type": "code",
   "execution_count": 98,
   "metadata": {},
   "outputs": [
    {
     "data": {
      "text/plain": [
       "array([3, 4, 2, 1, 5])"
      ]
     },
     "execution_count": 98,
     "metadata": {},
     "output_type": "execute_result"
    }
   ],
   "source": [
    "df['education'].unique()"
   ]
  },
  {
   "cell_type": "markdown",
   "metadata": {},
   "source": [
    "--------"
   ]
  },
  {
   "cell_type": "markdown",
   "metadata": {},
   "source": [
    "- `cambiar a minúscula todo` ✅\n",
    "- `Eliminar los NAN`"
   ]
  },
  {
   "cell_type": "code",
   "execution_count": 99,
   "metadata": {},
   "outputs": [
    {
     "data": {
      "text/html": [
       "<div>\n",
       "<style scoped>\n",
       "    .dataframe tbody tr th:only-of-type {\n",
       "        vertical-align: middle;\n",
       "    }\n",
       "\n",
       "    .dataframe tbody tr th {\n",
       "        vertical-align: top;\n",
       "    }\n",
       "\n",
       "    .dataframe thead th {\n",
       "        text-align: right;\n",
       "    }\n",
       "</style>\n",
       "<table border=\"1\" class=\"dataframe\">\n",
       "  <thead>\n",
       "    <tr style=\"text-align: right;\">\n",
       "      <th></th>\n",
       "      <th>age</th>\n",
       "      <th>attrition</th>\n",
       "      <th>businesstravel</th>\n",
       "      <th>dailyrate</th>\n",
       "      <th>distancefromhome</th>\n",
       "      <th>education</th>\n",
       "      <th>educationfield</th>\n",
       "      <th>employeenumber</th>\n",
       "      <th>environmentsatisfaction</th>\n",
       "      <th>gender</th>\n",
       "      <th>hourlyrate</th>\n",
       "      <th>jobinvolvement</th>\n",
       "      <th>joblevel</th>\n",
       "      <th>jobrole</th>\n",
       "      <th>jobsatisfaction</th>\n",
       "      <th>maritalstatus</th>\n",
       "      <th>monthlyincome</th>\n",
       "      <th>monthlyrate</th>\n",
       "      <th>numcompaniesworked</th>\n",
       "      <th>overtime</th>\n",
       "      <th>percentsalaryhike</th>\n",
       "      <th>performancerating</th>\n",
       "      <th>relationshipsatisfaction</th>\n",
       "      <th>stockoptionlevel</th>\n",
       "      <th>totalworkingyears</th>\n",
       "      <th>trainingtimeslastyear</th>\n",
       "      <th>worklifebalance</th>\n",
       "      <th>yearsatcompany</th>\n",
       "      <th>yearssincelastpromotion</th>\n",
       "      <th>yearswithcurrmanager</th>\n",
       "      <th>datebirth</th>\n",
       "      <th>remotework</th>\n",
       "    </tr>\n",
       "  </thead>\n",
       "  <tbody>\n",
       "    <tr>\n",
       "      <th>0</th>\n",
       "      <td>51</td>\n",
       "      <td>No</td>\n",
       "      <td>NaN</td>\n",
       "      <td>684.0</td>\n",
       "      <td>6</td>\n",
       "      <td>3</td>\n",
       "      <td>NaN</td>\n",
       "      <td>162,0</td>\n",
       "      <td>1</td>\n",
       "      <td>0</td>\n",
       "      <td>51</td>\n",
       "      <td>3</td>\n",
       "      <td>5</td>\n",
       "      <td>resEArch DIREcToR</td>\n",
       "      <td>3</td>\n",
       "      <td>NaN</td>\n",
       "      <td>19537,0</td>\n",
       "      <td>6462</td>\n",
       "      <td>7</td>\n",
       "      <td>No</td>\n",
       "      <td>13</td>\n",
       "      <td>3,0</td>\n",
       "      <td>3</td>\n",
       "      <td>0</td>\n",
       "      <td>NaN</td>\n",
       "      <td>5</td>\n",
       "      <td>3,0</td>\n",
       "      <td>20</td>\n",
       "      <td>15</td>\n",
       "      <td>15</td>\n",
       "      <td>1972</td>\n",
       "      <td>Yes</td>\n",
       "    </tr>\n",
       "    <tr>\n",
       "      <th>1</th>\n",
       "      <td>52</td>\n",
       "      <td>No</td>\n",
       "      <td>NaN</td>\n",
       "      <td>699.0</td>\n",
       "      <td>1</td>\n",
       "      <td>4</td>\n",
       "      <td>life sciences</td>\n",
       "      <td>259,0</td>\n",
       "      <td>3</td>\n",
       "      <td>0</td>\n",
       "      <td>65</td>\n",
       "      <td>2</td>\n",
       "      <td>5</td>\n",
       "      <td>ManAGeR</td>\n",
       "      <td>3</td>\n",
       "      <td>NaN</td>\n",
       "      <td>19999,0</td>\n",
       "      <td>5678</td>\n",
       "      <td>0</td>\n",
       "      <td>NaN</td>\n",
       "      <td>14</td>\n",
       "      <td>3,0</td>\n",
       "      <td>1</td>\n",
       "      <td>1</td>\n",
       "      <td>34,0</td>\n",
       "      <td>5</td>\n",
       "      <td>3,0</td>\n",
       "      <td>33</td>\n",
       "      <td>11</td>\n",
       "      <td>9</td>\n",
       "      <td>1971</td>\n",
       "      <td>1</td>\n",
       "    </tr>\n",
       "    <tr>\n",
       "      <th>2</th>\n",
       "      <td>42</td>\n",
       "      <td>No</td>\n",
       "      <td>travel rarely</td>\n",
       "      <td>532.0</td>\n",
       "      <td>4</td>\n",
       "      <td>2</td>\n",
       "      <td>technical degree</td>\n",
       "      <td>319,0</td>\n",
       "      <td>3</td>\n",
       "      <td>0</td>\n",
       "      <td>58</td>\n",
       "      <td>3</td>\n",
       "      <td>5</td>\n",
       "      <td>ManaGER</td>\n",
       "      <td>4</td>\n",
       "      <td>Married</td>\n",
       "      <td>19232,0</td>\n",
       "      <td>4933</td>\n",
       "      <td>1</td>\n",
       "      <td>No</td>\n",
       "      <td>11</td>\n",
       "      <td>3,0</td>\n",
       "      <td>4</td>\n",
       "      <td>0</td>\n",
       "      <td>22,0</td>\n",
       "      <td>3</td>\n",
       "      <td>NaN</td>\n",
       "      <td>22</td>\n",
       "      <td>11</td>\n",
       "      <td>15</td>\n",
       "      <td>1981</td>\n",
       "      <td>1</td>\n",
       "    </tr>\n",
       "    <tr>\n",
       "      <th>3</th>\n",
       "      <td>47</td>\n",
       "      <td>No</td>\n",
       "      <td>travel rarely</td>\n",
       "      <td>359.0</td>\n",
       "      <td>2</td>\n",
       "      <td>4</td>\n",
       "      <td>medical</td>\n",
       "      <td>NaN</td>\n",
       "      <td>1</td>\n",
       "      <td>1</td>\n",
       "      <td>82</td>\n",
       "      <td>3</td>\n",
       "      <td>4</td>\n",
       "      <td>ReseArCH DIrECtOr</td>\n",
       "      <td>3</td>\n",
       "      <td>Married</td>\n",
       "      <td>17169,0</td>\n",
       "      <td>26703</td>\n",
       "      <td>3</td>\n",
       "      <td>NaN</td>\n",
       "      <td>19</td>\n",
       "      <td>3,0</td>\n",
       "      <td>2</td>\n",
       "      <td>2</td>\n",
       "      <td>NaN</td>\n",
       "      <td>2</td>\n",
       "      <td>NaN</td>\n",
       "      <td>20</td>\n",
       "      <td>5</td>\n",
       "      <td>6</td>\n",
       "      <td>1976</td>\n",
       "      <td>False</td>\n",
       "    </tr>\n",
       "    <tr>\n",
       "      <th>4</th>\n",
       "      <td>46</td>\n",
       "      <td>No</td>\n",
       "      <td>NaN</td>\n",
       "      <td>1319.0</td>\n",
       "      <td>3</td>\n",
       "      <td>3</td>\n",
       "      <td>technical degree</td>\n",
       "      <td>NaN</td>\n",
       "      <td>1</td>\n",
       "      <td>1</td>\n",
       "      <td>45</td>\n",
       "      <td>4</td>\n",
       "      <td>4</td>\n",
       "      <td>sAleS EXECUtIve</td>\n",
       "      <td>1</td>\n",
       "      <td>Divorced</td>\n",
       "      <td>NaN</td>\n",
       "      <td>7739</td>\n",
       "      <td>2</td>\n",
       "      <td>No</td>\n",
       "      <td>12</td>\n",
       "      <td>3,0</td>\n",
       "      <td>4</td>\n",
       "      <td>1</td>\n",
       "      <td>NaN</td>\n",
       "      <td>5</td>\n",
       "      <td>3,0</td>\n",
       "      <td>19</td>\n",
       "      <td>2</td>\n",
       "      <td>8</td>\n",
       "      <td>1977</td>\n",
       "      <td>0</td>\n",
       "    </tr>\n",
       "  </tbody>\n",
       "</table>\n",
       "</div>"
      ],
      "text/plain": [
       "   age attrition businesstravel  dailyrate  distancefromhome  education  \\\n",
       "0   51        No            NaN      684.0                 6          3   \n",
       "1   52        No            NaN      699.0                 1          4   \n",
       "2   42        No  travel rarely      532.0                 4          2   \n",
       "3   47        No  travel rarely      359.0                 2          4   \n",
       "4   46        No            NaN     1319.0                 3          3   \n",
       "\n",
       "     educationfield employeenumber  environmentsatisfaction  gender  \\\n",
       "0               NaN          162,0                        1       0   \n",
       "1     life sciences          259,0                        3       0   \n",
       "2  technical degree          319,0                        3       0   \n",
       "3           medical            NaN                        1       1   \n",
       "4  technical degree            NaN                        1       1   \n",
       "\n",
       "  hourlyrate  jobinvolvement  joblevel              jobrole  jobsatisfaction  \\\n",
       "0         51               3         5   resEArch DIREcToR                 3   \n",
       "1         65               2         5             ManAGeR                 3   \n",
       "2         58               3         5             ManaGER                 4   \n",
       "3         82               3         4   ReseArCH DIrECtOr                 3   \n",
       "4         45               4         4     sAleS EXECUtIve                 1   \n",
       "\n",
       "  maritalstatus monthlyincome  monthlyrate  numcompaniesworked overtime  \\\n",
       "0           NaN       19537,0         6462                   7       No   \n",
       "1           NaN       19999,0         5678                   0      NaN   \n",
       "2       Married       19232,0         4933                   1       No   \n",
       "3       Married       17169,0        26703                   3      NaN   \n",
       "4      Divorced           NaN         7739                   2       No   \n",
       "\n",
       "   percentsalaryhike performancerating  relationshipsatisfaction  \\\n",
       "0                 13               3,0                         3   \n",
       "1                 14               3,0                         1   \n",
       "2                 11               3,0                         4   \n",
       "3                 19               3,0                         2   \n",
       "4                 12               3,0                         4   \n",
       "\n",
       "   stockoptionlevel totalworkingyears  trainingtimeslastyear worklifebalance  \\\n",
       "0                 0               NaN                      5             3,0   \n",
       "1                 1              34,0                      5             3,0   \n",
       "2                 0              22,0                      3             NaN   \n",
       "3                 2               NaN                      2             NaN   \n",
       "4                 1               NaN                      5             3,0   \n",
       "\n",
       "   yearsatcompany  yearssincelastpromotion  yearswithcurrmanager  datebirth  \\\n",
       "0              20                       15                    15       1972   \n",
       "1              33                       11                     9       1971   \n",
       "2              22                       11                    15       1981   \n",
       "3              20                        5                     6       1976   \n",
       "4              19                        2                     8       1977   \n",
       "\n",
       "  remotework  \n",
       "0        Yes  \n",
       "1          1  \n",
       "2          1  \n",
       "3      False  \n",
       "4          0  "
      ]
     },
     "execution_count": 99,
     "metadata": {},
     "output_type": "execute_result"
    }
   ],
   "source": [
    "df['educationfield'] = df['educationfield'].str.lower()\n",
    "df.head()"
   ]
  },
  {
   "cell_type": "code",
   "execution_count": 100,
   "metadata": {},
   "outputs": [
    {
     "data": {
      "text/plain": [
       "array([nan, 'life sciences', 'technical degree', 'medical', 'other',\n",
       "       'marketing', 'human resources'], dtype=object)"
      ]
     },
     "execution_count": 100,
     "metadata": {},
     "output_type": "execute_result"
    }
   ],
   "source": [
    "df['educationfield'].unique()"
   ]
  },
  {
   "cell_type": "markdown",
   "metadata": {},
   "source": [
    "--------"
   ]
  },
  {
   "cell_type": "markdown",
   "metadata": {},
   "source": [
    "Eliminado ❌"
   ]
  },
  {
   "cell_type": "code",
   "execution_count": null,
   "metadata": {},
   "outputs": [],
   "source": [
    "df['employeecount'].unique()"
   ]
  },
  {
   "cell_type": "markdown",
   "metadata": {},
   "source": [
    "-------"
   ]
  },
  {
   "cell_type": "markdown",
   "metadata": {},
   "source": [
    "# `Eliminar duplicados`\n",
    "- `Revisar bien cada registro para tomar una decisión sobre los nulos que tiene filas llenas pero el id es nulo`"
   ]
  },
  {
   "cell_type": "code",
   "execution_count": 101,
   "metadata": {},
   "outputs": [
    {
     "data": {
      "text/plain": [
       "array(['162,0', '259,0', '319,0', ..., '2012,0', '2023,0', '2040,0'],\n",
       "      dtype=object)"
      ]
     },
     "execution_count": 101,
     "metadata": {},
     "output_type": "execute_result"
    }
   ],
   "source": [
    "df['employeenumber'].unique()"
   ]
  },
  {
   "cell_type": "code",
   "execution_count": 102,
   "metadata": {},
   "outputs": [
    {
     "data": {
      "text/plain": [
       "534"
      ]
     },
     "execution_count": 102,
     "metadata": {},
     "output_type": "execute_result"
    }
   ],
   "source": [
    "df['employeenumber'].duplicated().sum()"
   ]
  },
  {
   "cell_type": "code",
   "execution_count": 103,
   "metadata": {},
   "outputs": [
    {
     "data": {
      "text/plain": [
       "employeenumber\n",
       "482,0     2\n",
       "530,0     2\n",
       "507,0     2\n",
       "517,0     2\n",
       "522,0     2\n",
       "         ..\n",
       "161,0     1\n",
       "164,0     1\n",
       "190,0     1\n",
       "194,0     1\n",
       "2040,0    1\n",
       "Name: count, Length: 1079, dtype: int64"
      ]
     },
     "execution_count": 103,
     "metadata": {},
     "output_type": "execute_result"
    }
   ],
   "source": [
    "df['employeenumber'].value_counts()"
   ]
  },
  {
   "cell_type": "code",
   "execution_count": 104,
   "metadata": {},
   "outputs": [
    {
     "data": {
      "text/plain": [
       "0       False\n",
       "1       False\n",
       "2       False\n",
       "3       False\n",
       "4        True\n",
       "        ...  \n",
       "1609     True\n",
       "1610     True\n",
       "1611     True\n",
       "1612     True\n",
       "1613     True\n",
       "Length: 1614, dtype: bool"
      ]
     },
     "execution_count": 104,
     "metadata": {},
     "output_type": "execute_result"
    }
   ],
   "source": [
    "df.duplicated(subset=['employeenumber'])"
   ]
  },
  {
   "cell_type": "code",
   "execution_count": 105,
   "metadata": {},
   "outputs": [
    {
     "data": {
      "text/html": [
       "<div>\n",
       "<style scoped>\n",
       "    .dataframe tbody tr th:only-of-type {\n",
       "        vertical-align: middle;\n",
       "    }\n",
       "\n",
       "    .dataframe tbody tr th {\n",
       "        vertical-align: top;\n",
       "    }\n",
       "\n",
       "    .dataframe thead th {\n",
       "        text-align: right;\n",
       "    }\n",
       "</style>\n",
       "<table border=\"1\" class=\"dataframe\">\n",
       "  <thead>\n",
       "    <tr style=\"text-align: right;\">\n",
       "      <th></th>\n",
       "      <th>age</th>\n",
       "      <th>attrition</th>\n",
       "      <th>businesstravel</th>\n",
       "      <th>dailyrate</th>\n",
       "      <th>distancefromhome</th>\n",
       "      <th>education</th>\n",
       "      <th>educationfield</th>\n",
       "      <th>employeenumber</th>\n",
       "      <th>environmentsatisfaction</th>\n",
       "      <th>gender</th>\n",
       "      <th>hourlyrate</th>\n",
       "      <th>jobinvolvement</th>\n",
       "      <th>joblevel</th>\n",
       "      <th>jobrole</th>\n",
       "      <th>jobsatisfaction</th>\n",
       "      <th>maritalstatus</th>\n",
       "      <th>monthlyincome</th>\n",
       "      <th>monthlyrate</th>\n",
       "      <th>numcompaniesworked</th>\n",
       "      <th>overtime</th>\n",
       "      <th>percentsalaryhike</th>\n",
       "      <th>performancerating</th>\n",
       "      <th>relationshipsatisfaction</th>\n",
       "      <th>stockoptionlevel</th>\n",
       "      <th>totalworkingyears</th>\n",
       "      <th>trainingtimeslastyear</th>\n",
       "      <th>worklifebalance</th>\n",
       "      <th>yearsatcompany</th>\n",
       "      <th>yearssincelastpromotion</th>\n",
       "      <th>yearswithcurrmanager</th>\n",
       "      <th>datebirth</th>\n",
       "      <th>remotework</th>\n",
       "    </tr>\n",
       "  </thead>\n",
       "  <tbody>\n",
       "    <tr>\n",
       "      <th>1053</th>\n",
       "      <td>41</td>\n",
       "      <td>No</td>\n",
       "      <td>NaN</td>\n",
       "      <td>NaN</td>\n",
       "      <td>5</td>\n",
       "      <td>5</td>\n",
       "      <td>medical</td>\n",
       "      <td>1448,0</td>\n",
       "      <td>2</td>\n",
       "      <td>0</td>\n",
       "      <td>90</td>\n",
       "      <td>4</td>\n",
       "      <td>1</td>\n",
       "      <td>rEseaRCh SCIeNtIST</td>\n",
       "      <td>3</td>\n",
       "      <td>NaN</td>\n",
       "      <td>NaN</td>\n",
       "      <td>5561</td>\n",
       "      <td>2</td>\n",
       "      <td>NaN</td>\n",
       "      <td>12</td>\n",
       "      <td>3,0</td>\n",
       "      <td>1</td>\n",
       "      <td>0</td>\n",
       "      <td>7,0</td>\n",
       "      <td>5</td>\n",
       "      <td>NaN</td>\n",
       "      <td>4</td>\n",
       "      <td>0</td>\n",
       "      <td>3</td>\n",
       "      <td>1982</td>\n",
       "      <td>1</td>\n",
       "    </tr>\n",
       "    <tr>\n",
       "      <th>868</th>\n",
       "      <td>49</td>\n",
       "      <td>No</td>\n",
       "      <td>NaN</td>\n",
       "      <td>636.0</td>\n",
       "      <td>10</td>\n",
       "      <td>4</td>\n",
       "      <td>life sciences</td>\n",
       "      <td>396,0</td>\n",
       "      <td>3</td>\n",
       "      <td>1</td>\n",
       "      <td>Not Available</td>\n",
       "      <td>3</td>\n",
       "      <td>5</td>\n",
       "      <td>ReSEaRCh DIrECTOr</td>\n",
       "      <td>1</td>\n",
       "      <td>Single</td>\n",
       "      <td>18665,0</td>\n",
       "      <td>25594</td>\n",
       "      <td>9</td>\n",
       "      <td>Yes</td>\n",
       "      <td>11</td>\n",
       "      <td>3,0</td>\n",
       "      <td>4</td>\n",
       "      <td>0</td>\n",
       "      <td>NaN</td>\n",
       "      <td>4</td>\n",
       "      <td>3,0</td>\n",
       "      <td>3</td>\n",
       "      <td>1</td>\n",
       "      <td>2</td>\n",
       "      <td>1974</td>\n",
       "      <td>True</td>\n",
       "    </tr>\n",
       "    <tr>\n",
       "      <th>1350</th>\n",
       "      <td>29</td>\n",
       "      <td>Yes</td>\n",
       "      <td>travel rarely</td>\n",
       "      <td>906.0</td>\n",
       "      <td>10</td>\n",
       "      <td>3</td>\n",
       "      <td>NaN</td>\n",
       "      <td>994,0</td>\n",
       "      <td>4</td>\n",
       "      <td>1</td>\n",
       "      <td>92</td>\n",
       "      <td>2</td>\n",
       "      <td>1</td>\n",
       "      <td>rESEarCh scIenTisT</td>\n",
       "      <td>1</td>\n",
       "      <td>Single</td>\n",
       "      <td>NaN</td>\n",
       "      <td>11479</td>\n",
       "      <td>6</td>\n",
       "      <td>Yes</td>\n",
       "      <td>20</td>\n",
       "      <td>4,0</td>\n",
       "      <td>3</td>\n",
       "      <td>0</td>\n",
       "      <td>3,0</td>\n",
       "      <td>5</td>\n",
       "      <td>3,0</td>\n",
       "      <td>0</td>\n",
       "      <td>0</td>\n",
       "      <td>0</td>\n",
       "      <td>1994</td>\n",
       "      <td>1</td>\n",
       "    </tr>\n",
       "    <tr>\n",
       "      <th>747</th>\n",
       "      <td>49</td>\n",
       "      <td>Yes</td>\n",
       "      <td>travel frequently</td>\n",
       "      <td>1475.0</td>\n",
       "      <td>28</td>\n",
       "      <td>2</td>\n",
       "      <td>NaN</td>\n",
       "      <td>1420,0</td>\n",
       "      <td>1</td>\n",
       "      <td>0</td>\n",
       "      <td>97</td>\n",
       "      <td>2</td>\n",
       "      <td>2</td>\n",
       "      <td>laBoratOry TechNIcIaN</td>\n",
       "      <td>1</td>\n",
       "      <td>NaN</td>\n",
       "      <td>NaN</td>\n",
       "      <td>22710</td>\n",
       "      <td>3</td>\n",
       "      <td>No</td>\n",
       "      <td>20</td>\n",
       "      <td>4,0</td>\n",
       "      <td>1</td>\n",
       "      <td>0</td>\n",
       "      <td>20,0</td>\n",
       "      <td>2</td>\n",
       "      <td>NaN</td>\n",
       "      <td>4</td>\n",
       "      <td>1</td>\n",
       "      <td>3</td>\n",
       "      <td>1974</td>\n",
       "      <td>1</td>\n",
       "    </tr>\n",
       "    <tr>\n",
       "      <th>645</th>\n",
       "      <td>37</td>\n",
       "      <td>No</td>\n",
       "      <td>travel rarely</td>\n",
       "      <td>1470.0</td>\n",
       "      <td>10</td>\n",
       "      <td>3</td>\n",
       "      <td>NaN</td>\n",
       "      <td>1640,0</td>\n",
       "      <td>2</td>\n",
       "      <td>1</td>\n",
       "      <td>71</td>\n",
       "      <td>3</td>\n",
       "      <td>1</td>\n",
       "      <td>REsearch scIENtist</td>\n",
       "      <td>2</td>\n",
       "      <td>Married</td>\n",
       "      <td>3936,0</td>\n",
       "      <td>9953</td>\n",
       "      <td>1</td>\n",
       "      <td>NaN</td>\n",
       "      <td>11</td>\n",
       "      <td>3,0</td>\n",
       "      <td>1</td>\n",
       "      <td>1</td>\n",
       "      <td>8,0</td>\n",
       "      <td>2</td>\n",
       "      <td>1,0</td>\n",
       "      <td>8</td>\n",
       "      <td>7</td>\n",
       "      <td>7</td>\n",
       "      <td>1986</td>\n",
       "      <td>False</td>\n",
       "    </tr>\n",
       "    <tr>\n",
       "      <th>1019</th>\n",
       "      <td>28</td>\n",
       "      <td>No</td>\n",
       "      <td>NaN</td>\n",
       "      <td>791.0</td>\n",
       "      <td>1</td>\n",
       "      <td>4</td>\n",
       "      <td>medical</td>\n",
       "      <td>1286,0</td>\n",
       "      <td>4</td>\n",
       "      <td>0</td>\n",
       "      <td>44</td>\n",
       "      <td>3</td>\n",
       "      <td>1</td>\n",
       "      <td>LaBoRaToRy tEChniciAN</td>\n",
       "      <td>3</td>\n",
       "      <td>Single</td>\n",
       "      <td>NaN</td>\n",
       "      <td>6842</td>\n",
       "      <td>0</td>\n",
       "      <td>Yes</td>\n",
       "      <td>11</td>\n",
       "      <td>3,0</td>\n",
       "      <td>3</td>\n",
       "      <td>0</td>\n",
       "      <td>NaN</td>\n",
       "      <td>2</td>\n",
       "      <td>2,0</td>\n",
       "      <td>4</td>\n",
       "      <td>0</td>\n",
       "      <td>2</td>\n",
       "      <td>1995</td>\n",
       "      <td>0</td>\n",
       "    </tr>\n",
       "    <tr>\n",
       "      <th>1366</th>\n",
       "      <td>34</td>\n",
       "      <td>No</td>\n",
       "      <td>NaN</td>\n",
       "      <td>697.0</td>\n",
       "      <td>3</td>\n",
       "      <td>4</td>\n",
       "      <td>NaN</td>\n",
       "      <td>1115,0</td>\n",
       "      <td>3</td>\n",
       "      <td>0</td>\n",
       "      <td>40</td>\n",
       "      <td>2</td>\n",
       "      <td>1</td>\n",
       "      <td>ResEaRCh sCiEnTIsT</td>\n",
       "      <td>4</td>\n",
       "      <td>NaN</td>\n",
       "      <td>NaN</td>\n",
       "      <td>22478</td>\n",
       "      <td>3</td>\n",
       "      <td>No</td>\n",
       "      <td>17</td>\n",
       "      <td>3,0</td>\n",
       "      <td>4</td>\n",
       "      <td>3</td>\n",
       "      <td>6,0</td>\n",
       "      <td>2</td>\n",
       "      <td>3,0</td>\n",
       "      <td>0</td>\n",
       "      <td>0</td>\n",
       "      <td>0</td>\n",
       "      <td>1989</td>\n",
       "      <td>1</td>\n",
       "    </tr>\n",
       "    <tr>\n",
       "      <th>136</th>\n",
       "      <td>35</td>\n",
       "      <td>No</td>\n",
       "      <td>NaN</td>\n",
       "      <td>882.0</td>\n",
       "      <td>21</td>\n",
       "      <td>4</td>\n",
       "      <td>NaN</td>\n",
       "      <td>984,0</td>\n",
       "      <td>21</td>\n",
       "      <td>0</td>\n",
       "      <td>Not Available</td>\n",
       "      <td>3</td>\n",
       "      <td>3</td>\n",
       "      <td>SaLeS exEcuTIVE</td>\n",
       "      <td>4</td>\n",
       "      <td>NaN</td>\n",
       "      <td>NaN</td>\n",
       "      <td>6812</td>\n",
       "      <td>6</td>\n",
       "      <td>NaN</td>\n",
       "      <td>13</td>\n",
       "      <td>3,0</td>\n",
       "      <td>2</td>\n",
       "      <td>1</td>\n",
       "      <td>NaN</td>\n",
       "      <td>2</td>\n",
       "      <td>3,0</td>\n",
       "      <td>10</td>\n",
       "      <td>0</td>\n",
       "      <td>8</td>\n",
       "      <td>1988</td>\n",
       "      <td>0</td>\n",
       "    </tr>\n",
       "    <tr>\n",
       "      <th>1191</th>\n",
       "      <td>40</td>\n",
       "      <td>No</td>\n",
       "      <td>NaN</td>\n",
       "      <td>1469.0</td>\n",
       "      <td>9</td>\n",
       "      <td>4</td>\n",
       "      <td>NaN</td>\n",
       "      <td>964,0</td>\n",
       "      <td>4</td>\n",
       "      <td>0</td>\n",
       "      <td>Not Available</td>\n",
       "      <td>3</td>\n",
       "      <td>1</td>\n",
       "      <td>ResEarch ScIenTIst</td>\n",
       "      <td>2</td>\n",
       "      <td>NaN</td>\n",
       "      <td>3617,0</td>\n",
       "      <td>25063</td>\n",
       "      <td>8</td>\n",
       "      <td>Yes</td>\n",
       "      <td>14</td>\n",
       "      <td>NaN</td>\n",
       "      <td>4</td>\n",
       "      <td>1</td>\n",
       "      <td>3,0</td>\n",
       "      <td>2</td>\n",
       "      <td>NaN</td>\n",
       "      <td>1</td>\n",
       "      <td>0</td>\n",
       "      <td>0</td>\n",
       "      <td>1983</td>\n",
       "      <td>1</td>\n",
       "    </tr>\n",
       "    <tr>\n",
       "      <th>577</th>\n",
       "      <td>31</td>\n",
       "      <td>Yes</td>\n",
       "      <td>NaN</td>\n",
       "      <td>307.0</td>\n",
       "      <td>29</td>\n",
       "      <td>2</td>\n",
       "      <td>NaN</td>\n",
       "      <td>355,0</td>\n",
       "      <td>3</td>\n",
       "      <td>0</td>\n",
       "      <td>71</td>\n",
       "      <td>2</td>\n",
       "      <td>1</td>\n",
       "      <td>laboraTORy teChnICiaN</td>\n",
       "      <td>2</td>\n",
       "      <td>NaN</td>\n",
       "      <td>NaN</td>\n",
       "      <td>11652</td>\n",
       "      <td>0</td>\n",
       "      <td>No</td>\n",
       "      <td>11</td>\n",
       "      <td>3,0</td>\n",
       "      <td>2</td>\n",
       "      <td>0</td>\n",
       "      <td>NaN</td>\n",
       "      <td>2</td>\n",
       "      <td>4,0</td>\n",
       "      <td>5</td>\n",
       "      <td>1</td>\n",
       "      <td>4</td>\n",
       "      <td>1992</td>\n",
       "      <td>Yes</td>\n",
       "    </tr>\n",
       "  </tbody>\n",
       "</table>\n",
       "</div>"
      ],
      "text/plain": [
       "      age attrition     businesstravel  dailyrate  distancefromhome  \\\n",
       "1053   41        No                NaN        NaN                 5   \n",
       "868    49        No                NaN      636.0                10   \n",
       "1350   29       Yes      travel rarely      906.0                10   \n",
       "747    49       Yes  travel frequently     1475.0                28   \n",
       "645    37        No      travel rarely     1470.0                10   \n",
       "1019   28        No                NaN      791.0                 1   \n",
       "1366   34        No                NaN      697.0                 3   \n",
       "136    35        No                NaN      882.0                21   \n",
       "1191   40        No                NaN     1469.0                 9   \n",
       "577    31       Yes                NaN      307.0                29   \n",
       "\n",
       "      education educationfield employeenumber  environmentsatisfaction  \\\n",
       "1053          5        medical         1448,0                        2   \n",
       "868           4  life sciences          396,0                        3   \n",
       "1350          3            NaN          994,0                        4   \n",
       "747           2            NaN         1420,0                        1   \n",
       "645           3            NaN         1640,0                        2   \n",
       "1019          4        medical         1286,0                        4   \n",
       "1366          4            NaN         1115,0                        3   \n",
       "136           4            NaN          984,0                       21   \n",
       "1191          4            NaN          964,0                        4   \n",
       "577           2            NaN          355,0                        3   \n",
       "\n",
       "      gender     hourlyrate  jobinvolvement  joblevel  \\\n",
       "1053       0             90               4         1   \n",
       "868        1  Not Available               3         5   \n",
       "1350       1             92               2         1   \n",
       "747        0             97               2         2   \n",
       "645        1             71               3         1   \n",
       "1019       0             44               3         1   \n",
       "1366       0             40               2         1   \n",
       "136        0  Not Available               3         3   \n",
       "1191       0  Not Available               3         1   \n",
       "577        0             71               2         1   \n",
       "\n",
       "                      jobrole  jobsatisfaction maritalstatus monthlyincome  \\\n",
       "1053      rEseaRCh SCIeNtIST                 3           NaN           NaN   \n",
       "868        ReSEaRCh DIrECTOr                 1        Single       18665,0   \n",
       "1350      rESEarCh scIenTisT                 1        Single           NaN   \n",
       "747    laBoratOry TechNIcIaN                 1           NaN           NaN   \n",
       "645       REsearch scIENtist                 2       Married        3936,0   \n",
       "1019   LaBoRaToRy tEChniciAN                 3        Single           NaN   \n",
       "1366      ResEaRCh sCiEnTIsT                 4           NaN           NaN   \n",
       "136          SaLeS exEcuTIVE                 4           NaN           NaN   \n",
       "1191      ResEarch ScIenTIst                 2           NaN        3617,0   \n",
       "577    laboraTORy teChnICiaN                 2           NaN           NaN   \n",
       "\n",
       "      monthlyrate  numcompaniesworked overtime  percentsalaryhike  \\\n",
       "1053         5561                   2      NaN                 12   \n",
       "868         25594                   9      Yes                 11   \n",
       "1350        11479                   6      Yes                 20   \n",
       "747         22710                   3       No                 20   \n",
       "645          9953                   1      NaN                 11   \n",
       "1019         6842                   0      Yes                 11   \n",
       "1366        22478                   3       No                 17   \n",
       "136          6812                   6      NaN                 13   \n",
       "1191        25063                   8      Yes                 14   \n",
       "577         11652                   0       No                 11   \n",
       "\n",
       "     performancerating  relationshipsatisfaction  stockoptionlevel  \\\n",
       "1053               3,0                         1                 0   \n",
       "868                3,0                         4                 0   \n",
       "1350               4,0                         3                 0   \n",
       "747                4,0                         1                 0   \n",
       "645                3,0                         1                 1   \n",
       "1019               3,0                         3                 0   \n",
       "1366               3,0                         4                 3   \n",
       "136                3,0                         2                 1   \n",
       "1191               NaN                         4                 1   \n",
       "577                3,0                         2                 0   \n",
       "\n",
       "     totalworkingyears  trainingtimeslastyear worklifebalance  yearsatcompany  \\\n",
       "1053               7,0                      5             NaN               4   \n",
       "868                NaN                      4             3,0               3   \n",
       "1350               3,0                      5             3,0               0   \n",
       "747               20,0                      2             NaN               4   \n",
       "645                8,0                      2             1,0               8   \n",
       "1019               NaN                      2             2,0               4   \n",
       "1366               6,0                      2             3,0               0   \n",
       "136                NaN                      2             3,0              10   \n",
       "1191               3,0                      2             NaN               1   \n",
       "577                NaN                      2             4,0               5   \n",
       "\n",
       "      yearssincelastpromotion  yearswithcurrmanager  datebirth remotework  \n",
       "1053                        0                     3       1982          1  \n",
       "868                         1                     2       1974       True  \n",
       "1350                        0                     0       1994          1  \n",
       "747                         1                     3       1974          1  \n",
       "645                         7                     7       1986      False  \n",
       "1019                        0                     2       1995          0  \n",
       "1366                        0                     0       1989          1  \n",
       "136                         0                     8       1988          0  \n",
       "1191                        0                     0       1983          1  \n",
       "577                         1                     4       1992        Yes  "
      ]
     },
     "execution_count": 105,
     "metadata": {},
     "output_type": "execute_result"
    }
   ],
   "source": [
    "df_duplicated = df.loc[df.employeenumber == df.employeenumber, :]\n",
    "df_duplicated.sample(10)"
   ]
  },
  {
   "cell_type": "markdown",
   "metadata": {},
   "source": [
    "#### Muestra los duplicados juntos, se puede comparar cada fila"
   ]
  },
  {
   "cell_type": "code",
   "execution_count": 106,
   "metadata": {},
   "outputs": [
    {
     "data": {
      "text/html": [
       "<div>\n",
       "<style scoped>\n",
       "    .dataframe tbody tr th:only-of-type {\n",
       "        vertical-align: middle;\n",
       "    }\n",
       "\n",
       "    .dataframe tbody tr th {\n",
       "        vertical-align: top;\n",
       "    }\n",
       "\n",
       "    .dataframe thead th {\n",
       "        text-align: right;\n",
       "    }\n",
       "</style>\n",
       "<table border=\"1\" class=\"dataframe\">\n",
       "  <thead>\n",
       "    <tr style=\"text-align: right;\">\n",
       "      <th></th>\n",
       "      <th>age</th>\n",
       "      <th>attrition</th>\n",
       "      <th>businesstravel</th>\n",
       "      <th>dailyrate</th>\n",
       "      <th>distancefromhome</th>\n",
       "      <th>education</th>\n",
       "      <th>educationfield</th>\n",
       "      <th>employeenumber</th>\n",
       "      <th>environmentsatisfaction</th>\n",
       "      <th>gender</th>\n",
       "      <th>hourlyrate</th>\n",
       "      <th>jobinvolvement</th>\n",
       "      <th>joblevel</th>\n",
       "      <th>jobrole</th>\n",
       "      <th>jobsatisfaction</th>\n",
       "      <th>maritalstatus</th>\n",
       "      <th>monthlyincome</th>\n",
       "      <th>monthlyrate</th>\n",
       "      <th>numcompaniesworked</th>\n",
       "      <th>overtime</th>\n",
       "      <th>percentsalaryhike</th>\n",
       "      <th>performancerating</th>\n",
       "      <th>relationshipsatisfaction</th>\n",
       "      <th>stockoptionlevel</th>\n",
       "      <th>totalworkingyears</th>\n",
       "      <th>trainingtimeslastyear</th>\n",
       "      <th>worklifebalance</th>\n",
       "      <th>yearsatcompany</th>\n",
       "      <th>yearssincelastpromotion</th>\n",
       "      <th>yearswithcurrmanager</th>\n",
       "      <th>datebirth</th>\n",
       "      <th>remotework</th>\n",
       "    </tr>\n",
       "  </thead>\n",
       "  <tbody>\n",
       "    <tr>\n",
       "      <th>987</th>\n",
       "      <td>33</td>\n",
       "      <td>No</td>\n",
       "      <td>non travel</td>\n",
       "      <td>1038.0</td>\n",
       "      <td>8</td>\n",
       "      <td>1</td>\n",
       "      <td>life sciences</td>\n",
       "      <td>1044,0</td>\n",
       "      <td>2</td>\n",
       "      <td>1</td>\n",
       "      <td>Not Available</td>\n",
       "      <td>2</td>\n",
       "      <td>1</td>\n",
       "      <td>sALES ReprEsentatiVE</td>\n",
       "      <td>4</td>\n",
       "      <td>NaN</td>\n",
       "      <td>NaN</td>\n",
       "      <td>21437</td>\n",
       "      <td>0</td>\n",
       "      <td>NaN</td>\n",
       "      <td>19</td>\n",
       "      <td>3,0</td>\n",
       "      <td>4</td>\n",
       "      <td>0</td>\n",
       "      <td>NaN</td>\n",
       "      <td>2</td>\n",
       "      <td>2,0</td>\n",
       "      <td>2</td>\n",
       "      <td>2</td>\n",
       "      <td>2</td>\n",
       "      <td>1990</td>\n",
       "      <td>False</td>\n",
       "    </tr>\n",
       "    <tr>\n",
       "      <th>1483</th>\n",
       "      <td>33</td>\n",
       "      <td>No</td>\n",
       "      <td>non travel</td>\n",
       "      <td>1038.0</td>\n",
       "      <td>8</td>\n",
       "      <td>1</td>\n",
       "      <td>life sciences</td>\n",
       "      <td>1044,0</td>\n",
       "      <td>2</td>\n",
       "      <td>1</td>\n",
       "      <td>88</td>\n",
       "      <td>2</td>\n",
       "      <td>1</td>\n",
       "      <td>sales repResENTaTiVE</td>\n",
       "      <td>4</td>\n",
       "      <td>NaN</td>\n",
       "      <td>NaN</td>\n",
       "      <td>21437</td>\n",
       "      <td>0</td>\n",
       "      <td>NaN</td>\n",
       "      <td>19</td>\n",
       "      <td>3,0</td>\n",
       "      <td>4</td>\n",
       "      <td>0</td>\n",
       "      <td>NaN</td>\n",
       "      <td>2</td>\n",
       "      <td>2,0</td>\n",
       "      <td>2</td>\n",
       "      <td>2</td>\n",
       "      <td>2</td>\n",
       "      <td>1990</td>\n",
       "      <td>0</td>\n",
       "    </tr>\n",
       "    <tr>\n",
       "      <th>1484</th>\n",
       "      <td>26</td>\n",
       "      <td>Yes</td>\n",
       "      <td>NaN</td>\n",
       "      <td>342.0</td>\n",
       "      <td>2</td>\n",
       "      <td>3</td>\n",
       "      <td>life sciences</td>\n",
       "      <td>1053,0</td>\n",
       "      <td>1</td>\n",
       "      <td>0</td>\n",
       "      <td>57</td>\n",
       "      <td>3</td>\n",
       "      <td>1</td>\n",
       "      <td>reSEArcH SCiEnTIst</td>\n",
       "      <td>1</td>\n",
       "      <td>Married</td>\n",
       "      <td>2042,0</td>\n",
       "      <td>15346</td>\n",
       "      <td>6</td>\n",
       "      <td>NaN</td>\n",
       "      <td>14</td>\n",
       "      <td>3,0</td>\n",
       "      <td>2</td>\n",
       "      <td>1</td>\n",
       "      <td>6,0</td>\n",
       "      <td>2</td>\n",
       "      <td>3,0</td>\n",
       "      <td>3</td>\n",
       "      <td>1</td>\n",
       "      <td>2</td>\n",
       "      <td>1997</td>\n",
       "      <td>Yes</td>\n",
       "    </tr>\n",
       "    <tr>\n",
       "      <th>988</th>\n",
       "      <td>26</td>\n",
       "      <td>Yes</td>\n",
       "      <td>NaN</td>\n",
       "      <td>342.0</td>\n",
       "      <td>2</td>\n",
       "      <td>3</td>\n",
       "      <td>life sciences</td>\n",
       "      <td>1053,0</td>\n",
       "      <td>1</td>\n",
       "      <td>0</td>\n",
       "      <td>57</td>\n",
       "      <td>3</td>\n",
       "      <td>1</td>\n",
       "      <td>rEsEaRCH SCIenTiSt</td>\n",
       "      <td>1</td>\n",
       "      <td>Married</td>\n",
       "      <td>2042,0</td>\n",
       "      <td>15346</td>\n",
       "      <td>6</td>\n",
       "      <td>NaN</td>\n",
       "      <td>14</td>\n",
       "      <td>3,0</td>\n",
       "      <td>2</td>\n",
       "      <td>1</td>\n",
       "      <td>6,0</td>\n",
       "      <td>2</td>\n",
       "      <td>3,0</td>\n",
       "      <td>3</td>\n",
       "      <td>1</td>\n",
       "      <td>2</td>\n",
       "      <td>1997</td>\n",
       "      <td>1</td>\n",
       "    </tr>\n",
       "    <tr>\n",
       "      <th>990</th>\n",
       "      <td>46</td>\n",
       "      <td>No</td>\n",
       "      <td>NaN</td>\n",
       "      <td>430.0</td>\n",
       "      <td>47</td>\n",
       "      <td>4</td>\n",
       "      <td>medical</td>\n",
       "      <td>1069,0</td>\n",
       "      <td>47</td>\n",
       "      <td>0</td>\n",
       "      <td>40</td>\n",
       "      <td>3</td>\n",
       "      <td>5</td>\n",
       "      <td>RESeArCH dIrEcTOR</td>\n",
       "      <td>4</td>\n",
       "      <td>NaN</td>\n",
       "      <td>NaN</td>\n",
       "      <td>21445</td>\n",
       "      <td>9</td>\n",
       "      <td>No</td>\n",
       "      <td>17</td>\n",
       "      <td>3,0</td>\n",
       "      <td>4</td>\n",
       "      <td>2</td>\n",
       "      <td>23,0</td>\n",
       "      <td>0</td>\n",
       "      <td>3,0</td>\n",
       "      <td>2</td>\n",
       "      <td>2</td>\n",
       "      <td>2</td>\n",
       "      <td>1977</td>\n",
       "      <td>True</td>\n",
       "    </tr>\n",
       "    <tr>\n",
       "      <th>...</th>\n",
       "      <td>...</td>\n",
       "      <td>...</td>\n",
       "      <td>...</td>\n",
       "      <td>...</td>\n",
       "      <td>...</td>\n",
       "      <td>...</td>\n",
       "      <td>...</td>\n",
       "      <td>...</td>\n",
       "      <td>...</td>\n",
       "      <td>...</td>\n",
       "      <td>...</td>\n",
       "      <td>...</td>\n",
       "      <td>...</td>\n",
       "      <td>...</td>\n",
       "      <td>...</td>\n",
       "      <td>...</td>\n",
       "      <td>...</td>\n",
       "      <td>...</td>\n",
       "      <td>...</td>\n",
       "      <td>...</td>\n",
       "      <td>...</td>\n",
       "      <td>...</td>\n",
       "      <td>...</td>\n",
       "      <td>...</td>\n",
       "      <td>...</td>\n",
       "      <td>...</td>\n",
       "      <td>...</td>\n",
       "      <td>...</td>\n",
       "      <td>...</td>\n",
       "      <td>...</td>\n",
       "      <td>...</td>\n",
       "      <td>...</td>\n",
       "    </tr>\n",
       "    <tr>\n",
       "      <th>1609</th>\n",
       "      <td>36</td>\n",
       "      <td>Yes</td>\n",
       "      <td>travel rarely</td>\n",
       "      <td>530.0</td>\n",
       "      <td>3</td>\n",
       "      <td>1</td>\n",
       "      <td>life sciences</td>\n",
       "      <td>967,0</td>\n",
       "      <td>3</td>\n",
       "      <td>0</td>\n",
       "      <td>51</td>\n",
       "      <td>2</td>\n",
       "      <td>3</td>\n",
       "      <td>saLEs ExeCUTiVe</td>\n",
       "      <td>4</td>\n",
       "      <td>Married</td>\n",
       "      <td>10325,0</td>\n",
       "      <td>5518</td>\n",
       "      <td>1</td>\n",
       "      <td>NaN</td>\n",
       "      <td>11</td>\n",
       "      <td>NaN</td>\n",
       "      <td>1</td>\n",
       "      <td>1</td>\n",
       "      <td>NaN</td>\n",
       "      <td>6</td>\n",
       "      <td>3,0</td>\n",
       "      <td>16</td>\n",
       "      <td>3</td>\n",
       "      <td>7</td>\n",
       "      <td>1987</td>\n",
       "      <td>0</td>\n",
       "    </tr>\n",
       "    <tr>\n",
       "      <th>367</th>\n",
       "      <td>45</td>\n",
       "      <td>No</td>\n",
       "      <td>non travel</td>\n",
       "      <td>805.0</td>\n",
       "      <td>47</td>\n",
       "      <td>2</td>\n",
       "      <td>NaN</td>\n",
       "      <td>972,0</td>\n",
       "      <td>47</td>\n",
       "      <td>0</td>\n",
       "      <td>57</td>\n",
       "      <td>3</td>\n",
       "      <td>2</td>\n",
       "      <td>lABORaTory tecHNiCiAN</td>\n",
       "      <td>2</td>\n",
       "      <td>NaN</td>\n",
       "      <td>4447,0</td>\n",
       "      <td>23163</td>\n",
       "      <td>1</td>\n",
       "      <td>NaN</td>\n",
       "      <td>12</td>\n",
       "      <td>3,0</td>\n",
       "      <td>2</td>\n",
       "      <td>0</td>\n",
       "      <td>NaN</td>\n",
       "      <td>5</td>\n",
       "      <td>2,0</td>\n",
       "      <td>9</td>\n",
       "      <td>0</td>\n",
       "      <td>8</td>\n",
       "      <td>1978</td>\n",
       "      <td>1</td>\n",
       "    </tr>\n",
       "    <tr>\n",
       "      <th>1610</th>\n",
       "      <td>45</td>\n",
       "      <td>No</td>\n",
       "      <td>non travel</td>\n",
       "      <td>805.0</td>\n",
       "      <td>4</td>\n",
       "      <td>2</td>\n",
       "      <td>NaN</td>\n",
       "      <td>972,0</td>\n",
       "      <td>3</td>\n",
       "      <td>0</td>\n",
       "      <td>57</td>\n",
       "      <td>3</td>\n",
       "      <td>2</td>\n",
       "      <td>LAboRaTOry tECHNiCIAn</td>\n",
       "      <td>2</td>\n",
       "      <td>NaN</td>\n",
       "      <td>4447,0</td>\n",
       "      <td>23163</td>\n",
       "      <td>1</td>\n",
       "      <td>NaN</td>\n",
       "      <td>12</td>\n",
       "      <td>3,0</td>\n",
       "      <td>2</td>\n",
       "      <td>0</td>\n",
       "      <td>NaN</td>\n",
       "      <td>5</td>\n",
       "      <td>2,0</td>\n",
       "      <td>9</td>\n",
       "      <td>0</td>\n",
       "      <td>8</td>\n",
       "      <td>1978</td>\n",
       "      <td>1</td>\n",
       "    </tr>\n",
       "    <tr>\n",
       "      <th>369</th>\n",
       "      <td>36</td>\n",
       "      <td>No</td>\n",
       "      <td>non travel</td>\n",
       "      <td>1229.0</td>\n",
       "      <td>8</td>\n",
       "      <td>4</td>\n",
       "      <td>technical degree</td>\n",
       "      <td>990,0</td>\n",
       "      <td>1</td>\n",
       "      <td>0</td>\n",
       "      <td>84</td>\n",
       "      <td>3</td>\n",
       "      <td>2</td>\n",
       "      <td>SaLes EXeCuTiVE</td>\n",
       "      <td>4</td>\n",
       "      <td>Divorced</td>\n",
       "      <td>NaN</td>\n",
       "      <td>25952</td>\n",
       "      <td>4</td>\n",
       "      <td>No</td>\n",
       "      <td>13</td>\n",
       "      <td>NaN</td>\n",
       "      <td>4</td>\n",
       "      <td>2</td>\n",
       "      <td>12,0</td>\n",
       "      <td>3</td>\n",
       "      <td>3,0</td>\n",
       "      <td>7</td>\n",
       "      <td>0</td>\n",
       "      <td>7</td>\n",
       "      <td>1987</td>\n",
       "      <td>Yes</td>\n",
       "    </tr>\n",
       "    <tr>\n",
       "      <th>1612</th>\n",
       "      <td>36</td>\n",
       "      <td>No</td>\n",
       "      <td>non travel</td>\n",
       "      <td>1229.0</td>\n",
       "      <td>8</td>\n",
       "      <td>4</td>\n",
       "      <td>technical degree</td>\n",
       "      <td>990,0</td>\n",
       "      <td>1</td>\n",
       "      <td>0</td>\n",
       "      <td>84</td>\n",
       "      <td>3</td>\n",
       "      <td>2</td>\n",
       "      <td>SaLes ExecUtIVe</td>\n",
       "      <td>4</td>\n",
       "      <td>Divorced</td>\n",
       "      <td>NaN</td>\n",
       "      <td>25952</td>\n",
       "      <td>4</td>\n",
       "      <td>No</td>\n",
       "      <td>13</td>\n",
       "      <td>NaN</td>\n",
       "      <td>4</td>\n",
       "      <td>2</td>\n",
       "      <td>12,0</td>\n",
       "      <td>3</td>\n",
       "      <td>3,0</td>\n",
       "      <td>7</td>\n",
       "      <td>0</td>\n",
       "      <td>7</td>\n",
       "      <td>1987</td>\n",
       "      <td>True</td>\n",
       "    </tr>\n",
       "  </tbody>\n",
       "</table>\n",
       "<p>208 rows × 32 columns</p>\n",
       "</div>"
      ],
      "text/plain": [
       "      age attrition businesstravel  dailyrate  distancefromhome  education  \\\n",
       "987    33        No     non travel     1038.0                 8          1   \n",
       "1483   33        No     non travel     1038.0                 8          1   \n",
       "1484   26       Yes            NaN      342.0                 2          3   \n",
       "988    26       Yes            NaN      342.0                 2          3   \n",
       "990    46        No            NaN      430.0                47          4   \n",
       "...   ...       ...            ...        ...               ...        ...   \n",
       "1609   36       Yes  travel rarely      530.0                 3          1   \n",
       "367    45        No     non travel      805.0                47          2   \n",
       "1610   45        No     non travel      805.0                 4          2   \n",
       "369    36        No     non travel     1229.0                 8          4   \n",
       "1612   36        No     non travel     1229.0                 8          4   \n",
       "\n",
       "        educationfield employeenumber  environmentsatisfaction  gender  \\\n",
       "987      life sciences         1044,0                        2       1   \n",
       "1483     life sciences         1044,0                        2       1   \n",
       "1484     life sciences         1053,0                        1       0   \n",
       "988      life sciences         1053,0                        1       0   \n",
       "990            medical         1069,0                       47       0   \n",
       "...                ...            ...                      ...     ...   \n",
       "1609     life sciences          967,0                        3       0   \n",
       "367                NaN          972,0                       47       0   \n",
       "1610               NaN          972,0                        3       0   \n",
       "369   technical degree          990,0                        1       0   \n",
       "1612  technical degree          990,0                        1       0   \n",
       "\n",
       "         hourlyrate  jobinvolvement  joblevel                  jobrole  \\\n",
       "987   Not Available               2         1    sALES ReprEsentatiVE    \n",
       "1483             88               2         1    sales repResENTaTiVE    \n",
       "1484             57               3         1      reSEArcH SCiEnTIst    \n",
       "988              57               3         1      rEsEaRCH SCIenTiSt    \n",
       "990              40               3         5       RESeArCH dIrEcTOR    \n",
       "...             ...             ...       ...                      ...   \n",
       "1609             51               2         3         saLEs ExeCUTiVe    \n",
       "367              57               3         2   lABORaTory tecHNiCiAN    \n",
       "1610             57               3         2   LAboRaTOry tECHNiCIAn    \n",
       "369              84               3         2         SaLes EXeCuTiVE    \n",
       "1612             84               3         2         SaLes ExecUtIVe    \n",
       "\n",
       "      jobsatisfaction maritalstatus monthlyincome  monthlyrate  \\\n",
       "987                 4           NaN           NaN        21437   \n",
       "1483                4           NaN           NaN        21437   \n",
       "1484                1       Married        2042,0        15346   \n",
       "988                 1       Married        2042,0        15346   \n",
       "990                 4           NaN           NaN        21445   \n",
       "...               ...           ...           ...          ...   \n",
       "1609                4       Married       10325,0         5518   \n",
       "367                 2           NaN        4447,0        23163   \n",
       "1610                2           NaN        4447,0        23163   \n",
       "369                 4      Divorced           NaN        25952   \n",
       "1612                4      Divorced           NaN        25952   \n",
       "\n",
       "      numcompaniesworked overtime  percentsalaryhike performancerating  \\\n",
       "987                    0      NaN                 19               3,0   \n",
       "1483                   0      NaN                 19               3,0   \n",
       "1484                   6      NaN                 14               3,0   \n",
       "988                    6      NaN                 14               3,0   \n",
       "990                    9       No                 17               3,0   \n",
       "...                  ...      ...                ...               ...   \n",
       "1609                   1      NaN                 11               NaN   \n",
       "367                    1      NaN                 12               3,0   \n",
       "1610                   1      NaN                 12               3,0   \n",
       "369                    4       No                 13               NaN   \n",
       "1612                   4       No                 13               NaN   \n",
       "\n",
       "      relationshipsatisfaction  stockoptionlevel totalworkingyears  \\\n",
       "987                          4                 0               NaN   \n",
       "1483                         4                 0               NaN   \n",
       "1484                         2                 1               6,0   \n",
       "988                          2                 1               6,0   \n",
       "990                          4                 2              23,0   \n",
       "...                        ...               ...               ...   \n",
       "1609                         1                 1               NaN   \n",
       "367                          2                 0               NaN   \n",
       "1610                         2                 0               NaN   \n",
       "369                          4                 2              12,0   \n",
       "1612                         4                 2              12,0   \n",
       "\n",
       "      trainingtimeslastyear worklifebalance  yearsatcompany  \\\n",
       "987                       2             2,0               2   \n",
       "1483                      2             2,0               2   \n",
       "1484                      2             3,0               3   \n",
       "988                       2             3,0               3   \n",
       "990                       0             3,0               2   \n",
       "...                     ...             ...             ...   \n",
       "1609                      6             3,0              16   \n",
       "367                       5             2,0               9   \n",
       "1610                      5             2,0               9   \n",
       "369                       3             3,0               7   \n",
       "1612                      3             3,0               7   \n",
       "\n",
       "      yearssincelastpromotion  yearswithcurrmanager  datebirth remotework  \n",
       "987                         2                     2       1990      False  \n",
       "1483                        2                     2       1990          0  \n",
       "1484                        1                     2       1997        Yes  \n",
       "988                         1                     2       1997          1  \n",
       "990                         2                     2       1977       True  \n",
       "...                       ...                   ...        ...        ...  \n",
       "1609                        3                     7       1987          0  \n",
       "367                         0                     8       1978          1  \n",
       "1610                        0                     8       1978          1  \n",
       "369                         0                     7       1987        Yes  \n",
       "1612                        0                     7       1987       True  \n",
       "\n",
       "[208 rows x 32 columns]"
      ]
     },
     "execution_count": 106,
     "metadata": {},
     "output_type": "execute_result"
    }
   ],
   "source": [
    "# Identificar los números de 'employeenumber' que están duplicados\n",
    "employeenumber_counts = df['employeenumber'].value_counts()\n",
    "duplicated_employeenumbers = employeenumber_counts[employeenumber_counts > 1].index\n",
    "\n",
    "# Filtrar el DataFrame original para mostrar solo las filas con 'employeenumber' duplicados\n",
    "df_duplicated_employeenumbers = df[df['employeenumber'].isin(duplicated_employeenumbers)]\n",
    "\n",
    "# Ordenar por 'employeenumber' para verlos agrupados\n",
    "df_duplicated_employeenumbers_sorted = df_duplicated_employeenumbers.sort_values(by='employeenumber')\n",
    "\n",
    "# Mostrar el DataFrame resultante\n",
    "df_duplicated_employeenumbers_sorted\n"
   ]
  },
  {
   "cell_type": "markdown",
   "metadata": {},
   "source": [
    "### compara cada duplicado con sus columnas y ver similitud de info"
   ]
  },
  {
   "cell_type": "code",
   "execution_count": 107,
   "metadata": {},
   "outputs": [
    {
     "name": "stdout",
     "output_type": "stream",
     "text": [
      "EmpleyeeNumber 482,0 tiene diferencias en las columnas: ['jobrole', 'maritalstatus', 'totalworkingyears', 'remotework']\n",
      "EmpleyeeNumber 530,0 tiene diferencias en las columnas: ['educationfield', 'jobrole', 'worklifebalance', 'remotework']\n",
      "EmpleyeeNumber 507,0 tiene diferencias en las columnas: ['businesstravel', 'distancefromhome', 'jobrole', 'maritalstatus', 'monthlyincome', 'totalworkingyears', 'remotework']\n",
      "EmpleyeeNumber 517,0 tiene diferencias en las columnas: ['businesstravel', 'educationfield', 'hourlyrate', 'jobrole', 'maritalstatus', 'monthlyincome', 'remotework']\n",
      "EmpleyeeNumber 522,0 tiene diferencias en las columnas: ['businesstravel', 'jobrole', 'overtime', 'remotework']\n",
      "EmpleyeeNumber 523,0 tiene diferencias en las columnas: ['businesstravel', 'educationfield', 'jobrole', 'totalworkingyears']\n",
      "EmpleyeeNumber 525,0 tiene diferencias en las columnas: ['businesstravel', 'educationfield', 'jobrole', 'maritalstatus', 'overtime', 'totalworkingyears', 'remotework']\n",
      "EmpleyeeNumber 526,0 tiene diferencias en las columnas: ['jobrole', 'maritalstatus', 'monthlyincome', 'totalworkingyears']\n",
      "EmpleyeeNumber 544,0 tiene diferencias en las columnas: ['businesstravel', 'jobrole', 'performancerating', 'remotework']\n",
      "EmpleyeeNumber 501,0 tiene diferencias en las columnas: ['educationfield', 'jobrole', 'totalworkingyears', 'remotework']\n",
      "EmpleyeeNumber 725,0 tiene diferencias en las columnas: ['dailyrate', 'hourlyrate', 'jobrole', 'monthlyincome', 'overtime', 'remotework']\n",
      "EmpleyeeNumber 724,0 tiene diferencias en las columnas: ['jobrole', 'maritalstatus', 'monthlyincome', 'overtime', 'worklifebalance', 'remotework']\n",
      "EmpleyeeNumber 722,0 tiene diferencias en las columnas: ['businesstravel', 'jobrole', 'maritalstatus', 'overtime', 'remotework']\n",
      "EmpleyeeNumber 721,0 tiene diferencias en las columnas: ['businesstravel', 'jobrole', 'monthlyincome']\n",
      "EmpleyeeNumber 717,0 tiene diferencias en las columnas: ['businesstravel', 'jobrole', 'maritalstatus', 'monthlyincome', 'overtime', 'remotework']\n",
      "EmpleyeeNumber 710,0 tiene diferencias en las columnas: ['businesstravel', 'hourlyrate', 'jobrole', 'monthlyincome', 'overtime', 'remotework']\n",
      "EmpleyeeNumber 502,0 tiene diferencias en las columnas: ['distancefromhome', 'jobrole', 'maritalstatus', 'totalworkingyears']\n",
      "EmpleyeeNumber 495,0 tiene diferencias en las columnas: ['businesstravel', 'distancefromhome', 'educationfield', 'environmentsatisfaction', 'jobrole', 'maritalstatus', 'monthlyincome', 'performancerating', 'remotework']\n",
      "EmpleyeeNumber 747,0 tiene diferencias en las columnas: ['businesstravel', 'distancefromhome', 'environmentsatisfaction', 'jobrole', 'performancerating', 'remotework']\n",
      "EmpleyeeNumber 440,0 tiene diferencias en las columnas: ['businesstravel', 'jobrole', 'monthlyincome', 'totalworkingyears']\n",
      "EmpleyeeNumber 734,0 tiene diferencias en las columnas: ['businesstravel', 'educationfield', 'jobrole', 'maritalstatus', 'performancerating', 'remotework']\n",
      "EmpleyeeNumber 733,0 tiene diferencias en las columnas: ['educationfield', 'jobrole', 'maritalstatus']\n",
      "EmpleyeeNumber 728,0 tiene diferencias en las columnas: ['businesstravel', 'distancefromhome', 'jobrole', 'overtime', 'remotework']\n",
      "EmpleyeeNumber 423,0 tiene diferencias en las columnas: ['distancefromhome', 'educationfield', 'environmentsatisfaction', 'jobrole', 'maritalstatus', 'monthlyincome', 'overtime', 'totalworkingyears']\n",
      "EmpleyeeNumber 424,0 tiene diferencias en las columnas: ['jobrole', 'maritalstatus', 'totalworkingyears', 'remotework']\n",
      "EmpleyeeNumber 433,0 tiene diferencias en las columnas: ['businesstravel', 'distancefromhome', 'environmentsatisfaction', 'jobrole', 'maritalstatus', 'performancerating']\n",
      "EmpleyeeNumber 447,0 tiene diferencias en las columnas: ['educationfield', 'jobrole', 'monthlyincome', 'overtime', 'remotework']\n",
      "EmpleyeeNumber 1140,0 tiene diferencias en las columnas: ['businesstravel', 'educationfield', 'jobrole', 'monthlyincome', 'totalworkingyears', 'worklifebalance']\n",
      "EmpleyeeNumber 455,0 tiene diferencias en las columnas: ['businesstravel', 'jobrole', 'maritalstatus', 'worklifebalance', 'remotework']\n",
      "EmpleyeeNumber 460,0 tiene diferencias en las columnas: ['businesstravel', 'jobrole', 'maritalstatus', 'remotework']\n",
      "EmpleyeeNumber 465,0 tiene diferencias en las columnas: ['businesstravel', 'distancefromhome', 'educationfield', 'jobrole', 'maritalstatus', 'overtime', 'totalworkingyears']\n",
      "EmpleyeeNumber 470,0 tiene diferencias en las columnas: ['educationfield', 'jobrole', 'remotework']\n",
      "EmpleyeeNumber 475,0 tiene diferencias en las columnas: ['businesstravel', 'distancefromhome', 'educationfield', 'jobrole', 'maritalstatus', 'monthlyincome', 'overtime', 'remotework']\n",
      "EmpleyeeNumber 478,0 tiene diferencias en las columnas: ['businesstravel', 'distancefromhome', 'educationfield', 'jobrole', 'overtime', 'remotework']\n",
      "EmpleyeeNumber 682,0 tiene diferencias en las columnas: ['businesstravel', 'educationfield', 'jobrole', 'monthlyincome', 'overtime']\n",
      "EmpleyeeNumber 663,0 tiene diferencias en las columnas: ['dailyrate', 'educationfield', 'jobrole', 'monthlyincome', 'overtime', 'remotework']\n",
      "EmpleyeeNumber 653,0 tiene diferencias en las columnas: ['distancefromhome', 'jobrole', 'monthlyincome']\n",
      "EmpleyeeNumber 1069,0 tiene diferencias en las columnas: ['businesstravel', 'distancefromhome', 'environmentsatisfaction', 'jobrole', 'maritalstatus', 'monthlyincome', 'remotework']\n",
      "EmpleyeeNumber 389,0 tiene diferencias en las columnas: ['distancefromhome', 'environmentsatisfaction', 'jobrole', 'maritalstatus', 'monthlyincome', 'overtime', 'performancerating', 'remotework']\n",
      "EmpleyeeNumber 388,0 tiene diferencias en las columnas: ['educationfield', 'jobrole', 'monthlyincome', 'overtime', 'totalworkingyears', 'worklifebalance', 'remotework']\n",
      "EmpleyeeNumber 381,0 tiene diferencias en las columnas: ['businesstravel', 'distancefromhome', 'jobrole', 'monthlyincome', 'overtime', 'performancerating', 'remotework']\n",
      "EmpleyeeNumber 376,0 tiene diferencias en las columnas: ['distancefromhome', 'jobrole', 'monthlyincome', 'overtime', 'totalworkingyears', 'remotework']\n",
      "EmpleyeeNumber 1044,0 tiene diferencias en las columnas: ['hourlyrate', 'jobrole', 'maritalstatus', 'monthlyincome', 'overtime', 'totalworkingyears', 'remotework']\n",
      "EmpleyeeNumber 1053,0 tiene diferencias en las columnas: ['businesstravel', 'jobrole', 'overtime', 'remotework']\n",
      "EmpleyeeNumber 1195,0 tiene diferencias en las columnas: ['businesstravel', 'jobrole', 'maritalstatus', 'monthlyincome', 'totalworkingyears', 'worklifebalance', 'remotework']\n",
      "EmpleyeeNumber 621,0 tiene diferencias en las columnas: ['businesstravel', 'educationfield', 'jobrole', 'overtime', 'remotework']\n",
      "EmpleyeeNumber 1185,0 tiene diferencias en las columnas: ['dailyrate', 'hourlyrate', 'jobrole', 'overtime']\n",
      "EmpleyeeNumber 1162,0 tiene diferencias en las columnas: ['educationfield', 'jobrole', 'performancerating', 'remotework']\n",
      "EmpleyeeNumber 1161,0 tiene diferencias en las columnas: ['educationfield', 'jobrole', 'maritalstatus', 'remotework']\n",
      "EmpleyeeNumber 1160,0 tiene diferencias en las columnas: ['businesstravel', 'jobrole', 'maritalstatus', 'totalworkingyears', 'remotework']\n",
      "EmpleyeeNumber 1157,0 tiene diferencias en las columnas: ['businesstravel', 'educationfield', 'jobrole', 'overtime', 'remotework']\n",
      "EmpleyeeNumber 1131,0 tiene diferencias en las columnas: ['businesstravel', 'distancefromhome', 'educationfield', 'jobrole', 'remotework']\n",
      "EmpleyeeNumber 401,0 tiene diferencias en las columnas: ['distancefromhome', 'educationfield', 'jobrole', 'overtime', 'totalworkingyears', 'worklifebalance']\n",
      "EmpleyeeNumber 416,0 tiene diferencias en las columnas: ['jobrole', 'maritalstatus', 'monthlyincome', 'overtime', 'remotework']\n",
      "EmpleyeeNumber 430,0 tiene diferencias en las columnas: ['dailyrate', 'jobrole', 'maritalstatus', 'totalworkingyears', 'remotework']\n",
      "EmpleyeeNumber 438,0 tiene diferencias en las columnas: ['distancefromhome', 'jobrole', 'maritalstatus', 'monthlyincome', 'overtime', 'remotework']\n",
      "EmpleyeeNumber 446,0 tiene diferencias en las columnas: ['businesstravel', 'dailyrate', 'educationfield', 'jobrole', 'maritalstatus', 'totalworkingyears', 'remotework']\n",
      "EmpleyeeNumber 448,0 tiene diferencias en las columnas: ['distancefromhome', 'jobrole', 'performancerating', 'remotework']\n",
      "EmpleyeeNumber 454,0 tiene diferencias en las columnas: ['educationfield', 'jobrole', 'maritalstatus', 'overtime', 'remotework']\n",
      "EmpleyeeNumber 458,0 tiene diferencias en las columnas: ['businesstravel', 'distancefromhome', 'educationfield', 'jobrole', 'maritalstatus', 'monthlyincome', 'remotework']\n",
      "EmpleyeeNumber 476,0 tiene diferencias en las columnas: ['educationfield', 'jobrole', 'maritalstatus', 'monthlyincome', 'overtime', 'totalworkingyears', 'remotework']\n",
      "EmpleyeeNumber 483,0 tiene diferencias en las columnas: ['jobrole', 'monthlyincome', 'totalworkingyears', 'remotework']\n",
      "EmpleyeeNumber 488,0 tiene diferencias en las columnas: ['businesstravel', 'educationfield', 'jobrole', 'maritalstatus', 'monthlyincome', 'remotework']\n",
      "EmpleyeeNumber 500,0 tiene diferencias en las columnas: ['distancefromhome', 'educationfield', 'environmentsatisfaction', 'jobrole', 'maritalstatus', 'monthlyincome', 'remotework']\n",
      "EmpleyeeNumber 534,0 tiene diferencias en las columnas: ['jobrole', 'overtime', 'remotework']\n",
      "EmpleyeeNumber 586,0 tiene diferencias en las columnas: ['hourlyrate', 'jobrole', 'maritalstatus', 'monthlyincome', 'remotework']\n",
      "EmpleyeeNumber 595,0 tiene diferencias en las columnas: ['educationfield', 'jobrole']\n",
      "EmpleyeeNumber 608,0 tiene diferencias en las columnas: ['jobrole', 'maritalstatus', 'worklifebalance', 'remotework']\n",
      "EmpleyeeNumber 616,0 tiene diferencias en las columnas: ['businesstravel', 'jobrole', 'monthlyincome', 'remotework']\n",
      "EmpleyeeNumber 742,0 tiene diferencias en las columnas: ['businesstravel', 'educationfield', 'jobrole', 'overtime', 'remotework']\n",
      "EmpleyeeNumber 1135,0 tiene diferencias en las columnas: ['educationfield', 'jobrole', 'performancerating', 'remotework']\n",
      "EmpleyeeNumber 762,0 tiene diferencias en las columnas: ['dailyrate', 'educationfield', 'jobrole', 'remotework']\n",
      "EmpleyeeNumber 1849,0 tiene diferencias en las columnas: ['jobrole', 'overtime']\n",
      "EmpleyeeNumber 972,0 tiene diferencias en las columnas: ['distancefromhome', 'educationfield', 'environmentsatisfaction', 'jobrole', 'maritalstatus', 'overtime', 'totalworkingyears']\n",
      "EmpleyeeNumber 990,0 tiene diferencias en las columnas: ['jobrole', 'monthlyincome', 'performancerating', 'remotework']\n",
      "EmpleyeeNumber 1927,0 tiene diferencias en las columnas: ['dailyrate', 'jobrole', 'monthlyincome', 'overtime', 'remotework']\n",
      "EmpleyeeNumber 1911,0 tiene diferencias en las columnas: ['businesstravel', 'jobrole', 'monthlyincome', 'remotework']\n",
      "EmpleyeeNumber 1898,0 tiene diferencias en las columnas: ['educationfield', 'jobrole', 'monthlyincome', 'remotework']\n",
      "EmpleyeeNumber 1869,0 tiene diferencias en las columnas: ['businesstravel', 'dailyrate', 'jobrole', 'maritalstatus', 'overtime', 'remotework']\n",
      "EmpleyeeNumber 1821,0 tiene diferencias en las columnas: ['distancefromhome', 'jobrole', 'monthlyincome']\n",
      "EmpleyeeNumber 966,0 tiene diferencias en las columnas: ['businesstravel', 'jobrole', 'overtime', 'remotework']\n",
      "EmpleyeeNumber 1816,0 tiene diferencias en las columnas: ['businesstravel', 'distancefromhome', 'environmentsatisfaction', 'jobrole']\n",
      "EmpleyeeNumber 1804,0 tiene diferencias en las columnas: ['jobrole', 'monthlyincome']\n",
      "EmpleyeeNumber 1797,0 tiene diferencias en las columnas: ['businesstravel', 'educationfield', 'jobrole', 'maritalstatus', 'overtime', 'totalworkingyears', 'remotework']\n",
      "EmpleyeeNumber 783,0 tiene diferencias en las columnas: ['educationfield', 'jobrole', 'remotework']\n",
      "EmpleyeeNumber 1947,0 tiene diferencias en las columnas: ['jobrole', 'remotework']\n",
      "EmpleyeeNumber 1954,0 tiene diferencias en las columnas: ['businesstravel', 'jobrole', 'remotework']\n",
      "EmpleyeeNumber 967,0 tiene diferencias en las columnas: ['jobrole', 'overtime', 'performancerating', 'totalworkingyears']\n",
      "EmpleyeeNumber 1778,0 tiene diferencias en las columnas: ['jobrole', 'maritalstatus', 'totalworkingyears', 'remotework']\n",
      "EmpleyeeNumber 956,0 tiene diferencias en las columnas: ['distancefromhome', 'environmentsatisfaction', 'jobrole', 'maritalstatus', 'overtime', 'totalworkingyears', 'remotework']\n",
      "EmpleyeeNumber 569,0 tiene diferencias en las columnas: ['distancefromhome', 'environmentsatisfaction', 'jobrole', 'maritalstatus', 'remotework']\n",
      "EmpleyeeNumber 374,0 tiene diferencias en las columnas: ['jobrole', 'overtime', 'remotework']\n",
      "EmpleyeeNumber 927,0 tiene diferencias en las columnas: ['businesstravel', 'hourlyrate', 'jobrole', 'maritalstatus', 'monthlyincome', 'totalworkingyears', 'remotework']\n",
      "EmpleyeeNumber 913,0 tiene diferencias en las columnas: ['businesstravel', 'educationfield', 'jobrole', 'maritalstatus', 'monthlyincome', 'remotework']\n",
      "EmpleyeeNumber 842,0 tiene diferencias en las columnas: ['businesstravel', 'jobrole', 'monthlyincome', 'overtime', 'totalworkingyears', 'remotework']\n",
      "EmpleyeeNumber 823,0 tiene diferencias en las columnas: ['jobrole', 'maritalstatus', 'overtime', 'totalworkingyears', 'remotework']\n",
      "EmpleyeeNumber 809,0 tiene diferencias en las columnas: ['educationfield', 'jobrole', 'maritalstatus', 'monthlyincome']\n",
      "EmpleyeeNumber 1541,0 tiene diferencias en las columnas: ['jobrole', 'maritalstatus', 'remotework']\n",
      "EmpleyeeNumber 803,0 tiene diferencias en las columnas: ['businesstravel', 'jobrole', 'overtime', 'remotework']\n",
      "EmpleyeeNumber 524,0 tiene diferencias en las columnas: ['businesstravel', 'distancefromhome', 'educationfield', 'jobrole']\n",
      "EmpleyeeNumber 941,0 tiene diferencias en las columnas: ['educationfield', 'hourlyrate', 'jobrole', 'maritalstatus', 'overtime', 'performancerating', 'totalworkingyears', 'remotework']\n",
      "EmpleyeeNumber 793,0 tiene diferencias en las columnas: ['businesstravel', 'jobrole', 'remotework']\n",
      "EmpleyeeNumber 789,0 tiene diferencias en las columnas: ['educationfield', 'jobrole', 'overtime', 'remotework']\n",
      "EmpleyeeNumber 307,0 tiene diferencias en las columnas: ['businesstravel', 'jobrole', 'monthlyincome', 'overtime', 'totalworkingyears', 'remotework']\n"
     ]
    }
   ],
   "source": [
    "# Función para comparar filas duplicadas\n",
    "def compare_duplicates(df, key_column):\n",
    "    # Identificar los números de 'key_column' que están duplicados\n",
    "    key_counts = df[key_column].value_counts()\n",
    "    duplicated_keys = key_counts[key_counts > 1].index\n",
    "\n",
    "    # Filtrar el DataFrame original para mostrar solo las filas con 'key_column' duplicados\n",
    "    df_duplicated_keys = df[df[key_column].isin(duplicated_keys)]\n",
    "\n",
    "    # Ordenar por 'key_column' para verlos agrupados\n",
    "    df_duplicated_keys_sorted = df_duplicated_keys.sort_values(by=key_column)\n",
    "\n",
    "    # Comparar filas duplicadas\n",
    "    comparison_results = {}\n",
    "    for key in duplicated_keys:\n",
    "        duplicated_rows = df_duplicated_keys_sorted[df_duplicated_keys_sorted[key_column] == key]\n",
    "        comparison = duplicated_rows.apply(lambda x: x.nunique() == 1)\n",
    "        comparison_results[key] = comparison[comparison == False].index.tolist()\n",
    "\n",
    "    return comparison_results\n",
    "\n",
    "# Comparar filas duplicadas para la columna 'employeenumber'\n",
    "comparison_results = compare_duplicates(df, 'employeenumber')\n",
    "\n",
    "# Mostrar los resultados de la comparación\n",
    "for key, differences in comparison_results.items():\n",
    "    if differences:\n",
    "        print(f\"EmpleyeeNumber {key} tiene diferencias en las columnas: {differences}\")\n",
    "    else:\n",
    "        print(f\"EmpleyeeNumber {key} no tiene diferencias en las columnas\")\n"
   ]
  },
  {
   "cell_type": "markdown",
   "metadata": {},
   "source": [
    "# Eliminar duplicados de `employeenumber`, limpiar columna y ver que hacer con los nulos"
   ]
  },
  {
   "cell_type": "code",
   "execution_count": 108,
   "metadata": {},
   "outputs": [],
   "source": [
    "# Eliminar duplicados en la columna 'employeenumber' y conservar solo la primera ocurrencia\n",
    "df.drop_duplicates(subset='employeenumber', keep='first', inplace = True)"
   ]
  },
  {
   "cell_type": "code",
   "execution_count": 109,
   "metadata": {},
   "outputs": [],
   "source": [
    "# Limpiar la columna 'employeenumber'\n",
    "df['employeenumber'] = df['employeenumber'].astype(str).str.replace(',', '').str.strip()  # Reemplazar comas y eliminar espacios en blanco"
   ]
  },
  {
   "cell_type": "code",
   "execution_count": 110,
   "metadata": {},
   "outputs": [],
   "source": [
    "# Convertir la columna 'employeenumber' a tipo numérico (int), manejando los posibles errores\n",
    "df['employeenumber'] = pd.to_numeric(df['employeenumber'], errors='coerce')"
   ]
  },
  {
   "cell_type": "code",
   "execution_count": 111,
   "metadata": {},
   "outputs": [
    {
     "data": {
      "text/plain": [
       "(1080, 32)"
      ]
     },
     "execution_count": 111,
     "metadata": {},
     "output_type": "execute_result"
    }
   ],
   "source": [
    "df.shape"
   ]
  },
  {
   "cell_type": "markdown",
   "metadata": {},
   "source": [
    "---------------------"
   ]
  },
  {
   "cell_type": "markdown",
   "metadata": {},
   "source": [
    "No requiere cambios ✅"
   ]
  },
  {
   "cell_type": "code",
   "execution_count": 113,
   "metadata": {},
   "outputs": [
    {
     "data": {
      "text/plain": [
       "array([ 1,  3,  4,  2, 37, 25, 27, 31, 39, 21, 15, 14, 33, 19, 12, 28, 47,\n",
       "       36, 24, 13, 42, 16, 22, 41, 49, 11, 48, 18, 10, 38, 17, 20, 46, 45,\n",
       "       35, 29, 26])"
      ]
     },
     "execution_count": 113,
     "metadata": {},
     "output_type": "execute_result"
    }
   ],
   "source": [
    "df['environmentsatisfaction'].unique()"
   ]
  },
  {
   "cell_type": "markdown",
   "metadata": {},
   "source": [
    "-------------"
   ]
  },
  {
   "cell_type": "markdown",
   "metadata": {},
   "source": [
    "- `cambiar de 0 - 1 a Male/Female o M/F`✅\n",
    "- `convertir en object ya que antes era int`✅\n"
   ]
  },
  {
   "cell_type": "code",
   "execution_count": 114,
   "metadata": {},
   "outputs": [],
   "source": [
    "df['gender'] = df['gender'].replace({0: 'Male', 1: 'Female'})"
   ]
  },
  {
   "cell_type": "code",
   "execution_count": 115,
   "metadata": {},
   "outputs": [
    {
     "data": {
      "text/plain": [
       "array(['Male', 'Female'], dtype=object)"
      ]
     },
     "execution_count": 115,
     "metadata": {},
     "output_type": "execute_result"
    }
   ],
   "source": [
    "df['gender'].unique()"
   ]
  },
  {
   "cell_type": "markdown",
   "metadata": {},
   "source": [
    "--------"
   ]
  },
  {
   "cell_type": "markdown",
   "metadata": {},
   "source": [
    "- `Cambiar a formato de hora  o int`✅\n",
    "- `Eliminar el Not Available`✅"
   ]
  },
  {
   "cell_type": "code",
   "execution_count": 116,
   "metadata": {},
   "outputs": [],
   "source": [
    "# Rellenar los valores NA con 0 o cualquier otro valor predeterminado\n",
    "df.hourlyrate = df.hourlyrate.replace({'Not Available': 0})\n"
   ]
  },
  {
   "cell_type": "code",
   "execution_count": 117,
   "metadata": {},
   "outputs": [],
   "source": [
    "\n",
    "# Convertir la columna a enteros\n",
    "df['hourlyrate'] = df['hourlyrate'].astype(int)"
   ]
  },
  {
   "cell_type": "code",
   "execution_count": 118,
   "metadata": {},
   "outputs": [
    {
     "data": {
      "text/plain": [
       "array([ 51,  65,  58,  82,  99,  64,  55,  49,  79,  31,  74,  98,  33,\n",
       "        53,  87,  81,  84,  32,  92,  80,  47,  48,   0,  43,  86,  30,\n",
       "        42,  57,  96,  67,  62,  72,  78,  89,  41,  90,  37,  45,  76,\n",
       "        88,  60,  94, 100,  66,  54,  75,  61,  83,  85,  63,  44,  97,\n",
       "        40,  46,  36,  35,  73,  56,  91,  52,  69,  70,  68,  38,  39,\n",
       "        71,  77,  93,  95,  34,  59,  50])"
      ]
     },
     "execution_count": 118,
     "metadata": {},
     "output_type": "execute_result"
    }
   ],
   "source": [
    "df['hourlyrate'].unique()"
   ]
  },
  {
   "cell_type": "markdown",
   "metadata": {},
   "source": [
    "------"
   ]
  },
  {
   "cell_type": "markdown",
   "metadata": {},
   "source": [
    "No requiere cambios ✅"
   ]
  },
  {
   "cell_type": "code",
   "execution_count": 119,
   "metadata": {},
   "outputs": [
    {
     "data": {
      "text/plain": [
       "array([3, 2, 1, 4])"
      ]
     },
     "execution_count": 119,
     "metadata": {},
     "output_type": "execute_result"
    }
   ],
   "source": [
    "df['jobinvolvement'].unique()"
   ]
  },
  {
   "cell_type": "markdown",
   "metadata": {},
   "source": [
    "-------"
   ]
  },
  {
   "cell_type": "markdown",
   "metadata": {},
   "source": [
    "No requiere cambios ✅"
   ]
  },
  {
   "cell_type": "code",
   "execution_count": 120,
   "metadata": {},
   "outputs": [
    {
     "data": {
      "text/plain": [
       "array([5, 4, 3, 2, 1])"
      ]
     },
     "execution_count": 120,
     "metadata": {},
     "output_type": "execute_result"
    }
   ],
   "source": [
    "df['joblevel'].unique()"
   ]
  },
  {
   "cell_type": "markdown",
   "metadata": {},
   "source": [
    "-----------"
   ]
  },
  {
   "cell_type": "markdown",
   "metadata": {},
   "source": [
    "- `cambiar a minúsculas` ✅"
   ]
  },
  {
   "cell_type": "code",
   "execution_count": 121,
   "metadata": {},
   "outputs": [],
   "source": [
    "df['jobrole'] = df['jobrole'].str.lower()"
   ]
  },
  {
   "cell_type": "code",
   "execution_count": 122,
   "metadata": {},
   "outputs": [
    {
     "data": {
      "text/plain": [
       "array([' research director ', ' manager ', ' sales executive ',\n",
       "       ' healthcare representative ', ' manufacturing director ',\n",
       "       ' laboratory technician ', ' research scientist ',\n",
       "       ' sales representative ', ' human resources '], dtype=object)"
      ]
     },
     "execution_count": 122,
     "metadata": {},
     "output_type": "execute_result"
    }
   ],
   "source": [
    "df['jobrole'].unique()"
   ]
  },
  {
   "cell_type": "markdown",
   "metadata": {},
   "source": [
    "-------"
   ]
  },
  {
   "cell_type": "markdown",
   "metadata": {},
   "source": [
    "No requiere cambios ✅"
   ]
  },
  {
   "cell_type": "code",
   "execution_count": 123,
   "metadata": {},
   "outputs": [
    {
     "data": {
      "text/plain": [
       "array([3, 4, 1, 2])"
      ]
     },
     "execution_count": 123,
     "metadata": {},
     "output_type": "execute_result"
    }
   ],
   "source": [
    "df['jobsatisfaction'].unique()"
   ]
  },
  {
   "cell_type": "markdown",
   "metadata": {},
   "source": [
    "-------"
   ]
  },
  {
   "cell_type": "markdown",
   "metadata": {},
   "source": [
    "- `cambiar a minúsculas` ✅\n",
    "- `Eliminar los NAN`\n",
    "- `Eliminar la plabras 'Marreid' ` ✅"
   ]
  },
  {
   "cell_type": "code",
   "execution_count": 124,
   "metadata": {},
   "outputs": [],
   "source": [
    "df[\"maritalstatus\"] = df[\"maritalstatus\"].str.lower()\n",
    "df[\"maritalstatus\"] = df[\"maritalstatus\"].str.replace('marreid', 'married')"
   ]
  },
  {
   "cell_type": "code",
   "execution_count": 125,
   "metadata": {},
   "outputs": [
    {
     "data": {
      "text/plain": [
       "array([nan, 'married', 'single', 'divorced'], dtype=object)"
      ]
     },
     "execution_count": 125,
     "metadata": {},
     "output_type": "execute_result"
    }
   ],
   "source": [
    "df['maritalstatus'].unique()"
   ]
  },
  {
   "cell_type": "markdown",
   "metadata": {},
   "source": [
    "-------"
   ]
  },
  {
   "cell_type": "markdown",
   "metadata": {},
   "source": [
    "- ` quitar las comas por puntos `✅\n",
    "- `tiene NAN`"
   ]
  },
  {
   "cell_type": "code",
   "execution_count": 126,
   "metadata": {},
   "outputs": [],
   "source": [
    "def cambiar_comas(cadena):\n",
    "    try:\n",
    "        return float(cadena.replace(',', '').replace('.', ''))\n",
    "    except:\n",
    "        return np.nan\n",
    "df['monthlyincome'] = df['monthlyincome'].apply(cambiar_comas)"
   ]
  },
  {
   "cell_type": "code",
   "execution_count": 127,
   "metadata": {},
   "outputs": [
    {
     "data": {
      "text/plain": [
       "array([195370., 199990., 192320., 171690., 171740.,     nan, 199730.,\n",
       "       195450., 180410., 192460., 107480., 167520.,  40010., 104470.,\n",
       "       160640.,  32100., 104750.,  61620.,  46150., 169590., 108550.,\n",
       "        59140.,  66460., 139730., 133200.,  47350., 138720., 190450.,\n",
       "        43060., 170460.,  23080.,  57470., 104220.,  63470.,  23480.,\n",
       "        30720.,  80200., 170680., 192720.,  55770.,  26910.,  74030.,\n",
       "        88230., 182130., 135770., 191900., 171230., 191870., 100080.,\n",
       "        79880.,  70830.,  47230.,  34070.,  29290., 120310.,  51260.,\n",
       "        96190.,  50100., 190330., 104000., 191970.,  84120.,  33480.,\n",
       "        53090.,  76540., 128080.,  65860., 170990., 131200.,  31310.,\n",
       "        66740.,  98520., 178610.,  74460., 165980.,  42850., 101240.,\n",
       "        97140.,  99240., 112450.,  64720.,  83210.,  85780.,  41970.,\n",
       "        98880., 133410.,  56770.,  29090.,  68250.,  44240.,  54410.,\n",
       "        60740.,  61460.,  61720.,  46680.,  56050.,  35640.,  68040.,\n",
       "        58280.,  24550.,  46820.,  52570.,  21190.,  83920.,  40510.,\n",
       "        27410.,  53370.,  53960.,  49600.,  87930., 191890., 117130.,\n",
       "        53040., 111030.,  66320.,  75870.,  43350.,  59800.,  52280.,\n",
       "        23290.,  42940.,  67250., 103250.,  44470.,  54720.,  63850.,\n",
       "        75250.,  36600.,  87400.,  34910., 102520., 197400.,  45340.,\n",
       "        85000.,  46390.,  53630.,  40810.,  35780., 173280., 108510.,\n",
       "       104660.,  23620.,  57690.,  43850.,  40660.,  52060.,  26550.,\n",
       "        25700.,  49680.,  51470.,  27180.,  35390.,  58130.,  96670.,\n",
       "        56750.,  73140.,  50980., 135700.,  67120.,  99910., 109380.,\n",
       "        25930., 118780.,  80950.,  45370., 179240.,  40140., 127420.,\n",
       "        33760.,  42490.,  65490., 144110.,  82370.,  32110., 167040.,\n",
       "        47740.,  45680.,  64990.,  63970.,  36220.,  61800.,  43810.,\n",
       "        25590.,  54880.,  25140.,  34200.,  40870.,  42210.,  49630.,\n",
       "        42000.,  50060.,  76390.,  65020.,  63490.,  63800.,  31020.,\n",
       "        45560.,  42300.,  63220., 107610.,  29730., 173990., 168850.,\n",
       "        51550.,  29360., 187890.,  48830.,  20290.,  92780.,  41620.,\n",
       "        48760.,  21410.,  77560.,  39360.,  68420.,  39890.,  49300.,\n",
       "        37020.,  27050.,  23790.,  54870.,  28100.,  54540., 187400.,\n",
       "        54730., 135030., 135490.,  27740.,  52650.,  38150.,  23890.,\n",
       "        40000., 175840.,  56610.,  48690.,  46490., 104960.,  27680.,\n",
       "        21870.,  42580.,  53260.,  54850., 176390.,  60620.,  56660.,\n",
       "       137260.,  41150.,  62720.,  25170.,  39040.,  92040.,  43730.,\n",
       "        20640.,  24300.,  48770.,  37600.,  20130.,  27660.,  65130.,\n",
       "        42840.,  22260.,  55610.,  21440.,  53730.,  28970.,  53210.,\n",
       "        54100.,  27820.,  48500.,  44040.,  39440.,  29600., 189470.,\n",
       "        64650.,  26830.,  20140.,  34410., 136640.,  50210.,  47390.,\n",
       "       106500.,  43170.,  20240.,  30580.,  39290.,  44250.,  26570.,\n",
       "        59400.,  26220.,  32120.,  29110.,  69310.,  21760.,  32300.,\n",
       "       186650.,  64100.,  49410.,  39830.,  29040.,  26960.,  21740.,\n",
       "        67550.,  25430., 194060.,  65380.,  22580.,  22180.,  26540.,\n",
       "       119350.,  38940.,  42620., 105270.,  24000.,  36810., 195130.,\n",
       "        26590.,  88470.,  48510.,  81200.,  54050.,  37080., 137700.,\n",
       "        24500.,  43420.,  31490.,  53240.,  25530.,  59330.,  44030.,\n",
       "        20220.,  42560.,  28990.,  55620.,  23770.,  27990.,  34520.,\n",
       "        28110.,  42400.,  42270.,  39170.,  49690.,  20420.,  99570.,\n",
       "        22070.,  20700.,  27910.,  82240.,  26100.,  57310.,  25390.,\n",
       "        23760., 190810.,  27430.,  20800.,  20960.,  46270.,  23020.,\n",
       "        50710.,  54670.,  23940.,  36290.,  93620.,  32290.,  56470.,\n",
       "        44000.,  20660.,  54860.,  31620.,  66510.,  48980.,  31800.,\n",
       "       112440.,  40690.,  63920.,  48550.,  33120.,  31170., 152020.,\n",
       "        25800.,  43740.,  55050.,  25870.,  34770.,  34450.,  62940.,\n",
       "        35910.,  21050.,  26620.,  20620.,  55070.,  53990.,  44400.,\n",
       "        26600.,  33750.,  47870.,  28090., 108540.,  25710.,  61420.,\n",
       "        24960.,  34190.,  25010.,  25660.,  39200., 139640.,  65400.,\n",
       "        22440., 161840.,  42330., 148140.,  36170.,  26840., 192370.,\n",
       "        44220.,  25520.,  26780.,  51710., 119160.,  93800.,  58780.,\n",
       "        24680.,  41270.,  21480.,  38860.,  20900.,  20860.,  19510.,\n",
       "        30380.,  23220.,  29260.,  28350.,  65530.,  66730.,  21770.,\n",
       "       195170., 100480.,  31610.,  52380., 159920.,  23700.,  67810.,\n",
       "        66530.,  28510.,  52580.,  24760.,  22850.,  17020.,  25640.,\n",
       "        18780.,  23400.,  21270.,  20330.,  96020., 166270.,  10090.,\n",
       "        78610.,  26420.,  51210.,  26940.,  50940.,  22740.,  23800.,\n",
       "        20080., 105520.,  22590.,  24130.,  21210., 131940.,  41630.,\n",
       "       183030.,  47770.,  10520.,  24610.,  25960.,  47280.,  73510.,\n",
       "        47660.,  28270.,  22900.,  21070., 131910., 182650.,  11180.,\n",
       "       180610.,  16110.,  47680.,  12740.,  25610.,  63880.,  83760.,\n",
       "        48410.,  29720.,  26900., 175670.,  15690.,  41870., 108830.,\n",
       "        97560.,  52940.,  29560.,  46480.,  28040.,  28560.,  29330.,\n",
       "        10910.,  51510.,  28630.,  28580.,  11290.])"
      ]
     },
     "execution_count": 127,
     "metadata": {},
     "output_type": "execute_result"
    }
   ],
   "source": [
    "df['monthlyincome'].unique()"
   ]
  },
  {
   "cell_type": "markdown",
   "metadata": {},
   "source": [
    "-------"
   ]
  },
  {
   "cell_type": "markdown",
   "metadata": {},
   "source": [
    "No requiere cambios ✅"
   ]
  },
  {
   "cell_type": "code",
   "execution_count": 128,
   "metadata": {},
   "outputs": [
    {
     "data": {
      "text/plain": [
       "array([ 6462,  5678,  4933, ...,  4060, 26956, 16642])"
      ]
     },
     "execution_count": 128,
     "metadata": {},
     "output_type": "execute_result"
    }
   ],
   "source": [
    "df['monthlyrate'].unique()"
   ]
  },
  {
   "cell_type": "markdown",
   "metadata": {},
   "source": [
    "-------------------------"
   ]
  },
  {
   "cell_type": "markdown",
   "metadata": {},
   "source": [
    "No requiere cambios ✅"
   ]
  },
  {
   "cell_type": "code",
   "execution_count": 129,
   "metadata": {},
   "outputs": [
    {
     "data": {
      "text/plain": [
       "array([7, 0, 1, 3, 2, 9, 4, 5, 6, 8])"
      ]
     },
     "execution_count": 129,
     "metadata": {},
     "output_type": "execute_result"
    }
   ],
   "source": [
    "df[\"numcompaniesworked\"].unique()"
   ]
  },
  {
   "cell_type": "markdown",
   "metadata": {},
   "source": [
    "-------"
   ]
  },
  {
   "cell_type": "markdown",
   "metadata": {},
   "source": [
    "Eliminado ❌"
   ]
  },
  {
   "cell_type": "code",
   "execution_count": null,
   "metadata": {},
   "outputs": [],
   "source": [
    "df['Over18'].unique()"
   ]
  },
  {
   "cell_type": "markdown",
   "metadata": {},
   "source": [
    "-------"
   ]
  },
  {
   "cell_type": "markdown",
   "metadata": {},
   "source": [
    "`hay un 42% de nulos, quizás eliminarla? - Eliminar los NAN`"
   ]
  },
  {
   "cell_type": "code",
   "execution_count": 130,
   "metadata": {},
   "outputs": [
    {
     "data": {
      "text/plain": [
       "0.41388888888888886"
      ]
     },
     "execution_count": 130,
     "metadata": {},
     "output_type": "execute_result"
    }
   ],
   "source": [
    "df['overtime'].isnull().sum()/df.shape[0]"
   ]
  },
  {
   "cell_type": "code",
   "execution_count": 131,
   "metadata": {},
   "outputs": [
    {
     "data": {
      "text/plain": [
       "array(['No', nan, 'Yes'], dtype=object)"
      ]
     },
     "execution_count": 131,
     "metadata": {},
     "output_type": "execute_result"
    }
   ],
   "source": [
    "df[\"overtime\"].unique()"
   ]
  },
  {
   "cell_type": "markdown",
   "metadata": {},
   "source": [
    "-------"
   ]
  },
  {
   "cell_type": "markdown",
   "metadata": {},
   "source": [
    "No requiere cambios ✅"
   ]
  },
  {
   "cell_type": "code",
   "execution_count": 132,
   "metadata": {},
   "outputs": [
    {
     "data": {
      "text/plain": [
       "array([13, 14, 11, 19, 25, 17, 22, 12, 23, 21, 16, 15, 20, 18, 24])"
      ]
     },
     "execution_count": 132,
     "metadata": {},
     "output_type": "execute_result"
    }
   ],
   "source": [
    "df['percentsalaryhike'].unique()"
   ]
  },
  {
   "cell_type": "markdown",
   "metadata": {},
   "source": [
    "-------"
   ]
  },
  {
   "cell_type": "markdown",
   "metadata": {},
   "source": [
    "- `volverlo int o float` ✅\n",
    "- `Quitarle la coma y por puntos` ✅\n",
    "- `Eliminar los NAN `"
   ]
  },
  {
   "cell_type": "code",
   "execution_count": 133,
   "metadata": {},
   "outputs": [],
   "source": [
    "df['performancerating'] = df['performancerating'].str.replace(\",\", \".\")"
   ]
  },
  {
   "cell_type": "code",
   "execution_count": 134,
   "metadata": {},
   "outputs": [],
   "source": [
    "df['performancerating'] = df['performancerating'].astype(float)"
   ]
  },
  {
   "cell_type": "code",
   "execution_count": 135,
   "metadata": {},
   "outputs": [
    {
     "data": {
      "text/plain": [
       "array([ 3.,  4., nan])"
      ]
     },
     "execution_count": 135,
     "metadata": {},
     "output_type": "execute_result"
    }
   ],
   "source": [
    "df[\"performancerating\"].unique()"
   ]
  },
  {
   "cell_type": "markdown",
   "metadata": {},
   "source": [
    "-------"
   ]
  },
  {
   "cell_type": "markdown",
   "metadata": {},
   "source": [
    "No requiere cambios ✅"
   ]
  },
  {
   "cell_type": "code",
   "execution_count": 136,
   "metadata": {},
   "outputs": [
    {
     "data": {
      "text/plain": [
       "array([3, 1, 4, 2])"
      ]
     },
     "execution_count": 136,
     "metadata": {},
     "output_type": "execute_result"
    }
   ],
   "source": [
    "df[\"relationshipsatisfaction\"].unique()"
   ]
  },
  {
   "cell_type": "markdown",
   "metadata": {},
   "source": [
    "-------"
   ]
  },
  {
   "cell_type": "markdown",
   "metadata": {},
   "source": [
    "Eliminado ❌"
   ]
  },
  {
   "cell_type": "code",
   "execution_count": null,
   "metadata": {},
   "outputs": [],
   "source": [
    "df[\"standardhours\"].unique()"
   ]
  },
  {
   "cell_type": "markdown",
   "metadata": {},
   "source": [
    "-------"
   ]
  },
  {
   "cell_type": "markdown",
   "metadata": {},
   "source": [
    "No requiere cambios ✅"
   ]
  },
  {
   "cell_type": "code",
   "execution_count": 137,
   "metadata": {},
   "outputs": [
    {
     "data": {
      "text/plain": [
       "array([0, 1, 2, 3])"
      ]
     },
     "execution_count": 137,
     "metadata": {},
     "output_type": "execute_result"
    }
   ],
   "source": [
    "df[\"stockoptionlevel\"].unique()"
   ]
  },
  {
   "cell_type": "markdown",
   "metadata": {},
   "source": [
    "-------"
   ]
  },
  {
   "cell_type": "code",
   "execution_count": 153,
   "metadata": {},
   "outputs": [],
   "source": [
    "# Funición unica que cambia los valores de las columnas de totalworkingyears, worklifebalance\n",
    "\n",
    "def cambiar_comas_y_nulos(cadena):\n",
    "    if pd.isnull(cadena):  # Si es un valor nulo, devuelve NaN\n",
    "        return np.nan\n",
    "    try:\n",
    "        return float(cadena.replace(',', '.'))  # Intenta convertir la cadena a float\n",
    "    except ValueError:  # Si la conversión falla, devuelve NaN\n",
    "        return np.nan\n",
    "\n",
    "# Lista de las columnas que deseas modificar\n",
    "columnas_a_convertir = ['totalworkingyears', 'worklifebalance']\n",
    "\n",
    "# Aplica la función a cada columna en la lista\n",
    "for columna in columnas_a_convertir:\n",
    "    df[columna] = df[columna].apply(cambiar_comas_y_nulos)"
   ]
  },
  {
   "cell_type": "markdown",
   "metadata": {},
   "source": [
    "- `Cambiar a int o float ` ✅\n",
    "- `Eliminar los NAN `"
   ]
  },
  {
   "cell_type": "code",
   "execution_count": 140,
   "metadata": {},
   "outputs": [
    {
     "data": {
      "text/plain": [
       "array([nan, 34., 22., 28., 20., 21., 40., 25., 15., 18., 26., 16., 24.,\n",
       "       14., 23., 17., 27., 19., 11., 38., 37., 13., 12., 10., 33., 29.,\n",
       "        9., 31., 35., 32., 36.,  8.,  7., 30.,  6.,  5.,  4.,  3.,  2.,\n",
       "        1.,  0.])"
      ]
     },
     "execution_count": 140,
     "metadata": {},
     "output_type": "execute_result"
    }
   ],
   "source": [
    "df[\"totalworkingyears\"].unique()"
   ]
  },
  {
   "cell_type": "markdown",
   "metadata": {},
   "source": [
    "-------"
   ]
  },
  {
   "cell_type": "markdown",
   "metadata": {},
   "source": [
    "No requiere cambios ✅"
   ]
  },
  {
   "cell_type": "code",
   "execution_count": 141,
   "metadata": {},
   "outputs": [
    {
     "data": {
      "text/plain": [
       "array([5, 3, 2, 0, 1, 4, 6])"
      ]
     },
     "execution_count": 141,
     "metadata": {},
     "output_type": "execute_result"
    }
   ],
   "source": [
    "df[\"trainingtimeslastyear\"].unique()"
   ]
  },
  {
   "cell_type": "markdown",
   "metadata": {},
   "source": [
    "-----------"
   ]
  },
  {
   "cell_type": "markdown",
   "metadata": {},
   "source": [
    "- `Tiene NAN`\n",
    "- `cambiar a int o float` ✅\n"
   ]
  },
  {
   "cell_type": "code",
   "execution_count": 142,
   "metadata": {},
   "outputs": [
    {
     "data": {
      "text/plain": [
       "array(['3,0', nan, '2,0', '4,0', '1,0'], dtype=object)"
      ]
     },
     "execution_count": 142,
     "metadata": {},
     "output_type": "execute_result"
    }
   ],
   "source": [
    "df['worklifebalance'].unique()"
   ]
  },
  {
   "cell_type": "markdown",
   "metadata": {},
   "source": [
    "-------"
   ]
  },
  {
   "cell_type": "markdown",
   "metadata": {},
   "source": [
    "No requiere cambios ✅"
   ]
  },
  {
   "cell_type": "code",
   "execution_count": 143,
   "metadata": {},
   "outputs": [
    {
     "data": {
      "text/plain": [
       "array([20, 33, 22, 21, 18, 31, 23, 15, 26, 16, 17, 14, 24, 13, 25, 12, 11,\n",
       "       37, 36, 27, 10, 19,  9, 29, 30,  8,  7, 32,  6,  5,  4,  2,  3,  1,\n",
       "        0])"
      ]
     },
     "execution_count": 143,
     "metadata": {},
     "output_type": "execute_result"
    }
   ],
   "source": [
    "df['yearsatcompany'].unique()"
   ]
  },
  {
   "cell_type": "markdown",
   "metadata": {},
   "source": [
    "-------"
   ]
  },
  {
   "cell_type": "markdown",
   "metadata": {},
   "source": [
    "Eliminado ❌"
   ]
  },
  {
   "cell_type": "markdown",
   "metadata": {},
   "source": [
    "- `tiene 97% null`"
   ]
  },
  {
   "cell_type": "code",
   "execution_count": null,
   "metadata": {},
   "outputs": [],
   "source": [
    "df['yearsincurrentrole'].unique()"
   ]
  },
  {
   "cell_type": "markdown",
   "metadata": {},
   "source": [
    "-------"
   ]
  },
  {
   "cell_type": "markdown",
   "metadata": {},
   "source": [
    "No requiere cambios ✅"
   ]
  },
  {
   "cell_type": "code",
   "execution_count": 144,
   "metadata": {},
   "outputs": [
    {
     "data": {
      "text/plain": [
       "array([15, 11,  5,  4,  7,  0,  1, 13, 14,  8,  3, 12,  2, 10,  6,  9])"
      ]
     },
     "execution_count": 144,
     "metadata": {},
     "output_type": "execute_result"
    }
   ],
   "source": [
    "df['yearssincelastpromotion'].unique()"
   ]
  },
  {
   "cell_type": "markdown",
   "metadata": {},
   "source": [
    "-------"
   ]
  },
  {
   "cell_type": "markdown",
   "metadata": {},
   "source": [
    "No requiere cambios ✅"
   ]
  },
  {
   "cell_type": "code",
   "execution_count": 145,
   "metadata": {},
   "outputs": [
    {
     "data": {
      "text/plain": [
       "array([15,  9,  6,  7, 11, 10,  8, 12,  4,  0,  5,  2, 14,  1, 17, 13,  3])"
      ]
     },
     "execution_count": 145,
     "metadata": {},
     "output_type": "execute_result"
    }
   ],
   "source": [
    "df['yearswithcurrmanager'].unique() "
   ]
  },
  {
   "cell_type": "markdown",
   "metadata": {},
   "source": [
    "-------"
   ]
  },
  {
   "cell_type": "markdown",
   "metadata": {},
   "source": [
    "Eliminado ❌"
   ]
  },
  {
   "cell_type": "code",
   "execution_count": null,
   "metadata": {},
   "outputs": [],
   "source": [
    "df[\"sameasmonthlyincome\"].unique()"
   ]
  },
  {
   "cell_type": "markdown",
   "metadata": {},
   "source": [
    "-------"
   ]
  },
  {
   "cell_type": "markdown",
   "metadata": {},
   "source": [
    "`Es str, creo que no requiere cambios es una fecha de año por si sola`✅"
   ]
  },
  {
   "cell_type": "code",
   "execution_count": null,
   "metadata": {},
   "outputs": [],
   "source": [
    "df[\"datebirth\"].unique()"
   ]
  },
  {
   "cell_type": "markdown",
   "metadata": {},
   "source": [
    "-------"
   ]
  },
  {
   "cell_type": "markdown",
   "metadata": {},
   "source": [
    "Eliminado ❌"
   ]
  },
  {
   "cell_type": "code",
   "execution_count": null,
   "metadata": {},
   "outputs": [],
   "source": [
    "df[\"salary\"].unique()"
   ]
  },
  {
   "cell_type": "markdown",
   "metadata": {},
   "source": [
    "-------"
   ]
  },
  {
   "cell_type": "markdown",
   "metadata": {},
   "source": [
    "Eliminado ❌"
   ]
  },
  {
   "cell_type": "code",
   "execution_count": null,
   "metadata": {},
   "outputs": [],
   "source": [
    "df['roledepartament'].unique()"
   ]
  },
  {
   "cell_type": "markdown",
   "metadata": {},
   "source": [
    "------"
   ]
  },
  {
   "cell_type": "markdown",
   "metadata": {},
   "source": [
    "Eliminado ❌"
   ]
  },
  {
   "cell_type": "code",
   "execution_count": null,
   "metadata": {},
   "outputs": [],
   "source": [
    "df[\"numberchildren\"].unique()"
   ]
  },
  {
   "cell_type": "markdown",
   "metadata": {},
   "source": [
    "-------"
   ]
  },
  {
   "cell_type": "markdown",
   "metadata": {},
   "source": [
    "\n",
    "`Modificamos los valores 0 y 1, True or False por Yes y No` ✅\n",
    "- 1  =      360\n",
    "- True  =   345\n",
    "- 0   =     309\n",
    "- False =   305\n",
    "- Yes  =    295"
   ]
  },
  {
   "cell_type": "code",
   "execution_count": 146,
   "metadata": {},
   "outputs": [],
   "source": [
    "df['remotework']= df['remotework'].replace({('1'):'Yes',('0') or ('False'): 'No', 'True': 'Yes', 'False': 'No'})"
   ]
  },
  {
   "cell_type": "code",
   "execution_count": 147,
   "metadata": {},
   "outputs": [
    {
     "data": {
      "text/plain": [
       "array(['Yes', 'No'], dtype=object)"
      ]
     },
     "execution_count": 147,
     "metadata": {},
     "output_type": "execute_result"
    }
   ],
   "source": [
    "df[\"remotework\"].unique()"
   ]
  },
  {
   "cell_type": "code",
   "execution_count": 148,
   "metadata": {},
   "outputs": [
    {
     "data": {
      "text/plain": [
       "remotework\n",
       "Yes    666\n",
       "No     414\n",
       "Name: count, dtype: int64"
      ]
     },
     "execution_count": 148,
     "metadata": {},
     "output_type": "execute_result"
    }
   ],
   "source": [
    "df['remotework'].value_counts()"
   ]
  },
  {
   "cell_type": "markdown",
   "metadata": {},
   "source": [
    "-------"
   ]
  },
  {
   "cell_type": "markdown",
   "metadata": {},
   "source": [
    "#### `Mover el employeenumber al inicio` ✅"
   ]
  },
  {
   "cell_type": "code",
   "execution_count": 149,
   "metadata": {},
   "outputs": [],
   "source": [
    "## Mover la columna 'employeenumber' al principio\n",
    "df = df[['employeenumber'] + [col for col in df.columns if col != 'employeenumber']]"
   ]
  },
  {
   "cell_type": "code",
   "execution_count": 154,
   "metadata": {},
   "outputs": [],
   "source": [
    "# Guarda el DataFrame como un archivo CSV\n",
    "df.to_csv(\"df_superlimpiooo.csv\", index = False)"
   ]
  },
  {
   "cell_type": "markdown",
   "metadata": {},
   "source": [
    "# Punto final --> Limpieza de Nulos"
   ]
  },
  {
   "cell_type": "markdown",
   "metadata": {},
   "source": [
    "### `Variables categóricas con Nulos = Objeto`"
   ]
  },
  {
   "cell_type": "code",
   "execution_count": null,
   "metadata": {},
   "outputs": [],
   "source": [
    "# Obtenemos la lista de columnas categóricas que tienen nulos\n",
    "nulos_esta_cat = df[df.columns[df.isnull().any()]].select_dtypes(include = \"O\").columns\n",
    "print(\"Las columnas categóricas que tienen nulos son : \\n \")\n",
    "print(nulos_esta_cat)"
   ]
  },
  {
   "cell_type": "code",
   "execution_count": null,
   "metadata": {},
   "outputs": [],
   "source": [
    "# sacamos el 'value_counts()' de cada una de las columnas categóricas que tienen nulos para saber como es la distribución de sus categorías\n",
    "for col in nulos_esta_cat:\n",
    "    print(f\"La distribución de las categorías para la columna {col.upper()}\")\n",
    "    display(df[col].value_counts() / df.shape[0])  # display es una función utilizada para mostrar objetos de manera más legible en Jupyter Notebooks o entornos similares. \n",
    "    print(\"........................\")"
   ]
  },
  {
   "cell_type": "markdown",
   "metadata": {},
   "source": [
    "### `Variables numéricas con Nulos = Int o float`\n"
   ]
  },
  {
   "cell_type": "code",
   "execution_count": null,
   "metadata": {},
   "outputs": [],
   "source": [
    "# Obtenemos la lista de columnas numericas que tienen nulos\n",
    "nulos_esta_num = df[df.columns[df.isnull().any()]].select_dtypes(include = np.number).columns\n",
    "print(\"Las columnas numéricas que tienen nulos son : \\n \")\n",
    "print(nulos_esta_num)"
   ]
  },
  {
   "cell_type": "code",
   "execution_count": null,
   "metadata": {},
   "outputs": [],
   "source": [
    "# lo primero que vamos a hacer es calcular el número de nulos que tenemos en cada una de las columnas numericas\n",
    "df[nulos_esta_num].isnull().sum() / df.shape[0]"
   ]
  },
  {
   "cell_type": "code",
   "execution_count": null,
   "metadata": {},
   "outputs": [],
   "source": [
    "# Guarda el DataFrame como un archivo CSV\n",
    "df.to_csv(\"DF_Totalmente_Limpio.csv\", index = False)"
   ]
  }
 ],
 "metadata": {
  "kernelspec": {
   "display_name": "Python 3",
   "language": "python",
   "name": "python3"
  },
  "language_info": {
   "codemirror_mode": {
    "name": "ipython",
    "version": 3
   },
   "file_extension": ".py",
   "mimetype": "text/x-python",
   "name": "python",
   "nbconvert_exporter": "python",
   "pygments_lexer": "ipython3",
   "version": "3.9.7"
  }
 },
 "nbformat": 4,
 "nbformat_minor": 2
}
