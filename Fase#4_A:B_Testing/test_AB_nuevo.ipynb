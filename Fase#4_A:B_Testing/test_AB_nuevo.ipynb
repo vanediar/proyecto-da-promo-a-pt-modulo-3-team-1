{
 "cells": [
  {
   "cell_type": "code",
   "execution_count": 183,
   "metadata": {},
   "outputs": [],
   "source": [
    "# importamos las librerías que necesitamos\n",
    "\n",
    "# Tratamiento de datos\n",
    "# -----------------------------------------------------------------------\n",
    "import pandas as pd\n",
    "import numpy as np\n",
    "\n",
    "# Visualización\n",
    "# ------------------------------------------------------------------------------\n",
    "import matplotlib.pyplot as plt\n",
    "import seaborn as sns\n",
    "\n",
    "# Evaluar las hipotesis de las relaciones entre las variables\n",
    "# ------------------------------------------------------------------------------\n",
    "import scipy.stats as stats\n",
    "from scipy.stats import shapiro, poisson, chisquare, expon, kstest,chi2_contingency,ttest_ind\n",
    "\n",
    "# Configuración\n",
    "# -----------------------------------------------------------------------\n",
    "pd.set_option('display.max_columns', None) # para poder visualizar todas las columnas de los DataFrames\n",
    "\n",
    "# Gestión de los warnings\n",
    "# -----------------------------------------------------------------------\n",
    "import warnings\n",
    "warnings.filterwarnings(\"ignore\")"
   ]
  },
  {
   "cell_type": "code",
   "execution_count": 184,
   "metadata": {},
   "outputs": [],
   "source": [
    "df=pd.read_csv(\"df_transformado_limpio.csv\",index_col=0)"
   ]
  },
  {
   "cell_type": "code",
   "execution_count": 185,
   "metadata": {},
   "outputs": [
    {
     "data": {
      "text/html": [
       "<div>\n",
       "<style scoped>\n",
       "    .dataframe tbody tr th:only-of-type {\n",
       "        vertical-align: middle;\n",
       "    }\n",
       "\n",
       "    .dataframe tbody tr th {\n",
       "        vertical-align: top;\n",
       "    }\n",
       "\n",
       "    .dataframe thead th {\n",
       "        text-align: right;\n",
       "    }\n",
       "</style>\n",
       "<table border=\"1\" class=\"dataframe\">\n",
       "  <thead>\n",
       "    <tr style=\"text-align: right;\">\n",
       "      <th></th>\n",
       "      <th>age</th>\n",
       "      <th>attrition</th>\n",
       "      <th>businesstravel</th>\n",
       "      <th>dailyrate</th>\n",
       "      <th>distancefromhome</th>\n",
       "      <th>education</th>\n",
       "      <th>educationfield</th>\n",
       "      <th>environmentsatisfaction</th>\n",
       "      <th>gender</th>\n",
       "      <th>hourlyrate</th>\n",
       "      <th>jobinvolvement</th>\n",
       "      <th>joblevel</th>\n",
       "      <th>jobrole</th>\n",
       "      <th>jobsatisfaction</th>\n",
       "      <th>maritalstatus</th>\n",
       "      <th>monthlyincome</th>\n",
       "      <th>monthlyrate</th>\n",
       "      <th>numcompaniesworked</th>\n",
       "      <th>overtime</th>\n",
       "      <th>percentsalaryhike</th>\n",
       "      <th>performancerating</th>\n",
       "      <th>relationshipsatisfaction</th>\n",
       "      <th>stockoptionlevel</th>\n",
       "      <th>totalworkingyears</th>\n",
       "      <th>trainingtimeslastyear</th>\n",
       "      <th>worklifebalance</th>\n",
       "      <th>yearsatcompany</th>\n",
       "      <th>yearssincelastpromotion</th>\n",
       "      <th>yearswithcurrmanager</th>\n",
       "      <th>datebirth</th>\n",
       "      <th>remotework</th>\n",
       "    </tr>\n",
       "    <tr>\n",
       "      <th>employeenumber</th>\n",
       "      <th></th>\n",
       "      <th></th>\n",
       "      <th></th>\n",
       "      <th></th>\n",
       "      <th></th>\n",
       "      <th></th>\n",
       "      <th></th>\n",
       "      <th></th>\n",
       "      <th></th>\n",
       "      <th></th>\n",
       "      <th></th>\n",
       "      <th></th>\n",
       "      <th></th>\n",
       "      <th></th>\n",
       "      <th></th>\n",
       "      <th></th>\n",
       "      <th></th>\n",
       "      <th></th>\n",
       "      <th></th>\n",
       "      <th></th>\n",
       "      <th></th>\n",
       "      <th></th>\n",
       "      <th></th>\n",
       "      <th></th>\n",
       "      <th></th>\n",
       "      <th></th>\n",
       "      <th></th>\n",
       "      <th></th>\n",
       "      <th></th>\n",
       "      <th></th>\n",
       "      <th></th>\n",
       "    </tr>\n",
       "  </thead>\n",
       "  <tbody>\n",
       "    <tr>\n",
       "      <th>1620</th>\n",
       "      <td>51</td>\n",
       "      <td>No</td>\n",
       "      <td>travel rarely</td>\n",
       "      <td>684.0</td>\n",
       "      <td>6</td>\n",
       "      <td>3</td>\n",
       "      <td>life sciences</td>\n",
       "      <td>1</td>\n",
       "      <td>Male</td>\n",
       "      <td>51</td>\n",
       "      <td>3</td>\n",
       "      <td>5</td>\n",
       "      <td>research director</td>\n",
       "      <td>3</td>\n",
       "      <td>married</td>\n",
       "      <td>195370.0</td>\n",
       "      <td>6462</td>\n",
       "      <td>7</td>\n",
       "      <td>No</td>\n",
       "      <td>13</td>\n",
       "      <td>3.0</td>\n",
       "      <td>3</td>\n",
       "      <td>0</td>\n",
       "      <td>10.0</td>\n",
       "      <td>5</td>\n",
       "      <td>3.0</td>\n",
       "      <td>20</td>\n",
       "      <td>15</td>\n",
       "      <td>15</td>\n",
       "      <td>1972</td>\n",
       "      <td>Yes</td>\n",
       "    </tr>\n",
       "    <tr>\n",
       "      <th>2590</th>\n",
       "      <td>52</td>\n",
       "      <td>No</td>\n",
       "      <td>travel rarely</td>\n",
       "      <td>699.0</td>\n",
       "      <td>1</td>\n",
       "      <td>4</td>\n",
       "      <td>life sciences</td>\n",
       "      <td>3</td>\n",
       "      <td>Male</td>\n",
       "      <td>65</td>\n",
       "      <td>2</td>\n",
       "      <td>5</td>\n",
       "      <td>manager</td>\n",
       "      <td>3</td>\n",
       "      <td>married</td>\n",
       "      <td>199990.0</td>\n",
       "      <td>5678</td>\n",
       "      <td>0</td>\n",
       "      <td>No</td>\n",
       "      <td>14</td>\n",
       "      <td>3.0</td>\n",
       "      <td>1</td>\n",
       "      <td>1</td>\n",
       "      <td>34.0</td>\n",
       "      <td>5</td>\n",
       "      <td>3.0</td>\n",
       "      <td>33</td>\n",
       "      <td>11</td>\n",
       "      <td>9</td>\n",
       "      <td>1971</td>\n",
       "      <td>Yes</td>\n",
       "    </tr>\n",
       "    <tr>\n",
       "      <th>3190</th>\n",
       "      <td>42</td>\n",
       "      <td>No</td>\n",
       "      <td>travel rarely</td>\n",
       "      <td>532.0</td>\n",
       "      <td>4</td>\n",
       "      <td>2</td>\n",
       "      <td>technical degree</td>\n",
       "      <td>3</td>\n",
       "      <td>Male</td>\n",
       "      <td>58</td>\n",
       "      <td>3</td>\n",
       "      <td>5</td>\n",
       "      <td>manager</td>\n",
       "      <td>4</td>\n",
       "      <td>married</td>\n",
       "      <td>192320.0</td>\n",
       "      <td>4933</td>\n",
       "      <td>1</td>\n",
       "      <td>No</td>\n",
       "      <td>11</td>\n",
       "      <td>3.0</td>\n",
       "      <td>4</td>\n",
       "      <td>0</td>\n",
       "      <td>22.0</td>\n",
       "      <td>3</td>\n",
       "      <td>2.8</td>\n",
       "      <td>22</td>\n",
       "      <td>11</td>\n",
       "      <td>15</td>\n",
       "      <td>1981</td>\n",
       "      <td>Yes</td>\n",
       "    </tr>\n",
       "    <tr>\n",
       "      <th>20681</th>\n",
       "      <td>47</td>\n",
       "      <td>No</td>\n",
       "      <td>travel rarely</td>\n",
       "      <td>359.0</td>\n",
       "      <td>2</td>\n",
       "      <td>4</td>\n",
       "      <td>medical</td>\n",
       "      <td>1</td>\n",
       "      <td>Female</td>\n",
       "      <td>82</td>\n",
       "      <td>3</td>\n",
       "      <td>4</td>\n",
       "      <td>research director</td>\n",
       "      <td>3</td>\n",
       "      <td>married</td>\n",
       "      <td>171690.0</td>\n",
       "      <td>26703</td>\n",
       "      <td>3</td>\n",
       "      <td>No</td>\n",
       "      <td>19</td>\n",
       "      <td>3.0</td>\n",
       "      <td>2</td>\n",
       "      <td>2</td>\n",
       "      <td>10.0</td>\n",
       "      <td>2</td>\n",
       "      <td>2.8</td>\n",
       "      <td>20</td>\n",
       "      <td>5</td>\n",
       "      <td>6</td>\n",
       "      <td>1976</td>\n",
       "      <td>No</td>\n",
       "    </tr>\n",
       "    <tr>\n",
       "      <th>19000</th>\n",
       "      <td>48</td>\n",
       "      <td>No</td>\n",
       "      <td>travel rarely</td>\n",
       "      <td>117.0</td>\n",
       "      <td>22</td>\n",
       "      <td>3</td>\n",
       "      <td>medical</td>\n",
       "      <td>4</td>\n",
       "      <td>Female</td>\n",
       "      <td>58</td>\n",
       "      <td>3</td>\n",
       "      <td>4</td>\n",
       "      <td>manager</td>\n",
       "      <td>4</td>\n",
       "      <td>married</td>\n",
       "      <td>171740.0</td>\n",
       "      <td>2437</td>\n",
       "      <td>3</td>\n",
       "      <td>No</td>\n",
       "      <td>11</td>\n",
       "      <td>3.0</td>\n",
       "      <td>2</td>\n",
       "      <td>1</td>\n",
       "      <td>10.0</td>\n",
       "      <td>3</td>\n",
       "      <td>3.0</td>\n",
       "      <td>22</td>\n",
       "      <td>4</td>\n",
       "      <td>7</td>\n",
       "      <td>1975</td>\n",
       "      <td>Yes</td>\n",
       "    </tr>\n",
       "  </tbody>\n",
       "</table>\n",
       "</div>"
      ],
      "text/plain": [
       "                age attrition businesstravel  dailyrate  distancefromhome  \\\n",
       "employeenumber                                                              \n",
       "1620             51        No  travel rarely      684.0                 6   \n",
       "2590             52        No  travel rarely      699.0                 1   \n",
       "3190             42        No  travel rarely      532.0                 4   \n",
       "20681            47        No  travel rarely      359.0                 2   \n",
       "19000            48        No  travel rarely      117.0                22   \n",
       "\n",
       "                education    educationfield  environmentsatisfaction  gender  \\\n",
       "employeenumber                                                                 \n",
       "1620                    3     life sciences                        1    Male   \n",
       "2590                    4     life sciences                        3    Male   \n",
       "3190                    2  technical degree                        3    Male   \n",
       "20681                   4           medical                        1  Female   \n",
       "19000                   3           medical                        4  Female   \n",
       "\n",
       "                hourlyrate  jobinvolvement  joblevel              jobrole  \\\n",
       "employeenumber                                                              \n",
       "1620                    51               3         5   research director    \n",
       "2590                    65               2         5             manager    \n",
       "3190                    58               3         5             manager    \n",
       "20681                   82               3         4   research director    \n",
       "19000                   58               3         4             manager    \n",
       "\n",
       "                jobsatisfaction maritalstatus  monthlyincome  monthlyrate  \\\n",
       "employeenumber                                                              \n",
       "1620                          3       married       195370.0         6462   \n",
       "2590                          3       married       199990.0         5678   \n",
       "3190                          4       married       192320.0         4933   \n",
       "20681                         3       married       171690.0        26703   \n",
       "19000                         4       married       171740.0         2437   \n",
       "\n",
       "                numcompaniesworked overtime  percentsalaryhike  \\\n",
       "employeenumber                                                   \n",
       "1620                             7       No                 13   \n",
       "2590                             0       No                 14   \n",
       "3190                             1       No                 11   \n",
       "20681                            3       No                 19   \n",
       "19000                            3       No                 11   \n",
       "\n",
       "                performancerating  relationshipsatisfaction  stockoptionlevel  \\\n",
       "employeenumber                                                                  \n",
       "1620                          3.0                         3                 0   \n",
       "2590                          3.0                         1                 1   \n",
       "3190                          3.0                         4                 0   \n",
       "20681                         3.0                         2                 2   \n",
       "19000                         3.0                         2                 1   \n",
       "\n",
       "                totalworkingyears  trainingtimeslastyear  worklifebalance  \\\n",
       "employeenumber                                                              \n",
       "1620                         10.0                      5              3.0   \n",
       "2590                         34.0                      5              3.0   \n",
       "3190                         22.0                      3              2.8   \n",
       "20681                        10.0                      2              2.8   \n",
       "19000                        10.0                      3              3.0   \n",
       "\n",
       "                yearsatcompany  yearssincelastpromotion  yearswithcurrmanager  \\\n",
       "employeenumber                                                                  \n",
       "1620                        20                       15                    15   \n",
       "2590                        33                       11                     9   \n",
       "3190                        22                       11                    15   \n",
       "20681                       20                        5                     6   \n",
       "19000                       22                        4                     7   \n",
       "\n",
       "                datebirth remotework  \n",
       "employeenumber                        \n",
       "1620                 1972        Yes  \n",
       "2590                 1971        Yes  \n",
       "3190                 1981        Yes  \n",
       "20681                1976         No  \n",
       "19000                1975        Yes  "
      ]
     },
     "execution_count": 185,
     "metadata": {},
     "output_type": "execute_result"
    }
   ],
   "source": [
    "df.head()"
   ]
  },
  {
   "cell_type": "code",
   "execution_count": 186,
   "metadata": {},
   "outputs": [
    {
     "data": {
      "text/plain": [
       "Index(['age', 'attrition', 'businesstravel', 'dailyrate', 'distancefromhome',\n",
       "       'education', 'educationfield', 'environmentsatisfaction', 'gender',\n",
       "       'hourlyrate', 'jobinvolvement', 'joblevel', 'jobrole',\n",
       "       'jobsatisfaction', 'maritalstatus', 'monthlyincome', 'monthlyrate',\n",
       "       'numcompaniesworked', 'overtime', 'percentsalaryhike',\n",
       "       'performancerating', 'relationshipsatisfaction', 'stockoptionlevel',\n",
       "       'totalworkingyears', 'trainingtimeslastyear', 'worklifebalance',\n",
       "       'yearsatcompany', 'yearssincelastpromotion', 'yearswithcurrmanager',\n",
       "       'datebirth', 'remotework'],\n",
       "      dtype='object')"
      ]
     },
     "execution_count": 186,
     "metadata": {},
     "output_type": "execute_result"
    }
   ],
   "source": [
    "df.columns"
   ]
  },
  {
   "cell_type": "code",
   "execution_count": 187,
   "metadata": {},
   "outputs": [],
   "source": [
    "def categorizar_grupos(numero):\n",
    "    if numero >= 3:\n",
    "        return \"grupo A\"\n",
    "    else:\n",
    "        return \"grupo B\"\n",
    "    \n",
    "\n",
    "df[\"gruposatisfaccion\"]= df[\"jobsatisfaction\"].apply(categorizar_grupos)"
   ]
  },
  {
   "cell_type": "code",
   "execution_count": 188,
   "metadata": {},
   "outputs": [
    {
     "data": {
      "text/plain": [
       "Index(['age', 'attrition', 'businesstravel', 'dailyrate', 'distancefromhome',\n",
       "       'education', 'educationfield', 'environmentsatisfaction', 'gender',\n",
       "       'hourlyrate', 'jobinvolvement', 'joblevel', 'jobrole',\n",
       "       'jobsatisfaction', 'maritalstatus', 'monthlyincome', 'monthlyrate',\n",
       "       'numcompaniesworked', 'overtime', 'percentsalaryhike',\n",
       "       'performancerating', 'relationshipsatisfaction', 'stockoptionlevel',\n",
       "       'totalworkingyears', 'trainingtimeslastyear', 'worklifebalance',\n",
       "       'yearsatcompany', 'yearssincelastpromotion', 'yearswithcurrmanager',\n",
       "       'datebirth', 'remotework', 'gruposatisfaccion'],\n",
       "      dtype='object')"
      ]
     },
     "execution_count": 188,
     "metadata": {},
     "output_type": "execute_result"
    }
   ],
   "source": [
    "df.columns"
   ]
  },
  {
   "cell_type": "code",
   "execution_count": 189,
   "metadata": {},
   "outputs": [
    {
     "data": {
      "text/plain": [
       "Index(['age', 'attrition', 'businesstravel', 'dailyrate', 'distancefromhome',\n",
       "       'education', 'educationfield', 'environmentsatisfaction', 'gender',\n",
       "       'hourlyrate', 'jobinvolvement', 'joblevel', 'jobrole',\n",
       "       'jobsatisfaction', 'maritalstatus', 'monthlyincome', 'monthlyrate',\n",
       "       'numcompaniesworked', 'overtime', 'percentsalaryhike',\n",
       "       'performancerating', 'relationshipsatisfaction', 'stockoptionlevel',\n",
       "       'totalworkingyears', 'trainingtimeslastyear', 'worklifebalance',\n",
       "       'yearsatcompany', 'yearssincelastpromotion', 'yearswithcurrmanager',\n",
       "       'datebirth', 'remotework', 'gruposatisfaccion'],\n",
       "      dtype='object')"
      ]
     },
     "execution_count": 189,
     "metadata": {},
     "output_type": "execute_result"
    }
   ],
   "source": [
    "df.columns"
   ]
  },
  {
   "cell_type": "code",
   "execution_count": 190,
   "metadata": {},
   "outputs": [],
   "source": [
    "def asignar_grupos(valor):\n",
    "    if valor >= 3:\n",
    "        return \"Group A\"\n",
    "    else:\n",
    "        return \"Group B\"\n",
    "\n",
    "df['jobsatisfaction2'] = df['jobsatisfaction'].map(asignar_grupos)\n",
    "df['environmentsatisfaction2'] = df['environmentsatisfaction'].map(asignar_grupos)\n",
    "df['worklifebalance2'] = df['worklifebalance'].map(asignar_grupos)\n",
    "\n"
   ]
  },
  {
   "cell_type": "code",
   "execution_count": 191,
   "metadata": {},
   "outputs": [
    {
     "data": {
      "text/plain": [
       "Index(['age', 'attrition', 'businesstravel', 'dailyrate', 'distancefromhome',\n",
       "       'education', 'educationfield', 'environmentsatisfaction', 'gender',\n",
       "       'hourlyrate', 'jobinvolvement', 'joblevel', 'jobrole',\n",
       "       'jobsatisfaction', 'maritalstatus', 'monthlyincome', 'monthlyrate',\n",
       "       'numcompaniesworked', 'overtime', 'percentsalaryhike',\n",
       "       'performancerating', 'relationshipsatisfaction', 'stockoptionlevel',\n",
       "       'totalworkingyears', 'trainingtimeslastyear', 'worklifebalance',\n",
       "       'yearsatcompany', 'yearssincelastpromotion', 'yearswithcurrmanager',\n",
       "       'datebirth', 'remotework', 'gruposatisfaccion', 'jobsatisfaction2',\n",
       "       'environmentsatisfaction2', 'worklifebalance2'],\n",
       "      dtype='object')"
      ]
     },
     "execution_count": 191,
     "metadata": {},
     "output_type": "execute_result"
    }
   ],
   "source": [
    "df.columns"
   ]
  },
  {
   "cell_type": "code",
   "execution_count": 192,
   "metadata": {},
   "outputs": [
    {
     "data": {
      "text/plain": [
       "attrition\n",
       "No     903\n",
       "Yes    177\n",
       "Name: count, dtype: int64"
      ]
     },
     "execution_count": 192,
     "metadata": {},
     "output_type": "execute_result"
    }
   ],
   "source": [
    "df['attrition'].value_counts()"
   ]
  },
  {
   "cell_type": "code",
   "execution_count": 193,
   "metadata": {},
   "outputs": [
    {
     "name": "stdout",
     "output_type": "stream",
     "text": [
      "16.38888888888889 83.61111111111111\n"
     ]
    }
   ],
   "source": [
    "porcentaje_Y = (df['attrition'].value_counts(normalize=True) * 100)['Yes']\n",
    "porcentaje_N = (df['attrition'].value_counts(normalize=True) * 100)['No']\n",
    "print(porcentaje_Y, porcentaje_N)"
   ]
  },
  {
   "cell_type": "code",
   "execution_count": 194,
   "metadata": {},
   "outputs": [
    {
     "name": "stdout",
     "output_type": "stream",
     "text": [
      "         jobsatisfaction2  worklifebalance2  environmentsatisfaction2\n",
      "Group A         14.135338         15.395284                 13.970588\n",
      "Group B         20.000000         18.384401                 20.500000\n"
     ]
    }
   ],
   "source": [
    "\n",
    "def porcentaje_ido(df, columnas):\n",
    "    resultados = {}\n",
    "    for columna in columnas:\n",
    "        empleados_por_grupo = df.groupby(columna).size()\n",
    "        empleados_idos_por_grupo = df[df['attrition'] == 'Yes'].groupby(columna).size()\n",
    "        tasa_rotacion_por_grupo = (empleados_idos_por_grupo / empleados_por_grupo) * 100\n",
    "        \n",
    "        # Reemplazar NaN con 0 para grupos sin empleados que se han ido\n",
    "        tasa_rotacion_por_grupo = tasa_rotacion_por_grupo.fillna(0)\n",
    "        \n",
    "        resultados[columna] = tasa_rotacion_por_grupo\n",
    "    \n",
    "    return pd.DataFrame(resultados)\n",
    "\n",
    "# Calculamos la tasa de rotación\n",
    "columnas = ['jobsatisfaction2', 'worklifebalance2', 'environmentsatisfaction2']\n",
    "resultado_tasa_rotacion = porcentaje_ido(df, columnas)\n",
    "print(resultado_tasa_rotacion)\n"
   ]
  },
  {
   "cell_type": "markdown",
   "metadata": {},
   "source": [
    "H0 - Hipótesis nula: No existe una relación entre el nivel de satisfacción en el trabajo y la rotación de empleados en la empresa. Se sospecha que los empleados con niveles de satisfacción más bajos no tienen una mayor probabilidad de dejar la empresa\n",
    "\n",
    "H1 - Hipótesis alternativa : Existe una relación entre el nivel de satisfacción en el trabajo y la rotación de empleados en la empresa. Se sospecha que los empleados con niveles de satisfacción más bajos tienen una mayor probabilidad de dejar la empresa"
   ]
  },
  {
   "cell_type": "code",
   "execution_count": 195,
   "metadata": {},
   "outputs": [],
   "source": [
    "def normalidad(dataframe, columna):\n",
    "    statistic, p_value = stats.shapiro(dataframe[columna])\n",
    "    if p_value > 0.05:\n",
    "        print(f\"Para la columna {columna} los datos siguen una distribución normal.\")\n",
    "    else:\n",
    "        print(f\"Para la columna {columna} los datos no siguen una distribución normal.\")"
   ]
  },
  {
   "cell_type": "code",
   "execution_count": 196,
   "metadata": {},
   "outputs": [],
   "source": [
    "# Convertir Y = 1 y N = 0\n",
    "df['attrition'] = df['attrition'].map({'Y': 1, 'N': 0})"
   ]
  },
  {
   "cell_type": "code",
   "execution_count": 197,
   "metadata": {},
   "outputs": [
    {
     "name": "stdout",
     "output_type": "stream",
     "text": [
      "Para la columna attrition los datos no siguen una distribución normal.\n"
     ]
    }
   ],
   "source": [
    "metricas = ['attrition']\n",
    "\n",
    "for metrica in metricas:\n",
    "    normalidad(df ,metrica)"
   ]
  },
  {
   "cell_type": "code",
   "execution_count": 198,
   "metadata": {},
   "outputs": [],
   "source": [
    "def homogeneidad (dataframe, columna, columna_metrica):\n",
    "     \n",
    "    # lo primero que tenemos que hacer es crear tantos conjuntos de datos para cada una de las categorías que tenemos, Control Campaign y Test Campaign\n",
    "    valores_evaluar = []\n",
    "    \n",
    "    for valor in dataframe[columna].unique():\n",
    "        valores_evaluar.append(dataframe[dataframe[columna]== valor][columna_metrica])\n",
    "\n",
    "    statistic, p_value = stats.levene(*valores_evaluar)\n",
    "    if p_value > 0.05:\n",
    "        print(f\"Para la métrica {columna_metrica} las varianzas son homogéneas entre grupos.\")\n",
    "    else:\n",
    "        print(f\"Para la métrica {columna_metrica}, las varianzas no son homogéneas entre grupos.\")"
   ]
  },
  {
   "cell_type": "code",
   "execution_count": 199,
   "metadata": {},
   "outputs": [
    {
     "name": "stdout",
     "output_type": "stream",
     "text": [
      "Para la métrica attrition, las varianzas no son homogéneas entre grupos.\n"
     ]
    }
   ],
   "source": [
    "metricas = ['attrition']\n",
    "\n",
    "for metrica in metricas:\n",
    "    homogeneidad(df ,\"jobsatisfaction2\", metrica)"
   ]
  },
  {
   "cell_type": "code",
   "execution_count": 200,
   "metadata": {},
   "outputs": [],
   "source": [
    "#¡Rechazamos la hipótesis nula! Es decir Existe una relación entre el nivel de satisfacción en el trabajo y la rotación de empleados en la empresa. Se sospecha que los empleados con niveles de satisfacción más bajos tienen una mayor probabilidad de dejar la empres"
   ]
  }
 ],
 "metadata": {
  "kernelspec": {
   "display_name": "Python 3",
   "language": "python",
   "name": "python3"
  },
  "language_info": {
   "codemirror_mode": {
    "name": "ipython",
    "version": 3
   },
   "file_extension": ".py",
   "mimetype": "text/x-python",
   "name": "python",
   "nbconvert_exporter": "python",
   "pygments_lexer": "ipython3",
   "version": "3.12.3"
  }
 },
 "nbformat": 4,
 "nbformat_minor": 2
}
