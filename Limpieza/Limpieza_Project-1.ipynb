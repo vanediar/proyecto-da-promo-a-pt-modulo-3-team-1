{
 "cells": [
  {
   "cell_type": "code",
   "execution_count": 4,
   "metadata": {},
   "outputs": [],
   "source": [
    "import numpy as np\n",
    "import pandas as pd\n",
    "\n",
    "# Configuración\n",
    "# -----------------------------------------------------------------------\n",
    "pd.set_option('display.max_columns', None) # para poder visualizar todas las columnas de los DataFrames"
   ]
  },
  {
   "cell_type": "markdown",
   "metadata": {},
   "source": [
    "# Punto --> Exploración de los datos! ✅"
   ]
  },
  {
   "cell_type": "code",
   "execution_count": 5,
   "metadata": {},
   "outputs": [
    {
     "data": {
      "text/html": [
       "<div>\n",
       "<style scoped>\n",
       "    .dataframe tbody tr th:only-of-type {\n",
       "        vertical-align: middle;\n",
       "    }\n",
       "\n",
       "    .dataframe tbody tr th {\n",
       "        vertical-align: top;\n",
       "    }\n",
       "\n",
       "    .dataframe thead th {\n",
       "        text-align: right;\n",
       "    }\n",
       "</style>\n",
       "<table border=\"1\" class=\"dataframe\">\n",
       "  <thead>\n",
       "    <tr style=\"text-align: right;\">\n",
       "      <th></th>\n",
       "      <th>age</th>\n",
       "      <th>attrition</th>\n",
       "      <th>businesstravel</th>\n",
       "      <th>dailyrate</th>\n",
       "      <th>department</th>\n",
       "      <th>distancefromhome</th>\n",
       "      <th>education</th>\n",
       "      <th>educationfield</th>\n",
       "      <th>employeenumber</th>\n",
       "      <th>environmentsatisfaction</th>\n",
       "      <th>gender</th>\n",
       "      <th>hourlyrate</th>\n",
       "      <th>jobinvolvement</th>\n",
       "      <th>joblevel</th>\n",
       "      <th>jobrole</th>\n",
       "      <th>jobsatisfaction</th>\n",
       "      <th>maritalstatus</th>\n",
       "      <th>monthlyincome</th>\n",
       "      <th>monthlyrate</th>\n",
       "      <th>numcompaniesworked</th>\n",
       "      <th>overtime</th>\n",
       "      <th>percentsalaryhike</th>\n",
       "      <th>performancerating</th>\n",
       "      <th>relationshipsatisfaction</th>\n",
       "      <th>stockoptionlevel</th>\n",
       "      <th>totalworkingyears</th>\n",
       "      <th>trainingtimeslastyear</th>\n",
       "      <th>worklifebalance</th>\n",
       "      <th>yearsatcompany</th>\n",
       "      <th>yearsincurrentrole</th>\n",
       "      <th>yearssincelastpromotion</th>\n",
       "      <th>yearswithcurrmanager</th>\n",
       "      <th>sameasmonthlyincome</th>\n",
       "      <th>datebirth</th>\n",
       "      <th>roledepartament</th>\n",
       "      <th>remotework</th>\n",
       "    </tr>\n",
       "    <tr>\n",
       "      <th>unnamed: 0</th>\n",
       "      <th></th>\n",
       "      <th></th>\n",
       "      <th></th>\n",
       "      <th></th>\n",
       "      <th></th>\n",
       "      <th></th>\n",
       "      <th></th>\n",
       "      <th></th>\n",
       "      <th></th>\n",
       "      <th></th>\n",
       "      <th></th>\n",
       "      <th></th>\n",
       "      <th></th>\n",
       "      <th></th>\n",
       "      <th></th>\n",
       "      <th></th>\n",
       "      <th></th>\n",
       "      <th></th>\n",
       "      <th></th>\n",
       "      <th></th>\n",
       "      <th></th>\n",
       "      <th></th>\n",
       "      <th></th>\n",
       "      <th></th>\n",
       "      <th></th>\n",
       "      <th></th>\n",
       "      <th></th>\n",
       "      <th></th>\n",
       "      <th></th>\n",
       "      <th></th>\n",
       "      <th></th>\n",
       "      <th></th>\n",
       "      <th></th>\n",
       "      <th></th>\n",
       "      <th></th>\n",
       "      <th></th>\n",
       "    </tr>\n",
       "  </thead>\n",
       "  <tbody>\n",
       "    <tr>\n",
       "      <th>0</th>\n",
       "      <td>51</td>\n",
       "      <td>No</td>\n",
       "      <td>NaN</td>\n",
       "      <td>684.0</td>\n",
       "      <td>NaN</td>\n",
       "      <td>6</td>\n",
       "      <td>3</td>\n",
       "      <td>NaN</td>\n",
       "      <td>162,0</td>\n",
       "      <td>1</td>\n",
       "      <td>Male</td>\n",
       "      <td>51</td>\n",
       "      <td>3</td>\n",
       "      <td>5</td>\n",
       "      <td>research director</td>\n",
       "      <td>3</td>\n",
       "      <td>NaN</td>\n",
       "      <td>19537,0</td>\n",
       "      <td>6462</td>\n",
       "      <td>7</td>\n",
       "      <td>No</td>\n",
       "      <td>13</td>\n",
       "      <td>3,0</td>\n",
       "      <td>3</td>\n",
       "      <td>0</td>\n",
       "      <td>NaN</td>\n",
       "      <td>5</td>\n",
       "      <td>3,0</td>\n",
       "      <td>20</td>\n",
       "      <td>NaN</td>\n",
       "      <td>15</td>\n",
       "      <td>15</td>\n",
       "      <td>19537,0</td>\n",
       "      <td>1972</td>\n",
       "      <td>NaN</td>\n",
       "      <td>Yes</td>\n",
       "    </tr>\n",
       "    <tr>\n",
       "      <th>1</th>\n",
       "      <td>52</td>\n",
       "      <td>No</td>\n",
       "      <td>NaN</td>\n",
       "      <td>699.0</td>\n",
       "      <td>NaN</td>\n",
       "      <td>1</td>\n",
       "      <td>4</td>\n",
       "      <td>life sciences</td>\n",
       "      <td>259,0</td>\n",
       "      <td>3</td>\n",
       "      <td>Male</td>\n",
       "      <td>65</td>\n",
       "      <td>2</td>\n",
       "      <td>5</td>\n",
       "      <td>manager</td>\n",
       "      <td>3</td>\n",
       "      <td>NaN</td>\n",
       "      <td>19999,0</td>\n",
       "      <td>5678</td>\n",
       "      <td>0</td>\n",
       "      <td>NaN</td>\n",
       "      <td>14</td>\n",
       "      <td>3,0</td>\n",
       "      <td>1</td>\n",
       "      <td>1</td>\n",
       "      <td>34,0</td>\n",
       "      <td>5</td>\n",
       "      <td>3,0</td>\n",
       "      <td>33</td>\n",
       "      <td>NaN</td>\n",
       "      <td>11</td>\n",
       "      <td>9</td>\n",
       "      <td>19999,0</td>\n",
       "      <td>1971</td>\n",
       "      <td>NaN</td>\n",
       "      <td>1</td>\n",
       "    </tr>\n",
       "    <tr>\n",
       "      <th>2</th>\n",
       "      <td>42</td>\n",
       "      <td>No</td>\n",
       "      <td>travel rarely</td>\n",
       "      <td>532.0</td>\n",
       "      <td>research &amp; development</td>\n",
       "      <td>4</td>\n",
       "      <td>2</td>\n",
       "      <td>technical degree</td>\n",
       "      <td>319,0</td>\n",
       "      <td>3</td>\n",
       "      <td>Male</td>\n",
       "      <td>58</td>\n",
       "      <td>3</td>\n",
       "      <td>5</td>\n",
       "      <td>manager</td>\n",
       "      <td>4</td>\n",
       "      <td>Married</td>\n",
       "      <td>19232,0</td>\n",
       "      <td>4933</td>\n",
       "      <td>1</td>\n",
       "      <td>No</td>\n",
       "      <td>11</td>\n",
       "      <td>3,0</td>\n",
       "      <td>4</td>\n",
       "      <td>0</td>\n",
       "      <td>22,0</td>\n",
       "      <td>3</td>\n",
       "      <td>NaN</td>\n",
       "      <td>22</td>\n",
       "      <td>NaN</td>\n",
       "      <td>11</td>\n",
       "      <td>15</td>\n",
       "      <td>19232,0</td>\n",
       "      <td>1981</td>\n",
       "      <td>manager  -  research &amp; development</td>\n",
       "      <td>1</td>\n",
       "    </tr>\n",
       "    <tr>\n",
       "      <th>3</th>\n",
       "      <td>47</td>\n",
       "      <td>No</td>\n",
       "      <td>travel rarely</td>\n",
       "      <td>359.0</td>\n",
       "      <td>NaN</td>\n",
       "      <td>2</td>\n",
       "      <td>4</td>\n",
       "      <td>medical</td>\n",
       "      <td>NaN</td>\n",
       "      <td>1</td>\n",
       "      <td>Female</td>\n",
       "      <td>82</td>\n",
       "      <td>3</td>\n",
       "      <td>4</td>\n",
       "      <td>research director</td>\n",
       "      <td>3</td>\n",
       "      <td>Married</td>\n",
       "      <td>17169,0</td>\n",
       "      <td>26703</td>\n",
       "      <td>3</td>\n",
       "      <td>NaN</td>\n",
       "      <td>19</td>\n",
       "      <td>3,0</td>\n",
       "      <td>2</td>\n",
       "      <td>2</td>\n",
       "      <td>NaN</td>\n",
       "      <td>2</td>\n",
       "      <td>NaN</td>\n",
       "      <td>20</td>\n",
       "      <td>NaN</td>\n",
       "      <td>5</td>\n",
       "      <td>6</td>\n",
       "      <td>17169,0</td>\n",
       "      <td>1976</td>\n",
       "      <td>NaN</td>\n",
       "      <td>False</td>\n",
       "    </tr>\n",
       "    <tr>\n",
       "      <th>4</th>\n",
       "      <td>46</td>\n",
       "      <td>No</td>\n",
       "      <td>NaN</td>\n",
       "      <td>1319.0</td>\n",
       "      <td>NaN</td>\n",
       "      <td>3</td>\n",
       "      <td>3</td>\n",
       "      <td>technical degree</td>\n",
       "      <td>NaN</td>\n",
       "      <td>1</td>\n",
       "      <td>Female</td>\n",
       "      <td>45</td>\n",
       "      <td>4</td>\n",
       "      <td>4</td>\n",
       "      <td>sales executive</td>\n",
       "      <td>1</td>\n",
       "      <td>Divorced</td>\n",
       "      <td>NaN</td>\n",
       "      <td>7739</td>\n",
       "      <td>2</td>\n",
       "      <td>No</td>\n",
       "      <td>12</td>\n",
       "      <td>3,0</td>\n",
       "      <td>4</td>\n",
       "      <td>1</td>\n",
       "      <td>NaN</td>\n",
       "      <td>5</td>\n",
       "      <td>3,0</td>\n",
       "      <td>19</td>\n",
       "      <td>NaN</td>\n",
       "      <td>2</td>\n",
       "      <td>8</td>\n",
       "      <td>NaN</td>\n",
       "      <td>1977</td>\n",
       "      <td>NaN</td>\n",
       "      <td>0</td>\n",
       "    </tr>\n",
       "  </tbody>\n",
       "</table>\n",
       "</div>"
      ],
      "text/plain": [
       "            age attrition businesstravel  dailyrate                department  \\\n",
       "unnamed: 0                                                                      \n",
       "0            51        No            NaN      684.0                       NaN   \n",
       "1            52        No            NaN      699.0                       NaN   \n",
       "2            42        No  travel rarely      532.0   research & development    \n",
       "3            47        No  travel rarely      359.0                       NaN   \n",
       "4            46        No            NaN     1319.0                       NaN   \n",
       "\n",
       "            distancefromhome  education    educationfield employeenumber  \\\n",
       "unnamed: 0                                                                 \n",
       "0                          6          3               NaN          162,0   \n",
       "1                          1          4     life sciences          259,0   \n",
       "2                          4          2  technical degree          319,0   \n",
       "3                          2          4           medical            NaN   \n",
       "4                          3          3  technical degree            NaN   \n",
       "\n",
       "            environmentsatisfaction  gender hourlyrate  jobinvolvement  \\\n",
       "unnamed: 0                                                               \n",
       "0                                 1    Male         51               3   \n",
       "1                                 3    Male         65               2   \n",
       "2                                 3    Male         58               3   \n",
       "3                                 1  Female         82               3   \n",
       "4                                 1  Female         45               4   \n",
       "\n",
       "            joblevel              jobrole  jobsatisfaction maritalstatus  \\\n",
       "unnamed: 0                                                                 \n",
       "0                  5   research director                 3           NaN   \n",
       "1                  5             manager                 3           NaN   \n",
       "2                  5             manager                 4       Married   \n",
       "3                  4   research director                 3       Married   \n",
       "4                  4     sales executive                 1      Divorced   \n",
       "\n",
       "           monthlyincome  monthlyrate  numcompaniesworked overtime  \\\n",
       "unnamed: 0                                                           \n",
       "0                19537,0         6462                   7       No   \n",
       "1                19999,0         5678                   0      NaN   \n",
       "2                19232,0         4933                   1       No   \n",
       "3                17169,0        26703                   3      NaN   \n",
       "4                    NaN         7739                   2       No   \n",
       "\n",
       "            percentsalaryhike performancerating  relationshipsatisfaction  \\\n",
       "unnamed: 0                                                                  \n",
       "0                          13               3,0                         3   \n",
       "1                          14               3,0                         1   \n",
       "2                          11               3,0                         4   \n",
       "3                          19               3,0                         2   \n",
       "4                          12               3,0                         4   \n",
       "\n",
       "            stockoptionlevel totalworkingyears  trainingtimeslastyear  \\\n",
       "unnamed: 0                                                              \n",
       "0                          0               NaN                      5   \n",
       "1                          1              34,0                      5   \n",
       "2                          0              22,0                      3   \n",
       "3                          2               NaN                      2   \n",
       "4                          1               NaN                      5   \n",
       "\n",
       "           worklifebalance  yearsatcompany yearsincurrentrole  \\\n",
       "unnamed: 0                                                      \n",
       "0                      3,0              20                NaN   \n",
       "1                      3,0              33                NaN   \n",
       "2                      NaN              22                NaN   \n",
       "3                      NaN              20                NaN   \n",
       "4                      3,0              19                NaN   \n",
       "\n",
       "            yearssincelastpromotion  yearswithcurrmanager sameasmonthlyincome  \\\n",
       "unnamed: 0                                                                      \n",
       "0                                15                    15             19537,0   \n",
       "1                                11                     9             19999,0   \n",
       "2                                11                    15             19232,0   \n",
       "3                                 5                     6             17169,0   \n",
       "4                                 2                     8                 NaN   \n",
       "\n",
       "            datebirth                       roledepartament remotework  \n",
       "unnamed: 0                                                              \n",
       "0                1972                                   NaN        Yes  \n",
       "1                1971                                   NaN          1  \n",
       "2                1981   manager  -  research & development           1  \n",
       "3                1976                                   NaN      False  \n",
       "4                1977                                   NaN          0  "
      ]
     },
     "execution_count": 5,
     "metadata": {},
     "output_type": "execute_result"
    }
   ],
   "source": [
    "df = pd.read_csv('df_limpio.csv', index_col= 0)\n",
    "df.head()"
   ]
  },
  {
   "cell_type": "code",
   "execution_count": 8,
   "metadata": {},
   "outputs": [
    {
     "name": "stdout",
     "output_type": "stream",
     "text": [
      "<class 'pandas.core.frame.DataFrame'>\n",
      "Index: 1614 entries, 0 to 1613\n",
      "Data columns (total 36 columns):\n",
      " #   Column                    Non-Null Count  Dtype  \n",
      "---  ------                    --------------  -----  \n",
      " 0   age                       1614 non-null   int64  \n",
      " 1   attrition                 1614 non-null   object \n",
      " 2   businesstravel            842 non-null    object \n",
      " 3   dailyrate                 1490 non-null   float64\n",
      " 4   department                302 non-null    object \n",
      " 5   distancefromhome          1614 non-null   int64  \n",
      " 6   education                 1614 non-null   int64  \n",
      " 7   educationfield            869 non-null    object \n",
      " 8   employeenumber            1183 non-null   object \n",
      " 9   environmentsatisfaction   1614 non-null   int64  \n",
      " 10  gender                    1614 non-null   object \n",
      " 11  hourlyrate                1614 non-null   object \n",
      " 12  jobinvolvement            1614 non-null   int64  \n",
      " 13  joblevel                  1614 non-null   int64  \n",
      " 14  jobrole                   1614 non-null   object \n",
      " 15  jobsatisfaction           1614 non-null   int64  \n",
      " 16  maritalstatus             963 non-null    object \n",
      " 17  monthlyincome             771 non-null    object \n",
      " 18  monthlyrate               1614 non-null   int64  \n",
      " 19  numcompaniesworked        1614 non-null   int64  \n",
      " 20  overtime                  938 non-null    object \n",
      " 21  percentsalaryhike         1614 non-null   int64  \n",
      " 22  performancerating         1419 non-null   object \n",
      " 23  relationshipsatisfaction  1614 non-null   int64  \n",
      " 24  stockoptionlevel          1614 non-null   int64  \n",
      " 25  totalworkingyears         1088 non-null   object \n",
      " 26  trainingtimeslastyear     1614 non-null   int64  \n",
      " 27  worklifebalance           1506 non-null   object \n",
      " 28  yearsatcompany            1614 non-null   int64  \n",
      " 29  yearsincurrentrole        34 non-null     object \n",
      " 30  yearssincelastpromotion   1614 non-null   int64  \n",
      " 31  yearswithcurrmanager      1614 non-null   int64  \n",
      " 32  sameasmonthlyincome       771 non-null    object \n",
      " 33  datebirth                 1614 non-null   int64  \n",
      " 34  roledepartament           302 non-null    object \n",
      " 35  remotework                1614 non-null   object \n",
      "dtypes: float64(1), int64(17), object(18)\n",
      "memory usage: 466.5+ KB\n"
     ]
    }
   ],
   "source": [
    "df.info()"
   ]
  },
  {
   "cell_type": "code",
   "execution_count": 4,
   "metadata": {},
   "outputs": [
    {
     "data": {
      "text/plain": [
       "Index(['Unnamed: 0', 'Age', 'Attrition', 'BusinessTravel', 'DailyRate',\n",
       "       'Department', 'DistanceFromHome', 'Education', 'EducationField',\n",
       "       'employeecount', 'employeenumber', 'EnvironmentSatisfaction', 'Gender',\n",
       "       'HourlyRate', 'JobInvolvement', 'JobLevel', 'JobRole',\n",
       "       'JobSatisfaction', 'MaritalStatus', 'MonthlyIncome', 'MonthlyRate',\n",
       "       'NUMCOMPANIESWORKED', 'Over18', 'OverTime', 'PercentSalaryHike',\n",
       "       'PerformanceRating', 'RelationshipSatisfaction', 'StandardHours',\n",
       "       'StockOptionLevel', 'TOTALWORKINGYEARS', 'TrainingTimesLastYear',\n",
       "       'WORKLIFEBALANCE', 'YearsAtCompany', 'YearsInCurrentRole',\n",
       "       'YearsSinceLastPromotion', 'YEARSWITHCURRMANAGER',\n",
       "       'SameAsMonthlyIncome', 'DateBirth', 'Salary', 'RoleDepartament',\n",
       "       'NUMBERCHILDREN', 'RemoteWork'],\n",
       "      dtype='object')"
      ]
     },
     "execution_count": 4,
     "metadata": {},
     "output_type": "execute_result"
    }
   ],
   "source": [
    "df.columns"
   ]
  },
  {
   "cell_type": "code",
   "execution_count": 5,
   "metadata": {},
   "outputs": [
    {
     "data": {
      "text/plain": [
       "Unnamed: 0                    int64\n",
       "Age                          object\n",
       "Attrition                    object\n",
       "BusinessTravel               object\n",
       "DailyRate                    object\n",
       "Department                   object\n",
       "DistanceFromHome              int64\n",
       "Education                     int64\n",
       "EducationField               object\n",
       "employeecount                 int64\n",
       "employeenumber               object\n",
       "EnvironmentSatisfaction       int64\n",
       "Gender                        int64\n",
       "HourlyRate                   object\n",
       "JobInvolvement                int64\n",
       "JobLevel                      int64\n",
       "JobRole                      object\n",
       "JobSatisfaction               int64\n",
       "MaritalStatus                object\n",
       "MonthlyIncome                object\n",
       "MonthlyRate                   int64\n",
       "NUMCOMPANIESWORKED            int64\n",
       "Over18                       object\n",
       "OverTime                     object\n",
       "PercentSalaryHike             int64\n",
       "PerformanceRating            object\n",
       "RelationshipSatisfaction      int64\n",
       "StandardHours                object\n",
       "StockOptionLevel              int64\n",
       "TOTALWORKINGYEARS            object\n",
       "TrainingTimesLastYear         int64\n",
       "WORKLIFEBALANCE              object\n",
       "YearsAtCompany                int64\n",
       "YearsInCurrentRole           object\n",
       "YearsSinceLastPromotion       int64\n",
       "YEARSWITHCURRMANAGER          int64\n",
       "SameAsMonthlyIncome          object\n",
       "DateBirth                     int64\n",
       "Salary                       object\n",
       "RoleDepartament              object\n",
       "NUMBERCHILDREN              float64\n",
       "RemoteWork                   object\n",
       "dtype: object"
      ]
     },
     "execution_count": 5,
     "metadata": {},
     "output_type": "execute_result"
    }
   ],
   "source": [
    "df.dtypes"
   ]
  },
  {
   "cell_type": "code",
   "execution_count": 6,
   "metadata": {},
   "outputs": [
    {
     "data": {
      "text/plain": [
       "Unnamed: 0                     0\n",
       "Age                            0\n",
       "Attrition                      0\n",
       "BusinessTravel               772\n",
       "DailyRate                      0\n",
       "Department                  1312\n",
       "DistanceFromHome               0\n",
       "Education                      0\n",
       "EducationField               745\n",
       "employeecount                  0\n",
       "employeenumber               431\n",
       "EnvironmentSatisfaction        0\n",
       "Gender                         0\n",
       "HourlyRate                     0\n",
       "JobInvolvement                 0\n",
       "JobLevel                       0\n",
       "JobRole                        0\n",
       "JobSatisfaction                0\n",
       "MaritalStatus                651\n",
       "MonthlyIncome                843\n",
       "MonthlyRate                    0\n",
       "NUMCOMPANIESWORKED             0\n",
       "Over18                       901\n",
       "OverTime                     676\n",
       "PercentSalaryHike              0\n",
       "PerformanceRating            195\n",
       "RelationshipSatisfaction       0\n",
       "StandardHours               1195\n",
       "StockOptionLevel               0\n",
       "TOTALWORKINGYEARS            526\n",
       "TrainingTimesLastYear          0\n",
       "WORKLIFEBALANCE              108\n",
       "YearsAtCompany                 0\n",
       "YearsInCurrentRole          1580\n",
       "YearsSinceLastPromotion        0\n",
       "YEARSWITHCURRMANAGER           0\n",
       "SameAsMonthlyIncome          843\n",
       "DateBirth                      0\n",
       "Salary                         0\n",
       "RoleDepartament             1312\n",
       "NUMBERCHILDREN              1614\n",
       "RemoteWork                     0\n",
       "dtype: int64"
      ]
     },
     "execution_count": 6,
     "metadata": {},
     "output_type": "execute_result"
    }
   ],
   "source": [
    "df.isnull().sum()"
   ]
  },
  {
   "cell_type": "code",
   "execution_count": 6,
   "metadata": {},
   "outputs": [
    {
     "data": {
      "text/plain": [
       "(1614, 36)"
      ]
     },
     "execution_count": 6,
     "metadata": {},
     "output_type": "execute_result"
    }
   ],
   "source": [
    "registro = df.shape\n",
    "registro"
   ]
  },
  {
   "cell_type": "code",
   "execution_count": 7,
   "metadata": {},
   "outputs": [
    {
     "data": {
      "text/plain": [
       "age                         0.000000\n",
       "attrition                   0.000000\n",
       "businesstravel              0.478315\n",
       "dailyrate                   0.076828\n",
       "department                  0.812887\n",
       "distancefromhome            0.000000\n",
       "education                   0.000000\n",
       "educationfield              0.461586\n",
       "employeenumber              0.267038\n",
       "environmentsatisfaction     0.000000\n",
       "gender                      0.000000\n",
       "hourlyrate                  0.000000\n",
       "jobinvolvement              0.000000\n",
       "joblevel                    0.000000\n",
       "jobrole                     0.000000\n",
       "jobsatisfaction             0.000000\n",
       "maritalstatus               0.403346\n",
       "monthlyincome               0.522305\n",
       "monthlyrate                 0.000000\n",
       "numcompaniesworked          0.000000\n",
       "overtime                    0.418835\n",
       "percentsalaryhike           0.000000\n",
       "performancerating           0.120818\n",
       "relationshipsatisfaction    0.000000\n",
       "stockoptionlevel            0.000000\n",
       "totalworkingyears           0.325898\n",
       "trainingtimeslastyear       0.000000\n",
       "worklifebalance             0.066914\n",
       "yearsatcompany              0.000000\n",
       "yearsincurrentrole          0.978934\n",
       "yearssincelastpromotion     0.000000\n",
       "yearswithcurrmanager        0.000000\n",
       "sameasmonthlyincome         0.522305\n",
       "datebirth                   0.000000\n",
       "roledepartament             0.812887\n",
       "remotework                  0.000000\n",
       "dtype: float64"
      ]
     },
     "execution_count": 7,
     "metadata": {},
     "output_type": "execute_result"
    }
   ],
   "source": [
    "df.isnull().sum()/registro[0]"
   ]
  },
  {
   "cell_type": "markdown",
   "metadata": {},
   "source": [
    "# Punto --> Revisión de cada columna y las recomendaciones de transformación"
   ]
  },
  {
   "cell_type": "code",
   "execution_count": null,
   "metadata": {},
   "outputs": [],
   "source": [
    " \n",
    "'Age' # Cambiar los años que estan en letras a números y volverlo todo int\n",
    "'Attrition' # OK\n",
    "'BusinessTravel' # revisar los NAN, Eliminarlos\n",
    "'DailyRate' # OK\n",
    "'Department' # revisar los NAN, Eliminarlos\n",
    "'DistanceFromHome' # Revisar porque son (-)negativos y otros (+)positivos \n",
    "'Education' # OK\n",
    "'EducationField' # Revisar los NAN\n",
    "'employeecount' # Ok \n",
    "'employeenumber' # duplicados\n",
    "\n",
    "'EnvironmentSatisfaction' # Ok \n",
    "'Gender' # Cambiar los valores, estan en 0 y 1 y hay que ponerlos M - F\n",
    "'HourlyRate' # OK\n",
    "'JobInvolvement' # OK\n",
    "'JobLevel' # OK\n",
    "'JobRole' # Cambiar palabras con minusculas y mayusculas \n",
    "'JobSatisfaction' # OK\n",
    "'MaritalStatus' # revisar los NAN\n",
    "'MonthlyIncome' # revisar los NAN\n",
    "'MonthlyRate' # OK\n",
    "\n",
    "'NUMCOMPANIESWORKED' # OK\n",
    "'Over18' # revisar los NAN\n",
    "'OverTime' # revisar los NAN\n",
    "'PercentSalaryHike' # OK\n",
    "'PerformanceRating' # revisar los NAN\n",
    "'RelationshipSatisfaction' # OK\n",
    "'StandardHours' # revisar los NAN\n",
    "'StockOptionLevel' # OK\n",
    "'TOTALWORKINGYEARS' # revisar los NAN\n",
    "'TrainingTimesLastYear' # OK\n",
    "\n",
    "'WORKLIFEBALANCE' # revisar los NAN\n",
    "'YearsAtCompany' # OK\n",
    "'YearsInCurrentRole' # revisar los NAN\n",
    "'YearsSinceLastPromotion' # OK\n",
    "'YEARSWITHCURRMANAGER' # OK\n",
    "'SameAsMonthlyIncome' # revisar los NAN\n",
    "'DateBirth' # OK\n",
    "'Salary' # OK\n",
    "'RoleDepartament' # revisar los NAN, y las mayus y minusculas tambien porque losnombre se repiten \n",
    "'NUMBERCHILDREN' # revisar los NAN\n",
    "'RemoteWork' #  Revisa los False y los Trues porque solo hay SI"
   ]
  },
  {
   "cell_type": "markdown",
   "metadata": {},
   "source": [
    "# Eliminar columnas 👌🏼 ✅\n",
    "\n",
    "- `employeecount` # Porque siempre es el mismo valor y es un contador de los empleados\n",
    "- `Over18` # Porque ya tenemos la edad y tiene muchos valores perdidos\n",
    "- `StandardHours` # Porque todos tienen el mismo valor que es 80 y ademas tienen muchos valores perdidos\n",
    "- `Salary` # Porque es igual a 10000000$ en todos los valores del dataframe\n",
    "- `NUMBERCHILDREN` # Porque no tiene ningun valor y es todo con valores missing."
   ]
  },
  {
   "cell_type": "code",
   "execution_count": 7,
   "metadata": {},
   "outputs": [],
   "source": [
    "df.drop([\"employeecount\", \"Over18\", \"StandardHours\", \"Salary\", \"NUMBERCHILDREN\"], axis=1, inplace=True )"
   ]
  },
  {
   "cell_type": "code",
   "execution_count": 9,
   "metadata": {},
   "outputs": [
    {
     "data": {
      "text/plain": [
       "(1614, 37)"
      ]
     },
     "execution_count": 9,
     "metadata": {},
     "output_type": "execute_result"
    }
   ],
   "source": [
    "df.shape"
   ]
  },
  {
   "cell_type": "markdown",
   "metadata": {},
   "source": [
    "----------"
   ]
  },
  {
   "cell_type": "code",
   "execution_count": 259,
   "metadata": {},
   "outputs": [
    {
     "data": {
      "text/plain": [
       "(1614, 37)"
      ]
     },
     "execution_count": 259,
     "metadata": {},
     "output_type": "execute_result"
    }
   ],
   "source": [
    "df.shape"
   ]
  },
  {
   "cell_type": "markdown",
   "metadata": {},
   "source": [
    "### `Homogeneizamos el nombre de las columnas a minúsculas` ✅"
   ]
  },
  {
   "cell_type": "code",
   "execution_count": 11,
   "metadata": {},
   "outputs": [
    {
     "data": {
      "text/plain": [
       "{'Unnamed: 0': 'unnamed: 0',\n",
       " 'Age': 'age',\n",
       " 'Attrition': 'attrition',\n",
       " 'BusinessTravel': 'businesstravel',\n",
       " 'DailyRate': 'dailyrate',\n",
       " 'Department': 'department',\n",
       " 'DistanceFromHome': 'distancefromhome',\n",
       " 'Education': 'education',\n",
       " 'EducationField': 'educationfield',\n",
       " 'employeenumber': 'employeenumber',\n",
       " 'EnvironmentSatisfaction': 'environmentsatisfaction',\n",
       " 'Gender': 'gender',\n",
       " 'HourlyRate': 'hourlyrate',\n",
       " 'JobInvolvement': 'jobinvolvement',\n",
       " 'JobLevel': 'joblevel',\n",
       " 'JobRole': 'jobrole',\n",
       " 'JobSatisfaction': 'jobsatisfaction',\n",
       " 'MaritalStatus': 'maritalstatus',\n",
       " 'MonthlyIncome': 'monthlyincome',\n",
       " 'MonthlyRate': 'monthlyrate',\n",
       " 'NUMCOMPANIESWORKED': 'numcompaniesworked',\n",
       " 'OverTime': 'overtime',\n",
       " 'PercentSalaryHike': 'percentsalaryhike',\n",
       " 'PerformanceRating': 'performancerating',\n",
       " 'RelationshipSatisfaction': 'relationshipsatisfaction',\n",
       " 'StockOptionLevel': 'stockoptionlevel',\n",
       " 'TOTALWORKINGYEARS': 'totalworkingyears',\n",
       " 'TrainingTimesLastYear': 'trainingtimeslastyear',\n",
       " 'WORKLIFEBALANCE': 'worklifebalance',\n",
       " 'YearsAtCompany': 'yearsatcompany',\n",
       " 'YearsInCurrentRole': 'yearsincurrentrole',\n",
       " 'YearsSinceLastPromotion': 'yearssincelastpromotion',\n",
       " 'YEARSWITHCURRMANAGER': 'yearswithcurrmanager',\n",
       " 'SameAsMonthlyIncome': 'sameasmonthlyincome',\n",
       " 'DateBirth': 'datebirth',\n",
       " 'RoleDepartament': 'roledepartament',\n",
       " 'RemoteWork': 'remotework'}"
      ]
     },
     "execution_count": 11,
     "metadata": {},
     "output_type": "execute_result"
    }
   ],
   "source": [
    "# vamos a iterar por todas las columnas del DataFrame y a cada una de ellas la pondremos en minúsula y le aplicaremos un replace para quitar los puntos. \n",
    "nuevas_columnas = {columna: columna.lower() for columna in df.columns}\n",
    "\n",
    "# comprobamos que hemos creado el diccionario correctamente\n",
    "nuevas_columnas"
   ]
  },
  {
   "cell_type": "code",
   "execution_count": 12,
   "metadata": {},
   "outputs": [
    {
     "data": {
      "text/html": [
       "<div>\n",
       "<style scoped>\n",
       "    .dataframe tbody tr th:only-of-type {\n",
       "        vertical-align: middle;\n",
       "    }\n",
       "\n",
       "    .dataframe tbody tr th {\n",
       "        vertical-align: top;\n",
       "    }\n",
       "\n",
       "    .dataframe thead th {\n",
       "        text-align: right;\n",
       "    }\n",
       "</style>\n",
       "<table border=\"1\" class=\"dataframe\">\n",
       "  <thead>\n",
       "    <tr style=\"text-align: right;\">\n",
       "      <th></th>\n",
       "      <th>unnamed: 0</th>\n",
       "      <th>age</th>\n",
       "      <th>attrition</th>\n",
       "      <th>businesstravel</th>\n",
       "      <th>dailyrate</th>\n",
       "      <th>department</th>\n",
       "      <th>distancefromhome</th>\n",
       "      <th>education</th>\n",
       "      <th>educationfield</th>\n",
       "      <th>employeenumber</th>\n",
       "      <th>...</th>\n",
       "      <th>trainingtimeslastyear</th>\n",
       "      <th>worklifebalance</th>\n",
       "      <th>yearsatcompany</th>\n",
       "      <th>yearsincurrentrole</th>\n",
       "      <th>yearssincelastpromotion</th>\n",
       "      <th>yearswithcurrmanager</th>\n",
       "      <th>sameasmonthlyincome</th>\n",
       "      <th>datebirth</th>\n",
       "      <th>roledepartament</th>\n",
       "      <th>remotework</th>\n",
       "    </tr>\n",
       "  </thead>\n",
       "  <tbody>\n",
       "    <tr>\n",
       "      <th>0</th>\n",
       "      <td>0</td>\n",
       "      <td>51</td>\n",
       "      <td>No</td>\n",
       "      <td>NaN</td>\n",
       "      <td>684,0$</td>\n",
       "      <td>NaN</td>\n",
       "      <td>6</td>\n",
       "      <td>3</td>\n",
       "      <td>NaN</td>\n",
       "      <td>162,0</td>\n",
       "      <td>...</td>\n",
       "      <td>5</td>\n",
       "      <td>3,0</td>\n",
       "      <td>20</td>\n",
       "      <td>NaN</td>\n",
       "      <td>15</td>\n",
       "      <td>15</td>\n",
       "      <td>19537,0</td>\n",
       "      <td>1972</td>\n",
       "      <td>NaN</td>\n",
       "      <td>Yes</td>\n",
       "    </tr>\n",
       "    <tr>\n",
       "      <th>1</th>\n",
       "      <td>1</td>\n",
       "      <td>52</td>\n",
       "      <td>No</td>\n",
       "      <td>NaN</td>\n",
       "      <td>699,0$</td>\n",
       "      <td>NaN</td>\n",
       "      <td>1</td>\n",
       "      <td>4</td>\n",
       "      <td>Life Sciences</td>\n",
       "      <td>259,0</td>\n",
       "      <td>...</td>\n",
       "      <td>5</td>\n",
       "      <td>3,0</td>\n",
       "      <td>33</td>\n",
       "      <td>NaN</td>\n",
       "      <td>11</td>\n",
       "      <td>9</td>\n",
       "      <td>19999,0</td>\n",
       "      <td>1971</td>\n",
       "      <td>NaN</td>\n",
       "      <td>1</td>\n",
       "    </tr>\n",
       "    <tr>\n",
       "      <th>2</th>\n",
       "      <td>2</td>\n",
       "      <td>42</td>\n",
       "      <td>No</td>\n",
       "      <td>travel_rarely</td>\n",
       "      <td>532,0$</td>\n",
       "      <td>Research &amp; Development</td>\n",
       "      <td>4</td>\n",
       "      <td>2</td>\n",
       "      <td>Technical Degree</td>\n",
       "      <td>319,0</td>\n",
       "      <td>...</td>\n",
       "      <td>3</td>\n",
       "      <td>NaN</td>\n",
       "      <td>22</td>\n",
       "      <td>NaN</td>\n",
       "      <td>11</td>\n",
       "      <td>15</td>\n",
       "      <td>19232,0</td>\n",
       "      <td>1981</td>\n",
       "      <td>ManaGER  -  Research &amp; Development</td>\n",
       "      <td>1</td>\n",
       "    </tr>\n",
       "    <tr>\n",
       "      <th>3</th>\n",
       "      <td>3</td>\n",
       "      <td>47</td>\n",
       "      <td>No</td>\n",
       "      <td>travel_rarely</td>\n",
       "      <td>359,0$</td>\n",
       "      <td>NaN</td>\n",
       "      <td>2</td>\n",
       "      <td>4</td>\n",
       "      <td>Medical</td>\n",
       "      <td>NaN</td>\n",
       "      <td>...</td>\n",
       "      <td>2</td>\n",
       "      <td>NaN</td>\n",
       "      <td>20</td>\n",
       "      <td>NaN</td>\n",
       "      <td>5</td>\n",
       "      <td>6</td>\n",
       "      <td>17169,0</td>\n",
       "      <td>1976</td>\n",
       "      <td>NaN</td>\n",
       "      <td>False</td>\n",
       "    </tr>\n",
       "    <tr>\n",
       "      <th>4</th>\n",
       "      <td>4</td>\n",
       "      <td>46</td>\n",
       "      <td>No</td>\n",
       "      <td>NaN</td>\n",
       "      <td>1319,0$</td>\n",
       "      <td>NaN</td>\n",
       "      <td>3</td>\n",
       "      <td>3</td>\n",
       "      <td>Technical Degree</td>\n",
       "      <td>NaN</td>\n",
       "      <td>...</td>\n",
       "      <td>5</td>\n",
       "      <td>3,0</td>\n",
       "      <td>19</td>\n",
       "      <td>NaN</td>\n",
       "      <td>2</td>\n",
       "      <td>8</td>\n",
       "      <td>NaN</td>\n",
       "      <td>1977</td>\n",
       "      <td>NaN</td>\n",
       "      <td>0</td>\n",
       "    </tr>\n",
       "  </tbody>\n",
       "</table>\n",
       "<p>5 rows × 37 columns</p>\n",
       "</div>"
      ],
      "text/plain": [
       "   unnamed: 0 age attrition businesstravel dailyrate  \\\n",
       "0           0  51        No            NaN    684,0$   \n",
       "1           1  52        No            NaN    699,0$   \n",
       "2           2  42        No  travel_rarely    532,0$   \n",
       "3           3  47        No  travel_rarely    359,0$   \n",
       "4           4  46        No            NaN   1319,0$   \n",
       "\n",
       "                 department  distancefromhome  education    educationfield  \\\n",
       "0                       NaN                 6          3               NaN   \n",
       "1                       NaN                 1          4     Life Sciences   \n",
       "2   Research & Development                  4          2  Technical Degree   \n",
       "3                       NaN                 2          4           Medical   \n",
       "4                       NaN                 3          3  Technical Degree   \n",
       "\n",
       "  employeenumber  ...  trainingtimeslastyear  worklifebalance yearsatcompany  \\\n",
       "0          162,0  ...                      5              3,0             20   \n",
       "1          259,0  ...                      5              3,0             33   \n",
       "2          319,0  ...                      3              NaN             22   \n",
       "3            NaN  ...                      2              NaN             20   \n",
       "4            NaN  ...                      5              3,0             19   \n",
       "\n",
       "   yearsincurrentrole  yearssincelastpromotion yearswithcurrmanager  \\\n",
       "0                 NaN                       15                   15   \n",
       "1                 NaN                       11                    9   \n",
       "2                 NaN                       11                   15   \n",
       "3                 NaN                        5                    6   \n",
       "4                 NaN                        2                    8   \n",
       "\n",
       "   sameasmonthlyincome datebirth                       roledepartament  \\\n",
       "0              19537,0      1972                                   NaN   \n",
       "1              19999,0      1971                                   NaN   \n",
       "2              19232,0      1981   ManaGER  -  Research & Development    \n",
       "3              17169,0      1976                                   NaN   \n",
       "4                  NaN      1977                                   NaN   \n",
       "\n",
       "   remotework  \n",
       "0         Yes  \n",
       "1           1  \n",
       "2           1  \n",
       "3       False  \n",
       "4           0  \n",
       "\n",
       "[5 rows x 37 columns]"
      ]
     },
     "execution_count": 12,
     "metadata": {},
     "output_type": "execute_result"
    }
   ],
   "source": [
    "# una vez que tenemos el diccionario vamos a aplicar el método rename\n",
    "df.rename(columns = nuevas_columnas, inplace = True)\n",
    "\n",
    "# comprobamos que se han cambiado los nombres de las columnas\n",
    "df.head()"
   ]
  },
  {
   "cell_type": "markdown",
   "metadata": {},
   "source": [
    "--------"
   ]
  },
  {
   "cell_type": "markdown",
   "metadata": {},
   "source": [
    "# `Falta crear un code para eliminar los nulos o hacer promedios donde sea necesario. `"
   ]
  },
  {
   "cell_type": "markdown",
   "metadata": {},
   "source": [
    "--------"
   ]
  },
  {
   "cell_type": "markdown",
   "metadata": {},
   "source": [
    "- `Cambiamos las letras de números en la columna (age)` ✅\n",
    "- `colocamos los datos de object a int` ✅\n",
    "- Falta guerdarlo directamente en el dataframe "
   ]
  },
  {
   "cell_type": "code",
   "execution_count": 14,
   "metadata": {},
   "outputs": [
    {
     "data": {
      "text/plain": [
       "array(['51', '52', '42', '47', '46', '48', '59', '41', '56', '38', '55',\n",
       "       '40', '58', '35', '45', '33', '36', '34', 'forty-seven', '53',\n",
       "       '43', '60', '32', '37', '49', '39', '50', '44', '30',\n",
       "       'fifty-eight', '29', '31', '54', '57', '27', 'thirty-six', '28',\n",
       "       '26', 'fifty-five', '25', 'fifty-two', 'thirty-one', '24',\n",
       "       'thirty', '23', '22', '21', '20', 'twenty-six', '19',\n",
       "       'thirty-seven', '18', 'thirty-two', 'twenty-four'], dtype=object)"
      ]
     },
     "execution_count": 14,
     "metadata": {},
     "output_type": "execute_result"
    }
   ],
   "source": [
    "df['age'].unique()"
   ]
  },
  {
   "cell_type": "code",
   "execution_count": 15,
   "metadata": {},
   "outputs": [
    {
     "name": "stdout",
     "output_type": "stream",
     "text": [
      "Converted Ages in DataFrame:\n",
      "0    51\n",
      "1    52\n",
      "2    42\n",
      "3    47\n",
      "4    46\n",
      "Name: age, dtype: int64\n",
      "\n",
      "No conversion errors.\n"
     ]
    }
   ],
   "source": [
    "# Diccionario para convertir palabras a números\n",
    "word_to_number = {\n",
    "    'zero': 0, 'one': 1, 'two': 2, 'three': 3, 'four': 4, 'five': 5,\n",
    "    'six': 6, 'seven': 7, 'eight': 8, 'nine': 9, 'ten': 10, 'eleven': 11,\n",
    "    'twelve': 12, 'thirteen': 13, 'fourteen': 14, 'fifteen': 15,\n",
    "    'sixteen': 16, 'seventeen': 17, 'eighteen': 18, 'nineteen': 19,\n",
    "    'twenty': 20, 'thirty': 30, 'forty': 40, 'fifty': 50, 'sixty': 60,\n",
    "    'seventy': 70, 'eighty': 80, 'ninety': 90\n",
    "}\n",
    "\n",
    "# Función para convertir cadenas a números\n",
    "def convert_to_number(age):\n",
    "    try:\n",
    "        # Primero intentamos convertir directamente a entero\n",
    "        return int(age)\n",
    "    except ValueError:\n",
    "        # Si falla, intentamos convertir usando el diccionario\n",
    "        words = age.split('-')\n",
    "        number = 0\n",
    "        for word in words:\n",
    "            if word in word_to_number:\n",
    "                number += word_to_number[word]\n",
    "            else:\n",
    "                return f\"Error converting '{age}'\"\n",
    "        return number\n",
    "\n",
    "# Aplicar la función de conversión a la columna 'Age' del DataFrame\n",
    "df['age'] = df['age'].apply(convert_to_number)\n",
    "\n",
    "# Verificar si hay errores en la conversión\n",
    "errors = df['age'][df['age'].apply(lambda x: isinstance(x, str))]\n",
    "\n",
    "# Mostrar los resultados\n",
    "print(\"Converted Ages in DataFrame:\")\n",
    "print(df['age'].head())\n",
    "\n",
    "if not errors.empty:\n",
    "    print(\"\\nErrors:\")\n",
    "    print(errors)\n",
    "else:\n",
    "    print(\"\\nNo conversion errors.\")\n"
   ]
  },
  {
   "cell_type": "code",
   "execution_count": 16,
   "metadata": {},
   "outputs": [
    {
     "data": {
      "text/plain": [
       "array([51, 52, 42, 47, 46, 48, 59, 41, 56, 38, 55, 40, 58, 35, 45, 33, 36,\n",
       "       34, 53, 43, 60, 32, 37, 49, 39, 50, 44, 30, 29, 31, 54, 57, 27, 28,\n",
       "       26, 25, 24, 23, 22, 21, 20, 19, 18])"
      ]
     },
     "execution_count": 16,
     "metadata": {},
     "output_type": "execute_result"
    }
   ],
   "source": [
    "df['age'].unique()"
   ]
  },
  {
   "cell_type": "code",
   "execution_count": 18,
   "metadata": {},
   "outputs": [
    {
     "data": {
      "text/plain": [
       "(1614,)"
      ]
     },
     "execution_count": 18,
     "metadata": {},
     "output_type": "execute_result"
    }
   ],
   "source": [
    "df['age'].shape"
   ]
  },
  {
   "cell_type": "markdown",
   "metadata": {},
   "source": [
    "---------------"
   ]
  },
  {
   "cell_type": "markdown",
   "metadata": {},
   "source": [
    "No requiere cambios ✅"
   ]
  },
  {
   "cell_type": "code",
   "execution_count": 20,
   "metadata": {},
   "outputs": [
    {
     "data": {
      "text/plain": [
       "array(['No', 'Yes'], dtype=object)"
      ]
     },
     "execution_count": 20,
     "metadata": {},
     "output_type": "execute_result"
    }
   ],
   "source": [
    "df['attrition'].unique()"
   ]
  },
  {
   "cell_type": "markdown",
   "metadata": {},
   "source": [
    "---------"
   ]
  },
  {
   "cell_type": "markdown",
   "metadata": {},
   "source": [
    "- `Separamos los string con espacio vacio('') y quitamos el (_)`✅\n",
    "- `Eliminar los NAN`❓"
   ]
  },
  {
   "cell_type": "code",
   "execution_count": 22,
   "metadata": {},
   "outputs": [
    {
     "data": {
      "text/plain": [
       "array([nan, 'travel_rarely', 'travel_frequently', 'non-travel'],\n",
       "      dtype=object)"
      ]
     },
     "execution_count": 22,
     "metadata": {},
     "output_type": "execute_result"
    }
   ],
   "source": [
    "df['businesstravel'].unique() "
   ]
  },
  {
   "cell_type": "code",
   "execution_count": 27,
   "metadata": {},
   "outputs": [
    {
     "data": {
      "text/html": [
       "<div>\n",
       "<style scoped>\n",
       "    .dataframe tbody tr th:only-of-type {\n",
       "        vertical-align: middle;\n",
       "    }\n",
       "\n",
       "    .dataframe tbody tr th {\n",
       "        vertical-align: top;\n",
       "    }\n",
       "\n",
       "    .dataframe thead th {\n",
       "        text-align: right;\n",
       "    }\n",
       "</style>\n",
       "<table border=\"1\" class=\"dataframe\">\n",
       "  <thead>\n",
       "    <tr style=\"text-align: right;\">\n",
       "      <th></th>\n",
       "      <th>unnamed: 0</th>\n",
       "      <th>age</th>\n",
       "      <th>attrition</th>\n",
       "      <th>businesstravel</th>\n",
       "      <th>dailyrate</th>\n",
       "      <th>department</th>\n",
       "      <th>distancefromhome</th>\n",
       "      <th>education</th>\n",
       "      <th>educationfield</th>\n",
       "      <th>employeenumber</th>\n",
       "      <th>...</th>\n",
       "      <th>trainingtimeslastyear</th>\n",
       "      <th>worklifebalance</th>\n",
       "      <th>yearsatcompany</th>\n",
       "      <th>yearsincurrentrole</th>\n",
       "      <th>yearssincelastpromotion</th>\n",
       "      <th>yearswithcurrmanager</th>\n",
       "      <th>sameasmonthlyincome</th>\n",
       "      <th>datebirth</th>\n",
       "      <th>roledepartament</th>\n",
       "      <th>remotework</th>\n",
       "    </tr>\n",
       "  </thead>\n",
       "  <tbody>\n",
       "    <tr>\n",
       "      <th>1009</th>\n",
       "      <td>1009</td>\n",
       "      <td>56</td>\n",
       "      <td>No</td>\n",
       "      <td>NaN</td>\n",
       "      <td>718,0$</td>\n",
       "      <td>NaN</td>\n",
       "      <td>4</td>\n",
       "      <td>4</td>\n",
       "      <td>NaN</td>\n",
       "      <td>NaN</td>\n",
       "      <td>...</td>\n",
       "      <td>2</td>\n",
       "      <td>3,0</td>\n",
       "      <td>5</td>\n",
       "      <td>NaN</td>\n",
       "      <td>4</td>\n",
       "      <td>2</td>\n",
       "      <td>NaN</td>\n",
       "      <td>1967</td>\n",
       "      <td>NaN</td>\n",
       "      <td>True</td>\n",
       "    </tr>\n",
       "    <tr>\n",
       "      <th>1579</th>\n",
       "      <td>1579</td>\n",
       "      <td>34</td>\n",
       "      <td>No</td>\n",
       "      <td>NaN</td>\n",
       "      <td>1442,0$</td>\n",
       "      <td>NaN</td>\n",
       "      <td>9</td>\n",
       "      <td>3</td>\n",
       "      <td>Medical</td>\n",
       "      <td>717,0</td>\n",
       "      <td>...</td>\n",
       "      <td>3</td>\n",
       "      <td>4,0</td>\n",
       "      <td>8</td>\n",
       "      <td>NaN</td>\n",
       "      <td>7</td>\n",
       "      <td>7</td>\n",
       "      <td>NaN</td>\n",
       "      <td>1989</td>\n",
       "      <td>NaN</td>\n",
       "      <td>Yes</td>\n",
       "    </tr>\n",
       "    <tr>\n",
       "      <th>1595</th>\n",
       "      <td>1595</td>\n",
       "      <td>38</td>\n",
       "      <td>No</td>\n",
       "      <td>NaN</td>\n",
       "      <td>240,0$</td>\n",
       "      <td>NaN</td>\n",
       "      <td>2</td>\n",
       "      <td>4</td>\n",
       "      <td>Life Sciences</td>\n",
       "      <td>803,0</td>\n",
       "      <td>...</td>\n",
       "      <td>2</td>\n",
       "      <td>3,0</td>\n",
       "      <td>15</td>\n",
       "      <td>NaN</td>\n",
       "      <td>4</td>\n",
       "      <td>12</td>\n",
       "      <td>5980,0</td>\n",
       "      <td>1985</td>\n",
       "      <td>NaN</td>\n",
       "      <td>False</td>\n",
       "    </tr>\n",
       "    <tr>\n",
       "      <th>440</th>\n",
       "      <td>440</td>\n",
       "      <td>39</td>\n",
       "      <td>No</td>\n",
       "      <td>NaN</td>\n",
       "      <td>1387,0$</td>\n",
       "      <td>Research &amp; Development</td>\n",
       "      <td>10</td>\n",
       "      <td>5</td>\n",
       "      <td>Medical</td>\n",
       "      <td>NaN</td>\n",
       "      <td>...</td>\n",
       "      <td>3</td>\n",
       "      <td>3,0</td>\n",
       "      <td>7</td>\n",
       "      <td>NaN</td>\n",
       "      <td>7</td>\n",
       "      <td>7</td>\n",
       "      <td>NaN</td>\n",
       "      <td>1984</td>\n",
       "      <td>maNuFAcTURInG DIReCtoR  -  Research &amp; Develop...</td>\n",
       "      <td>0</td>\n",
       "    </tr>\n",
       "    <tr>\n",
       "      <th>73</th>\n",
       "      <td>73</td>\n",
       "      <td>38</td>\n",
       "      <td>No</td>\n",
       "      <td>travel frequently</td>\n",
       "      <td>1189,0$</td>\n",
       "      <td>NaN</td>\n",
       "      <td>1</td>\n",
       "      <td>3</td>\n",
       "      <td>Life Sciences</td>\n",
       "      <td>1668,0</td>\n",
       "      <td>...</td>\n",
       "      <td>4</td>\n",
       "      <td>NaN</td>\n",
       "      <td>13</td>\n",
       "      <td>NaN</td>\n",
       "      <td>2</td>\n",
       "      <td>9</td>\n",
       "      <td>4735,0</td>\n",
       "      <td>1985</td>\n",
       "      <td>NaN</td>\n",
       "      <td>True</td>\n",
       "    </tr>\n",
       "    <tr>\n",
       "      <th>1610</th>\n",
       "      <td>1610</td>\n",
       "      <td>45</td>\n",
       "      <td>No</td>\n",
       "      <td>non travel</td>\n",
       "      <td>805,0$</td>\n",
       "      <td>NaN</td>\n",
       "      <td>4</td>\n",
       "      <td>2</td>\n",
       "      <td>NaN</td>\n",
       "      <td>972,0</td>\n",
       "      <td>...</td>\n",
       "      <td>5</td>\n",
       "      <td>2,0</td>\n",
       "      <td>9</td>\n",
       "      <td>NaN</td>\n",
       "      <td>0</td>\n",
       "      <td>8</td>\n",
       "      <td>4447,0</td>\n",
       "      <td>1978</td>\n",
       "      <td>NaN</td>\n",
       "      <td>1</td>\n",
       "    </tr>\n",
       "    <tr>\n",
       "      <th>247</th>\n",
       "      <td>247</td>\n",
       "      <td>36</td>\n",
       "      <td>No</td>\n",
       "      <td>NaN</td>\n",
       "      <td>1383,0$</td>\n",
       "      <td>NaN</td>\n",
       "      <td>10</td>\n",
       "      <td>3</td>\n",
       "      <td>Life Sciences</td>\n",
       "      <td>1790,0</td>\n",
       "      <td>...</td>\n",
       "      <td>1</td>\n",
       "      <td>3,0</td>\n",
       "      <td>12</td>\n",
       "      <td>NaN</td>\n",
       "      <td>5</td>\n",
       "      <td>7</td>\n",
       "      <td>8321,0</td>\n",
       "      <td>1987</td>\n",
       "      <td>NaN</td>\n",
       "      <td>False</td>\n",
       "    </tr>\n",
       "    <tr>\n",
       "      <th>301</th>\n",
       "      <td>301</td>\n",
       "      <td>29</td>\n",
       "      <td>No</td>\n",
       "      <td>travel frequently</td>\n",
       "      <td>442,0$</td>\n",
       "      <td>NaN</td>\n",
       "      <td>2</td>\n",
       "      <td>2</td>\n",
       "      <td>NaN</td>\n",
       "      <td>388,0</td>\n",
       "      <td>...</td>\n",
       "      <td>3</td>\n",
       "      <td>NaN</td>\n",
       "      <td>10</td>\n",
       "      <td>NaN</td>\n",
       "      <td>0</td>\n",
       "      <td>9</td>\n",
       "      <td>NaN</td>\n",
       "      <td>1994</td>\n",
       "      <td>NaN</td>\n",
       "      <td>True</td>\n",
       "    </tr>\n",
       "    <tr>\n",
       "      <th>879</th>\n",
       "      <td>879</td>\n",
       "      <td>23</td>\n",
       "      <td>No</td>\n",
       "      <td>NaN</td>\n",
       "      <td>1309,0$</td>\n",
       "      <td>NaN</td>\n",
       "      <td>26</td>\n",
       "      <td>1</td>\n",
       "      <td>NaN</td>\n",
       "      <td>465,0</td>\n",
       "      <td>...</td>\n",
       "      <td>2</td>\n",
       "      <td>2,0</td>\n",
       "      <td>4</td>\n",
       "      <td>NaN</td>\n",
       "      <td>0</td>\n",
       "      <td>2</td>\n",
       "      <td>2904,0</td>\n",
       "      <td>2000</td>\n",
       "      <td>NaN</td>\n",
       "      <td>0</td>\n",
       "    </tr>\n",
       "    <tr>\n",
       "      <th>1230</th>\n",
       "      <td>1230</td>\n",
       "      <td>21</td>\n",
       "      <td>No</td>\n",
       "      <td>travel rarely</td>\n",
       "      <td>391,0$</td>\n",
       "      <td>NaN</td>\n",
       "      <td>15</td>\n",
       "      <td>2</td>\n",
       "      <td>NaN</td>\n",
       "      <td>30,0</td>\n",
       "      <td>...</td>\n",
       "      <td>6</td>\n",
       "      <td>3,0</td>\n",
       "      <td>0</td>\n",
       "      <td>NaN</td>\n",
       "      <td>0</td>\n",
       "      <td>0</td>\n",
       "      <td>NaN</td>\n",
       "      <td>2002</td>\n",
       "      <td>NaN</td>\n",
       "      <td>Yes</td>\n",
       "    </tr>\n",
       "  </tbody>\n",
       "</table>\n",
       "<p>10 rows × 37 columns</p>\n",
       "</div>"
      ],
      "text/plain": [
       "      unnamed: 0  age attrition     businesstravel dailyrate  \\\n",
       "1009        1009   56        No                NaN    718,0$   \n",
       "1579        1579   34        No                NaN   1442,0$   \n",
       "1595        1595   38        No                NaN    240,0$   \n",
       "440          440   39        No                NaN   1387,0$   \n",
       "73            73   38        No  travel frequently   1189,0$   \n",
       "1610        1610   45        No         non travel    805,0$   \n",
       "247          247   36        No                NaN   1383,0$   \n",
       "301          301   29        No  travel frequently    442,0$   \n",
       "879          879   23        No                NaN   1309,0$   \n",
       "1230        1230   21        No      travel rarely    391,0$   \n",
       "\n",
       "                    department  distancefromhome  education educationfield  \\\n",
       "1009                       NaN                 4          4            NaN   \n",
       "1579                       NaN                 9          3        Medical   \n",
       "1595                       NaN                 2          4  Life Sciences   \n",
       "440    Research & Development                 10          5        Medical   \n",
       "73                         NaN                 1          3  Life Sciences   \n",
       "1610                       NaN                 4          2            NaN   \n",
       "247                        NaN                10          3  Life Sciences   \n",
       "301                        NaN                 2          2            NaN   \n",
       "879                        NaN                26          1            NaN   \n",
       "1230                       NaN                15          2            NaN   \n",
       "\n",
       "     employeenumber  ...  trainingtimeslastyear  worklifebalance  \\\n",
       "1009            NaN  ...                      2              3,0   \n",
       "1579          717,0  ...                      3              4,0   \n",
       "1595          803,0  ...                      2              3,0   \n",
       "440             NaN  ...                      3              3,0   \n",
       "73           1668,0  ...                      4              NaN   \n",
       "1610          972,0  ...                      5              2,0   \n",
       "247          1790,0  ...                      1              3,0   \n",
       "301           388,0  ...                      3              NaN   \n",
       "879           465,0  ...                      2              2,0   \n",
       "1230           30,0  ...                      6              3,0   \n",
       "\n",
       "     yearsatcompany  yearsincurrentrole  yearssincelastpromotion  \\\n",
       "1009              5                 NaN                        4   \n",
       "1579              8                 NaN                        7   \n",
       "1595             15                 NaN                        4   \n",
       "440               7                 NaN                        7   \n",
       "73               13                 NaN                        2   \n",
       "1610              9                 NaN                        0   \n",
       "247              12                 NaN                        5   \n",
       "301              10                 NaN                        0   \n",
       "879               4                 NaN                        0   \n",
       "1230              0                 NaN                        0   \n",
       "\n",
       "     yearswithcurrmanager  sameasmonthlyincome datebirth  \\\n",
       "1009                    2                  NaN      1967   \n",
       "1579                    7                  NaN      1989   \n",
       "1595                   12               5980,0      1985   \n",
       "440                     7                  NaN      1984   \n",
       "73                      9               4735,0      1985   \n",
       "1610                    8               4447,0      1978   \n",
       "247                     7               8321,0      1987   \n",
       "301                     9                  NaN      1994   \n",
       "879                     2               2904,0      2000   \n",
       "1230                    0                  NaN      2002   \n",
       "\n",
       "                                        roledepartament  remotework  \n",
       "1009                                                NaN        True  \n",
       "1579                                                NaN         Yes  \n",
       "1595                                                NaN       False  \n",
       "440    maNuFAcTURInG DIReCtoR  -  Research & Develop...           0  \n",
       "73                                                  NaN        True  \n",
       "1610                                                NaN           1  \n",
       "247                                                 NaN       False  \n",
       "301                                                 NaN        True  \n",
       "879                                                 NaN           0  \n",
       "1230                                                NaN         Yes  \n",
       "\n",
       "[10 rows x 37 columns]"
      ]
     },
     "execution_count": 27,
     "metadata": {},
     "output_type": "execute_result"
    }
   ],
   "source": [
    "df[\"businesstravel\"] = df[\"businesstravel\"].str.replace(\"_\", \" \").str.replace(\"-\",\" \")\n",
    "df.sample(10)"
   ]
  },
  {
   "cell_type": "markdown",
   "metadata": {},
   "source": [
    "--------"
   ]
  },
  {
   "cell_type": "markdown",
   "metadata": {},
   "source": [
    "- `Cambiar a float`\n",
    "- `Cambiar las comas(,) por puntos(.)`"
   ]
  },
  {
   "cell_type": "code",
   "execution_count": 29,
   "metadata": {},
   "outputs": [
    {
     "data": {
      "text/plain": [
       "array(['684,0$', '699,0$', '532,0$', '359,0$', '1319,0$', '117,0$',\n",
       "       '1435,0$', '635,0$', '1276,0$', '840,0$', '247,0$', '1369,0$',\n",
       "       '201,0$', '1360,0$', '692,0$', '1398,0$', '286,0$', '1402,0$',\n",
       "       '819,0$', '884,0$', '1238,0$', '515,0$', '1223,0$', '202,0$',\n",
       "       '928,0$', '607,0$', '266,0$', '429,0$', '589,0$', 'nan$',\n",
       "       '1180,0$', '1282,0$', '776,0$', '665,0$', '526,0$', '1034,0$',\n",
       "       '1403,0$', '1499,0$', '580,0$', '859,0$', '263,0$', '1376,0$',\n",
       "       '885,0$', '1003,0$', '1321,0$', '394,0$', '1372,0$', '1333,0$',\n",
       "       '228,0$', '737,0$', '823,0$', '667,0$', '301,0$', '573,0$',\n",
       "       '1329,0$', '630,0$', '1063,0$', '1017,0$', '1296,0$', '939,0$',\n",
       "       '1355,0$', '1448,0$', '200,0$', '1202,0$', '404,0$', '208,0$',\n",
       "       '813,0$', '465,0$', '1189,0$', '1001,0$', '1394,0$', '161,0$',\n",
       "       '288,0$', '682,0$', '1354,0$', '147,0$', '119,0$', '1413,0$',\n",
       "       '452,0$', '334,0$', '1132,0$', '982,0$', '480,0$', '1099,0$',\n",
       "       '672,0$', '1379,0$', '583,0$', '1492,0$', '1050,0$', '469,0$',\n",
       "       '237,0$', '1440,0$', '1291,0$', '1157,0$', '1336,0$', '1224,0$',\n",
       "       '735,0$', '1389,0$', '638,0$', '1240,0$', '194,0$', '1339,0$',\n",
       "       '111,0$', '1469,0$', '470,0$', '1232,0$', '1249,0$', '798,0$',\n",
       "       '549,0$', '570,0$', '541,0$', '164,0$', '1117,0$', '619,0$',\n",
       "       '319,0$', '956,0$', '1245,0$', '1397,0$', '527,0$', '213,0$',\n",
       "       '882,0$', '330,0$', '406,0$', '217,0$', '481,0$', '669,0$',\n",
       "       '1465,0$', '685,0$', '1062,0$', '177,0$', '1199,0$', '648,0$',\n",
       "       '412,0$', '282,0$', '770,0$', '601,0$', '855,0$', '332,0$',\n",
       "       '1326,0$', '748,0$', '405,0$', '790,0$', '971,0$', '1370,0$',\n",
       "       '750,0$', '880,0$', '678,0$', '1179,0$', '350,0$', '1266,0$',\n",
       "       '574,0$', '189,0$', '310,0$', '722,0$', '1219,0$', '994,0$',\n",
       "       '721,0$', '853,0$', '427,0$', '852,0$', '1334,0$', '1093,0$',\n",
       "       '967,0$', '989,0$', '1195,0$', '1045,0$', '829,0$', '663,0$',\n",
       "       '1300,0$', '1105,0$', '906,0$', '849,0$', '1275,0$', '1218,0$',\n",
       "       '422,0$', '1274,0$', '1076,0$', '1207,0$', '430,0$', '933,0$',\n",
       "       '1184,0$', '586,0$', '890,0$', '379,0$', '1425,0$', '1188,0$',\n",
       "       '938,0$', '1053,0$', '248,0$', '796,0$', '174,0$', '408,0$',\n",
       "       '977,0$', '536,0$', '135,0$', '1476,0$', '587,0$', '495,0$',\n",
       "       '523,0$', '507,0$', '1055,0$', '1445,0$', '218,0$', '447,0$',\n",
       "       '1029,0$', '674,0$', '538,0$', '740,0$', '1234,0$', '170,0$',\n",
       "       '1130,0$', '584,0$', '918,0$', '792,0$', '611,0$', '1383,0$',\n",
       "       '867,0$', '706,0$', '728,0$', '311,0$', '556,0$', '937,0$',\n",
       "       '1125,0$', '444,0$', '911,0$', '585,0$', '1392,0$', '1005,0$',\n",
       "       '1299,0$', '655,0$', '746,0$', '632,0$', '658,0$', '1467,0$',\n",
       "       '1312,0$', '249,0$', '802,0$', '689,0$', '1395,0$', '1436,0$',\n",
       "       '1496,0$', '1480,0$', '313,0$', '894,0$', '290,0$', '1084,0$',\n",
       "       '1002,0$', '1242,0$', '1052,0$', '944,0$', '771,0$', '1416,0$',\n",
       "       '1327,0$', '488,0$', '1385,0$', '666,0$', '1315,0$', '442,0$',\n",
       "       '950,0$', '691,0$', '1018,0$', '559,0$', '318,0$', '144,0$',\n",
       "       '1171,0$', '143,0$', '1178,0$', '1107,0$', '645,0$', '1485,0$',\n",
       "       '1116,0$', '163,0$', '561,0$', '426,0$', '509,0$', '258,0$',\n",
       "       '525,0$', '238,0$', '482,0$', '397,0$', '243,0$', '806,0$',\n",
       "       '1442,0$', '929,0$', '827,0$', '703,0$', '294,0$', '314,0$',\n",
       "       '654,0$', '501,0$', '954,0$', '1434,0$', '657,0$', '240,0$',\n",
       "       '791,0$', '676,0$', '436,0$', '760,0$', '661,0$', '1085,0$',\n",
       "       '154,0$', '1283,0$', '616,0$', '498,0$', '530,0$', '805,0$',\n",
       "       '903,0$', '1229,0$', '566,0$', '1441,0$', '153,0$', '1066,0$',\n",
       "       '145,0$', '1109,0$', '124,0$', '300,0$', '1366,0$', '857,0$',\n",
       "       '1204,0$', '1082,0$', '203,0$', '1308,0$', '718,0$', '593,0$',\n",
       "       '1384,0$', '1361,0$', '1146,0$', '1316,0$', '363,0$', '1103,0$',\n",
       "       '920,0$', '694,0$', '1429,0$', '531,0$', '621,0$', '604,0$',\n",
       "       '325,0$', '1030,0$', '524,0$', '943,0$', '1009,0$', '817,0$',\n",
       "       '930,0$', '1147,0$', '652,0$', '337,0$', '1136,0$', '326,0$',\n",
       "       '377,0$', '1038,0$', '1490,0$', '1246,0$', '224,0$', '441,0$',\n",
       "       '898,0$', '1313,0$', '1015,0$', '1387,0$', '1302,0$', '602,0$',\n",
       "       '772,0$', '809,0$', '786,0$', '921,0$', '717,0$', '979,0$',\n",
       "       '953,0$', '244,0$', '196,0$', '303,0$', '1092,0$', '261,0$',\n",
       "       '1422,0$', '1137,0$', '511,0$', '1396,0$', '1096,0$', '1169,0$',\n",
       "       '1239,0$', '157,0$', '754,0$', '1303,0$', '697,0$', '116,0$',\n",
       "       '557,0$', '582,0$', '704,0$', '613,0$', '419,0$', '477,0$',\n",
       "       '1211,0$', '505,0$', '269,0$', '553,0$', '1277,0$', '302,0$',\n",
       "       '975,0$', '1318,0$', '881,0$', '466,0$', '945,0$', '433,0$',\n",
       "       '991,0$', '1083,0$', '136,0$', '333,0$', '1462,0$', '1131,0$',\n",
       "       '1023,0$', '1065,0$', '1115,0$', '1479,0$', '304,0$', '1368,0$',\n",
       "       '828,0$', '799,0$', '142,0$', '446,0$', '254,0$', '1410,0$',\n",
       "       '883,0$', '121,0$', '1343,0$', '490,0$', '1400,0$', '1332,0$',\n",
       "       '1200,0$', '1102,0$', '1328,0$', '548,0$', '1214,0$', '120,0$',\n",
       "       '841,0$', '1033,0$', '1452,0$', '1268,0$', '307,0$', '797,0$',\n",
       "       '555,0$', '1377,0$', '210,0$', '483,0$', '575,0$', '1311,0$',\n",
       "       '759,0$', '891,0$', '317,0$', '688,0$', '195,0$', '622,0$',\n",
       "       '646,0$', '719,0$', '1012,0$', '1278,0$', '1222,0$', '1231,0$',\n",
       "       '462,0$', '231,0$', '1089,0$', '1262,0$', '439,0$', '528,0$',\n",
       "       '647,0$', '1097,0$', '942,0$', '966,0$', '168,0$', '299,0$',\n",
       "       '999,0$', '1498,0$', '1439,0$', '1111,0$', '1174,0$', '172,0$',\n",
       "       '401,0$', '866,0$', '571,0$', '1342,0$', '995,0$', '118,0$',\n",
       "       '990,0$', '241,0$', '1470,0$', '492,0$', '1040,0$', '1320,0$',\n",
       "       '146,0$', '1153,0$', '185,0$', '1297,0$', '1064,0$', '1351,0$',\n",
       "       '468,0$', '1273,0$', '1141,0$', '1488,0$', '653,0$', '1225,0$',\n",
       "       '1217,0$', '1127,0$', '1427,0$', '702,0$', '926,0$', '878,0$',\n",
       "       '896,0$', '1401,0$', '675,0$', '1070,0$', '496,0$', '390,0$',\n",
       "       '1220,0$', '1124,0$', '1046,0$', '267,0$', '443,0$', '1287,0$',\n",
       "       '1420,0$', '562,0$', '650,0$', '141,0$', '715,0$', '376,0$',\n",
       "       '932,0$', '471,0$', '180,0$', '1265,0$', '1075,0$', '1086,0$',\n",
       "       '152,0$', '974,0$', '788,0$', '192,0$', '150,0$', '1167,0$',\n",
       "       '206,0$', '736,0$', '322,0$', '683,0$', '1475,0$', '560,0$',\n",
       "       '115,0$', '888,0$', '671,0$', '567,0$', '148,0$', '581,0$',\n",
       "       '371,0$', '1181,0$', '1253,0$', '370,0$', '1194,0$', '572,0$',\n",
       "       '355,0$', '783,0$', '155,0$', '508,0$', '642,0$', '1382,0$',\n",
       "       '1037,0$', '1120,0$', '374,0$', '287,0$', '591,0$', '670,0$',\n",
       "       '1346,0$', '103,0$', '673,0$', '705,0$', '1459,0$', '1443,0$',\n",
       "       '1142,0$', '664,0$', '432,0$', '1353,0$', '489,0$', '807,0$',\n",
       "       '1280,0$', '957,0$', '542,0$', '216,0$', '1150,0$', '364,0$',\n",
       "       '1256,0$', '440,0$', '713,0$', '140,0$', '629,0$', '328,0$',\n",
       "       '472,0$', '905,0$', '1151,0$', '644,0$', '992,0$', '1323,0$',\n",
       "       '818,0$', '1431,0$', '976,0$', '832,0$', '916,0$', '1247,0$',\n",
       "       '128,0$', '1158,0$', '996,0$', '1449,0$', '636,0$', '889,0$',\n",
       "       '106,0$', '723,0$', '1482,0$', '738,0$', '1192,0$', '1309,0$',\n",
       "       '544,0$', '641,0$', '756,0$', '895,0$', '1261,0$', '329,0$',\n",
       "       '1362,0$', '1371,0$', '821,0$', '1381,0$', '1473,0$', '296,0$',\n",
       "       '1349,0$', '986,0$', '413,0$', '988,0$', '1474,0$', '232,0$',\n",
       "       '1236,0$', '1112,0$', '204,0$', '913,0$', '810,0$', '693,0$',\n",
       "       '316,0$', '381,0$', '775,0$', '804,0$', '1090,0$', '346,0$',\n",
       "       '725,0$', '182,0$', '384,0$', '1325,0$', '1258,0$', '1041,0$',\n",
       "       '625,0$', '1418,0$', '1269,0$', '395,0$', '341,0$', '500,0$',\n",
       "       '1454,0$', '617,0$', '1122,0$', '1198,0$', '188,0$', '335,0$',\n",
       "       '461,0$', '1134,0$', '138,0$', '1206,0$', '109,0$', '277,0$',\n",
       "       '265,0$', '342,0$', '1186,0$', '769,0$', '1176,0$', '1091,0$',\n",
       "       '618,0$', '970,0$', '984,0$', '793,0$', '1182,0$', '603,0$',\n",
       "       '874,0$', '367,0$', '199,0$', '1457,0$', '1421,0$', '1450,0$',\n",
       "       '1212,0$', '1010,0$', '131,0$', '193,0$', '640,0$', '848,0$',\n",
       "       '1138,0$', '256,0$', '935,0$', '458,0$', '662,0$', '499,0$',\n",
       "       '949,0$', '383,0$', '1255,0$', '1221,0$', '981,0$', '1495,0$',\n",
       "       '1193,0$', '467,0$', '271,0$', '410,0$', '1288,0$', '1108,0$',\n",
       "       '437,0$', '457,0$', '634,0$', '546,0$', '711,0$', '448,0$',\n",
       "       '365,0$', '763,0$', '486,0$', '392,0$', '727,0$', '741,0$',\n",
       "       '552,0$', '506,0$', '1456,0$', '160,0$', '897,0$', '600,0$',\n",
       "       '1054,0$', '428,0$', '343,0$', '1216,0$', '207,0$', '280,0$',\n",
       "       '414,0$', '836,0$', '592,0$', '219,0$', '1079,0$', '1251,0$',\n",
       "       '1168,0$', '1444,0$', '1154,0$', '234,0$', '529,0$', '1322,0$',\n",
       "       '924,0$', '134,0$', '755,0$', '253,0$', '922,0$', '1365,0$',\n",
       "       '306,0$', '1271,0$', '1404,0$', '1391,0$', '1464,0$', '1330,0$',\n",
       "       '773,0$', '902,0$', '107,0$', '504,0$', '1358,0$', '824,0$',\n",
       "       '594,0$', '734,0$', '766,0$', '431,0$', '1213,0$', '1373,0$',\n",
       "       '1324,0$', '1123,0$', '391,0$', '125,0$', '1357,0$', '626,0$',\n",
       "       '132,0$', '871,0$', '1031,0$', '1145,0$', '854,0$', '1411,0$',\n",
       "       '252,0$', '833,0$', '1210,0$', '1463,0$', '812,0$', '1162,0$',\n",
       "       '845,0$', '1144,0$', '156,0$', '464,0$', '1305,0$', '983,0$',\n",
       "       '534,0$', '1306,0$', '1094,0$', '558,0$', '959,0$', '782,0$',\n",
       "       '362,0$', '268,0$', '167,0$', '1243,0$', '720,0$', '868,0$',\n",
       "       '1252,0$', '781,0$', '1272,0$', '129,0$', '1069,0$', '289,0$',\n",
       "       '955,0$', '660,0$', '415,0$', '309,0$', '130,0$', '862,0$',\n",
       "       '1098,0$', '969,0$', '373,0$', '599,0$', '968,0$', '830,0$',\n",
       "       '1423,0$', '516,0$', '598,0$', '104,0$', '479,0$', '474,0$',\n",
       "       '264,0$', '1059,0$', '563,0$', '1259,0$', '369,0$', '543,0$',\n",
       "       '964,0$', '176,0$', '181,0$', '211,0$', '590,0$', '305,0$',\n",
       "       '478,0$', '1294,0$', '1128,0$', '726,0$', '352,0$', '1172,0$',\n",
       "       '605,0$', '1337,0$', '105,0$'], dtype=object)"
      ]
     },
     "execution_count": 29,
     "metadata": {},
     "output_type": "execute_result"
    }
   ],
   "source": [
    "df['dailyrate'].unique()"
   ]
  },
  {
   "cell_type": "code",
   "execution_count": 50,
   "metadata": {},
   "outputs": [
    {
     "data": {
      "text/plain": [
       "array(['684.0', '699.0', '532.0', '359.0', '1319.0', '117.0', '1435.0',\n",
       "       '635.0', '1276.0', '840.0', '247.0', '1369.0', '201.0', '1360.0',\n",
       "       '692.0', '1398.0', '286.0', '1402.0', '819.0', '884.0', '1238.0',\n",
       "       '515.0', '1223.0', '202.0', '928.0', '607.0', '266.0', '429.0',\n",
       "       '589.0', 'nan', '1180.0', '1282.0', '776.0', '665.0', '526.0',\n",
       "       '1034.0', '1403.0', '1499.0', '580.0', '859.0', '263.0', '1376.0',\n",
       "       '885.0', '1003.0', '1321.0', '394.0', '1372.0', '1333.0', '228.0',\n",
       "       '737.0', '823.0', '667.0', '301.0', '573.0', '1329.0', '630.0',\n",
       "       '1063.0', '1017.0', '1296.0', '939.0', '1355.0', '1448.0', '200.0',\n",
       "       '1202.0', '404.0', '208.0', '813.0', '465.0', '1189.0', '1001.0',\n",
       "       '1394.0', '161.0', '288.0', '682.0', '1354.0', '147.0', '119.0',\n",
       "       '1413.0', '452.0', '334.0', '1132.0', '982.0', '480.0', '1099.0',\n",
       "       '672.0', '1379.0', '583.0', '1492.0', '1050.0', '469.0', '237.0',\n",
       "       '1440.0', '1291.0', '1157.0', '1336.0', '1224.0', '735.0',\n",
       "       '1389.0', '638.0', '1240.0', '194.0', '1339.0', '111.0', '1469.0',\n",
       "       '470.0', '1232.0', '1249.0', '798.0', '549.0', '570.0', '541.0',\n",
       "       '164.0', '1117.0', '619.0', '319.0', '956.0', '1245.0', '1397.0',\n",
       "       '527.0', '213.0', '882.0', '330.0', '406.0', '217.0', '481.0',\n",
       "       '669.0', '1465.0', '685.0', '1062.0', '177.0', '1199.0', '648.0',\n",
       "       '412.0', '282.0', '770.0', '601.0', '855.0', '332.0', '1326.0',\n",
       "       '748.0', '405.0', '790.0', '971.0', '1370.0', '750.0', '880.0',\n",
       "       '678.0', '1179.0', '350.0', '1266.0', '574.0', '189.0', '310.0',\n",
       "       '722.0', '1219.0', '994.0', '721.0', '853.0', '427.0', '852.0',\n",
       "       '1334.0', '1093.0', '967.0', '989.0', '1195.0', '1045.0', '829.0',\n",
       "       '663.0', '1300.0', '1105.0', '906.0', '849.0', '1275.0', '1218.0',\n",
       "       '422.0', '1274.0', '1076.0', '1207.0', '430.0', '933.0', '1184.0',\n",
       "       '586.0', '890.0', '379.0', '1425.0', '1188.0', '938.0', '1053.0',\n",
       "       '248.0', '796.0', '174.0', '408.0', '977.0', '536.0', '135.0',\n",
       "       '1476.0', '587.0', '495.0', '523.0', '507.0', '1055.0', '1445.0',\n",
       "       '218.0', '447.0', '1029.0', '674.0', '538.0', '740.0', '1234.0',\n",
       "       '170.0', '1130.0', '584.0', '918.0', '792.0', '611.0', '1383.0',\n",
       "       '867.0', '706.0', '728.0', '311.0', '556.0', '937.0', '1125.0',\n",
       "       '444.0', '911.0', '585.0', '1392.0', '1005.0', '1299.0', '655.0',\n",
       "       '746.0', '632.0', '658.0', '1467.0', '1312.0', '249.0', '802.0',\n",
       "       '689.0', '1395.0', '1436.0', '1496.0', '1480.0', '313.0', '894.0',\n",
       "       '290.0', '1084.0', '1002.0', '1242.0', '1052.0', '944.0', '771.0',\n",
       "       '1416.0', '1327.0', '488.0', '1385.0', '666.0', '1315.0', '442.0',\n",
       "       '950.0', '691.0', '1018.0', '559.0', '318.0', '144.0', '1171.0',\n",
       "       '143.0', '1178.0', '1107.0', '645.0', '1485.0', '1116.0', '163.0',\n",
       "       '561.0', '426.0', '509.0', '258.0', '525.0', '238.0', '482.0',\n",
       "       '397.0', '243.0', '806.0', '1442.0', '929.0', '827.0', '703.0',\n",
       "       '294.0', '314.0', '654.0', '501.0', '954.0', '1434.0', '657.0',\n",
       "       '240.0', '791.0', '676.0', '436.0', '760.0', '661.0', '1085.0',\n",
       "       '154.0', '1283.0', '616.0', '498.0', '530.0', '805.0', '903.0',\n",
       "       '1229.0', '566.0', '1441.0', '153.0', '1066.0', '145.0', '1109.0',\n",
       "       '124.0', '300.0', '1366.0', '857.0', '1204.0', '1082.0', '203.0',\n",
       "       '1308.0', '718.0', '593.0', '1384.0', '1361.0', '1146.0', '1316.0',\n",
       "       '363.0', '1103.0', '920.0', '694.0', '1429.0', '531.0', '621.0',\n",
       "       '604.0', '325.0', '1030.0', '524.0', '943.0', '1009.0', '817.0',\n",
       "       '930.0', '1147.0', '652.0', '337.0', '1136.0', '326.0', '377.0',\n",
       "       '1038.0', '1490.0', '1246.0', '224.0', '441.0', '898.0', '1313.0',\n",
       "       '1015.0', '1387.0', '1302.0', '602.0', '772.0', '809.0', '786.0',\n",
       "       '921.0', '717.0', '979.0', '953.0', '244.0', '196.0', '303.0',\n",
       "       '1092.0', '261.0', '1422.0', '1137.0', '511.0', '1396.0', '1096.0',\n",
       "       '1169.0', '1239.0', '157.0', '754.0', '1303.0', '697.0', '116.0',\n",
       "       '557.0', '582.0', '704.0', '613.0', '419.0', '477.0', '1211.0',\n",
       "       '505.0', '269.0', '553.0', '1277.0', '302.0', '975.0', '1318.0',\n",
       "       '881.0', '466.0', '945.0', '433.0', '991.0', '1083.0', '136.0',\n",
       "       '333.0', '1462.0', '1131.0', '1023.0', '1065.0', '1115.0',\n",
       "       '1479.0', '304.0', '1368.0', '828.0', '799.0', '142.0', '446.0',\n",
       "       '254.0', '1410.0', '883.0', '121.0', '1343.0', '490.0', '1400.0',\n",
       "       '1332.0', '1200.0', '1102.0', '1328.0', '548.0', '1214.0', '120.0',\n",
       "       '841.0', '1033.0', '1452.0', '1268.0', '307.0', '797.0', '555.0',\n",
       "       '1377.0', '210.0', '483.0', '575.0', '1311.0', '759.0', '891.0',\n",
       "       '317.0', '688.0', '195.0', '622.0', '646.0', '719.0', '1012.0',\n",
       "       '1278.0', '1222.0', '1231.0', '462.0', '231.0', '1089.0', '1262.0',\n",
       "       '439.0', '528.0', '647.0', '1097.0', '942.0', '966.0', '168.0',\n",
       "       '299.0', '999.0', '1498.0', '1439.0', '1111.0', '1174.0', '172.0',\n",
       "       '401.0', '866.0', '571.0', '1342.0', '995.0', '118.0', '990.0',\n",
       "       '241.0', '1470.0', '492.0', '1040.0', '1320.0', '146.0', '1153.0',\n",
       "       '185.0', '1297.0', '1064.0', '1351.0', '468.0', '1273.0', '1141.0',\n",
       "       '1488.0', '653.0', '1225.0', '1217.0', '1127.0', '1427.0', '702.0',\n",
       "       '926.0', '878.0', '896.0', '1401.0', '675.0', '1070.0', '496.0',\n",
       "       '390.0', '1220.0', '1124.0', '1046.0', '267.0', '443.0', '1287.0',\n",
       "       '1420.0', '562.0', '650.0', '141.0', '715.0', '376.0', '932.0',\n",
       "       '471.0', '180.0', '1265.0', '1075.0', '1086.0', '152.0', '974.0',\n",
       "       '788.0', '192.0', '150.0', '1167.0', '206.0', '736.0', '322.0',\n",
       "       '683.0', '1475.0', '560.0', '115.0', '888.0', '671.0', '567.0',\n",
       "       '148.0', '581.0', '371.0', '1181.0', '1253.0', '370.0', '1194.0',\n",
       "       '572.0', '355.0', '783.0', '155.0', '508.0', '642.0', '1382.0',\n",
       "       '1037.0', '1120.0', '374.0', '287.0', '591.0', '670.0', '1346.0',\n",
       "       '103.0', '673.0', '705.0', '1459.0', '1443.0', '1142.0', '664.0',\n",
       "       '432.0', '1353.0', '489.0', '807.0', '1280.0', '957.0', '542.0',\n",
       "       '216.0', '1150.0', '364.0', '1256.0', '440.0', '713.0', '140.0',\n",
       "       '629.0', '328.0', '472.0', '905.0', '1151.0', '644.0', '992.0',\n",
       "       '1323.0', '818.0', '1431.0', '976.0', '832.0', '916.0', '1247.0',\n",
       "       '128.0', '1158.0', '996.0', '1449.0', '636.0', '889.0', '106.0',\n",
       "       '723.0', '1482.0', '738.0', '1192.0', '1309.0', '544.0', '641.0',\n",
       "       '756.0', '895.0', '1261.0', '329.0', '1362.0', '1371.0', '821.0',\n",
       "       '1381.0', '1473.0', '296.0', '1349.0', '986.0', '413.0', '988.0',\n",
       "       '1474.0', '232.0', '1236.0', '1112.0', '204.0', '913.0', '810.0',\n",
       "       '693.0', '316.0', '381.0', '775.0', '804.0', '1090.0', '346.0',\n",
       "       '725.0', '182.0', '384.0', '1325.0', '1258.0', '1041.0', '625.0',\n",
       "       '1418.0', '1269.0', '395.0', '341.0', '500.0', '1454.0', '617.0',\n",
       "       '1122.0', '1198.0', '188.0', '335.0', '461.0', '1134.0', '138.0',\n",
       "       '1206.0', '109.0', '277.0', '265.0', '342.0', '1186.0', '769.0',\n",
       "       '1176.0', '1091.0', '618.0', '970.0', '984.0', '793.0', '1182.0',\n",
       "       '603.0', '874.0', '367.0', '199.0', '1457.0', '1421.0', '1450.0',\n",
       "       '1212.0', '1010.0', '131.0', '193.0', '640.0', '848.0', '1138.0',\n",
       "       '256.0', '935.0', '458.0', '662.0', '499.0', '949.0', '383.0',\n",
       "       '1255.0', '1221.0', '981.0', '1495.0', '1193.0', '467.0', '271.0',\n",
       "       '410.0', '1288.0', '1108.0', '437.0', '457.0', '634.0', '546.0',\n",
       "       '711.0', '448.0', '365.0', '763.0', '486.0', '392.0', '727.0',\n",
       "       '741.0', '552.0', '506.0', '1456.0', '160.0', '897.0', '600.0',\n",
       "       '1054.0', '428.0', '343.0', '1216.0', '207.0', '280.0', '414.0',\n",
       "       '836.0', '592.0', '219.0', '1079.0', '1251.0', '1168.0', '1444.0',\n",
       "       '1154.0', '234.0', '529.0', '1322.0', '924.0', '134.0', '755.0',\n",
       "       '253.0', '922.0', '1365.0', '306.0', '1271.0', '1404.0', '1391.0',\n",
       "       '1464.0', '1330.0', '773.0', '902.0', '107.0', '504.0', '1358.0',\n",
       "       '824.0', '594.0', '734.0', '766.0', '431.0', '1213.0', '1373.0',\n",
       "       '1324.0', '1123.0', '391.0', '125.0', '1357.0', '626.0', '132.0',\n",
       "       '871.0', '1031.0', '1145.0', '854.0', '1411.0', '252.0', '833.0',\n",
       "       '1210.0', '1463.0', '812.0', '1162.0', '845.0', '1144.0', '156.0',\n",
       "       '464.0', '1305.0', '983.0', '534.0', '1306.0', '1094.0', '558.0',\n",
       "       '959.0', '782.0', '362.0', '268.0', '167.0', '1243.0', '720.0',\n",
       "       '868.0', '1252.0', '781.0', '1272.0', '129.0', '1069.0', '289.0',\n",
       "       '955.0', '660.0', '415.0', '309.0', '130.0', '862.0', '1098.0',\n",
       "       '969.0', '373.0', '599.0', '968.0', '830.0', '1423.0', '516.0',\n",
       "       '598.0', '104.0', '479.0', '474.0', '264.0', '1059.0', '563.0',\n",
       "       '1259.0', '369.0', '543.0', '964.0', '176.0', '181.0', '211.0',\n",
       "       '590.0', '305.0', '478.0', '1294.0', '1128.0', '726.0', '352.0',\n",
       "       '1172.0', '605.0', '1337.0', '105.0'], dtype=object)"
      ]
     },
     "execution_count": 50,
     "metadata": {},
     "output_type": "execute_result"
    }
   ],
   "source": [
    "df['dailyrate'] = df['dailyrate'].str.replace(\",\", \".\").str.replace(\"$\", \"\")\n",
    "df['dailyrate'].unique()"
   ]
  },
  {
   "cell_type": "code",
   "execution_count": 51,
   "metadata": {},
   "outputs": [],
   "source": [
    "df['dailyrate'] = df['dailyrate'].astype(float)"
   ]
  },
  {
   "cell_type": "code",
   "execution_count": 52,
   "metadata": {},
   "outputs": [
    {
     "data": {
      "text/html": [
       "<div>\n",
       "<style scoped>\n",
       "    .dataframe tbody tr th:only-of-type {\n",
       "        vertical-align: middle;\n",
       "    }\n",
       "\n",
       "    .dataframe tbody tr th {\n",
       "        vertical-align: top;\n",
       "    }\n",
       "\n",
       "    .dataframe thead th {\n",
       "        text-align: right;\n",
       "    }\n",
       "</style>\n",
       "<table border=\"1\" class=\"dataframe\">\n",
       "  <thead>\n",
       "    <tr style=\"text-align: right;\">\n",
       "      <th></th>\n",
       "      <th>unnamed: 0</th>\n",
       "      <th>age</th>\n",
       "      <th>attrition</th>\n",
       "      <th>businesstravel</th>\n",
       "      <th>dailyrate</th>\n",
       "      <th>department</th>\n",
       "      <th>distancefromhome</th>\n",
       "      <th>education</th>\n",
       "      <th>educationfield</th>\n",
       "      <th>employeenumber</th>\n",
       "      <th>...</th>\n",
       "      <th>trainingtimeslastyear</th>\n",
       "      <th>worklifebalance</th>\n",
       "      <th>yearsatcompany</th>\n",
       "      <th>yearsincurrentrole</th>\n",
       "      <th>yearssincelastpromotion</th>\n",
       "      <th>yearswithcurrmanager</th>\n",
       "      <th>sameasmonthlyincome</th>\n",
       "      <th>datebirth</th>\n",
       "      <th>roledepartament</th>\n",
       "      <th>remotework</th>\n",
       "    </tr>\n",
       "  </thead>\n",
       "  <tbody>\n",
       "    <tr>\n",
       "      <th>1249</th>\n",
       "      <td>1249</td>\n",
       "      <td>20</td>\n",
       "      <td>Yes</td>\n",
       "      <td>NaN</td>\n",
       "      <td>871.0</td>\n",
       "      <td>research &amp; development</td>\n",
       "      <td>6</td>\n",
       "      <td>3</td>\n",
       "      <td>life sciences</td>\n",
       "      <td>137,0</td>\n",
       "      <td>...</td>\n",
       "      <td>5</td>\n",
       "      <td>3,0</td>\n",
       "      <td>1</td>\n",
       "      <td>NaN</td>\n",
       "      <td>1</td>\n",
       "      <td>0</td>\n",
       "      <td>2926,0</td>\n",
       "      <td>2003</td>\n",
       "      <td>LaBORatORy tEchNiCian  -  Research &amp; Developm...</td>\n",
       "      <td>False</td>\n",
       "    </tr>\n",
       "  </tbody>\n",
       "</table>\n",
       "<p>1 rows × 37 columns</p>\n",
       "</div>"
      ],
      "text/plain": [
       "      unnamed: 0  age attrition businesstravel  dailyrate  \\\n",
       "1249        1249   20       Yes            NaN      871.0   \n",
       "\n",
       "                    department  distancefromhome  education educationfield  \\\n",
       "1249   research & development                  6          3  life sciences   \n",
       "\n",
       "     employeenumber  ...  trainingtimeslastyear  worklifebalance  \\\n",
       "1249          137,0  ...                      5              3,0   \n",
       "\n",
       "     yearsatcompany  yearsincurrentrole  yearssincelastpromotion  \\\n",
       "1249              1                 NaN                        1   \n",
       "\n",
       "     yearswithcurrmanager  sameasmonthlyincome datebirth  \\\n",
       "1249                    0               2926,0      2003   \n",
       "\n",
       "                                        roledepartament  remotework  \n",
       "1249   LaBORatORy tEchNiCian  -  Research & Developm...       False  \n",
       "\n",
       "[1 rows x 37 columns]"
      ]
     },
     "execution_count": 52,
     "metadata": {},
     "output_type": "execute_result"
    }
   ],
   "source": [
    "df.sample()"
   ]
  },
  {
   "cell_type": "markdown",
   "metadata": {},
   "source": [
    "--------"
   ]
  },
  {
   "cell_type": "markdown",
   "metadata": {},
   "source": [
    "- `Eliminar los NAN`❓\n",
    "- `Cambiar a minúscula los datos`✅"
   ]
  },
  {
   "cell_type": "code",
   "execution_count": 35,
   "metadata": {},
   "outputs": [
    {
     "data": {
      "text/plain": [
       "array([nan, ' Research & Development ', ' Sales ', ' Human Resources '],\n",
       "      dtype=object)"
      ]
     },
     "execution_count": 35,
     "metadata": {},
     "output_type": "execute_result"
    }
   ],
   "source": [
    "df['department'].unique()"
   ]
  },
  {
   "cell_type": "code",
   "execution_count": 36,
   "metadata": {},
   "outputs": [
    {
     "data": {
      "text/html": [
       "<div>\n",
       "<style scoped>\n",
       "    .dataframe tbody tr th:only-of-type {\n",
       "        vertical-align: middle;\n",
       "    }\n",
       "\n",
       "    .dataframe tbody tr th {\n",
       "        vertical-align: top;\n",
       "    }\n",
       "\n",
       "    .dataframe thead th {\n",
       "        text-align: right;\n",
       "    }\n",
       "</style>\n",
       "<table border=\"1\" class=\"dataframe\">\n",
       "  <thead>\n",
       "    <tr style=\"text-align: right;\">\n",
       "      <th></th>\n",
       "      <th>unnamed: 0</th>\n",
       "      <th>age</th>\n",
       "      <th>attrition</th>\n",
       "      <th>businesstravel</th>\n",
       "      <th>dailyrate</th>\n",
       "      <th>department</th>\n",
       "      <th>distancefromhome</th>\n",
       "      <th>education</th>\n",
       "      <th>educationfield</th>\n",
       "      <th>employeenumber</th>\n",
       "      <th>...</th>\n",
       "      <th>trainingtimeslastyear</th>\n",
       "      <th>worklifebalance</th>\n",
       "      <th>yearsatcompany</th>\n",
       "      <th>yearsincurrentrole</th>\n",
       "      <th>yearssincelastpromotion</th>\n",
       "      <th>yearswithcurrmanager</th>\n",
       "      <th>sameasmonthlyincome</th>\n",
       "      <th>datebirth</th>\n",
       "      <th>roledepartament</th>\n",
       "      <th>remotework</th>\n",
       "    </tr>\n",
       "  </thead>\n",
       "  <tbody>\n",
       "    <tr>\n",
       "      <th>0</th>\n",
       "      <td>0</td>\n",
       "      <td>51</td>\n",
       "      <td>No</td>\n",
       "      <td>NaN</td>\n",
       "      <td>684.0$</td>\n",
       "      <td>NaN</td>\n",
       "      <td>6</td>\n",
       "      <td>3</td>\n",
       "      <td>NaN</td>\n",
       "      <td>162,0</td>\n",
       "      <td>...</td>\n",
       "      <td>5</td>\n",
       "      <td>3,0</td>\n",
       "      <td>20</td>\n",
       "      <td>NaN</td>\n",
       "      <td>15</td>\n",
       "      <td>15</td>\n",
       "      <td>19537,0</td>\n",
       "      <td>1972</td>\n",
       "      <td>NaN</td>\n",
       "      <td>Yes</td>\n",
       "    </tr>\n",
       "    <tr>\n",
       "      <th>1</th>\n",
       "      <td>1</td>\n",
       "      <td>52</td>\n",
       "      <td>No</td>\n",
       "      <td>NaN</td>\n",
       "      <td>699.0$</td>\n",
       "      <td>NaN</td>\n",
       "      <td>1</td>\n",
       "      <td>4</td>\n",
       "      <td>Life Sciences</td>\n",
       "      <td>259,0</td>\n",
       "      <td>...</td>\n",
       "      <td>5</td>\n",
       "      <td>3,0</td>\n",
       "      <td>33</td>\n",
       "      <td>NaN</td>\n",
       "      <td>11</td>\n",
       "      <td>9</td>\n",
       "      <td>19999,0</td>\n",
       "      <td>1971</td>\n",
       "      <td>NaN</td>\n",
       "      <td>1</td>\n",
       "    </tr>\n",
       "    <tr>\n",
       "      <th>2</th>\n",
       "      <td>2</td>\n",
       "      <td>42</td>\n",
       "      <td>No</td>\n",
       "      <td>travel rarely</td>\n",
       "      <td>532.0$</td>\n",
       "      <td>research &amp; development</td>\n",
       "      <td>4</td>\n",
       "      <td>2</td>\n",
       "      <td>Technical Degree</td>\n",
       "      <td>319,0</td>\n",
       "      <td>...</td>\n",
       "      <td>3</td>\n",
       "      <td>NaN</td>\n",
       "      <td>22</td>\n",
       "      <td>NaN</td>\n",
       "      <td>11</td>\n",
       "      <td>15</td>\n",
       "      <td>19232,0</td>\n",
       "      <td>1981</td>\n",
       "      <td>ManaGER  -  Research &amp; Development</td>\n",
       "      <td>1</td>\n",
       "    </tr>\n",
       "    <tr>\n",
       "      <th>3</th>\n",
       "      <td>3</td>\n",
       "      <td>47</td>\n",
       "      <td>No</td>\n",
       "      <td>travel rarely</td>\n",
       "      <td>359.0$</td>\n",
       "      <td>NaN</td>\n",
       "      <td>2</td>\n",
       "      <td>4</td>\n",
       "      <td>Medical</td>\n",
       "      <td>NaN</td>\n",
       "      <td>...</td>\n",
       "      <td>2</td>\n",
       "      <td>NaN</td>\n",
       "      <td>20</td>\n",
       "      <td>NaN</td>\n",
       "      <td>5</td>\n",
       "      <td>6</td>\n",
       "      <td>17169,0</td>\n",
       "      <td>1976</td>\n",
       "      <td>NaN</td>\n",
       "      <td>False</td>\n",
       "    </tr>\n",
       "    <tr>\n",
       "      <th>4</th>\n",
       "      <td>4</td>\n",
       "      <td>46</td>\n",
       "      <td>No</td>\n",
       "      <td>NaN</td>\n",
       "      <td>1319.0$</td>\n",
       "      <td>NaN</td>\n",
       "      <td>3</td>\n",
       "      <td>3</td>\n",
       "      <td>Technical Degree</td>\n",
       "      <td>NaN</td>\n",
       "      <td>...</td>\n",
       "      <td>5</td>\n",
       "      <td>3,0</td>\n",
       "      <td>19</td>\n",
       "      <td>NaN</td>\n",
       "      <td>2</td>\n",
       "      <td>8</td>\n",
       "      <td>NaN</td>\n",
       "      <td>1977</td>\n",
       "      <td>NaN</td>\n",
       "      <td>0</td>\n",
       "    </tr>\n",
       "  </tbody>\n",
       "</table>\n",
       "<p>5 rows × 37 columns</p>\n",
       "</div>"
      ],
      "text/plain": [
       "   unnamed: 0  age attrition businesstravel dailyrate  \\\n",
       "0           0   51        No            NaN    684.0$   \n",
       "1           1   52        No            NaN    699.0$   \n",
       "2           2   42        No  travel rarely    532.0$   \n",
       "3           3   47        No  travel rarely    359.0$   \n",
       "4           4   46        No            NaN   1319.0$   \n",
       "\n",
       "                 department  distancefromhome  education    educationfield  \\\n",
       "0                       NaN                 6          3               NaN   \n",
       "1                       NaN                 1          4     Life Sciences   \n",
       "2   research & development                  4          2  Technical Degree   \n",
       "3                       NaN                 2          4           Medical   \n",
       "4                       NaN                 3          3  Technical Degree   \n",
       "\n",
       "  employeenumber  ...  trainingtimeslastyear  worklifebalance yearsatcompany  \\\n",
       "0          162,0  ...                      5              3,0             20   \n",
       "1          259,0  ...                      5              3,0             33   \n",
       "2          319,0  ...                      3              NaN             22   \n",
       "3            NaN  ...                      2              NaN             20   \n",
       "4            NaN  ...                      5              3,0             19   \n",
       "\n",
       "   yearsincurrentrole  yearssincelastpromotion yearswithcurrmanager  \\\n",
       "0                 NaN                       15                   15   \n",
       "1                 NaN                       11                    9   \n",
       "2                 NaN                       11                   15   \n",
       "3                 NaN                        5                    6   \n",
       "4                 NaN                        2                    8   \n",
       "\n",
       "   sameasmonthlyincome datebirth                       roledepartament  \\\n",
       "0              19537,0      1972                                   NaN   \n",
       "1              19999,0      1971                                   NaN   \n",
       "2              19232,0      1981   ManaGER  -  Research & Development    \n",
       "3              17169,0      1976                                   NaN   \n",
       "4                  NaN      1977                                   NaN   \n",
       "\n",
       "   remotework  \n",
       "0         Yes  \n",
       "1           1  \n",
       "2           1  \n",
       "3       False  \n",
       "4           0  \n",
       "\n",
       "[5 rows x 37 columns]"
      ]
     },
     "execution_count": 36,
     "metadata": {},
     "output_type": "execute_result"
    }
   ],
   "source": [
    "df['department'] = df['department'].str.lower()\n",
    "df.head()"
   ]
  },
  {
   "cell_type": "markdown",
   "metadata": {},
   "source": [
    "-----------"
   ]
  },
  {
   "cell_type": "markdown",
   "metadata": {},
   "source": [
    "`Cambiar los números a positivos los que están negativos`✅"
   ]
  },
  {
   "cell_type": "code",
   "execution_count": 43,
   "metadata": {},
   "outputs": [],
   "source": [
    "df['distancefromhome'] = df['distancefromhome'].abs()"
   ]
  },
  {
   "cell_type": "code",
   "execution_count": 44,
   "metadata": {},
   "outputs": [
    {
     "data": {
      "text/plain": [
       "array([ 6,  1,  4,  2,  3, 22, 25,  9,  7, 23, 10, 12, 14, 13, 15,  8, 42,\n",
       "       28, 37,  5, 16, 35, 26, 24, 29, 17, 21, 18, 30, 27, 20, 31, 39, 11,\n",
       "       19, 33, 34, 46, 36, 45, 47, 32, 41, 49, 48, 38, 43, 40, 44])"
      ]
     },
     "execution_count": 44,
     "metadata": {},
     "output_type": "execute_result"
    }
   ],
   "source": [
    "df['distancefromhome'].unique()\n"
   ]
  },
  {
   "cell_type": "markdown",
   "metadata": {},
   "source": [
    "---------"
   ]
  },
  {
   "cell_type": "markdown",
   "metadata": {},
   "source": [
    "No requiere cambios ✅"
   ]
  },
  {
   "cell_type": "code",
   "execution_count": 45,
   "metadata": {},
   "outputs": [
    {
     "data": {
      "text/plain": [
       "array([3, 4, 2, 1, 5])"
      ]
     },
     "execution_count": 45,
     "metadata": {},
     "output_type": "execute_result"
    }
   ],
   "source": [
    "df['education'].unique()"
   ]
  },
  {
   "cell_type": "markdown",
   "metadata": {},
   "source": [
    "--------"
   ]
  },
  {
   "cell_type": "markdown",
   "metadata": {},
   "source": [
    "- `cambiar a minúscula todo` ✅\n",
    "- `Eliminar los NAN`"
   ]
  },
  {
   "cell_type": "code",
   "execution_count": 47,
   "metadata": {},
   "outputs": [
    {
     "data": {
      "text/html": [
       "<div>\n",
       "<style scoped>\n",
       "    .dataframe tbody tr th:only-of-type {\n",
       "        vertical-align: middle;\n",
       "    }\n",
       "\n",
       "    .dataframe tbody tr th {\n",
       "        vertical-align: top;\n",
       "    }\n",
       "\n",
       "    .dataframe thead th {\n",
       "        text-align: right;\n",
       "    }\n",
       "</style>\n",
       "<table border=\"1\" class=\"dataframe\">\n",
       "  <thead>\n",
       "    <tr style=\"text-align: right;\">\n",
       "      <th></th>\n",
       "      <th>unnamed: 0</th>\n",
       "      <th>age</th>\n",
       "      <th>attrition</th>\n",
       "      <th>businesstravel</th>\n",
       "      <th>dailyrate</th>\n",
       "      <th>department</th>\n",
       "      <th>distancefromhome</th>\n",
       "      <th>education</th>\n",
       "      <th>educationfield</th>\n",
       "      <th>employeenumber</th>\n",
       "      <th>...</th>\n",
       "      <th>trainingtimeslastyear</th>\n",
       "      <th>worklifebalance</th>\n",
       "      <th>yearsatcompany</th>\n",
       "      <th>yearsincurrentrole</th>\n",
       "      <th>yearssincelastpromotion</th>\n",
       "      <th>yearswithcurrmanager</th>\n",
       "      <th>sameasmonthlyincome</th>\n",
       "      <th>datebirth</th>\n",
       "      <th>roledepartament</th>\n",
       "      <th>remotework</th>\n",
       "    </tr>\n",
       "  </thead>\n",
       "  <tbody>\n",
       "    <tr>\n",
       "      <th>0</th>\n",
       "      <td>0</td>\n",
       "      <td>51</td>\n",
       "      <td>No</td>\n",
       "      <td>NaN</td>\n",
       "      <td>684.0$</td>\n",
       "      <td>NaN</td>\n",
       "      <td>6</td>\n",
       "      <td>3</td>\n",
       "      <td>NaN</td>\n",
       "      <td>162,0</td>\n",
       "      <td>...</td>\n",
       "      <td>5</td>\n",
       "      <td>3,0</td>\n",
       "      <td>20</td>\n",
       "      <td>NaN</td>\n",
       "      <td>15</td>\n",
       "      <td>15</td>\n",
       "      <td>19537,0</td>\n",
       "      <td>1972</td>\n",
       "      <td>NaN</td>\n",
       "      <td>Yes</td>\n",
       "    </tr>\n",
       "    <tr>\n",
       "      <th>1</th>\n",
       "      <td>1</td>\n",
       "      <td>52</td>\n",
       "      <td>No</td>\n",
       "      <td>NaN</td>\n",
       "      <td>699.0$</td>\n",
       "      <td>NaN</td>\n",
       "      <td>1</td>\n",
       "      <td>4</td>\n",
       "      <td>life sciences</td>\n",
       "      <td>259,0</td>\n",
       "      <td>...</td>\n",
       "      <td>5</td>\n",
       "      <td>3,0</td>\n",
       "      <td>33</td>\n",
       "      <td>NaN</td>\n",
       "      <td>11</td>\n",
       "      <td>9</td>\n",
       "      <td>19999,0</td>\n",
       "      <td>1971</td>\n",
       "      <td>NaN</td>\n",
       "      <td>1</td>\n",
       "    </tr>\n",
       "    <tr>\n",
       "      <th>2</th>\n",
       "      <td>2</td>\n",
       "      <td>42</td>\n",
       "      <td>No</td>\n",
       "      <td>travel rarely</td>\n",
       "      <td>532.0$</td>\n",
       "      <td>research &amp; development</td>\n",
       "      <td>4</td>\n",
       "      <td>2</td>\n",
       "      <td>technical degree</td>\n",
       "      <td>319,0</td>\n",
       "      <td>...</td>\n",
       "      <td>3</td>\n",
       "      <td>NaN</td>\n",
       "      <td>22</td>\n",
       "      <td>NaN</td>\n",
       "      <td>11</td>\n",
       "      <td>15</td>\n",
       "      <td>19232,0</td>\n",
       "      <td>1981</td>\n",
       "      <td>ManaGER  -  Research &amp; Development</td>\n",
       "      <td>1</td>\n",
       "    </tr>\n",
       "    <tr>\n",
       "      <th>3</th>\n",
       "      <td>3</td>\n",
       "      <td>47</td>\n",
       "      <td>No</td>\n",
       "      <td>travel rarely</td>\n",
       "      <td>359.0$</td>\n",
       "      <td>NaN</td>\n",
       "      <td>2</td>\n",
       "      <td>4</td>\n",
       "      <td>medical</td>\n",
       "      <td>NaN</td>\n",
       "      <td>...</td>\n",
       "      <td>2</td>\n",
       "      <td>NaN</td>\n",
       "      <td>20</td>\n",
       "      <td>NaN</td>\n",
       "      <td>5</td>\n",
       "      <td>6</td>\n",
       "      <td>17169,0</td>\n",
       "      <td>1976</td>\n",
       "      <td>NaN</td>\n",
       "      <td>False</td>\n",
       "    </tr>\n",
       "    <tr>\n",
       "      <th>4</th>\n",
       "      <td>4</td>\n",
       "      <td>46</td>\n",
       "      <td>No</td>\n",
       "      <td>NaN</td>\n",
       "      <td>1319.0$</td>\n",
       "      <td>NaN</td>\n",
       "      <td>3</td>\n",
       "      <td>3</td>\n",
       "      <td>technical degree</td>\n",
       "      <td>NaN</td>\n",
       "      <td>...</td>\n",
       "      <td>5</td>\n",
       "      <td>3,0</td>\n",
       "      <td>19</td>\n",
       "      <td>NaN</td>\n",
       "      <td>2</td>\n",
       "      <td>8</td>\n",
       "      <td>NaN</td>\n",
       "      <td>1977</td>\n",
       "      <td>NaN</td>\n",
       "      <td>0</td>\n",
       "    </tr>\n",
       "  </tbody>\n",
       "</table>\n",
       "<p>5 rows × 37 columns</p>\n",
       "</div>"
      ],
      "text/plain": [
       "   unnamed: 0  age attrition businesstravel dailyrate  \\\n",
       "0           0   51        No            NaN    684.0$   \n",
       "1           1   52        No            NaN    699.0$   \n",
       "2           2   42        No  travel rarely    532.0$   \n",
       "3           3   47        No  travel rarely    359.0$   \n",
       "4           4   46        No            NaN   1319.0$   \n",
       "\n",
       "                 department  distancefromhome  education    educationfield  \\\n",
       "0                       NaN                 6          3               NaN   \n",
       "1                       NaN                 1          4     life sciences   \n",
       "2   research & development                  4          2  technical degree   \n",
       "3                       NaN                 2          4           medical   \n",
       "4                       NaN                 3          3  technical degree   \n",
       "\n",
       "  employeenumber  ...  trainingtimeslastyear  worklifebalance yearsatcompany  \\\n",
       "0          162,0  ...                      5              3,0             20   \n",
       "1          259,0  ...                      5              3,0             33   \n",
       "2          319,0  ...                      3              NaN             22   \n",
       "3            NaN  ...                      2              NaN             20   \n",
       "4            NaN  ...                      5              3,0             19   \n",
       "\n",
       "   yearsincurrentrole  yearssincelastpromotion yearswithcurrmanager  \\\n",
       "0                 NaN                       15                   15   \n",
       "1                 NaN                       11                    9   \n",
       "2                 NaN                       11                   15   \n",
       "3                 NaN                        5                    6   \n",
       "4                 NaN                        2                    8   \n",
       "\n",
       "   sameasmonthlyincome datebirth                       roledepartament  \\\n",
       "0              19537,0      1972                                   NaN   \n",
       "1              19999,0      1971                                   NaN   \n",
       "2              19232,0      1981   ManaGER  -  Research & Development    \n",
       "3              17169,0      1976                                   NaN   \n",
       "4                  NaN      1977                                   NaN   \n",
       "\n",
       "   remotework  \n",
       "0         Yes  \n",
       "1           1  \n",
       "2           1  \n",
       "3       False  \n",
       "4           0  \n",
       "\n",
       "[5 rows x 37 columns]"
      ]
     },
     "execution_count": 47,
     "metadata": {},
     "output_type": "execute_result"
    }
   ],
   "source": [
    "df['educationfield'] = df['educationfield'].str.lower()\n",
    "df.head()"
   ]
  },
  {
   "cell_type": "code",
   "execution_count": 48,
   "metadata": {},
   "outputs": [
    {
     "data": {
      "text/plain": [
       "array([nan, 'life sciences', 'technical degree', 'medical', 'other',\n",
       "       'marketing', 'human resources'], dtype=object)"
      ]
     },
     "execution_count": 48,
     "metadata": {},
     "output_type": "execute_result"
    }
   ],
   "source": [
    "df['educationfield'].unique()"
   ]
  },
  {
   "cell_type": "markdown",
   "metadata": {},
   "source": [
    "--------"
   ]
  },
  {
   "cell_type": "markdown",
   "metadata": {},
   "source": [
    "Eliminado ❌"
   ]
  },
  {
   "cell_type": "code",
   "execution_count": null,
   "metadata": {},
   "outputs": [],
   "source": [
    "df['employeecount'].unique()"
   ]
  },
  {
   "cell_type": "markdown",
   "metadata": {},
   "source": [
    "-------"
   ]
  },
  {
   "cell_type": "markdown",
   "metadata": {},
   "source": [
    "`Eliminar duplicados`\n",
    "Revisar bien cada registro para tomar una decisión"
   ]
  },
  {
   "cell_type": "code",
   "execution_count": 140,
   "metadata": {},
   "outputs": [
    {
     "data": {
      "text/plain": [
       "array(['162,0', '259,0', '319,0', ..., '2012,0', '2023,0', '2040,0'],\n",
       "      dtype=object)"
      ]
     },
     "execution_count": 140,
     "metadata": {},
     "output_type": "execute_result"
    }
   ],
   "source": [
    "df['employeenumber'].unique()"
   ]
  },
  {
   "cell_type": "code",
   "execution_count": 243,
   "metadata": {},
   "outputs": [
    {
     "data": {
      "text/plain": [
       "534"
      ]
     },
     "execution_count": 243,
     "metadata": {},
     "output_type": "execute_result"
    }
   ],
   "source": [
    "df['employeenumber'].duplicated().sum()"
   ]
  },
  {
   "cell_type": "code",
   "execution_count": 245,
   "metadata": {},
   "outputs": [
    {
     "data": {
      "text/plain": [
       "employeenumber\n",
       "482,0     2\n",
       "530,0     2\n",
       "507,0     2\n",
       "517,0     2\n",
       "522,0     2\n",
       "         ..\n",
       "161,0     1\n",
       "164,0     1\n",
       "190,0     1\n",
       "194,0     1\n",
       "2040,0    1\n",
       "Name: count, Length: 1079, dtype: int64"
      ]
     },
     "execution_count": 245,
     "metadata": {},
     "output_type": "execute_result"
    }
   ],
   "source": [
    "df['employeenumber'].value_counts()"
   ]
  },
  {
   "cell_type": "markdown",
   "metadata": {},
   "source": [
    "---------------------"
   ]
  },
  {
   "cell_type": "markdown",
   "metadata": {},
   "source": [
    "No requiere cambios ✅"
   ]
  },
  {
   "cell_type": "code",
   "execution_count": 141,
   "metadata": {},
   "outputs": [
    {
     "data": {
      "text/plain": [
       "array([ 1,  3,  4,  2, 42, 37, 35, 25, 27, 31, 39, 21, 15, 14, 33, 19, 12,\n",
       "       13, 28, 47, 36, 29, 24, 46, 16, 22, 41, 49, 11, 48, 18, 10, 45, 38,\n",
       "       17, 20, 26, 43])"
      ]
     },
     "execution_count": 141,
     "metadata": {},
     "output_type": "execute_result"
    }
   ],
   "source": [
    "df['EnvironmentSatisfaction'].unique()"
   ]
  },
  {
   "cell_type": "markdown",
   "metadata": {},
   "source": [
    "-------------"
   ]
  },
  {
   "cell_type": "markdown",
   "metadata": {},
   "source": [
    "- `cambiar de 0 - 1 a Male/Female o M/F`✅\n",
    "- `convertir en object ya que antes era int`✅\n"
   ]
  },
  {
   "cell_type": "code",
   "execution_count": 54,
   "metadata": {},
   "outputs": [],
   "source": [
    "df['gender'] = df['gender'].replace({0: 'Male', 1: 'Female'})"
   ]
  },
  {
   "cell_type": "code",
   "execution_count": 55,
   "metadata": {},
   "outputs": [
    {
     "data": {
      "text/plain": [
       "array(['Male', 'Female'], dtype=object)"
      ]
     },
     "execution_count": 55,
     "metadata": {},
     "output_type": "execute_result"
    }
   ],
   "source": [
    "df['gender'].unique()"
   ]
  },
  {
   "cell_type": "markdown",
   "metadata": {},
   "source": [
    "--------"
   ]
  },
  {
   "cell_type": "markdown",
   "metadata": {},
   "source": [
    "- `Cambiar a formato de hora  o int`✅\n",
    "- `Eliminar el Not Available`✅\n",
    "- Volver a guardar en el dataframe, porque no estaba hecho"
   ]
  },
  {
   "cell_type": "code",
   "execution_count": 21,
   "metadata": {},
   "outputs": [],
   "source": [
    "# Rellenar los valores NA con 0 o cualquier otro valor predeterminado\n",
    "df['hourlyrate'] = df['hourlyrate'].fillna(0)\n"
   ]
  },
  {
   "cell_type": "code",
   "execution_count": 22,
   "metadata": {},
   "outputs": [],
   "source": [
    "\n",
    "# Convertir la columna a enteros\n",
    "df['hourlyrate'] = df['hourlyrate'].astype(int)"
   ]
  },
  {
   "cell_type": "code",
   "execution_count": 23,
   "metadata": {},
   "outputs": [
    {
     "data": {
      "text/plain": [
       "array([ 51,  65,  58,  82,  45,  99,  91,  64,  55,  68,  49,  61,  79,\n",
       "        31,  69,  48,  80,  74,  98,  59,  33,  56,  66,  57,  53,  87,\n",
       "        81,  84,  32,  41,  92,  47,   0,  43,  86,  30,  42,  88,  96,\n",
       "        67,  62,  72,  78,  89,  52,  50,  90,  37,  94,  76,  60,  46,\n",
       "        83, 100,  40,  97,  54,  75,  39,  85,  63,  44,  93,  36,  35,\n",
       "        73,  71,  70,  38,  77,  95,  34])"
      ]
     },
     "execution_count": 23,
     "metadata": {},
     "output_type": "execute_result"
    }
   ],
   "source": [
    "df['hourlyrate'].unique()"
   ]
  },
  {
   "cell_type": "markdown",
   "metadata": {},
   "source": [
    "------"
   ]
  },
  {
   "cell_type": "markdown",
   "metadata": {},
   "source": [
    "No requiere cambios ✅"
   ]
  },
  {
   "cell_type": "code",
   "execution_count": 57,
   "metadata": {},
   "outputs": [
    {
     "data": {
      "text/plain": [
       "array([3, 2, 4, 1])"
      ]
     },
     "execution_count": 57,
     "metadata": {},
     "output_type": "execute_result"
    }
   ],
   "source": [
    "df['jobinvolvement'].unique()"
   ]
  },
  {
   "cell_type": "markdown",
   "metadata": {},
   "source": [
    "-------"
   ]
  },
  {
   "cell_type": "markdown",
   "metadata": {},
   "source": [
    "No requiere cambios ✅"
   ]
  },
  {
   "cell_type": "code",
   "execution_count": 58,
   "metadata": {},
   "outputs": [
    {
     "data": {
      "text/plain": [
       "array([5, 4, 3, 2, 1])"
      ]
     },
     "execution_count": 58,
     "metadata": {},
     "output_type": "execute_result"
    }
   ],
   "source": [
    "df['joblevel'].unique()"
   ]
  },
  {
   "cell_type": "markdown",
   "metadata": {},
   "source": [
    "-----------"
   ]
  },
  {
   "cell_type": "markdown",
   "metadata": {},
   "source": [
    "- `cambiar a minúsculas` ✅"
   ]
  },
  {
   "cell_type": "code",
   "execution_count": 62,
   "metadata": {},
   "outputs": [],
   "source": [
    "df['jobrole'] = df['jobrole'].str.lower()"
   ]
  },
  {
   "cell_type": "code",
   "execution_count": 63,
   "metadata": {},
   "outputs": [
    {
     "data": {
      "text/plain": [
       "array([' research director ', ' manager ', ' sales executive ',\n",
       "       ' manufacturing director ', ' research scientist ',\n",
       "       ' healthcare representative ', ' laboratory technician ',\n",
       "       ' sales representative ', ' human resources '], dtype=object)"
      ]
     },
     "execution_count": 63,
     "metadata": {},
     "output_type": "execute_result"
    }
   ],
   "source": [
    "df['jobrole'].unique()"
   ]
  },
  {
   "cell_type": "markdown",
   "metadata": {},
   "source": [
    "-------"
   ]
  },
  {
   "cell_type": "markdown",
   "metadata": {},
   "source": [
    "No requiere cambios ✅"
   ]
  },
  {
   "cell_type": "code",
   "execution_count": 64,
   "metadata": {},
   "outputs": [
    {
     "data": {
      "text/plain": [
       "array([3, 4, 1, 2])"
      ]
     },
     "execution_count": 64,
     "metadata": {},
     "output_type": "execute_result"
    }
   ],
   "source": [
    "df['jobsatisfaction'].unique()"
   ]
  },
  {
   "cell_type": "markdown",
   "metadata": {},
   "source": [
    "-------"
   ]
  },
  {
   "cell_type": "markdown",
   "metadata": {},
   "source": [
    "# DESDE AQUI FALTA REVISAR Y HACER LOS CAMBIOS\n",
    "### `Recuerden comentar lo que se cambio.`"
   ]
  },
  {
   "cell_type": "markdown",
   "metadata": {},
   "source": [
    "-------"
   ]
  },
  {
   "cell_type": "markdown",
   "metadata": {},
   "source": [
    "- `cambiar a minúsculas` ✅\n",
    "- `Eliminar los NAN`\n",
    "- `Eliminar la plabras 'Marreid' ` ✅"
   ]
  },
  {
   "cell_type": "code",
   "execution_count": 34,
   "metadata": {},
   "outputs": [],
   "source": [
    "df[\"maritalstatus\"] = df[\"maritalstatus\"].str.lower()\n",
    "df[\"maritalstatus\"] = df[\"maritalstatus\"].str.replace('marreid', 'married')"
   ]
  },
  {
   "cell_type": "code",
   "execution_count": 35,
   "metadata": {},
   "outputs": [
    {
     "data": {
      "text/plain": [
       "array([nan, 'married', 'divorced', 'single'], dtype=object)"
      ]
     },
     "execution_count": 35,
     "metadata": {},
     "output_type": "execute_result"
    }
   ],
   "source": [
    "df['maritalstatus'].unique()"
   ]
  },
  {
   "cell_type": "markdown",
   "metadata": {},
   "source": [
    "-------"
   ]
  },
  {
   "cell_type": "markdown",
   "metadata": {},
   "source": [
    "- ` quitar las comas por puntos `\n",
    "- `tiene NAN`"
   ]
  },
  {
   "cell_type": "code",
   "execution_count": 38,
   "metadata": {},
   "outputs": [],
   "source": [
    "def cambiar_comas(cadena):\n",
    "    try:\n",
    "        return float(cadena.replace(',', '').replace('.', ''))\n",
    "    except:\n",
    "        return np.nan\n",
    "df['monthlyincome'] = df['monthlyincome'].apply(cambiar_comas)"
   ]
  },
  {
   "cell_type": "code",
   "execution_count": 39,
   "metadata": {},
   "outputs": [
    {
     "data": {
      "text/plain": [
       "array([nan])"
      ]
     },
     "execution_count": 39,
     "metadata": {},
     "output_type": "execute_result"
    }
   ],
   "source": [
    "df['monthlyincome'].unique()"
   ]
  },
  {
   "cell_type": "markdown",
   "metadata": {},
   "source": [
    "-------"
   ]
  },
  {
   "cell_type": "markdown",
   "metadata": {},
   "source": [
    "No requiere cambios ✅"
   ]
  },
  {
   "cell_type": "code",
   "execution_count": 40,
   "metadata": {},
   "outputs": [
    {
     "data": {
      "text/plain": [
       "array([ 6462,  5678,  4933, ..., 15302, 26956, 16642])"
      ]
     },
     "execution_count": 40,
     "metadata": {},
     "output_type": "execute_result"
    }
   ],
   "source": [
    "df['monthlyrate'].unique()"
   ]
  },
  {
   "cell_type": "markdown",
   "metadata": {},
   "source": [
    "-------------------------"
   ]
  },
  {
   "cell_type": "markdown",
   "metadata": {},
   "source": [
    "No requiere cambios ✅"
   ]
  },
  {
   "cell_type": "code",
   "execution_count": 42,
   "metadata": {},
   "outputs": [
    {
     "data": {
      "text/plain": [
       "array([7, 0, 1, 3, 2, 4, 8, 9, 5, 6])"
      ]
     },
     "execution_count": 42,
     "metadata": {},
     "output_type": "execute_result"
    }
   ],
   "source": [
    "df[\"numcompaniesworked\"].unique()"
   ]
  },
  {
   "cell_type": "markdown",
   "metadata": {},
   "source": [
    "-------"
   ]
  },
  {
   "cell_type": "markdown",
   "metadata": {},
   "source": [
    "Eliminado ❌"
   ]
  },
  {
   "cell_type": "code",
   "execution_count": null,
   "metadata": {},
   "outputs": [],
   "source": [
    "df['Over18'].unique()"
   ]
  },
  {
   "cell_type": "markdown",
   "metadata": {},
   "source": [
    "-------"
   ]
  },
  {
   "cell_type": "markdown",
   "metadata": {},
   "source": [
    "`hay un 42% de nulos, quizás eliminarla? - Eliminar los NAN`"
   ]
  },
  {
   "cell_type": "code",
   "execution_count": 24,
   "metadata": {},
   "outputs": [
    {
     "data": {
      "text/plain": [
       "0.4188351920693928"
      ]
     },
     "execution_count": 24,
     "metadata": {},
     "output_type": "execute_result"
    }
   ],
   "source": [
    "df['overtime'].isnull().sum()/df.shape[0]"
   ]
  },
  {
   "cell_type": "code",
   "execution_count": 26,
   "metadata": {},
   "outputs": [
    {
     "data": {
      "text/plain": [
       "array(['No', nan, 'Yes'], dtype=object)"
      ]
     },
     "execution_count": 26,
     "metadata": {},
     "output_type": "execute_result"
    }
   ],
   "source": [
    "df[\"overtime\"].unique()"
   ]
  },
  {
   "cell_type": "markdown",
   "metadata": {},
   "source": [
    "-------"
   ]
  },
  {
   "cell_type": "markdown",
   "metadata": {},
   "source": [
    "No requiere cambios ✅"
   ]
  },
  {
   "cell_type": "code",
   "execution_count": 30,
   "metadata": {},
   "outputs": [
    {
     "data": {
      "text/plain": [
       "array([13, 14, 11, 19, 12, 25, 16, 17, 22, 23, 20, 15, 21, 24, 18])"
      ]
     },
     "execution_count": 30,
     "metadata": {},
     "output_type": "execute_result"
    }
   ],
   "source": [
    "df['percentsalaryhike'].unique()"
   ]
  },
  {
   "cell_type": "markdown",
   "metadata": {},
   "source": [
    "-------"
   ]
  },
  {
   "cell_type": "markdown",
   "metadata": {},
   "source": [
    "- `volverlo int`\n",
    "- `Eliminar los NAN `"
   ]
  },
  {
   "cell_type": "code",
   "execution_count": 29,
   "metadata": {},
   "outputs": [
    {
     "data": {
      "text/plain": [
       "array(['3,0', '4,0', nan], dtype=object)"
      ]
     },
     "execution_count": 29,
     "metadata": {},
     "output_type": "execute_result"
    }
   ],
   "source": [
    "df[\"performancerating\"].unique()"
   ]
  },
  {
   "cell_type": "markdown",
   "metadata": {},
   "source": [
    "-------"
   ]
  },
  {
   "cell_type": "markdown",
   "metadata": {},
   "source": [
    "No requiere cambios ✅"
   ]
  },
  {
   "cell_type": "code",
   "execution_count": 28,
   "metadata": {},
   "outputs": [
    {
     "data": {
      "text/plain": [
       "array([3, 1, 4, 2])"
      ]
     },
     "execution_count": 28,
     "metadata": {},
     "output_type": "execute_result"
    }
   ],
   "source": [
    "df[\"relationshipsatisfaction\"].unique()"
   ]
  },
  {
   "cell_type": "markdown",
   "metadata": {},
   "source": [
    "-------"
   ]
  },
  {
   "cell_type": "markdown",
   "metadata": {},
   "source": [
    "Eliminado ❌"
   ]
  },
  {
   "cell_type": "code",
   "execution_count": null,
   "metadata": {},
   "outputs": [],
   "source": [
    "df[\"standardhours\"].unique()"
   ]
  },
  {
   "cell_type": "markdown",
   "metadata": {},
   "source": [
    "-------"
   ]
  },
  {
   "cell_type": "markdown",
   "metadata": {},
   "source": [
    "No requiere cambios ✅"
   ]
  },
  {
   "cell_type": "code",
   "execution_count": 158,
   "metadata": {},
   "outputs": [
    {
     "data": {
      "text/plain": [
       "array([0, 1, 2, 3])"
      ]
     },
     "execution_count": 158,
     "metadata": {},
     "output_type": "execute_result"
    }
   ],
   "source": [
    "df[\"stockoptionlevel\"].unique()"
   ]
  },
  {
   "cell_type": "markdown",
   "metadata": {},
   "source": [
    "-------"
   ]
  },
  {
   "cell_type": "markdown",
   "metadata": {},
   "source": [
    "- `Cambiar a int `\n",
    "- `Eliminar los NAN `"
   ]
  },
  {
   "cell_type": "code",
   "execution_count": 33,
   "metadata": {},
   "outputs": [
    {
     "data": {
      "text/plain": [
       "array([nan, '34,0', '22,0', '28,0', '20,0', '21,0', '33,0', '40,0',\n",
       "       '18,0', '25,0', '15,0', '17,0', '26,0', '16,0', '24,0', '14,0',\n",
       "       '23,0', '27,0', '19,0', '11,0', '38,0', '37,0', '13,0', '12,0',\n",
       "       '29,0', '10,0', '36,0', '35,0', '9,0', '31,0', '32,0', '8,0',\n",
       "       '7,0', '30,0', '6,0', '5,0', '4,0', '3,0', '2,0', '1,0', '0,0'],\n",
       "      dtype=object)"
      ]
     },
     "execution_count": 33,
     "metadata": {},
     "output_type": "execute_result"
    }
   ],
   "source": [
    "df[\"totalworkingyears\"].unique()"
   ]
  },
  {
   "cell_type": "markdown",
   "metadata": {},
   "source": [
    "-------"
   ]
  },
  {
   "cell_type": "markdown",
   "metadata": {},
   "source": [
    "No requiere cambios ✅"
   ]
  },
  {
   "cell_type": "code",
   "execution_count": 44,
   "metadata": {},
   "outputs": [
    {
     "data": {
      "text/plain": [
       "array([5, 3, 2, 0, 1, 4, 6])"
      ]
     },
     "execution_count": 44,
     "metadata": {},
     "output_type": "execute_result"
    }
   ],
   "source": [
    "df[\"trainingtimeslastyear\"].unique()"
   ]
  },
  {
   "cell_type": "markdown",
   "metadata": {},
   "source": [
    "-----------"
   ]
  },
  {
   "cell_type": "markdown",
   "metadata": {},
   "source": [
    "- `Tiene NAN`\n",
    "- `cambiar a int`\n"
   ]
  },
  {
   "cell_type": "code",
   "execution_count": 45,
   "metadata": {},
   "outputs": [
    {
     "data": {
      "text/plain": [
       "array(['3,0', nan, '2,0', '4,0', '1,0'], dtype=object)"
      ]
     },
     "execution_count": 45,
     "metadata": {},
     "output_type": "execute_result"
    }
   ],
   "source": [
    "df['worklifebalance'].unique()"
   ]
  },
  {
   "cell_type": "markdown",
   "metadata": {},
   "source": [
    "-------"
   ]
  },
  {
   "cell_type": "markdown",
   "metadata": {},
   "source": [
    "No requiere cambios ✅"
   ]
  },
  {
   "cell_type": "code",
   "execution_count": 10,
   "metadata": {},
   "outputs": [
    {
     "data": {
      "text/plain": [
       "array([20, 33, 22, 19, 21, 18, 24, 31, 26, 16, 23, 15, 17, 32, 14, 13, 25,\n",
       "       12, 11, 37, 40, 36, 27, 29, 10,  9, 30,  8,  7, 34,  6,  5,  4,  2,\n",
       "        3,  1,  0])"
      ]
     },
     "execution_count": 10,
     "metadata": {},
     "output_type": "execute_result"
    }
   ],
   "source": [
    "df['yearsatcompany'].unique()"
   ]
  },
  {
   "cell_type": "markdown",
   "metadata": {},
   "source": [
    "-------"
   ]
  },
  {
   "cell_type": "markdown",
   "metadata": {},
   "source": [
    "- `cambiar a int`\n",
    "- `Elimiar los NAN`\n",
    "- `revisar si Eliminar la clumna porque tiene 90% null`"
   ]
  },
  {
   "cell_type": "code",
   "execution_count": 163,
   "metadata": {},
   "outputs": [
    {
     "data": {
      "text/plain": [
       "array([nan, '13,0', '12,0', '11,0', '7,0', '6,0', '4,0', '3,0', '2,0',\n",
       "       '1,0', '0,0'], dtype=object)"
      ]
     },
     "execution_count": 163,
     "metadata": {},
     "output_type": "execute_result"
    }
   ],
   "source": [
    "df['yearsincurrentrole'].unique()"
   ]
  },
  {
   "cell_type": "markdown",
   "metadata": {},
   "source": [
    "-------"
   ]
  },
  {
   "cell_type": "markdown",
   "metadata": {},
   "source": [
    "No requiere cambios ✅"
   ]
  },
  {
   "cell_type": "code",
   "execution_count": 46,
   "metadata": {},
   "outputs": [
    {
     "data": {
      "text/plain": [
       "array([15, 11,  5,  2,  4,  7,  0,  1, 13, 14,  8, 12,  3,  6, 10,  9])"
      ]
     },
     "execution_count": 46,
     "metadata": {},
     "output_type": "execute_result"
    }
   ],
   "source": [
    "df['yearssincelastpromotion'].unique()"
   ]
  },
  {
   "cell_type": "markdown",
   "metadata": {},
   "source": [
    "-------"
   ]
  },
  {
   "cell_type": "markdown",
   "metadata": {},
   "source": [
    "No requiere cambios ✅"
   ]
  },
  {
   "cell_type": "code",
   "execution_count": 6,
   "metadata": {},
   "outputs": [
    {
     "data": {
      "text/plain": [
       "array([15,  9,  6,  8,  7, 11, 10, 12,  4,  0,  5, 17,  2, 14,  1, 13,  3,\n",
       "       16])"
      ]
     },
     "execution_count": 6,
     "metadata": {},
     "output_type": "execute_result"
    }
   ],
   "source": [
    "df['yearswithcurrmanager'].unique() "
   ]
  },
  {
   "cell_type": "markdown",
   "metadata": {},
   "source": [
    "-------"
   ]
  },
  {
   "cell_type": "markdown",
   "metadata": {},
   "source": [
    "- `Cambiar a int o float`\n",
    "- `Tienen NAN`"
   ]
  },
  {
   "cell_type": "code",
   "execution_count": 7,
   "metadata": {},
   "outputs": [
    {
     "data": {
      "text/plain": [
       "array(['19537,0', '19999,0', '19232,0', '17169,0', nan, '17174,0',\n",
       "       '16595,0', '19973,0', '13402,0', '13206,0', '19545,0', '18041,0',\n",
       "       '19246,0', '10748,0', '16752,0', '6201,0', '19845,0', '4001,0',\n",
       "       '10447,0', '16064,0', '3210,0', '10266,0', '10475,0', '6162,0',\n",
       "       '4721,0', '4615,0', '16959,0', '10306,0', '5406,0', '5902,0',\n",
       "       '10855,0', '5914,0', '6646,0', '13973,0', '13320,0', '6687,0',\n",
       "       '4735,0', '13872,0', '19045,0', '16015,0', '9613,0', '11510,0',\n",
       "       '4306,0', '17046,0', '5067,0', '3692,0', '19847,0', '2308,0',\n",
       "       '5747,0', '10422,0', '6347,0', '2348,0', '3072,0', '12490,0',\n",
       "       '8020,0', '17068,0', '8943,0', '19272,0', '5577,0', '2691,0',\n",
       "       '7403,0', '8823,0', '3579,0', '17779,0', '18213,0', '13577,0',\n",
       "       '19190,0', '17123,0', '19187,0', '10008,0', '7988,0', '7083,0',\n",
       "       '4723,0', '3407,0', '2929,0', '12031,0', '15427,0', '5126,0',\n",
       "       '9619,0', '5010,0', '19033,0', '10400,0', '2793,0', '5674,0',\n",
       "       '19197,0', '8412,0', '3348,0', '5309,0', '7654,0', '12808,0',\n",
       "       '6586,0', '2519,0', '17099,0', '13120,0', '3131,0', '4444,0',\n",
       "       '6674,0', '9852,0', '17861,0', '7446,0', '13757,0', '16598,0',\n",
       "       '4285,0', '10124,0', '9714,0', '9924,0', '11245,0', '3069,0',\n",
       "       '9241,0', '6472,0', '3055,0', '8321,0', '3143,0', '8578,0',\n",
       "       '4197,0', '9888,0', '13341,0', '5677,0', '2909,0', '9526,0',\n",
       "       '6825,0', '4424,0', '5441,0', '6074,0', '6146,0', '6172,0',\n",
       "       '4668,0', '5605,0', '4319,0', '3564,0', '6261,0', '6804,0',\n",
       "       '19436,0', '5828,0', '2455,0', '5055,0', '4682,0', '5257,0',\n",
       "       '2119,0', '5974,0', '3034,0', '13212,0', '8392,0', '4051,0',\n",
       "       '4805,0', '2741,0', '5337,0', '9434,0', '5396,0', '11159,0',\n",
       "       '4960,0', '8793,0', '19189,0', '2216,0', '11713,0', '5304,0',\n",
       "       '11103,0', '6632,0', '7587,0', '4335,0', '5980,0', '4244,0',\n",
       "       '5228,0', '2700,0', '2366,0', '2329,0', '4294,0', '6725,0',\n",
       "       '10325,0', '4447,0', '10845,0', '5472,0', '6385,0', '7525,0',\n",
       "       '3660,0', '8740,0', '13499,0', '3491,0', '5220,0', '10252,0',\n",
       "       '19740,0', '6209,0', '7094,0', '4534,0', '8500,0', '4639,0',\n",
       "       '5363,0', '4081,0', '3578,0', '17328,0', '10793,0', '10851,0',\n",
       "       '10466,0', '2362,0', '6439,0', '5769,0', '4385,0', '4066,0',\n",
       "       '5206,0', '2655,0', '2570,0', '4502,0', '4968,0', '5147,0',\n",
       "       '2718,0', '3539,0', '5468,0', '5813,0', '9667,0', '5154,0',\n",
       "       '5675,0', '7314,0', '5098,0', '13570,0', '6712,0', '9991,0',\n",
       "       '10248,0', '10938,0', '2593,0', '11878,0', '8095,0', '16856,0',\n",
       "       '4537,0', '17924,0', '4014,0', '12742,0', '3376,0', '10482,0',\n",
       "       '4249,0', '6549,0', '14411,0', '19586,0', '8237,0', '3211,0',\n",
       "       '16704,0', '4774,0', '4568,0', '5993,0', '6499,0', '3452,0',\n",
       "       '6397,0', '2725,0', '3622,0', '6180,0', '6274,0', '4381,0',\n",
       "       '2559,0', '5488,0', '2514,0', '3196,0', '3420,0', '4087,0',\n",
       "       '5368,0', '12936,0', '4221,0', '4963,0', '4200,0', '5006,0',\n",
       "       '7639,0', '6502,0', '13525,0', '6349,0', '6380,0', '3102,0',\n",
       "       '4556,0', '4230,0', '4859,0', '6322,0', '10761,0', '2973,0',\n",
       "       '5204,0', '17399,0', '16885,0', '4323,0', '5155,0', '2936,0',\n",
       "       '18789,0', '4883,0', '2029,0', '2996,0', '9278,0', '4162,0',\n",
       "       '8853,0', '4876,0', '2141,0', '7756,0', '3936,0', '6842,0',\n",
       "       '3989,0', '4930,0', '3702,0', '2705,0', '4448,0', '2379,0',\n",
       "       '5487,0', '2810,0', '8938,0', '9936,0', '5454,0', '18740,0',\n",
       "       '5473,0', '13503,0', '13549,0', '18172,0', '2774,0', '9439,0',\n",
       "       '5265,0', '3815,0', '2389,0', '4000,0', '17584,0', '5661,0',\n",
       "       '4869,0', '4649,0', '10496,0', '2768,0', '3408,0', '3755,0',\n",
       "       '2187,0', '4258,0', '5326,0', '5485,0', '2782,0', '17639,0',\n",
       "       '6062,0', '6288,0', '3424,0', '4194,0', '2532,0', '5666,0',\n",
       "       '13726,0', '4107,0', '3597,0', '4115,0', '6272,0', '2517,0',\n",
       "       '3904,0', '9204,0', '4373,0', '2064,0', '2430,0', '4877,0',\n",
       "       '3760,0', '2013,0', '2974,0', '2766,0', '3377,0', '4213,0',\n",
       "       '6513,0', '4284,0', '2226,0', '5561,0', '2144,0', '5373,0',\n",
       "       '2897,0', '5321,0', '5410,0', '4850,0', '2001,0', '4404,0',\n",
       "       '3944,0', '2960,0', '18947,0', '6465,0', '2683,0', '2014,0',\n",
       "       '3441,0', '13664,0', '5021,0', '18844,0', '4739,0', '10650,0',\n",
       "       '4317,0', '2024,0', '3058,0', '3929,0', '4425,0', '2328,0',\n",
       "       '2657,0', '5940,0', '2622,0', '3212,0', '2911,0', '6931,0',\n",
       "       '2176,0', '3230,0', '18665,0', '2789,0', '6410,0', '4941,0',\n",
       "       '3983,0', '2904,0', '2696,0', '2174,0', '6755,0', '10965,0',\n",
       "       '2543,0', '19406,0', '6538,0', '2258,0', '2218,0', '2654,0',\n",
       "       '11935,0', '2546,0', '3894,0', '4262,0', '10527,0', '2400,0',\n",
       "       '3681,0', '3447,0', '19513,0', '2659,0', '8847,0', '2045,0',\n",
       "       '4851,0', '8120,0', '4577,0', '5405,0', '3708,0', '13770,0',\n",
       "       '2297,0', '2450,0', '4342,0', '2572,0', '6500,0', '3149,0',\n",
       "       '5324,0', '4382,0', '2553,0', '5933,0', '4403,0', '10934,0',\n",
       "       '2022,0', '4256,0', '3580,0', '2899,0', '5562,0', '2377,0',\n",
       "       '2404,0', '2799,0', '2811,0', '4377,0', '4240,0', '4227,0',\n",
       "       '3917,0', '4969,0', '2042,0', '2821,0', '9957,0', '2207,0',\n",
       "       '2070,0', '2791,0', '8224,0', '2610,0', '5731,0', '2539,0',\n",
       "       '2376,0', '19081,0', '2743,0', '4538,0', '3867,0', '2080,0',\n",
       "       '2096,0', '4627,0', '2302,0', '5071,0', '10596,0', '5467,0',\n",
       "       '2394,0', '3629,0', '9362,0', '3229,0', '16422,0', '5647,0',\n",
       "       '4400,0', '2066,0', '5486,0', '3162,0', '6651,0', '4898,0',\n",
       "       '3180,0', '11244,0', '4069,0', '6392,0', '4855,0', '3312,0',\n",
       "       '3117,0', '15202,0', '2580,0', '2166,0', '4374,0', '5505,0',\n",
       "       '2587,0', '15972,0', '2305,0', '3433,0', '3477,0', '3907,0',\n",
       "       '3445,0', '2760,0', '6294,0', '13116,0', '3591,0', '2105,0',\n",
       "       '3902,0', '2662,0', '2062,0', '5507,0', '8103,0', '3978,0',\n",
       "       '5399,0', '10448,0', '4440,0', '2660,0', '3375,0', '2269,0',\n",
       "       '4787,0', '2809,0', '10854,0', '2571,0', '6142,0', '2496,0',\n",
       "       '3419,0', '2501,0', '2566,0', '3920,0', '13964,0', '6540,0',\n",
       "       '2244,0', '16184,0', '4233,0', '14814,0', '17159,0', '2318,0',\n",
       "       '3617,0', '2684,0', '19237,0', '4422,0', '2552,0', '2678,0',\n",
       "       '5171,0', '11916,0', '9380,0', '5878,0', '2468,0', '4127,0',\n",
       "       '2148,0', '3886,0', '6667,0', '2090,0', '2086,0', '1951,0',\n",
       "       '3022,0', '9724,0', '3388,0', '3038,0', '2322,0', '2926,0',\n",
       "       '4505,0', '2835,0', '6553,0', '6673,0', '13591,0', '2177,0',\n",
       "       '19517,0', '19202,0', '10048,0', '2723,0', '6644,0', '3161,0',\n",
       "       '1420,0', '1200,0', '5238,0', '9985,0', '15992,0', '2370,0',\n",
       "       '6781,0', '6653,0', '2851,0', '5258,0', '2476,0', '2285,0',\n",
       "       '3448,0', '4558,0', '1702,0', '2564,0', '5070,0', '3780,0',\n",
       "       '9824,0', '1878,0', '2340,0', '2127,0', '2033,0', '9602,0',\n",
       "       '16627,0', '2083,0', '1009,0', '7861,0', '2642,0', '5121,0',\n",
       "       '2694,0', '5094,0', '2274,0', '2314,0', '2380,0', '2008,0',\n",
       "       '10552,0', '2259,0', '2413,0', '2121,0', '2479,0', '13194,0',\n",
       "       '4163,0', '2600,0', '18303,0', '4777,0', '1052,0', '2461,0',\n",
       "       '2596,0', '4728,0', '7351,0', '4766,0', '2827,0', '2853,0',\n",
       "       '2290,0', '2107,0', '2210,0', '13191,0', '18265,0', '1118,0',\n",
       "       '2372,0', '2838,0', '18061,0', '1611,0', '4768,0', '1274,0',\n",
       "       '2561,0', '1563,0', '6388,0', '8376,0', '4841,0', '2074,0',\n",
       "       '2972,0', '6815,0', '2690,0', '17567,0', '1569,0', '4187,0',\n",
       "       '3306,0', '1393,0', '10883,0', '2862,0', '6735,0', '9756,0',\n",
       "       '5294,0', '2437,0', '4071,0', '2956,0', '4648,0', '2804,0',\n",
       "       '2439,0', '2856,0', '2933,0', '1091,0', '5151,0', '2863,0',\n",
       "       '2858,0', '1129,0', '19431,0'], dtype=object)"
      ]
     },
     "execution_count": 7,
     "metadata": {},
     "output_type": "execute_result"
    }
   ],
   "source": [
    "df[\"sameasmonthlyincome\"].unique()"
   ]
  },
  {
   "cell_type": "markdown",
   "metadata": {},
   "source": [
    "-------"
   ]
  },
  {
   "cell_type": "markdown",
   "metadata": {},
   "source": [
    "- `Cambiar dato a fecha año`\n"
   ]
  },
  {
   "cell_type": "code",
   "execution_count": 167,
   "metadata": {},
   "outputs": [
    {
     "data": {
      "text/plain": [
       "array([1972, 1971, 1981, 1976, 1977, 1975, 1964, 1982, 1967, 1985, 1968,\n",
       "       1983, 1965, 1988, 1978, 1990, 1987, 1989, 1970, 1980, 1963, 1991,\n",
       "       1986, 1974, 1984, 1973, 1979, 1993, 1994, 1992, 1969, 1966, 1996,\n",
       "       1995, 1997, 1998, 1999, 2000, 2001, 2002, 2003, 2004, 2005])"
      ]
     },
     "execution_count": 167,
     "metadata": {},
     "output_type": "execute_result"
    }
   ],
   "source": [
    "df[\"DateBirth\"].unique()"
   ]
  },
  {
   "cell_type": "markdown",
   "metadata": {},
   "source": [
    "-------"
   ]
  },
  {
   "cell_type": "markdown",
   "metadata": {},
   "source": [
    "Eliminado ❌"
   ]
  },
  {
   "cell_type": "code",
   "execution_count": null,
   "metadata": {},
   "outputs": [],
   "source": [
    "df[\"salary\"].unique()"
   ]
  },
  {
   "cell_type": "markdown",
   "metadata": {},
   "source": [
    "-------"
   ]
  },
  {
   "cell_type": "markdown",
   "metadata": {},
   "source": [
    "- `Cambiar a minúsculas` ✅\n",
    "- `Eliminar los NAN`\n",
    "- `Eliminar la columna porque tiene muchos nulos`"
   ]
  },
  {
   "cell_type": "code",
   "execution_count": 8,
   "metadata": {},
   "outputs": [],
   "source": [
    "df['roledepartament'] = df['roledepartament'].str.lower()"
   ]
  },
  {
   "cell_type": "code",
   "execution_count": 9,
   "metadata": {},
   "outputs": [
    {
     "data": {
      "text/plain": [
       "array([nan, ' manager  -  research & development ',\n",
       "       ' healthcare representative  -  research & development ',\n",
       "       ' sales executive  -  sales ',\n",
       "       ' laboratory technician  -  research & development ',\n",
       "       ' manufacturing director  -  research & development ',\n",
       "       ' research scientist  -  research & development ',\n",
       "       ' research director  -  research & development ',\n",
       "       ' human resources  -  human resources ', ' manager  -  sales ',\n",
       "       ' sales representative  -  sales ',\n",
       "       ' manager  -  human resources '], dtype=object)"
      ]
     },
     "execution_count": 9,
     "metadata": {},
     "output_type": "execute_result"
    }
   ],
   "source": [
    "df['roledepartament'].unique()"
   ]
  },
  {
   "cell_type": "markdown",
   "metadata": {},
   "source": [
    "------"
   ]
  },
  {
   "cell_type": "markdown",
   "metadata": {},
   "source": [
    "Eliminado ❌"
   ]
  },
  {
   "cell_type": "code",
   "execution_count": null,
   "metadata": {},
   "outputs": [],
   "source": [
    "df[\"numberchildren\"].unique()"
   ]
  },
  {
   "cell_type": "markdown",
   "metadata": {},
   "source": [
    "-------"
   ]
  },
  {
   "cell_type": "markdown",
   "metadata": {},
   "source": [
    "- `Cambiar falso por No y True por Si`\n",
    "- `eliminar Yes`\n",
    "- `Revisar para cambiar los 1: por (Si o No) y los 0: por (Si o No). Dependiedo como interpretar esos dos valores`"
   ]
  },
  {
   "cell_type": "code",
   "execution_count": 67,
   "metadata": {},
   "outputs": [
    {
     "data": {
      "text/plain": [
       "array(['Yes', '1', 'False', '0', 'True'], dtype=object)"
      ]
     },
     "execution_count": 67,
     "metadata": {},
     "output_type": "execute_result"
    }
   ],
   "source": [
    "df[\"remotework\"].unique()"
   ]
  },
  {
   "cell_type": "markdown",
   "metadata": {},
   "source": [
    "-------"
   ]
  },
  {
   "cell_type": "code",
   "execution_count": 74,
   "metadata": {},
   "outputs": [],
   "source": [
    "# Guarda el DataFrame como un archivo CSV\n",
    "df.to_csv(\"df_limpio.csv\", index = False)"
   ]
  }
 ],
 "metadata": {
  "kernelspec": {
   "display_name": "Python 3",
   "language": "python",
   "name": "python3"
  },
  "language_info": {
   "codemirror_mode": {
    "name": "ipython",
    "version": 3
   },
   "file_extension": ".py",
   "mimetype": "text/x-python",
   "name": "python",
   "nbconvert_exporter": "python",
   "pygments_lexer": "ipython3",
   "version": "3.11.5"
  }
 },
 "nbformat": 4,
 "nbformat_minor": 2
}
