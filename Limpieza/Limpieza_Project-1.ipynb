{
 "cells": [
  {
   "cell_type": "code",
   "execution_count": 84,
   "metadata": {},
   "outputs": [],
   "source": [
    "import numpy as np\n",
    "import pandas as pd\n",
    "import re\n",
    "\n",
    "# Configuración\n",
    "# -----------------------------------------------------------------------\n",
    "pd.set_option('display.max_columns', None) # para poder visualizar todas las columnas de los DataFrames"
   ]
  },
  {
   "cell_type": "markdown",
   "metadata": {},
   "source": [
    "# Punto --> Exploración de los datos! ✅"
   ]
  },
  {
   "cell_type": "code",
   "execution_count": 85,
   "metadata": {},
   "outputs": [
    {
     "data": {
      "text/html": [
       "<div>\n",
       "<style scoped>\n",
       "    .dataframe tbody tr th:only-of-type {\n",
       "        vertical-align: middle;\n",
       "    }\n",
       "\n",
       "    .dataframe tbody tr th {\n",
       "        vertical-align: top;\n",
       "    }\n",
       "\n",
       "    .dataframe thead th {\n",
       "        text-align: right;\n",
       "    }\n",
       "</style>\n",
       "<table border=\"1\" class=\"dataframe\">\n",
       "  <thead>\n",
       "    <tr style=\"text-align: right;\">\n",
       "      <th></th>\n",
       "      <th>age</th>\n",
       "      <th>attrition</th>\n",
       "      <th>businesstravel</th>\n",
       "      <th>dailyrate</th>\n",
       "      <th>department</th>\n",
       "      <th>distancefromhome</th>\n",
       "      <th>education</th>\n",
       "      <th>educationfield</th>\n",
       "      <th>employeenumber</th>\n",
       "      <th>environmentsatisfaction</th>\n",
       "      <th>gender</th>\n",
       "      <th>hourlyrate</th>\n",
       "      <th>jobinvolvement</th>\n",
       "      <th>joblevel</th>\n",
       "      <th>jobrole</th>\n",
       "      <th>jobsatisfaction</th>\n",
       "      <th>maritalstatus</th>\n",
       "      <th>monthlyincome</th>\n",
       "      <th>monthlyrate</th>\n",
       "      <th>numcompaniesworked</th>\n",
       "      <th>overtime</th>\n",
       "      <th>percentsalaryhike</th>\n",
       "      <th>performancerating</th>\n",
       "      <th>relationshipsatisfaction</th>\n",
       "      <th>stockoptionlevel</th>\n",
       "      <th>totalworkingyears</th>\n",
       "      <th>trainingtimeslastyear</th>\n",
       "      <th>worklifebalance</th>\n",
       "      <th>yearsatcompany</th>\n",
       "      <th>yearsincurrentrole</th>\n",
       "      <th>yearssincelastpromotion</th>\n",
       "      <th>yearswithcurrmanager</th>\n",
       "      <th>sameasmonthlyincome</th>\n",
       "      <th>datebirth</th>\n",
       "      <th>roledepartament</th>\n",
       "      <th>remotework</th>\n",
       "    </tr>\n",
       "    <tr>\n",
       "      <th>unnamed: 0</th>\n",
       "      <th></th>\n",
       "      <th></th>\n",
       "      <th></th>\n",
       "      <th></th>\n",
       "      <th></th>\n",
       "      <th></th>\n",
       "      <th></th>\n",
       "      <th></th>\n",
       "      <th></th>\n",
       "      <th></th>\n",
       "      <th></th>\n",
       "      <th></th>\n",
       "      <th></th>\n",
       "      <th></th>\n",
       "      <th></th>\n",
       "      <th></th>\n",
       "      <th></th>\n",
       "      <th></th>\n",
       "      <th></th>\n",
       "      <th></th>\n",
       "      <th></th>\n",
       "      <th></th>\n",
       "      <th></th>\n",
       "      <th></th>\n",
       "      <th></th>\n",
       "      <th></th>\n",
       "      <th></th>\n",
       "      <th></th>\n",
       "      <th></th>\n",
       "      <th></th>\n",
       "      <th></th>\n",
       "      <th></th>\n",
       "      <th></th>\n",
       "      <th></th>\n",
       "      <th></th>\n",
       "      <th></th>\n",
       "    </tr>\n",
       "  </thead>\n",
       "  <tbody>\n",
       "    <tr>\n",
       "      <th>0</th>\n",
       "      <td>51</td>\n",
       "      <td>No</td>\n",
       "      <td>NaN</td>\n",
       "      <td>684.0</td>\n",
       "      <td>NaN</td>\n",
       "      <td>6</td>\n",
       "      <td>3</td>\n",
       "      <td>NaN</td>\n",
       "      <td>162,0</td>\n",
       "      <td>1</td>\n",
       "      <td>Male</td>\n",
       "      <td>51</td>\n",
       "      <td>3</td>\n",
       "      <td>5</td>\n",
       "      <td>research director</td>\n",
       "      <td>3</td>\n",
       "      <td>NaN</td>\n",
       "      <td>19537,0</td>\n",
       "      <td>6462</td>\n",
       "      <td>7</td>\n",
       "      <td>No</td>\n",
       "      <td>13</td>\n",
       "      <td>3,0</td>\n",
       "      <td>3</td>\n",
       "      <td>0</td>\n",
       "      <td>NaN</td>\n",
       "      <td>5</td>\n",
       "      <td>3,0</td>\n",
       "      <td>20</td>\n",
       "      <td>NaN</td>\n",
       "      <td>15</td>\n",
       "      <td>15</td>\n",
       "      <td>19537,0</td>\n",
       "      <td>1972</td>\n",
       "      <td>NaN</td>\n",
       "      <td>Yes</td>\n",
       "    </tr>\n",
       "    <tr>\n",
       "      <th>1</th>\n",
       "      <td>52</td>\n",
       "      <td>No</td>\n",
       "      <td>NaN</td>\n",
       "      <td>699.0</td>\n",
       "      <td>NaN</td>\n",
       "      <td>1</td>\n",
       "      <td>4</td>\n",
       "      <td>life sciences</td>\n",
       "      <td>259,0</td>\n",
       "      <td>3</td>\n",
       "      <td>Male</td>\n",
       "      <td>65</td>\n",
       "      <td>2</td>\n",
       "      <td>5</td>\n",
       "      <td>manager</td>\n",
       "      <td>3</td>\n",
       "      <td>NaN</td>\n",
       "      <td>19999,0</td>\n",
       "      <td>5678</td>\n",
       "      <td>0</td>\n",
       "      <td>NaN</td>\n",
       "      <td>14</td>\n",
       "      <td>3,0</td>\n",
       "      <td>1</td>\n",
       "      <td>1</td>\n",
       "      <td>34,0</td>\n",
       "      <td>5</td>\n",
       "      <td>3,0</td>\n",
       "      <td>33</td>\n",
       "      <td>NaN</td>\n",
       "      <td>11</td>\n",
       "      <td>9</td>\n",
       "      <td>19999,0</td>\n",
       "      <td>1971</td>\n",
       "      <td>NaN</td>\n",
       "      <td>1</td>\n",
       "    </tr>\n",
       "    <tr>\n",
       "      <th>2</th>\n",
       "      <td>42</td>\n",
       "      <td>No</td>\n",
       "      <td>travel rarely</td>\n",
       "      <td>532.0</td>\n",
       "      <td>research &amp; development</td>\n",
       "      <td>4</td>\n",
       "      <td>2</td>\n",
       "      <td>technical degree</td>\n",
       "      <td>319,0</td>\n",
       "      <td>3</td>\n",
       "      <td>Male</td>\n",
       "      <td>58</td>\n",
       "      <td>3</td>\n",
       "      <td>5</td>\n",
       "      <td>manager</td>\n",
       "      <td>4</td>\n",
       "      <td>Married</td>\n",
       "      <td>19232,0</td>\n",
       "      <td>4933</td>\n",
       "      <td>1</td>\n",
       "      <td>No</td>\n",
       "      <td>11</td>\n",
       "      <td>3,0</td>\n",
       "      <td>4</td>\n",
       "      <td>0</td>\n",
       "      <td>22,0</td>\n",
       "      <td>3</td>\n",
       "      <td>NaN</td>\n",
       "      <td>22</td>\n",
       "      <td>NaN</td>\n",
       "      <td>11</td>\n",
       "      <td>15</td>\n",
       "      <td>19232,0</td>\n",
       "      <td>1981</td>\n",
       "      <td>manager  -  research &amp; development</td>\n",
       "      <td>1</td>\n",
       "    </tr>\n",
       "    <tr>\n",
       "      <th>3</th>\n",
       "      <td>47</td>\n",
       "      <td>No</td>\n",
       "      <td>travel rarely</td>\n",
       "      <td>359.0</td>\n",
       "      <td>NaN</td>\n",
       "      <td>2</td>\n",
       "      <td>4</td>\n",
       "      <td>medical</td>\n",
       "      <td>NaN</td>\n",
       "      <td>1</td>\n",
       "      <td>Female</td>\n",
       "      <td>82</td>\n",
       "      <td>3</td>\n",
       "      <td>4</td>\n",
       "      <td>research director</td>\n",
       "      <td>3</td>\n",
       "      <td>Married</td>\n",
       "      <td>17169,0</td>\n",
       "      <td>26703</td>\n",
       "      <td>3</td>\n",
       "      <td>NaN</td>\n",
       "      <td>19</td>\n",
       "      <td>3,0</td>\n",
       "      <td>2</td>\n",
       "      <td>2</td>\n",
       "      <td>NaN</td>\n",
       "      <td>2</td>\n",
       "      <td>NaN</td>\n",
       "      <td>20</td>\n",
       "      <td>NaN</td>\n",
       "      <td>5</td>\n",
       "      <td>6</td>\n",
       "      <td>17169,0</td>\n",
       "      <td>1976</td>\n",
       "      <td>NaN</td>\n",
       "      <td>False</td>\n",
       "    </tr>\n",
       "    <tr>\n",
       "      <th>4</th>\n",
       "      <td>46</td>\n",
       "      <td>No</td>\n",
       "      <td>NaN</td>\n",
       "      <td>1319.0</td>\n",
       "      <td>NaN</td>\n",
       "      <td>3</td>\n",
       "      <td>3</td>\n",
       "      <td>technical degree</td>\n",
       "      <td>NaN</td>\n",
       "      <td>1</td>\n",
       "      <td>Female</td>\n",
       "      <td>45</td>\n",
       "      <td>4</td>\n",
       "      <td>4</td>\n",
       "      <td>sales executive</td>\n",
       "      <td>1</td>\n",
       "      <td>Divorced</td>\n",
       "      <td>NaN</td>\n",
       "      <td>7739</td>\n",
       "      <td>2</td>\n",
       "      <td>No</td>\n",
       "      <td>12</td>\n",
       "      <td>3,0</td>\n",
       "      <td>4</td>\n",
       "      <td>1</td>\n",
       "      <td>NaN</td>\n",
       "      <td>5</td>\n",
       "      <td>3,0</td>\n",
       "      <td>19</td>\n",
       "      <td>NaN</td>\n",
       "      <td>2</td>\n",
       "      <td>8</td>\n",
       "      <td>NaN</td>\n",
       "      <td>1977</td>\n",
       "      <td>NaN</td>\n",
       "      <td>0</td>\n",
       "    </tr>\n",
       "  </tbody>\n",
       "</table>\n",
       "</div>"
      ],
      "text/plain": [
       "            age attrition businesstravel  dailyrate                department  \\\n",
       "unnamed: 0                                                                      \n",
       "0            51        No            NaN      684.0                       NaN   \n",
       "1            52        No            NaN      699.0                       NaN   \n",
       "2            42        No  travel rarely      532.0   research & development    \n",
       "3            47        No  travel rarely      359.0                       NaN   \n",
       "4            46        No            NaN     1319.0                       NaN   \n",
       "\n",
       "            distancefromhome  education    educationfield employeenumber  \\\n",
       "unnamed: 0                                                                 \n",
       "0                          6          3               NaN          162,0   \n",
       "1                          1          4     life sciences          259,0   \n",
       "2                          4          2  technical degree          319,0   \n",
       "3                          2          4           medical            NaN   \n",
       "4                          3          3  technical degree            NaN   \n",
       "\n",
       "            environmentsatisfaction  gender hourlyrate  jobinvolvement  \\\n",
       "unnamed: 0                                                               \n",
       "0                                 1    Male         51               3   \n",
       "1                                 3    Male         65               2   \n",
       "2                                 3    Male         58               3   \n",
       "3                                 1  Female         82               3   \n",
       "4                                 1  Female         45               4   \n",
       "\n",
       "            joblevel              jobrole  jobsatisfaction maritalstatus  \\\n",
       "unnamed: 0                                                                 \n",
       "0                  5   research director                 3           NaN   \n",
       "1                  5             manager                 3           NaN   \n",
       "2                  5             manager                 4       Married   \n",
       "3                  4   research director                 3       Married   \n",
       "4                  4     sales executive                 1      Divorced   \n",
       "\n",
       "           monthlyincome  monthlyrate  numcompaniesworked overtime  \\\n",
       "unnamed: 0                                                           \n",
       "0                19537,0         6462                   7       No   \n",
       "1                19999,0         5678                   0      NaN   \n",
       "2                19232,0         4933                   1       No   \n",
       "3                17169,0        26703                   3      NaN   \n",
       "4                    NaN         7739                   2       No   \n",
       "\n",
       "            percentsalaryhike performancerating  relationshipsatisfaction  \\\n",
       "unnamed: 0                                                                  \n",
       "0                          13               3,0                         3   \n",
       "1                          14               3,0                         1   \n",
       "2                          11               3,0                         4   \n",
       "3                          19               3,0                         2   \n",
       "4                          12               3,0                         4   \n",
       "\n",
       "            stockoptionlevel totalworkingyears  trainingtimeslastyear  \\\n",
       "unnamed: 0                                                              \n",
       "0                          0               NaN                      5   \n",
       "1                          1              34,0                      5   \n",
       "2                          0              22,0                      3   \n",
       "3                          2               NaN                      2   \n",
       "4                          1               NaN                      5   \n",
       "\n",
       "           worklifebalance  yearsatcompany yearsincurrentrole  \\\n",
       "unnamed: 0                                                      \n",
       "0                      3,0              20                NaN   \n",
       "1                      3,0              33                NaN   \n",
       "2                      NaN              22                NaN   \n",
       "3                      NaN              20                NaN   \n",
       "4                      3,0              19                NaN   \n",
       "\n",
       "            yearssincelastpromotion  yearswithcurrmanager sameasmonthlyincome  \\\n",
       "unnamed: 0                                                                      \n",
       "0                                15                    15             19537,0   \n",
       "1                                11                     9             19999,0   \n",
       "2                                11                    15             19232,0   \n",
       "3                                 5                     6             17169,0   \n",
       "4                                 2                     8                 NaN   \n",
       "\n",
       "            datebirth                       roledepartament remotework  \n",
       "unnamed: 0                                                              \n",
       "0                1972                                   NaN        Yes  \n",
       "1                1971                                   NaN          1  \n",
       "2                1981   manager  -  research & development           1  \n",
       "3                1976                                   NaN      False  \n",
       "4                1977                                   NaN          0  "
      ]
     },
     "execution_count": 85,
     "metadata": {},
     "output_type": "execute_result"
    }
   ],
   "source": [
    "df = pd.read_csv('df_limpio.csv', index_col= 0)\n",
    "df.head()"
   ]
  },
  {
   "cell_type": "code",
   "execution_count": 17,
   "metadata": {},
   "outputs": [
    {
     "name": "stdout",
     "output_type": "stream",
     "text": [
      "<class 'pandas.core.frame.DataFrame'>\n",
      "Index: 1614 entries, 0 to 1613\n",
      "Data columns (total 36 columns):\n",
      " #   Column                    Non-Null Count  Dtype  \n",
      "---  ------                    --------------  -----  \n",
      " 0   age                       1614 non-null   int64  \n",
      " 1   attrition                 1614 non-null   object \n",
      " 2   businesstravel            842 non-null    object \n",
      " 3   dailyrate                 1490 non-null   float64\n",
      " 4   department                302 non-null    object \n",
      " 5   distancefromhome          1614 non-null   int64  \n",
      " 6   education                 1614 non-null   int64  \n",
      " 7   educationfield            869 non-null    object \n",
      " 8   employeenumber            1183 non-null   object \n",
      " 9   environmentsatisfaction   1614 non-null   int64  \n",
      " 10  gender                    1614 non-null   object \n",
      " 11  hourlyrate                1614 non-null   object \n",
      " 12  jobinvolvement            1614 non-null   int64  \n",
      " 13  joblevel                  1614 non-null   int64  \n",
      " 14  jobrole                   1614 non-null   object \n",
      " 15  jobsatisfaction           1614 non-null   int64  \n",
      " 16  maritalstatus             963 non-null    object \n",
      " 17  monthlyincome             771 non-null    object \n",
      " 18  monthlyrate               1614 non-null   int64  \n",
      " 19  numcompaniesworked        1614 non-null   int64  \n",
      " 20  overtime                  938 non-null    object \n",
      " 21  percentsalaryhike         1614 non-null   int64  \n",
      " 22  performancerating         1419 non-null   object \n",
      " 23  relationshipsatisfaction  1614 non-null   int64  \n",
      " 24  stockoptionlevel          1614 non-null   int64  \n",
      " 25  totalworkingyears         1088 non-null   object \n",
      " 26  trainingtimeslastyear     1614 non-null   int64  \n",
      " 27  worklifebalance           1506 non-null   object \n",
      " 28  yearsatcompany            1614 non-null   int64  \n",
      " 29  yearsincurrentrole        34 non-null     object \n",
      " 30  yearssincelastpromotion   1614 non-null   int64  \n",
      " 31  yearswithcurrmanager      1614 non-null   int64  \n",
      " 32  sameasmonthlyincome       771 non-null    object \n",
      " 33  datebirth                 1614 non-null   int64  \n",
      " 34  roledepartament           302 non-null    object \n",
      " 35  remotework                1614 non-null   object \n",
      "dtypes: float64(1), int64(17), object(18)\n",
      "memory usage: 466.5+ KB\n"
     ]
    }
   ],
   "source": [
    "df.info()"
   ]
  },
  {
   "cell_type": "code",
   "execution_count": 20,
   "metadata": {},
   "outputs": [
    {
     "data": {
      "text/plain": [
       "Index(['age', 'attrition', 'businesstravel', 'dailyrate', 'department',\n",
       "       'distancefromhome', 'education', 'educationfield', 'employeenumber',\n",
       "       'environmentsatisfaction', 'gender', 'hourlyrate', 'jobinvolvement',\n",
       "       'joblevel', 'jobrole', 'jobsatisfaction', 'maritalstatus',\n",
       "       'monthlyincome', 'monthlyrate', 'numcompaniesworked', 'overtime',\n",
       "       'percentsalaryhike', 'performancerating', 'relationshipsatisfaction',\n",
       "       'stockoptionlevel', 'totalworkingyears', 'trainingtimeslastyear',\n",
       "       'worklifebalance', 'yearsatcompany', 'yearsincurrentrole',\n",
       "       'yearssincelastpromotion', 'yearswithcurrmanager',\n",
       "       'sameasmonthlyincome', 'datebirth', 'roledepartament', 'remotework'],\n",
       "      dtype='object')"
      ]
     },
     "execution_count": 20,
     "metadata": {},
     "output_type": "execute_result"
    }
   ],
   "source": [
    "df.columns"
   ]
  },
  {
   "cell_type": "code",
   "execution_count": 89,
   "metadata": {},
   "outputs": [
    {
     "data": {
      "text/plain": [
       "age                           int64\n",
       "attrition                    object\n",
       "businesstravel               object\n",
       "dailyrate                   float64\n",
       "department                   object\n",
       "distancefromhome              int64\n",
       "education                     int64\n",
       "educationfield               object\n",
       "employeenumber               object\n",
       "environmentsatisfaction       int64\n",
       "gender                       object\n",
       "hourlyrate                   object\n",
       "jobinvolvement                int64\n",
       "joblevel                      int64\n",
       "jobrole                      object\n",
       "jobsatisfaction               int64\n",
       "maritalstatus                object\n",
       "monthlyincome                object\n",
       "monthlyrate                   int64\n",
       "numcompaniesworked            int64\n",
       "overtime                     object\n",
       "percentsalaryhike             int64\n",
       "performancerating            object\n",
       "relationshipsatisfaction      int64\n",
       "stockoptionlevel              int64\n",
       "totalworkingyears            object\n",
       "trainingtimeslastyear         int64\n",
       "worklifebalance              object\n",
       "yearsatcompany                int64\n",
       "yearsincurrentrole           object\n",
       "yearssincelastpromotion       int64\n",
       "yearswithcurrmanager          int64\n",
       "sameasmonthlyincome          object\n",
       "datebirth                     int64\n",
       "remotework                   object\n",
       "dtype: object"
      ]
     },
     "execution_count": 89,
     "metadata": {},
     "output_type": "execute_result"
    }
   ],
   "source": [
    "df.dtypes"
   ]
  },
  {
   "cell_type": "markdown",
   "metadata": {},
   "source": [
    "## E) Porcentaje de valores nulos del total dataframe"
   ]
  },
  {
   "cell_type": "code",
   "execution_count": 7,
   "metadata": {},
   "outputs": [
    {
     "data": {
      "text/plain": [
       "age                            0\n",
       "attrition                      0\n",
       "businesstravel               772\n",
       "dailyrate                    124\n",
       "department                  1312\n",
       "distancefromhome               0\n",
       "education                      0\n",
       "educationfield               745\n",
       "employeenumber               431\n",
       "environmentsatisfaction        0\n",
       "gender                         0\n",
       "hourlyrate                     0\n",
       "jobinvolvement                 0\n",
       "joblevel                       0\n",
       "jobrole                        0\n",
       "jobsatisfaction                0\n",
       "maritalstatus                651\n",
       "monthlyincome                843\n",
       "monthlyrate                    0\n",
       "numcompaniesworked             0\n",
       "overtime                     676\n",
       "percentsalaryhike              0\n",
       "performancerating            195\n",
       "relationshipsatisfaction       0\n",
       "stockoptionlevel               0\n",
       "totalworkingyears            526\n",
       "trainingtimeslastyear          0\n",
       "worklifebalance              108\n",
       "yearsatcompany                 0\n",
       "yearsincurrentrole          1580\n",
       "yearssincelastpromotion        0\n",
       "yearswithcurrmanager           0\n",
       "sameasmonthlyincome          843\n",
       "datebirth                      0\n",
       "roledepartament             1312\n",
       "remotework                     0\n",
       "dtype: int64"
      ]
     },
     "execution_count": 7,
     "metadata": {},
     "output_type": "execute_result"
    }
   ],
   "source": [
    "df.isnull().sum()"
   ]
  },
  {
   "cell_type": "code",
   "execution_count": 22,
   "metadata": {},
   "outputs": [
    {
     "data": {
      "text/plain": [
       "age                          0.000000\n",
       "attrition                    0.000000\n",
       "businesstravel              47.831475\n",
       "dailyrate                    7.682776\n",
       "department                  81.288724\n",
       "distancefromhome             0.000000\n",
       "education                    0.000000\n",
       "educationfield              46.158612\n",
       "employeenumber              26.703841\n",
       "environmentsatisfaction      0.000000\n",
       "gender                       0.000000\n",
       "hourlyrate                   0.000000\n",
       "jobinvolvement               0.000000\n",
       "joblevel                     0.000000\n",
       "jobrole                      0.000000\n",
       "jobsatisfaction              0.000000\n",
       "maritalstatus               40.334572\n",
       "monthlyincome               52.230483\n",
       "monthlyrate                  0.000000\n",
       "numcompaniesworked           0.000000\n",
       "overtime                    41.883519\n",
       "percentsalaryhike            0.000000\n",
       "performancerating           12.081784\n",
       "relationshipsatisfaction     0.000000\n",
       "stockoptionlevel             0.000000\n",
       "totalworkingyears           32.589839\n",
       "trainingtimeslastyear        0.000000\n",
       "worklifebalance              6.691450\n",
       "yearsatcompany               0.000000\n",
       "yearsincurrentrole          97.893432\n",
       "yearssincelastpromotion      0.000000\n",
       "yearswithcurrmanager         0.000000\n",
       "sameasmonthlyincome         52.230483\n",
       "datebirth                    0.000000\n",
       "roledepartament             81.288724\n",
       "remotework                   0.000000\n",
       "dtype: float64"
      ]
     },
     "execution_count": 22,
     "metadata": {},
     "output_type": "execute_result"
    }
   ],
   "source": [
    "porcentaje_nulos = df.isnull().mean() * 100\n",
    "\n",
    "# df.isnull().sum()/registro[0] - Otra forma de hacerlo\n",
    "\n",
    "# Muestra los resultados<z\n",
    "porcentaje_nulos"
   ]
  },
  {
   "cell_type": "code",
   "execution_count": 23,
   "metadata": {},
   "outputs": [
    {
     "data": {
      "text/plain": [
       "(1614, 36)"
      ]
     },
     "execution_count": 23,
     "metadata": {},
     "output_type": "execute_result"
    }
   ],
   "source": [
    "registro = df.shape\n",
    "registro"
   ]
  },
  {
   "cell_type": "markdown",
   "metadata": {},
   "source": [
    "# Punto --> Revisión de cada columna"
   ]
  },
  {
   "cell_type": "code",
   "execution_count": null,
   "metadata": {},
   "outputs": [],
   "source": [
    " \n",
    "'Age' # OK\n",
    "'Attrition' # OK\n",
    "'BusinessTravel' # revisar los NAN, Eliminarlos\n",
    "'DailyRate' # OK\n",
    "'Department' # revisar los NAN, Eliminarlos\n",
    "'DistanceFromHome' # OK\n",
    "'Education' # OK\n",
    "'EducationField' # Revisar los NAN\n",
    "'employeecount' # Ok - ELIMINDADO\n",
    "'employeenumber' # duplicados\n",
    "\n",
    "'EnvironmentSatisfaction' # Ok \n",
    "'Gender' # # OK\n",
    "'HourlyRate' # OK\n",
    "'JobInvolvement' # OK\n",
    "'JobLevel' # OK\n",
    "'JobRole' # OK\n",
    "'JobSatisfaction' # OK\n",
    "'MaritalStatus' # revisar los NAN\n",
    "'MonthlyIncome' # revisar los NAN\n",
    "'MonthlyRate' # OK\n",
    "\n",
    "'NUMCOMPANIESWORKED' # OK\n",
    "'Over18' # ELIMINADO\n",
    "'OverTime' # revisar los NAN\n",
    "'PercentSalaryHike' # OK\n",
    "'PerformanceRating' # revisar los NAN\n",
    "'RelationshipSatisfaction' # OK\n",
    "'StandardHours' # ELIMINADO\n",
    "'StockOptionLevel' # OK\n",
    "'TOTALWORKINGYEARS' # revisar los NAN\n",
    "'TrainingTimesLastYear' # OK\n",
    "\n",
    "'WORKLIFEBALANCE' # revisar los NAN\n",
    "'YearsAtCompany' # OK\n",
    "'YearsInCurrentRole' # revisar los NAN - o ELIMINAR\n",
    "'YearsSinceLastPromotion' # OK\n",
    "'YEARSWITHCURRMANAGER' # OK\n",
    "'SameAsMonthlyIncome' # revisar los NAN\n",
    "'DateBirth' # OK\n",
    "'Salary' # ELIMINADO\n",
    "'RoleDepartament' # ELIMINADO\n",
    "'NUMBERCHILDREN' # ELIMINADO\n",
    "'RemoteWork' # OK"
   ]
  },
  {
   "cell_type": "markdown",
   "metadata": {},
   "source": [
    "# Eliminar columnas 👌🏼 ✅\n",
    "\n",
    "- `employeecount` # Porque siempre es el mismo valor y es un contador de los empleados\n",
    "- `Over18` # Porque ya tenemos la edad y tiene muchos valores perdidos\n",
    "- `StandardHours` # Porque todos tienen el mismo valor que es 80 y ademas tienen muchos valores perdidos\n",
    "- `Salary` # Porque es igual a 10000000$ en todos los valores del dataframe\n",
    "- `NUMBERCHILDREN` # Porque no tiene ningun valor y es todo con valores missing.\n",
    "- `roledepartament` # con un 81% de datos nulos y ya una columna en paralelo dice lo mismos datos"
   ]
  },
  {
   "cell_type": "code",
   "execution_count": 7,
   "metadata": {},
   "outputs": [],
   "source": [
    "df.drop([\"employeecount\", \"Over18\", \"StandardHours\", \"Salary\", \"NUMBERCHILDREN\"], axis=1, inplace=True )"
   ]
  },
  {
   "cell_type": "code",
   "execution_count": 86,
   "metadata": {},
   "outputs": [],
   "source": [
    "df.drop(['roledepartament'], axis=1, inplace=True)"
   ]
  },
  {
   "cell_type": "code",
   "execution_count": 87,
   "metadata": {},
   "outputs": [
    {
     "data": {
      "text/html": [
       "<div>\n",
       "<style scoped>\n",
       "    .dataframe tbody tr th:only-of-type {\n",
       "        vertical-align: middle;\n",
       "    }\n",
       "\n",
       "    .dataframe tbody tr th {\n",
       "        vertical-align: top;\n",
       "    }\n",
       "\n",
       "    .dataframe thead th {\n",
       "        text-align: right;\n",
       "    }\n",
       "</style>\n",
       "<table border=\"1\" class=\"dataframe\">\n",
       "  <thead>\n",
       "    <tr style=\"text-align: right;\">\n",
       "      <th></th>\n",
       "      <th>age</th>\n",
       "      <th>attrition</th>\n",
       "      <th>businesstravel</th>\n",
       "      <th>dailyrate</th>\n",
       "      <th>department</th>\n",
       "      <th>distancefromhome</th>\n",
       "      <th>education</th>\n",
       "      <th>educationfield</th>\n",
       "      <th>employeenumber</th>\n",
       "      <th>environmentsatisfaction</th>\n",
       "      <th>gender</th>\n",
       "      <th>hourlyrate</th>\n",
       "      <th>jobinvolvement</th>\n",
       "      <th>joblevel</th>\n",
       "      <th>jobrole</th>\n",
       "      <th>jobsatisfaction</th>\n",
       "      <th>maritalstatus</th>\n",
       "      <th>monthlyincome</th>\n",
       "      <th>monthlyrate</th>\n",
       "      <th>numcompaniesworked</th>\n",
       "      <th>overtime</th>\n",
       "      <th>percentsalaryhike</th>\n",
       "      <th>performancerating</th>\n",
       "      <th>relationshipsatisfaction</th>\n",
       "      <th>stockoptionlevel</th>\n",
       "      <th>totalworkingyears</th>\n",
       "      <th>trainingtimeslastyear</th>\n",
       "      <th>worklifebalance</th>\n",
       "      <th>yearsatcompany</th>\n",
       "      <th>yearsincurrentrole</th>\n",
       "      <th>yearssincelastpromotion</th>\n",
       "      <th>yearswithcurrmanager</th>\n",
       "      <th>sameasmonthlyincome</th>\n",
       "      <th>datebirth</th>\n",
       "      <th>remotework</th>\n",
       "    </tr>\n",
       "    <tr>\n",
       "      <th>unnamed: 0</th>\n",
       "      <th></th>\n",
       "      <th></th>\n",
       "      <th></th>\n",
       "      <th></th>\n",
       "      <th></th>\n",
       "      <th></th>\n",
       "      <th></th>\n",
       "      <th></th>\n",
       "      <th></th>\n",
       "      <th></th>\n",
       "      <th></th>\n",
       "      <th></th>\n",
       "      <th></th>\n",
       "      <th></th>\n",
       "      <th></th>\n",
       "      <th></th>\n",
       "      <th></th>\n",
       "      <th></th>\n",
       "      <th></th>\n",
       "      <th></th>\n",
       "      <th></th>\n",
       "      <th></th>\n",
       "      <th></th>\n",
       "      <th></th>\n",
       "      <th></th>\n",
       "      <th></th>\n",
       "      <th></th>\n",
       "      <th></th>\n",
       "      <th></th>\n",
       "      <th></th>\n",
       "      <th></th>\n",
       "      <th></th>\n",
       "      <th></th>\n",
       "      <th></th>\n",
       "      <th></th>\n",
       "    </tr>\n",
       "  </thead>\n",
       "  <tbody>\n",
       "    <tr>\n",
       "      <th>0</th>\n",
       "      <td>51</td>\n",
       "      <td>No</td>\n",
       "      <td>NaN</td>\n",
       "      <td>684.0</td>\n",
       "      <td>NaN</td>\n",
       "      <td>6</td>\n",
       "      <td>3</td>\n",
       "      <td>NaN</td>\n",
       "      <td>162,0</td>\n",
       "      <td>1</td>\n",
       "      <td>Male</td>\n",
       "      <td>51</td>\n",
       "      <td>3</td>\n",
       "      <td>5</td>\n",
       "      <td>research director</td>\n",
       "      <td>3</td>\n",
       "      <td>NaN</td>\n",
       "      <td>19537,0</td>\n",
       "      <td>6462</td>\n",
       "      <td>7</td>\n",
       "      <td>No</td>\n",
       "      <td>13</td>\n",
       "      <td>3,0</td>\n",
       "      <td>3</td>\n",
       "      <td>0</td>\n",
       "      <td>NaN</td>\n",
       "      <td>5</td>\n",
       "      <td>3,0</td>\n",
       "      <td>20</td>\n",
       "      <td>NaN</td>\n",
       "      <td>15</td>\n",
       "      <td>15</td>\n",
       "      <td>19537,0</td>\n",
       "      <td>1972</td>\n",
       "      <td>Yes</td>\n",
       "    </tr>\n",
       "  </tbody>\n",
       "</table>\n",
       "</div>"
      ],
      "text/plain": [
       "            age attrition businesstravel  dailyrate department  \\\n",
       "unnamed: 0                                                       \n",
       "0            51        No            NaN      684.0        NaN   \n",
       "\n",
       "            distancefromhome  education educationfield employeenumber  \\\n",
       "unnamed: 0                                                              \n",
       "0                          6          3            NaN          162,0   \n",
       "\n",
       "            environmentsatisfaction gender hourlyrate  jobinvolvement  \\\n",
       "unnamed: 0                                                              \n",
       "0                                 1   Male         51               3   \n",
       "\n",
       "            joblevel              jobrole  jobsatisfaction maritalstatus  \\\n",
       "unnamed: 0                                                                 \n",
       "0                  5   research director                 3           NaN   \n",
       "\n",
       "           monthlyincome  monthlyrate  numcompaniesworked overtime  \\\n",
       "unnamed: 0                                                           \n",
       "0                19537,0         6462                   7       No   \n",
       "\n",
       "            percentsalaryhike performancerating  relationshipsatisfaction  \\\n",
       "unnamed: 0                                                                  \n",
       "0                          13               3,0                         3   \n",
       "\n",
       "            stockoptionlevel totalworkingyears  trainingtimeslastyear  \\\n",
       "unnamed: 0                                                              \n",
       "0                          0               NaN                      5   \n",
       "\n",
       "           worklifebalance  yearsatcompany yearsincurrentrole  \\\n",
       "unnamed: 0                                                      \n",
       "0                      3,0              20                NaN   \n",
       "\n",
       "            yearssincelastpromotion  yearswithcurrmanager sameasmonthlyincome  \\\n",
       "unnamed: 0                                                                      \n",
       "0                                15                    15             19537,0   \n",
       "\n",
       "            datebirth remotework  \n",
       "unnamed: 0                        \n",
       "0                1972        Yes  "
      ]
     },
     "execution_count": 87,
     "metadata": {},
     "output_type": "execute_result"
    }
   ],
   "source": [
    "df.head(1)"
   ]
  },
  {
   "cell_type": "code",
   "execution_count": 88,
   "metadata": {},
   "outputs": [
    {
     "data": {
      "text/plain": [
       "(1614, 35)"
      ]
     },
     "execution_count": 88,
     "metadata": {},
     "output_type": "execute_result"
    }
   ],
   "source": [
    "df.shape"
   ]
  },
  {
   "cell_type": "markdown",
   "metadata": {},
   "source": [
    "----------"
   ]
  },
  {
   "cell_type": "markdown",
   "metadata": {},
   "source": [
    "### `Homogeneizamos el nombre de las columnas a minúsculas` ✅"
   ]
  },
  {
   "cell_type": "code",
   "execution_count": 11,
   "metadata": {},
   "outputs": [
    {
     "data": {
      "text/plain": [
       "{'Unnamed: 0': 'unnamed: 0',\n",
       " 'Age': 'age',\n",
       " 'Attrition': 'attrition',\n",
       " 'BusinessTravel': 'businesstravel',\n",
       " 'DailyRate': 'dailyrate',\n",
       " 'Department': 'department',\n",
       " 'DistanceFromHome': 'distancefromhome',\n",
       " 'Education': 'education',\n",
       " 'EducationField': 'educationfield',\n",
       " 'employeenumber': 'employeenumber',\n",
       " 'EnvironmentSatisfaction': 'environmentsatisfaction',\n",
       " 'Gender': 'gender',\n",
       " 'HourlyRate': 'hourlyrate',\n",
       " 'JobInvolvement': 'jobinvolvement',\n",
       " 'JobLevel': 'joblevel',\n",
       " 'JobRole': 'jobrole',\n",
       " 'JobSatisfaction': 'jobsatisfaction',\n",
       " 'MaritalStatus': 'maritalstatus',\n",
       " 'MonthlyIncome': 'monthlyincome',\n",
       " 'MonthlyRate': 'monthlyrate',\n",
       " 'NUMCOMPANIESWORKED': 'numcompaniesworked',\n",
       " 'OverTime': 'overtime',\n",
       " 'PercentSalaryHike': 'percentsalaryhike',\n",
       " 'PerformanceRating': 'performancerating',\n",
       " 'RelationshipSatisfaction': 'relationshipsatisfaction',\n",
       " 'StockOptionLevel': 'stockoptionlevel',\n",
       " 'TOTALWORKINGYEARS': 'totalworkingyears',\n",
       " 'TrainingTimesLastYear': 'trainingtimeslastyear',\n",
       " 'WORKLIFEBALANCE': 'worklifebalance',\n",
       " 'YearsAtCompany': 'yearsatcompany',\n",
       " 'YearsInCurrentRole': 'yearsincurrentrole',\n",
       " 'YearsSinceLastPromotion': 'yearssincelastpromotion',\n",
       " 'YEARSWITHCURRMANAGER': 'yearswithcurrmanager',\n",
       " 'SameAsMonthlyIncome': 'sameasmonthlyincome',\n",
       " 'DateBirth': 'datebirth',\n",
       " 'RoleDepartament': 'roledepartament',\n",
       " 'RemoteWork': 'remotework'}"
      ]
     },
     "execution_count": 11,
     "metadata": {},
     "output_type": "execute_result"
    }
   ],
   "source": [
    "# vamos a iterar por todas las columnas del DataFrame y a cada una de ellas la pondremos en minúsula y le aplicaremos un replace para quitar los puntos. \n",
    "nuevas_columnas = {columna: columna.lower() for columna in df.columns}\n",
    "\n",
    "# comprobamos que hemos creado el diccionario correctamente\n",
    "nuevas_columnas"
   ]
  },
  {
   "cell_type": "code",
   "execution_count": 12,
   "metadata": {},
   "outputs": [
    {
     "data": {
      "text/html": [
       "<div>\n",
       "<style scoped>\n",
       "    .dataframe tbody tr th:only-of-type {\n",
       "        vertical-align: middle;\n",
       "    }\n",
       "\n",
       "    .dataframe tbody tr th {\n",
       "        vertical-align: top;\n",
       "    }\n",
       "\n",
       "    .dataframe thead th {\n",
       "        text-align: right;\n",
       "    }\n",
       "</style>\n",
       "<table border=\"1\" class=\"dataframe\">\n",
       "  <thead>\n",
       "    <tr style=\"text-align: right;\">\n",
       "      <th></th>\n",
       "      <th>unnamed: 0</th>\n",
       "      <th>age</th>\n",
       "      <th>attrition</th>\n",
       "      <th>businesstravel</th>\n",
       "      <th>dailyrate</th>\n",
       "      <th>department</th>\n",
       "      <th>distancefromhome</th>\n",
       "      <th>education</th>\n",
       "      <th>educationfield</th>\n",
       "      <th>employeenumber</th>\n",
       "      <th>...</th>\n",
       "      <th>trainingtimeslastyear</th>\n",
       "      <th>worklifebalance</th>\n",
       "      <th>yearsatcompany</th>\n",
       "      <th>yearsincurrentrole</th>\n",
       "      <th>yearssincelastpromotion</th>\n",
       "      <th>yearswithcurrmanager</th>\n",
       "      <th>sameasmonthlyincome</th>\n",
       "      <th>datebirth</th>\n",
       "      <th>roledepartament</th>\n",
       "      <th>remotework</th>\n",
       "    </tr>\n",
       "  </thead>\n",
       "  <tbody>\n",
       "    <tr>\n",
       "      <th>0</th>\n",
       "      <td>0</td>\n",
       "      <td>51</td>\n",
       "      <td>No</td>\n",
       "      <td>NaN</td>\n",
       "      <td>684,0$</td>\n",
       "      <td>NaN</td>\n",
       "      <td>6</td>\n",
       "      <td>3</td>\n",
       "      <td>NaN</td>\n",
       "      <td>162,0</td>\n",
       "      <td>...</td>\n",
       "      <td>5</td>\n",
       "      <td>3,0</td>\n",
       "      <td>20</td>\n",
       "      <td>NaN</td>\n",
       "      <td>15</td>\n",
       "      <td>15</td>\n",
       "      <td>19537,0</td>\n",
       "      <td>1972</td>\n",
       "      <td>NaN</td>\n",
       "      <td>Yes</td>\n",
       "    </tr>\n",
       "    <tr>\n",
       "      <th>1</th>\n",
       "      <td>1</td>\n",
       "      <td>52</td>\n",
       "      <td>No</td>\n",
       "      <td>NaN</td>\n",
       "      <td>699,0$</td>\n",
       "      <td>NaN</td>\n",
       "      <td>1</td>\n",
       "      <td>4</td>\n",
       "      <td>Life Sciences</td>\n",
       "      <td>259,0</td>\n",
       "      <td>...</td>\n",
       "      <td>5</td>\n",
       "      <td>3,0</td>\n",
       "      <td>33</td>\n",
       "      <td>NaN</td>\n",
       "      <td>11</td>\n",
       "      <td>9</td>\n",
       "      <td>19999,0</td>\n",
       "      <td>1971</td>\n",
       "      <td>NaN</td>\n",
       "      <td>1</td>\n",
       "    </tr>\n",
       "    <tr>\n",
       "      <th>2</th>\n",
       "      <td>2</td>\n",
       "      <td>42</td>\n",
       "      <td>No</td>\n",
       "      <td>travel_rarely</td>\n",
       "      <td>532,0$</td>\n",
       "      <td>Research &amp; Development</td>\n",
       "      <td>4</td>\n",
       "      <td>2</td>\n",
       "      <td>Technical Degree</td>\n",
       "      <td>319,0</td>\n",
       "      <td>...</td>\n",
       "      <td>3</td>\n",
       "      <td>NaN</td>\n",
       "      <td>22</td>\n",
       "      <td>NaN</td>\n",
       "      <td>11</td>\n",
       "      <td>15</td>\n",
       "      <td>19232,0</td>\n",
       "      <td>1981</td>\n",
       "      <td>ManaGER  -  Research &amp; Development</td>\n",
       "      <td>1</td>\n",
       "    </tr>\n",
       "    <tr>\n",
       "      <th>3</th>\n",
       "      <td>3</td>\n",
       "      <td>47</td>\n",
       "      <td>No</td>\n",
       "      <td>travel_rarely</td>\n",
       "      <td>359,0$</td>\n",
       "      <td>NaN</td>\n",
       "      <td>2</td>\n",
       "      <td>4</td>\n",
       "      <td>Medical</td>\n",
       "      <td>NaN</td>\n",
       "      <td>...</td>\n",
       "      <td>2</td>\n",
       "      <td>NaN</td>\n",
       "      <td>20</td>\n",
       "      <td>NaN</td>\n",
       "      <td>5</td>\n",
       "      <td>6</td>\n",
       "      <td>17169,0</td>\n",
       "      <td>1976</td>\n",
       "      <td>NaN</td>\n",
       "      <td>False</td>\n",
       "    </tr>\n",
       "    <tr>\n",
       "      <th>4</th>\n",
       "      <td>4</td>\n",
       "      <td>46</td>\n",
       "      <td>No</td>\n",
       "      <td>NaN</td>\n",
       "      <td>1319,0$</td>\n",
       "      <td>NaN</td>\n",
       "      <td>3</td>\n",
       "      <td>3</td>\n",
       "      <td>Technical Degree</td>\n",
       "      <td>NaN</td>\n",
       "      <td>...</td>\n",
       "      <td>5</td>\n",
       "      <td>3,0</td>\n",
       "      <td>19</td>\n",
       "      <td>NaN</td>\n",
       "      <td>2</td>\n",
       "      <td>8</td>\n",
       "      <td>NaN</td>\n",
       "      <td>1977</td>\n",
       "      <td>NaN</td>\n",
       "      <td>0</td>\n",
       "    </tr>\n",
       "  </tbody>\n",
       "</table>\n",
       "<p>5 rows × 37 columns</p>\n",
       "</div>"
      ],
      "text/plain": [
       "   unnamed: 0 age attrition businesstravel dailyrate  \\\n",
       "0           0  51        No            NaN    684,0$   \n",
       "1           1  52        No            NaN    699,0$   \n",
       "2           2  42        No  travel_rarely    532,0$   \n",
       "3           3  47        No  travel_rarely    359,0$   \n",
       "4           4  46        No            NaN   1319,0$   \n",
       "\n",
       "                 department  distancefromhome  education    educationfield  \\\n",
       "0                       NaN                 6          3               NaN   \n",
       "1                       NaN                 1          4     Life Sciences   \n",
       "2   Research & Development                  4          2  Technical Degree   \n",
       "3                       NaN                 2          4           Medical   \n",
       "4                       NaN                 3          3  Technical Degree   \n",
       "\n",
       "  employeenumber  ...  trainingtimeslastyear  worklifebalance yearsatcompany  \\\n",
       "0          162,0  ...                      5              3,0             20   \n",
       "1          259,0  ...                      5              3,0             33   \n",
       "2          319,0  ...                      3              NaN             22   \n",
       "3            NaN  ...                      2              NaN             20   \n",
       "4            NaN  ...                      5              3,0             19   \n",
       "\n",
       "   yearsincurrentrole  yearssincelastpromotion yearswithcurrmanager  \\\n",
       "0                 NaN                       15                   15   \n",
       "1                 NaN                       11                    9   \n",
       "2                 NaN                       11                   15   \n",
       "3                 NaN                        5                    6   \n",
       "4                 NaN                        2                    8   \n",
       "\n",
       "   sameasmonthlyincome datebirth                       roledepartament  \\\n",
       "0              19537,0      1972                                   NaN   \n",
       "1              19999,0      1971                                   NaN   \n",
       "2              19232,0      1981   ManaGER  -  Research & Development    \n",
       "3              17169,0      1976                                   NaN   \n",
       "4                  NaN      1977                                   NaN   \n",
       "\n",
       "   remotework  \n",
       "0         Yes  \n",
       "1           1  \n",
       "2           1  \n",
       "3       False  \n",
       "4           0  \n",
       "\n",
       "[5 rows x 37 columns]"
      ]
     },
     "execution_count": 12,
     "metadata": {},
     "output_type": "execute_result"
    }
   ],
   "source": [
    "# una vez que tenemos el diccionario vamos a aplicar el método rename\n",
    "df.rename(columns = nuevas_columnas, inplace = True)\n",
    "\n",
    "# comprobamos que se han cambiado los nombres de las columnas\n",
    "df.head()"
   ]
  },
  {
   "cell_type": "markdown",
   "metadata": {},
   "source": [
    "--------"
   ]
  },
  {
   "cell_type": "markdown",
   "metadata": {},
   "source": [
    "# `Falta crear un code para eliminar los nulos o hacer promedios donde sea necesario. `"
   ]
  },
  {
   "cell_type": "markdown",
   "metadata": {},
   "source": [
    "--------"
   ]
  },
  {
   "cell_type": "markdown",
   "metadata": {},
   "source": [
    "- `Cambiamos las letras de números en la columna (age)` ✅\n",
    "- `colocamos los datos de object a int` ✅\n",
    "- `Falta guerdarlo directamente en el dataframe` ✅"
   ]
  },
  {
   "cell_type": "code",
   "execution_count": 35,
   "metadata": {},
   "outputs": [
    {
     "data": {
      "text/plain": [
       "array([51, 52, 42, 47, 46, 48, 59, 41, 56, 38, 55, 40, 58, 35, 45, 33, 36,\n",
       "       34, 53, 43, 60, 32, 37, 49, 39, 50, 44, 30, 29, 31, 54, 57, 27, 28,\n",
       "       26, 25, 24, 23, 22, 21, 20, 19, 18])"
      ]
     },
     "execution_count": 35,
     "metadata": {},
     "output_type": "execute_result"
    }
   ],
   "source": [
    "df['age'].unique()"
   ]
  },
  {
   "cell_type": "code",
   "execution_count": 15,
   "metadata": {},
   "outputs": [
    {
     "name": "stdout",
     "output_type": "stream",
     "text": [
      "Converted Ages in DataFrame:\n",
      "0    51\n",
      "1    52\n",
      "2    42\n",
      "3    47\n",
      "4    46\n",
      "Name: age, dtype: int64\n",
      "\n",
      "No conversion errors.\n"
     ]
    }
   ],
   "source": [
    "# Diccionario para convertir palabras a números\n",
    "word_to_number = {\n",
    "    'zero': 0, 'one': 1, 'two': 2, 'three': 3, 'four': 4, 'five': 5,\n",
    "    'six': 6, 'seven': 7, 'eight': 8, 'nine': 9, 'ten': 10, 'eleven': 11,\n",
    "    'twelve': 12, 'thirteen': 13, 'fourteen': 14, 'fifteen': 15,\n",
    "    'sixteen': 16, 'seventeen': 17, 'eighteen': 18, 'nineteen': 19,\n",
    "    'twenty': 20, 'thirty': 30, 'forty': 40, 'fifty': 50, 'sixty': 60,\n",
    "    'seventy': 70, 'eighty': 80, 'ninety': 90\n",
    "}\n",
    "\n",
    "# Función para convertir cadenas a números\n",
    "def convert_to_number(age):\n",
    "    try:\n",
    "        # Primero intentamos convertir directamente a entero\n",
    "        return int(age)\n",
    "    except ValueError:\n",
    "        # Si falla, intentamos convertir usando el diccionario\n",
    "        words = age.split('-')\n",
    "        number = 0\n",
    "        for word in words:\n",
    "            if word in word_to_number:\n",
    "                number += word_to_number[word]\n",
    "            else:\n",
    "                return f\"Error converting '{age}'\"\n",
    "        return number\n",
    "\n",
    "# Aplicar la función de conversión a la columna 'Age' del DataFrame\n",
    "df['age'] = df['age'].apply(convert_to_number)\n",
    "\n",
    "# Verificar si hay errores en la conversión\n",
    "errors = df['age'][df['age'].apply(lambda x: isinstance(x, str))]\n",
    "\n",
    "# Mostrar los resultados\n",
    "print(\"Converted Ages in DataFrame:\")\n",
    "print(df['age'].head())\n",
    "\n",
    "if not errors.empty:\n",
    "    print(\"\\nErrors:\")\n",
    "    print(errors)\n",
    "else:\n",
    "    print(\"\\nNo conversion errors.\")\n"
   ]
  },
  {
   "cell_type": "code",
   "execution_count": 18,
   "metadata": {},
   "outputs": [
    {
     "data": {
      "text/plain": [
       "(1614,)"
      ]
     },
     "execution_count": 18,
     "metadata": {},
     "output_type": "execute_result"
    }
   ],
   "source": [
    "df['age'].shape"
   ]
  },
  {
   "cell_type": "markdown",
   "metadata": {},
   "source": [
    "---------------"
   ]
  },
  {
   "cell_type": "markdown",
   "metadata": {},
   "source": [
    "No requiere cambios ✅"
   ]
  },
  {
   "cell_type": "code",
   "execution_count": 20,
   "metadata": {},
   "outputs": [
    {
     "data": {
      "text/plain": [
       "array(['No', 'Yes'], dtype=object)"
      ]
     },
     "execution_count": 20,
     "metadata": {},
     "output_type": "execute_result"
    }
   ],
   "source": [
    "df['attrition'].unique()"
   ]
  },
  {
   "cell_type": "markdown",
   "metadata": {},
   "source": [
    "---------"
   ]
  },
  {
   "cell_type": "markdown",
   "metadata": {},
   "source": [
    "- `Separamos los string con espacio vacio('') y quitamos el (_)`✅\n",
    "- `Eliminar los NAN`❓"
   ]
  },
  {
   "cell_type": "code",
   "execution_count": 22,
   "metadata": {},
   "outputs": [
    {
     "data": {
      "text/plain": [
       "array([nan, 'travel_rarely', 'travel_frequently', 'non-travel'],\n",
       "      dtype=object)"
      ]
     },
     "execution_count": 22,
     "metadata": {},
     "output_type": "execute_result"
    }
   ],
   "source": [
    "df['businesstravel'].unique() "
   ]
  },
  {
   "cell_type": "code",
   "execution_count": 27,
   "metadata": {},
   "outputs": [
    {
     "data": {
      "text/html": [
       "<div>\n",
       "<style scoped>\n",
       "    .dataframe tbody tr th:only-of-type {\n",
       "        vertical-align: middle;\n",
       "    }\n",
       "\n",
       "    .dataframe tbody tr th {\n",
       "        vertical-align: top;\n",
       "    }\n",
       "\n",
       "    .dataframe thead th {\n",
       "        text-align: right;\n",
       "    }\n",
       "</style>\n",
       "<table border=\"1\" class=\"dataframe\">\n",
       "  <thead>\n",
       "    <tr style=\"text-align: right;\">\n",
       "      <th></th>\n",
       "      <th>unnamed: 0</th>\n",
       "      <th>age</th>\n",
       "      <th>attrition</th>\n",
       "      <th>businesstravel</th>\n",
       "      <th>dailyrate</th>\n",
       "      <th>department</th>\n",
       "      <th>distancefromhome</th>\n",
       "      <th>education</th>\n",
       "      <th>educationfield</th>\n",
       "      <th>employeenumber</th>\n",
       "      <th>...</th>\n",
       "      <th>trainingtimeslastyear</th>\n",
       "      <th>worklifebalance</th>\n",
       "      <th>yearsatcompany</th>\n",
       "      <th>yearsincurrentrole</th>\n",
       "      <th>yearssincelastpromotion</th>\n",
       "      <th>yearswithcurrmanager</th>\n",
       "      <th>sameasmonthlyincome</th>\n",
       "      <th>datebirth</th>\n",
       "      <th>roledepartament</th>\n",
       "      <th>remotework</th>\n",
       "    </tr>\n",
       "  </thead>\n",
       "  <tbody>\n",
       "    <tr>\n",
       "      <th>1009</th>\n",
       "      <td>1009</td>\n",
       "      <td>56</td>\n",
       "      <td>No</td>\n",
       "      <td>NaN</td>\n",
       "      <td>718,0$</td>\n",
       "      <td>NaN</td>\n",
       "      <td>4</td>\n",
       "      <td>4</td>\n",
       "      <td>NaN</td>\n",
       "      <td>NaN</td>\n",
       "      <td>...</td>\n",
       "      <td>2</td>\n",
       "      <td>3,0</td>\n",
       "      <td>5</td>\n",
       "      <td>NaN</td>\n",
       "      <td>4</td>\n",
       "      <td>2</td>\n",
       "      <td>NaN</td>\n",
       "      <td>1967</td>\n",
       "      <td>NaN</td>\n",
       "      <td>True</td>\n",
       "    </tr>\n",
       "    <tr>\n",
       "      <th>1579</th>\n",
       "      <td>1579</td>\n",
       "      <td>34</td>\n",
       "      <td>No</td>\n",
       "      <td>NaN</td>\n",
       "      <td>1442,0$</td>\n",
       "      <td>NaN</td>\n",
       "      <td>9</td>\n",
       "      <td>3</td>\n",
       "      <td>Medical</td>\n",
       "      <td>717,0</td>\n",
       "      <td>...</td>\n",
       "      <td>3</td>\n",
       "      <td>4,0</td>\n",
       "      <td>8</td>\n",
       "      <td>NaN</td>\n",
       "      <td>7</td>\n",
       "      <td>7</td>\n",
       "      <td>NaN</td>\n",
       "      <td>1989</td>\n",
       "      <td>NaN</td>\n",
       "      <td>Yes</td>\n",
       "    </tr>\n",
       "    <tr>\n",
       "      <th>1595</th>\n",
       "      <td>1595</td>\n",
       "      <td>38</td>\n",
       "      <td>No</td>\n",
       "      <td>NaN</td>\n",
       "      <td>240,0$</td>\n",
       "      <td>NaN</td>\n",
       "      <td>2</td>\n",
       "      <td>4</td>\n",
       "      <td>Life Sciences</td>\n",
       "      <td>803,0</td>\n",
       "      <td>...</td>\n",
       "      <td>2</td>\n",
       "      <td>3,0</td>\n",
       "      <td>15</td>\n",
       "      <td>NaN</td>\n",
       "      <td>4</td>\n",
       "      <td>12</td>\n",
       "      <td>5980,0</td>\n",
       "      <td>1985</td>\n",
       "      <td>NaN</td>\n",
       "      <td>False</td>\n",
       "    </tr>\n",
       "    <tr>\n",
       "      <th>440</th>\n",
       "      <td>440</td>\n",
       "      <td>39</td>\n",
       "      <td>No</td>\n",
       "      <td>NaN</td>\n",
       "      <td>1387,0$</td>\n",
       "      <td>Research &amp; Development</td>\n",
       "      <td>10</td>\n",
       "      <td>5</td>\n",
       "      <td>Medical</td>\n",
       "      <td>NaN</td>\n",
       "      <td>...</td>\n",
       "      <td>3</td>\n",
       "      <td>3,0</td>\n",
       "      <td>7</td>\n",
       "      <td>NaN</td>\n",
       "      <td>7</td>\n",
       "      <td>7</td>\n",
       "      <td>NaN</td>\n",
       "      <td>1984</td>\n",
       "      <td>maNuFAcTURInG DIReCtoR  -  Research &amp; Develop...</td>\n",
       "      <td>0</td>\n",
       "    </tr>\n",
       "    <tr>\n",
       "      <th>73</th>\n",
       "      <td>73</td>\n",
       "      <td>38</td>\n",
       "      <td>No</td>\n",
       "      <td>travel frequently</td>\n",
       "      <td>1189,0$</td>\n",
       "      <td>NaN</td>\n",
       "      <td>1</td>\n",
       "      <td>3</td>\n",
       "      <td>Life Sciences</td>\n",
       "      <td>1668,0</td>\n",
       "      <td>...</td>\n",
       "      <td>4</td>\n",
       "      <td>NaN</td>\n",
       "      <td>13</td>\n",
       "      <td>NaN</td>\n",
       "      <td>2</td>\n",
       "      <td>9</td>\n",
       "      <td>4735,0</td>\n",
       "      <td>1985</td>\n",
       "      <td>NaN</td>\n",
       "      <td>True</td>\n",
       "    </tr>\n",
       "    <tr>\n",
       "      <th>1610</th>\n",
       "      <td>1610</td>\n",
       "      <td>45</td>\n",
       "      <td>No</td>\n",
       "      <td>non travel</td>\n",
       "      <td>805,0$</td>\n",
       "      <td>NaN</td>\n",
       "      <td>4</td>\n",
       "      <td>2</td>\n",
       "      <td>NaN</td>\n",
       "      <td>972,0</td>\n",
       "      <td>...</td>\n",
       "      <td>5</td>\n",
       "      <td>2,0</td>\n",
       "      <td>9</td>\n",
       "      <td>NaN</td>\n",
       "      <td>0</td>\n",
       "      <td>8</td>\n",
       "      <td>4447,0</td>\n",
       "      <td>1978</td>\n",
       "      <td>NaN</td>\n",
       "      <td>1</td>\n",
       "    </tr>\n",
       "    <tr>\n",
       "      <th>247</th>\n",
       "      <td>247</td>\n",
       "      <td>36</td>\n",
       "      <td>No</td>\n",
       "      <td>NaN</td>\n",
       "      <td>1383,0$</td>\n",
       "      <td>NaN</td>\n",
       "      <td>10</td>\n",
       "      <td>3</td>\n",
       "      <td>Life Sciences</td>\n",
       "      <td>1790,0</td>\n",
       "      <td>...</td>\n",
       "      <td>1</td>\n",
       "      <td>3,0</td>\n",
       "      <td>12</td>\n",
       "      <td>NaN</td>\n",
       "      <td>5</td>\n",
       "      <td>7</td>\n",
       "      <td>8321,0</td>\n",
       "      <td>1987</td>\n",
       "      <td>NaN</td>\n",
       "      <td>False</td>\n",
       "    </tr>\n",
       "    <tr>\n",
       "      <th>301</th>\n",
       "      <td>301</td>\n",
       "      <td>29</td>\n",
       "      <td>No</td>\n",
       "      <td>travel frequently</td>\n",
       "      <td>442,0$</td>\n",
       "      <td>NaN</td>\n",
       "      <td>2</td>\n",
       "      <td>2</td>\n",
       "      <td>NaN</td>\n",
       "      <td>388,0</td>\n",
       "      <td>...</td>\n",
       "      <td>3</td>\n",
       "      <td>NaN</td>\n",
       "      <td>10</td>\n",
       "      <td>NaN</td>\n",
       "      <td>0</td>\n",
       "      <td>9</td>\n",
       "      <td>NaN</td>\n",
       "      <td>1994</td>\n",
       "      <td>NaN</td>\n",
       "      <td>True</td>\n",
       "    </tr>\n",
       "    <tr>\n",
       "      <th>879</th>\n",
       "      <td>879</td>\n",
       "      <td>23</td>\n",
       "      <td>No</td>\n",
       "      <td>NaN</td>\n",
       "      <td>1309,0$</td>\n",
       "      <td>NaN</td>\n",
       "      <td>26</td>\n",
       "      <td>1</td>\n",
       "      <td>NaN</td>\n",
       "      <td>465,0</td>\n",
       "      <td>...</td>\n",
       "      <td>2</td>\n",
       "      <td>2,0</td>\n",
       "      <td>4</td>\n",
       "      <td>NaN</td>\n",
       "      <td>0</td>\n",
       "      <td>2</td>\n",
       "      <td>2904,0</td>\n",
       "      <td>2000</td>\n",
       "      <td>NaN</td>\n",
       "      <td>0</td>\n",
       "    </tr>\n",
       "    <tr>\n",
       "      <th>1230</th>\n",
       "      <td>1230</td>\n",
       "      <td>21</td>\n",
       "      <td>No</td>\n",
       "      <td>travel rarely</td>\n",
       "      <td>391,0$</td>\n",
       "      <td>NaN</td>\n",
       "      <td>15</td>\n",
       "      <td>2</td>\n",
       "      <td>NaN</td>\n",
       "      <td>30,0</td>\n",
       "      <td>...</td>\n",
       "      <td>6</td>\n",
       "      <td>3,0</td>\n",
       "      <td>0</td>\n",
       "      <td>NaN</td>\n",
       "      <td>0</td>\n",
       "      <td>0</td>\n",
       "      <td>NaN</td>\n",
       "      <td>2002</td>\n",
       "      <td>NaN</td>\n",
       "      <td>Yes</td>\n",
       "    </tr>\n",
       "  </tbody>\n",
       "</table>\n",
       "<p>10 rows × 37 columns</p>\n",
       "</div>"
      ],
      "text/plain": [
       "      unnamed: 0  age attrition     businesstravel dailyrate  \\\n",
       "1009        1009   56        No                NaN    718,0$   \n",
       "1579        1579   34        No                NaN   1442,0$   \n",
       "1595        1595   38        No                NaN    240,0$   \n",
       "440          440   39        No                NaN   1387,0$   \n",
       "73            73   38        No  travel frequently   1189,0$   \n",
       "1610        1610   45        No         non travel    805,0$   \n",
       "247          247   36        No                NaN   1383,0$   \n",
       "301          301   29        No  travel frequently    442,0$   \n",
       "879          879   23        No                NaN   1309,0$   \n",
       "1230        1230   21        No      travel rarely    391,0$   \n",
       "\n",
       "                    department  distancefromhome  education educationfield  \\\n",
       "1009                       NaN                 4          4            NaN   \n",
       "1579                       NaN                 9          3        Medical   \n",
       "1595                       NaN                 2          4  Life Sciences   \n",
       "440    Research & Development                 10          5        Medical   \n",
       "73                         NaN                 1          3  Life Sciences   \n",
       "1610                       NaN                 4          2            NaN   \n",
       "247                        NaN                10          3  Life Sciences   \n",
       "301                        NaN                 2          2            NaN   \n",
       "879                        NaN                26          1            NaN   \n",
       "1230                       NaN                15          2            NaN   \n",
       "\n",
       "     employeenumber  ...  trainingtimeslastyear  worklifebalance  \\\n",
       "1009            NaN  ...                      2              3,0   \n",
       "1579          717,0  ...                      3              4,0   \n",
       "1595          803,0  ...                      2              3,0   \n",
       "440             NaN  ...                      3              3,0   \n",
       "73           1668,0  ...                      4              NaN   \n",
       "1610          972,0  ...                      5              2,0   \n",
       "247          1790,0  ...                      1              3,0   \n",
       "301           388,0  ...                      3              NaN   \n",
       "879           465,0  ...                      2              2,0   \n",
       "1230           30,0  ...                      6              3,0   \n",
       "\n",
       "     yearsatcompany  yearsincurrentrole  yearssincelastpromotion  \\\n",
       "1009              5                 NaN                        4   \n",
       "1579              8                 NaN                        7   \n",
       "1595             15                 NaN                        4   \n",
       "440               7                 NaN                        7   \n",
       "73               13                 NaN                        2   \n",
       "1610              9                 NaN                        0   \n",
       "247              12                 NaN                        5   \n",
       "301              10                 NaN                        0   \n",
       "879               4                 NaN                        0   \n",
       "1230              0                 NaN                        0   \n",
       "\n",
       "     yearswithcurrmanager  sameasmonthlyincome datebirth  \\\n",
       "1009                    2                  NaN      1967   \n",
       "1579                    7                  NaN      1989   \n",
       "1595                   12               5980,0      1985   \n",
       "440                     7                  NaN      1984   \n",
       "73                      9               4735,0      1985   \n",
       "1610                    8               4447,0      1978   \n",
       "247                     7               8321,0      1987   \n",
       "301                     9                  NaN      1994   \n",
       "879                     2               2904,0      2000   \n",
       "1230                    0                  NaN      2002   \n",
       "\n",
       "                                        roledepartament  remotework  \n",
       "1009                                                NaN        True  \n",
       "1579                                                NaN         Yes  \n",
       "1595                                                NaN       False  \n",
       "440    maNuFAcTURInG DIReCtoR  -  Research & Develop...           0  \n",
       "73                                                  NaN        True  \n",
       "1610                                                NaN           1  \n",
       "247                                                 NaN       False  \n",
       "301                                                 NaN        True  \n",
       "879                                                 NaN           0  \n",
       "1230                                                NaN         Yes  \n",
       "\n",
       "[10 rows x 37 columns]"
      ]
     },
     "execution_count": 27,
     "metadata": {},
     "output_type": "execute_result"
    }
   ],
   "source": [
    "df[\"businesstravel\"] = df[\"businesstravel\"].str.replace(\"_\", \" \").str.replace(\"-\",\" \")\n",
    "df.sample(10)"
   ]
  },
  {
   "cell_type": "markdown",
   "metadata": {},
   "source": [
    "--------"
   ]
  },
  {
   "cell_type": "markdown",
   "metadata": {},
   "source": [
    "- `Cambiar a float` ✅\n",
    "- `Cambiar las comas(,) por puntos(.)` ✅"
   ]
  },
  {
   "cell_type": "code",
   "execution_count": 36,
   "metadata": {},
   "outputs": [
    {
     "data": {
      "text/plain": [
       "array([ 684.,  699.,  532.,  359., 1319.,  117., 1435.,  635., 1276.,\n",
       "        840.,  247., 1369.,  201., 1360.,  692., 1398.,  286., 1402.,\n",
       "        819.,  884., 1238.,  515., 1223.,  202.,  928.,  607.,  266.,\n",
       "        429.,  589.,   nan, 1180., 1282.,  776.,  665.,  526., 1034.,\n",
       "       1403., 1499.,  580.,  859.,  263., 1376.,  885., 1003., 1321.,\n",
       "        394., 1372., 1333.,  228.,  737.,  823.,  667.,  301.,  573.,\n",
       "       1329.,  630., 1063., 1017., 1296.,  939., 1355., 1448.,  200.,\n",
       "       1202.,  404.,  208.,  813.,  465., 1189., 1001., 1394.,  161.,\n",
       "        288.,  682., 1354.,  147.,  119., 1413.,  452.,  334., 1132.,\n",
       "        982.,  480., 1099.,  672., 1379.,  583., 1492., 1050.,  469.,\n",
       "        237., 1440., 1291., 1157., 1336., 1224.,  735., 1389.,  638.,\n",
       "       1240.,  194., 1339.,  111., 1469.,  470., 1232., 1249.,  798.,\n",
       "        549.,  570.,  541.,  164., 1117.,  619.,  319.,  956., 1245.,\n",
       "       1397.,  527.,  213.,  882.,  330.,  406.,  217.,  481.,  669.,\n",
       "       1465.,  685., 1062.,  177., 1199.,  648.,  412.,  282.,  770.,\n",
       "        601.,  855.,  332., 1326.,  748.,  405.,  790.,  971., 1370.,\n",
       "        750.,  880.,  678., 1179.,  350., 1266.,  574.,  189.,  310.,\n",
       "        722., 1219.,  994.,  721.,  853.,  427.,  852., 1334., 1093.,\n",
       "        967.,  989., 1195., 1045.,  829.,  663., 1300., 1105.,  906.,\n",
       "        849., 1275., 1218.,  422., 1274., 1076., 1207.,  430.,  933.,\n",
       "       1184.,  586.,  890.,  379., 1425., 1188.,  938., 1053.,  248.,\n",
       "        796.,  174.,  408.,  977.,  536.,  135., 1476.,  587.,  495.,\n",
       "        523.,  507., 1055., 1445.,  218.,  447., 1029.,  674.,  538.,\n",
       "        740., 1234.,  170., 1130.,  584.,  918.,  792.,  611., 1383.,\n",
       "        867.,  706.,  728.,  311.,  556.,  937., 1125.,  444.,  911.,\n",
       "        585., 1392., 1005., 1299.,  655.,  746.,  632.,  658., 1467.,\n",
       "       1312.,  249.,  802.,  689., 1395., 1436., 1496., 1480.,  313.,\n",
       "        894.,  290., 1084., 1002., 1242., 1052.,  944.,  771., 1416.,\n",
       "       1327.,  488., 1385.,  666., 1315.,  442.,  950.,  691., 1018.,\n",
       "        559.,  318.,  144., 1171.,  143., 1178., 1107.,  645., 1485.,\n",
       "       1116.,  163.,  561.,  426.,  509.,  258.,  525.,  238.,  482.,\n",
       "        397.,  243.,  806., 1442.,  929.,  827.,  703.,  294.,  314.,\n",
       "        654.,  501.,  954., 1434.,  657.,  240.,  791.,  676.,  436.,\n",
       "        760.,  661., 1085.,  154., 1283.,  616.,  498.,  530.,  805.,\n",
       "        903., 1229.,  566., 1441.,  153., 1066.,  145., 1109.,  124.,\n",
       "        300., 1366.,  857., 1204., 1082.,  203., 1308.,  718.,  593.,\n",
       "       1384., 1361., 1146., 1316.,  363., 1103.,  920.,  694., 1429.,\n",
       "        531.,  621.,  604.,  325., 1030.,  524.,  943., 1009.,  817.,\n",
       "        930., 1147.,  652.,  337., 1136.,  326.,  377., 1038., 1490.,\n",
       "       1246.,  224.,  441.,  898., 1313., 1015., 1387., 1302.,  602.,\n",
       "        772.,  809.,  786.,  921.,  717.,  979.,  953.,  244.,  196.,\n",
       "        303., 1092.,  261., 1422., 1137.,  511., 1396., 1096., 1169.,\n",
       "       1239.,  157.,  754., 1303.,  697.,  116.,  557.,  582.,  704.,\n",
       "        613.,  419.,  477., 1211.,  505.,  269.,  553., 1277.,  302.,\n",
       "        975., 1318.,  881.,  466.,  945.,  433.,  991., 1083.,  136.,\n",
       "        333., 1462., 1131., 1023., 1065., 1115., 1479.,  304., 1368.,\n",
       "        828.,  799.,  142.,  446.,  254., 1410.,  883.,  121., 1343.,\n",
       "        490., 1400., 1332., 1200., 1102., 1328.,  548., 1214.,  120.,\n",
       "        841., 1033., 1452., 1268.,  307.,  797.,  555., 1377.,  210.,\n",
       "        483.,  575., 1311.,  759.,  891.,  317.,  688.,  195.,  622.,\n",
       "        646.,  719., 1012., 1278., 1222., 1231.,  462.,  231., 1089.,\n",
       "       1262.,  439.,  528.,  647., 1097.,  942.,  966.,  168.,  299.,\n",
       "        999., 1498., 1439., 1111., 1174.,  172.,  401.,  866.,  571.,\n",
       "       1342.,  995.,  118.,  990.,  241., 1470.,  492., 1040., 1320.,\n",
       "        146., 1153.,  185., 1297., 1064., 1351.,  468., 1273., 1141.,\n",
       "       1488.,  653., 1225., 1217., 1127., 1427.,  702.,  926.,  878.,\n",
       "        896., 1401.,  675., 1070.,  496.,  390., 1220., 1124., 1046.,\n",
       "        267.,  443., 1287., 1420.,  562.,  650.,  141.,  715.,  376.,\n",
       "        932.,  471.,  180., 1265., 1075., 1086.,  152.,  974.,  788.,\n",
       "        192.,  150., 1167.,  206.,  736.,  322.,  683., 1475.,  560.,\n",
       "        115.,  888.,  671.,  567.,  148.,  581.,  371., 1181., 1253.,\n",
       "        370., 1194.,  572.,  355.,  783.,  155.,  508.,  642., 1382.,\n",
       "       1037., 1120.,  374.,  287.,  591.,  670., 1346.,  103.,  673.,\n",
       "        705., 1459., 1443., 1142.,  664.,  432., 1353.,  489.,  807.,\n",
       "       1280.,  957.,  542.,  216., 1150.,  364., 1256.,  440.,  713.,\n",
       "        140.,  629.,  328.,  472.,  905., 1151.,  644.,  992., 1323.,\n",
       "        818., 1431.,  976.,  832.,  916., 1247.,  128., 1158.,  996.,\n",
       "       1449.,  636.,  889.,  106.,  723., 1482.,  738., 1192., 1309.,\n",
       "        544.,  641.,  756.,  895., 1261.,  329., 1362., 1371.,  821.,\n",
       "       1381., 1473.,  296., 1349.,  986.,  413.,  988., 1474.,  232.,\n",
       "       1236., 1112.,  204.,  913.,  810.,  693.,  316.,  381.,  775.,\n",
       "        804., 1090.,  346.,  725.,  182.,  384., 1325., 1258., 1041.,\n",
       "        625., 1418., 1269.,  395.,  341.,  500., 1454.,  617., 1122.,\n",
       "       1198.,  188.,  335.,  461., 1134.,  138., 1206.,  109.,  277.,\n",
       "        265.,  342., 1186.,  769., 1176., 1091.,  618.,  970.,  984.,\n",
       "        793., 1182.,  603.,  874.,  367.,  199., 1457., 1421., 1450.,\n",
       "       1212., 1010.,  131.,  193.,  640.,  848., 1138.,  256.,  935.,\n",
       "        458.,  662.,  499.,  949.,  383., 1255., 1221.,  981., 1495.,\n",
       "       1193.,  467.,  271.,  410., 1288., 1108.,  437.,  457.,  634.,\n",
       "        546.,  711.,  448.,  365.,  763.,  486.,  392.,  727.,  741.,\n",
       "        552.,  506., 1456.,  160.,  897.,  600., 1054.,  428.,  343.,\n",
       "       1216.,  207.,  280.,  414.,  836.,  592.,  219., 1079., 1251.,\n",
       "       1168., 1444., 1154.,  234.,  529., 1322.,  924.,  134.,  755.,\n",
       "        253.,  922., 1365.,  306., 1271., 1404., 1391., 1464., 1330.,\n",
       "        773.,  902.,  107.,  504., 1358.,  824.,  594.,  734.,  766.,\n",
       "        431., 1213., 1373., 1324., 1123.,  391.,  125., 1357.,  626.,\n",
       "        132.,  871., 1031., 1145.,  854., 1411.,  252.,  833., 1210.,\n",
       "       1463.,  812., 1162.,  845., 1144.,  156.,  464., 1305.,  983.,\n",
       "        534., 1306., 1094.,  558.,  959.,  782.,  362.,  268.,  167.,\n",
       "       1243.,  720.,  868., 1252.,  781., 1272.,  129., 1069.,  289.,\n",
       "        955.,  660.,  415.,  309.,  130.,  862., 1098.,  969.,  373.,\n",
       "        599.,  968.,  830., 1423.,  516.,  598.,  104.,  479.,  474.,\n",
       "        264., 1059.,  563., 1259.,  369.,  543.,  964.,  176.,  181.,\n",
       "        211.,  590.,  305.,  478., 1294., 1128.,  726.,  352., 1172.,\n",
       "        605., 1337.,  105.])"
      ]
     },
     "execution_count": 36,
     "metadata": {},
     "output_type": "execute_result"
    }
   ],
   "source": [
    "df['dailyrate'].unique()"
   ]
  },
  {
   "cell_type": "code",
   "execution_count": 50,
   "metadata": {},
   "outputs": [
    {
     "data": {
      "text/plain": [
       "array(['684.0', '699.0', '532.0', '359.0', '1319.0', '117.0', '1435.0',\n",
       "       '635.0', '1276.0', '840.0', '247.0', '1369.0', '201.0', '1360.0',\n",
       "       '692.0', '1398.0', '286.0', '1402.0', '819.0', '884.0', '1238.0',\n",
       "       '515.0', '1223.0', '202.0', '928.0', '607.0', '266.0', '429.0',\n",
       "       '589.0', 'nan', '1180.0', '1282.0', '776.0', '665.0', '526.0',\n",
       "       '1034.0', '1403.0', '1499.0', '580.0', '859.0', '263.0', '1376.0',\n",
       "       '885.0', '1003.0', '1321.0', '394.0', '1372.0', '1333.0', '228.0',\n",
       "       '737.0', '823.0', '667.0', '301.0', '573.0', '1329.0', '630.0',\n",
       "       '1063.0', '1017.0', '1296.0', '939.0', '1355.0', '1448.0', '200.0',\n",
       "       '1202.0', '404.0', '208.0', '813.0', '465.0', '1189.0', '1001.0',\n",
       "       '1394.0', '161.0', '288.0', '682.0', '1354.0', '147.0', '119.0',\n",
       "       '1413.0', '452.0', '334.0', '1132.0', '982.0', '480.0', '1099.0',\n",
       "       '672.0', '1379.0', '583.0', '1492.0', '1050.0', '469.0', '237.0',\n",
       "       '1440.0', '1291.0', '1157.0', '1336.0', '1224.0', '735.0',\n",
       "       '1389.0', '638.0', '1240.0', '194.0', '1339.0', '111.0', '1469.0',\n",
       "       '470.0', '1232.0', '1249.0', '798.0', '549.0', '570.0', '541.0',\n",
       "       '164.0', '1117.0', '619.0', '319.0', '956.0', '1245.0', '1397.0',\n",
       "       '527.0', '213.0', '882.0', '330.0', '406.0', '217.0', '481.0',\n",
       "       '669.0', '1465.0', '685.0', '1062.0', '177.0', '1199.0', '648.0',\n",
       "       '412.0', '282.0', '770.0', '601.0', '855.0', '332.0', '1326.0',\n",
       "       '748.0', '405.0', '790.0', '971.0', '1370.0', '750.0', '880.0',\n",
       "       '678.0', '1179.0', '350.0', '1266.0', '574.0', '189.0', '310.0',\n",
       "       '722.0', '1219.0', '994.0', '721.0', '853.0', '427.0', '852.0',\n",
       "       '1334.0', '1093.0', '967.0', '989.0', '1195.0', '1045.0', '829.0',\n",
       "       '663.0', '1300.0', '1105.0', '906.0', '849.0', '1275.0', '1218.0',\n",
       "       '422.0', '1274.0', '1076.0', '1207.0', '430.0', '933.0', '1184.0',\n",
       "       '586.0', '890.0', '379.0', '1425.0', '1188.0', '938.0', '1053.0',\n",
       "       '248.0', '796.0', '174.0', '408.0', '977.0', '536.0', '135.0',\n",
       "       '1476.0', '587.0', '495.0', '523.0', '507.0', '1055.0', '1445.0',\n",
       "       '218.0', '447.0', '1029.0', '674.0', '538.0', '740.0', '1234.0',\n",
       "       '170.0', '1130.0', '584.0', '918.0', '792.0', '611.0', '1383.0',\n",
       "       '867.0', '706.0', '728.0', '311.0', '556.0', '937.0', '1125.0',\n",
       "       '444.0', '911.0', '585.0', '1392.0', '1005.0', '1299.0', '655.0',\n",
       "       '746.0', '632.0', '658.0', '1467.0', '1312.0', '249.0', '802.0',\n",
       "       '689.0', '1395.0', '1436.0', '1496.0', '1480.0', '313.0', '894.0',\n",
       "       '290.0', '1084.0', '1002.0', '1242.0', '1052.0', '944.0', '771.0',\n",
       "       '1416.0', '1327.0', '488.0', '1385.0', '666.0', '1315.0', '442.0',\n",
       "       '950.0', '691.0', '1018.0', '559.0', '318.0', '144.0', '1171.0',\n",
       "       '143.0', '1178.0', '1107.0', '645.0', '1485.0', '1116.0', '163.0',\n",
       "       '561.0', '426.0', '509.0', '258.0', '525.0', '238.0', '482.0',\n",
       "       '397.0', '243.0', '806.0', '1442.0', '929.0', '827.0', '703.0',\n",
       "       '294.0', '314.0', '654.0', '501.0', '954.0', '1434.0', '657.0',\n",
       "       '240.0', '791.0', '676.0', '436.0', '760.0', '661.0', '1085.0',\n",
       "       '154.0', '1283.0', '616.0', '498.0', '530.0', '805.0', '903.0',\n",
       "       '1229.0', '566.0', '1441.0', '153.0', '1066.0', '145.0', '1109.0',\n",
       "       '124.0', '300.0', '1366.0', '857.0', '1204.0', '1082.0', '203.0',\n",
       "       '1308.0', '718.0', '593.0', '1384.0', '1361.0', '1146.0', '1316.0',\n",
       "       '363.0', '1103.0', '920.0', '694.0', '1429.0', '531.0', '621.0',\n",
       "       '604.0', '325.0', '1030.0', '524.0', '943.0', '1009.0', '817.0',\n",
       "       '930.0', '1147.0', '652.0', '337.0', '1136.0', '326.0', '377.0',\n",
       "       '1038.0', '1490.0', '1246.0', '224.0', '441.0', '898.0', '1313.0',\n",
       "       '1015.0', '1387.0', '1302.0', '602.0', '772.0', '809.0', '786.0',\n",
       "       '921.0', '717.0', '979.0', '953.0', '244.0', '196.0', '303.0',\n",
       "       '1092.0', '261.0', '1422.0', '1137.0', '511.0', '1396.0', '1096.0',\n",
       "       '1169.0', '1239.0', '157.0', '754.0', '1303.0', '697.0', '116.0',\n",
       "       '557.0', '582.0', '704.0', '613.0', '419.0', '477.0', '1211.0',\n",
       "       '505.0', '269.0', '553.0', '1277.0', '302.0', '975.0', '1318.0',\n",
       "       '881.0', '466.0', '945.0', '433.0', '991.0', '1083.0', '136.0',\n",
       "       '333.0', '1462.0', '1131.0', '1023.0', '1065.0', '1115.0',\n",
       "       '1479.0', '304.0', '1368.0', '828.0', '799.0', '142.0', '446.0',\n",
       "       '254.0', '1410.0', '883.0', '121.0', '1343.0', '490.0', '1400.0',\n",
       "       '1332.0', '1200.0', '1102.0', '1328.0', '548.0', '1214.0', '120.0',\n",
       "       '841.0', '1033.0', '1452.0', '1268.0', '307.0', '797.0', '555.0',\n",
       "       '1377.0', '210.0', '483.0', '575.0', '1311.0', '759.0', '891.0',\n",
       "       '317.0', '688.0', '195.0', '622.0', '646.0', '719.0', '1012.0',\n",
       "       '1278.0', '1222.0', '1231.0', '462.0', '231.0', '1089.0', '1262.0',\n",
       "       '439.0', '528.0', '647.0', '1097.0', '942.0', '966.0', '168.0',\n",
       "       '299.0', '999.0', '1498.0', '1439.0', '1111.0', '1174.0', '172.0',\n",
       "       '401.0', '866.0', '571.0', '1342.0', '995.0', '118.0', '990.0',\n",
       "       '241.0', '1470.0', '492.0', '1040.0', '1320.0', '146.0', '1153.0',\n",
       "       '185.0', '1297.0', '1064.0', '1351.0', '468.0', '1273.0', '1141.0',\n",
       "       '1488.0', '653.0', '1225.0', '1217.0', '1127.0', '1427.0', '702.0',\n",
       "       '926.0', '878.0', '896.0', '1401.0', '675.0', '1070.0', '496.0',\n",
       "       '390.0', '1220.0', '1124.0', '1046.0', '267.0', '443.0', '1287.0',\n",
       "       '1420.0', '562.0', '650.0', '141.0', '715.0', '376.0', '932.0',\n",
       "       '471.0', '180.0', '1265.0', '1075.0', '1086.0', '152.0', '974.0',\n",
       "       '788.0', '192.0', '150.0', '1167.0', '206.0', '736.0', '322.0',\n",
       "       '683.0', '1475.0', '560.0', '115.0', '888.0', '671.0', '567.0',\n",
       "       '148.0', '581.0', '371.0', '1181.0', '1253.0', '370.0', '1194.0',\n",
       "       '572.0', '355.0', '783.0', '155.0', '508.0', '642.0', '1382.0',\n",
       "       '1037.0', '1120.0', '374.0', '287.0', '591.0', '670.0', '1346.0',\n",
       "       '103.0', '673.0', '705.0', '1459.0', '1443.0', '1142.0', '664.0',\n",
       "       '432.0', '1353.0', '489.0', '807.0', '1280.0', '957.0', '542.0',\n",
       "       '216.0', '1150.0', '364.0', '1256.0', '440.0', '713.0', '140.0',\n",
       "       '629.0', '328.0', '472.0', '905.0', '1151.0', '644.0', '992.0',\n",
       "       '1323.0', '818.0', '1431.0', '976.0', '832.0', '916.0', '1247.0',\n",
       "       '128.0', '1158.0', '996.0', '1449.0', '636.0', '889.0', '106.0',\n",
       "       '723.0', '1482.0', '738.0', '1192.0', '1309.0', '544.0', '641.0',\n",
       "       '756.0', '895.0', '1261.0', '329.0', '1362.0', '1371.0', '821.0',\n",
       "       '1381.0', '1473.0', '296.0', '1349.0', '986.0', '413.0', '988.0',\n",
       "       '1474.0', '232.0', '1236.0', '1112.0', '204.0', '913.0', '810.0',\n",
       "       '693.0', '316.0', '381.0', '775.0', '804.0', '1090.0', '346.0',\n",
       "       '725.0', '182.0', '384.0', '1325.0', '1258.0', '1041.0', '625.0',\n",
       "       '1418.0', '1269.0', '395.0', '341.0', '500.0', '1454.0', '617.0',\n",
       "       '1122.0', '1198.0', '188.0', '335.0', '461.0', '1134.0', '138.0',\n",
       "       '1206.0', '109.0', '277.0', '265.0', '342.0', '1186.0', '769.0',\n",
       "       '1176.0', '1091.0', '618.0', '970.0', '984.0', '793.0', '1182.0',\n",
       "       '603.0', '874.0', '367.0', '199.0', '1457.0', '1421.0', '1450.0',\n",
       "       '1212.0', '1010.0', '131.0', '193.0', '640.0', '848.0', '1138.0',\n",
       "       '256.0', '935.0', '458.0', '662.0', '499.0', '949.0', '383.0',\n",
       "       '1255.0', '1221.0', '981.0', '1495.0', '1193.0', '467.0', '271.0',\n",
       "       '410.0', '1288.0', '1108.0', '437.0', '457.0', '634.0', '546.0',\n",
       "       '711.0', '448.0', '365.0', '763.0', '486.0', '392.0', '727.0',\n",
       "       '741.0', '552.0', '506.0', '1456.0', '160.0', '897.0', '600.0',\n",
       "       '1054.0', '428.0', '343.0', '1216.0', '207.0', '280.0', '414.0',\n",
       "       '836.0', '592.0', '219.0', '1079.0', '1251.0', '1168.0', '1444.0',\n",
       "       '1154.0', '234.0', '529.0', '1322.0', '924.0', '134.0', '755.0',\n",
       "       '253.0', '922.0', '1365.0', '306.0', '1271.0', '1404.0', '1391.0',\n",
       "       '1464.0', '1330.0', '773.0', '902.0', '107.0', '504.0', '1358.0',\n",
       "       '824.0', '594.0', '734.0', '766.0', '431.0', '1213.0', '1373.0',\n",
       "       '1324.0', '1123.0', '391.0', '125.0', '1357.0', '626.0', '132.0',\n",
       "       '871.0', '1031.0', '1145.0', '854.0', '1411.0', '252.0', '833.0',\n",
       "       '1210.0', '1463.0', '812.0', '1162.0', '845.0', '1144.0', '156.0',\n",
       "       '464.0', '1305.0', '983.0', '534.0', '1306.0', '1094.0', '558.0',\n",
       "       '959.0', '782.0', '362.0', '268.0', '167.0', '1243.0', '720.0',\n",
       "       '868.0', '1252.0', '781.0', '1272.0', '129.0', '1069.0', '289.0',\n",
       "       '955.0', '660.0', '415.0', '309.0', '130.0', '862.0', '1098.0',\n",
       "       '969.0', '373.0', '599.0', '968.0', '830.0', '1423.0', '516.0',\n",
       "       '598.0', '104.0', '479.0', '474.0', '264.0', '1059.0', '563.0',\n",
       "       '1259.0', '369.0', '543.0', '964.0', '176.0', '181.0', '211.0',\n",
       "       '590.0', '305.0', '478.0', '1294.0', '1128.0', '726.0', '352.0',\n",
       "       '1172.0', '605.0', '1337.0', '105.0'], dtype=object)"
      ]
     },
     "execution_count": 50,
     "metadata": {},
     "output_type": "execute_result"
    }
   ],
   "source": [
    "df['dailyrate'] = df['dailyrate'].str.replace(\",\", \".\").str.replace(\"$\", \"\")\n",
    "df['dailyrate'].unique()"
   ]
  },
  {
   "cell_type": "code",
   "execution_count": 51,
   "metadata": {},
   "outputs": [],
   "source": [
    "df['dailyrate'] = df['dailyrate'].astype(float)"
   ]
  },
  {
   "cell_type": "code",
   "execution_count": 52,
   "metadata": {},
   "outputs": [
    {
     "data": {
      "text/html": [
       "<div>\n",
       "<style scoped>\n",
       "    .dataframe tbody tr th:only-of-type {\n",
       "        vertical-align: middle;\n",
       "    }\n",
       "\n",
       "    .dataframe tbody tr th {\n",
       "        vertical-align: top;\n",
       "    }\n",
       "\n",
       "    .dataframe thead th {\n",
       "        text-align: right;\n",
       "    }\n",
       "</style>\n",
       "<table border=\"1\" class=\"dataframe\">\n",
       "  <thead>\n",
       "    <tr style=\"text-align: right;\">\n",
       "      <th></th>\n",
       "      <th>unnamed: 0</th>\n",
       "      <th>age</th>\n",
       "      <th>attrition</th>\n",
       "      <th>businesstravel</th>\n",
       "      <th>dailyrate</th>\n",
       "      <th>department</th>\n",
       "      <th>distancefromhome</th>\n",
       "      <th>education</th>\n",
       "      <th>educationfield</th>\n",
       "      <th>employeenumber</th>\n",
       "      <th>...</th>\n",
       "      <th>trainingtimeslastyear</th>\n",
       "      <th>worklifebalance</th>\n",
       "      <th>yearsatcompany</th>\n",
       "      <th>yearsincurrentrole</th>\n",
       "      <th>yearssincelastpromotion</th>\n",
       "      <th>yearswithcurrmanager</th>\n",
       "      <th>sameasmonthlyincome</th>\n",
       "      <th>datebirth</th>\n",
       "      <th>roledepartament</th>\n",
       "      <th>remotework</th>\n",
       "    </tr>\n",
       "  </thead>\n",
       "  <tbody>\n",
       "    <tr>\n",
       "      <th>1249</th>\n",
       "      <td>1249</td>\n",
       "      <td>20</td>\n",
       "      <td>Yes</td>\n",
       "      <td>NaN</td>\n",
       "      <td>871.0</td>\n",
       "      <td>research &amp; development</td>\n",
       "      <td>6</td>\n",
       "      <td>3</td>\n",
       "      <td>life sciences</td>\n",
       "      <td>137,0</td>\n",
       "      <td>...</td>\n",
       "      <td>5</td>\n",
       "      <td>3,0</td>\n",
       "      <td>1</td>\n",
       "      <td>NaN</td>\n",
       "      <td>1</td>\n",
       "      <td>0</td>\n",
       "      <td>2926,0</td>\n",
       "      <td>2003</td>\n",
       "      <td>LaBORatORy tEchNiCian  -  Research &amp; Developm...</td>\n",
       "      <td>False</td>\n",
       "    </tr>\n",
       "  </tbody>\n",
       "</table>\n",
       "<p>1 rows × 37 columns</p>\n",
       "</div>"
      ],
      "text/plain": [
       "      unnamed: 0  age attrition businesstravel  dailyrate  \\\n",
       "1249        1249   20       Yes            NaN      871.0   \n",
       "\n",
       "                    department  distancefromhome  education educationfield  \\\n",
       "1249   research & development                  6          3  life sciences   \n",
       "\n",
       "     employeenumber  ...  trainingtimeslastyear  worklifebalance  \\\n",
       "1249          137,0  ...                      5              3,0   \n",
       "\n",
       "     yearsatcompany  yearsincurrentrole  yearssincelastpromotion  \\\n",
       "1249              1                 NaN                        1   \n",
       "\n",
       "     yearswithcurrmanager  sameasmonthlyincome datebirth  \\\n",
       "1249                    0               2926,0      2003   \n",
       "\n",
       "                                        roledepartament  remotework  \n",
       "1249   LaBORatORy tEchNiCian  -  Research & Developm...       False  \n",
       "\n",
       "[1 rows x 37 columns]"
      ]
     },
     "execution_count": 52,
     "metadata": {},
     "output_type": "execute_result"
    }
   ],
   "source": [
    "df.sample()"
   ]
  },
  {
   "cell_type": "markdown",
   "metadata": {},
   "source": [
    "--------"
   ]
  },
  {
   "cell_type": "markdown",
   "metadata": {},
   "source": [
    "- `Eliminar los NAN`❓\n",
    "- `Cambiar a minúscula los datos`✅"
   ]
  },
  {
   "cell_type": "code",
   "execution_count": 35,
   "metadata": {},
   "outputs": [
    {
     "data": {
      "text/plain": [
       "array([nan, ' Research & Development ', ' Sales ', ' Human Resources '],\n",
       "      dtype=object)"
      ]
     },
     "execution_count": 35,
     "metadata": {},
     "output_type": "execute_result"
    }
   ],
   "source": [
    "df['department'].unique()"
   ]
  },
  {
   "cell_type": "code",
   "execution_count": 36,
   "metadata": {},
   "outputs": [
    {
     "data": {
      "text/html": [
       "<div>\n",
       "<style scoped>\n",
       "    .dataframe tbody tr th:only-of-type {\n",
       "        vertical-align: middle;\n",
       "    }\n",
       "\n",
       "    .dataframe tbody tr th {\n",
       "        vertical-align: top;\n",
       "    }\n",
       "\n",
       "    .dataframe thead th {\n",
       "        text-align: right;\n",
       "    }\n",
       "</style>\n",
       "<table border=\"1\" class=\"dataframe\">\n",
       "  <thead>\n",
       "    <tr style=\"text-align: right;\">\n",
       "      <th></th>\n",
       "      <th>unnamed: 0</th>\n",
       "      <th>age</th>\n",
       "      <th>attrition</th>\n",
       "      <th>businesstravel</th>\n",
       "      <th>dailyrate</th>\n",
       "      <th>department</th>\n",
       "      <th>distancefromhome</th>\n",
       "      <th>education</th>\n",
       "      <th>educationfield</th>\n",
       "      <th>employeenumber</th>\n",
       "      <th>...</th>\n",
       "      <th>trainingtimeslastyear</th>\n",
       "      <th>worklifebalance</th>\n",
       "      <th>yearsatcompany</th>\n",
       "      <th>yearsincurrentrole</th>\n",
       "      <th>yearssincelastpromotion</th>\n",
       "      <th>yearswithcurrmanager</th>\n",
       "      <th>sameasmonthlyincome</th>\n",
       "      <th>datebirth</th>\n",
       "      <th>roledepartament</th>\n",
       "      <th>remotework</th>\n",
       "    </tr>\n",
       "  </thead>\n",
       "  <tbody>\n",
       "    <tr>\n",
       "      <th>0</th>\n",
       "      <td>0</td>\n",
       "      <td>51</td>\n",
       "      <td>No</td>\n",
       "      <td>NaN</td>\n",
       "      <td>684.0$</td>\n",
       "      <td>NaN</td>\n",
       "      <td>6</td>\n",
       "      <td>3</td>\n",
       "      <td>NaN</td>\n",
       "      <td>162,0</td>\n",
       "      <td>...</td>\n",
       "      <td>5</td>\n",
       "      <td>3,0</td>\n",
       "      <td>20</td>\n",
       "      <td>NaN</td>\n",
       "      <td>15</td>\n",
       "      <td>15</td>\n",
       "      <td>19537,0</td>\n",
       "      <td>1972</td>\n",
       "      <td>NaN</td>\n",
       "      <td>Yes</td>\n",
       "    </tr>\n",
       "    <tr>\n",
       "      <th>1</th>\n",
       "      <td>1</td>\n",
       "      <td>52</td>\n",
       "      <td>No</td>\n",
       "      <td>NaN</td>\n",
       "      <td>699.0$</td>\n",
       "      <td>NaN</td>\n",
       "      <td>1</td>\n",
       "      <td>4</td>\n",
       "      <td>Life Sciences</td>\n",
       "      <td>259,0</td>\n",
       "      <td>...</td>\n",
       "      <td>5</td>\n",
       "      <td>3,0</td>\n",
       "      <td>33</td>\n",
       "      <td>NaN</td>\n",
       "      <td>11</td>\n",
       "      <td>9</td>\n",
       "      <td>19999,0</td>\n",
       "      <td>1971</td>\n",
       "      <td>NaN</td>\n",
       "      <td>1</td>\n",
       "    </tr>\n",
       "    <tr>\n",
       "      <th>2</th>\n",
       "      <td>2</td>\n",
       "      <td>42</td>\n",
       "      <td>No</td>\n",
       "      <td>travel rarely</td>\n",
       "      <td>532.0$</td>\n",
       "      <td>research &amp; development</td>\n",
       "      <td>4</td>\n",
       "      <td>2</td>\n",
       "      <td>Technical Degree</td>\n",
       "      <td>319,0</td>\n",
       "      <td>...</td>\n",
       "      <td>3</td>\n",
       "      <td>NaN</td>\n",
       "      <td>22</td>\n",
       "      <td>NaN</td>\n",
       "      <td>11</td>\n",
       "      <td>15</td>\n",
       "      <td>19232,0</td>\n",
       "      <td>1981</td>\n",
       "      <td>ManaGER  -  Research &amp; Development</td>\n",
       "      <td>1</td>\n",
       "    </tr>\n",
       "    <tr>\n",
       "      <th>3</th>\n",
       "      <td>3</td>\n",
       "      <td>47</td>\n",
       "      <td>No</td>\n",
       "      <td>travel rarely</td>\n",
       "      <td>359.0$</td>\n",
       "      <td>NaN</td>\n",
       "      <td>2</td>\n",
       "      <td>4</td>\n",
       "      <td>Medical</td>\n",
       "      <td>NaN</td>\n",
       "      <td>...</td>\n",
       "      <td>2</td>\n",
       "      <td>NaN</td>\n",
       "      <td>20</td>\n",
       "      <td>NaN</td>\n",
       "      <td>5</td>\n",
       "      <td>6</td>\n",
       "      <td>17169,0</td>\n",
       "      <td>1976</td>\n",
       "      <td>NaN</td>\n",
       "      <td>False</td>\n",
       "    </tr>\n",
       "    <tr>\n",
       "      <th>4</th>\n",
       "      <td>4</td>\n",
       "      <td>46</td>\n",
       "      <td>No</td>\n",
       "      <td>NaN</td>\n",
       "      <td>1319.0$</td>\n",
       "      <td>NaN</td>\n",
       "      <td>3</td>\n",
       "      <td>3</td>\n",
       "      <td>Technical Degree</td>\n",
       "      <td>NaN</td>\n",
       "      <td>...</td>\n",
       "      <td>5</td>\n",
       "      <td>3,0</td>\n",
       "      <td>19</td>\n",
       "      <td>NaN</td>\n",
       "      <td>2</td>\n",
       "      <td>8</td>\n",
       "      <td>NaN</td>\n",
       "      <td>1977</td>\n",
       "      <td>NaN</td>\n",
       "      <td>0</td>\n",
       "    </tr>\n",
       "  </tbody>\n",
       "</table>\n",
       "<p>5 rows × 37 columns</p>\n",
       "</div>"
      ],
      "text/plain": [
       "   unnamed: 0  age attrition businesstravel dailyrate  \\\n",
       "0           0   51        No            NaN    684.0$   \n",
       "1           1   52        No            NaN    699.0$   \n",
       "2           2   42        No  travel rarely    532.0$   \n",
       "3           3   47        No  travel rarely    359.0$   \n",
       "4           4   46        No            NaN   1319.0$   \n",
       "\n",
       "                 department  distancefromhome  education    educationfield  \\\n",
       "0                       NaN                 6          3               NaN   \n",
       "1                       NaN                 1          4     Life Sciences   \n",
       "2   research & development                  4          2  Technical Degree   \n",
       "3                       NaN                 2          4           Medical   \n",
       "4                       NaN                 3          3  Technical Degree   \n",
       "\n",
       "  employeenumber  ...  trainingtimeslastyear  worklifebalance yearsatcompany  \\\n",
       "0          162,0  ...                      5              3,0             20   \n",
       "1          259,0  ...                      5              3,0             33   \n",
       "2          319,0  ...                      3              NaN             22   \n",
       "3            NaN  ...                      2              NaN             20   \n",
       "4            NaN  ...                      5              3,0             19   \n",
       "\n",
       "   yearsincurrentrole  yearssincelastpromotion yearswithcurrmanager  \\\n",
       "0                 NaN                       15                   15   \n",
       "1                 NaN                       11                    9   \n",
       "2                 NaN                       11                   15   \n",
       "3                 NaN                        5                    6   \n",
       "4                 NaN                        2                    8   \n",
       "\n",
       "   sameasmonthlyincome datebirth                       roledepartament  \\\n",
       "0              19537,0      1972                                   NaN   \n",
       "1              19999,0      1971                                   NaN   \n",
       "2              19232,0      1981   ManaGER  -  Research & Development    \n",
       "3              17169,0      1976                                   NaN   \n",
       "4                  NaN      1977                                   NaN   \n",
       "\n",
       "   remotework  \n",
       "0         Yes  \n",
       "1           1  \n",
       "2           1  \n",
       "3       False  \n",
       "4           0  \n",
       "\n",
       "[5 rows x 37 columns]"
      ]
     },
     "execution_count": 36,
     "metadata": {},
     "output_type": "execute_result"
    }
   ],
   "source": [
    "df['department'] = df['department'].str.lower()\n",
    "df.head()"
   ]
  },
  {
   "cell_type": "markdown",
   "metadata": {},
   "source": [
    "-----------"
   ]
  },
  {
   "cell_type": "markdown",
   "metadata": {},
   "source": [
    "`Cambiar los números a positivos los que están negativos`✅"
   ]
  },
  {
   "cell_type": "code",
   "execution_count": 43,
   "metadata": {},
   "outputs": [],
   "source": [
    "df['distancefromhome'] = df['distancefromhome'].abs()"
   ]
  },
  {
   "cell_type": "code",
   "execution_count": 44,
   "metadata": {},
   "outputs": [
    {
     "data": {
      "text/plain": [
       "array([ 6,  1,  4,  2,  3, 22, 25,  9,  7, 23, 10, 12, 14, 13, 15,  8, 42,\n",
       "       28, 37,  5, 16, 35, 26, 24, 29, 17, 21, 18, 30, 27, 20, 31, 39, 11,\n",
       "       19, 33, 34, 46, 36, 45, 47, 32, 41, 49, 48, 38, 43, 40, 44])"
      ]
     },
     "execution_count": 44,
     "metadata": {},
     "output_type": "execute_result"
    }
   ],
   "source": [
    "df['distancefromhome'].unique()\n"
   ]
  },
  {
   "cell_type": "markdown",
   "metadata": {},
   "source": [
    "---------"
   ]
  },
  {
   "cell_type": "markdown",
   "metadata": {},
   "source": [
    "No requiere cambios ✅"
   ]
  },
  {
   "cell_type": "code",
   "execution_count": 45,
   "metadata": {},
   "outputs": [
    {
     "data": {
      "text/plain": [
       "array([3, 4, 2, 1, 5])"
      ]
     },
     "execution_count": 45,
     "metadata": {},
     "output_type": "execute_result"
    }
   ],
   "source": [
    "df['education'].unique()"
   ]
  },
  {
   "cell_type": "markdown",
   "metadata": {},
   "source": [
    "--------"
   ]
  },
  {
   "cell_type": "markdown",
   "metadata": {},
   "source": [
    "- `cambiar a minúscula todo` ✅\n",
    "- `Eliminar los NAN`"
   ]
  },
  {
   "cell_type": "code",
   "execution_count": 47,
   "metadata": {},
   "outputs": [
    {
     "data": {
      "text/html": [
       "<div>\n",
       "<style scoped>\n",
       "    .dataframe tbody tr th:only-of-type {\n",
       "        vertical-align: middle;\n",
       "    }\n",
       "\n",
       "    .dataframe tbody tr th {\n",
       "        vertical-align: top;\n",
       "    }\n",
       "\n",
       "    .dataframe thead th {\n",
       "        text-align: right;\n",
       "    }\n",
       "</style>\n",
       "<table border=\"1\" class=\"dataframe\">\n",
       "  <thead>\n",
       "    <tr style=\"text-align: right;\">\n",
       "      <th></th>\n",
       "      <th>unnamed: 0</th>\n",
       "      <th>age</th>\n",
       "      <th>attrition</th>\n",
       "      <th>businesstravel</th>\n",
       "      <th>dailyrate</th>\n",
       "      <th>department</th>\n",
       "      <th>distancefromhome</th>\n",
       "      <th>education</th>\n",
       "      <th>educationfield</th>\n",
       "      <th>employeenumber</th>\n",
       "      <th>...</th>\n",
       "      <th>trainingtimeslastyear</th>\n",
       "      <th>worklifebalance</th>\n",
       "      <th>yearsatcompany</th>\n",
       "      <th>yearsincurrentrole</th>\n",
       "      <th>yearssincelastpromotion</th>\n",
       "      <th>yearswithcurrmanager</th>\n",
       "      <th>sameasmonthlyincome</th>\n",
       "      <th>datebirth</th>\n",
       "      <th>roledepartament</th>\n",
       "      <th>remotework</th>\n",
       "    </tr>\n",
       "  </thead>\n",
       "  <tbody>\n",
       "    <tr>\n",
       "      <th>0</th>\n",
       "      <td>0</td>\n",
       "      <td>51</td>\n",
       "      <td>No</td>\n",
       "      <td>NaN</td>\n",
       "      <td>684.0$</td>\n",
       "      <td>NaN</td>\n",
       "      <td>6</td>\n",
       "      <td>3</td>\n",
       "      <td>NaN</td>\n",
       "      <td>162,0</td>\n",
       "      <td>...</td>\n",
       "      <td>5</td>\n",
       "      <td>3,0</td>\n",
       "      <td>20</td>\n",
       "      <td>NaN</td>\n",
       "      <td>15</td>\n",
       "      <td>15</td>\n",
       "      <td>19537,0</td>\n",
       "      <td>1972</td>\n",
       "      <td>NaN</td>\n",
       "      <td>Yes</td>\n",
       "    </tr>\n",
       "    <tr>\n",
       "      <th>1</th>\n",
       "      <td>1</td>\n",
       "      <td>52</td>\n",
       "      <td>No</td>\n",
       "      <td>NaN</td>\n",
       "      <td>699.0$</td>\n",
       "      <td>NaN</td>\n",
       "      <td>1</td>\n",
       "      <td>4</td>\n",
       "      <td>life sciences</td>\n",
       "      <td>259,0</td>\n",
       "      <td>...</td>\n",
       "      <td>5</td>\n",
       "      <td>3,0</td>\n",
       "      <td>33</td>\n",
       "      <td>NaN</td>\n",
       "      <td>11</td>\n",
       "      <td>9</td>\n",
       "      <td>19999,0</td>\n",
       "      <td>1971</td>\n",
       "      <td>NaN</td>\n",
       "      <td>1</td>\n",
       "    </tr>\n",
       "    <tr>\n",
       "      <th>2</th>\n",
       "      <td>2</td>\n",
       "      <td>42</td>\n",
       "      <td>No</td>\n",
       "      <td>travel rarely</td>\n",
       "      <td>532.0$</td>\n",
       "      <td>research &amp; development</td>\n",
       "      <td>4</td>\n",
       "      <td>2</td>\n",
       "      <td>technical degree</td>\n",
       "      <td>319,0</td>\n",
       "      <td>...</td>\n",
       "      <td>3</td>\n",
       "      <td>NaN</td>\n",
       "      <td>22</td>\n",
       "      <td>NaN</td>\n",
       "      <td>11</td>\n",
       "      <td>15</td>\n",
       "      <td>19232,0</td>\n",
       "      <td>1981</td>\n",
       "      <td>ManaGER  -  Research &amp; Development</td>\n",
       "      <td>1</td>\n",
       "    </tr>\n",
       "    <tr>\n",
       "      <th>3</th>\n",
       "      <td>3</td>\n",
       "      <td>47</td>\n",
       "      <td>No</td>\n",
       "      <td>travel rarely</td>\n",
       "      <td>359.0$</td>\n",
       "      <td>NaN</td>\n",
       "      <td>2</td>\n",
       "      <td>4</td>\n",
       "      <td>medical</td>\n",
       "      <td>NaN</td>\n",
       "      <td>...</td>\n",
       "      <td>2</td>\n",
       "      <td>NaN</td>\n",
       "      <td>20</td>\n",
       "      <td>NaN</td>\n",
       "      <td>5</td>\n",
       "      <td>6</td>\n",
       "      <td>17169,0</td>\n",
       "      <td>1976</td>\n",
       "      <td>NaN</td>\n",
       "      <td>False</td>\n",
       "    </tr>\n",
       "    <tr>\n",
       "      <th>4</th>\n",
       "      <td>4</td>\n",
       "      <td>46</td>\n",
       "      <td>No</td>\n",
       "      <td>NaN</td>\n",
       "      <td>1319.0$</td>\n",
       "      <td>NaN</td>\n",
       "      <td>3</td>\n",
       "      <td>3</td>\n",
       "      <td>technical degree</td>\n",
       "      <td>NaN</td>\n",
       "      <td>...</td>\n",
       "      <td>5</td>\n",
       "      <td>3,0</td>\n",
       "      <td>19</td>\n",
       "      <td>NaN</td>\n",
       "      <td>2</td>\n",
       "      <td>8</td>\n",
       "      <td>NaN</td>\n",
       "      <td>1977</td>\n",
       "      <td>NaN</td>\n",
       "      <td>0</td>\n",
       "    </tr>\n",
       "  </tbody>\n",
       "</table>\n",
       "<p>5 rows × 37 columns</p>\n",
       "</div>"
      ],
      "text/plain": [
       "   unnamed: 0  age attrition businesstravel dailyrate  \\\n",
       "0           0   51        No            NaN    684.0$   \n",
       "1           1   52        No            NaN    699.0$   \n",
       "2           2   42        No  travel rarely    532.0$   \n",
       "3           3   47        No  travel rarely    359.0$   \n",
       "4           4   46        No            NaN   1319.0$   \n",
       "\n",
       "                 department  distancefromhome  education    educationfield  \\\n",
       "0                       NaN                 6          3               NaN   \n",
       "1                       NaN                 1          4     life sciences   \n",
       "2   research & development                  4          2  technical degree   \n",
       "3                       NaN                 2          4           medical   \n",
       "4                       NaN                 3          3  technical degree   \n",
       "\n",
       "  employeenumber  ...  trainingtimeslastyear  worklifebalance yearsatcompany  \\\n",
       "0          162,0  ...                      5              3,0             20   \n",
       "1          259,0  ...                      5              3,0             33   \n",
       "2          319,0  ...                      3              NaN             22   \n",
       "3            NaN  ...                      2              NaN             20   \n",
       "4            NaN  ...                      5              3,0             19   \n",
       "\n",
       "   yearsincurrentrole  yearssincelastpromotion yearswithcurrmanager  \\\n",
       "0                 NaN                       15                   15   \n",
       "1                 NaN                       11                    9   \n",
       "2                 NaN                       11                   15   \n",
       "3                 NaN                        5                    6   \n",
       "4                 NaN                        2                    8   \n",
       "\n",
       "   sameasmonthlyincome datebirth                       roledepartament  \\\n",
       "0              19537,0      1972                                   NaN   \n",
       "1              19999,0      1971                                   NaN   \n",
       "2              19232,0      1981   ManaGER  -  Research & Development    \n",
       "3              17169,0      1976                                   NaN   \n",
       "4                  NaN      1977                                   NaN   \n",
       "\n",
       "   remotework  \n",
       "0         Yes  \n",
       "1           1  \n",
       "2           1  \n",
       "3       False  \n",
       "4           0  \n",
       "\n",
       "[5 rows x 37 columns]"
      ]
     },
     "execution_count": 47,
     "metadata": {},
     "output_type": "execute_result"
    }
   ],
   "source": [
    "df['educationfield'] = df['educationfield'].str.lower()\n",
    "df.head()"
   ]
  },
  {
   "cell_type": "code",
   "execution_count": 48,
   "metadata": {},
   "outputs": [
    {
     "data": {
      "text/plain": [
       "array([nan, 'life sciences', 'technical degree', 'medical', 'other',\n",
       "       'marketing', 'human resources'], dtype=object)"
      ]
     },
     "execution_count": 48,
     "metadata": {},
     "output_type": "execute_result"
    }
   ],
   "source": [
    "df['educationfield'].unique()"
   ]
  },
  {
   "cell_type": "markdown",
   "metadata": {},
   "source": [
    "--------"
   ]
  },
  {
   "cell_type": "markdown",
   "metadata": {},
   "source": [
    "Eliminado ❌"
   ]
  },
  {
   "cell_type": "code",
   "execution_count": null,
   "metadata": {},
   "outputs": [],
   "source": [
    "df['employeecount'].unique()"
   ]
  },
  {
   "cell_type": "markdown",
   "metadata": {},
   "source": [
    "-------"
   ]
  },
  {
   "cell_type": "markdown",
   "metadata": {},
   "source": [
    "# `Eliminar duplicados`\n",
    "- Revisar bien cada registro para tomar una decisión"
   ]
  },
  {
   "cell_type": "code",
   "execution_count": 140,
   "metadata": {},
   "outputs": [
    {
     "data": {
      "text/plain": [
       "array(['162,0', '259,0', '319,0', ..., '2012,0', '2023,0', '2040,0'],\n",
       "      dtype=object)"
      ]
     },
     "execution_count": 140,
     "metadata": {},
     "output_type": "execute_result"
    }
   ],
   "source": [
    "df['employeenumber'].unique()"
   ]
  },
  {
   "cell_type": "code",
   "execution_count": 243,
   "metadata": {},
   "outputs": [
    {
     "data": {
      "text/plain": [
       "534"
      ]
     },
     "execution_count": 243,
     "metadata": {},
     "output_type": "execute_result"
    }
   ],
   "source": [
    "df['employeenumber'].duplicated().sum()"
   ]
  },
  {
   "cell_type": "code",
   "execution_count": 245,
   "metadata": {},
   "outputs": [
    {
     "data": {
      "text/plain": [
       "employeenumber\n",
       "482,0     2\n",
       "530,0     2\n",
       "507,0     2\n",
       "517,0     2\n",
       "522,0     2\n",
       "         ..\n",
       "161,0     1\n",
       "164,0     1\n",
       "190,0     1\n",
       "194,0     1\n",
       "2040,0    1\n",
       "Name: count, Length: 1079, dtype: int64"
      ]
     },
     "execution_count": 245,
     "metadata": {},
     "output_type": "execute_result"
    }
   ],
   "source": [
    "df['employeenumber'].value_counts()"
   ]
  },
  {
   "cell_type": "markdown",
   "metadata": {},
   "source": [
    "---------------------"
   ]
  },
  {
   "cell_type": "markdown",
   "metadata": {},
   "source": [
    "No requiere cambios ✅"
   ]
  },
  {
   "cell_type": "code",
   "execution_count": 141,
   "metadata": {},
   "outputs": [
    {
     "data": {
      "text/plain": [
       "array([ 1,  3,  4,  2, 42, 37, 35, 25, 27, 31, 39, 21, 15, 14, 33, 19, 12,\n",
       "       13, 28, 47, 36, 29, 24, 46, 16, 22, 41, 49, 11, 48, 18, 10, 45, 38,\n",
       "       17, 20, 26, 43])"
      ]
     },
     "execution_count": 141,
     "metadata": {},
     "output_type": "execute_result"
    }
   ],
   "source": [
    "df['EnvironmentSatisfaction'].unique()"
   ]
  },
  {
   "cell_type": "markdown",
   "metadata": {},
   "source": [
    "-------------"
   ]
  },
  {
   "cell_type": "markdown",
   "metadata": {},
   "source": [
    "- `cambiar de 0 - 1 a Male/Female o M/F`✅\n",
    "- `convertir en object ya que antes era int`✅\n"
   ]
  },
  {
   "cell_type": "code",
   "execution_count": 54,
   "metadata": {},
   "outputs": [],
   "source": [
    "df['gender'] = df['gender'].replace({0: 'Male', 1: 'Female'})"
   ]
  },
  {
   "cell_type": "code",
   "execution_count": 55,
   "metadata": {},
   "outputs": [
    {
     "data": {
      "text/plain": [
       "array(['Male', 'Female'], dtype=object)"
      ]
     },
     "execution_count": 55,
     "metadata": {},
     "output_type": "execute_result"
    }
   ],
   "source": [
    "df['gender'].unique()"
   ]
  },
  {
   "cell_type": "markdown",
   "metadata": {},
   "source": [
    "--------"
   ]
  },
  {
   "cell_type": "markdown",
   "metadata": {},
   "source": [
    "- `Cambiar a formato de hora  o int`✅\n",
    "- `Eliminar el Not Available`✅"
   ]
  },
  {
   "cell_type": "code",
   "execution_count": 90,
   "metadata": {},
   "outputs": [],
   "source": [
    "# Rellenar los valores NA con 0 o cualquier otro valor predeterminado\n",
    "df.hourlyrate = df.hourlyrate.replace({'Not Available': 0})\n"
   ]
  },
  {
   "cell_type": "code",
   "execution_count": 91,
   "metadata": {},
   "outputs": [],
   "source": [
    "\n",
    "# Convertir la columna a enteros\n",
    "df['hourlyrate'] = df['hourlyrate'].astype(int)"
   ]
  },
  {
   "cell_type": "code",
   "execution_count": 92,
   "metadata": {},
   "outputs": [
    {
     "data": {
      "text/plain": [
       "array([ 51,  65,  58,  82,  45,  99,  91,  64,  55,  68,  49,  61,  79,\n",
       "        31,  69,  48,  80,  74,  98,  59,  33,  56,  66,  57,  53,  87,\n",
       "        81,  84,  32,  41,  92,  47,   0,  43,  86,  30,  42,  88,  96,\n",
       "        67,  62,  72,  78,  89,  52,  50,  90,  37,  94,  76,  60,  46,\n",
       "        83, 100,  40,  97,  54,  75,  39,  85,  63,  44,  93,  36,  35,\n",
       "        73,  71,  70,  38,  77,  95,  34])"
      ]
     },
     "execution_count": 92,
     "metadata": {},
     "output_type": "execute_result"
    }
   ],
   "source": [
    "df['hourlyrate'].unique()"
   ]
  },
  {
   "cell_type": "markdown",
   "metadata": {},
   "source": [
    "------"
   ]
  },
  {
   "cell_type": "markdown",
   "metadata": {},
   "source": [
    "No requiere cambios ✅"
   ]
  },
  {
   "cell_type": "code",
   "execution_count": 57,
   "metadata": {},
   "outputs": [
    {
     "data": {
      "text/plain": [
       "array([3, 2, 4, 1])"
      ]
     },
     "execution_count": 57,
     "metadata": {},
     "output_type": "execute_result"
    }
   ],
   "source": [
    "df['jobinvolvement'].unique()"
   ]
  },
  {
   "cell_type": "markdown",
   "metadata": {},
   "source": [
    "-------"
   ]
  },
  {
   "cell_type": "markdown",
   "metadata": {},
   "source": [
    "No requiere cambios ✅"
   ]
  },
  {
   "cell_type": "code",
   "execution_count": 58,
   "metadata": {},
   "outputs": [
    {
     "data": {
      "text/plain": [
       "array([5, 4, 3, 2, 1])"
      ]
     },
     "execution_count": 58,
     "metadata": {},
     "output_type": "execute_result"
    }
   ],
   "source": [
    "df['joblevel'].unique()"
   ]
  },
  {
   "cell_type": "markdown",
   "metadata": {},
   "source": [
    "-----------"
   ]
  },
  {
   "cell_type": "markdown",
   "metadata": {},
   "source": [
    "- `cambiar a minúsculas` ✅"
   ]
  },
  {
   "cell_type": "code",
   "execution_count": 62,
   "metadata": {},
   "outputs": [],
   "source": [
    "df['jobrole'] = df['jobrole'].str.lower()"
   ]
  },
  {
   "cell_type": "code",
   "execution_count": 63,
   "metadata": {},
   "outputs": [
    {
     "data": {
      "text/plain": [
       "array([' research director ', ' manager ', ' sales executive ',\n",
       "       ' manufacturing director ', ' research scientist ',\n",
       "       ' healthcare representative ', ' laboratory technician ',\n",
       "       ' sales representative ', ' human resources '], dtype=object)"
      ]
     },
     "execution_count": 63,
     "metadata": {},
     "output_type": "execute_result"
    }
   ],
   "source": [
    "df['jobrole'].unique()"
   ]
  },
  {
   "cell_type": "markdown",
   "metadata": {},
   "source": [
    "-------"
   ]
  },
  {
   "cell_type": "markdown",
   "metadata": {},
   "source": [
    "No requiere cambios ✅"
   ]
  },
  {
   "cell_type": "code",
   "execution_count": 64,
   "metadata": {},
   "outputs": [
    {
     "data": {
      "text/plain": [
       "array([3, 4, 1, 2])"
      ]
     },
     "execution_count": 64,
     "metadata": {},
     "output_type": "execute_result"
    }
   ],
   "source": [
    "df['jobsatisfaction'].unique()"
   ]
  },
  {
   "cell_type": "markdown",
   "metadata": {},
   "source": [
    "-------"
   ]
  },
  {
   "cell_type": "markdown",
   "metadata": {},
   "source": [
    "- `cambiar a minúsculas` ✅\n",
    "- `Eliminar los NAN`\n",
    "- `Eliminar la plabras 'Marreid' ` ✅"
   ]
  },
  {
   "cell_type": "code",
   "execution_count": 34,
   "metadata": {},
   "outputs": [],
   "source": [
    "df[\"maritalstatus\"] = df[\"maritalstatus\"].str.lower()\n",
    "df[\"maritalstatus\"] = df[\"maritalstatus\"].str.replace('marreid', 'married')"
   ]
  },
  {
   "cell_type": "code",
   "execution_count": 35,
   "metadata": {},
   "outputs": [
    {
     "data": {
      "text/plain": [
       "array([nan, 'married', 'divorced', 'single'], dtype=object)"
      ]
     },
     "execution_count": 35,
     "metadata": {},
     "output_type": "execute_result"
    }
   ],
   "source": [
    "df['maritalstatus'].unique()"
   ]
  },
  {
   "cell_type": "markdown",
   "metadata": {},
   "source": [
    "-------"
   ]
  },
  {
   "cell_type": "markdown",
   "metadata": {},
   "source": [
    "- ` quitar las comas por puntos `✅\n",
    "- `tiene NAN`"
   ]
  },
  {
   "cell_type": "code",
   "execution_count": 93,
   "metadata": {},
   "outputs": [],
   "source": [
    "def cambiar_comas(cadena):\n",
    "    try:\n",
    "        return float(cadena.replace(',', '').replace('.', ''))\n",
    "    except:\n",
    "        return np.nan\n",
    "df['monthlyincome'] = df['monthlyincome'].apply(cambiar_comas)"
   ]
  },
  {
   "cell_type": "code",
   "execution_count": 94,
   "metadata": {},
   "outputs": [
    {
     "data": {
      "text/plain": [
       "array([195370., 199990., 192320., 171690.,     nan, 171740., 165950.,\n",
       "       199730., 134020., 132060., 195450., 180410., 192460., 107480.,\n",
       "       167520.,  62010., 198450.,  40010., 104470., 160640.,  32100.,\n",
       "       102660., 104750.,  61620.,  47210.,  46150., 169590., 103060.,\n",
       "        54060.,  59020., 108550.,  59140.,  66460., 139730., 133200.,\n",
       "        66870.,  47350., 138720., 190450., 160150.,  96130., 115100.,\n",
       "        43060., 170460.,  50670.,  36920., 198470.,  23080.,  57470.,\n",
       "       104220.,  63470.,  23480.,  30720., 124900.,  80200., 170680.,\n",
       "        89430., 192720.,  55770.,  26910.,  74030.,  88230.,  35790.,\n",
       "       177790., 182130., 135770., 191900., 171230., 191870., 100080.,\n",
       "        79880.,  70830.,  47230.,  34070.,  29290., 120310., 154270.,\n",
       "        51260.,  96190.,  50100., 190330., 104000.,  27930.,  56740.,\n",
       "       191970.,  84120.,  33480.,  53090.,  76540., 128080.,  65860.,\n",
       "        25190., 170990., 131200.,  31310.,  44440.,  66740.,  98520.,\n",
       "       178610.,  74460., 137570., 165980.,  42850., 101240.,  97140.,\n",
       "        99240., 112450.,  30690.,  92410.,  64720.,  30550.,  83210.,\n",
       "        31430.,  85780.,  41970.,  98880., 133410.,  56770.,  29090.,\n",
       "        95260.,  68250.,  44240.,  54410.,  60740.,  61460.,  61720.,\n",
       "        46680.,  56050.,  43190.,  35640.,  62610.,  68040., 194360.,\n",
       "        58280.,  24550.,  50550.,  46820.,  52570.,  21190.,  59740.,\n",
       "        30340., 132120.,  83920.,  40510.,  48050.,  27410.,  53370.,\n",
       "        94340.,  53960., 111590.,  49600.,  87930., 191890.,  22160.,\n",
       "       117130.,  53040., 111030.,  66320.,  75870.,  43350.,  59800.,\n",
       "        42440.,  52280.,  27000.,  23660.,  23290.,  42940.,  67250.,\n",
       "       103250.,  44470., 108450.,  54720.,  63850.,  75250.,  36600.,\n",
       "        87400., 134990.,  34910.,  52200., 102520., 197400.,  62090.,\n",
       "        70940.,  45340.,  85000.,  46390.,  53630.,  40810.,  35780.,\n",
       "       173280., 107930., 108510., 104660.,  23620.,  64390.,  57690.,\n",
       "        43850.,  40660.,  52060.,  26550.,  25700.,  45020.,  49680.,\n",
       "        51470.,  27180.,  35390.,  54680.,  58130.,  96670.,  51540.,\n",
       "        56750.,  73140.,  50980., 135700.,  67120.,  99910., 102480.,\n",
       "       109380.,  25930., 118780.,  80950., 168560.,  45370., 179240.,\n",
       "        40140., 127420.,  33760., 104820.,  42490.,  65490., 144110.,\n",
       "       195860.,  82370.,  32110., 167040.,  47740.,  45680.,  59930.,\n",
       "        64990.,  34520.,  63970.,  27250.,  36220.,  61800.,  62740.,\n",
       "        43810.,  25590.,  54880.,  25140.,  31960.,  34200.,  40870.,\n",
       "        53680., 129360.,  42210.,  49630.,  42000.,  50060.,  76390.,\n",
       "        65020., 135250.,  63490.,  63800.,  31020.,  45560.,  42300.,\n",
       "        48590.,  63220., 107610.,  29730.,  52040., 173990., 168850.,\n",
       "        43230.,  51550.,  29360., 187890.,  48830.,  20290.,  29960.,\n",
       "        92780.,  41620.,  88530.,  48760.,  21410.,  77560.,  39360.,\n",
       "        68420.,  39890.,  49300.,  37020.,  27050.,  44480.,  23790.,\n",
       "        54870.,  28100.,  89380.,  99360.,  54540., 187400.,  54730.,\n",
       "       135030., 135490., 181720.,  27740.,  94390.,  52650.,  38150.,\n",
       "        23890.,  40000., 175840.,  56610.,  48690.,  46490., 104960.,\n",
       "        27680.,  34080.,  37550.,  21870.,  42580.,  53260.,  54850.,\n",
       "        27820., 176390.,  60620.,  62880.,  34240.,  41940.,  25320.,\n",
       "        56660., 137260.,  41070.,  35970.,  41150.,  62720.,  25170.,\n",
       "        39040.,  92040.,  43730.,  20640.,  24300.,  48770.,  37600.,\n",
       "        20130.,  29740.,  27660.,  33770.,  42130.,  65130.,  42840.,\n",
       "        22260.,  55610.,  21440.,  53730.,  28970.,  53210.,  54100.,\n",
       "        48500.,  20010.,  44040.,  39440.,  29600., 189470.,  64650.,\n",
       "        26830.,  20140.,  34410., 136640.,  50210., 188440.,  47390.,\n",
       "       106500.,  43170.,  20240.,  30580.,  39290.,  44250.,  23280.,\n",
       "        26570.,  59400.,  26220.,  32120.,  29110.,  69310.,  21760.,\n",
       "        32300., 186650.,  27890.,  64100.,  49410.,  39830.,  29040.,\n",
       "        26960.,  21740.,  67550., 109650.,  25430., 194060.,  65380.,\n",
       "        22580.,  22180.,  26540., 119350.,  25460.,  38940.,  42620.,\n",
       "       105270.,  24000.,  36810.,  34470., 195130.,  26590.,  88470.,\n",
       "        20450.,  48510.,  81200.,  45770.,  54050.,  37080., 137700.,\n",
       "        22970.,  24500.,  43420.,  25720.,  65000.,  31490.,  53240.,\n",
       "        43820.,  25530.,  59330.,  44030., 109340.,  20220.,  42560.,\n",
       "        35800.,  28990.,  55620.,  23770.,  24040.,  27990.,  28110.,\n",
       "        43770.,  42400.,  42270.,  39170.,  49690.,  20420.,  28210.,\n",
       "        99570.,  22070.,  20700.,  27910.,  82240.,  26100.,  57310.,\n",
       "        25390.,  23760., 190810.,  27430.,  45380.,  38670.,  20800.,\n",
       "        20960.,  46270.,  23020.,  50710., 105960.,  54670.,  23940.,\n",
       "        36290.,  93620.,  32290., 164220.,  56470.,  44000.,  20660.,\n",
       "        54860.,  31620.,  66510.,  48980.,  31800., 112440.,  40690.,\n",
       "        63920.,  48550.,  33120.,  31170., 152020.,  25800.,  21660.,\n",
       "        43740.,  55050.,  25870., 159720.,  23050.,  34330.,  34770.,\n",
       "        39070.,  34450.,  27600.,  62940., 131160.,  35910.,  21050.,\n",
       "        39020.,  26620.,  20620.,  55070.,  81030.,  39780.,  53990.,\n",
       "       104480.,  44400.,  26600.,  33750.,  22690.,  47870.,  28090.,\n",
       "       108540.,  25710.,  61420.,  24960.,  34190.,  25010.,  25660.,\n",
       "        39200., 139640.,  65400.,  22440., 161840.,  42330., 148140.,\n",
       "       171590.,  23180.,  36170.,  26840., 192370.,  44220.,  25520.,\n",
       "        26780.,  51710., 119160.,  93800.,  58780.,  24680.,  41270.,\n",
       "        21480.,  38860.,  66670.,  20900.,  20860.,  19510.,  30220.,\n",
       "        97240.,  33880.,  30380.,  23220.,  29260.,  45050.,  28350.,\n",
       "        65530.,  66730., 135910.,  21770., 195170., 192020., 100480.,\n",
       "        27230.,  66440.,  31610.,  14200.,  12000.,  52380.,  99850.,\n",
       "       159920.,  23700.,  67810.,  66530.,  28510.,  52580.,  24760.,\n",
       "        22850.,  34480.,  45580.,  17020.,  25640.,  50700.,  37800.,\n",
       "        98240.,  18780.,  23400.,  21270.,  20330.,  96020., 166270.,\n",
       "        20830.,  10090.,  78610.,  26420.,  51210.,  26940.,  50940.,\n",
       "        22740.,  23140.,  23800.,  20080., 105520.,  22590.,  24130.,\n",
       "        21210.,  24790., 131940.,  41630.,  26000., 183030.,  47770.,\n",
       "        10520.,  24610.,  25960.,  47280.,  73510.,  47660.,  28270.,\n",
       "        28530.,  22900.,  21070.,  22100., 131910., 182650.,  11180.,\n",
       "        23720.,  28380., 180610.,  16110.,  47680.,  12740.,  25610.,\n",
       "        15630.,  63880.,  83760.,  48410.,  20740.,  29720.,  68150.,\n",
       "        26900., 175670.,  15690.,  41870.,  33060.,  13930., 108830.,\n",
       "        28620.,  67350.,  97560.,  52940.,  24370.,  40710.,  29560.,\n",
       "        46480.,  28040.,  24390.,  28560.,  29330.,  10910.,  51510.,\n",
       "        28630.,  28580.,  11290., 194310.])"
      ]
     },
     "execution_count": 94,
     "metadata": {},
     "output_type": "execute_result"
    }
   ],
   "source": [
    "df['monthlyincome'].unique()"
   ]
  },
  {
   "cell_type": "markdown",
   "metadata": {},
   "source": [
    "-------"
   ]
  },
  {
   "cell_type": "markdown",
   "metadata": {},
   "source": [
    "No requiere cambios ✅"
   ]
  },
  {
   "cell_type": "code",
   "execution_count": 40,
   "metadata": {},
   "outputs": [
    {
     "data": {
      "text/plain": [
       "array([ 6462,  5678,  4933, ..., 15302, 26956, 16642])"
      ]
     },
     "execution_count": 40,
     "metadata": {},
     "output_type": "execute_result"
    }
   ],
   "source": [
    "df['monthlyrate'].unique()"
   ]
  },
  {
   "cell_type": "markdown",
   "metadata": {},
   "source": [
    "-------------------------"
   ]
  },
  {
   "cell_type": "markdown",
   "metadata": {},
   "source": [
    "No requiere cambios ✅"
   ]
  },
  {
   "cell_type": "code",
   "execution_count": 42,
   "metadata": {},
   "outputs": [
    {
     "data": {
      "text/plain": [
       "array([7, 0, 1, 3, 2, 4, 8, 9, 5, 6])"
      ]
     },
     "execution_count": 42,
     "metadata": {},
     "output_type": "execute_result"
    }
   ],
   "source": [
    "df[\"numcompaniesworked\"].unique()"
   ]
  },
  {
   "cell_type": "markdown",
   "metadata": {},
   "source": [
    "-------"
   ]
  },
  {
   "cell_type": "markdown",
   "metadata": {},
   "source": [
    "Eliminado ❌"
   ]
  },
  {
   "cell_type": "code",
   "execution_count": null,
   "metadata": {},
   "outputs": [],
   "source": [
    "df['Over18'].unique()"
   ]
  },
  {
   "cell_type": "markdown",
   "metadata": {},
   "source": [
    "-------"
   ]
  },
  {
   "cell_type": "markdown",
   "metadata": {},
   "source": [
    "`hay un 42% de nulos, quizás eliminarla? - Eliminar los NAN`"
   ]
  },
  {
   "cell_type": "code",
   "execution_count": 24,
   "metadata": {},
   "outputs": [
    {
     "data": {
      "text/plain": [
       "0.4188351920693928"
      ]
     },
     "execution_count": 24,
     "metadata": {},
     "output_type": "execute_result"
    }
   ],
   "source": [
    "df['overtime'].isnull().sum()/df.shape[0]"
   ]
  },
  {
   "cell_type": "code",
   "execution_count": 26,
   "metadata": {},
   "outputs": [
    {
     "data": {
      "text/plain": [
       "array(['No', nan, 'Yes'], dtype=object)"
      ]
     },
     "execution_count": 26,
     "metadata": {},
     "output_type": "execute_result"
    }
   ],
   "source": [
    "df[\"overtime\"].unique()"
   ]
  },
  {
   "cell_type": "markdown",
   "metadata": {},
   "source": [
    "-------"
   ]
  },
  {
   "cell_type": "markdown",
   "metadata": {},
   "source": [
    "No requiere cambios ✅"
   ]
  },
  {
   "cell_type": "code",
   "execution_count": 30,
   "metadata": {},
   "outputs": [
    {
     "data": {
      "text/plain": [
       "array([13, 14, 11, 19, 12, 25, 16, 17, 22, 23, 20, 15, 21, 24, 18])"
      ]
     },
     "execution_count": 30,
     "metadata": {},
     "output_type": "execute_result"
    }
   ],
   "source": [
    "df['percentsalaryhike'].unique()"
   ]
  },
  {
   "cell_type": "markdown",
   "metadata": {},
   "source": [
    "-------"
   ]
  },
  {
   "cell_type": "markdown",
   "metadata": {},
   "source": [
    "- `volverlo int o float` ✅\n",
    "- `Quitarle la coma y por puntos` ✅\n",
    "- `Eliminar los NAN `"
   ]
  },
  {
   "cell_type": "code",
   "execution_count": 95,
   "metadata": {},
   "outputs": [],
   "source": [
    "df['performancerating'] = df['performancerating'].str.replace(\",\", \".\")\n"
   ]
  },
  {
   "cell_type": "code",
   "execution_count": 96,
   "metadata": {},
   "outputs": [],
   "source": [
    "df['performancerating'] = df['performancerating'].astype(float)"
   ]
  },
  {
   "cell_type": "code",
   "execution_count": 97,
   "metadata": {},
   "outputs": [
    {
     "data": {
      "text/plain": [
       "array([ 3.,  4., nan])"
      ]
     },
     "execution_count": 97,
     "metadata": {},
     "output_type": "execute_result"
    }
   ],
   "source": [
    "df[\"performancerating\"].unique()"
   ]
  },
  {
   "cell_type": "markdown",
   "metadata": {},
   "source": [
    "-------"
   ]
  },
  {
   "cell_type": "markdown",
   "metadata": {},
   "source": [
    "No requiere cambios ✅"
   ]
  },
  {
   "cell_type": "code",
   "execution_count": 28,
   "metadata": {},
   "outputs": [
    {
     "data": {
      "text/plain": [
       "array([3, 1, 4, 2])"
      ]
     },
     "execution_count": 28,
     "metadata": {},
     "output_type": "execute_result"
    }
   ],
   "source": [
    "df[\"relationshipsatisfaction\"].unique()"
   ]
  },
  {
   "cell_type": "markdown",
   "metadata": {},
   "source": [
    "-------"
   ]
  },
  {
   "cell_type": "markdown",
   "metadata": {},
   "source": [
    "Eliminado ❌"
   ]
  },
  {
   "cell_type": "code",
   "execution_count": null,
   "metadata": {},
   "outputs": [],
   "source": [
    "df[\"standardhours\"].unique()"
   ]
  },
  {
   "cell_type": "markdown",
   "metadata": {},
   "source": [
    "-------"
   ]
  },
  {
   "cell_type": "markdown",
   "metadata": {},
   "source": [
    "No requiere cambios ✅"
   ]
  },
  {
   "cell_type": "code",
   "execution_count": 158,
   "metadata": {},
   "outputs": [
    {
     "data": {
      "text/plain": [
       "array([0, 1, 2, 3])"
      ]
     },
     "execution_count": 158,
     "metadata": {},
     "output_type": "execute_result"
    }
   ],
   "source": [
    "df[\"stockoptionlevel\"].unique()"
   ]
  },
  {
   "cell_type": "markdown",
   "metadata": {},
   "source": [
    "-------"
   ]
  },
  {
   "cell_type": "code",
   "execution_count": 98,
   "metadata": {},
   "outputs": [],
   "source": [
    "# Funición unica que cambia los valores de las columnas de totalworkingyears, sameasmonthlyincome worklifebalance\n",
    "\n",
    "def cambiar_comas_y_nulos(cadena):\n",
    "    if pd.isnull(cadena):  # Si es un valor nulo, devuelve NaN\n",
    "        return np.nan\n",
    "    try:\n",
    "        return float(cadena.replace(',', '.'))  # Intenta convertir la cadena a float\n",
    "    except ValueError:  # Si la conversión falla, devuelve NaN\n",
    "        return np.nan\n",
    "\n",
    "# Lista de las columnas que deseas modificar\n",
    "columnas_a_convertir = ['totalworkingyears', 'sameasmonthlyincome', 'worklifebalance']\n",
    "\n",
    "# Aplica la función a cada columna en la lista\n",
    "for columna in columnas_a_convertir:\n",
    "    df[columna] = df[columna].apply(cambiar_comas_y_nulos)"
   ]
  },
  {
   "cell_type": "markdown",
   "metadata": {},
   "source": [
    "- `Cambiar a int o float ` ✅\n",
    "- `Eliminar los NAN `"
   ]
  },
  {
   "cell_type": "code",
   "execution_count": 99,
   "metadata": {},
   "outputs": [
    {
     "data": {
      "text/plain": [
       "array([nan, 34., 22., 28., 20., 21., 33., 40., 18., 25., 15., 17., 26.,\n",
       "       16., 24., 14., 23., 27., 19., 11., 38., 37., 13., 12., 29., 10.,\n",
       "       36., 35.,  9., 31., 32.,  8.,  7., 30.,  6.,  5.,  4.,  3.,  2.,\n",
       "        1.,  0.])"
      ]
     },
     "execution_count": 99,
     "metadata": {},
     "output_type": "execute_result"
    }
   ],
   "source": [
    "df[\"totalworkingyears\"].unique()"
   ]
  },
  {
   "cell_type": "markdown",
   "metadata": {},
   "source": [
    "-------"
   ]
  },
  {
   "cell_type": "markdown",
   "metadata": {},
   "source": [
    "No requiere cambios ✅"
   ]
  },
  {
   "cell_type": "code",
   "execution_count": 44,
   "metadata": {},
   "outputs": [
    {
     "data": {
      "text/plain": [
       "array([5, 3, 2, 0, 1, 4, 6])"
      ]
     },
     "execution_count": 44,
     "metadata": {},
     "output_type": "execute_result"
    }
   ],
   "source": [
    "df[\"trainingtimeslastyear\"].unique()"
   ]
  },
  {
   "cell_type": "markdown",
   "metadata": {},
   "source": [
    "-----------"
   ]
  },
  {
   "cell_type": "markdown",
   "metadata": {},
   "source": [
    "- `Tiene NAN`\n",
    "- `cambiar a int o float` ✅\n"
   ]
  },
  {
   "cell_type": "code",
   "execution_count": 63,
   "metadata": {},
   "outputs": [
    {
     "data": {
      "text/plain": [
       "array([ 3., nan,  2.,  4.,  1.])"
      ]
     },
     "execution_count": 63,
     "metadata": {},
     "output_type": "execute_result"
    }
   ],
   "source": [
    "df['worklifebalance'].unique()"
   ]
  },
  {
   "cell_type": "markdown",
   "metadata": {},
   "source": [
    "-------"
   ]
  },
  {
   "cell_type": "markdown",
   "metadata": {},
   "source": [
    "No requiere cambios ✅"
   ]
  },
  {
   "cell_type": "code",
   "execution_count": 10,
   "metadata": {},
   "outputs": [
    {
     "data": {
      "text/plain": [
       "array([20, 33, 22, 19, 21, 18, 24, 31, 26, 16, 23, 15, 17, 32, 14, 13, 25,\n",
       "       12, 11, 37, 40, 36, 27, 29, 10,  9, 30,  8,  7, 34,  6,  5,  4,  2,\n",
       "        3,  1,  0])"
      ]
     },
     "execution_count": 10,
     "metadata": {},
     "output_type": "execute_result"
    }
   ],
   "source": [
    "df['yearsatcompany'].unique()"
   ]
  },
  {
   "cell_type": "markdown",
   "metadata": {},
   "source": [
    "-------"
   ]
  },
  {
   "cell_type": "markdown",
   "metadata": {},
   "source": [
    "- `cambiar a int`\n",
    "- `Elimiar los NAN`\n",
    "- `revisar si Eliminar la clumna porque tiene 90% null`"
   ]
  },
  {
   "cell_type": "code",
   "execution_count": 163,
   "metadata": {},
   "outputs": [
    {
     "data": {
      "text/plain": [
       "array([nan, '13,0', '12,0', '11,0', '7,0', '6,0', '4,0', '3,0', '2,0',\n",
       "       '1,0', '0,0'], dtype=object)"
      ]
     },
     "execution_count": 163,
     "metadata": {},
     "output_type": "execute_result"
    }
   ],
   "source": [
    "df['yearsincurrentrole'].unique()"
   ]
  },
  {
   "cell_type": "markdown",
   "metadata": {},
   "source": [
    "-------"
   ]
  },
  {
   "cell_type": "markdown",
   "metadata": {},
   "source": [
    "No requiere cambios ✅"
   ]
  },
  {
   "cell_type": "code",
   "execution_count": 46,
   "metadata": {},
   "outputs": [
    {
     "data": {
      "text/plain": [
       "array([15, 11,  5,  2,  4,  7,  0,  1, 13, 14,  8, 12,  3,  6, 10,  9])"
      ]
     },
     "execution_count": 46,
     "metadata": {},
     "output_type": "execute_result"
    }
   ],
   "source": [
    "df['yearssincelastpromotion'].unique()"
   ]
  },
  {
   "cell_type": "markdown",
   "metadata": {},
   "source": [
    "-------"
   ]
  },
  {
   "cell_type": "markdown",
   "metadata": {},
   "source": [
    "No requiere cambios ✅"
   ]
  },
  {
   "cell_type": "code",
   "execution_count": 6,
   "metadata": {},
   "outputs": [
    {
     "data": {
      "text/plain": [
       "array([15,  9,  6,  8,  7, 11, 10, 12,  4,  0,  5, 17,  2, 14,  1, 13,  3,\n",
       "       16])"
      ]
     },
     "execution_count": 6,
     "metadata": {},
     "output_type": "execute_result"
    }
   ],
   "source": [
    "df['yearswithcurrmanager'].unique() "
   ]
  },
  {
   "cell_type": "markdown",
   "metadata": {},
   "source": [
    "-------"
   ]
  },
  {
   "cell_type": "markdown",
   "metadata": {},
   "source": [
    "- `Cambiar a int o float` ✅\n",
    "- `Tienen NAN`"
   ]
  },
  {
   "cell_type": "code",
   "execution_count": 64,
   "metadata": {},
   "outputs": [
    {
     "data": {
      "text/plain": [
       "array([19537., 19999., 19232., 17169.,    nan, 17174., 16595., 19973.,\n",
       "       13402., 13206., 19545., 18041., 19246., 10748., 16752.,  6201.,\n",
       "       19845.,  4001., 10447., 16064.,  3210., 10266., 10475.,  6162.,\n",
       "        4721.,  4615., 16959., 10306.,  5406.,  5902., 10855.,  5914.,\n",
       "        6646., 13973., 13320.,  6687.,  4735., 13872., 19045., 16015.,\n",
       "        9613., 11510.,  4306., 17046.,  5067.,  3692., 19847.,  2308.,\n",
       "        5747., 10422.,  6347.,  2348.,  3072., 12490.,  8020., 17068.,\n",
       "        8943., 19272.,  5577.,  2691.,  7403.,  8823.,  3579., 17779.,\n",
       "       18213., 13577., 19190., 17123., 19187., 10008.,  7988.,  7083.,\n",
       "        4723.,  3407.,  2929., 12031., 15427.,  5126.,  9619.,  5010.,\n",
       "       19033., 10400.,  2793.,  5674., 19197.,  8412.,  3348.,  5309.,\n",
       "        7654., 12808.,  6586.,  2519., 17099., 13120.,  3131.,  4444.,\n",
       "        6674.,  9852., 17861.,  7446., 13757., 16598.,  4285., 10124.,\n",
       "        9714.,  9924., 11245.,  3069.,  9241.,  6472.,  3055.,  8321.,\n",
       "        3143.,  8578.,  4197.,  9888., 13341.,  5677.,  2909.,  9526.,\n",
       "        6825.,  4424.,  5441.,  6074.,  6146.,  6172.,  4668.,  5605.,\n",
       "        4319.,  3564.,  6261.,  6804., 19436.,  5828.,  2455.,  5055.,\n",
       "        4682.,  5257.,  2119.,  5974.,  3034., 13212.,  8392.,  4051.,\n",
       "        4805.,  2741.,  5337.,  9434.,  5396., 11159.,  4960.,  8793.,\n",
       "       19189.,  2216., 11713.,  5304., 11103.,  6632.,  7587.,  4335.,\n",
       "        5980.,  4244.,  5228.,  2700.,  2366.,  2329.,  4294.,  6725.,\n",
       "       10325.,  4447., 10845.,  5472.,  6385.,  7525.,  3660.,  8740.,\n",
       "       13499.,  3491.,  5220., 10252., 19740.,  6209.,  7094.,  4534.,\n",
       "        8500.,  4639.,  5363.,  4081.,  3578., 17328., 10793., 10851.,\n",
       "       10466.,  2362.,  6439.,  5769.,  4385.,  4066.,  5206.,  2655.,\n",
       "        2570.,  4502.,  4968.,  5147.,  2718.,  3539.,  5468.,  5813.,\n",
       "        9667.,  5154.,  5675.,  7314.,  5098., 13570.,  6712.,  9991.,\n",
       "       10248., 10938.,  2593., 11878.,  8095., 16856.,  4537., 17924.,\n",
       "        4014., 12742.,  3376., 10482.,  4249.,  6549., 14411., 19586.,\n",
       "        8237.,  3211., 16704.,  4774.,  4568.,  5993.,  6499.,  3452.,\n",
       "        6397.,  2725.,  3622.,  6180.,  6274.,  4381.,  2559.,  5488.,\n",
       "        2514.,  3196.,  3420.,  4087.,  5368., 12936.,  4221.,  4963.,\n",
       "        4200.,  5006.,  7639.,  6502., 13525.,  6349.,  6380.,  3102.,\n",
       "        4556.,  4230.,  4859.,  6322., 10761.,  2973.,  5204., 17399.,\n",
       "       16885.,  4323.,  5155.,  2936., 18789.,  4883.,  2029.,  2996.,\n",
       "        9278.,  4162.,  8853.,  4876.,  2141.,  7756.,  3936.,  6842.,\n",
       "        3989.,  4930.,  3702.,  2705.,  4448.,  2379.,  5487.,  2810.,\n",
       "        8938.,  9936.,  5454., 18740.,  5473., 13503., 13549., 18172.,\n",
       "        2774.,  9439.,  5265.,  3815.,  2389.,  4000., 17584.,  5661.,\n",
       "        4869.,  4649., 10496.,  2768.,  3408.,  3755.,  2187.,  4258.,\n",
       "        5326.,  5485.,  2782., 17639.,  6062.,  6288.,  3424.,  4194.,\n",
       "        2532.,  5666., 13726.,  4107.,  3597.,  4115.,  6272.,  2517.,\n",
       "        3904.,  9204.,  4373.,  2064.,  2430.,  4877.,  3760.,  2013.,\n",
       "        2974.,  2766.,  3377.,  4213.,  6513.,  4284.,  2226.,  5561.,\n",
       "        2144.,  5373.,  2897.,  5321.,  5410.,  4850.,  2001.,  4404.,\n",
       "        3944.,  2960., 18947.,  6465.,  2683.,  2014.,  3441., 13664.,\n",
       "        5021., 18844.,  4739., 10650.,  4317.,  2024.,  3058.,  3929.,\n",
       "        4425.,  2328.,  2657.,  5940.,  2622.,  3212.,  2911.,  6931.,\n",
       "        2176.,  3230., 18665.,  2789.,  6410.,  4941.,  3983.,  2904.,\n",
       "        2696.,  2174.,  6755., 10965.,  2543., 19406.,  6538.,  2258.,\n",
       "        2218.,  2654., 11935.,  2546.,  3894.,  4262., 10527.,  2400.,\n",
       "        3681.,  3447., 19513.,  2659.,  8847.,  2045.,  4851.,  8120.,\n",
       "        4577.,  5405.,  3708., 13770.,  2297.,  2450.,  4342.,  2572.,\n",
       "        6500.,  3149.,  5324.,  4382.,  2553.,  5933.,  4403., 10934.,\n",
       "        2022.,  4256.,  3580.,  2899.,  5562.,  2377.,  2404.,  2799.,\n",
       "        2811.,  4377.,  4240.,  4227.,  3917.,  4969.,  2042.,  2821.,\n",
       "        9957.,  2207.,  2070.,  2791.,  8224.,  2610.,  5731.,  2539.,\n",
       "        2376., 19081.,  2743.,  4538.,  3867.,  2080.,  2096.,  4627.,\n",
       "        2302.,  5071., 10596.,  5467.,  2394.,  3629.,  9362.,  3229.,\n",
       "       16422.,  5647.,  4400.,  2066.,  5486.,  3162.,  6651.,  4898.,\n",
       "        3180., 11244.,  4069.,  6392.,  4855.,  3312.,  3117., 15202.,\n",
       "        2580.,  2166.,  4374.,  5505.,  2587., 15972.,  2305.,  3433.,\n",
       "        3477.,  3907.,  3445.,  2760.,  6294., 13116.,  3591.,  2105.,\n",
       "        3902.,  2662.,  2062.,  5507.,  8103.,  3978.,  5399., 10448.,\n",
       "        4440.,  2660.,  3375.,  2269.,  4787.,  2809., 10854.,  2571.,\n",
       "        6142.,  2496.,  3419.,  2501.,  2566.,  3920., 13964.,  6540.,\n",
       "        2244., 16184.,  4233., 14814., 17159.,  2318.,  3617.,  2684.,\n",
       "       19237.,  4422.,  2552.,  2678.,  5171., 11916.,  9380.,  5878.,\n",
       "        2468.,  4127.,  2148.,  3886.,  6667.,  2090.,  2086.,  1951.,\n",
       "        3022.,  9724.,  3388.,  3038.,  2322.,  2926.,  4505.,  2835.,\n",
       "        6553.,  6673., 13591.,  2177., 19517., 19202., 10048.,  2723.,\n",
       "        6644.,  3161.,  1420.,  1200.,  5238.,  9985., 15992.,  2370.,\n",
       "        6781.,  6653.,  2851.,  5258.,  2476.,  2285.,  3448.,  4558.,\n",
       "        1702.,  2564.,  5070.,  3780.,  9824.,  1878.,  2340.,  2127.,\n",
       "        2033.,  9602., 16627.,  2083.,  1009.,  7861.,  2642.,  5121.,\n",
       "        2694.,  5094.,  2274.,  2314.,  2380.,  2008., 10552.,  2259.,\n",
       "        2413.,  2121.,  2479., 13194.,  4163.,  2600., 18303.,  4777.,\n",
       "        1052.,  2461.,  2596.,  4728.,  7351.,  4766.,  2827.,  2853.,\n",
       "        2290.,  2107.,  2210., 13191., 18265.,  1118.,  2372.,  2838.,\n",
       "       18061.,  1611.,  4768.,  1274.,  2561.,  1563.,  6388.,  8376.,\n",
       "        4841.,  2074.,  2972.,  6815.,  2690., 17567.,  1569.,  4187.,\n",
       "        3306.,  1393., 10883.,  2862.,  6735.,  9756.,  5294.,  2437.,\n",
       "        4071.,  2956.,  4648.,  2804.,  2439.,  2856.,  2933.,  1091.,\n",
       "        5151.,  2863.,  2858.,  1129., 19431.])"
      ]
     },
     "execution_count": 64,
     "metadata": {},
     "output_type": "execute_result"
    }
   ],
   "source": [
    "df[\"sameasmonthlyincome\"].unique()"
   ]
  },
  {
   "cell_type": "markdown",
   "metadata": {},
   "source": [
    "-------"
   ]
  },
  {
   "cell_type": "markdown",
   "metadata": {},
   "source": [
    "`Es str, creo que no requiere cambios es una fecha de año por si sola`✅"
   ]
  },
  {
   "cell_type": "code",
   "execution_count": 100,
   "metadata": {},
   "outputs": [
    {
     "data": {
      "text/plain": [
       "array([1972, 1971, 1981, 1976, 1977, 1975, 1964, 1982, 1967, 1985, 1968,\n",
       "       1983, 1965, 1988, 1978, 1990, 1987, 1989, 1970, 1980, 1963, 1991,\n",
       "       1986, 1974, 1984, 1973, 1979, 1993, 1994, 1992, 1969, 1966, 1996,\n",
       "       1995, 1997, 1998, 1999, 2000, 2001, 2002, 2003, 2004, 2005])"
      ]
     },
     "execution_count": 100,
     "metadata": {},
     "output_type": "execute_result"
    }
   ],
   "source": [
    "df[\"datebirth\"].unique()"
   ]
  },
  {
   "cell_type": "markdown",
   "metadata": {},
   "source": [
    "-------"
   ]
  },
  {
   "cell_type": "markdown",
   "metadata": {},
   "source": [
    "Eliminado ❌"
   ]
  },
  {
   "cell_type": "code",
   "execution_count": null,
   "metadata": {},
   "outputs": [],
   "source": [
    "df[\"salary\"].unique()"
   ]
  },
  {
   "cell_type": "markdown",
   "metadata": {},
   "source": [
    "-------"
   ]
  },
  {
   "cell_type": "markdown",
   "metadata": {},
   "source": [
    "Eliminado ❌"
   ]
  },
  {
   "cell_type": "code",
   "execution_count": null,
   "metadata": {},
   "outputs": [],
   "source": [
    "df['roledepartament'].unique()"
   ]
  },
  {
   "cell_type": "markdown",
   "metadata": {},
   "source": [
    "------"
   ]
  },
  {
   "cell_type": "markdown",
   "metadata": {},
   "source": [
    "Eliminado ❌"
   ]
  },
  {
   "cell_type": "code",
   "execution_count": null,
   "metadata": {},
   "outputs": [],
   "source": [
    "df[\"numberchildren\"].unique()"
   ]
  },
  {
   "cell_type": "markdown",
   "metadata": {},
   "source": [
    "-------"
   ]
  },
  {
   "cell_type": "markdown",
   "metadata": {},
   "source": [
    "\n",
    "`Modificamos los valores 0 y 1, True or False por Yes y No` ✅\n",
    "- 1  =      360\n",
    "- True  =   345\n",
    "- 0   =     309\n",
    "- False =   305\n",
    "- Yes  =    295"
   ]
  },
  {
   "cell_type": "code",
   "execution_count": 101,
   "metadata": {},
   "outputs": [],
   "source": [
    "df['remotework']= df['remotework'].replace({('1'):'Yes',('0') or ('False'): 'No', 'True': 'Yes', 'False': 'No'})"
   ]
  },
  {
   "cell_type": "code",
   "execution_count": 105,
   "metadata": {},
   "outputs": [
    {
     "data": {
      "text/plain": [
       "array(['Yes', 'No'], dtype=object)"
      ]
     },
     "execution_count": 105,
     "metadata": {},
     "output_type": "execute_result"
    }
   ],
   "source": [
    "df[\"remotework\"].unique()"
   ]
  },
  {
   "cell_type": "code",
   "execution_count": 106,
   "metadata": {},
   "outputs": [
    {
     "data": {
      "text/plain": [
       "remotework\n",
       "Yes    1000\n",
       "No      614\n",
       "Name: count, dtype: int64"
      ]
     },
     "execution_count": 106,
     "metadata": {},
     "output_type": "execute_result"
    }
   ],
   "source": [
    "df['remotework'].value_counts()"
   ]
  },
  {
   "cell_type": "markdown",
   "metadata": {},
   "source": [
    "-------"
   ]
  },
  {
   "cell_type": "code",
   "execution_count": 107,
   "metadata": {},
   "outputs": [],
   "source": [
    "# Guarda el DataFrame como un archivo CSV\n",
    "df.to_csv(\"df_Casi_Limpio.csv\", index = False)"
   ]
  }
 ],
 "metadata": {
  "kernelspec": {
   "display_name": "Python 3",
   "language": "python",
   "name": "python3"
  },
  "language_info": {
   "codemirror_mode": {
    "name": "ipython",
    "version": 3
   },
   "file_extension": ".py",
   "mimetype": "text/x-python",
   "name": "python",
   "nbconvert_exporter": "python",
   "pygments_lexer": "ipython3",
   "version": "3.11.5"
  }
 },
 "nbformat": 4,
 "nbformat_minor": 2
}
