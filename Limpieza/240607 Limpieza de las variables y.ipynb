{
 "cells": [
  {
   "cell_type": "markdown",
   "metadata": {},
   "source": [
    "# Analisis y limpieza de las siguiente columnas"
   ]
  },
  {
   "cell_type": "markdown",
   "metadata": {},
   "source": [
    "* totalworkingyears',\n",
    "* 'trainingtimeslastyear', \n",
    "* 'worklifebalance', \n",
    "* 'yearsatcompany',\n",
    "* 'yearsincurrentrole', \n",
    "* 'yearssincelastpromotion', \n",
    "* 'yearswithcurrmanager',\n",
    "* 'sameasmonthlyincome', \n",
    "* 'datebirth', \n",
    "* 'roledepartament', \n",
    "* 'remotework'"
   ]
  },
  {
   "cell_type": "markdown",
   "metadata": {},
   "source": [
    "\n",
    "Se ha procedido ha la limpieza de las siguientes variables cambiando su formato actual a un formato float"
   ]
  },
  {
   "cell_type": "markdown",
   "metadata": {},
   "source": [
    "## A) Función unica para totalworkingyears, sameasmonthlyincome,worklifebalance"
   ]
  },
  {
   "cell_type": "code",
   "execution_count": null,
   "metadata": {},
   "outputs": [],
   "source": [
    "# Funición unica que cambia los valores de las columnas de totalworkingyears, sameasmonthlyincome worklifebalance\n",
    "\n",
    "def cambiar_comas_y_nulos(cadena):\n",
    "    if pd.isnull(cadena):  # Si es un valor nulo, devuelve NaN\n",
    "        return np.nan\n",
    "    try:\n",
    "        return float(cadena.replace(',', '.'))  # Intenta convertir la cadena a float\n",
    "    except ValueError:  # Si la conversión falla, devuelve NaN\n",
    "        return np.nan\n",
    "\n",
    "# Lista de las columnas que deseas modificar\n",
    "columnas_a_convertir = ['totalworkingyears', 'sameasmonthlyincome', 'worklifebalance']\n",
    "\n",
    "# Aplica la función a cada columna en la lista\n",
    "for columna in columnas_a_convertir:\n",
    "    df[columna] = df[columna].apply(cambiar_comas_y_nulos)"
   ]
  },
  {
   "cell_type": "code",
   "execution_count": null,
   "metadata": {},
   "outputs": [],
   "source": [
    "print(df['worklifebalance'])"
   ]
  },
  {
   "cell_type": "code",
   "execution_count": null,
   "metadata": {},
   "outputs": [],
   "source": [
    "print(df['totalworkingyears'])"
   ]
  },
  {
   "cell_type": "code",
   "execution_count": null,
   "metadata": {},
   "outputs": [],
   "source": [
    "print(df['sameasmonthlyincome'])"
   ]
  },
  {
   "cell_type": "code",
   "execution_count": null,
   "metadata": {},
   "outputs": [],
   "source": [
    "## B) Funciones separada  totalworkingyears, sameasmonthlyincome,worklifebalance\n",
    "# worklifebalance\n",
    "df[\"worklifebalance\"] = df[\"worklifebalance\"].str.replace(\",\", \".\")\n",
    "# con una función y ya la tenemos para cada vez que la necesitemos\n",
    "def cambiar_comas(cadena):\n",
    "    try:\n",
    "        return float(cadena.replace(',', '.'))\n",
    "    except:\n",
    "        return np.nan\n",
    "df['worklifebalance'] = df['worklifebalance'].apply(cambiar_comas) "
   ]
  },
  {
   "cell_type": "code",
   "execution_count": null,
   "metadata": {},
   "outputs": [],
   "source": [
    "print(df['worklifebalance'])"
   ]
  },
  {
   "cell_type": "code",
   "execution_count": null,
   "metadata": {},
   "outputs": [],
   "source": [
    "#sameasmonthlyincome\n",
    "df[\"sameasmonthlyincome\"] = df[\"sameasmonthlyincome\"].str.replace(\",\", \".\")\n",
    "# con una función y ya la tenemos para cada vez que la necesitemos\n",
    "def cambiar_comas(cadena):\n",
    "    try:\n",
    "        return float(cadena.replace(',', '.'))\n",
    "    except:\n",
    "        return np.nan\n",
    "df['sameasmonthlyincome'] = df['sameasmonthlyincome'].apply(cambiar_comas)"
   ]
  },
  {
   "cell_type": "code",
   "execution_count": null,
   "metadata": {},
   "outputs": [],
   "source": [
    "print(df['sameasmonthlyincome'])"
   ]
  },
  {
   "cell_type": "code",
   "execution_count": null,
   "metadata": {},
   "outputs": [],
   "source": [
    "#totalworkingyears\n",
    "df[\"totalworkingyears\"] = df[\"totalworkingyears\"].str.replace(\",\", \".\")\n",
    "# con una función y ya la tenemos para cada vez que la necesitemos\n",
    "def cambiar_comas(cadena):\n",
    "    try:\n",
    "        return float(cadena.replace(',', '.'))\n",
    "    except:\n",
    "        return np.nan\n",
    "df['totalworkingyears'] = df['totalworkingyears'].apply(cambiar_comas)"
   ]
  },
  {
   "cell_type": "code",
   "execution_count": null,
   "metadata": {},
   "outputs": [],
   "source": [
    "print(df['totalworkingyears'])"
   ]
  },
  {
   "cell_type": "markdown",
   "metadata": {},
   "source": [
    "## C) Cambios en la variable yearsincurrentrole"
   ]
  },
  {
   "cell_type": "markdown",
   "metadata": {},
   "source": [
    "En esta variable se va a hacer un cambio al float pero tiene un elevado numero de valores"
   ]
  },
  {
   "cell_type": "code",
   "execution_count": null,
   "metadata": {},
   "outputs": [],
   "source": [
    "#yearsincurrentrole\n",
    "\n",
    "df[\"yearsincurrentrole\"] = df[\"yearsincurrentrole\"].astype(str)\n",
    "\n",
    "# Replace commas with periods\n",
    "df[\"yearsincurrentrole\"] = df[\"yearsincurrentrole\"].str.replace(\",\", \".\")\n",
    "\n"
   ]
  },
  {
   "cell_type": "code",
   "execution_count": null,
   "metadata": {},
   "outputs": [],
   "source": [
    "def cambiar_comas(cadena):\n",
    "    try:\n",
    "        return float(cadena)\n",
    "    except:\n",
    "        return np.nan\n",
    "\n",
    "\n",
    "df['yearsincurrentrole'] = df['yearsincurrentrole'].apply(cambiar_comas)\n",
    "\n",
    "print(df)"
   ]
  },
  {
   "cell_type": "markdown",
   "metadata": {},
   "source": [
    "## D) Cambios en la variable total remote work"
   ]
  },
  {
   "cell_type": "markdown",
   "metadata": {},
   "source": [
    "Modificamos los valores de la columna 'remotework', 0 y 1, True or False por Yes y No"
   ]
  },
  {
   "cell_type": "code",
   "execution_count": null,
   "metadata": {},
   "outputs": [],
   "source": [
    "df['remotework'].value_counts()\n"
   ]
  },
  {
   "cell_type": "code",
   "execution_count": null,
   "metadata": {},
   "outputs": [],
   "source": [
    "remotework\n",
    "1        360\n",
    "True     345\n",
    "0        309\n",
    "False    305\n",
    "Yes      295\n",
    "Name: count, dtype: int64"
   ]
  },
  {
   "cell_type": "code",
   "execution_count": null,
   "metadata": {},
   "outputs": [],
   "source": [
    "df['remotework']= df['remotework'].replace({('1'):'Yes',('0') or ('False'): 'No', 'True': 'Yes', 'False': 'No'})"
   ]
  },
  {
   "cell_type": "code",
   "execution_count": null,
   "metadata": {},
   "outputs": [],
   "source": [
    "df['remotework'].value_counts()"
   ]
  },
  {
   "cell_type": "code",
   "execution_count": null,
   "metadata": {},
   "outputs": [],
   "source": [
    "remotework\n",
    "Yes    1000\n",
    "No      614\n",
    "Name: count, dtype: int64"
   ]
  },
  {
   "cell_type": "markdown",
   "metadata": {},
   "source": [
    "## E) Porcentaje de valores nulos del total dataframe"
   ]
  },
  {
   "cell_type": "code",
   "execution_count": null,
   "metadata": {},
   "outputs": [],
   "source": [
    "porcentaje_nulos = df.isnull().mean() * 100\n",
    "\n",
    "# Muestra los resultados\n",
    "print(porcentaje_nulos)"
   ]
  },
  {
   "cell_type": "code",
   "execution_count": null,
   "metadata": {},
   "outputs": [],
   "source": [
    "unnamed: 0                   0.000000\n",
    "age                          0.000000\n",
    "attrition                    0.000000\n",
    "businesstravel              47.831475\n",
    "dailyrate                    7.682776\n",
    "department                  81.288724\n",
    "distancefromhome             0.000000\n",
    "education                    0.000000\n",
    "educationfield              46.158612\n",
    "employeenumber              26.703841\n",
    "environmentsatisfaction      0.000000\n",
    "gender                       0.000000\n",
    "hourlyrate                   0.000000\n",
    "jobinvolvement               0.000000\n",
    "joblevel                     0.000000\n",
    "jobrole                      0.000000\n",
    "jobsatisfaction              0.000000\n",
    "maritalstatus               40.334572\n",
    "monthlyincome               52.230483\n",
    "monthlyrate                  0.000000\n",
    "numcompaniesworked           0.000000\n",
    "overtime                    41.883519\n",
    "percentsalaryhike            0.000000\n",
    "performancerating           12.081784\n",
    "relationshipsatisfaction     0.000000\n",
    "stockoptionlevel             0.000000\n",
    "totalworkingyears           32.589839\n",
    "trainingtimeslastyear        0.000000\n",
    "worklifebalance              6.691450\n",
    "yearsatcompany               0.000000\n",
    "yearsincurrentrole          97.893432\n",
    "yearssincelastpromotion      0.000000\n",
    "yearswithcurrmanager         0.000000\n",
    "sameasmonthlyincome         52.230483\n",
    "datebirth                    0.000000\n",
    "roledepartament             81.288724\n",
    "remotework                   0.000000\n",
    "dtype: float64"
   ]
  },
  {
   "cell_type": "markdown",
   "metadata": {},
   "source": [
    "## F) Otras consideraciones"
   ]
  },
  {
   "cell_type": "code",
   "execution_count": null,
   "metadata": {},
   "outputs": [],
   "source": [
    "Habría que eliminar la columa roledepartament ya que es la suma de las otras 2 columnas del data frame"
   ]
  }
 ],
 "metadata": {
  "kernelspec": {
   "display_name": "Python 3",
   "language": "python",
   "name": "python3"
  },
  "language_info": {
   "codemirror_mode": {
    "name": "ipython",
    "version": 3
   },
   "file_extension": ".py",
   "mimetype": "text/x-python",
   "name": "python",
   "nbconvert_exporter": "python",
   "pygments_lexer": "ipython3",
   "version": "3.12.3"
  }
 },
 "nbformat": 4,
 "nbformat_minor": 2
}
