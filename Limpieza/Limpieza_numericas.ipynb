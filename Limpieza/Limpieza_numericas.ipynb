{
 "cells": [
  {
   "cell_type": "code",
   "execution_count": 2,
   "metadata": {},
   "outputs": [],
   "source": [
    "# importamos las librerías que necesitamos\n",
    "\n",
    "# Tratamiento de datos\n",
    "# -----------------------------------------------------------------------\n",
    "import pandas as pd\n",
    "import numpy as np\n",
    "import re\n",
    "\n",
    "# Imputación de nulos usando métodos avanzados estadísticos\n",
    "# -----------------------------------------------------------------------\n",
    "from sklearn.impute import SimpleImputer\n",
    "from sklearn.experimental import enable_iterative_imputer\n",
    "from sklearn.impute import IterativeImputer\n",
    "from sklearn.impute import KNNImputer\n",
    "\n",
    "# Librerías de visualización\n",
    "# -----------------------------------------------------------------------\n",
    "import seaborn as sns\n",
    "import matplotlib.pyplot as plt\n",
    "# Configuración\n",
    "# -----------------------------------------------------------------------\n",
    "pd.set_option('display.max_columns', None) # para poder visualizar todas las columnas de los DataFrames"
   ]
  },
  {
   "cell_type": "code",
   "execution_count": 3,
   "metadata": {},
   "outputs": [
    {
     "data": {
      "text/html": [
       "<div>\n",
       "<style scoped>\n",
       "    .dataframe tbody tr th:only-of-type {\n",
       "        vertical-align: middle;\n",
       "    }\n",
       "\n",
       "    .dataframe tbody tr th {\n",
       "        vertical-align: top;\n",
       "    }\n",
       "\n",
       "    .dataframe thead th {\n",
       "        text-align: right;\n",
       "    }\n",
       "</style>\n",
       "<table border=\"1\" class=\"dataframe\">\n",
       "  <thead>\n",
       "    <tr style=\"text-align: right;\">\n",
       "      <th></th>\n",
       "      <th>employeenumber</th>\n",
       "      <th>attrition</th>\n",
       "      <th>businesstravel</th>\n",
       "      <th>dailyrate</th>\n",
       "      <th>distancefromhome</th>\n",
       "      <th>education</th>\n",
       "      <th>educationfield</th>\n",
       "      <th>environmentsatisfaction</th>\n",
       "      <th>gender</th>\n",
       "      <th>hourlyrate</th>\n",
       "      <th>jobinvolvement</th>\n",
       "      <th>joblevel</th>\n",
       "      <th>jobrole</th>\n",
       "      <th>jobsatisfaction</th>\n",
       "      <th>maritalstatus</th>\n",
       "      <th>monthlyincome</th>\n",
       "      <th>monthlyrate</th>\n",
       "      <th>numcompaniesworked</th>\n",
       "      <th>overtime</th>\n",
       "      <th>percentsalaryhike</th>\n",
       "      <th>performancerating</th>\n",
       "      <th>relationshipsatisfaction</th>\n",
       "      <th>stockoptionlevel</th>\n",
       "      <th>totalworkingyears</th>\n",
       "      <th>trainingtimeslastyear</th>\n",
       "      <th>worklifebalance</th>\n",
       "      <th>yearsatcompany</th>\n",
       "      <th>yearssincelastpromotion</th>\n",
       "      <th>yearswithcurrmanager</th>\n",
       "      <th>sameasmonthlyincome</th>\n",
       "      <th>datebirth</th>\n",
       "      <th>remotework</th>\n",
       "    </tr>\n",
       "    <tr>\n",
       "      <th>age</th>\n",
       "      <th></th>\n",
       "      <th></th>\n",
       "      <th></th>\n",
       "      <th></th>\n",
       "      <th></th>\n",
       "      <th></th>\n",
       "      <th></th>\n",
       "      <th></th>\n",
       "      <th></th>\n",
       "      <th></th>\n",
       "      <th></th>\n",
       "      <th></th>\n",
       "      <th></th>\n",
       "      <th></th>\n",
       "      <th></th>\n",
       "      <th></th>\n",
       "      <th></th>\n",
       "      <th></th>\n",
       "      <th></th>\n",
       "      <th></th>\n",
       "      <th></th>\n",
       "      <th></th>\n",
       "      <th></th>\n",
       "      <th></th>\n",
       "      <th></th>\n",
       "      <th></th>\n",
       "      <th></th>\n",
       "      <th></th>\n",
       "      <th></th>\n",
       "      <th></th>\n",
       "      <th></th>\n",
       "      <th></th>\n",
       "    </tr>\n",
       "  </thead>\n",
       "  <tbody>\n",
       "    <tr>\n",
       "      <th>37</th>\n",
       "      <td>460,0</td>\n",
       "      <td>No</td>\n",
       "      <td>NaN</td>\n",
       "      <td>1192.0</td>\n",
       "      <td>5</td>\n",
       "      <td>2</td>\n",
       "      <td>medical</td>\n",
       "      <td>4</td>\n",
       "      <td>Male</td>\n",
       "      <td>61</td>\n",
       "      <td>3</td>\n",
       "      <td>2</td>\n",
       "      <td>manufacturing director</td>\n",
       "      <td>4</td>\n",
       "      <td>NaN</td>\n",
       "      <td>63470.0</td>\n",
       "      <td>23177</td>\n",
       "      <td>7</td>\n",
       "      <td>No</td>\n",
       "      <td>16</td>\n",
       "      <td>3.0</td>\n",
       "      <td>3</td>\n",
       "      <td>2</td>\n",
       "      <td>8.0</td>\n",
       "      <td>2</td>\n",
       "      <td>2.0</td>\n",
       "      <td>6</td>\n",
       "      <td>0</td>\n",
       "      <td>4</td>\n",
       "      <td>6347.0</td>\n",
       "      <td>1986</td>\n",
       "      <td>No</td>\n",
       "    </tr>\n",
       "    <tr>\n",
       "      <th>27</th>\n",
       "      <td>725,0</td>\n",
       "      <td>No</td>\n",
       "      <td>travel rarely</td>\n",
       "      <td>NaN</td>\n",
       "      <td>1</td>\n",
       "      <td>2</td>\n",
       "      <td>life sciences</td>\n",
       "      <td>3</td>\n",
       "      <td>Female</td>\n",
       "      <td>0</td>\n",
       "      <td>3</td>\n",
       "      <td>3</td>\n",
       "      <td>manufacturing director</td>\n",
       "      <td>1</td>\n",
       "      <td>married</td>\n",
       "      <td>NaN</td>\n",
       "      <td>6009</td>\n",
       "      <td>1</td>\n",
       "      <td>NaN</td>\n",
       "      <td>11</td>\n",
       "      <td>3.0</td>\n",
       "      <td>4</td>\n",
       "      <td>0</td>\n",
       "      <td>9.0</td>\n",
       "      <td>3</td>\n",
       "      <td>3.0</td>\n",
       "      <td>9</td>\n",
       "      <td>0</td>\n",
       "      <td>7</td>\n",
       "      <td>NaN</td>\n",
       "      <td>1996</td>\n",
       "      <td>No</td>\n",
       "    </tr>\n",
       "    <tr>\n",
       "      <th>45</th>\n",
       "      <td>1611,0</td>\n",
       "      <td>No</td>\n",
       "      <td>NaN</td>\n",
       "      <td>1015.0</td>\n",
       "      <td>5</td>\n",
       "      <td>5</td>\n",
       "      <td>NaN</td>\n",
       "      <td>3</td>\n",
       "      <td>Female</td>\n",
       "      <td>50</td>\n",
       "      <td>1</td>\n",
       "      <td>2</td>\n",
       "      <td>laboratory technician</td>\n",
       "      <td>1</td>\n",
       "      <td>NaN</td>\n",
       "      <td>57690.0</td>\n",
       "      <td>23447</td>\n",
       "      <td>1</td>\n",
       "      <td>NaN</td>\n",
       "      <td>14</td>\n",
       "      <td>3.0</td>\n",
       "      <td>1</td>\n",
       "      <td>0</td>\n",
       "      <td>10.0</td>\n",
       "      <td>3</td>\n",
       "      <td>3.0</td>\n",
       "      <td>10</td>\n",
       "      <td>1</td>\n",
       "      <td>4</td>\n",
       "      <td>5769.0</td>\n",
       "      <td>1978</td>\n",
       "      <td>No</td>\n",
       "    </tr>\n",
       "    <tr>\n",
       "      <th>33</th>\n",
       "      <td>992,0</td>\n",
       "      <td>No</td>\n",
       "      <td>non travel</td>\n",
       "      <td>722.0</td>\n",
       "      <td>17</td>\n",
       "      <td>3</td>\n",
       "      <td>NaN</td>\n",
       "      <td>4</td>\n",
       "      <td>Male</td>\n",
       "      <td>38</td>\n",
       "      <td>3</td>\n",
       "      <td>4</td>\n",
       "      <td>manager</td>\n",
       "      <td>3</td>\n",
       "      <td>single</td>\n",
       "      <td>NaN</td>\n",
       "      <td>20489</td>\n",
       "      <td>1</td>\n",
       "      <td>NaN</td>\n",
       "      <td>11</td>\n",
       "      <td>3.0</td>\n",
       "      <td>4</td>\n",
       "      <td>0</td>\n",
       "      <td>10.0</td>\n",
       "      <td>2</td>\n",
       "      <td>3.0</td>\n",
       "      <td>10</td>\n",
       "      <td>6</td>\n",
       "      <td>0</td>\n",
       "      <td>NaN</td>\n",
       "      <td>1990</td>\n",
       "      <td>No</td>\n",
       "    </tr>\n",
       "    <tr>\n",
       "      <th>28</th>\n",
       "      <td>498,0</td>\n",
       "      <td>No</td>\n",
       "      <td>NaN</td>\n",
       "      <td>304.0</td>\n",
       "      <td>9</td>\n",
       "      <td>4</td>\n",
       "      <td>life sciences</td>\n",
       "      <td>2</td>\n",
       "      <td>Male</td>\n",
       "      <td>92</td>\n",
       "      <td>3</td>\n",
       "      <td>2</td>\n",
       "      <td>sales executive</td>\n",
       "      <td>4</td>\n",
       "      <td>single</td>\n",
       "      <td>NaN</td>\n",
       "      <td>20750</td>\n",
       "      <td>1</td>\n",
       "      <td>No</td>\n",
       "      <td>16</td>\n",
       "      <td>3.0</td>\n",
       "      <td>4</td>\n",
       "      <td>0</td>\n",
       "      <td>NaN</td>\n",
       "      <td>1</td>\n",
       "      <td>3.0</td>\n",
       "      <td>7</td>\n",
       "      <td>0</td>\n",
       "      <td>7</td>\n",
       "      <td>NaN</td>\n",
       "      <td>1995</td>\n",
       "      <td>Yes</td>\n",
       "    </tr>\n",
       "    <tr>\n",
       "      <th>50</th>\n",
       "      <td>1539,0</td>\n",
       "      <td>No</td>\n",
       "      <td>NaN</td>\n",
       "      <td>333.0</td>\n",
       "      <td>22</td>\n",
       "      <td>5</td>\n",
       "      <td>NaN</td>\n",
       "      <td>3</td>\n",
       "      <td>Male</td>\n",
       "      <td>88</td>\n",
       "      <td>1</td>\n",
       "      <td>4</td>\n",
       "      <td>research director</td>\n",
       "      <td>4</td>\n",
       "      <td>NaN</td>\n",
       "      <td>144110.0</td>\n",
       "      <td>24450</td>\n",
       "      <td>1</td>\n",
       "      <td>NaN</td>\n",
       "      <td>13</td>\n",
       "      <td>3.0</td>\n",
       "      <td>4</td>\n",
       "      <td>0</td>\n",
       "      <td>NaN</td>\n",
       "      <td>2</td>\n",
       "      <td>3.0</td>\n",
       "      <td>32</td>\n",
       "      <td>13</td>\n",
       "      <td>9</td>\n",
       "      <td>14411.0</td>\n",
       "      <td>1973</td>\n",
       "      <td>No</td>\n",
       "    </tr>\n",
       "    <tr>\n",
       "      <th>28</th>\n",
       "      <td>1056,0</td>\n",
       "      <td>No</td>\n",
       "      <td>travel rarely</td>\n",
       "      <td>1144.0</td>\n",
       "      <td>10</td>\n",
       "      <td>1</td>\n",
       "      <td>medical</td>\n",
       "      <td>4</td>\n",
       "      <td>Male</td>\n",
       "      <td>74</td>\n",
       "      <td>3</td>\n",
       "      <td>1</td>\n",
       "      <td>sales representative</td>\n",
       "      <td>2</td>\n",
       "      <td>married</td>\n",
       "      <td>10520.0</td>\n",
       "      <td>23384</td>\n",
       "      <td>1</td>\n",
       "      <td>No</td>\n",
       "      <td>22</td>\n",
       "      <td>4.0</td>\n",
       "      <td>2</td>\n",
       "      <td>0</td>\n",
       "      <td>NaN</td>\n",
       "      <td>5</td>\n",
       "      <td>3.0</td>\n",
       "      <td>1</td>\n",
       "      <td>0</td>\n",
       "      <td>0</td>\n",
       "      <td>1052.0</td>\n",
       "      <td>1995</td>\n",
       "      <td>Yes</td>\n",
       "    </tr>\n",
       "    <tr>\n",
       "      <th>52</th>\n",
       "      <td>791,0</td>\n",
       "      <td>No</td>\n",
       "      <td>non travel</td>\n",
       "      <td>715.0</td>\n",
       "      <td>19</td>\n",
       "      <td>4</td>\n",
       "      <td>medical</td>\n",
       "      <td>4</td>\n",
       "      <td>Male</td>\n",
       "      <td>41</td>\n",
       "      <td>3</td>\n",
       "      <td>1</td>\n",
       "      <td>research scientist</td>\n",
       "      <td>4</td>\n",
       "      <td>NaN</td>\n",
       "      <td>42580.0</td>\n",
       "      <td>26589</td>\n",
       "      <td>0</td>\n",
       "      <td>No</td>\n",
       "      <td>18</td>\n",
       "      <td>3.0</td>\n",
       "      <td>1</td>\n",
       "      <td>1</td>\n",
       "      <td>NaN</td>\n",
       "      <td>3</td>\n",
       "      <td>3.0</td>\n",
       "      <td>4</td>\n",
       "      <td>1</td>\n",
       "      <td>2</td>\n",
       "      <td>4258.0</td>\n",
       "      <td>1971</td>\n",
       "      <td>Yes</td>\n",
       "    </tr>\n",
       "    <tr>\n",
       "      <th>23</th>\n",
       "      <td>758,0</td>\n",
       "      <td>No</td>\n",
       "      <td>travel rarely</td>\n",
       "      <td>650.0</td>\n",
       "      <td>49</td>\n",
       "      <td>1</td>\n",
       "      <td>NaN</td>\n",
       "      <td>2</td>\n",
       "      <td>Male</td>\n",
       "      <td>37</td>\n",
       "      <td>3</td>\n",
       "      <td>1</td>\n",
       "      <td>laboratory technician</td>\n",
       "      <td>1</td>\n",
       "      <td>NaN</td>\n",
       "      <td>NaN</td>\n",
       "      <td>4344</td>\n",
       "      <td>1</td>\n",
       "      <td>No</td>\n",
       "      <td>14</td>\n",
       "      <td>3.0</td>\n",
       "      <td>4</td>\n",
       "      <td>1</td>\n",
       "      <td>5.0</td>\n",
       "      <td>2</td>\n",
       "      <td>4.0</td>\n",
       "      <td>4</td>\n",
       "      <td>0</td>\n",
       "      <td>2</td>\n",
       "      <td>NaN</td>\n",
       "      <td>2000</td>\n",
       "      <td>Yes</td>\n",
       "    </tr>\n",
       "    <tr>\n",
       "      <th>41</th>\n",
       "      <td>1999,0</td>\n",
       "      <td>No</td>\n",
       "      <td>NaN</td>\n",
       "      <td>642.0</td>\n",
       "      <td>1</td>\n",
       "      <td>3</td>\n",
       "      <td>life sciences</td>\n",
       "      <td>4</td>\n",
       "      <td>Male</td>\n",
       "      <td>76</td>\n",
       "      <td>3</td>\n",
       "      <td>1</td>\n",
       "      <td>research scientist</td>\n",
       "      <td>4</td>\n",
       "      <td>NaN</td>\n",
       "      <td>27820.0</td>\n",
       "      <td>21412</td>\n",
       "      <td>3</td>\n",
       "      <td>No</td>\n",
       "      <td>22</td>\n",
       "      <td>NaN</td>\n",
       "      <td>1</td>\n",
       "      <td>1</td>\n",
       "      <td>NaN</td>\n",
       "      <td>3</td>\n",
       "      <td>3.0</td>\n",
       "      <td>5</td>\n",
       "      <td>1</td>\n",
       "      <td>0</td>\n",
       "      <td>2782.0</td>\n",
       "      <td>1982</td>\n",
       "      <td>Yes</td>\n",
       "    </tr>\n",
       "  </tbody>\n",
       "</table>\n",
       "</div>"
      ],
      "text/plain": [
       "    employeenumber attrition businesstravel  dailyrate  distancefromhome  \\\n",
       "age                                                                        \n",
       "37           460,0        No            NaN     1192.0                 5   \n",
       "27           725,0        No  travel rarely        NaN                 1   \n",
       "45          1611,0        No            NaN     1015.0                 5   \n",
       "33           992,0        No     non travel      722.0                17   \n",
       "28           498,0        No            NaN      304.0                 9   \n",
       "50          1539,0        No            NaN      333.0                22   \n",
       "28          1056,0        No  travel rarely     1144.0                10   \n",
       "52           791,0        No     non travel      715.0                19   \n",
       "23           758,0        No  travel rarely      650.0                49   \n",
       "41          1999,0        No            NaN      642.0                 1   \n",
       "\n",
       "     education educationfield  environmentsatisfaction  gender  hourlyrate  \\\n",
       "age                                                                          \n",
       "37           2        medical                        4    Male          61   \n",
       "27           2  life sciences                        3  Female           0   \n",
       "45           5            NaN                        3  Female          50   \n",
       "33           3            NaN                        4    Male          38   \n",
       "28           4  life sciences                        2    Male          92   \n",
       "50           5            NaN                        3    Male          88   \n",
       "28           1        medical                        4    Male          74   \n",
       "52           4        medical                        4    Male          41   \n",
       "23           1            NaN                        2    Male          37   \n",
       "41           3  life sciences                        4    Male          76   \n",
       "\n",
       "     jobinvolvement  joblevel                   jobrole  jobsatisfaction  \\\n",
       "age                                                                        \n",
       "37                3         2   manufacturing director                 4   \n",
       "27                3         3   manufacturing director                 1   \n",
       "45                1         2    laboratory technician                 1   \n",
       "33                3         4                  manager                 3   \n",
       "28                3         2          sales executive                 4   \n",
       "50                1         4        research director                 4   \n",
       "28                3         1     sales representative                 2   \n",
       "52                3         1       research scientist                 4   \n",
       "23                3         1    laboratory technician                 1   \n",
       "41                3         1       research scientist                 4   \n",
       "\n",
       "    maritalstatus  monthlyincome  monthlyrate  numcompaniesworked overtime  \\\n",
       "age                                                                          \n",
       "37            NaN        63470.0        23177                   7       No   \n",
       "27        married            NaN         6009                   1      NaN   \n",
       "45            NaN        57690.0        23447                   1      NaN   \n",
       "33         single            NaN        20489                   1      NaN   \n",
       "28         single            NaN        20750                   1       No   \n",
       "50            NaN       144110.0        24450                   1      NaN   \n",
       "28        married        10520.0        23384                   1       No   \n",
       "52            NaN        42580.0        26589                   0       No   \n",
       "23            NaN            NaN         4344                   1       No   \n",
       "41            NaN        27820.0        21412                   3       No   \n",
       "\n",
       "     percentsalaryhike  performancerating  relationshipsatisfaction  \\\n",
       "age                                                                   \n",
       "37                  16                3.0                         3   \n",
       "27                  11                3.0                         4   \n",
       "45                  14                3.0                         1   \n",
       "33                  11                3.0                         4   \n",
       "28                  16                3.0                         4   \n",
       "50                  13                3.0                         4   \n",
       "28                  22                4.0                         2   \n",
       "52                  18                3.0                         1   \n",
       "23                  14                3.0                         4   \n",
       "41                  22                NaN                         1   \n",
       "\n",
       "     stockoptionlevel  totalworkingyears  trainingtimeslastyear  \\\n",
       "age                                                               \n",
       "37                  2                8.0                      2   \n",
       "27                  0                9.0                      3   \n",
       "45                  0               10.0                      3   \n",
       "33                  0               10.0                      2   \n",
       "28                  0                NaN                      1   \n",
       "50                  0                NaN                      2   \n",
       "28                  0                NaN                      5   \n",
       "52                  1                NaN                      3   \n",
       "23                  1                5.0                      2   \n",
       "41                  1                NaN                      3   \n",
       "\n",
       "     worklifebalance  yearsatcompany  yearssincelastpromotion  \\\n",
       "age                                                             \n",
       "37               2.0               6                        0   \n",
       "27               3.0               9                        0   \n",
       "45               3.0              10                        1   \n",
       "33               3.0              10                        6   \n",
       "28               3.0               7                        0   \n",
       "50               3.0              32                       13   \n",
       "28               3.0               1                        0   \n",
       "52               3.0               4                        1   \n",
       "23               4.0               4                        0   \n",
       "41               3.0               5                        1   \n",
       "\n",
       "     yearswithcurrmanager  sameasmonthlyincome  datebirth remotework  \n",
       "age                                                                   \n",
       "37                      4               6347.0       1986         No  \n",
       "27                      7                  NaN       1996         No  \n",
       "45                      4               5769.0       1978         No  \n",
       "33                      0                  NaN       1990         No  \n",
       "28                      7                  NaN       1995        Yes  \n",
       "50                      9              14411.0       1973         No  \n",
       "28                      0               1052.0       1995        Yes  \n",
       "52                      2               4258.0       1971        Yes  \n",
       "23                      2                  NaN       2000        Yes  \n",
       "41                      0               2782.0       1982        Yes  "
      ]
     },
     "execution_count": 3,
     "metadata": {},
     "output_type": "execute_result"
    }
   ],
   "source": [
    "df = pd.read_csv('df_superlimpiooo.csv', index_col= 1)\n",
    "df.sample(10)"
   ]
  },
  {
   "cell_type": "code",
   "execution_count": 21,
   "metadata": {},
   "outputs": [
    {
     "name": "stdout",
     "output_type": "stream",
     "text": [
      "Las columnas numéricas que tienen nulos son : \n",
      " \n",
      "Index(['dailyrate', 'monthlyincome', 'performancerating', 'totalworkingyears',\n",
      "       'worklifebalance', 'sameasmonthlyincome'],\n",
      "      dtype='object')\n"
     ]
    }
   ],
   "source": [
    "# Obtenemos la lista de columnas numericas que tienen nulos\n",
    "nulos_esta_num = df[df.columns[df.isnull().any()]].select_dtypes(include = np.number).columns\n",
    "print(\"Las columnas numéricas que tienen nulos son : \\n \")\n",
    "print(nulos_esta_num)"
   ]
  },
  {
   "cell_type": "code",
   "execution_count": 4,
   "metadata": {},
   "outputs": [],
   "source": [
    "#funcion para calcular el porcentaje de valores nulos en las variables categoricas\n",
    "def calcular_porcentaje_nulos(df, columnas_categoricas):\n",
    "    porcentaje_nulos = {}\n",
    "    for columna in columnas_categoricas:\n",
    "        # Calcular el número de valores nulos\n",
    "        nulos = df[columna].isnull().sum()\n",
    "        # Calcular el porcentaje de valores nulos\n",
    "        porcentaje = (nulos / len(df)) * 100\n",
    "        # Guardar el resultado en el diccionario\n",
    "        porcentaje_nulos[columna] = porcentaje\n",
    "    return porcentaje_nulos"
   ]
  },
  {
   "cell_type": "code",
   "execution_count": 5,
   "metadata": {},
   "outputs": [],
   "source": [
    "# Lista de columnas categóricas\n",
    "columnas_categoricas = ['dailyrate', 'worklifebalance', 'performancerating', 'totalworkingyears', 'monthlyincome','sameasmonthlyincome']"
   ]
  },
  {
   "cell_type": "code",
   "execution_count": 63,
   "metadata": {},
   "outputs": [
    {
     "name": "stdout",
     "output_type": "stream",
     "text": [
      "dailyrate: 7.68%\n",
      "worklifebalance: 6.69%\n",
      "performancerating: 12.08%\n",
      "totalworkingyears: 32.59%\n",
      "monthlyincome: 52.23%\n",
      "sameasmonthlyincome: 52.23%\n"
     ]
    }
   ],
   "source": [
    "porcentajes_nulos = calcular_porcentaje_nulos(df, columnas_categoricas)\n",
    "\n",
    "for columna, porcentaje in porcentajes_nulos.items():\n",
    "    print(f\"{columna}: {porcentaje:.2f}%\")"
   ]
  },
  {
   "cell_type": "code",
   "execution_count": 6,
   "metadata": {},
   "outputs": [
    {
     "name": "stdout",
     "output_type": "stream",
     "text": [
      "Mediana y Media para la columna DAILYRATE:\n",
      "Mediana: 798.0\n",
      "Media: 802.0852348993288\n",
      "........................\n",
      "Mediana y Media para la columna WORKLIFEBALANCE:\n",
      "Mediana: 3.0\n",
      "Media: 2.759628154050465\n",
      "........................\n",
      "Mediana y Media para la columna PERFORMANCERATING:\n",
      "Mediana: 3.0\n",
      "Media: 3.150810429880197\n",
      "........................\n",
      "Mediana y Media para la columna TOTALWORKINGYEARS:\n",
      "Mediana: 10.0\n",
      "Media: 11.318933823529411\n",
      "........................\n",
      "Mediana y Media para la columna MONTHLYINCOME:\n",
      "Mediana: 48590.0\n",
      "Media: 64776.86121919585\n",
      "........................\n",
      "Mediana y Media para la columna SAMEASMONTHLYINCOME:\n",
      "Mediana: 4859.0\n",
      "Media: 6477.686121919585\n",
      "........................\n"
     ]
    }
   ],
   "source": [
    "# Lista de columnas específicas de interés\n",
    "columnas_especificas = ['dailyrate', 'worklifebalance', 'performancerating', 'totalworkingyears', 'monthlyincome','sameasmonthlyincome']\n",
    "\n",
    "# Asegurarse de que las columnas existen en el DataFrame\n",
    "columnas_especificas = [col for col in columnas_especificas if col in df.columns]\n",
    "\n",
    "# Mostrar la mediana y la media para cada columna específica\n",
    "for col in columnas_especificas:\n",
    "    print(f\"Mediana y Media para la columna {col.upper()}:\")\n",
    "    mediana = df[col].median()\n",
    "    media = df[col].mean()\n",
    "    print(f\"Mediana: {mediana}\")\n",
    "    print(f\"Media: {media}\")\n",
    "    print(\"........................\")\n"
   ]
  },
  {
   "cell_type": "code",
   "execution_count": 7,
   "metadata": {},
   "outputs": [
    {
     "data": {
      "image/png": "[encoded data removed]",
      "text/plain": [
       "<Figure size 720x2160 with 6 Axes>"
      ]
     },
     "metadata": {
      "needs_background": "light"
     },
     "output_type": "display_data"
    }
   ],
   "source": [
    "# Crear gráficos de caja para las columnas numéricas con valores nulos\n",
    "fig, axes = plt.subplots(nrows=len(nulos_esta_num), ncols=1, figsize=(10, 5*len(nulos_esta_num)))\n",
    "axes = axes.flatten()\n",
    "\n",
    "for indice, col in enumerate(nulos_esta_num):\n",
    "    sns.boxplot(x=col, data=df, ax=axes[indice])\n",
    "\n",
    "plt.tight_layout()\n",
    "plt.show()\n"
   ]
  },
  {
   "cell_type": "markdown",
   "metadata": {},
   "source": [
    "#### Reviso mis tres columnas"
   ]
  },
  {
   "cell_type": "code",
   "execution_count": 30,
   "metadata": {},
   "outputs": [
    {
     "data": {
      "text/plain": [
       "124"
      ]
     },
     "execution_count": 30,
     "metadata": {},
     "output_type": "execute_result"
    }
   ],
   "source": [
    "df['dailyrate'].isnull().sum()"
   ]
  },
  {
   "cell_type": "code",
   "execution_count": 45,
   "metadata": {},
   "outputs": [
    {
     "data": {
      "text/plain": [
       "array([ 684.,  699.,  532.,  359., 1319.,  117., 1435.,  635., 1276.,\n",
       "        840.,  247., 1369.,  201., 1360.,  692., 1398.,  286., 1402.,\n",
       "        819.,  884., 1238.,  515., 1223.,  202.,  928.,  607.,  266.,\n",
       "        429.,  589.,   nan, 1180., 1282.,  776.,  665.,  526., 1034.,\n",
       "       1403., 1499.,  580.,  859.,  263., 1376.,  885., 1003., 1321.,\n",
       "        394., 1372., 1333.,  228.,  737.,  823.,  667.,  301.,  573.,\n",
       "       1329.,  630., 1063., 1017., 1296.,  939., 1355., 1448.,  200.,\n",
       "       1202.,  404.,  208.,  813.,  465., 1189., 1001., 1394.,  161.,\n",
       "        288.,  682., 1354.,  147.,  119., 1413.,  452.,  334., 1132.,\n",
       "        982.,  480., 1099.,  672., 1379.,  583., 1492., 1050.,  469.,\n",
       "        237., 1440., 1291., 1157., 1336., 1224.,  735., 1389.,  638.,\n",
       "       1240.,  194., 1339.,  111., 1469.,  470., 1232., 1249.,  798.,\n",
       "        549.,  570.,  541.,  164., 1117.,  619.,  319.,  956., 1245.,\n",
       "       1397.,  527.,  213.,  882.,  330.,  406.,  217.,  481.,  669.,\n",
       "       1465.,  685., 1062.,  177., 1199.,  648.,  412.,  282.,  770.,\n",
       "        601.,  855.,  332., 1326.,  748.,  405.,  790.,  971., 1370.,\n",
       "        750.,  880.,  678., 1179.,  350., 1266.,  574.,  189.,  310.,\n",
       "        722., 1219.,  994.,  721.,  853.,  427.,  852., 1334., 1093.,\n",
       "        967.,  989., 1195., 1045.,  829.,  663., 1300., 1105.,  906.,\n",
       "        849., 1275., 1218.,  422., 1274., 1076., 1207.,  430.,  933.,\n",
       "       1184.,  586.,  890.,  379., 1425., 1188.,  938., 1053.,  248.,\n",
       "        796.,  174.,  408.,  977.,  536.,  135., 1476.,  587.,  495.,\n",
       "        523.,  507., 1055., 1445.,  218.,  447., 1029.,  674.,  538.,\n",
       "        740., 1234.,  170., 1130.,  584.,  918.,  792.,  611., 1383.,\n",
       "        867.,  706.,  728.,  311.,  556.,  937., 1125.,  444.,  911.,\n",
       "        585., 1392., 1005., 1299.,  655.,  746.,  632.,  658., 1467.,\n",
       "       1312.,  249.,  802.,  689., 1395., 1436., 1496., 1480.,  313.,\n",
       "        894.,  290., 1084., 1002., 1242., 1052.,  944.,  771., 1416.,\n",
       "       1327.,  488., 1385.,  666., 1315.,  442.,  950.,  691., 1018.,\n",
       "        559.,  318.,  144., 1171.,  143., 1178., 1107.,  645., 1485.,\n",
       "       1116.,  163.,  561.,  426.,  509.,  258.,  525.,  238.,  482.,\n",
       "        397.,  243.,  806., 1442.,  929.,  827.,  703.,  294.,  314.,\n",
       "        654.,  501.,  954., 1434.,  657.,  240.,  791.,  676.,  436.,\n",
       "        760.,  661., 1085.,  154., 1283.,  616.,  498.,  530.,  805.,\n",
       "        903., 1229.,  566., 1441.,  153., 1066.,  145., 1109.,  124.,\n",
       "        300., 1366.,  857., 1204., 1082.,  203., 1308.,  718.,  593.,\n",
       "       1384., 1361., 1146., 1316.,  363., 1103.,  920.,  694., 1429.,\n",
       "        531.,  621.,  604.,  325., 1030.,  524.,  943., 1009.,  817.,\n",
       "        930., 1147.,  652.,  337., 1136.,  326.,  377., 1038., 1490.,\n",
       "       1246.,  224.,  441.,  898., 1313., 1015., 1387., 1302.,  602.,\n",
       "        772.,  809.,  786.,  921.,  717.,  979.,  953.,  244.,  196.,\n",
       "        303., 1092.,  261., 1422., 1137.,  511., 1396., 1096., 1169.,\n",
       "       1239.,  157.,  754., 1303.,  697.,  116.,  557.,  582.,  704.,\n",
       "        613.,  419.,  477., 1211.,  505.,  269.,  553., 1277.,  302.,\n",
       "        975., 1318.,  881.,  466.,  945.,  433.,  991., 1083.,  136.,\n",
       "        333., 1462., 1131., 1023., 1065., 1115., 1479.,  304., 1368.,\n",
       "        828.,  799.,  142.,  446.,  254., 1410.,  883.,  121., 1343.,\n",
       "        490., 1400., 1332., 1200., 1102., 1328.,  548., 1214.,  120.,\n",
       "        841., 1033., 1452., 1268.,  307.,  797.,  555., 1377.,  210.,\n",
       "        483.,  575., 1311.,  759.,  891.,  317.,  688.,  195.,  622.,\n",
       "        646.,  719., 1012., 1278., 1222., 1231.,  462.,  231., 1089.,\n",
       "       1262.,  439.,  528.,  647., 1097.,  942.,  966.,  168.,  299.,\n",
       "        999., 1498., 1439., 1111., 1174.,  172.,  401.,  866.,  571.,\n",
       "       1342.,  995.,  118.,  990.,  241., 1470.,  492., 1040., 1320.,\n",
       "        146., 1153.,  185., 1297., 1064., 1351.,  468., 1273., 1141.,\n",
       "       1488.,  653., 1225., 1217., 1127., 1427.,  702.,  926.,  878.,\n",
       "        896., 1401.,  675., 1070.,  496.,  390., 1220., 1124., 1046.,\n",
       "        267.,  443., 1287., 1420.,  562.,  650.,  141.,  715.,  376.,\n",
       "        932.,  471.,  180., 1265., 1075., 1086.,  152.,  974.,  788.,\n",
       "        192.,  150., 1167.,  206.,  736.,  322.,  683., 1475.,  560.,\n",
       "        115.,  888.,  671.,  567.,  148.,  581.,  371., 1181., 1253.,\n",
       "        370., 1194.,  572.,  355.,  783.,  155.,  508.,  642., 1382.,\n",
       "       1037., 1120.,  374.,  287.,  591.,  670., 1346.,  103.,  673.,\n",
       "        705., 1459., 1443., 1142.,  664.,  432., 1353.,  489.,  807.,\n",
       "       1280.,  957.,  542.,  216., 1150.,  364., 1256.,  440.,  713.,\n",
       "        140.,  629.,  328.,  472.,  905., 1151.,  644.,  992., 1323.,\n",
       "        818., 1431.,  976.,  832.,  916., 1247.,  128., 1158.,  996.,\n",
       "       1449.,  636.,  889.,  106.,  723., 1482.,  738., 1192., 1309.,\n",
       "        544.,  641.,  756.,  895., 1261.,  329., 1362., 1371.,  821.,\n",
       "       1381., 1473.,  296., 1349.,  986.,  413.,  988., 1474.,  232.,\n",
       "       1236., 1112.,  204.,  913.,  810.,  693.,  316.,  381.,  775.,\n",
       "        804., 1090.,  346.,  725.,  182.,  384., 1325., 1258., 1041.,\n",
       "        625., 1418., 1269.,  395.,  341.,  500., 1454.,  617., 1122.,\n",
       "       1198.,  188.,  335.,  461., 1134.,  138., 1206.,  109.,  277.,\n",
       "        265.,  342., 1186.,  769., 1176., 1091.,  618.,  970.,  984.,\n",
       "        793., 1182.,  603.,  874.,  367.,  199., 1457., 1421., 1450.,\n",
       "       1212., 1010.,  131.,  193.,  640.,  848., 1138.,  256.,  935.,\n",
       "        458.,  662.,  499.,  949.,  383., 1255., 1221.,  981., 1495.,\n",
       "       1193.,  467.,  271.,  410., 1288., 1108.,  437.,  457.,  634.,\n",
       "        546.,  711.,  448.,  365.,  763.,  486.,  392.,  727.,  741.,\n",
       "        552.,  506., 1456.,  160.,  897.,  600., 1054.,  428.,  343.,\n",
       "       1216.,  207.,  280.,  414.,  836.,  592.,  219., 1079., 1251.,\n",
       "       1168., 1444., 1154.,  234.,  529., 1322.,  924.,  134.,  755.,\n",
       "        253.,  922., 1365.,  306., 1271., 1404., 1391., 1464., 1330.,\n",
       "        773.,  902.,  107.,  504., 1358.,  824.,  594.,  734.,  766.,\n",
       "        431., 1213., 1373., 1324., 1123.,  391.,  125., 1357.,  626.,\n",
       "        132.,  871., 1031., 1145.,  854., 1411.,  252.,  833., 1210.,\n",
       "       1463.,  812., 1162.,  845., 1144.,  156.,  464., 1305.,  983.,\n",
       "        534., 1306., 1094.,  558.,  959.,  782.,  362.,  268.,  167.,\n",
       "       1243.,  720.,  868., 1252.,  781., 1272.,  129., 1069.,  289.,\n",
       "        955.,  660.,  415.,  309.,  130.,  862., 1098.,  969.,  373.,\n",
       "        599.,  968.,  830., 1423.,  516.,  598.,  104.,  479.,  474.,\n",
       "        264., 1059.,  563., 1259.,  369.,  543.,  964.,  176.,  181.,\n",
       "        211.,  590.,  305.,  478., 1294., 1128.,  726.,  352., 1172.,\n",
       "        605., 1337.,  105.])"
      ]
     },
     "execution_count": 45,
     "metadata": {},
     "output_type": "execute_result"
    }
   ],
   "source": [
    "df['dailyrate'].unique()"
   ]
  },
  {
   "cell_type": "markdown",
   "metadata": {},
   "source": [
    "------"
   ]
  },
  {
   "cell_type": "code",
   "execution_count": 40,
   "metadata": {},
   "outputs": [
    {
     "data": {
      "text/plain": [
       "195"
      ]
     },
     "execution_count": 40,
     "metadata": {},
     "output_type": "execute_result"
    }
   ],
   "source": [
    "df['performancerating'].isnull().sum()"
   ]
  },
  {
   "cell_type": "code",
   "execution_count": 44,
   "metadata": {},
   "outputs": [
    {
     "data": {
      "text/plain": [
       "array([ 3.,  4., nan])"
      ]
     },
     "execution_count": 44,
     "metadata": {},
     "output_type": "execute_result"
    }
   ],
   "source": [
    "df['performancerating'].unique()"
   ]
  },
  {
   "cell_type": "code",
   "execution_count": 52,
   "metadata": {},
   "outputs": [
    {
     "data": {
      "text/plain": [
       "performancerating\n",
       "3.0    1205\n",
       "4.0     214\n",
       "Name: count, dtype: int64"
      ]
     },
     "execution_count": 52,
     "metadata": {},
     "output_type": "execute_result"
    }
   ],
   "source": [
    "df['performancerating'].value_counts()"
   ]
  },
  {
   "cell_type": "markdown",
   "metadata": {},
   "source": [
    "------"
   ]
  },
  {
   "cell_type": "code",
   "execution_count": 41,
   "metadata": {},
   "outputs": [
    {
     "data": {
      "text/plain": [
       "108"
      ]
     },
     "execution_count": 41,
     "metadata": {},
     "output_type": "execute_result"
    }
   ],
   "source": [
    "df['worklifebalance'].isnull().sum()"
   ]
  },
  {
   "cell_type": "code",
   "execution_count": 43,
   "metadata": {},
   "outputs": [
    {
     "data": {
      "text/plain": [
       "array([ 3., nan,  2.,  4.,  1.])"
      ]
     },
     "execution_count": 43,
     "metadata": {},
     "output_type": "execute_result"
    }
   ],
   "source": [
    "df['worklifebalance'].unique()"
   ]
  },
  {
   "cell_type": "code",
   "execution_count": 51,
   "metadata": {},
   "outputs": [
    {
     "data": {
      "text/plain": [
       "worklifebalance\n",
       "3.0    913\n",
       "2.0    359\n",
       "4.0    155\n",
       "1.0     79\n",
       "Name: count, dtype: int64"
      ]
     },
     "execution_count": 51,
     "metadata": {},
     "output_type": "execute_result"
    }
   ],
   "source": [
    "df['worklifebalance'].value_counts()"
   ]
  },
  {
   "cell_type": "markdown",
   "metadata": {},
   "source": [
    "#### `Cambio los nulos por la media porque no tienen valores atipicos`"
   ]
  },
  {
   "cell_type": "code",
   "execution_count": 69,
   "metadata": {},
   "outputs": [
    {
     "name": "stdout",
     "output_type": "stream",
     "text": [
      "Después del 'fillna' la columna DAILYRATE tiene 0 nulos\n",
      "Después del 'fillna' la columna WORKLIFEBALANCE tiene 0 nulos\n",
      "Después del 'fillna' la columna PERFORMANCERATING tiene 0 nulos\n"
     ]
    },
    {
     "name": "stderr",
     "output_type": "stream",
     "text": [
      "/var/folders/cb/k7746bq95ql69k6dhd_7nc3w0000gn/T/ipykernel_16726/4039544653.py:10: FutureWarning: A value is trying to be set on a copy of a DataFrame or Series through chained assignment using an inplace method.\n",
      "The behavior will change in pandas 3.0. This inplace method will never work because the intermediate object on which we are setting values always behaves as a copy.\n",
      "\n",
      "For example, when doing 'df[col].method(value, inplace=True)', try using 'df.method({col: value}, inplace=True)' or df[col] = df[col].method(value) instead, to perform the operation inplace on the original object.\n",
      "\n",
      "\n",
      "  df[col].fillna(media, inplace=True)\n"
     ]
    }
   ],
   "source": [
    "# Lista de columnas específicas de interés\n",
    "columnas_3 = ['dailyrate', 'worklifebalance', 'performancerating']\n",
    "\n",
    "# Asegurarse de que las columnas existen en el DataFrame\n",
    "columnas_3 = [col for col in columnas_3 if col in df.columns]\n",
    "\n",
    "# Calcular la media para cada columna específica y rellenar los valores nulos\n",
    "for col in columnas_3:\n",
    "    media = df[col].mean()\n",
    "    df[col].fillna(media, inplace=True)\n",
    "\n",
    "# Comprobar los nulos para cada columna específica\n",
    "for col in columnas_3:\n",
    "    print(f\"Después del 'fillna' la columna {col.upper()} tiene {df[col].isnull().sum()} nulos\")\n"
   ]
  },
  {
   "cell_type": "markdown",
   "metadata": {},
   "source": [
    "Columna totalworkingyears - Se concluye que los nulos se cambiarán por la Mediana ya que tenemos valores atípicos"
   ]
  },
  {
   "cell_type": "code",
   "execution_count": 8,
   "metadata": {},
   "outputs": [
    {
     "data": {
      "text/plain": [
       "526"
      ]
     },
     "execution_count": 8,
     "metadata": {},
     "output_type": "execute_result"
    }
   ],
   "source": [
    "df['totalworkingyears'].isnull().sum()"
   ]
  },
  {
   "cell_type": "code",
   "execution_count": 9,
   "metadata": {},
   "outputs": [
    {
     "data": {
      "text/plain": [
       "totalworkingyears\n",
       "10.0    144\n",
       "8.0      86\n",
       "6.0      84\n",
       "9.0      69\n",
       "5.0      66\n",
       "7.0      56\n",
       "4.0      54\n",
       "1.0      53\n",
       "12.0     34\n",
       "3.0      32\n",
       "14.0     30\n",
       "13.0     30\n",
       "11.0     29\n",
       "15.0     28\n",
       "16.0     28\n",
       "20.0     28\n",
       "18.0     27\n",
       "21.0     23\n",
       "17.0     22\n",
       "2.0      21\n",
       "22.0     18\n",
       "19.0     17\n",
       "24.0     14\n",
       "23.0     13\n",
       "28.0     13\n",
       "26.0      8\n",
       "0.0       8\n",
       "29.0      6\n",
       "36.0      6\n",
       "25.0      6\n",
       "33.0      6\n",
       "37.0      5\n",
       "27.0      5\n",
       "31.0      4\n",
       "30.0      3\n",
       "32.0      3\n",
       "35.0      3\n",
       "40.0      3\n",
       "34.0      2\n",
       "38.0      1\n",
       "Name: count, dtype: int64"
      ]
     },
     "execution_count": 9,
     "metadata": {},
     "output_type": "execute_result"
    }
   ],
   "source": [
    "df['totalworkingyears'].value_counts()"
   ]
  },
  {
   "cell_type": "code",
   "execution_count": 12,
   "metadata": {},
   "outputs": [
    {
     "data": {
      "text/plain": [
       "count    1088.000000\n",
       "mean       11.318934\n",
       "std         7.727675\n",
       "min         0.000000\n",
       "25%         6.000000\n",
       "50%        10.000000\n",
       "75%        15.000000\n",
       "max        40.000000\n",
       "Name: totalworkingyears, dtype: float64"
      ]
     },
     "execution_count": 12,
     "metadata": {},
     "output_type": "execute_result"
    }
   ],
   "source": [
    "df['totalworkingyears'].describe()"
   ]
  },
  {
   "cell_type": "code",
   "execution_count": 18,
   "metadata": {},
   "outputs": [
    {
     "name": "stdout",
     "output_type": "stream",
     "text": [
      "Después del 'fillna' la columna 'totalworkingyears' tiene 0 nulos\n"
     ]
    }
   ],
   "source": [
    "# Calcular la mediana de la columna 'totalworkingyears' y rellenar los valores nulos\n",
    "mediana = df['totalworkingyears'].median()\n",
    "df['totalworkingyears'].fillna(mediana, inplace=True)\n",
    "\n",
    "# Comprobar los nulos para cada columna específica\n",
    "print(f\"Después del 'fillna' la columna 'totalworkingyears' tiene {df['totalworkingyears'].isnull().sum()} nulos\")"
   ]
  },
  {
   "cell_type": "markdown",
   "metadata": {},
   "source": [
    "Columna employeenumber "
   ]
  },
  {
   "cell_type": "code",
   "execution_count": 22,
   "metadata": {},
   "outputs": [
    {
     "data": {
      "text/plain": [
       "Index(['employeenumber', 'attrition', 'businesstravel', 'dailyrate',\n",
       "       'distancefromhome', 'education', 'educationfield',\n",
       "       'environmentsatisfaction', 'gender', 'hourlyrate', 'jobinvolvement',\n",
       "       'joblevel', 'jobrole', 'jobsatisfaction', 'maritalstatus',\n",
       "       'monthlyincome', 'monthlyrate', 'numcompaniesworked', 'overtime',\n",
       "       'percentsalaryhike', 'performancerating', 'relationshipsatisfaction',\n",
       "       'stockoptionlevel', 'totalworkingyears', 'trainingtimeslastyear',\n",
       "       'worklifebalance', 'yearsatcompany', 'yearssincelastpromotion',\n",
       "       'yearswithcurrmanager', 'sameasmonthlyincome', 'datebirth',\n",
       "       'remotework'],\n",
       "      dtype='object')"
      ]
     },
     "execution_count": 22,
     "metadata": {},
     "output_type": "execute_result"
    }
   ],
   "source": [
    "df.columns"
   ]
  },
  {
   "cell_type": "code",
   "execution_count": 4,
   "metadata": {},
   "outputs": [
    {
     "data": {
      "text/plain": [
       "431"
      ]
     },
     "execution_count": 4,
     "metadata": {},
     "output_type": "execute_result"
    }
   ],
   "source": [
    "df['employeenumber'].isnull().sum()"
   ]
  },
  {
   "cell_type": "code",
   "execution_count": 5,
   "metadata": {},
   "outputs": [
    {
     "data": {
      "text/plain": [
       "count      1183\n",
       "unique     1079\n",
       "top       482,0\n",
       "freq          2\n",
       "Name: employeenumber, dtype: object"
      ]
     },
     "execution_count": 5,
     "metadata": {},
     "output_type": "execute_result"
    }
   ],
   "source": [
    "df['employeenumber'].describe()"
   ]
  },
  {
   "cell_type": "markdown",
   "metadata": {},
   "source": [
    "Como employeenumber es una columna que nos puede indicar un valor unico para cada registro, asignaremos valores nuevos a los nulos"
   ]
  },
  {
   "cell_type": "code",
   "execution_count": 40,
   "metadata": {},
   "outputs": [
    {
     "name": "stdout",
     "output_type": "stream",
     "text": [
      "     employeenumber attrition businesstravel  dailyrate  distancefromhome  \\\n",
      "age                                                                         \n",
      "51             1620        No            NaN      684.0                 6   \n",
      "52             2590        No            NaN      699.0                 1   \n",
      "42             3190        No  travel rarely      532.0                 4   \n",
      "47            20681        No  travel rarely      359.0                 2   \n",
      "46            20682        No            NaN     1319.0                 3   \n",
      "\n",
      "     education    educationfield  environmentsatisfaction  gender  hourlyrate  \\\n",
      "age                                                                             \n",
      "51           3               NaN                        1    Male          51   \n",
      "52           4     life sciences                        3    Male          65   \n",
      "42           2  technical degree                        3    Male          58   \n",
      "47           4           medical                        1  Female          82   \n",
      "46           3  technical degree                        1  Female          45   \n",
      "\n",
      "     jobinvolvement  joblevel              jobrole  jobsatisfaction  \\\n",
      "age                                                                   \n",
      "51                3         5   research director                 3   \n",
      "52                2         5             manager                 3   \n",
      "42                3         5             manager                 4   \n",
      "47                3         4   research director                 3   \n",
      "46                4         4     sales executive                 1   \n",
      "\n",
      "    maritalstatus  monthlyincome  monthlyrate  numcompaniesworked overtime  \\\n",
      "age                                                                          \n",
      "51            NaN       195370.0         6462                   7       No   \n",
      "52            NaN       199990.0         5678                   0      NaN   \n",
      "42        married       192320.0         4933                   1       No   \n",
      "47        married       171690.0        26703                   3      NaN   \n",
      "46       divorced            NaN         7739                   2       No   \n",
      "\n",
      "     percentsalaryhike  performancerating  relationshipsatisfaction  \\\n",
      "age                                                                   \n",
      "51                  13                3.0                         3   \n",
      "52                  14                3.0                         1   \n",
      "42                  11                3.0                         4   \n",
      "47                  19                3.0                         2   \n",
      "46                  12                3.0                         4   \n",
      "\n",
      "     stockoptionlevel  totalworkingyears  trainingtimeslastyear  \\\n",
      "age                                                               \n",
      "51                  0                NaN                      5   \n",
      "52                  1               34.0                      5   \n",
      "42                  0               22.0                      3   \n",
      "47                  2                NaN                      2   \n",
      "46                  1                NaN                      5   \n",
      "\n",
      "     worklifebalance  yearsatcompany  yearssincelastpromotion  \\\n",
      "age                                                             \n",
      "51               3.0              20                       15   \n",
      "52               3.0              33                       11   \n",
      "42               NaN              22                       11   \n",
      "47               NaN              20                        5   \n",
      "46               3.0              19                        2   \n",
      "\n",
      "     yearswithcurrmanager  sameasmonthlyincome  datebirth remotework  \n",
      "age                                                                   \n",
      "51                     15              19537.0       1972        Yes  \n",
      "52                      9              19999.0       1971        Yes  \n",
      "42                     15              19232.0       1981        Yes  \n",
      "47                      6              17169.0       1976         No  \n",
      "46                      8                  NaN       1977         No  \n"
     ]
    }
   ],
   "source": [
    "# Encontrar el valor máximo actual de 'employeenumber'\n",
    "max_value = df['employeenumber'].max()\n",
    "\n",
    "# Generar nuevos números únicos para los valores nulos\n",
    "null_indices = df['employeenumber'].isnull()\n",
    "df.loc[null_indices, 'employeenumber'] = range(int(max_value) + 1, int(max_value) + 1 + null_indices.sum())\n",
    "\n",
    "# Convertir la columna 'employeenumber' a tipo int nuevamente, en caso de que se haya convertido a float\n",
    "df['employeenumber'] = df['employeenumber'].astype(int)\n",
    "\n",
    "# Verificar el resultado\n",
    "print(df.head())"
   ]
  }
 ],
 "metadata": {
  "kernelspec": {
   "display_name": "Python 3",
   "language": "python",
   "name": "python3"
  },
  "language_info": {
   "codemirror_mode": {
    "name": "ipython",
    "version": 3
   },
   "file_extension": ".py",
   "mimetype": "text/x-python",
   "name": "python",
   "nbconvert_exporter": "python",
   "pygments_lexer": "ipython3",
   "version": "3.9.7"
  }
 },
 "nbformat": 4,
 "nbformat_minor": 2
}
