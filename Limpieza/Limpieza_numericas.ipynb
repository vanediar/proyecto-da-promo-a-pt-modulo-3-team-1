{
 "cells": [
  {
   "cell_type": "code",
   "execution_count": 35,
   "metadata": {},
   "outputs": [],
   "source": [
    "# importamos las librerías que necesitamos\n",
    "\n",
    "# Tratamiento de datos\n",
    "# -----------------------------------------------------------------------\n",
    "import pandas as pd\n",
    "import numpy as np\n",
    "import re\n",
    "\n",
    "# Imputación de nulos usando métodos avanzados estadísticos\n",
    "# -----------------------------------------------------------------------\n",
    "from sklearn.impute import SimpleImputer\n",
    "from sklearn.experimental import enable_iterative_imputer\n",
    "from sklearn.impute import IterativeImputer\n",
    "from sklearn.impute import KNNImputer\n",
    "\n",
    "# Librerías de visualización\n",
    "# -----------------------------------------------------------------------\n",
    "import seaborn as sns\n",
    "import matplotlib.pyplot as plt\n",
    "# Configuración\n",
    "# -----------------------------------------------------------------------\n",
    "pd.set_option('display.max_columns', None) # para poder visualizar todas las columnas de los DataFrames"
   ]
  },
  {
   "cell_type": "code",
   "execution_count": 36,
   "metadata": {},
   "outputs": [
    {
     "data": {
      "text/html": [
       "<div>\n",
       "<style scoped>\n",
       "    .dataframe tbody tr th:only-of-type {\n",
       "        vertical-align: middle;\n",
       "    }\n",
       "\n",
       "    .dataframe tbody tr th {\n",
       "        vertical-align: top;\n",
       "    }\n",
       "\n",
       "    .dataframe thead th {\n",
       "        text-align: right;\n",
       "    }\n",
       "</style>\n",
       "<table border=\"1\" class=\"dataframe\">\n",
       "  <thead>\n",
       "    <tr style=\"text-align: right;\">\n",
       "      <th></th>\n",
       "      <th>employeenumber</th>\n",
       "      <th>age</th>\n",
       "      <th>attrition</th>\n",
       "      <th>businesstravel</th>\n",
       "      <th>dailyrate</th>\n",
       "      <th>distancefromhome</th>\n",
       "      <th>education</th>\n",
       "      <th>educationfield</th>\n",
       "      <th>environmentsatisfaction</th>\n",
       "      <th>gender</th>\n",
       "      <th>hourlyrate</th>\n",
       "      <th>jobinvolvement</th>\n",
       "      <th>joblevel</th>\n",
       "      <th>jobrole</th>\n",
       "      <th>jobsatisfaction</th>\n",
       "      <th>maritalstatus</th>\n",
       "      <th>monthlyincome</th>\n",
       "      <th>monthlyrate</th>\n",
       "      <th>numcompaniesworked</th>\n",
       "      <th>overtime</th>\n",
       "      <th>percentsalaryhike</th>\n",
       "      <th>performancerating</th>\n",
       "      <th>relationshipsatisfaction</th>\n",
       "      <th>stockoptionlevel</th>\n",
       "      <th>totalworkingyears</th>\n",
       "      <th>trainingtimeslastyear</th>\n",
       "      <th>worklifebalance</th>\n",
       "      <th>yearsatcompany</th>\n",
       "      <th>yearssincelastpromotion</th>\n",
       "      <th>yearswithcurrmanager</th>\n",
       "      <th>datebirth</th>\n",
       "      <th>remotework</th>\n",
       "    </tr>\n",
       "  </thead>\n",
       "  <tbody>\n",
       "    <tr>\n",
       "      <th>722</th>\n",
       "      <td>10010.0</td>\n",
       "      <td>27</td>\n",
       "      <td>No</td>\n",
       "      <td>NaN</td>\n",
       "      <td>1134.0</td>\n",
       "      <td>24</td>\n",
       "      <td>4</td>\n",
       "      <td>NaN</td>\n",
       "      <td>24</td>\n",
       "      <td>Female</td>\n",
       "      <td>37</td>\n",
       "      <td>3</td>\n",
       "      <td>1</td>\n",
       "      <td>laboratory technician</td>\n",
       "      <td>2</td>\n",
       "      <td>married</td>\n",
       "      <td>28110.0</td>\n",
       "      <td>12086</td>\n",
       "      <td>9</td>\n",
       "      <td>No</td>\n",
       "      <td>14</td>\n",
       "      <td>3.0</td>\n",
       "      <td>2</td>\n",
       "      <td>1</td>\n",
       "      <td>4.0</td>\n",
       "      <td>2</td>\n",
       "      <td>3.0</td>\n",
       "      <td>2</td>\n",
       "      <td>2</td>\n",
       "      <td>2</td>\n",
       "      <td>1996</td>\n",
       "      <td>No</td>\n",
       "    </tr>\n",
       "    <tr>\n",
       "      <th>65</th>\n",
       "      <td>12770.0</td>\n",
       "      <td>45</td>\n",
       "      <td>Yes</td>\n",
       "      <td>NaN</td>\n",
       "      <td>NaN</td>\n",
       "      <td>13</td>\n",
       "      <td>3</td>\n",
       "      <td>marketing</td>\n",
       "      <td>1</td>\n",
       "      <td>Female</td>\n",
       "      <td>94</td>\n",
       "      <td>1</td>\n",
       "      <td>5</td>\n",
       "      <td>manager</td>\n",
       "      <td>2</td>\n",
       "      <td>NaN</td>\n",
       "      <td>NaN</td>\n",
       "      <td>2493</td>\n",
       "      <td>2</td>\n",
       "      <td>Yes</td>\n",
       "      <td>16</td>\n",
       "      <td>3.0</td>\n",
       "      <td>1</td>\n",
       "      <td>0</td>\n",
       "      <td>26.0</td>\n",
       "      <td>2</td>\n",
       "      <td>3.0</td>\n",
       "      <td>24</td>\n",
       "      <td>1</td>\n",
       "      <td>11</td>\n",
       "      <td>1978</td>\n",
       "      <td>Yes</td>\n",
       "    </tr>\n",
       "    <tr>\n",
       "      <th>474</th>\n",
       "      <td>18260.0</td>\n",
       "      <td>35</td>\n",
       "      <td>No</td>\n",
       "      <td>NaN</td>\n",
       "      <td>185.0</td>\n",
       "      <td>23</td>\n",
       "      <td>4</td>\n",
       "      <td>medical</td>\n",
       "      <td>2</td>\n",
       "      <td>Male</td>\n",
       "      <td>91</td>\n",
       "      <td>1</td>\n",
       "      <td>1</td>\n",
       "      <td>laboratory technician</td>\n",
       "      <td>3</td>\n",
       "      <td>married</td>\n",
       "      <td>27050.0</td>\n",
       "      <td>9696</td>\n",
       "      <td>0</td>\n",
       "      <td>NaN</td>\n",
       "      <td>16</td>\n",
       "      <td>NaN</td>\n",
       "      <td>2</td>\n",
       "      <td>1</td>\n",
       "      <td>6.0</td>\n",
       "      <td>2</td>\n",
       "      <td>4.0</td>\n",
       "      <td>5</td>\n",
       "      <td>0</td>\n",
       "      <td>3</td>\n",
       "      <td>1988</td>\n",
       "      <td>Yes</td>\n",
       "    </tr>\n",
       "    <tr>\n",
       "      <th>513</th>\n",
       "      <td>6550.0</td>\n",
       "      <td>27</td>\n",
       "      <td>No</td>\n",
       "      <td>NaN</td>\n",
       "      <td>798.0</td>\n",
       "      <td>6</td>\n",
       "      <td>4</td>\n",
       "      <td>NaN</td>\n",
       "      <td>1</td>\n",
       "      <td>Female</td>\n",
       "      <td>66</td>\n",
       "      <td>2</td>\n",
       "      <td>1</td>\n",
       "      <td>research scientist</td>\n",
       "      <td>3</td>\n",
       "      <td>divorced</td>\n",
       "      <td>21870.0</td>\n",
       "      <td>5013</td>\n",
       "      <td>0</td>\n",
       "      <td>No</td>\n",
       "      <td>12</td>\n",
       "      <td>3.0</td>\n",
       "      <td>3</td>\n",
       "      <td>2</td>\n",
       "      <td>6.0</td>\n",
       "      <td>5</td>\n",
       "      <td>2.0</td>\n",
       "      <td>5</td>\n",
       "      <td>0</td>\n",
       "      <td>3</td>\n",
       "      <td>1996</td>\n",
       "      <td>Yes</td>\n",
       "    </tr>\n",
       "    <tr>\n",
       "      <th>705</th>\n",
       "      <td>8590.0</td>\n",
       "      <td>32</td>\n",
       "      <td>No</td>\n",
       "      <td>NaN</td>\n",
       "      <td>NaN</td>\n",
       "      <td>13</td>\n",
       "      <td>4</td>\n",
       "      <td>life sciences</td>\n",
       "      <td>2</td>\n",
       "      <td>Male</td>\n",
       "      <td>73</td>\n",
       "      <td>3</td>\n",
       "      <td>2</td>\n",
       "      <td>sales executive</td>\n",
       "      <td>4</td>\n",
       "      <td>divorced</td>\n",
       "      <td>44030.0</td>\n",
       "      <td>9250</td>\n",
       "      <td>2</td>\n",
       "      <td>NaN</td>\n",
       "      <td>11</td>\n",
       "      <td>3.0</td>\n",
       "      <td>3</td>\n",
       "      <td>1</td>\n",
       "      <td>8.0</td>\n",
       "      <td>3</td>\n",
       "      <td>2.0</td>\n",
       "      <td>5</td>\n",
       "      <td>0</td>\n",
       "      <td>3</td>\n",
       "      <td>1991</td>\n",
       "      <td>Yes</td>\n",
       "    </tr>\n",
       "    <tr>\n",
       "      <th>1026</th>\n",
       "      <td>14340.0</td>\n",
       "      <td>27</td>\n",
       "      <td>No</td>\n",
       "      <td>travel rarely</td>\n",
       "      <td>1377.0</td>\n",
       "      <td>11</td>\n",
       "      <td>1</td>\n",
       "      <td>life sciences</td>\n",
       "      <td>2</td>\n",
       "      <td>Male</td>\n",
       "      <td>91</td>\n",
       "      <td>3</td>\n",
       "      <td>1</td>\n",
       "      <td>laboratory technician</td>\n",
       "      <td>1</td>\n",
       "      <td>married</td>\n",
       "      <td>NaN</td>\n",
       "      <td>7679</td>\n",
       "      <td>0</td>\n",
       "      <td>NaN</td>\n",
       "      <td>14</td>\n",
       "      <td>3.0</td>\n",
       "      <td>2</td>\n",
       "      <td>0</td>\n",
       "      <td>6.0</td>\n",
       "      <td>3</td>\n",
       "      <td>4.0</td>\n",
       "      <td>5</td>\n",
       "      <td>1</td>\n",
       "      <td>4</td>\n",
       "      <td>1996</td>\n",
       "      <td>No</td>\n",
       "    </tr>\n",
       "    <tr>\n",
       "      <th>648</th>\n",
       "      <td>4470.0</td>\n",
       "      <td>47</td>\n",
       "      <td>No</td>\n",
       "      <td>travel rarely</td>\n",
       "      <td>1482.0</td>\n",
       "      <td>5</td>\n",
       "      <td>5</td>\n",
       "      <td>NaN</td>\n",
       "      <td>4</td>\n",
       "      <td>Male</td>\n",
       "      <td>42</td>\n",
       "      <td>3</td>\n",
       "      <td>5</td>\n",
       "      <td>research director</td>\n",
       "      <td>3</td>\n",
       "      <td>married</td>\n",
       "      <td>NaN</td>\n",
       "      <td>16375</td>\n",
       "      <td>4</td>\n",
       "      <td>NaN</td>\n",
       "      <td>11</td>\n",
       "      <td>3.0</td>\n",
       "      <td>2</td>\n",
       "      <td>1</td>\n",
       "      <td>21.0</td>\n",
       "      <td>2</td>\n",
       "      <td>3.0</td>\n",
       "      <td>3</td>\n",
       "      <td>1</td>\n",
       "      <td>1</td>\n",
       "      <td>1976</td>\n",
       "      <td>No</td>\n",
       "    </tr>\n",
       "    <tr>\n",
       "      <th>160</th>\n",
       "      <td>11960.0</td>\n",
       "      <td>37</td>\n",
       "      <td>No</td>\n",
       "      <td>NaN</td>\n",
       "      <td>977.0</td>\n",
       "      <td>1</td>\n",
       "      <td>3</td>\n",
       "      <td>life sciences</td>\n",
       "      <td>4</td>\n",
       "      <td>Female</td>\n",
       "      <td>56</td>\n",
       "      <td>2</td>\n",
       "      <td>2</td>\n",
       "      <td>manufacturing director</td>\n",
       "      <td>4</td>\n",
       "      <td>married</td>\n",
       "      <td>NaN</td>\n",
       "      <td>9961</td>\n",
       "      <td>1</td>\n",
       "      <td>NaN</td>\n",
       "      <td>13</td>\n",
       "      <td>3.0</td>\n",
       "      <td>2</td>\n",
       "      <td>1</td>\n",
       "      <td>14.0</td>\n",
       "      <td>2</td>\n",
       "      <td>2.0</td>\n",
       "      <td>14</td>\n",
       "      <td>3</td>\n",
       "      <td>11</td>\n",
       "      <td>1986</td>\n",
       "      <td>Yes</td>\n",
       "    </tr>\n",
       "    <tr>\n",
       "      <th>1007</th>\n",
       "      <td>11580.0</td>\n",
       "      <td>41</td>\n",
       "      <td>No</td>\n",
       "      <td>NaN</td>\n",
       "      <td>167.0</td>\n",
       "      <td>12</td>\n",
       "      <td>4</td>\n",
       "      <td>NaN</td>\n",
       "      <td>2</td>\n",
       "      <td>Male</td>\n",
       "      <td>46</td>\n",
       "      <td>3</td>\n",
       "      <td>1</td>\n",
       "      <td>laboratory technician</td>\n",
       "      <td>4</td>\n",
       "      <td>NaN</td>\n",
       "      <td>47660.0</td>\n",
       "      <td>9051</td>\n",
       "      <td>3</td>\n",
       "      <td>Yes</td>\n",
       "      <td>11</td>\n",
       "      <td>3.0</td>\n",
       "      <td>1</td>\n",
       "      <td>1</td>\n",
       "      <td>6.0</td>\n",
       "      <td>4</td>\n",
       "      <td>NaN</td>\n",
       "      <td>1</td>\n",
       "      <td>0</td>\n",
       "      <td>0</td>\n",
       "      <td>1982</td>\n",
       "      <td>No</td>\n",
       "    </tr>\n",
       "    <tr>\n",
       "      <th>999</th>\n",
       "      <td>10790.0</td>\n",
       "      <td>21</td>\n",
       "      <td>Yes</td>\n",
       "      <td>travel rarely</td>\n",
       "      <td>1334.0</td>\n",
       "      <td>10</td>\n",
       "      <td>3</td>\n",
       "      <td>NaN</td>\n",
       "      <td>3</td>\n",
       "      <td>Female</td>\n",
       "      <td>36</td>\n",
       "      <td>2</td>\n",
       "      <td>1</td>\n",
       "      <td>laboratory technician</td>\n",
       "      <td>1</td>\n",
       "      <td>single</td>\n",
       "      <td>NaN</td>\n",
       "      <td>17258</td>\n",
       "      <td>1</td>\n",
       "      <td>No</td>\n",
       "      <td>13</td>\n",
       "      <td>NaN</td>\n",
       "      <td>1</td>\n",
       "      <td>0</td>\n",
       "      <td>1.0</td>\n",
       "      <td>6</td>\n",
       "      <td>2.0</td>\n",
       "      <td>1</td>\n",
       "      <td>1</td>\n",
       "      <td>0</td>\n",
       "      <td>2002</td>\n",
       "      <td>Yes</td>\n",
       "    </tr>\n",
       "  </tbody>\n",
       "</table>\n",
       "</div>"
      ],
      "text/plain": [
       "      employeenumber  age attrition businesstravel  dailyrate  \\\n",
       "722          10010.0   27        No            NaN     1134.0   \n",
       "65           12770.0   45       Yes            NaN        NaN   \n",
       "474          18260.0   35        No            NaN      185.0   \n",
       "513           6550.0   27        No            NaN      798.0   \n",
       "705           8590.0   32        No            NaN        NaN   \n",
       "1026         14340.0   27        No  travel rarely     1377.0   \n",
       "648           4470.0   47        No  travel rarely     1482.0   \n",
       "160          11960.0   37        No            NaN      977.0   \n",
       "1007         11580.0   41        No            NaN      167.0   \n",
       "999          10790.0   21       Yes  travel rarely     1334.0   \n",
       "\n",
       "      distancefromhome  education educationfield  environmentsatisfaction  \\\n",
       "722                 24          4            NaN                       24   \n",
       "65                  13          3      marketing                        1   \n",
       "474                 23          4        medical                        2   \n",
       "513                  6          4            NaN                        1   \n",
       "705                 13          4  life sciences                        2   \n",
       "1026                11          1  life sciences                        2   \n",
       "648                  5          5            NaN                        4   \n",
       "160                  1          3  life sciences                        4   \n",
       "1007                12          4            NaN                        2   \n",
       "999                 10          3            NaN                        3   \n",
       "\n",
       "      gender  hourlyrate  jobinvolvement  joblevel                   jobrole  \\\n",
       "722   Female          37               3         1    laboratory technician    \n",
       "65    Female          94               1         5                  manager    \n",
       "474     Male          91               1         1    laboratory technician    \n",
       "513   Female          66               2         1       research scientist    \n",
       "705     Male          73               3         2          sales executive    \n",
       "1026    Male          91               3         1    laboratory technician    \n",
       "648     Male          42               3         5        research director    \n",
       "160   Female          56               2         2   manufacturing director    \n",
       "1007    Male          46               3         1    laboratory technician    \n",
       "999   Female          36               2         1    laboratory technician    \n",
       "\n",
       "      jobsatisfaction maritalstatus  monthlyincome  monthlyrate  \\\n",
       "722                 2       married        28110.0        12086   \n",
       "65                  2           NaN            NaN         2493   \n",
       "474                 3       married        27050.0         9696   \n",
       "513                 3      divorced        21870.0         5013   \n",
       "705                 4      divorced        44030.0         9250   \n",
       "1026                1       married            NaN         7679   \n",
       "648                 3       married            NaN        16375   \n",
       "160                 4       married            NaN         9961   \n",
       "1007                4           NaN        47660.0         9051   \n",
       "999                 1        single            NaN        17258   \n",
       "\n",
       "      numcompaniesworked overtime  percentsalaryhike  performancerating  \\\n",
       "722                    9       No                 14                3.0   \n",
       "65                     2      Yes                 16                3.0   \n",
       "474                    0      NaN                 16                NaN   \n",
       "513                    0       No                 12                3.0   \n",
       "705                    2      NaN                 11                3.0   \n",
       "1026                   0      NaN                 14                3.0   \n",
       "648                    4      NaN                 11                3.0   \n",
       "160                    1      NaN                 13                3.0   \n",
       "1007                   3      Yes                 11                3.0   \n",
       "999                    1       No                 13                NaN   \n",
       "\n",
       "      relationshipsatisfaction  stockoptionlevel  totalworkingyears  \\\n",
       "722                          2                 1                4.0   \n",
       "65                           1                 0               26.0   \n",
       "474                          2                 1                6.0   \n",
       "513                          3                 2                6.0   \n",
       "705                          3                 1                8.0   \n",
       "1026                         2                 0                6.0   \n",
       "648                          2                 1               21.0   \n",
       "160                          2                 1               14.0   \n",
       "1007                         1                 1                6.0   \n",
       "999                          1                 0                1.0   \n",
       "\n",
       "      trainingtimeslastyear  worklifebalance  yearsatcompany  \\\n",
       "722                       2              3.0               2   \n",
       "65                        2              3.0              24   \n",
       "474                       2              4.0               5   \n",
       "513                       5              2.0               5   \n",
       "705                       3              2.0               5   \n",
       "1026                      3              4.0               5   \n",
       "648                       2              3.0               3   \n",
       "160                       2              2.0              14   \n",
       "1007                      4              NaN               1   \n",
       "999                       6              2.0               1   \n",
       "\n",
       "      yearssincelastpromotion  yearswithcurrmanager  datebirth remotework  \n",
       "722                         2                     2       1996         No  \n",
       "65                          1                    11       1978        Yes  \n",
       "474                         0                     3       1988        Yes  \n",
       "513                         0                     3       1996        Yes  \n",
       "705                         0                     3       1991        Yes  \n",
       "1026                        1                     4       1996         No  \n",
       "648                         1                     1       1976         No  \n",
       "160                         3                    11       1986        Yes  \n",
       "1007                        0                     0       1982         No  \n",
       "999                         1                     0       2002        Yes  "
      ]
     },
     "execution_count": 36,
     "metadata": {},
     "output_type": "execute_result"
    }
   ],
   "source": [
    "df = pd.read_csv('df_superlimpiooo.csv')\n",
    "df.sample(10)"
   ]
  },
  {
   "cell_type": "code",
   "execution_count": 37,
   "metadata": {},
   "outputs": [
    {
     "data": {
      "text/plain": [
       "(1080, 32)"
      ]
     },
     "execution_count": 37,
     "metadata": {},
     "output_type": "execute_result"
    }
   ],
   "source": [
    "df.shape"
   ]
  },
  {
   "cell_type": "code",
   "execution_count": 38,
   "metadata": {},
   "outputs": [
    {
     "name": "stdout",
     "output_type": "stream",
     "text": [
      "Las columnas numéricas que tienen nulos son : \n",
      " \n",
      "Index(['employeenumber', 'dailyrate', 'monthlyincome', 'performancerating',\n",
      "       'totalworkingyears', 'worklifebalance'],\n",
      "      dtype='object')\n"
     ]
    }
   ],
   "source": [
    "# Obtenemos la lista de columnas numericas que tienen nulos\n",
    "nulos_esta_num = df[df.columns[df.isnull().any()]].select_dtypes(include = np.number).columns\n",
    "print(\"Las columnas numéricas que tienen nulos son : \\n \")\n",
    "print(nulos_esta_num)"
   ]
  },
  {
   "cell_type": "code",
   "execution_count": 39,
   "metadata": {},
   "outputs": [],
   "source": [
    "#funcion para calcular el porcentaje de valores nulos en las variables categoricas\n",
    "def calcular_porcentaje_nulos(df, columnas_categoricas):\n",
    "    porcentaje_nulos = {}\n",
    "    for columna in columnas_categoricas:\n",
    "        # Calcular el número de valores nulos\n",
    "        nulos = df[columna].isnull().sum()\n",
    "        # Calcular el porcentaje de valores nulos\n",
    "        porcentaje = (nulos / len(df)) * 100\n",
    "        # Guardar el resultado en el diccionario\n",
    "        porcentaje_nulos[columna] = porcentaje\n",
    "    return porcentaje_nulos"
   ]
  },
  {
   "cell_type": "code",
   "execution_count": 40,
   "metadata": {},
   "outputs": [],
   "source": [
    "# Lista de columnas categóricas\n",
    "columnas_categoricas = ['dailyrate', 'worklifebalance', 'performancerating', 'totalworkingyears', 'monthlyincome']"
   ]
  },
  {
   "cell_type": "code",
   "execution_count": 41,
   "metadata": {},
   "outputs": [
    {
     "name": "stdout",
     "output_type": "stream",
     "text": [
      "dailyrate: 7.87%\n",
      "worklifebalance: 6.39%\n",
      "performancerating: 12.69%\n",
      "totalworkingyears: 33.33%\n",
      "monthlyincome: 51.85%\n"
     ]
    }
   ],
   "source": [
    "porcentajes_nulos = calcular_porcentaje_nulos(df, columnas_categoricas)\n",
    "\n",
    "for columna, porcentaje in porcentajes_nulos.items():\n",
    "    print(f\"{columna}: {porcentaje:.2f}%\")"
   ]
  },
  {
   "cell_type": "code",
   "execution_count": 42,
   "metadata": {},
   "outputs": [
    {
     "name": "stdout",
     "output_type": "stream",
     "text": [
      "Mediana y Media para la columna DAILYRATE:\n",
      "Mediana: 798.0\n",
      "Media: 803.129648241206\n",
      "........................\n",
      "Mediana y Media para la columna WORKLIFEBALANCE:\n",
      "Mediana: 3.0\n",
      "Media: 2.7665677546983183\n",
      "........................\n",
      "Mediana y Media para la columna PERFORMANCERATING:\n",
      "Mediana: 3.0\n",
      "Media: 3.1527041357370096\n",
      "........................\n",
      "Mediana y Media para la columna TOTALWORKINGYEARS:\n",
      "Mediana: 10.0\n",
      "Media: 11.25\n",
      "........................\n",
      "Mediana y Media para la columna MONTHLYINCOME:\n",
      "Mediana: 48620.0\n",
      "Media: 64639.230769230766\n",
      "........................\n"
     ]
    }
   ],
   "source": [
    "# Lista de columnas específicas de interés\n",
    "columnas_especificas = ['dailyrate', 'worklifebalance', 'performancerating', 'totalworkingyears', 'monthlyincome']\n",
    "\n",
    "# Asegurarse de que las columnas existen en el DataFrame\n",
    "columnas_especificas = [col for col in columnas_especificas if col in df.columns]\n",
    "\n",
    "# Mostrar la mediana y la media para cada columna específica\n",
    "for col in columnas_especificas:\n",
    "    print(f\"Mediana y Media para la columna {col.upper()}:\")\n",
    "    mediana = df[col].median()\n",
    "    media = df[col].mean()\n",
    "    print(f\"Mediana: {mediana}\")\n",
    "    print(f\"Media: {media}\")\n",
    "    print(\"........................\")\n"
   ]
  },
  {
   "cell_type": "code",
   "execution_count": 43,
   "metadata": {},
   "outputs": [
    {
     "data": {
      "image/png": "[encoded data removed]",
      "text/plain": [
       "<Figure size 720x2160 with 6 Axes>"
      ]
     },
     "metadata": {
      "needs_background": "light"
     },
     "output_type": "display_data"
    }
   ],
   "source": [
    "# Crear gráficos de caja para las columnas numéricas con valores nulos\n",
    "fig, axes = plt.subplots(nrows=len(nulos_esta_num), ncols=1, figsize=(10, 5*len(nulos_esta_num)))\n",
    "axes = axes.flatten()\n",
    "\n",
    "for indice, col in enumerate(nulos_esta_num):\n",
    "    sns.boxplot(x=col, data=df, ax=axes[indice])\n",
    "\n",
    "plt.tight_layout()\n",
    "plt.show()\n"
   ]
  },
  {
   "cell_type": "markdown",
   "metadata": {},
   "source": [
    "#### Reviso mis tres columnas"
   ]
  },
  {
   "cell_type": "code",
   "execution_count": 44,
   "metadata": {},
   "outputs": [
    {
     "data": {
      "text/plain": [
       "85"
      ]
     },
     "execution_count": 44,
     "metadata": {},
     "output_type": "execute_result"
    }
   ],
   "source": [
    "df['dailyrate'].isnull().sum()"
   ]
  },
  {
   "cell_type": "code",
   "execution_count": 45,
   "metadata": {},
   "outputs": [
    {
     "data": {
      "text/plain": [
       "array([ 684.,  699.,  532.,  359.,  117., 1435.,  635.,  840.,  247.,\n",
       "       1360., 1398.,  286., 1238.,  515.,  202.,  429.,   nan, 1180.,\n",
       "       1282.,  776.,  526., 1034., 1403.,  580.,  859., 1376.,  885.,\n",
       "       1003., 1321.,  394., 1372.,  228.,  823.,  667.,  573.,  630.,\n",
       "       1063., 1017., 1296.,  939., 1355., 1448.,  200., 1202.,  465.,\n",
       "       1189., 1394.,  161.,  288.,  682., 1354.,  119.,  452.,  480.,\n",
       "       1099.,  672.,  583., 1050., 1440., 1291., 1157., 1336.,  735.,\n",
       "       1389., 1240.,  194., 1339.,  111.,  470., 1232.,  549.,  570.,\n",
       "        541.,  164., 1117.,  619.,  956., 1245., 1397.,  527.,  213.,\n",
       "        882.,  330.,  406.,  481.,  669., 1062.,  177., 1199.,  412.,\n",
       "        282.,  770.,  601.,  332., 1326.,  748.,  790.,  971., 1370.,\n",
       "        750.,  880.,  678., 1179.,  574.,  692.,  310.,  722.,  721.,\n",
       "        427.,  852., 1334., 1093.,  967.,  989., 1195., 1045.,  829.,\n",
       "        663., 1300.,  906.,  849., 1275., 1218.,  422., 1274., 1076.,\n",
       "       1207.,  430.,  933., 1184.,  890.,  379., 1425., 1053.,  248.,\n",
       "        796.,  174.,  977., 1476.,  587.,  495.,  523.,  507., 1055.,\n",
       "       1445.,  447.,  674.,  538.,  740., 1234., 1130.,  584.,  792.,\n",
       "       1383.,  706.,  728.,  311.,  556.,  937., 1224.,  444., 1392.,\n",
       "        655.,  746.,  632.,  658., 1467., 1312.,  249.,  802.,  689.,\n",
       "       1395., 1436.,  313.,  894.,  290., 1002., 1242., 1052.,  944.,\n",
       "        771., 1327.,  488.,  666., 1315.,  442.,  147.,  950.,  218.,\n",
       "        691.,  559.,  318., 1171.,  143., 1178.,  645., 1276.,  163.,\n",
       "        426.,  509.,  258.,  525.,  238.,  806., 1442.,  408.,  929.,\n",
       "        827.,  703.,  294.,  314.,  501.,  954., 1434.,  657.,  240.,\n",
       "        676.,  436.,  661., 1085.,  154., 1283.,  498.,  530.,  805.,\n",
       "       1229., 1441.,  153., 1066.,  135., 1109.,  124., 1366.,  857.,\n",
       "       1204., 1219., 1082., 1308., 1384.,  819., 1223., 1361., 1146.,\n",
       "        853., 1316.,  363.,  920.,  694., 1429.,  531.,  621.,  524.,\n",
       "        943., 1009.,  607.,  817.,  930., 1147.,  652.,  337., 1136.,\n",
       "        377., 1038., 1490., 1246.,  224.,  441., 1313., 1015., 1302.,\n",
       "       1329.,  602.,  772.,  786.,  921.,  717.,  979.,  953.,  244.,\n",
       "        303., 1092.,  261., 1422.,  511., 1396., 1169., 1239.,  157.,\n",
       "        754.,  697.,  116.,  582.,  704.,  613.,  419., 1211.,  505.,\n",
       "        269.,  553.,  975., 1318.,  881., 1137.,  466.,  469.,  994.,\n",
       "        433.,  482., 1083.,  136.,  333., 1462., 1131.,  300., 1023.,\n",
       "       1065.,  665., 1479.,  304., 1368.,  828.,  142.,  254., 1410.,\n",
       "        883.,  121., 1343., 1107.,  490., 1332., 1200., 1328.,  120.,\n",
       "        841., 1033., 1452., 1268.,  813.,  307.,  210.,  483.,  575.,\n",
       "       1311.,  891.,  317.,  144.,  646.,  719., 1012., 1278., 1222.,\n",
       "       1231.,  462., 1089., 1262.,  439.,  647., 1097.,  942.,  966.,\n",
       "        168.,  999., 1498., 1111., 1485., 1174.,  172.,  866.,  571.,\n",
       "       1342.,  118.,  990.,  241., 1470., 1040., 1320.,  146., 1153.,\n",
       "        185., 1297.,  217., 1064., 1351., 1273., 1141., 1488.,  653.,\n",
       "       1225., 1217., 1127., 1427.,  702.,  926.,  878.,  334.,  896.,\n",
       "       1401.,  675., 1070.,  496.,  390., 1220.,  928., 1046., 1303.,\n",
       "        267.,  798., 1420.,  650.,  141.,  715.,  376.,  932.,  638.,\n",
       "       1265.,  152.,  974.,  788.,  150., 1167.,  206.,  736.,  322.,\n",
       "        683., 1475.,  560.,  115.,  888.,  671.,  567.,  371.,  855.,\n",
       "        548., 1253., 1194.,  355., 1480.,  783., 1103.,  155.,  508.,\n",
       "        557.,  642., 1382.,  374.,  287.,  591.,  670., 1346.,  103.,\n",
       "        673.,  705., 1459., 1443.,  664.,  397.,  432., 1353.,  489.,\n",
       "        807., 1280.,  957.,  542.,  216., 1150.,  364.,  201.,  440.,\n",
       "        713.,  140.,  629.,  328., 1084., 1151.,  644., 1005., 1323.,\n",
       "       1431.,  832.,  916., 1247.,  685.,  128.,  996.,  688., 1449.,\n",
       "        636.,  889.,  106.,  723., 1482.,  738., 1192., 1309.,  544.,\n",
       "        641.,  756.,  593.,  329., 1362., 1371.,  821., 1381., 1473.,\n",
       "        192.,  296.,  986., 1125.,  413., 1474.,  232.,  622., 1236.,\n",
       "       1112.,  204.,  991.,  913.,  810.,  316.,  381.,  775.,  346.,\n",
       "        182., 1325.,  625., 1269.,  395.,  341.,  500., 1454.,  995.,\n",
       "       1198.,  335.,  461., 1134.,  109.,  277.,  265.,  342.,  769.,\n",
       "       1176., 1277., 1091.,  654.,  895.,  618.,  970.,  984.,  793.,\n",
       "        603.,  874.,  367.,  199., 1457., 1450.,  791.,  640.,  266.,\n",
       "        848., 1138.,  256.,  935.,  662.,  499.,  949.,  383., 1255.,\n",
       "       1221.,  981., 1495., 1496.,  467.,  271.,  410.,  561., 1142.,\n",
       "       1288.,  903., 1108.,  437.,  634.,  546.,  448.,  365.,  763.,\n",
       "        486.,  711.,  301.,  392.,  528.,  741.,  552., 1456.,  160.,\n",
       "        897., 1054.,  589.,  343., 1216.,  350.,  207.,  280.,  836.,\n",
       "        592.,  219., 1251.,  976., 1444., 1154.,  581.,  529., 1322.,\n",
       "        884.,  924.,  134.,  755.,  253.,  922., 1365.,  306., 1271.,\n",
       "       1469., 1391., 1333., 1464., 1330.,  902.,  326., 1358.,  824.,\n",
       "        594.,  734.,  234.,  766.,  431., 1213., 1373., 1324.,  391.,\n",
       "        125., 1357.,  626.,  132.,  871., 1145., 1261.,  854., 1411.,\n",
       "        504., 1463.,  506.,  566., 1162.,  845., 1144.,  156.,  464.,\n",
       "       1305., 1306., 1094.,  471.,  558.,  959.,  782.,  362.,  727.,\n",
       "        268.,  167., 1243.,  720.,  252.,  868., 1252.,  781., 1272.,\n",
       "        867.,  955.,  660.,  415.,  309.,  130.,  982.,  862.,  458.,\n",
       "       1098.,  969.,  373.,  599., 1124., 1377.,  289.,  516., 1210.,\n",
       "        598.,  992.,  479.,  474.,  264., 1349.,  563., 1206.,  369.,\n",
       "        543.,  176.,  181.,  211., 1079.,  305.,  833., 1294.,  352.,\n",
       "       1172.,  945.,  170.,  605., 1337., 1404.])"
      ]
     },
     "execution_count": 45,
     "metadata": {},
     "output_type": "execute_result"
    }
   ],
   "source": [
    "df['dailyrate'].unique()"
   ]
  },
  {
   "cell_type": "markdown",
   "metadata": {},
   "source": [
    "------"
   ]
  },
  {
   "cell_type": "code",
   "execution_count": 46,
   "metadata": {},
   "outputs": [
    {
     "data": {
      "text/plain": [
       "137"
      ]
     },
     "execution_count": 46,
     "metadata": {},
     "output_type": "execute_result"
    }
   ],
   "source": [
    "df['performancerating'].isnull().sum()"
   ]
  },
  {
   "cell_type": "code",
   "execution_count": 47,
   "metadata": {},
   "outputs": [
    {
     "data": {
      "text/plain": [
       "array([ 3.,  4., nan])"
      ]
     },
     "execution_count": 47,
     "metadata": {},
     "output_type": "execute_result"
    }
   ],
   "source": [
    "df['performancerating'].unique()"
   ]
  },
  {
   "cell_type": "code",
   "execution_count": 48,
   "metadata": {},
   "outputs": [
    {
     "data": {
      "text/plain": [
       "performancerating\n",
       "3.0    799\n",
       "4.0    144\n",
       "Name: count, dtype: int64"
      ]
     },
     "execution_count": 48,
     "metadata": {},
     "output_type": "execute_result"
    }
   ],
   "source": [
    "df['performancerating'].value_counts()"
   ]
  },
  {
   "cell_type": "markdown",
   "metadata": {},
   "source": [
    "------"
   ]
  },
  {
   "cell_type": "code",
   "execution_count": 49,
   "metadata": {},
   "outputs": [
    {
     "data": {
      "text/plain": [
       "69"
      ]
     },
     "execution_count": 49,
     "metadata": {},
     "output_type": "execute_result"
    }
   ],
   "source": [
    "df['worklifebalance'].isnull().sum()"
   ]
  },
  {
   "cell_type": "code",
   "execution_count": 50,
   "metadata": {},
   "outputs": [
    {
     "data": {
      "text/plain": [
       "array([ 3., nan,  2.,  4.,  1.])"
      ]
     },
     "execution_count": 50,
     "metadata": {},
     "output_type": "execute_result"
    }
   ],
   "source": [
    "df['worklifebalance'].unique()"
   ]
  },
  {
   "cell_type": "code",
   "execution_count": 51,
   "metadata": {},
   "outputs": [
    {
     "data": {
      "text/plain": [
       "worklifebalance\n",
       "3.0    615\n",
       "2.0    238\n",
       "4.0    106\n",
       "1.0     52\n",
       "Name: count, dtype: int64"
      ]
     },
     "execution_count": 51,
     "metadata": {},
     "output_type": "execute_result"
    }
   ],
   "source": [
    "df['worklifebalance'].value_counts()"
   ]
  },
  {
   "cell_type": "markdown",
   "metadata": {},
   "source": [
    "#### `Cambio los nulos por la media porque no tienen valores atipicos`"
   ]
  },
  {
   "cell_type": "code",
   "execution_count": 64,
   "metadata": {},
   "outputs": [
    {
     "name": "stdout",
     "output_type": "stream",
     "text": [
      "Después del 'fillna' la columna DAILYRATE tiene 0 nulos\n",
      "Después del 'fillna' la columna WORKLIFEBALANCE tiene 0 nulos\n",
      "Después del 'fillna' la columna PERFORMANCERATING tiene 0 nulos\n"
     ]
    },
    {
     "name": "stderr",
     "output_type": "stream",
     "text": [
      "/tmp/ipykernel_851/2484971002.py:10: FutureWarning: A value is trying to be set on a copy of a DataFrame or Series through chained assignment using an inplace method.\n",
      "The behavior will change in pandas 3.0. This inplace method will never work because the intermediate object on which we are setting values always behaves as a copy.\n",
      "\n",
      "For example, when doing 'df[col].method(value, inplace=True)', try using 'df.method({col: value}, inplace=True)' or df[col] = df[col].method(value) instead, to perform the operation inplace on the original object.\n",
      "\n",
      "\n",
      "  df[col].fillna(media, inplace=True)\n"
     ]
    }
   ],
   "source": [
    "# Lista de columnas específicas de interés\n",
    "columnas_3 = ['dailyrate', 'worklifebalance', 'performancerating']\n",
    "\n",
    "# Asegurarse de que las columnas existen en el DataFrame\n",
    "columnas_3 = [col for col in columnas_3 if col in df.columns]\n",
    "\n",
    "# Calcular la media para cada columna específica y rellenar los valores nulos\n",
    "for col in columnas_3:\n",
    "    media = df[col].mean()\n",
    "    df[col].fillna(media, inplace=True)\n",
    "\n",
    "# Comprobar los nulos para cada columna específica\n",
    "for col in columnas_3:\n",
    "    print(f\"Después del 'fillna' la columna {col.upper()} tiene {df[col].isnull().sum()} nulos\")\n"
   ]
  },
  {
   "cell_type": "markdown",
   "metadata": {},
   "source": [
    "Columna totalworkingyears - Se concluye que los nulos se cambiarán por la Mediana ya que tenemos valores atípicos"
   ]
  },
  {
   "cell_type": "code",
   "execution_count": 65,
   "metadata": {},
   "outputs": [
    {
     "data": {
      "text/plain": [
       "0"
      ]
     },
     "execution_count": 65,
     "metadata": {},
     "output_type": "execute_result"
    }
   ],
   "source": [
    "df['totalworkingyears'].isnull().sum()"
   ]
  },
  {
   "cell_type": "code",
   "execution_count": 66,
   "metadata": {},
   "outputs": [
    {
     "data": {
      "text/plain": [
       "totalworkingyears\n",
       "10.0    459\n",
       "6.0      57\n",
       "8.0      49\n",
       "9.0      48\n",
       "5.0      47\n",
       "7.0      37\n",
       "1.0      36\n",
       "4.0      35\n",
       "12.0     23\n",
       "14.0     22\n",
       "3.0      21\n",
       "20.0     21\n",
       "15.0     20\n",
       "11.0     18\n",
       "21.0     17\n",
       "13.0     17\n",
       "16.0     16\n",
       "18.0     16\n",
       "17.0     15\n",
       "2.0      13\n",
       "22.0     12\n",
       "23.0     11\n",
       "19.0     11\n",
       "26.0      8\n",
       "24.0      7\n",
       "28.0      7\n",
       "0.0       5\n",
       "29.0      4\n",
       "33.0      4\n",
       "25.0      4\n",
       "32.0      3\n",
       "31.0      3\n",
       "27.0      3\n",
       "37.0      3\n",
       "36.0      2\n",
       "30.0      2\n",
       "35.0      1\n",
       "34.0      1\n",
       "38.0      1\n",
       "40.0      1\n",
       "Name: count, dtype: int64"
      ]
     },
     "execution_count": 66,
     "metadata": {},
     "output_type": "execute_result"
    }
   ],
   "source": [
    "df['totalworkingyears'].value_counts()"
   ]
  },
  {
   "cell_type": "code",
   "execution_count": 55,
   "metadata": {},
   "outputs": [
    {
     "data": {
      "text/plain": [
       "count    720.000000\n",
       "mean      11.250000\n",
       "std        7.567499\n",
       "min        0.000000\n",
       "25%        6.000000\n",
       "50%       10.000000\n",
       "75%       15.000000\n",
       "max       40.000000\n",
       "Name: totalworkingyears, dtype: float64"
      ]
     },
     "execution_count": 55,
     "metadata": {},
     "output_type": "execute_result"
    }
   ],
   "source": [
    "df['totalworkingyears'].describe()"
   ]
  },
  {
   "cell_type": "code",
   "execution_count": 56,
   "metadata": {},
   "outputs": [
    {
     "name": "stdout",
     "output_type": "stream",
     "text": [
      "Después del 'fillna' la columna 'totalworkingyears' tiene 0 nulos\n"
     ]
    },
    {
     "name": "stderr",
     "output_type": "stream",
     "text": [
      "/tmp/ipykernel_851/373194595.py:3: FutureWarning: A value is trying to be set on a copy of a DataFrame or Series through chained assignment using an inplace method.\n",
      "The behavior will change in pandas 3.0. This inplace method will never work because the intermediate object on which we are setting values always behaves as a copy.\n",
      "\n",
      "For example, when doing 'df[col].method(value, inplace=True)', try using 'df.method({col: value}, inplace=True)' or df[col] = df[col].method(value) instead, to perform the operation inplace on the original object.\n",
      "\n",
      "\n",
      "  df['totalworkingyears'].fillna(mediana, inplace=True)\n"
     ]
    }
   ],
   "source": [
    "# Calcular la mediana de la columna 'totalworkingyears' y rellenar los valores nulos\n",
    "mediana = df['totalworkingyears'].median()\n",
    "df['totalworkingyears'].fillna(mediana, inplace=True)\n",
    "\n",
    "# Comprobar los nulos para cada columna específica\n",
    "print(f\"Después del 'fillna' la columna 'totalworkingyears' tiene {df['totalworkingyears'].isnull().sum()} nulos\")"
   ]
  },
  {
   "cell_type": "markdown",
   "metadata": {},
   "source": [
    "Columna employeenumber "
   ]
  },
  {
   "cell_type": "code",
   "execution_count": 67,
   "metadata": {},
   "outputs": [
    {
     "data": {
      "text/plain": [
       "Index(['employeenumber', 'age', 'attrition', 'businesstravel', 'dailyrate',\n",
       "       'distancefromhome', 'education', 'educationfield',\n",
       "       'environmentsatisfaction', 'gender', 'hourlyrate', 'jobinvolvement',\n",
       "       'joblevel', 'jobrole', 'jobsatisfaction', 'maritalstatus',\n",
       "       'monthlyincome', 'monthlyrate', 'numcompaniesworked', 'overtime',\n",
       "       'percentsalaryhike', 'performancerating', 'relationshipsatisfaction',\n",
       "       'stockoptionlevel', 'totalworkingyears', 'trainingtimeslastyear',\n",
       "       'worklifebalance', 'yearsatcompany', 'yearssincelastpromotion',\n",
       "       'yearswithcurrmanager', 'datebirth', 'remotework'],\n",
       "      dtype='object')"
      ]
     },
     "execution_count": 67,
     "metadata": {},
     "output_type": "execute_result"
    }
   ],
   "source": [
    "df.columns"
   ]
  },
  {
   "cell_type": "code",
   "execution_count": 58,
   "metadata": {},
   "outputs": [
    {
     "data": {
      "text/plain": [
       "1"
      ]
     },
     "execution_count": 58,
     "metadata": {},
     "output_type": "execute_result"
    }
   ],
   "source": [
    "df['employeenumber'].isnull().sum()"
   ]
  },
  {
   "cell_type": "code",
   "execution_count": 59,
   "metadata": {},
   "outputs": [
    {
     "data": {
      "text/plain": [
       "count     1079.000000\n",
       "mean     10179.351251\n",
       "std       6057.029798\n",
       "min         20.000000\n",
       "25%       4765.000000\n",
       "50%      10150.000000\n",
       "75%      15495.000000\n",
       "max      20680.000000\n",
       "Name: employeenumber, dtype: float64"
      ]
     },
     "execution_count": 59,
     "metadata": {},
     "output_type": "execute_result"
    }
   ],
   "source": [
    "df['employeenumber'].describe()"
   ]
  },
  {
   "cell_type": "markdown",
   "metadata": {},
   "source": [
    "Como employeenumber es una columna que nos puede indicar un valor unico para cada registro, asignaremos valores nuevos a los nulos"
   ]
  },
  {
   "cell_type": "code",
   "execution_count": 60,
   "metadata": {},
   "outputs": [
    {
     "name": "stdout",
     "output_type": "stream",
     "text": [
      "   employeenumber  age attrition businesstravel  dailyrate  distancefromhome  \\\n",
      "0            1620   51        No            NaN      684.0                 6   \n",
      "1            2590   52        No            NaN      699.0                 1   \n",
      "2            3190   42        No  travel rarely      532.0                 4   \n",
      "3           20681   47        No  travel rarely      359.0                 2   \n",
      "4           19000   48        No            NaN      117.0                22   \n",
      "\n",
      "   education    educationfield  environmentsatisfaction  gender  hourlyrate  \\\n",
      "0          3               NaN                        1    Male          51   \n",
      "1          4     life sciences                        3    Male          65   \n",
      "2          2  technical degree                        3    Male          58   \n",
      "3          4           medical                        1  Female          82   \n",
      "4          3           medical                        4  Female          58   \n",
      "\n",
      "   jobinvolvement  joblevel              jobrole  jobsatisfaction  \\\n",
      "0               3         5   research director                 3   \n",
      "1               2         5             manager                 3   \n",
      "2               3         5             manager                 4   \n",
      "3               3         4   research director                 3   \n",
      "4               3         4             manager                 4   \n",
      "\n",
      "  maritalstatus  monthlyincome  monthlyrate  numcompaniesworked overtime  \\\n",
      "0           NaN       195370.0         6462                   7       No   \n",
      "1           NaN       199990.0         5678                   0      NaN   \n",
      "2       married       192320.0         4933                   1       No   \n",
      "3       married       171690.0        26703                   3      NaN   \n",
      "4           NaN       171740.0         2437                   3       No   \n",
      "\n",
      "   percentsalaryhike  performancerating  relationshipsatisfaction  \\\n",
      "0                 13                3.0                         3   \n",
      "1                 14                3.0                         1   \n",
      "2                 11                3.0                         4   \n",
      "3                 19                3.0                         2   \n",
      "4                 11                3.0                         2   \n",
      "\n",
      "   stockoptionlevel  totalworkingyears  trainingtimeslastyear  \\\n",
      "0                 0               10.0                      5   \n",
      "1                 1               34.0                      5   \n",
      "2                 0               22.0                      3   \n",
      "3                 2               10.0                      2   \n",
      "4                 1               10.0                      3   \n",
      "\n",
      "   worklifebalance  yearsatcompany  yearssincelastpromotion  \\\n",
      "0         3.000000              20                       15   \n",
      "1         3.000000              33                       11   \n",
      "2         2.766568              22                       11   \n",
      "3         2.766568              20                        5   \n",
      "4         3.000000              22                        4   \n",
      "\n",
      "   yearswithcurrmanager  datebirth remotework  \n",
      "0                    15       1972        Yes  \n",
      "1                     9       1971        Yes  \n",
      "2                    15       1981        Yes  \n",
      "3                     6       1976         No  \n",
      "4                     7       1975        Yes  \n"
     ]
    }
   ],
   "source": [
    "# Encontrar el valor máximo actual de 'employeenumber'\n",
    "max_value = df['employeenumber'].max()\n",
    "\n",
    "# Generar nuevos números únicos para los valores nulos\n",
    "null_indices = df['employeenumber'].isnull()\n",
    "df.loc[null_indices, 'employeenumber'] = range(int(max_value) + 1, int(max_value) + 1 + null_indices.sum())\n",
    "\n",
    "# Convertir la columna 'employeenumber' a tipo int nuevamente, en caso de que se haya convertido a float\n",
    "df['employeenumber'] = df['employeenumber'].astype(int)\n",
    "\n",
    "# Verificar el resultado\n",
    "print(df.head())"
   ]
  },
  {
   "cell_type": "markdown",
   "metadata": {},
   "source": [
    "Columna monthlyincome- Se concluye que los nulos se cambiarán por la Mediana ya que tenemos valores atípicos // discutir, es un 52%"
   ]
  },
  {
   "cell_type": "code",
   "execution_count": 61,
   "metadata": {},
   "outputs": [
    {
     "data": {
      "text/plain": [
       "0.5185185185185185"
      ]
     },
     "execution_count": 61,
     "metadata": {},
     "output_type": "execute_result"
    }
   ],
   "source": [
    "df['monthlyincome'].isnull().sum() / df.shape[0]"
   ]
  },
  {
   "cell_type": "code",
   "execution_count": 62,
   "metadata": {},
   "outputs": [
    {
     "data": {
      "text/plain": [
       "count       520.000000\n",
       "mean      64639.230769\n",
       "std       47966.341766\n",
       "min       10090.000000\n",
       "25%       29077.500000\n",
       "50%       48620.000000\n",
       "75%       77822.500000\n",
       "max      199990.000000\n",
       "Name: monthlyincome, dtype: float64"
      ]
     },
     "execution_count": 62,
     "metadata": {},
     "output_type": "execute_result"
    }
   ],
   "source": [
    "df['monthlyincome'].describe()"
   ]
  },
  {
   "cell_type": "code",
   "execution_count": 68,
   "metadata": {},
   "outputs": [
    {
     "name": "stdout",
     "output_type": "stream",
     "text": [
      "Después del 'fillna' la columna 'monthlyincome' tiene 0 nulos\n"
     ]
    },
    {
     "name": "stderr",
     "output_type": "stream",
     "text": [
      "/tmp/ipykernel_851/3362264239.py:3: FutureWarning: A value is trying to be set on a copy of a DataFrame or Series through chained assignment using an inplace method.\n",
      "The behavior will change in pandas 3.0. This inplace method will never work because the intermediate object on which we are setting values always behaves as a copy.\n",
      "\n",
      "For example, when doing 'df[col].method(value, inplace=True)', try using 'df.method({col: value}, inplace=True)' or df[col] = df[col].method(value) instead, to perform the operation inplace on the original object.\n",
      "\n",
      "\n",
      "  df['monthlyincome'].fillna(mediana_monthly, inplace = True)\n"
     ]
    }
   ],
   "source": [
    "# Calcular la mediana de la columna 'totalworkingyears' y rellenar los valores nulos\n",
    "mediana_monthly = df['monthlyincome'].median()\n",
    "df['monthlyincome'].fillna(mediana_monthly, inplace = True)\n",
    "\n",
    "# Comprobar los nulos para cada columna específica\n",
    "print(f\"Después del 'fillna' la columna 'monthlyincome' tiene {df['monthlyincome'].isnull().sum()} nulos\")"
   ]
  },
  {
   "cell_type": "code",
   "execution_count": 69,
   "metadata": {},
   "outputs": [],
   "source": [
    "# Guarda el DataFrame como un archivo CSV\n",
    "df.to_csv(\"df_sin_nulos.csv\", index = False)"
   ]
  }
 ],
 "metadata": {
  "kernelspec": {
   "display_name": "Python 3",
   "language": "python",
   "name": "python3"
  },
  "language_info": {
   "codemirror_mode": {
    "name": "ipython",
    "version": 3
   },
   "file_extension": ".py",
   "mimetype": "text/x-python",
   "name": "python",
   "nbconvert_exporter": "python",
   "pygments_lexer": "ipython3",
   "version": "3.9.7"
  }
 },
 "nbformat": 4,
 "nbformat_minor": 2
}
